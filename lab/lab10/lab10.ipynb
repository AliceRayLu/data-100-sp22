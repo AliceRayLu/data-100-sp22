{
 "cells": [
  {
   "cell_type": "code",
   "execution_count": 1,
   "id": "83caef97",
   "metadata": {
    "deletable": false,
    "editable": false
   },
   "outputs": [],
   "source": [
    "# Initialize Otter\n",
    "import otter\n",
    "grader = otter.Notebook(\"lab10.ipynb\")"
   ]
  },
  {
   "cell_type": "markdown",
   "id": "728f6d56",
   "metadata": {
    "nbgrader": {
     "grade": false,
     "grade_id": "title",
     "locked": true,
     "schema_version": 2,
     "solution": false
    }
   },
   "source": [
    "# Lab 10: SQL\n",
    "\n",
    "In this lab, we are going to practice viewing, sorting, grouping, and merging tables with SQL. We will explore two datasets:\n",
    "1. A \"minified\" version of the [Internet Movie Database](https://www.imdb.com/interfaces/) (IMDb). This SQLite database (~10MB) is a tiny sample of the much larger database (more than a few GBs). As a result, disclaimer that we may get wildly different results than if we use the whole database!\n",
    "\n",
    "1. The money donated during the 2016 election using the [Federal Election Commission (FEC)'s public records](https://www.fec.gov/data/). You will be connecting to a SQLite database containing the data. The data we will be working with in this lab is quite small (~16MB); however, it is a sample taken from a much larger database (more than a few GBs).\n",
    "\n",
    "\n",
    "### Due Date\n",
    "\n",
    "This assignment is due **Tuesday, April 5 at 11:59 pm PDT**.\n",
    "\n",
    "### Lab Walk-Through\n",
    "In addition to the lab notebook, we have also released a prerecorded walk-through video of the lab. We encourage you to reference this video as you work through the lab. Run the cell below to display the video."
   ]
  },
  {
   "cell_type": "code",
   "execution_count": null,
   "id": "cc85e3d6",
   "metadata": {},
   "outputs": [],
   "source": [
    "from IPython.display import YouTubeVideo\n",
    "YouTubeVideo(\"GxqpAEZP_kE\", list = 'PLQCcNQgUcDfpdBnhS-lPq8LPas48tkMgp', listType = 'playlist')"
   ]
  },
  {
   "cell_type": "markdown",
   "id": "af2eb815",
   "metadata": {},
   "source": [
    "### Collaboration Policy\n",
    "Data science is a collaborative activity. While you may talk with others about this assignment, we ask that you **write your solutions individually**. If you discuss the assignment with others, please **include their names** in the cell below."
   ]
  },
  {
   "cell_type": "markdown",
   "id": "2a6abdf8",
   "metadata": {},
   "source": [
    "**Collaborators:** *list names here*"
   ]
  },
  {
   "cell_type": "code",
   "execution_count": 2,
   "id": "ee4f066e",
   "metadata": {
    "nbgrader": {
     "grade": false,
     "grade_id": "setup",
     "locked": true,
     "schema_version": 2,
     "solution": false
    },
    "tags": []
   },
   "outputs": [
    {
     "name": "stdout",
     "output_type": "stream",
     "text": [
      "Archive:  data.zip\n",
      "  inflating: imdbmini.db             \n",
      "  inflating: fec_nyc.db              \n"
     ]
    }
   ],
   "source": [
    "# Run this cell to set up your notebook\n",
    "import numpy as np\n",
    "import pandas as pd\n",
    "import plotly.express as px\n",
    "import sqlalchemy\n",
    "from ds100_utils import fetch_and_cache\n",
    "from pathlib import Path\n",
    "%reload_ext sql\n",
    "\n",
    "# Unzip the data.\n",
    "!unzip -o data.zip"
   ]
  },
  {
   "cell_type": "markdown",
   "id": "707d8f4b",
   "metadata": {},
   "source": [
    "A note here:\n",
    "\n",
    "There may appear a warning: \"The sql module is not an IPython extension.\"\n",
    "\n",
    "Solution: run `pip install ipython-sql`, change `%load_ext sql` into `%reload_ext sql` and then run again."
   ]
  },
  {
   "cell_type": "markdown",
   "id": "c352346c",
   "metadata": {},
   "source": [
    "## SQL Query Syntax\n",
    "\n",
    "Throughout this lab, you will become familiar with the following syntax for the `SELECT` query:\n",
    "\n",
    "```sql\n",
    "SELECT [DISTINCT] \n",
    "    {* | expr [[AS] c_alias] \n",
    "    {,expr [[AS] c_alias] ...}}\n",
    "FROM tableref {, tableref}\n",
    "[[INNER | LEFT ] JOIN table_name\n",
    "    ON qualification_list]\n",
    "[WHERE search_condition]\n",
    "[GROUP BY colname {,colname...}]\n",
    "[HAVING search condition]\n",
    "[ORDER BY column_list]\n",
    "[LIMIT number]\n",
    "[OFFSET number of rows];\n",
    "```"
   ]
  },
  {
   "cell_type": "markdown",
   "id": "0a06ef1b",
   "metadata": {},
   "source": [
    "<br/><br/>\n",
    "<hr style=\"border: 5px solid #003262;\" />\n",
    "<hr style=\"border: 1px solid #fdb515;\" />\n",
    "\n",
    "# Part 0 [Tutorial]: Writing SQL in Jupyter Notebooks"
   ]
  },
  {
   "cell_type": "markdown",
   "id": "e976cf21",
   "metadata": {},
   "source": [
    "## 1. `%%sql` cell magic\n",
    "\n",
    "In lecture, we used the `sql` extension to call **`%%sql` cell magic**, which enables us to connect to SQL databses and issue SQL commands within Jupyter Notebooks.\n",
    "\n",
    "Run the below cell to connect to a mini IMDb database."
   ]
  },
  {
   "cell_type": "code",
   "execution_count": 3,
   "id": "5c1aaf23",
   "metadata": {},
   "outputs": [],
   "source": [
    "%sql sqlite:///imdbmini.db"
   ]
  },
  {
   "cell_type": "markdown",
   "id": "259cc420",
   "metadata": {},
   "source": [
    "<br/>\n",
    "\n",
    "Above, prefixing our single-line command with `%sql` means that the entire line will be treated as a SQL command (this is called \"line magic\"). In this class we will most often write multi-line SQL, meaning we need \"cell magic\", where the first line has `%%sql` (note the double `%` operator).\n",
    "\n",
    "The database `imdbmini.db` includes several tables, one of which is `Title`. Running the below cell will return first 5 lines of that table. Note that `%%sql` is on its own line.\n",
    "\n",
    "We've also included syntax for single-line comments, which are surrounded by `--`."
   ]
  },
  {
   "cell_type": "code",
   "execution_count": 4,
   "id": "2adffc03",
   "metadata": {},
   "outputs": [
    {
     "name": "stdout",
     "output_type": "stream",
     "text": [
      " * sqlite:///imdbmini.db\n",
      "Done.\n"
     ]
    },
    {
     "data": {
      "text/html": [
       "<table>\n",
       "    <thead>\n",
       "        <tr>\n",
       "            <th>nconst</th>\n",
       "            <th>primaryName</th>\n",
       "            <th>birthYear</th>\n",
       "            <th>deathYear</th>\n",
       "            <th>primaryProfession</th>\n",
       "        </tr>\n",
       "    </thead>\n",
       "    <tbody>\n",
       "        <tr>\n",
       "            <td>1</td>\n",
       "            <td>Fred Astaire</td>\n",
       "            <td>1899</td>\n",
       "            <td>1987</td>\n",
       "            <td>soundtrack,actor,miscellaneous</td>\n",
       "        </tr>\n",
       "        <tr>\n",
       "            <td>2</td>\n",
       "            <td>Lauren Bacall</td>\n",
       "            <td>1924</td>\n",
       "            <td>2014</td>\n",
       "            <td>actress,soundtrack</td>\n",
       "        </tr>\n",
       "        <tr>\n",
       "            <td>3</td>\n",
       "            <td>Brigitte Bardot</td>\n",
       "            <td>1934</td>\n",
       "            <td>None</td>\n",
       "            <td>actress,soundtrack,music_department</td>\n",
       "        </tr>\n",
       "        <tr>\n",
       "            <td>4</td>\n",
       "            <td>John Belushi</td>\n",
       "            <td>1949</td>\n",
       "            <td>1982</td>\n",
       "            <td>actor,soundtrack,writer</td>\n",
       "        </tr>\n",
       "        <tr>\n",
       "            <td>5</td>\n",
       "            <td>Ingmar Bergman</td>\n",
       "            <td>1918</td>\n",
       "            <td>2007</td>\n",
       "            <td>writer,director,actor</td>\n",
       "        </tr>\n",
       "    </tbody>\n",
       "</table>"
      ],
      "text/plain": [
       "[(1, 'Fred Astaire', '1899', '1987', 'soundtrack,actor,miscellaneous'),\n",
       " (2, 'Lauren Bacall', '1924', '2014', 'actress,soundtrack'),\n",
       " (3, 'Brigitte Bardot', '1934', None, 'actress,soundtrack,music_department'),\n",
       " (4, 'John Belushi', '1949', '1982', 'actor,soundtrack,writer'),\n",
       " (5, 'Ingmar Bergman', '1918', '2007', 'writer,director,actor')]"
      ]
     },
     "execution_count": 4,
     "metadata": {},
     "output_type": "execute_result"
    }
   ],
   "source": [
    "%%sql\n",
    "/*\n",
    " * This is a\n",
    " * multi-line comment.\n",
    " */\n",
    "-- This is a single-line/inline comment. --\n",
    "SELECT *\n",
    "FROM Name\n",
    "LIMIT 5;"
   ]
  },
  {
   "cell_type": "markdown",
   "id": "ffb57754",
   "metadata": {},
   "source": [
    "<br/><br/>\n",
    "\n",
    "### 2. The Pandas command `pd.read_sql`"
   ]
  },
  {
   "cell_type": "markdown",
   "id": "45f0ae64",
   "metadata": {},
   "source": [
    "As of 2022, the `%sql` magic for Jupyter Notebooks is still in development (check out its [GitHub](https://github.com/catherinedevlin/ipython-sql). It is still missing many features that would justify real-world use with Python. In particular, its returned tables are *not* Pandas dataframes (for example, the query result from the above cell is missing an index).\n",
    "\n",
    "The rest of this section describes how data scientists use SQL and Python in practice, using the Pandas command `pd.read_sql` ([documentation](https://pandas.pydata.org/docs/reference/api/pandas.read_sql.html)). **You will see both `%sql` magic and `pd.read_sql` in this course**. \n"
   ]
  },
  {
   "cell_type": "markdown",
   "id": "9b42a577",
   "metadata": {},
   "source": [
    "The below cell connects to the same database using the SQLAlchemy Python library, which can connect to several different database management systems, including sqlite3, MySQL, PostgreSQL, and Oracle. The library also supports an advanced feature for generating queries called an [object relational mapper](https://docs.sqlalchemy.org/en/latest/orm/tutorial.html) or ORM, which we won't discuss in this course but is quite useful for application development."
   ]
  },
  {
   "cell_type": "code",
   "execution_count": 5,
   "id": "dbd22ba0",
   "metadata": {},
   "outputs": [],
   "source": [
    "# important!!! run this cell\n",
    "import sqlalchemy\n",
    "\n",
    "# create a SQL Alchemy connection to the database\n",
    "engine = sqlalchemy.create_engine(\"sqlite:///imdbmini.db\")\n",
    "connection = engine.connect()"
   ]
  },
  {
   "cell_type": "markdown",
   "id": "3fa601f7",
   "metadata": {},
   "source": [
    "With the SQLAlchemy object `connection`, we can then call `pd.read_sql` which takes in a `query` **string**. Note the `\"\"\"` to define our multi-line string, which allows us to have a query span multiple lines. The resulting `df` DataFrame stores the results of the same SQL query from the previous section."
   ]
  },
  {
   "cell_type": "code",
   "execution_count": 6,
   "id": "30b18789",
   "metadata": {},
   "outputs": [
    {
     "data": {
      "text/html": [
       "<div>\n",
       "<style scoped>\n",
       "    .dataframe tbody tr th:only-of-type {\n",
       "        vertical-align: middle;\n",
       "    }\n",
       "\n",
       "    .dataframe tbody tr th {\n",
       "        vertical-align: top;\n",
       "    }\n",
       "\n",
       "    .dataframe thead th {\n",
       "        text-align: right;\n",
       "    }\n",
       "</style>\n",
       "<table border=\"1\" class=\"dataframe\">\n",
       "  <thead>\n",
       "    <tr style=\"text-align: right;\">\n",
       "      <th></th>\n",
       "      <th>tconst</th>\n",
       "      <th>titleType</th>\n",
       "      <th>primaryTitle</th>\n",
       "      <th>originalTitle</th>\n",
       "      <th>isAdult</th>\n",
       "      <th>startYear</th>\n",
       "      <th>endYear</th>\n",
       "      <th>runtimeMinutes</th>\n",
       "      <th>genres</th>\n",
       "    </tr>\n",
       "  </thead>\n",
       "  <tbody>\n",
       "    <tr>\n",
       "      <th>0</th>\n",
       "      <td>417</td>\n",
       "      <td>short</td>\n",
       "      <td>A Trip to the Moon</td>\n",
       "      <td>Le voyage dans la lune</td>\n",
       "      <td>0</td>\n",
       "      <td>1902</td>\n",
       "      <td>None</td>\n",
       "      <td>13</td>\n",
       "      <td>Action,Adventure,Comedy</td>\n",
       "    </tr>\n",
       "    <tr>\n",
       "      <th>1</th>\n",
       "      <td>4972</td>\n",
       "      <td>movie</td>\n",
       "      <td>The Birth of a Nation</td>\n",
       "      <td>The Birth of a Nation</td>\n",
       "      <td>0</td>\n",
       "      <td>1915</td>\n",
       "      <td>None</td>\n",
       "      <td>195</td>\n",
       "      <td>Drama,History,War</td>\n",
       "    </tr>\n",
       "    <tr>\n",
       "      <th>2</th>\n",
       "      <td>10323</td>\n",
       "      <td>movie</td>\n",
       "      <td>The Cabinet of Dr. Caligari</td>\n",
       "      <td>Das Cabinet des Dr. Caligari</td>\n",
       "      <td>0</td>\n",
       "      <td>1920</td>\n",
       "      <td>None</td>\n",
       "      <td>76</td>\n",
       "      <td>Fantasy,Horror,Mystery</td>\n",
       "    </tr>\n",
       "    <tr>\n",
       "      <th>3</th>\n",
       "      <td>12349</td>\n",
       "      <td>movie</td>\n",
       "      <td>The Kid</td>\n",
       "      <td>The Kid</td>\n",
       "      <td>0</td>\n",
       "      <td>1921</td>\n",
       "      <td>None</td>\n",
       "      <td>68</td>\n",
       "      <td>Comedy,Drama,Family</td>\n",
       "    </tr>\n",
       "    <tr>\n",
       "      <th>4</th>\n",
       "      <td>13442</td>\n",
       "      <td>movie</td>\n",
       "      <td>Nosferatu</td>\n",
       "      <td>Nosferatu, eine Symphonie des Grauens</td>\n",
       "      <td>0</td>\n",
       "      <td>1922</td>\n",
       "      <td>None</td>\n",
       "      <td>94</td>\n",
       "      <td>Fantasy,Horror</td>\n",
       "    </tr>\n",
       "  </tbody>\n",
       "</table>\n",
       "</div>"
      ],
      "text/plain": [
       "   tconst titleType                 primaryTitle  \\\n",
       "0     417     short           A Trip to the Moon   \n",
       "1    4972     movie        The Birth of a Nation   \n",
       "2   10323     movie  The Cabinet of Dr. Caligari   \n",
       "3   12349     movie                      The Kid   \n",
       "4   13442     movie                    Nosferatu   \n",
       "\n",
       "                           originalTitle isAdult startYear endYear  \\\n",
       "0                 Le voyage dans la lune       0      1902    None   \n",
       "1                  The Birth of a Nation       0      1915    None   \n",
       "2           Das Cabinet des Dr. Caligari       0      1920    None   \n",
       "3                                The Kid       0      1921    None   \n",
       "4  Nosferatu, eine Symphonie des Grauens       0      1922    None   \n",
       "\n",
       "  runtimeMinutes                   genres  \n",
       "0             13  Action,Adventure,Comedy  \n",
       "1            195        Drama,History,War  \n",
       "2             76   Fantasy,Horror,Mystery  \n",
       "3             68      Comedy,Drama,Family  \n",
       "4             94           Fantasy,Horror  "
      ]
     },
     "execution_count": 6,
     "metadata": {},
     "output_type": "execute_result"
    }
   ],
   "source": [
    "# just run this cell\n",
    "from sqlalchemy import text\n",
    "query = \"\"\"\n",
    "SELECT *\n",
    "FROM Title\n",
    "LIMIT 5;\n",
    "\"\"\"\n",
    "\n",
    "df = pd.read_sql(text(query), connection)\n",
    "df"
   ]
  },
  {
   "cell_type": "markdown",
   "id": "ab49e787",
   "metadata": {},
   "source": [
    "Note:\n",
    "\n",
    "Error may accur as *'OptionEngine' object has no attribute 'execute'* and *'str' object has no attribute '_execute_on_connection'*\n",
    "\n",
    "Change the code as above."
   ]
  },
  {
   "cell_type": "markdown",
   "id": "4c03fada",
   "metadata": {},
   "source": [
    "<br/>\n",
    "\n",
    "**Long error messages**: Given that the SQL query is now in the string, the errors become more unintelligible. Consider the below (incorrect) query, which has a semicolon in the wrong place."
   ]
  },
  {
   "cell_type": "code",
   "execution_count": 8,
   "id": "4891ae59",
   "metadata": {},
   "outputs": [],
   "source": [
    "# uncomment the below code and check out the error\n",
    "\n",
    "# query = \"\"\"\n",
    "# SELECT *\n",
    "# FROM Title;\n",
    "# LIMIT 5\n",
    "# \"\"\"\n",
    "# pd.read_sql(query, engine)"
   ]
  },
  {
   "cell_type": "markdown",
   "id": "a6580db3",
   "metadata": {},
   "source": [
    "<br/>\n",
    "\n",
    "Now that's an unruly error message!"
   ]
  },
  {
   "cell_type": "markdown",
   "id": "b8e82746",
   "metadata": {
    "tags": []
   },
   "source": [
    "<br/><br/>\n",
    "\n",
    "### 3. A suggested workflow for writing SQL in Jupyter Notebooks\n",
    "\n",
    "Which approach is better, `%sql` magic or `pd.read_sql`?\n",
    "\n",
    "The SQL database generally contains much more data than what you would analyze in detail. As a Python-fluent data scientist, you will often query SQL databases to perform initial exploratory data analysis, a subset of which you load into Python for further processing.\n",
    "\n",
    "In practice, you would likely use a combination of the two approaches. First, you'd try out some SQL queries with `%sql` magic to get an interesting subset of data. Then, you'd copy over the query into a `pd.read_sql` command for visualization, modeling, and export with Pandas, sklearn, and other Python libraries.\n",
    "\n",
    "For SQL assignments in this course, to minimize unruly error messages while maximizing Python compatibility, we suggest the following \"sandboxed\" workflow:\n",
    "1. Create a `%%sql` magic cell **below** the answer cell. You can copy in the below code:\n",
    "\n",
    "    ```\n",
    "    %% sql\n",
    "    -- This is a comment. Put your code here... --\n",
    "    ```\n",
    "<br/>\n",
    "\n",
    "1.  Work on the SQL query in the `%%sql` cell; e.g., `SELECT ... ;`\n",
    "1. Then, once you're satisfied with your SQL query, copy it into the multi-string query in the answer cell (the one that contains the `pd.read_sql` call).\n",
    "\n",
    "You don't have to follow the above workflow to get full credit on assignments, but we suggest it to reduce debugging headaches. We've created the scratchwork `%%sql` cells for you in this assignment, but **do not** add cells between this `%%sql` cell and the Python cell right below it. It will cause errors when we run the autograder, and it will sometimes cause a failure to generate the PDF file.\n"
   ]
  },
  {
   "cell_type": "markdown",
   "id": "6eefbb78",
   "metadata": {},
   "source": [
    "<br/><br/>\n",
    "<hr style=\"border: 5px solid #003262;\" />\n",
    "<hr style=\"border: 1px solid #fdb515;\" />\n",
    "\n",
    "# Part 1: The IMDb (mini) Dataset\n",
    "\n",
    "Let's explore a miniature version of the [IMDb Dataset](https://www.imdb.com/interfaces/). This is the same dataset that we will use for the upcoming homework.\n",
    "\n",
    "\n",
    "Let's load in the database in two ways (using both Python and cell magic) so that we can flexibly explore the database."
   ]
  },
  {
   "cell_type": "code",
   "execution_count": 7,
   "id": "79baa1d3",
   "metadata": {},
   "outputs": [],
   "source": [
    "engine = sqlalchemy.create_engine(\"sqlite:///imdbmini.db\")\n",
    "connection = engine.connect()"
   ]
  },
  {
   "cell_type": "code",
   "execution_count": 8,
   "id": "33282e0a",
   "metadata": {},
   "outputs": [],
   "source": [
    "%sql sqlite:///imdbmini.db"
   ]
  },
  {
   "cell_type": "code",
   "execution_count": 9,
   "id": "892a490f",
   "metadata": {},
   "outputs": [
    {
     "name": "stdout",
     "output_type": "stream",
     "text": [
      " * sqlite:///imdbmini.db\n",
      "Done.\n"
     ]
    },
    {
     "data": {
      "text/html": [
       "<table>\n",
       "    <thead>\n",
       "        <tr>\n",
       "            <th>type</th>\n",
       "            <th>name</th>\n",
       "            <th>tbl_name</th>\n",
       "            <th>rootpage</th>\n",
       "            <th>sql</th>\n",
       "        </tr>\n",
       "    </thead>\n",
       "    <tbody>\n",
       "        <tr>\n",
       "            <td>table</td>\n",
       "            <td>Title</td>\n",
       "            <td>Title</td>\n",
       "            <td>2</td>\n",
       "            <td>CREATE TABLE &quot;Title&quot; (<br>&quot;tconst&quot; INTEGER,<br>  &quot;titleType&quot; TEXT,<br>  &quot;primaryTitle&quot; TEXT,<br>  &quot;originalTitle&quot; TEXT,<br>  &quot;isAdult&quot; TEXT,<br>  &quot;startYear&quot; TEXT,<br>  &quot;endYear&quot; TEXT,<br>  &quot;runtimeMinutes&quot; TEXT,<br>  &quot;genres&quot; TEXT<br>)</td>\n",
       "        </tr>\n",
       "        <tr>\n",
       "            <td>table</td>\n",
       "            <td>Name</td>\n",
       "            <td>Name</td>\n",
       "            <td>12</td>\n",
       "            <td>CREATE TABLE &quot;Name&quot; (<br>&quot;nconst&quot; INTEGER,<br>  &quot;primaryName&quot; TEXT,<br>  &quot;birthYear&quot; TEXT,<br>  &quot;deathYear&quot; TEXT,<br>  &quot;primaryProfession&quot; TEXT<br>)</td>\n",
       "        </tr>\n",
       "        <tr>\n",
       "            <td>table</td>\n",
       "            <td>Role</td>\n",
       "            <td>Role</td>\n",
       "            <td>70</td>\n",
       "            <td>CREATE TABLE &quot;Role&quot; (<br>tconst INTEGER,<br>ordering TEXT,<br>nconst INTEGER,<br>category TEXT,<br>job TEXT,<br>characters TEXT<br>)</td>\n",
       "        </tr>\n",
       "        <tr>\n",
       "            <td>table</td>\n",
       "            <td>Rating</td>\n",
       "            <td>Rating</td>\n",
       "            <td>41</td>\n",
       "            <td>CREATE TABLE &quot;Rating&quot; (<br>tconst INTEGER,<br>averageRating TEXT,<br>numVotes TEXT<br>)</td>\n",
       "        </tr>\n",
       "    </tbody>\n",
       "</table>"
      ],
      "text/plain": [
       "[('table', 'Title', 'Title', 2, 'CREATE TABLE \"Title\" (\\n\"tconst\" INTEGER,\\n  \"titleType\" TEXT,\\n  \"primaryTitle\" TEXT,\\n  \"originalTitle\" TEXT,\\n  \"isAdult\" TEXT,\\n  \"startYear\" TEXT,\\n  \"endYear\" TEXT,\\n  \"runtimeMinutes\" TEXT,\\n  \"genres\" TEXT\\n)'),\n",
       " ('table', 'Name', 'Name', 12, 'CREATE TABLE \"Name\" (\\n\"nconst\" INTEGER,\\n  \"primaryName\" TEXT,\\n  \"birthYear\" TEXT,\\n  \"deathYear\" TEXT,\\n  \"primaryProfession\" TEXT\\n)'),\n",
       " ('table', 'Role', 'Role', 70, 'CREATE TABLE \"Role\" (\\ntconst INTEGER,\\nordering TEXT,\\nnconst INTEGER,\\ncategory TEXT,\\njob TEXT,\\ncharacters TEXT\\n)'),\n",
       " ('table', 'Rating', 'Rating', 41, 'CREATE TABLE \"Rating\" (\\ntconst INTEGER,\\naverageRating TEXT,\\nnumVotes TEXT\\n)')]"
      ]
     },
     "execution_count": 9,
     "metadata": {},
     "output_type": "execute_result"
    }
   ],
   "source": [
    "%%sql\n",
    "SELECT * FROM sqlite_master WHERE type='table';"
   ]
  },
  {
   "cell_type": "markdown",
   "id": "be5c716c",
   "metadata": {},
   "source": [
    "From running the above cell, we see the database has 4 tables: `Name`, `Role`, `Rating`, and `Title`.\n",
    "\n",
    "<details>\n",
    "    <summary>[<b>Click to Expand</b>] See descriptions of each table's schema.</summary>\n",
    "    \n",
    "**`Name`** – Contains the following information for names of people.\n",
    "    \n",
    "- nconst (text) - alphanumeric unique identifier of the name/person\n",
    "- primaryName (text)– name by which the person is most often credited\n",
    "- birthYear (integer) – in YYYY format\n",
    "- deathYear (integer) – in YYYY format\n",
    "    \n",
    "    \n",
    "**`Role`** – Contains the principal cast/crew for titles.\n",
    "    \n",
    "- tconst (text) - alphanumeric unique identifier of the title\n",
    "- ordering (integer) – a number to uniquely identify rows for a given tconst\n",
    "- nconst (text) - alphanumeric unique identifier of the name/person\n",
    "- category (text) - the category of job that person was in\n",
    "- characters (text) - the name of the character played if applicable, else '\\\\N'\n",
    "    \n",
    "**`Rating`** – Contains the IMDb rating and votes information for titles.\n",
    "    \n",
    "- tconst (text) - alphanumeric unique identifier of the title\n",
    "- averageRating (real) – weighted average of all the individual user ratings\n",
    "- numVotes (integer) - number of votes (i.e., ratings) the title has received\n",
    "    \n",
    "**`Title`** - Contains the following information for titles.\n",
    "    \n",
    "- tconst (text) - alphanumeric unique identifier of the title\n",
    "- titleType (text) -  the type/format of the title\n",
    "- primaryTitle (text) -  the more popular title / the title used by the filmmakers on promotional materials at the point of release\n",
    "- isAdult (text) - 0: non-adult title; 1: adult title\n",
    "- year (YYYY) – represents the release year of a title.\n",
    "- runtimeMinutes (integer)  – primary runtime of the title, in minutes\n",
    "    \n",
    "</details>\n",
    "\n",
    "<br/><br/>\n",
    "From the above descriptions, we can conclude the following:\n",
    "* `Name.nconst` and `Title.tconst` are primary keys of the `Name` and `Title` tables, respectively.\n",
    "* that `Role.nconst` and `Role.tconst` are **foreign keys** that point to `Name.nconst` and `Title.tconst`, respectively."
   ]
  },
  {
   "cell_type": "markdown",
   "id": "37880f8d",
   "metadata": {},
   "source": [
    "<br/><br/>\n",
    "<hr style=\"border: 1px solid #fdb515;\" />\n",
    "\n",
    "## Question 1\n",
    "\n",
    "What are the different kinds of `titleType`s included in the `Title` table? Write a query to find out all the unique `titleType`s of films using the `DISTINCT` keyword.  (**You may not use `GROUP BY`.**)"
   ]
  },
  {
   "cell_type": "code",
   "execution_count": 10,
   "id": "1ed97812",
   "metadata": {},
   "outputs": [
    {
     "name": "stdout",
     "output_type": "stream",
     "text": [
      " * sqlite:///imdbmini.db\n",
      "Done.\n"
     ]
    },
    {
     "data": {
      "text/html": [
       "<table>\n",
       "    <thead>\n",
       "        <tr>\n",
       "            <th>titleType</th>\n",
       "        </tr>\n",
       "    </thead>\n",
       "    <tbody>\n",
       "        <tr>\n",
       "            <td>short</td>\n",
       "        </tr>\n",
       "        <tr>\n",
       "            <td>movie</td>\n",
       "        </tr>\n",
       "        <tr>\n",
       "            <td>tvSeries</td>\n",
       "        </tr>\n",
       "        <tr>\n",
       "            <td>tvMovie</td>\n",
       "        </tr>\n",
       "        <tr>\n",
       "            <td>tvMiniSeries</td>\n",
       "        </tr>\n",
       "        <tr>\n",
       "            <td>video</td>\n",
       "        </tr>\n",
       "        <tr>\n",
       "            <td>videoGame</td>\n",
       "        </tr>\n",
       "        <tr>\n",
       "            <td>tvEpisode</td>\n",
       "        </tr>\n",
       "        <tr>\n",
       "            <td>tvSpecial</td>\n",
       "        </tr>\n",
       "    </tbody>\n",
       "</table>"
      ],
      "text/plain": [
       "[('short',),\n",
       " ('movie',),\n",
       " ('tvSeries',),\n",
       " ('tvMovie',),\n",
       " ('tvMiniSeries',),\n",
       " ('video',),\n",
       " ('videoGame',),\n",
       " ('tvEpisode',),\n",
       " ('tvSpecial',)]"
      ]
     },
     "execution_count": 10,
     "metadata": {},
     "output_type": "execute_result"
    }
   ],
   "source": [
    "%%sql\n",
    "/*\n",
    " * Code in this scratchwork cell is __not graded.__\n",
    " * Copy over any SQL queries you write here into the below Python cell.\n",
    " * Do __not__ insert any new cells in between the SQL/Python cells!\n",
    " * Doing so may break the autograder.\n",
    " */\n",
    "-- Write below this comment. --\n",
    "SELECT DISTINCT titleType\n",
    "FROM Title;"
   ]
  },
  {
   "cell_type": "code",
   "execution_count": 12,
   "id": "4b7a1feb",
   "metadata": {},
   "outputs": [
    {
     "data": {
      "text/html": [
       "<div>\n",
       "<style scoped>\n",
       "    .dataframe tbody tr th:only-of-type {\n",
       "        vertical-align: middle;\n",
       "    }\n",
       "\n",
       "    .dataframe tbody tr th {\n",
       "        vertical-align: top;\n",
       "    }\n",
       "\n",
       "    .dataframe thead th {\n",
       "        text-align: right;\n",
       "    }\n",
       "</style>\n",
       "<table border=\"1\" class=\"dataframe\">\n",
       "  <thead>\n",
       "    <tr style=\"text-align: right;\">\n",
       "      <th></th>\n",
       "      <th>titleType</th>\n",
       "    </tr>\n",
       "  </thead>\n",
       "  <tbody>\n",
       "    <tr>\n",
       "      <th>0</th>\n",
       "      <td>short</td>\n",
       "    </tr>\n",
       "    <tr>\n",
       "      <th>1</th>\n",
       "      <td>movie</td>\n",
       "    </tr>\n",
       "    <tr>\n",
       "      <th>2</th>\n",
       "      <td>tvSeries</td>\n",
       "    </tr>\n",
       "    <tr>\n",
       "      <th>3</th>\n",
       "      <td>tvMovie</td>\n",
       "    </tr>\n",
       "    <tr>\n",
       "      <th>4</th>\n",
       "      <td>tvMiniSeries</td>\n",
       "    </tr>\n",
       "    <tr>\n",
       "      <th>5</th>\n",
       "      <td>video</td>\n",
       "    </tr>\n",
       "    <tr>\n",
       "      <th>6</th>\n",
       "      <td>videoGame</td>\n",
       "    </tr>\n",
       "    <tr>\n",
       "      <th>7</th>\n",
       "      <td>tvEpisode</td>\n",
       "    </tr>\n",
       "    <tr>\n",
       "      <th>8</th>\n",
       "      <td>tvSpecial</td>\n",
       "    </tr>\n",
       "  </tbody>\n",
       "</table>\n",
       "</div>"
      ],
      "text/plain": [
       "      titleType\n",
       "0         short\n",
       "1         movie\n",
       "2      tvSeries\n",
       "3       tvMovie\n",
       "4  tvMiniSeries\n",
       "5         video\n",
       "6     videoGame\n",
       "7     tvEpisode\n",
       "8     tvSpecial"
      ]
     },
     "execution_count": 12,
     "metadata": {},
     "output_type": "execute_result"
    }
   ],
   "source": [
    "query_q1 = \"\"\"\n",
    "SELECT DISTINCT titleType\n",
    "FROM Title;\n",
    "\"\"\"\n",
    "\n",
    "res_q1 = pd.read_sql(text(query_q1), connection)\n",
    "res_q1"
   ]
  },
  {
   "cell_type": "code",
   "execution_count": 14,
   "id": "314a5059",
   "metadata": {
    "deletable": false,
    "editable": false
   },
   "outputs": [
    {
     "data": {
      "text/html": [
       "<p><strong><pre style='display: inline;'>q1</pre></strong> passed! 🍀</p>"
      ],
      "text/plain": [
       "q1 results: All test cases passed!"
      ]
     },
     "execution_count": 14,
     "metadata": {},
     "output_type": "execute_result"
    }
   ],
   "source": [
    "grader.check(\"q1\")"
   ]
  },
  {
   "cell_type": "markdown",
   "id": "a13079c4",
   "metadata": {
    "tags": []
   },
   "source": [
    "---\n",
    "\n",
    "## Question 2\n",
    "\n",
    "Before we proceed we want to get a better picture of the kinds of jobs that exist.  To do this examine the `Role` table by computing the number of records with each job `category`.  Present the results in descending order by the total counts.\n",
    "\n",
    "The top of your table should look like this (however, you should have more rows):\n",
    "\n",
    "| |category|total|\n",
    "|-----|-----|-----|\n",
    "|**0**|actor|21665|\n",
    "|**1**|writer|13830|\n",
    "|**2**|...|...|"
   ]
  },
  {
   "cell_type": "code",
   "execution_count": 20,
   "id": "b0237d9f",
   "metadata": {},
   "outputs": [
    {
     "name": "stdout",
     "output_type": "stream",
     "text": [
      " * sqlite:///imdbmini.db\n",
      "Done.\n"
     ]
    },
    {
     "data": {
      "text/html": [
       "<table>\n",
       "    <thead>\n",
       "        <tr>\n",
       "            <th>category</th>\n",
       "            <th>total</th>\n",
       "        </tr>\n",
       "    </thead>\n",
       "    <tbody>\n",
       "        <tr>\n",
       "            <td>actor</td>\n",
       "            <td>21665</td>\n",
       "        </tr>\n",
       "        <tr>\n",
       "            <td>writer</td>\n",
       "            <td>13830</td>\n",
       "        </tr>\n",
       "        <tr>\n",
       "            <td>actress</td>\n",
       "            <td>12175</td>\n",
       "        </tr>\n",
       "        <tr>\n",
       "            <td>producer</td>\n",
       "            <td>11028</td>\n",
       "        </tr>\n",
       "        <tr>\n",
       "            <td>director</td>\n",
       "            <td>6995</td>\n",
       "        </tr>\n",
       "        <tr>\n",
       "            <td>composer</td>\n",
       "            <td>4123</td>\n",
       "        </tr>\n",
       "        <tr>\n",
       "            <td>cinematographer</td>\n",
       "            <td>2747</td>\n",
       "        </tr>\n",
       "        <tr>\n",
       "            <td>editor</td>\n",
       "            <td>1558</td>\n",
       "        </tr>\n",
       "        <tr>\n",
       "            <td>self</td>\n",
       "            <td>623</td>\n",
       "        </tr>\n",
       "        <tr>\n",
       "            <td>production_designer</td>\n",
       "            <td>410</td>\n",
       "        </tr>\n",
       "        <tr>\n",
       "            <td>archive_footage</td>\n",
       "            <td>66</td>\n",
       "        </tr>\n",
       "        <tr>\n",
       "            <td>archive_sound</td>\n",
       "            <td>6</td>\n",
       "        </tr>\n",
       "    </tbody>\n",
       "</table>"
      ],
      "text/plain": [
       "[('actor', 21665),\n",
       " ('writer', 13830),\n",
       " ('actress', 12175),\n",
       " ('producer', 11028),\n",
       " ('director', 6995),\n",
       " ('composer', 4123),\n",
       " ('cinematographer', 2747),\n",
       " ('editor', 1558),\n",
       " ('self', 623),\n",
       " ('production_designer', 410),\n",
       " ('archive_footage', 66),\n",
       " ('archive_sound', 6)]"
      ]
     },
     "execution_count": 20,
     "metadata": {},
     "output_type": "execute_result"
    }
   ],
   "source": [
    "%%sql\n",
    "/*\n",
    " * Code in this scratchwork cell is __not graded.__\n",
    " * Copy over any SQL queries you write here into the below Python cell.\n",
    " * Do __not__ insert any new cells in between the SQL/Python cells!\n",
    " * Doing so may break the autograder.\n",
    " */\n",
    "-- Write below this comment. --\n",
    "SELECT category,COUNT(*) AS total\n",
    "FROM Role\n",
    "GROUP BY category\n",
    "ORDER BY total DESC;"
   ]
  },
  {
   "cell_type": "code",
   "execution_count": 21,
   "id": "81aef42e",
   "metadata": {},
   "outputs": [
    {
     "data": {
      "text/html": [
       "<div>\n",
       "<style scoped>\n",
       "    .dataframe tbody tr th:only-of-type {\n",
       "        vertical-align: middle;\n",
       "    }\n",
       "\n",
       "    .dataframe tbody tr th {\n",
       "        vertical-align: top;\n",
       "    }\n",
       "\n",
       "    .dataframe thead th {\n",
       "        text-align: right;\n",
       "    }\n",
       "</style>\n",
       "<table border=\"1\" class=\"dataframe\">\n",
       "  <thead>\n",
       "    <tr style=\"text-align: right;\">\n",
       "      <th></th>\n",
       "      <th>category</th>\n",
       "      <th>total</th>\n",
       "    </tr>\n",
       "  </thead>\n",
       "  <tbody>\n",
       "    <tr>\n",
       "      <th>0</th>\n",
       "      <td>actor</td>\n",
       "      <td>21665</td>\n",
       "    </tr>\n",
       "    <tr>\n",
       "      <th>1</th>\n",
       "      <td>writer</td>\n",
       "      <td>13830</td>\n",
       "    </tr>\n",
       "    <tr>\n",
       "      <th>2</th>\n",
       "      <td>actress</td>\n",
       "      <td>12175</td>\n",
       "    </tr>\n",
       "    <tr>\n",
       "      <th>3</th>\n",
       "      <td>producer</td>\n",
       "      <td>11028</td>\n",
       "    </tr>\n",
       "    <tr>\n",
       "      <th>4</th>\n",
       "      <td>director</td>\n",
       "      <td>6995</td>\n",
       "    </tr>\n",
       "    <tr>\n",
       "      <th>5</th>\n",
       "      <td>composer</td>\n",
       "      <td>4123</td>\n",
       "    </tr>\n",
       "    <tr>\n",
       "      <th>6</th>\n",
       "      <td>cinematographer</td>\n",
       "      <td>2747</td>\n",
       "    </tr>\n",
       "    <tr>\n",
       "      <th>7</th>\n",
       "      <td>editor</td>\n",
       "      <td>1558</td>\n",
       "    </tr>\n",
       "    <tr>\n",
       "      <th>8</th>\n",
       "      <td>self</td>\n",
       "      <td>623</td>\n",
       "    </tr>\n",
       "    <tr>\n",
       "      <th>9</th>\n",
       "      <td>production_designer</td>\n",
       "      <td>410</td>\n",
       "    </tr>\n",
       "    <tr>\n",
       "      <th>10</th>\n",
       "      <td>archive_footage</td>\n",
       "      <td>66</td>\n",
       "    </tr>\n",
       "    <tr>\n",
       "      <th>11</th>\n",
       "      <td>archive_sound</td>\n",
       "      <td>6</td>\n",
       "    </tr>\n",
       "  </tbody>\n",
       "</table>\n",
       "</div>"
      ],
      "text/plain": [
       "               category  total\n",
       "0                 actor  21665\n",
       "1                writer  13830\n",
       "2               actress  12175\n",
       "3              producer  11028\n",
       "4              director   6995\n",
       "5              composer   4123\n",
       "6       cinematographer   2747\n",
       "7                editor   1558\n",
       "8                  self    623\n",
       "9   production_designer    410\n",
       "10      archive_footage     66\n",
       "11        archive_sound      6"
      ]
     },
     "execution_count": 21,
     "metadata": {},
     "output_type": "execute_result"
    }
   ],
   "source": [
    "query_q2 = \"\"\"\n",
    "SELECT category,COUNT(*) as total\n",
    "FROM Role\n",
    "GROUP BY category\n",
    "ORDER BY total DESC;\n",
    "\"\"\"\n",
    "\n",
    "res_q2 = pd.read_sql(text(query_q2), connection)\n",
    "res_q2"
   ]
  },
  {
   "cell_type": "code",
   "execution_count": 22,
   "id": "b666878f",
   "metadata": {
    "deletable": false,
    "editable": false
   },
   "outputs": [
    {
     "data": {
      "text/html": [
       "<p><strong><pre style='display: inline;'>q2</pre></strong> passed! 🚀</p>"
      ],
      "text/plain": [
       "q2 results: All test cases passed!"
      ]
     },
     "execution_count": 22,
     "metadata": {},
     "output_type": "execute_result"
    }
   ],
   "source": [
    "grader.check(\"q2\")"
   ]
  },
  {
   "cell_type": "markdown",
   "id": "4dc7074e",
   "metadata": {},
   "source": [
    "<br/>\n",
    "If we computed the results correctly we should see a nice horizontal bar chart of the counts per category below:"
   ]
  },
  {
   "cell_type": "code",
   "execution_count": 23,
   "id": "a93a3aba",
   "metadata": {},
   "outputs": [
    {
     "data": {
      "application/vnd.plotly.v1+json": {
       "config": {
        "plotlyServerURL": "https://plot.ly"
       },
       "data": [
        {
         "alignmentgroup": "True",
         "hovertemplate": "total=%{x}<br>category=%{y}<extra></extra>",
         "legendgroup": "",
         "marker": {
          "color": "#636efa",
          "pattern": {
           "shape": ""
          }
         },
         "name": "",
         "offsetgroup": "",
         "orientation": "h",
         "showlegend": false,
         "textposition": "auto",
         "type": "bar",
         "x": [
          21665,
          13830,
          12175,
          11028,
          6995,
          4123,
          2747,
          1558,
          623,
          410,
          66,
          6
         ],
         "xaxis": "x",
         "y": [
          "actor",
          "writer",
          "actress",
          "producer",
          "director",
          "composer",
          "cinematographer",
          "editor",
          "self",
          "production_designer",
          "archive_footage",
          "archive_sound"
         ],
         "yaxis": "y"
        }
       ],
       "layout": {
        "barmode": "relative",
        "legend": {
         "tracegroupgap": 0
        },
        "margin": {
         "t": 60
        },
        "template": {
         "data": {
          "bar": [
           {
            "error_x": {
             "color": "#2a3f5f"
            },
            "error_y": {
             "color": "#2a3f5f"
            },
            "marker": {
             "line": {
              "color": "#E5ECF6",
              "width": 0.5
             },
             "pattern": {
              "fillmode": "overlay",
              "size": 10,
              "solidity": 0.2
             }
            },
            "type": "bar"
           }
          ],
          "barpolar": [
           {
            "marker": {
             "line": {
              "color": "#E5ECF6",
              "width": 0.5
             },
             "pattern": {
              "fillmode": "overlay",
              "size": 10,
              "solidity": 0.2
             }
            },
            "type": "barpolar"
           }
          ],
          "carpet": [
           {
            "aaxis": {
             "endlinecolor": "#2a3f5f",
             "gridcolor": "white",
             "linecolor": "white",
             "minorgridcolor": "white",
             "startlinecolor": "#2a3f5f"
            },
            "baxis": {
             "endlinecolor": "#2a3f5f",
             "gridcolor": "white",
             "linecolor": "white",
             "minorgridcolor": "white",
             "startlinecolor": "#2a3f5f"
            },
            "type": "carpet"
           }
          ],
          "choropleth": [
           {
            "colorbar": {
             "outlinewidth": 0,
             "ticks": ""
            },
            "type": "choropleth"
           }
          ],
          "contour": [
           {
            "colorbar": {
             "outlinewidth": 0,
             "ticks": ""
            },
            "colorscale": [
             [
              0,
              "#0d0887"
             ],
             [
              0.1111111111111111,
              "#46039f"
             ],
             [
              0.2222222222222222,
              "#7201a8"
             ],
             [
              0.3333333333333333,
              "#9c179e"
             ],
             [
              0.4444444444444444,
              "#bd3786"
             ],
             [
              0.5555555555555556,
              "#d8576b"
             ],
             [
              0.6666666666666666,
              "#ed7953"
             ],
             [
              0.7777777777777778,
              "#fb9f3a"
             ],
             [
              0.8888888888888888,
              "#fdca26"
             ],
             [
              1,
              "#f0f921"
             ]
            ],
            "type": "contour"
           }
          ],
          "contourcarpet": [
           {
            "colorbar": {
             "outlinewidth": 0,
             "ticks": ""
            },
            "type": "contourcarpet"
           }
          ],
          "heatmap": [
           {
            "colorbar": {
             "outlinewidth": 0,
             "ticks": ""
            },
            "colorscale": [
             [
              0,
              "#0d0887"
             ],
             [
              0.1111111111111111,
              "#46039f"
             ],
             [
              0.2222222222222222,
              "#7201a8"
             ],
             [
              0.3333333333333333,
              "#9c179e"
             ],
             [
              0.4444444444444444,
              "#bd3786"
             ],
             [
              0.5555555555555556,
              "#d8576b"
             ],
             [
              0.6666666666666666,
              "#ed7953"
             ],
             [
              0.7777777777777778,
              "#fb9f3a"
             ],
             [
              0.8888888888888888,
              "#fdca26"
             ],
             [
              1,
              "#f0f921"
             ]
            ],
            "type": "heatmap"
           }
          ],
          "heatmapgl": [
           {
            "colorbar": {
             "outlinewidth": 0,
             "ticks": ""
            },
            "colorscale": [
             [
              0,
              "#0d0887"
             ],
             [
              0.1111111111111111,
              "#46039f"
             ],
             [
              0.2222222222222222,
              "#7201a8"
             ],
             [
              0.3333333333333333,
              "#9c179e"
             ],
             [
              0.4444444444444444,
              "#bd3786"
             ],
             [
              0.5555555555555556,
              "#d8576b"
             ],
             [
              0.6666666666666666,
              "#ed7953"
             ],
             [
              0.7777777777777778,
              "#fb9f3a"
             ],
             [
              0.8888888888888888,
              "#fdca26"
             ],
             [
              1,
              "#f0f921"
             ]
            ],
            "type": "heatmapgl"
           }
          ],
          "histogram": [
           {
            "marker": {
             "pattern": {
              "fillmode": "overlay",
              "size": 10,
              "solidity": 0.2
             }
            },
            "type": "histogram"
           }
          ],
          "histogram2d": [
           {
            "colorbar": {
             "outlinewidth": 0,
             "ticks": ""
            },
            "colorscale": [
             [
              0,
              "#0d0887"
             ],
             [
              0.1111111111111111,
              "#46039f"
             ],
             [
              0.2222222222222222,
              "#7201a8"
             ],
             [
              0.3333333333333333,
              "#9c179e"
             ],
             [
              0.4444444444444444,
              "#bd3786"
             ],
             [
              0.5555555555555556,
              "#d8576b"
             ],
             [
              0.6666666666666666,
              "#ed7953"
             ],
             [
              0.7777777777777778,
              "#fb9f3a"
             ],
             [
              0.8888888888888888,
              "#fdca26"
             ],
             [
              1,
              "#f0f921"
             ]
            ],
            "type": "histogram2d"
           }
          ],
          "histogram2dcontour": [
           {
            "colorbar": {
             "outlinewidth": 0,
             "ticks": ""
            },
            "colorscale": [
             [
              0,
              "#0d0887"
             ],
             [
              0.1111111111111111,
              "#46039f"
             ],
             [
              0.2222222222222222,
              "#7201a8"
             ],
             [
              0.3333333333333333,
              "#9c179e"
             ],
             [
              0.4444444444444444,
              "#bd3786"
             ],
             [
              0.5555555555555556,
              "#d8576b"
             ],
             [
              0.6666666666666666,
              "#ed7953"
             ],
             [
              0.7777777777777778,
              "#fb9f3a"
             ],
             [
              0.8888888888888888,
              "#fdca26"
             ],
             [
              1,
              "#f0f921"
             ]
            ],
            "type": "histogram2dcontour"
           }
          ],
          "mesh3d": [
           {
            "colorbar": {
             "outlinewidth": 0,
             "ticks": ""
            },
            "type": "mesh3d"
           }
          ],
          "parcoords": [
           {
            "line": {
             "colorbar": {
              "outlinewidth": 0,
              "ticks": ""
             }
            },
            "type": "parcoords"
           }
          ],
          "pie": [
           {
            "automargin": true,
            "type": "pie"
           }
          ],
          "scatter": [
           {
            "fillpattern": {
             "fillmode": "overlay",
             "size": 10,
             "solidity": 0.2
            },
            "type": "scatter"
           }
          ],
          "scatter3d": [
           {
            "line": {
             "colorbar": {
              "outlinewidth": 0,
              "ticks": ""
             }
            },
            "marker": {
             "colorbar": {
              "outlinewidth": 0,
              "ticks": ""
             }
            },
            "type": "scatter3d"
           }
          ],
          "scattercarpet": [
           {
            "marker": {
             "colorbar": {
              "outlinewidth": 0,
              "ticks": ""
             }
            },
            "type": "scattercarpet"
           }
          ],
          "scattergeo": [
           {
            "marker": {
             "colorbar": {
              "outlinewidth": 0,
              "ticks": ""
             }
            },
            "type": "scattergeo"
           }
          ],
          "scattergl": [
           {
            "marker": {
             "colorbar": {
              "outlinewidth": 0,
              "ticks": ""
             }
            },
            "type": "scattergl"
           }
          ],
          "scattermapbox": [
           {
            "marker": {
             "colorbar": {
              "outlinewidth": 0,
              "ticks": ""
             }
            },
            "type": "scattermapbox"
           }
          ],
          "scatterpolar": [
           {
            "marker": {
             "colorbar": {
              "outlinewidth": 0,
              "ticks": ""
             }
            },
            "type": "scatterpolar"
           }
          ],
          "scatterpolargl": [
           {
            "marker": {
             "colorbar": {
              "outlinewidth": 0,
              "ticks": ""
             }
            },
            "type": "scatterpolargl"
           }
          ],
          "scatterternary": [
           {
            "marker": {
             "colorbar": {
              "outlinewidth": 0,
              "ticks": ""
             }
            },
            "type": "scatterternary"
           }
          ],
          "surface": [
           {
            "colorbar": {
             "outlinewidth": 0,
             "ticks": ""
            },
            "colorscale": [
             [
              0,
              "#0d0887"
             ],
             [
              0.1111111111111111,
              "#46039f"
             ],
             [
              0.2222222222222222,
              "#7201a8"
             ],
             [
              0.3333333333333333,
              "#9c179e"
             ],
             [
              0.4444444444444444,
              "#bd3786"
             ],
             [
              0.5555555555555556,
              "#d8576b"
             ],
             [
              0.6666666666666666,
              "#ed7953"
             ],
             [
              0.7777777777777778,
              "#fb9f3a"
             ],
             [
              0.8888888888888888,
              "#fdca26"
             ],
             [
              1,
              "#f0f921"
             ]
            ],
            "type": "surface"
           }
          ],
          "table": [
           {
            "cells": {
             "fill": {
              "color": "#EBF0F8"
             },
             "line": {
              "color": "white"
             }
            },
            "header": {
             "fill": {
              "color": "#C8D4E3"
             },
             "line": {
              "color": "white"
             }
            },
            "type": "table"
           }
          ]
         },
         "layout": {
          "annotationdefaults": {
           "arrowcolor": "#2a3f5f",
           "arrowhead": 0,
           "arrowwidth": 1
          },
          "autotypenumbers": "strict",
          "coloraxis": {
           "colorbar": {
            "outlinewidth": 0,
            "ticks": ""
           }
          },
          "colorscale": {
           "diverging": [
            [
             0,
             "#8e0152"
            ],
            [
             0.1,
             "#c51b7d"
            ],
            [
             0.2,
             "#de77ae"
            ],
            [
             0.3,
             "#f1b6da"
            ],
            [
             0.4,
             "#fde0ef"
            ],
            [
             0.5,
             "#f7f7f7"
            ],
            [
             0.6,
             "#e6f5d0"
            ],
            [
             0.7,
             "#b8e186"
            ],
            [
             0.8,
             "#7fbc41"
            ],
            [
             0.9,
             "#4d9221"
            ],
            [
             1,
             "#276419"
            ]
           ],
           "sequential": [
            [
             0,
             "#0d0887"
            ],
            [
             0.1111111111111111,
             "#46039f"
            ],
            [
             0.2222222222222222,
             "#7201a8"
            ],
            [
             0.3333333333333333,
             "#9c179e"
            ],
            [
             0.4444444444444444,
             "#bd3786"
            ],
            [
             0.5555555555555556,
             "#d8576b"
            ],
            [
             0.6666666666666666,
             "#ed7953"
            ],
            [
             0.7777777777777778,
             "#fb9f3a"
            ],
            [
             0.8888888888888888,
             "#fdca26"
            ],
            [
             1,
             "#f0f921"
            ]
           ],
           "sequentialminus": [
            [
             0,
             "#0d0887"
            ],
            [
             0.1111111111111111,
             "#46039f"
            ],
            [
             0.2222222222222222,
             "#7201a8"
            ],
            [
             0.3333333333333333,
             "#9c179e"
            ],
            [
             0.4444444444444444,
             "#bd3786"
            ],
            [
             0.5555555555555556,
             "#d8576b"
            ],
            [
             0.6666666666666666,
             "#ed7953"
            ],
            [
             0.7777777777777778,
             "#fb9f3a"
            ],
            [
             0.8888888888888888,
             "#fdca26"
            ],
            [
             1,
             "#f0f921"
            ]
           ]
          },
          "colorway": [
           "#636efa",
           "#EF553B",
           "#00cc96",
           "#ab63fa",
           "#FFA15A",
           "#19d3f3",
           "#FF6692",
           "#B6E880",
           "#FF97FF",
           "#FECB52"
          ],
          "font": {
           "color": "#2a3f5f"
          },
          "geo": {
           "bgcolor": "white",
           "lakecolor": "white",
           "landcolor": "#E5ECF6",
           "showlakes": true,
           "showland": true,
           "subunitcolor": "white"
          },
          "hoverlabel": {
           "align": "left"
          },
          "hovermode": "closest",
          "mapbox": {
           "style": "light"
          },
          "paper_bgcolor": "white",
          "plot_bgcolor": "#E5ECF6",
          "polar": {
           "angularaxis": {
            "gridcolor": "white",
            "linecolor": "white",
            "ticks": ""
           },
           "bgcolor": "#E5ECF6",
           "radialaxis": {
            "gridcolor": "white",
            "linecolor": "white",
            "ticks": ""
           }
          },
          "scene": {
           "xaxis": {
            "backgroundcolor": "#E5ECF6",
            "gridcolor": "white",
            "gridwidth": 2,
            "linecolor": "white",
            "showbackground": true,
            "ticks": "",
            "zerolinecolor": "white"
           },
           "yaxis": {
            "backgroundcolor": "#E5ECF6",
            "gridcolor": "white",
            "gridwidth": 2,
            "linecolor": "white",
            "showbackground": true,
            "ticks": "",
            "zerolinecolor": "white"
           },
           "zaxis": {
            "backgroundcolor": "#E5ECF6",
            "gridcolor": "white",
            "gridwidth": 2,
            "linecolor": "white",
            "showbackground": true,
            "ticks": "",
            "zerolinecolor": "white"
           }
          },
          "shapedefaults": {
           "line": {
            "color": "#2a3f5f"
           }
          },
          "ternary": {
           "aaxis": {
            "gridcolor": "white",
            "linecolor": "white",
            "ticks": ""
           },
           "baxis": {
            "gridcolor": "white",
            "linecolor": "white",
            "ticks": ""
           },
           "bgcolor": "#E5ECF6",
           "caxis": {
            "gridcolor": "white",
            "linecolor": "white",
            "ticks": ""
           }
          },
          "title": {
           "x": 0.05
          },
          "xaxis": {
           "automargin": true,
           "gridcolor": "white",
           "linecolor": "white",
           "ticks": "",
           "title": {
            "standoff": 15
           },
           "zerolinecolor": "white",
           "zerolinewidth": 2
          },
          "yaxis": {
           "automargin": true,
           "gridcolor": "white",
           "linecolor": "white",
           "ticks": "",
           "title": {
            "standoff": 15
           },
           "zerolinecolor": "white",
           "zerolinewidth": 2
          }
         }
        },
        "xaxis": {
         "anchor": "y",
         "domain": [
          0,
          1
         ],
         "title": {
          "text": "total"
         }
        },
        "yaxis": {
         "anchor": "x",
         "domain": [
          0,
          1
         ],
         "title": {
          "text": "category"
         }
        }
       }
      }
     },
     "metadata": {},
     "output_type": "display_data"
    }
   ],
   "source": [
    "# just run this cell\n",
    "px.bar(res_q2, x=\"total\", y=\"category\", orientation='h')"
   ]
  },
  {
   "cell_type": "markdown",
   "id": "f3a5bec4",
   "metadata": {},
   "source": [
    "<br/><br/>\n",
    "<hr style=\"border: 1px solid #fdb515;\" />\n",
    "\n",
    "## Question 3\n",
    "\n",
    "Now that we have a better sense of the basics of our data, we can ask some more interesting questions.\n",
    "\n",
    "The `Rating` table has the `numVotes` and the `averageRating` for each title. Which 10 films have the most ratings?\n",
    "\n",
    "Write a SQL query that outputs three fields: the `title`, `numVotes`, and `averageRating` for the 10 films that have the highest number of ratings.  Sort the result in descending order by the number of votes.\n",
    "\n",
    "*Hint*: The `numVotes` in the `Rating` table is not an integer! Use `CAST(Rating.numVotes AS int) AS numVotes` to convert the attribute to an integer."
   ]
  },
  {
   "cell_type": "code",
   "execution_count": 25,
   "id": "7c8a59e1",
   "metadata": {},
   "outputs": [
    {
     "name": "stdout",
     "output_type": "stream",
     "text": [
      " * sqlite:///imdbmini.db\n",
      "Done.\n"
     ]
    },
    {
     "data": {
      "text/html": [
       "<table>\n",
       "    <thead>\n",
       "        <tr>\n",
       "            <th>title</th>\n",
       "            <th>numVotes</th>\n",
       "            <th>averageRating</th>\n",
       "        </tr>\n",
       "    </thead>\n",
       "    <tbody>\n",
       "        <tr>\n",
       "            <td>The Shawshank Redemption</td>\n",
       "            <td>2462686</td>\n",
       "            <td>9.3</td>\n",
       "        </tr>\n",
       "        <tr>\n",
       "            <td>The Dark Knight</td>\n",
       "            <td>2417875</td>\n",
       "            <td>9.0</td>\n",
       "        </tr>\n",
       "        <tr>\n",
       "            <td>Inception</td>\n",
       "            <td>2169255</td>\n",
       "            <td>8.8</td>\n",
       "        </tr>\n",
       "        <tr>\n",
       "            <td>Fight Club</td>\n",
       "            <td>1939312</td>\n",
       "            <td>8.8</td>\n",
       "        </tr>\n",
       "        <tr>\n",
       "            <td>Pulp Fiction</td>\n",
       "            <td>1907561</td>\n",
       "            <td>8.9</td>\n",
       "        </tr>\n",
       "        <tr>\n",
       "            <td>Forrest Gump</td>\n",
       "            <td>1903969</td>\n",
       "            <td>8.8</td>\n",
       "        </tr>\n",
       "        <tr>\n",
       "            <td>Game of Thrones</td>\n",
       "            <td>1874040</td>\n",
       "            <td>9.2</td>\n",
       "        </tr>\n",
       "        <tr>\n",
       "            <td>The Matrix</td>\n",
       "            <td>1756469</td>\n",
       "            <td>8.7</td>\n",
       "        </tr>\n",
       "        <tr>\n",
       "            <td>The Lord of the Rings: The Fellowship of the Ring</td>\n",
       "            <td>1730296</td>\n",
       "            <td>8.8</td>\n",
       "        </tr>\n",
       "        <tr>\n",
       "            <td>The Lord of the Rings: The Return of the King</td>\n",
       "            <td>1709023</td>\n",
       "            <td>8.9</td>\n",
       "        </tr>\n",
       "    </tbody>\n",
       "</table>"
      ],
      "text/plain": [
       "[('The Shawshank Redemption', 2462686, '9.3'),\n",
       " ('The Dark Knight', 2417875, '9.0'),\n",
       " ('Inception', 2169255, '8.8'),\n",
       " ('Fight Club', 1939312, '8.8'),\n",
       " ('Pulp Fiction', 1907561, '8.9'),\n",
       " ('Forrest Gump', 1903969, '8.8'),\n",
       " ('Game of Thrones', 1874040, '9.2'),\n",
       " ('The Matrix', 1756469, '8.7'),\n",
       " ('The Lord of the Rings: The Fellowship of the Ring', 1730296, '8.8'),\n",
       " ('The Lord of the Rings: The Return of the King', 1709023, '8.9')]"
      ]
     },
     "execution_count": 25,
     "metadata": {},
     "output_type": "execute_result"
    }
   ],
   "source": [
    "%%sql\n",
    "/*\n",
    " * Code in this scratchwork cell is __not graded.__\n",
    " * Copy over any SQL queries you write here into the below Python cell.\n",
    " * Do __not__ insert any new cells in between the SQL/Python cells!\n",
    " * Doing so may break the autograder.\n",
    " */\n",
    "-- Write below this comment. --\n",
    "SELECT Title.primaryTitle AS title,CAST(Rating.numVotes AS int) AS numVotes,Rating.averageRating\n",
    "FROM Title,Rating\n",
    "WHERE Title.tconst = Rating.tconst\n",
    "ORDER BY numVotes DESC\n",
    "LIMIT 10;"
   ]
  },
  {
   "cell_type": "code",
   "execution_count": 26,
   "id": "e52562e3",
   "metadata": {},
   "outputs": [
    {
     "data": {
      "text/html": [
       "<div>\n",
       "<style scoped>\n",
       "    .dataframe tbody tr th:only-of-type {\n",
       "        vertical-align: middle;\n",
       "    }\n",
       "\n",
       "    .dataframe tbody tr th {\n",
       "        vertical-align: top;\n",
       "    }\n",
       "\n",
       "    .dataframe thead th {\n",
       "        text-align: right;\n",
       "    }\n",
       "</style>\n",
       "<table border=\"1\" class=\"dataframe\">\n",
       "  <thead>\n",
       "    <tr style=\"text-align: right;\">\n",
       "      <th></th>\n",
       "      <th>title</th>\n",
       "      <th>numVotes</th>\n",
       "      <th>averageRating</th>\n",
       "    </tr>\n",
       "  </thead>\n",
       "  <tbody>\n",
       "    <tr>\n",
       "      <th>0</th>\n",
       "      <td>The Shawshank Redemption</td>\n",
       "      <td>2462686</td>\n",
       "      <td>9.3</td>\n",
       "    </tr>\n",
       "    <tr>\n",
       "      <th>1</th>\n",
       "      <td>The Dark Knight</td>\n",
       "      <td>2417875</td>\n",
       "      <td>9.0</td>\n",
       "    </tr>\n",
       "    <tr>\n",
       "      <th>2</th>\n",
       "      <td>Inception</td>\n",
       "      <td>2169255</td>\n",
       "      <td>8.8</td>\n",
       "    </tr>\n",
       "    <tr>\n",
       "      <th>3</th>\n",
       "      <td>Fight Club</td>\n",
       "      <td>1939312</td>\n",
       "      <td>8.8</td>\n",
       "    </tr>\n",
       "    <tr>\n",
       "      <th>4</th>\n",
       "      <td>Pulp Fiction</td>\n",
       "      <td>1907561</td>\n",
       "      <td>8.9</td>\n",
       "    </tr>\n",
       "    <tr>\n",
       "      <th>5</th>\n",
       "      <td>Forrest Gump</td>\n",
       "      <td>1903969</td>\n",
       "      <td>8.8</td>\n",
       "    </tr>\n",
       "    <tr>\n",
       "      <th>6</th>\n",
       "      <td>Game of Thrones</td>\n",
       "      <td>1874040</td>\n",
       "      <td>9.2</td>\n",
       "    </tr>\n",
       "    <tr>\n",
       "      <th>7</th>\n",
       "      <td>The Matrix</td>\n",
       "      <td>1756469</td>\n",
       "      <td>8.7</td>\n",
       "    </tr>\n",
       "    <tr>\n",
       "      <th>8</th>\n",
       "      <td>The Lord of the Rings: The Fellowship of the Ring</td>\n",
       "      <td>1730296</td>\n",
       "      <td>8.8</td>\n",
       "    </tr>\n",
       "    <tr>\n",
       "      <th>9</th>\n",
       "      <td>The Lord of the Rings: The Return of the King</td>\n",
       "      <td>1709023</td>\n",
       "      <td>8.9</td>\n",
       "    </tr>\n",
       "  </tbody>\n",
       "</table>\n",
       "</div>"
      ],
      "text/plain": [
       "                                               title  numVotes averageRating\n",
       "0                           The Shawshank Redemption   2462686           9.3\n",
       "1                                    The Dark Knight   2417875           9.0\n",
       "2                                          Inception   2169255           8.8\n",
       "3                                         Fight Club   1939312           8.8\n",
       "4                                       Pulp Fiction   1907561           8.9\n",
       "5                                       Forrest Gump   1903969           8.8\n",
       "6                                    Game of Thrones   1874040           9.2\n",
       "7                                         The Matrix   1756469           8.7\n",
       "8  The Lord of the Rings: The Fellowship of the Ring   1730296           8.8\n",
       "9      The Lord of the Rings: The Return of the King   1709023           8.9"
      ]
     },
     "execution_count": 26,
     "metadata": {},
     "output_type": "execute_result"
    }
   ],
   "source": [
    "query_q3 = \"\"\"\n",
    "SELECT Title.primaryTitle AS title,CAST(Rating.numVotes AS int) AS numVotes,Rating.averageRating\n",
    "FROM Title,Rating\n",
    "WHERE Title.tconst = Rating.tconst\n",
    "ORDER BY numVotes DESC\n",
    "LIMIT 10;\n",
    "\"\"\"\n",
    "\n",
    "\n",
    "res_q3 = pd.read_sql(text(query_q3), connection)\n",
    "res_q3"
   ]
  },
  {
   "cell_type": "code",
   "execution_count": 27,
   "id": "b825d3d8",
   "metadata": {
    "deletable": false,
    "editable": false
   },
   "outputs": [
    {
     "data": {
      "text/html": [
       "<p><strong><pre style='display: inline;'>q3</pre></strong> passed! 🌟</p>"
      ],
      "text/plain": [
       "q3 results: All test cases passed!"
      ]
     },
     "execution_count": 27,
     "metadata": {},
     "output_type": "execute_result"
    }
   ],
   "source": [
    "grader.check(\"q3\")"
   ]
  },
  {
   "cell_type": "markdown",
   "id": "42bfcdb8",
   "metadata": {},
   "source": [
    "<br/><br/>\n",
    "<hr style=\"border: 5px solid #003262;\" />\n",
    "<hr style=\"border: 1px solid #fdb515;\" />\n",
    "\n",
    "# Part 2: Election Donations in New York City\n",
    "\n",
    "Finally, let's analyze the Federal Election Commission (FEC)'s public records. We connect to the database in two ways (using both Python and cell magic) so that we can flexibly explore the database."
   ]
  },
  {
   "cell_type": "code",
   "execution_count": 28,
   "id": "a588beac",
   "metadata": {},
   "outputs": [],
   "source": [
    "# important!!! run this cell and the next one\n",
    "import sqlalchemy\n",
    "# create a SQL Alchemy connection to the database\n",
    "engine = sqlalchemy.create_engine(\"sqlite:///fec_nyc.db\")\n",
    "connection = engine.connect()"
   ]
  },
  {
   "cell_type": "code",
   "execution_count": 29,
   "id": "b0c138c5",
   "metadata": {},
   "outputs": [],
   "source": [
    "%sql sqlite:///fec_nyc.db"
   ]
  },
  {
   "cell_type": "markdown",
   "id": "0cad2fe4",
   "metadata": {
    "tags": []
   },
   "source": [
    "## Table Descriptions\n",
    "\n",
    "Run the below cell to explore the **schemas** of all tables saved in the database.\n",
    "\n",
    "If you'd like, you can consult the below linked FEC pages for the descriptions of the tables themselves.\n",
    "\n",
    "* `cand` ([link](https://www.fec.gov/campaign-finance-data/candidate-summary-file-description/)): Candidates table. Contains names and party affiliation.\n",
    "* `comm` ([link](https://www.fec.gov/campaign-finance-data/committee-summary-file-description/)): Committees table. Contains committee names and types.\n",
    "* `indiv_sample_nyc` ([link](https://www.fec.gov/campaign-finance-data/contributions-individuals-file-description)): All individual contributions from New York City ."
   ]
  },
  {
   "cell_type": "code",
   "execution_count": 30,
   "id": "12752881",
   "metadata": {},
   "outputs": [
    {
     "name": "stdout",
     "output_type": "stream",
     "text": [
      " * sqlite:///fec_nyc.db\n",
      "   sqlite:///imdbmini.db\n",
      "Done.\n"
     ]
    },
    {
     "data": {
      "text/html": [
       "<table>\n",
       "    <thead>\n",
       "        <tr>\n",
       "            <th>sql</th>\n",
       "        </tr>\n",
       "    </thead>\n",
       "    <tbody>\n",
       "        <tr>\n",
       "            <td>CREATE TABLE &quot;cand&quot; (<br>    cand_id character varying(9),<br>    cand_name text,<br>    cand_pty_affiliation character varying(3),<br>    cand_election_yr integer,<br>    cand_office_st character varying(2),<br>    cand_office character(1),<br>    cand_office_district integer,<br>    cand_ici character(1),<br>    cand_status character(1),<br>    cand_pcc character varying(9),<br>    cand_st1 text,<br>    cand_st2 text,<br>    cand_city text,<br>    cand_st character varying(2),<br>    cand_zip character varying(10)<br>)</td>\n",
       "        </tr>\n",
       "        <tr>\n",
       "            <td>CREATE TABLE &quot;comm&quot;(<br>  &quot;cmte_id&quot; TEXT,<br>  &quot;cmte_nm&quot; TEXT,<br>  &quot;tres_nm&quot; TEXT,<br>  &quot;cmte_st1&quot; TEXT,<br>  &quot;cmte_st2&quot; TEXT,<br>  &quot;cmte_city&quot; TEXT,<br>  &quot;cmte_st&quot; TEXT,<br>  &quot;cmte_zip&quot; TEXT,<br>  &quot;cmte_dsgn&quot; TEXT,<br>  &quot;cmte_tp&quot; TEXT,<br>  &quot;cmte_pty_affiliation&quot; TEXT,<br>  &quot;cmte_filing_freq&quot; TEXT,<br>  &quot;org_tp&quot; TEXT,<br>  &quot;connected_org_nm&quot; TEXT,<br>  &quot;cand_id&quot; TEXT<br>)</td>\n",
       "        </tr>\n",
       "        <tr>\n",
       "            <td>CREATE TABLE indiv_sample_nyc (<br>    cmte_id character varying(9),<br>    amndt_ind character(1),<br>    rpt_tp character varying(3),<br>    transaction_pgi character(5),<br>    image_num bigint,<br>    transaction_tp character varying(3),<br>    entity_tp character varying(3),<br>    name text,<br>    city text,<br>    state character(2),<br>    zip_code character varying(12),<br>    employer text,<br>    occupation text,<br>    transaction_dt character varying(9),<br>    transaction_amt integer,<br>    other_id text,<br>    tran_id text,<br>    file_num bigint,<br>    memo_cd text,<br>    memo_text text,<br>    sub_id bigint<br>)</td>\n",
       "        </tr>\n",
       "    </tbody>\n",
       "</table>"
      ],
      "text/plain": [
       "[('CREATE TABLE \"cand\" (\\n    cand_id character varying(9),\\n    cand_name text,\\n    cand_pty_affiliation character varying(3),\\n    cand_election_yr i ... (196 characters truncated) ... er varying(9),\\n    cand_st1 text,\\n    cand_st2 text,\\n    cand_city text,\\n    cand_st character varying(2),\\n    cand_zip character varying(10)\\n)',),\n",
       " ('CREATE TABLE \"comm\"(\\n  \"cmte_id\" TEXT,\\n  \"cmte_nm\" TEXT,\\n  \"tres_nm\" TEXT,\\n  \"cmte_st1\" TEXT,\\n  \"cmte_st2\" TEXT,\\n  \"cmte_city\" TEXT,\\n  \"cmte_s ... (46 characters truncated) ... XT,\\n  \"cmte_tp\" TEXT,\\n  \"cmte_pty_affiliation\" TEXT,\\n  \"cmte_filing_freq\" TEXT,\\n  \"org_tp\" TEXT,\\n  \"connected_org_nm\" TEXT,\\n  \"cand_id\" TEXT\\n)',),\n",
       " ('CREATE TABLE indiv_sample_nyc (\\n    cmte_id character varying(9),\\n    amndt_ind character(1),\\n    rpt_tp character varying(3),\\n    transaction_pg ... (299 characters truncated) ...   transaction_amt integer,\\n    other_id text,\\n    tran_id text,\\n    file_num bigint,\\n    memo_cd text,\\n    memo_text text,\\n    sub_id bigint\\n)',)]"
      ]
     },
     "execution_count": 30,
     "metadata": {},
     "output_type": "execute_result"
    }
   ],
   "source": [
    "%%sql\n",
    "/* just run this cell */\n",
    "SELECT sql FROM sqlite_master WHERE type='table';"
   ]
  },
  {
   "cell_type": "markdown",
   "id": "2f6e371a",
   "metadata": {},
   "source": [
    "<br/><br/>\n",
    "\n",
    "Let's look at the `indiv_sample_nyc` table. The below cell displays individual donations made by residents of the state of New York. We use `LIMIT 5` to avoid loading and displaying a huge table."
   ]
  },
  {
   "cell_type": "code",
   "execution_count": 31,
   "id": "ddb94773",
   "metadata": {},
   "outputs": [
    {
     "name": "stdout",
     "output_type": "stream",
     "text": [
      " * sqlite:///fec_nyc.db\n",
      "   sqlite:///imdbmini.db\n",
      "Done.\n"
     ]
    },
    {
     "data": {
      "text/html": [
       "<table>\n",
       "    <thead>\n",
       "        <tr>\n",
       "            <th>cmte_id</th>\n",
       "            <th>amndt_ind</th>\n",
       "            <th>rpt_tp</th>\n",
       "            <th>transaction_pgi</th>\n",
       "            <th>image_num</th>\n",
       "            <th>transaction_tp</th>\n",
       "            <th>entity_tp</th>\n",
       "            <th>name</th>\n",
       "            <th>city</th>\n",
       "            <th>state</th>\n",
       "            <th>zip_code</th>\n",
       "            <th>employer</th>\n",
       "            <th>occupation</th>\n",
       "            <th>transaction_dt</th>\n",
       "            <th>transaction_amt</th>\n",
       "            <th>other_id</th>\n",
       "            <th>tran_id</th>\n",
       "            <th>file_num</th>\n",
       "            <th>memo_cd</th>\n",
       "            <th>memo_text</th>\n",
       "            <th>sub_id</th>\n",
       "        </tr>\n",
       "    </thead>\n",
       "    <tbody>\n",
       "        <tr>\n",
       "            <td>C00445015</td>\n",
       "            <td>N</td>\n",
       "            <td>Q1</td>\n",
       "            <td>P    </td>\n",
       "            <td>15951128130</td>\n",
       "            <td>15</td>\n",
       "            <td>IND</td>\n",
       "            <td>SINGER, TRIPP MR.</td>\n",
       "            <td>NEW YORK</td>\n",
       "            <td>NY</td>\n",
       "            <td>100214505</td>\n",
       "            <td>ATLANTIC MAILBOXES, INC.</td>\n",
       "            <td>OWNER</td>\n",
       "            <td>01302015</td>\n",
       "            <td>1000</td>\n",
       "            <td></td>\n",
       "            <td>A-CF13736</td>\n",
       "            <td>1002485</td>\n",
       "            <td></td>\n",
       "            <td></td>\n",
       "            <td>4041420151241812398</td>\n",
       "        </tr>\n",
       "        <tr>\n",
       "            <td>C00510461</td>\n",
       "            <td>N</td>\n",
       "            <td>Q1</td>\n",
       "            <td>P    </td>\n",
       "            <td>15951129284</td>\n",
       "            <td>15E</td>\n",
       "            <td>IND</td>\n",
       "            <td>SIMON, DANIEL A</td>\n",
       "            <td>NEW YORK</td>\n",
       "            <td>NY</td>\n",
       "            <td>100237940</td>\n",
       "            <td>N/A</td>\n",
       "            <td>RETIRED</td>\n",
       "            <td>03292015</td>\n",
       "            <td>400</td>\n",
       "            <td>C00401224</td>\n",
       "            <td>VN8JBDDJBA8</td>\n",
       "            <td>1002590</td>\n",
       "            <td></td>\n",
       "            <td>* EARMARKED CONTRIBUTION: SEE BELOW</td>\n",
       "            <td>4041420151241813640</td>\n",
       "        </tr>\n",
       "        <tr>\n",
       "            <td>C00422410</td>\n",
       "            <td>N</td>\n",
       "            <td>Q1</td>\n",
       "            <td>P    </td>\n",
       "            <td>15970352211</td>\n",
       "            <td>15</td>\n",
       "            <td>IND</td>\n",
       "            <td>ABDUL RAUF, FEISAL</td>\n",
       "            <td>NEW YORK</td>\n",
       "            <td>NY</td>\n",
       "            <td>101150010</td>\n",
       "            <td>THE CORDOBA INITIATIVE</td>\n",
       "            <td>CHAIRMAN</td>\n",
       "            <td>03042015</td>\n",
       "            <td>250</td>\n",
       "            <td></td>\n",
       "            <td>VN8A3DBSYG6</td>\n",
       "            <td>1003643</td>\n",
       "            <td></td>\n",
       "            <td></td>\n",
       "            <td>4041620151241914560</td>\n",
       "        </tr>\n",
       "        <tr>\n",
       "            <td>C00510461</td>\n",
       "            <td>N</td>\n",
       "            <td>Q1</td>\n",
       "            <td>P    </td>\n",
       "            <td>15951129280</td>\n",
       "            <td>15</td>\n",
       "            <td>IND</td>\n",
       "            <td>SCHWARZER, FRANK</td>\n",
       "            <td>NEW YORK</td>\n",
       "            <td>NY</td>\n",
       "            <td>100145135</td>\n",
       "            <td>METRO HYDRAULIC JACK CO</td>\n",
       "            <td>SALES</td>\n",
       "            <td>01162015</td>\n",
       "            <td>100</td>\n",
       "            <td></td>\n",
       "            <td>VN8JBDAP4C4</td>\n",
       "            <td>1002590</td>\n",
       "            <td></td>\n",
       "            <td>* EARMARKED CONTRIBUTION: SEE BELOW</td>\n",
       "            <td>4041420151241813630</td>\n",
       "        </tr>\n",
       "        <tr>\n",
       "            <td>C00510461</td>\n",
       "            <td>N</td>\n",
       "            <td>Q1</td>\n",
       "            <td>P    </td>\n",
       "            <td>15951129281</td>\n",
       "            <td>15</td>\n",
       "            <td>IND</td>\n",
       "            <td>SCHWARZER, FRANK</td>\n",
       "            <td>NEW YORK</td>\n",
       "            <td>NY</td>\n",
       "            <td>100145135</td>\n",
       "            <td>METRO HYDRAULIC JACK CO</td>\n",
       "            <td>SALES</td>\n",
       "            <td>02162015</td>\n",
       "            <td>100</td>\n",
       "            <td></td>\n",
       "            <td>VN8JBDBRDG3</td>\n",
       "            <td>1002590</td>\n",
       "            <td></td>\n",
       "            <td>* EARMARKED CONTRIBUTION: SEE BELOW</td>\n",
       "            <td>4041420151241813632</td>\n",
       "        </tr>\n",
       "    </tbody>\n",
       "</table>"
      ],
      "text/plain": [
       "[('C00445015', 'N', 'Q1', 'P    ', 15951128130, '15', 'IND', 'SINGER, TRIPP MR.', 'NEW YORK', 'NY', '100214505', 'ATLANTIC MAILBOXES, INC.', 'OWNER', '01302015', 1000, '', 'A-CF13736', 1002485, '', '', 4041420151241812398),\n",
       " ('C00510461', 'N', 'Q1', 'P    ', 15951129284, '15E', 'IND', 'SIMON, DANIEL A', 'NEW YORK', 'NY', '100237940', 'N/A', 'RETIRED', '03292015', 400, 'C00401224', 'VN8JBDDJBA8', 1002590, '', '* EARMARKED CONTRIBUTION: SEE BELOW', 4041420151241813640),\n",
       " ('C00422410', 'N', 'Q1', 'P    ', 15970352211, '15', 'IND', 'ABDUL RAUF, FEISAL', 'NEW YORK', 'NY', '101150010', 'THE CORDOBA INITIATIVE', 'CHAIRMAN', '03042015', 250, '', 'VN8A3DBSYG6', 1003643, '', '', 4041620151241914560),\n",
       " ('C00510461', 'N', 'Q1', 'P    ', 15951129280, '15', 'IND', 'SCHWARZER, FRANK', 'NEW YORK', 'NY', '100145135', 'METRO HYDRAULIC JACK CO', 'SALES', '01162015', 100, '', 'VN8JBDAP4C4', 1002590, '', '* EARMARKED CONTRIBUTION: SEE BELOW', 4041420151241813630),\n",
       " ('C00510461', 'N', 'Q1', 'P    ', 15951129281, '15', 'IND', 'SCHWARZER, FRANK', 'NEW YORK', 'NY', '100145135', 'METRO HYDRAULIC JACK CO', 'SALES', '02162015', 100, '', 'VN8JBDBRDG3', 1002590, '', '* EARMARKED CONTRIBUTION: SEE BELOW', 4041420151241813632)]"
      ]
     },
     "execution_count": 31,
     "metadata": {},
     "output_type": "execute_result"
    }
   ],
   "source": [
    "%%sql\n",
    "/* just run this cell */\n",
    "SELECT *\n",
    "FROM indiv_sample_nyc\n",
    "LIMIT 5;"
   ]
  },
  {
   "cell_type": "markdown",
   "id": "f83fdf09",
   "metadata": {},
   "source": [
    "You can write a SQL query to return the id and name of the first five candidates from the Democratic party, as below:"
   ]
  },
  {
   "cell_type": "code",
   "execution_count": 32,
   "id": "ef4d93ff",
   "metadata": {},
   "outputs": [
    {
     "name": "stdout",
     "output_type": "stream",
     "text": [
      " * sqlite:///fec_nyc.db\n",
      "   sqlite:///imdbmini.db\n",
      "Done.\n"
     ]
    },
    {
     "data": {
      "text/html": [
       "<table>\n",
       "    <thead>\n",
       "        <tr>\n",
       "            <th>cand_id</th>\n",
       "            <th>cand_name</th>\n",
       "        </tr>\n",
       "    </thead>\n",
       "    <tbody>\n",
       "        <tr>\n",
       "            <td>H0AL05049</td>\n",
       "            <td>CRAMER, ROBERT E &quot;BUD&quot; JR</td>\n",
       "        </tr>\n",
       "        <tr>\n",
       "            <td>H0AL07086</td>\n",
       "            <td>SEWELL, TERRYCINA ANDREA</td>\n",
       "        </tr>\n",
       "        <tr>\n",
       "            <td>H0AL07094</td>\n",
       "            <td>HILLIARD, EARL FREDERICK JR</td>\n",
       "        </tr>\n",
       "        <tr>\n",
       "            <td>H0AR01091</td>\n",
       "            <td>GREGORY, JAMES CHRISTOPHER</td>\n",
       "        </tr>\n",
       "        <tr>\n",
       "            <td>H0AR01109</td>\n",
       "            <td>CAUSEY, CHAD</td>\n",
       "        </tr>\n",
       "    </tbody>\n",
       "</table>"
      ],
      "text/plain": [
       "[('H0AL05049', 'CRAMER, ROBERT E \"BUD\" JR'),\n",
       " ('H0AL07086', 'SEWELL, TERRYCINA ANDREA'),\n",
       " ('H0AL07094', 'HILLIARD, EARL FREDERICK JR'),\n",
       " ('H0AR01091', 'GREGORY, JAMES CHRISTOPHER'),\n",
       " ('H0AR01109', 'CAUSEY, CHAD')]"
      ]
     },
     "execution_count": 32,
     "metadata": {},
     "output_type": "execute_result"
    }
   ],
   "source": [
    "%%sql\n",
    "/* just run this cell */\n",
    "SELECT cand_id, cand_name\n",
    "FROM cand\n",
    "WHERE cand_pty_affiliation = 'DEM'\n",
    "LIMIT 5;"
   ]
  },
  {
   "cell_type": "markdown",
   "id": "e0d5a934",
   "metadata": {},
   "source": [
    "<br/><br/>\n",
    "<hr style=\"border: 1px solid #fdb515;\" />\n",
    "\n",
    "## [Tutorial] Matching Text with `LIKE`"
   ]
  },
  {
   "cell_type": "markdown",
   "id": "4be78c9d",
   "metadata": {},
   "source": [
    "First, let's look at 2016 election contributions made by Donald Trump, who was a New York (NY) resident during that year. The following SQL query returns the `cmte_id`, `transaction_amt`, and `name` for every contribution made by any donor with \"DONALD\" and \"TRUMP\" in their name in the `indiv_sample_nyc` table.\n",
    "\n",
    "Notes:\n",
    "* We use the `WHERE ... LIKE '...'` to match fields with text patterns. The `%` wildcard represents at least zero characters. Compare this to what you know from regex!\n",
    "* We use `pd.read_sql` syntax here because we will do some EDA on the result `res`."
   ]
  },
  {
   "cell_type": "code",
   "execution_count": 34,
   "id": "34e6c733",
   "metadata": {},
   "outputs": [
    {
     "data": {
      "text/html": [
       "<div>\n",
       "<style scoped>\n",
       "    .dataframe tbody tr th:only-of-type {\n",
       "        vertical-align: middle;\n",
       "    }\n",
       "\n",
       "    .dataframe tbody tr th {\n",
       "        vertical-align: top;\n",
       "    }\n",
       "\n",
       "    .dataframe thead th {\n",
       "        text-align: right;\n",
       "    }\n",
       "</style>\n",
       "<table border=\"1\" class=\"dataframe\">\n",
       "  <thead>\n",
       "    <tr style=\"text-align: right;\">\n",
       "      <th></th>\n",
       "      <th>cmte_id</th>\n",
       "      <th>transaction_amt</th>\n",
       "      <th>name</th>\n",
       "    </tr>\n",
       "  </thead>\n",
       "  <tbody>\n",
       "    <tr>\n",
       "      <th>0</th>\n",
       "      <td>C00230482</td>\n",
       "      <td>2600</td>\n",
       "      <td>DONALD, TRUMP</td>\n",
       "    </tr>\n",
       "    <tr>\n",
       "      <th>1</th>\n",
       "      <td>C00230482</td>\n",
       "      <td>2600</td>\n",
       "      <td>DONALD, TRUMP</td>\n",
       "    </tr>\n",
       "    <tr>\n",
       "      <th>2</th>\n",
       "      <td>C00014498</td>\n",
       "      <td>9000</td>\n",
       "      <td>TRUMP, DONALD</td>\n",
       "    </tr>\n",
       "    <tr>\n",
       "      <th>3</th>\n",
       "      <td>C00494229</td>\n",
       "      <td>2000</td>\n",
       "      <td>TRUMP, DONALD MR</td>\n",
       "    </tr>\n",
       "    <tr>\n",
       "      <th>4</th>\n",
       "      <td>C00571869</td>\n",
       "      <td>2700</td>\n",
       "      <td>TRUMP, DONALD J.</td>\n",
       "    </tr>\n",
       "    <tr>\n",
       "      <th>...</th>\n",
       "      <td>...</td>\n",
       "      <td>...</td>\n",
       "      <td>...</td>\n",
       "    </tr>\n",
       "    <tr>\n",
       "      <th>152</th>\n",
       "      <td>C00608489</td>\n",
       "      <td>5</td>\n",
       "      <td>DONALD J TRUMP FOR PRESIDENT INC</td>\n",
       "    </tr>\n",
       "    <tr>\n",
       "      <th>153</th>\n",
       "      <td>C00608489</td>\n",
       "      <td>5</td>\n",
       "      <td>DONALD J TRUMP FOR PRESIDENT INC</td>\n",
       "    </tr>\n",
       "    <tr>\n",
       "      <th>154</th>\n",
       "      <td>C00608489</td>\n",
       "      <td>5</td>\n",
       "      <td>DONALD J TRUMP FOR PRESIDENT INC</td>\n",
       "    </tr>\n",
       "    <tr>\n",
       "      <th>155</th>\n",
       "      <td>C00608489</td>\n",
       "      <td>5</td>\n",
       "      <td>DONALD J TRUMP FOR PRESIDENT INC</td>\n",
       "    </tr>\n",
       "    <tr>\n",
       "      <th>156</th>\n",
       "      <td>C00608489</td>\n",
       "      <td>5</td>\n",
       "      <td>DONALD J TRUMP FOR PRESIDENT INC</td>\n",
       "    </tr>\n",
       "  </tbody>\n",
       "</table>\n",
       "<p>157 rows × 3 columns</p>\n",
       "</div>"
      ],
      "text/plain": [
       "       cmte_id  transaction_amt                              name\n",
       "0    C00230482             2600                     DONALD, TRUMP\n",
       "1    C00230482             2600                     DONALD, TRUMP\n",
       "2    C00014498             9000                     TRUMP, DONALD\n",
       "3    C00494229             2000                  TRUMP, DONALD MR\n",
       "4    C00571869             2700                  TRUMP, DONALD J.\n",
       "..         ...              ...                               ...\n",
       "152  C00608489                5  DONALD J TRUMP FOR PRESIDENT INC\n",
       "153  C00608489                5  DONALD J TRUMP FOR PRESIDENT INC\n",
       "154  C00608489                5  DONALD J TRUMP FOR PRESIDENT INC\n",
       "155  C00608489                5  DONALD J TRUMP FOR PRESIDENT INC\n",
       "156  C00608489                5  DONALD J TRUMP FOR PRESIDENT INC\n",
       "\n",
       "[157 rows x 3 columns]"
      ]
     },
     "execution_count": 34,
     "metadata": {},
     "output_type": "execute_result"
    }
   ],
   "source": [
    "# just run this cell\n",
    "example_query = \"\"\"\n",
    "SELECT \n",
    "    cmte_id,\n",
    "    transaction_amt,\n",
    "    name\n",
    "FROM indiv_sample_nyc\n",
    "WHERE name LIKE '%TRUMP%' AND name LIKE '%DONALD%';\n",
    "\"\"\"\n",
    "\n",
    "example_res = pd.read_sql(text(example_query), connection)\n",
    "example_res"
   ]
  },
  {
   "cell_type": "markdown",
   "id": "c07375a4",
   "metadata": {},
   "source": [
    "If we look at the list above, it appears that some donations were not by Donald Trump himself, but instead by an entity called \"DONALD J TRUMP FOR PRESIDENT INC\". Fortunately, we see that our query only seems to have picked up one such anomalous name."
   ]
  },
  {
   "cell_type": "code",
   "execution_count": 35,
   "id": "74a5b525",
   "metadata": {
    "scrolled": true,
    "tags": []
   },
   "outputs": [
    {
     "data": {
      "text/plain": [
       "TRUMP, DONALD J.                    133\n",
       "DONALD J TRUMP FOR PRESIDENT INC     15\n",
       "TRUMP, DONALD                         4\n",
       "DONALD, TRUMP                         2\n",
       "TRUMP, DONALD MR                      1\n",
       "TRUMP, DONALD J MR.                   1\n",
       "TRUMP, DONALD J MR                    1\n",
       "Name: name, dtype: int64"
      ]
     },
     "execution_count": 35,
     "metadata": {},
     "output_type": "execute_result"
    }
   ],
   "source": [
    "# just run this cell\n",
    "example_res['name'].value_counts()"
   ]
  },
  {
   "cell_type": "markdown",
   "id": "8ef99849",
   "metadata": {},
   "source": [
    "<br/><br/>\n",
    "\n",
    "<hr style=\"border: 1px solid #fdb515;\" />\n",
    "\n",
    "## Question 4\n",
    "\n",
    "Revise the above query so that the 15 anomalous donations made by \"DONALD J TRUMP FOR PRESIDENT INC\" do not appear. Your resulting table should have 142 rows. \n",
    "\n",
    "Hints:\n",
    "* Consider using the above query as a starting point, or checking out the SQL query skeleton at the top of this lab. \n",
    "* The `NOT` keyword may also be useful here.\n"
   ]
  },
  {
   "cell_type": "code",
   "execution_count": 36,
   "id": "e866fc4e",
   "metadata": {},
   "outputs": [
    {
     "name": "stdout",
     "output_type": "stream",
     "text": [
      " * sqlite:///fec_nyc.db\n",
      "   sqlite:///imdbmini.db\n",
      "Done.\n"
     ]
    },
    {
     "data": {
      "text/html": [
       "<table>\n",
       "    <thead>\n",
       "        <tr>\n",
       "            <th>cmte_id</th>\n",
       "            <th>transaction_amt</th>\n",
       "            <th>name</th>\n",
       "        </tr>\n",
       "    </thead>\n",
       "    <tbody>\n",
       "        <tr>\n",
       "            <td>C00230482</td>\n",
       "            <td>2600</td>\n",
       "            <td>DONALD, TRUMP</td>\n",
       "        </tr>\n",
       "        <tr>\n",
       "            <td>C00230482</td>\n",
       "            <td>2600</td>\n",
       "            <td>DONALD, TRUMP</td>\n",
       "        </tr>\n",
       "        <tr>\n",
       "            <td>C00014498</td>\n",
       "            <td>9000</td>\n",
       "            <td>TRUMP, DONALD</td>\n",
       "        </tr>\n",
       "        <tr>\n",
       "            <td>C00494229</td>\n",
       "            <td>2000</td>\n",
       "            <td>TRUMP, DONALD MR</td>\n",
       "        </tr>\n",
       "        <tr>\n",
       "            <td>C00571869</td>\n",
       "            <td>2700</td>\n",
       "            <td>TRUMP, DONALD J.</td>\n",
       "        </tr>\n",
       "        <tr>\n",
       "            <td>C00571869</td>\n",
       "            <td>2700</td>\n",
       "            <td>TRUMP, DONALD J.</td>\n",
       "        </tr>\n",
       "        <tr>\n",
       "            <td>C00136457</td>\n",
       "            <td>5000</td>\n",
       "            <td>TRUMP, DONALD</td>\n",
       "        </tr>\n",
       "        <tr>\n",
       "            <td>C00034033</td>\n",
       "            <td>5000</td>\n",
       "            <td>TRUMP, DONALD</td>\n",
       "        </tr>\n",
       "        <tr>\n",
       "            <td>C00580100</td>\n",
       "            <td>4049</td>\n",
       "            <td>TRUMP, DONALD J.</td>\n",
       "        </tr>\n",
       "        <tr>\n",
       "            <td>C00554949</td>\n",
       "            <td>2600</td>\n",
       "            <td>TRUMP, DONALD J MR.</td>\n",
       "        </tr>\n",
       "        <tr>\n",
       "            <td>C00369033</td>\n",
       "            <td>1000</td>\n",
       "            <td>TRUMP, DONALD J MR</td>\n",
       "        </tr>\n",
       "        <tr>\n",
       "            <td>C00580100</td>\n",
       "            <td>514</td>\n",
       "            <td>TRUMP, DONALD J.</td>\n",
       "        </tr>\n",
       "        <tr>\n",
       "            <td>C00580100</td>\n",
       "            <td>2574</td>\n",
       "            <td>TRUMP, DONALD J.</td>\n",
       "        </tr>\n",
       "        <tr>\n",
       "            <td>C00580100</td>\n",
       "            <td>4049</td>\n",
       "            <td>TRUMP, DONALD J.</td>\n",
       "        </tr>\n",
       "        <tr>\n",
       "            <td>C00580100</td>\n",
       "            <td>2574</td>\n",
       "            <td>TRUMP, DONALD J.</td>\n",
       "        </tr>\n",
       "        <tr>\n",
       "            <td>C00580100</td>\n",
       "            <td>4049</td>\n",
       "            <td>TRUMP, DONALD J.</td>\n",
       "        </tr>\n",
       "        <tr>\n",
       "            <td>C00580100</td>\n",
       "            <td>2574</td>\n",
       "            <td>TRUMP, DONALD J.</td>\n",
       "        </tr>\n",
       "        <tr>\n",
       "            <td>C00580100</td>\n",
       "            <td>4958</td>\n",
       "            <td>TRUMP, DONALD J.</td>\n",
       "        </tr>\n",
       "        <tr>\n",
       "            <td>C00580100</td>\n",
       "            <td>1713</td>\n",
       "            <td>TRUMP, DONALD J.</td>\n",
       "        </tr>\n",
       "        <tr>\n",
       "            <td>C00580100</td>\n",
       "            <td>2574</td>\n",
       "            <td>TRUMP, DONALD J.</td>\n",
       "        </tr>\n",
       "        <tr>\n",
       "            <td>C00580100</td>\n",
       "            <td>4127</td>\n",
       "            <td>TRUMP, DONALD J.</td>\n",
       "        </tr>\n",
       "        <tr>\n",
       "            <td>C00580100</td>\n",
       "            <td>3063</td>\n",
       "            <td>TRUMP, DONALD J.</td>\n",
       "        </tr>\n",
       "        <tr>\n",
       "            <td>C00580100</td>\n",
       "            <td>4164</td>\n",
       "            <td>TRUMP, DONALD J.</td>\n",
       "        </tr>\n",
       "        <tr>\n",
       "            <td>C00580100</td>\n",
       "            <td>3954</td>\n",
       "            <td>TRUMP, DONALD J.</td>\n",
       "        </tr>\n",
       "        <tr>\n",
       "            <td>C00580100</td>\n",
       "            <td>2460</td>\n",
       "            <td>TRUMP, DONALD J.</td>\n",
       "        </tr>\n",
       "        <tr>\n",
       "            <td>C00580100</td>\n",
       "            <td>2574</td>\n",
       "            <td>TRUMP, DONALD J.</td>\n",
       "        </tr>\n",
       "        <tr>\n",
       "            <td>C00580100</td>\n",
       "            <td>2574</td>\n",
       "            <td>TRUMP, DONALD J.</td>\n",
       "        </tr>\n",
       "        <tr>\n",
       "            <td>C00580100</td>\n",
       "            <td>2460</td>\n",
       "            <td>TRUMP, DONALD J.</td>\n",
       "        </tr>\n",
       "        <tr>\n",
       "            <td>C00580100</td>\n",
       "            <td>4591</td>\n",
       "            <td>TRUMP, DONALD J.</td>\n",
       "        </tr>\n",
       "        <tr>\n",
       "            <td>C00580100</td>\n",
       "            <td>15000</td>\n",
       "            <td>TRUMP, DONALD J.</td>\n",
       "        </tr>\n",
       "        <tr>\n",
       "            <td>C00580100</td>\n",
       "            <td>224</td>\n",
       "            <td>TRUMP, DONALD J.</td>\n",
       "        </tr>\n",
       "        <tr>\n",
       "            <td>C00580100</td>\n",
       "            <td>15000</td>\n",
       "            <td>TRUMP, DONALD J.</td>\n",
       "        </tr>\n",
       "        <tr>\n",
       "            <td>C00580100</td>\n",
       "            <td>15000</td>\n",
       "            <td>TRUMP, DONALD J.</td>\n",
       "        </tr>\n",
       "        <tr>\n",
       "            <td>C00580100</td>\n",
       "            <td>2460</td>\n",
       "            <td>TRUMP, DONALD J.</td>\n",
       "        </tr>\n",
       "        <tr>\n",
       "            <td>C00580100</td>\n",
       "            <td>2426</td>\n",
       "            <td>TRUMP, DONALD J.</td>\n",
       "        </tr>\n",
       "        <tr>\n",
       "            <td>C00580100</td>\n",
       "            <td>3548</td>\n",
       "            <td>TRUMP, DONALD J.</td>\n",
       "        </tr>\n",
       "        <tr>\n",
       "            <td>C00580100</td>\n",
       "            <td>15000</td>\n",
       "            <td>TRUMP, DONALD J.</td>\n",
       "        </tr>\n",
       "        <tr>\n",
       "            <td>C00580100</td>\n",
       "            <td>2529</td>\n",
       "            <td>TRUMP, DONALD J.</td>\n",
       "        </tr>\n",
       "        <tr>\n",
       "            <td>C00580100</td>\n",
       "            <td>2574</td>\n",
       "            <td>TRUMP, DONALD J.</td>\n",
       "        </tr>\n",
       "        <tr>\n",
       "            <td>C00580100</td>\n",
       "            <td>2574</td>\n",
       "            <td>TRUMP, DONALD J.</td>\n",
       "        </tr>\n",
       "        <tr>\n",
       "            <td>C00580100</td>\n",
       "            <td>2544</td>\n",
       "            <td>TRUMP, DONALD J.</td>\n",
       "        </tr>\n",
       "        <tr>\n",
       "            <td>C00580100</td>\n",
       "            <td>2531</td>\n",
       "            <td>TRUMP, DONALD J.</td>\n",
       "        </tr>\n",
       "        <tr>\n",
       "            <td>C00580100</td>\n",
       "            <td>2426</td>\n",
       "            <td>TRUMP, DONALD J.</td>\n",
       "        </tr>\n",
       "        <tr>\n",
       "            <td>C00580100</td>\n",
       "            <td>3499</td>\n",
       "            <td>TRUMP, DONALD J.</td>\n",
       "        </tr>\n",
       "        <tr>\n",
       "            <td>C00580100</td>\n",
       "            <td>1216</td>\n",
       "            <td>TRUMP, DONALD J.</td>\n",
       "        </tr>\n",
       "        <tr>\n",
       "            <td>C00580100</td>\n",
       "            <td>2460</td>\n",
       "            <td>TRUMP, DONALD J.</td>\n",
       "        </tr>\n",
       "        <tr>\n",
       "            <td>C00580100</td>\n",
       "            <td>7990</td>\n",
       "            <td>TRUMP, DONALD J.</td>\n",
       "        </tr>\n",
       "        <tr>\n",
       "            <td>C00580100</td>\n",
       "            <td>5574</td>\n",
       "            <td>TRUMP, DONALD J.</td>\n",
       "        </tr>\n",
       "        <tr>\n",
       "            <td>C00580100</td>\n",
       "            <td>15000</td>\n",
       "            <td>TRUMP, DONALD J.</td>\n",
       "        </tr>\n",
       "        <tr>\n",
       "            <td>C00580100</td>\n",
       "            <td>2544</td>\n",
       "            <td>TRUMP, DONALD J.</td>\n",
       "        </tr>\n",
       "        <tr>\n",
       "            <td>C00580100</td>\n",
       "            <td>6250</td>\n",
       "            <td>TRUMP, DONALD J.</td>\n",
       "        </tr>\n",
       "        <tr>\n",
       "            <td>C00580100</td>\n",
       "            <td>2991</td>\n",
       "            <td>TRUMP, DONALD J.</td>\n",
       "        </tr>\n",
       "        <tr>\n",
       "            <td>C00580100</td>\n",
       "            <td>2544</td>\n",
       "            <td>TRUMP, DONALD J.</td>\n",
       "        </tr>\n",
       "        <tr>\n",
       "            <td>C00580100</td>\n",
       "            <td>4931</td>\n",
       "            <td>TRUMP, DONALD J.</td>\n",
       "        </tr>\n",
       "        <tr>\n",
       "            <td>C00580100</td>\n",
       "            <td>2574</td>\n",
       "            <td>TRUMP, DONALD J.</td>\n",
       "        </tr>\n",
       "        <tr>\n",
       "            <td>C00580100</td>\n",
       "            <td>2544</td>\n",
       "            <td>TRUMP, DONALD J.</td>\n",
       "        </tr>\n",
       "        <tr>\n",
       "            <td>C00580100</td>\n",
       "            <td>15000</td>\n",
       "            <td>TRUMP, DONALD J.</td>\n",
       "        </tr>\n",
       "        <tr>\n",
       "            <td>C00580100</td>\n",
       "            <td>15000</td>\n",
       "            <td>TRUMP, DONALD J.</td>\n",
       "        </tr>\n",
       "        <tr>\n",
       "            <td>C00580100</td>\n",
       "            <td>2693</td>\n",
       "            <td>TRUMP, DONALD J.</td>\n",
       "        </tr>\n",
       "        <tr>\n",
       "            <td>C00580100</td>\n",
       "            <td>2620</td>\n",
       "            <td>TRUMP, DONALD J.</td>\n",
       "        </tr>\n",
       "        <tr>\n",
       "            <td>C00580100</td>\n",
       "            <td>2693</td>\n",
       "            <td>TRUMP, DONALD J.</td>\n",
       "        </tr>\n",
       "        <tr>\n",
       "            <td>C00580100</td>\n",
       "            <td>2692</td>\n",
       "            <td>TRUMP, DONALD J.</td>\n",
       "        </tr>\n",
       "        <tr>\n",
       "            <td>C00580100</td>\n",
       "            <td>3371</td>\n",
       "            <td>TRUMP, DONALD J.</td>\n",
       "        </tr>\n",
       "        <tr>\n",
       "            <td>C00580100</td>\n",
       "            <td>2679</td>\n",
       "            <td>TRUMP, DONALD J.</td>\n",
       "        </tr>\n",
       "        <tr>\n",
       "            <td>C00580100</td>\n",
       "            <td>2587</td>\n",
       "            <td>TRUMP, DONALD J.</td>\n",
       "        </tr>\n",
       "        <tr>\n",
       "            <td>C00580100</td>\n",
       "            <td>3360</td>\n",
       "            <td>TRUMP, DONALD J.</td>\n",
       "        </tr>\n",
       "        <tr>\n",
       "            <td>C00580100</td>\n",
       "            <td>2587</td>\n",
       "            <td>TRUMP, DONALD J.</td>\n",
       "        </tr>\n",
       "        <tr>\n",
       "            <td>C00580100</td>\n",
       "            <td>2587</td>\n",
       "            <td>TRUMP, DONALD J.</td>\n",
       "        </tr>\n",
       "        <tr>\n",
       "            <td>C00580100</td>\n",
       "            <td>3347</td>\n",
       "            <td>TRUMP, DONALD J.</td>\n",
       "        </tr>\n",
       "        <tr>\n",
       "            <td>C00580100</td>\n",
       "            <td>2587</td>\n",
       "            <td>TRUMP, DONALD J.</td>\n",
       "        </tr>\n",
       "        <tr>\n",
       "            <td>C00580100</td>\n",
       "            <td>15000</td>\n",
       "            <td>TRUMP, DONALD J.</td>\n",
       "        </tr>\n",
       "        <tr>\n",
       "            <td>C00580100</td>\n",
       "            <td>2536</td>\n",
       "            <td>TRUMP, DONALD J.</td>\n",
       "        </tr>\n",
       "        <tr>\n",
       "            <td>C00580100</td>\n",
       "            <td>2536</td>\n",
       "            <td>TRUMP, DONALD J.</td>\n",
       "        </tr>\n",
       "        <tr>\n",
       "            <td>C00580100</td>\n",
       "            <td>15000</td>\n",
       "            <td>TRUMP, DONALD J.</td>\n",
       "        </tr>\n",
       "        <tr>\n",
       "            <td>C00580100</td>\n",
       "            <td>2536</td>\n",
       "            <td>TRUMP, DONALD J.</td>\n",
       "        </tr>\n",
       "        <tr>\n",
       "            <td>C00580100</td>\n",
       "            <td>3706</td>\n",
       "            <td>TRUMP, DONALD J.</td>\n",
       "        </tr>\n",
       "        <tr>\n",
       "            <td>C00580100</td>\n",
       "            <td>2536</td>\n",
       "            <td>TRUMP, DONALD J.</td>\n",
       "        </tr>\n",
       "        <tr>\n",
       "            <td>C00580100</td>\n",
       "            <td>2536</td>\n",
       "            <td>TRUMP, DONALD J.</td>\n",
       "        </tr>\n",
       "        <tr>\n",
       "            <td>C00580100</td>\n",
       "            <td>3706</td>\n",
       "            <td>TRUMP, DONALD J.</td>\n",
       "        </tr>\n",
       "        <tr>\n",
       "            <td>C00580100</td>\n",
       "            <td>2574</td>\n",
       "            <td>TRUMP, DONALD J.</td>\n",
       "        </tr>\n",
       "        <tr>\n",
       "            <td>C00580100</td>\n",
       "            <td>15000</td>\n",
       "            <td>TRUMP, DONALD J.</td>\n",
       "        </tr>\n",
       "        <tr>\n",
       "            <td>C00580100</td>\n",
       "            <td>5297</td>\n",
       "            <td>TRUMP, DONALD J.</td>\n",
       "        </tr>\n",
       "        <tr>\n",
       "            <td>C00580100</td>\n",
       "            <td>2574</td>\n",
       "            <td>TRUMP, DONALD J.</td>\n",
       "        </tr>\n",
       "        <tr>\n",
       "            <td>C00580100</td>\n",
       "            <td>3706</td>\n",
       "            <td>TRUMP, DONALD J.</td>\n",
       "        </tr>\n",
       "        <tr>\n",
       "            <td>C00580100</td>\n",
       "            <td>2574</td>\n",
       "            <td>TRUMP, DONALD J.</td>\n",
       "        </tr>\n",
       "        <tr>\n",
       "            <td>C00580100</td>\n",
       "            <td>2574</td>\n",
       "            <td>TRUMP, DONALD J.</td>\n",
       "        </tr>\n",
       "        <tr>\n",
       "            <td>C00580100</td>\n",
       "            <td>11023</td>\n",
       "            <td>TRUMP, DONALD J.</td>\n",
       "        </tr>\n",
       "        <tr>\n",
       "            <td>C00580100</td>\n",
       "            <td>15000</td>\n",
       "            <td>TRUMP, DONALD J.</td>\n",
       "        </tr>\n",
       "        <tr>\n",
       "            <td>C00580100</td>\n",
       "            <td>3706</td>\n",
       "            <td>TRUMP, DONALD J.</td>\n",
       "        </tr>\n",
       "        <tr>\n",
       "            <td>C00580100</td>\n",
       "            <td>2574</td>\n",
       "            <td>TRUMP, DONALD J.</td>\n",
       "        </tr>\n",
       "        <tr>\n",
       "            <td>C00580100</td>\n",
       "            <td>2574</td>\n",
       "            <td>TRUMP, DONALD J.</td>\n",
       "        </tr>\n",
       "        <tr>\n",
       "            <td>C00580100</td>\n",
       "            <td>3706</td>\n",
       "            <td>TRUMP, DONALD J.</td>\n",
       "        </tr>\n",
       "        <tr>\n",
       "            <td>C00580100</td>\n",
       "            <td>2574</td>\n",
       "            <td>TRUMP, DONALD J.</td>\n",
       "        </tr>\n",
       "        <tr>\n",
       "            <td>C00580100</td>\n",
       "            <td>2574</td>\n",
       "            <td>TRUMP, DONALD J.</td>\n",
       "        </tr>\n",
       "        <tr>\n",
       "            <td>C00055582</td>\n",
       "            <td>10000</td>\n",
       "            <td>TRUMP, DONALD</td>\n",
       "        </tr>\n",
       "        <tr>\n",
       "            <td>C00580100</td>\n",
       "            <td>9651</td>\n",
       "            <td>TRUMP, DONALD J.</td>\n",
       "        </tr>\n",
       "        <tr>\n",
       "            <td>C00580100</td>\n",
       "            <td>2574</td>\n",
       "            <td>TRUMP, DONALD J.</td>\n",
       "        </tr>\n",
       "        <tr>\n",
       "            <td>C00580100</td>\n",
       "            <td>2000000</td>\n",
       "            <td>TRUMP, DONALD J.</td>\n",
       "        </tr>\n",
       "        <tr>\n",
       "            <td>C00580100</td>\n",
       "            <td>2574</td>\n",
       "            <td>TRUMP, DONALD J.</td>\n",
       "        </tr>\n",
       "        <tr>\n",
       "            <td>C00580100</td>\n",
       "            <td>9106</td>\n",
       "            <td>TRUMP, DONALD J.</td>\n",
       "        </tr>\n",
       "        <tr>\n",
       "            <td>C00580100</td>\n",
       "            <td>2574</td>\n",
       "            <td>TRUMP, DONALD J.</td>\n",
       "        </tr>\n",
       "        <tr>\n",
       "            <td>C00580100</td>\n",
       "            <td>2574</td>\n",
       "            <td>TRUMP, DONALD J.</td>\n",
       "        </tr>\n",
       "        <tr>\n",
       "            <td>C00580100</td>\n",
       "            <td>15000</td>\n",
       "            <td>TRUMP, DONALD J.</td>\n",
       "        </tr>\n",
       "        <tr>\n",
       "            <td>C00580100</td>\n",
       "            <td>2574</td>\n",
       "            <td>TRUMP, DONALD J.</td>\n",
       "        </tr>\n",
       "        <tr>\n",
       "            <td>C00580100</td>\n",
       "            <td>9000</td>\n",
       "            <td>TRUMP, DONALD J.</td>\n",
       "        </tr>\n",
       "        <tr>\n",
       "            <td>C00580100</td>\n",
       "            <td>2574</td>\n",
       "            <td>TRUMP, DONALD J.</td>\n",
       "        </tr>\n",
       "        <tr>\n",
       "            <td>C00580100</td>\n",
       "            <td>6197</td>\n",
       "            <td>TRUMP, DONALD J.</td>\n",
       "        </tr>\n",
       "        <tr>\n",
       "            <td>C00580100</td>\n",
       "            <td>2574</td>\n",
       "            <td>TRUMP, DONALD J.</td>\n",
       "        </tr>\n",
       "        <tr>\n",
       "            <td>C00580100</td>\n",
       "            <td>2574</td>\n",
       "            <td>TRUMP, DONALD J.</td>\n",
       "        </tr>\n",
       "        <tr>\n",
       "            <td>C00580100</td>\n",
       "            <td>8735</td>\n",
       "            <td>TRUMP, DONALD J.</td>\n",
       "        </tr>\n",
       "        <tr>\n",
       "            <td>C00580100</td>\n",
       "            <td>2574</td>\n",
       "            <td>TRUMP, DONALD J.</td>\n",
       "        </tr>\n",
       "        <tr>\n",
       "            <td>C00580100</td>\n",
       "            <td>2000000</td>\n",
       "            <td>TRUMP, DONALD J.</td>\n",
       "        </tr>\n",
       "        <tr>\n",
       "            <td>C00580100</td>\n",
       "            <td>2574</td>\n",
       "            <td>TRUMP, DONALD J.</td>\n",
       "        </tr>\n",
       "        <tr>\n",
       "            <td>C00580100</td>\n",
       "            <td>2574</td>\n",
       "            <td>TRUMP, DONALD J.</td>\n",
       "        </tr>\n",
       "        <tr>\n",
       "            <td>C00580100</td>\n",
       "            <td>2574</td>\n",
       "            <td>TRUMP, DONALD J.</td>\n",
       "        </tr>\n",
       "        <tr>\n",
       "            <td>C00580100</td>\n",
       "            <td>10000000</td>\n",
       "            <td>TRUMP, DONALD J.</td>\n",
       "        </tr>\n",
       "        <tr>\n",
       "            <td>C00580100</td>\n",
       "            <td>9000</td>\n",
       "            <td>TRUMP, DONALD J.</td>\n",
       "        </tr>\n",
       "        <tr>\n",
       "            <td>C00580100</td>\n",
       "            <td>2574</td>\n",
       "            <td>TRUMP, DONALD J.</td>\n",
       "        </tr>\n",
       "        <tr>\n",
       "            <td>C00580100</td>\n",
       "            <td>6990</td>\n",
       "            <td>TRUMP, DONALD J.</td>\n",
       "        </tr>\n",
       "        <tr>\n",
       "            <td>C00580100</td>\n",
       "            <td>1029</td>\n",
       "            <td>TRUMP, DONALD J.</td>\n",
       "        </tr>\n",
       "        <tr>\n",
       "            <td>C00580100</td>\n",
       "            <td>8896</td>\n",
       "            <td>TRUMP, DONALD J.</td>\n",
       "        </tr>\n",
       "        <tr>\n",
       "            <td>C00580100</td>\n",
       "            <td>9000</td>\n",
       "            <td>TRUMP, DONALD J.</td>\n",
       "        </tr>\n",
       "        <tr>\n",
       "            <td>C00580100</td>\n",
       "            <td>7519</td>\n",
       "            <td>TRUMP, DONALD J.</td>\n",
       "        </tr>\n",
       "        <tr>\n",
       "            <td>C00580100</td>\n",
       "            <td>2574</td>\n",
       "            <td>TRUMP, DONALD J.</td>\n",
       "        </tr>\n",
       "        <tr>\n",
       "            <td>C00580100</td>\n",
       "            <td>2574</td>\n",
       "            <td>TRUMP, DONALD J.</td>\n",
       "        </tr>\n",
       "        <tr>\n",
       "            <td>C00580100</td>\n",
       "            <td>9013</td>\n",
       "            <td>TRUMP, DONALD J.</td>\n",
       "        </tr>\n",
       "        <tr>\n",
       "            <td>C00580100</td>\n",
       "            <td>2574</td>\n",
       "            <td>TRUMP, DONALD J.</td>\n",
       "        </tr>\n",
       "        <tr>\n",
       "            <td>C00580100</td>\n",
       "            <td>10418</td>\n",
       "            <td>TRUMP, DONALD J.</td>\n",
       "        </tr>\n",
       "        <tr>\n",
       "            <td>C00580100</td>\n",
       "            <td>2574</td>\n",
       "            <td>TRUMP, DONALD J.</td>\n",
       "        </tr>\n",
       "        <tr>\n",
       "            <td>C00580100</td>\n",
       "            <td>2574</td>\n",
       "            <td>TRUMP, DONALD J.</td>\n",
       "        </tr>\n",
       "        <tr>\n",
       "            <td>C00580100</td>\n",
       "            <td>7401</td>\n",
       "            <td>TRUMP, DONALD J.</td>\n",
       "        </tr>\n",
       "        <tr>\n",
       "            <td>C00580100</td>\n",
       "            <td>2574</td>\n",
       "            <td>TRUMP, DONALD J.</td>\n",
       "        </tr>\n",
       "        <tr>\n",
       "            <td>C00580100</td>\n",
       "            <td>2000000</td>\n",
       "            <td>TRUMP, DONALD J.</td>\n",
       "        </tr>\n",
       "        <tr>\n",
       "            <td>C00580100</td>\n",
       "            <td>9000</td>\n",
       "            <td>TRUMP, DONALD J.</td>\n",
       "        </tr>\n",
       "        <tr>\n",
       "            <td>C00580100</td>\n",
       "            <td>2574</td>\n",
       "            <td>TRUMP, DONALD J.</td>\n",
       "        </tr>\n",
       "        <tr>\n",
       "            <td>C00580100</td>\n",
       "            <td>9000</td>\n",
       "            <td>TRUMP, DONALD J.</td>\n",
       "        </tr>\n",
       "        <tr>\n",
       "            <td>C00580100</td>\n",
       "            <td>2574</td>\n",
       "            <td>TRUMP, DONALD J.</td>\n",
       "        </tr>\n",
       "        <tr>\n",
       "            <td>C00580100</td>\n",
       "            <td>9752</td>\n",
       "            <td>TRUMP, DONALD J.</td>\n",
       "        </tr>\n",
       "        <tr>\n",
       "            <td>C00580100</td>\n",
       "            <td>2574</td>\n",
       "            <td>TRUMP, DONALD J.</td>\n",
       "        </tr>\n",
       "        <tr>\n",
       "            <td>C00580100</td>\n",
       "            <td>23775</td>\n",
       "            <td>TRUMP, DONALD J.</td>\n",
       "        </tr>\n",
       "        <tr>\n",
       "            <td>C00580100</td>\n",
       "            <td>2000000</td>\n",
       "            <td>TRUMP, DONALD J.</td>\n",
       "        </tr>\n",
       "        <tr>\n",
       "            <td>C00580100</td>\n",
       "            <td>2574</td>\n",
       "            <td>TRUMP, DONALD J.</td>\n",
       "        </tr>\n",
       "    </tbody>\n",
       "</table>"
      ],
      "text/plain": [
       "[('C00230482', 2600, 'DONALD, TRUMP'),\n",
       " ('C00230482', 2600, 'DONALD, TRUMP'),\n",
       " ('C00014498', 9000, 'TRUMP, DONALD'),\n",
       " ('C00494229', 2000, 'TRUMP, DONALD MR'),\n",
       " ('C00571869', 2700, 'TRUMP, DONALD J.'),\n",
       " ('C00571869', 2700, 'TRUMP, DONALD J.'),\n",
       " ('C00136457', 5000, 'TRUMP, DONALD'),\n",
       " ('C00034033', 5000, 'TRUMP, DONALD'),\n",
       " ('C00580100', 4049, 'TRUMP, DONALD J.'),\n",
       " ('C00554949', 2600, 'TRUMP, DONALD J MR.'),\n",
       " ('C00369033', 1000, 'TRUMP, DONALD J MR'),\n",
       " ('C00580100', 514, 'TRUMP, DONALD J.'),\n",
       " ('C00580100', 2574, 'TRUMP, DONALD J.'),\n",
       " ('C00580100', 4049, 'TRUMP, DONALD J.'),\n",
       " ('C00580100', 2574, 'TRUMP, DONALD J.'),\n",
       " ('C00580100', 4049, 'TRUMP, DONALD J.'),\n",
       " ('C00580100', 2574, 'TRUMP, DONALD J.'),\n",
       " ('C00580100', 4958, 'TRUMP, DONALD J.'),\n",
       " ('C00580100', 1713, 'TRUMP, DONALD J.'),\n",
       " ('C00580100', 2574, 'TRUMP, DONALD J.'),\n",
       " ('C00580100', 4127, 'TRUMP, DONALD J.'),\n",
       " ('C00580100', 3063, 'TRUMP, DONALD J.'),\n",
       " ('C00580100', 4164, 'TRUMP, DONALD J.'),\n",
       " ('C00580100', 3954, 'TRUMP, DONALD J.'),\n",
       " ('C00580100', 2460, 'TRUMP, DONALD J.'),\n",
       " ('C00580100', 2574, 'TRUMP, DONALD J.'),\n",
       " ('C00580100', 2574, 'TRUMP, DONALD J.'),\n",
       " ('C00580100', 2460, 'TRUMP, DONALD J.'),\n",
       " ('C00580100', 4591, 'TRUMP, DONALD J.'),\n",
       " ('C00580100', 15000, 'TRUMP, DONALD J.'),\n",
       " ('C00580100', 224, 'TRUMP, DONALD J.'),\n",
       " ('C00580100', 15000, 'TRUMP, DONALD J.'),\n",
       " ('C00580100', 15000, 'TRUMP, DONALD J.'),\n",
       " ('C00580100', 2460, 'TRUMP, DONALD J.'),\n",
       " ('C00580100', 2426, 'TRUMP, DONALD J.'),\n",
       " ('C00580100', 3548, 'TRUMP, DONALD J.'),\n",
       " ('C00580100', 15000, 'TRUMP, DONALD J.'),\n",
       " ('C00580100', 2529, 'TRUMP, DONALD J.'),\n",
       " ('C00580100', 2574, 'TRUMP, DONALD J.'),\n",
       " ('C00580100', 2574, 'TRUMP, DONALD J.'),\n",
       " ('C00580100', 2544, 'TRUMP, DONALD J.'),\n",
       " ('C00580100', 2531, 'TRUMP, DONALD J.'),\n",
       " ('C00580100', 2426, 'TRUMP, DONALD J.'),\n",
       " ('C00580100', 3499, 'TRUMP, DONALD J.'),\n",
       " ('C00580100', 1216, 'TRUMP, DONALD J.'),\n",
       " ('C00580100', 2460, 'TRUMP, DONALD J.'),\n",
       " ('C00580100', 7990, 'TRUMP, DONALD J.'),\n",
       " ('C00580100', 5574, 'TRUMP, DONALD J.'),\n",
       " ('C00580100', 15000, 'TRUMP, DONALD J.'),\n",
       " ('C00580100', 2544, 'TRUMP, DONALD J.'),\n",
       " ('C00580100', 6250, 'TRUMP, DONALD J.'),\n",
       " ('C00580100', 2991, 'TRUMP, DONALD J.'),\n",
       " ('C00580100', 2544, 'TRUMP, DONALD J.'),\n",
       " ('C00580100', 4931, 'TRUMP, DONALD J.'),\n",
       " ('C00580100', 2574, 'TRUMP, DONALD J.'),\n",
       " ('C00580100', 2544, 'TRUMP, DONALD J.'),\n",
       " ('C00580100', 15000, 'TRUMP, DONALD J.'),\n",
       " ('C00580100', 15000, 'TRUMP, DONALD J.'),\n",
       " ('C00580100', 2693, 'TRUMP, DONALD J.'),\n",
       " ('C00580100', 2620, 'TRUMP, DONALD J.'),\n",
       " ('C00580100', 2693, 'TRUMP, DONALD J.'),\n",
       " ('C00580100', 2692, 'TRUMP, DONALD J.'),\n",
       " ('C00580100', 3371, 'TRUMP, DONALD J.'),\n",
       " ('C00580100', 2679, 'TRUMP, DONALD J.'),\n",
       " ('C00580100', 2587, 'TRUMP, DONALD J.'),\n",
       " ('C00580100', 3360, 'TRUMP, DONALD J.'),\n",
       " ('C00580100', 2587, 'TRUMP, DONALD J.'),\n",
       " ('C00580100', 2587, 'TRUMP, DONALD J.'),\n",
       " ('C00580100', 3347, 'TRUMP, DONALD J.'),\n",
       " ('C00580100', 2587, 'TRUMP, DONALD J.'),\n",
       " ('C00580100', 15000, 'TRUMP, DONALD J.'),\n",
       " ('C00580100', 2536, 'TRUMP, DONALD J.'),\n",
       " ('C00580100', 2536, 'TRUMP, DONALD J.'),\n",
       " ('C00580100', 15000, 'TRUMP, DONALD J.'),\n",
       " ('C00580100', 2536, 'TRUMP, DONALD J.'),\n",
       " ('C00580100', 3706, 'TRUMP, DONALD J.'),\n",
       " ('C00580100', 2536, 'TRUMP, DONALD J.'),\n",
       " ('C00580100', 2536, 'TRUMP, DONALD J.'),\n",
       " ('C00580100', 3706, 'TRUMP, DONALD J.'),\n",
       " ('C00580100', 2574, 'TRUMP, DONALD J.'),\n",
       " ('C00580100', 15000, 'TRUMP, DONALD J.'),\n",
       " ('C00580100', 5297, 'TRUMP, DONALD J.'),\n",
       " ('C00580100', 2574, 'TRUMP, DONALD J.'),\n",
       " ('C00580100', 3706, 'TRUMP, DONALD J.'),\n",
       " ('C00580100', 2574, 'TRUMP, DONALD J.'),\n",
       " ('C00580100', 2574, 'TRUMP, DONALD J.'),\n",
       " ('C00580100', 11023, 'TRUMP, DONALD J.'),\n",
       " ('C00580100', 15000, 'TRUMP, DONALD J.'),\n",
       " ('C00580100', 3706, 'TRUMP, DONALD J.'),\n",
       " ('C00580100', 2574, 'TRUMP, DONALD J.'),\n",
       " ('C00580100', 2574, 'TRUMP, DONALD J.'),\n",
       " ('C00580100', 3706, 'TRUMP, DONALD J.'),\n",
       " ('C00580100', 2574, 'TRUMP, DONALD J.'),\n",
       " ('C00580100', 2574, 'TRUMP, DONALD J.'),\n",
       " ('C00055582', 10000, 'TRUMP, DONALD'),\n",
       " ('C00580100', 9651, 'TRUMP, DONALD J.'),\n",
       " ('C00580100', 2574, 'TRUMP, DONALD J.'),\n",
       " ('C00580100', 2000000, 'TRUMP, DONALD J.'),\n",
       " ('C00580100', 2574, 'TRUMP, DONALD J.'),\n",
       " ('C00580100', 9106, 'TRUMP, DONALD J.'),\n",
       " ('C00580100', 2574, 'TRUMP, DONALD J.'),\n",
       " ('C00580100', 2574, 'TRUMP, DONALD J.'),\n",
       " ('C00580100', 15000, 'TRUMP, DONALD J.'),\n",
       " ('C00580100', 2574, 'TRUMP, DONALD J.'),\n",
       " ('C00580100', 9000, 'TRUMP, DONALD J.'),\n",
       " ('C00580100', 2574, 'TRUMP, DONALD J.'),\n",
       " ('C00580100', 6197, 'TRUMP, DONALD J.'),\n",
       " ('C00580100', 2574, 'TRUMP, DONALD J.'),\n",
       " ('C00580100', 2574, 'TRUMP, DONALD J.'),\n",
       " ('C00580100', 8735, 'TRUMP, DONALD J.'),\n",
       " ('C00580100', 2574, 'TRUMP, DONALD J.'),\n",
       " ('C00580100', 2000000, 'TRUMP, DONALD J.'),\n",
       " ('C00580100', 2574, 'TRUMP, DONALD J.'),\n",
       " ('C00580100', 2574, 'TRUMP, DONALD J.'),\n",
       " ('C00580100', 2574, 'TRUMP, DONALD J.'),\n",
       " ('C00580100', 10000000, 'TRUMP, DONALD J.'),\n",
       " ('C00580100', 9000, 'TRUMP, DONALD J.'),\n",
       " ('C00580100', 2574, 'TRUMP, DONALD J.'),\n",
       " ('C00580100', 6990, 'TRUMP, DONALD J.'),\n",
       " ('C00580100', 1029, 'TRUMP, DONALD J.'),\n",
       " ('C00580100', 8896, 'TRUMP, DONALD J.'),\n",
       " ('C00580100', 9000, 'TRUMP, DONALD J.'),\n",
       " ('C00580100', 7519, 'TRUMP, DONALD J.'),\n",
       " ('C00580100', 2574, 'TRUMP, DONALD J.'),\n",
       " ('C00580100', 2574, 'TRUMP, DONALD J.'),\n",
       " ('C00580100', 9013, 'TRUMP, DONALD J.'),\n",
       " ('C00580100', 2574, 'TRUMP, DONALD J.'),\n",
       " ('C00580100', 10418, 'TRUMP, DONALD J.'),\n",
       " ('C00580100', 2574, 'TRUMP, DONALD J.'),\n",
       " ('C00580100', 2574, 'TRUMP, DONALD J.'),\n",
       " ('C00580100', 7401, 'TRUMP, DONALD J.'),\n",
       " ('C00580100', 2574, 'TRUMP, DONALD J.'),\n",
       " ('C00580100', 2000000, 'TRUMP, DONALD J.'),\n",
       " ('C00580100', 9000, 'TRUMP, DONALD J.'),\n",
       " ('C00580100', 2574, 'TRUMP, DONALD J.'),\n",
       " ('C00580100', 9000, 'TRUMP, DONALD J.'),\n",
       " ('C00580100', 2574, 'TRUMP, DONALD J.'),\n",
       " ('C00580100', 9752, 'TRUMP, DONALD J.'),\n",
       " ('C00580100', 2574, 'TRUMP, DONALD J.'),\n",
       " ('C00580100', 23775, 'TRUMP, DONALD J.'),\n",
       " ('C00580100', 2000000, 'TRUMP, DONALD J.'),\n",
       " ('C00580100', 2574, 'TRUMP, DONALD J.')]"
      ]
     },
     "execution_count": 36,
     "metadata": {},
     "output_type": "execute_result"
    }
   ],
   "source": [
    "%%sql\n",
    "/*\n",
    " * Code in this scratchwork cell is __not graded.__\n",
    " * Copy over any SQL queries you write here into the below Python cell.\n",
    " * Do __not__ insert any new cells in between the SQL/Python cells!\n",
    " * Doing so may break the autograder.\n",
    " */\n",
    "-- Write below this comment. --\n",
    "SELECT \n",
    "    cmte_id,\n",
    "    transaction_amt,\n",
    "    name\n",
    "FROM indiv_sample_nyc\n",
    "WHERE name LIKE '%TRUMP%' AND name LIKE '%DONALD%' AND name NOT LIKE 'DONALD J TRUMP FOR PRESIDENT INC';"
   ]
  },
  {
   "cell_type": "code",
   "execution_count": 37,
   "id": "69d3daca",
   "metadata": {},
   "outputs": [
    {
     "data": {
      "text/html": [
       "<div>\n",
       "<style scoped>\n",
       "    .dataframe tbody tr th:only-of-type {\n",
       "        vertical-align: middle;\n",
       "    }\n",
       "\n",
       "    .dataframe tbody tr th {\n",
       "        vertical-align: top;\n",
       "    }\n",
       "\n",
       "    .dataframe thead th {\n",
       "        text-align: right;\n",
       "    }\n",
       "</style>\n",
       "<table border=\"1\" class=\"dataframe\">\n",
       "  <thead>\n",
       "    <tr style=\"text-align: right;\">\n",
       "      <th></th>\n",
       "      <th>cmte_id</th>\n",
       "      <th>transaction_amt</th>\n",
       "      <th>name</th>\n",
       "    </tr>\n",
       "  </thead>\n",
       "  <tbody>\n",
       "    <tr>\n",
       "      <th>0</th>\n",
       "      <td>C00230482</td>\n",
       "      <td>2600</td>\n",
       "      <td>DONALD, TRUMP</td>\n",
       "    </tr>\n",
       "    <tr>\n",
       "      <th>1</th>\n",
       "      <td>C00230482</td>\n",
       "      <td>2600</td>\n",
       "      <td>DONALD, TRUMP</td>\n",
       "    </tr>\n",
       "    <tr>\n",
       "      <th>2</th>\n",
       "      <td>C00014498</td>\n",
       "      <td>9000</td>\n",
       "      <td>TRUMP, DONALD</td>\n",
       "    </tr>\n",
       "    <tr>\n",
       "      <th>3</th>\n",
       "      <td>C00494229</td>\n",
       "      <td>2000</td>\n",
       "      <td>TRUMP, DONALD MR</td>\n",
       "    </tr>\n",
       "    <tr>\n",
       "      <th>4</th>\n",
       "      <td>C00571869</td>\n",
       "      <td>2700</td>\n",
       "      <td>TRUMP, DONALD J.</td>\n",
       "    </tr>\n",
       "    <tr>\n",
       "      <th>...</th>\n",
       "      <td>...</td>\n",
       "      <td>...</td>\n",
       "      <td>...</td>\n",
       "    </tr>\n",
       "    <tr>\n",
       "      <th>137</th>\n",
       "      <td>C00580100</td>\n",
       "      <td>9752</td>\n",
       "      <td>TRUMP, DONALD J.</td>\n",
       "    </tr>\n",
       "    <tr>\n",
       "      <th>138</th>\n",
       "      <td>C00580100</td>\n",
       "      <td>2574</td>\n",
       "      <td>TRUMP, DONALD J.</td>\n",
       "    </tr>\n",
       "    <tr>\n",
       "      <th>139</th>\n",
       "      <td>C00580100</td>\n",
       "      <td>23775</td>\n",
       "      <td>TRUMP, DONALD J.</td>\n",
       "    </tr>\n",
       "    <tr>\n",
       "      <th>140</th>\n",
       "      <td>C00580100</td>\n",
       "      <td>2000000</td>\n",
       "      <td>TRUMP, DONALD J.</td>\n",
       "    </tr>\n",
       "    <tr>\n",
       "      <th>141</th>\n",
       "      <td>C00580100</td>\n",
       "      <td>2574</td>\n",
       "      <td>TRUMP, DONALD J.</td>\n",
       "    </tr>\n",
       "  </tbody>\n",
       "</table>\n",
       "<p>142 rows × 3 columns</p>\n",
       "</div>"
      ],
      "text/plain": [
       "       cmte_id  transaction_amt              name\n",
       "0    C00230482             2600     DONALD, TRUMP\n",
       "1    C00230482             2600     DONALD, TRUMP\n",
       "2    C00014498             9000     TRUMP, DONALD\n",
       "3    C00494229             2000  TRUMP, DONALD MR\n",
       "4    C00571869             2700  TRUMP, DONALD J.\n",
       "..         ...              ...               ...\n",
       "137  C00580100             9752  TRUMP, DONALD J.\n",
       "138  C00580100             2574  TRUMP, DONALD J.\n",
       "139  C00580100            23775  TRUMP, DONALD J.\n",
       "140  C00580100          2000000  TRUMP, DONALD J.\n",
       "141  C00580100             2574  TRUMP, DONALD J.\n",
       "\n",
       "[142 rows x 3 columns]"
      ]
     },
     "execution_count": 37,
     "metadata": {},
     "output_type": "execute_result"
    }
   ],
   "source": [
    "query_q4 = \"\"\"\n",
    "SELECT \n",
    "    cmte_id,\n",
    "    transaction_amt,\n",
    "    name\n",
    "FROM indiv_sample_nyc\n",
    "WHERE name LIKE '%TRUMP%' AND name LIKE '%DONALD%' AND name NOT LIKE 'DONALD J TRUMP FOR PRESIDENT INC';\n",
    "\"\"\"\n",
    "\n",
    "res_q4 = pd.read_sql(text(query_q4), connection)\n",
    "res_q4"
   ]
  },
  {
   "cell_type": "code",
   "execution_count": 38,
   "id": "8156acc6",
   "metadata": {
    "deletable": false,
    "editable": false
   },
   "outputs": [
    {
     "data": {
      "text/html": [
       "<p><strong><pre style='display: inline;'>q4</pre></strong> passed! 💯</p>"
      ],
      "text/plain": [
       "q4 results: All test cases passed!"
      ]
     },
     "execution_count": 38,
     "metadata": {},
     "output_type": "execute_result"
    }
   ],
   "source": [
    "grader.check(\"q4\")"
   ]
  },
  {
   "cell_type": "markdown",
   "id": "99f275b3",
   "metadata": {},
   "source": [
    "<br/><br/>\n",
    "<hr style=\"border: 1px solid #fdb515;\" />\n",
    "\n",
    "## Question 5: `JOIN`ing Tables\n",
    "\n",
    "Let's explore the other two tables in our database: `cand` and `comm`.\n",
    "\n",
    "The `cand` table contains summary financial information about each candidate registered with the FEC or appearing on an official state ballot for House, Senate or President."
   ]
  },
  {
   "cell_type": "code",
   "execution_count": 39,
   "id": "005aa737",
   "metadata": {},
   "outputs": [
    {
     "name": "stdout",
     "output_type": "stream",
     "text": [
      " * sqlite:///fec_nyc.db\n",
      "   sqlite:///imdbmini.db\n",
      "Done.\n"
     ]
    },
    {
     "data": {
      "text/html": [
       "<table>\n",
       "    <thead>\n",
       "        <tr>\n",
       "            <th>cand_id</th>\n",
       "            <th>cand_name</th>\n",
       "            <th>cand_pty_affiliation</th>\n",
       "            <th>cand_election_yr</th>\n",
       "            <th>cand_office_st</th>\n",
       "            <th>cand_office</th>\n",
       "            <th>cand_office_district</th>\n",
       "            <th>cand_ici</th>\n",
       "            <th>cand_status</th>\n",
       "            <th>cand_pcc</th>\n",
       "            <th>cand_st1</th>\n",
       "            <th>cand_st2</th>\n",
       "            <th>cand_city</th>\n",
       "            <th>cand_st</th>\n",
       "            <th>cand_zip</th>\n",
       "        </tr>\n",
       "    </thead>\n",
       "    <tbody>\n",
       "        <tr>\n",
       "            <td>H0AK00097</td>\n",
       "            <td>COX, JOHN R.</td>\n",
       "            <td>REP</td>\n",
       "            <td>2014</td>\n",
       "            <td>AK</td>\n",
       "            <td>H</td>\n",
       "            <td>0</td>\n",
       "            <td>C</td>\n",
       "            <td>N</td>\n",
       "            <td>C00525261</td>\n",
       "            <td>P.O. BOX 1092 </td>\n",
       "            <td></td>\n",
       "            <td>ANCHOR POINT</td>\n",
       "            <td>AK</td>\n",
       "            <td>99556</td>\n",
       "        </tr>\n",
       "        <tr>\n",
       "            <td>H0AL02087</td>\n",
       "            <td>ROBY, MARTHA</td>\n",
       "            <td>REP</td>\n",
       "            <td>2016</td>\n",
       "            <td>AL</td>\n",
       "            <td>H</td>\n",
       "            <td>2</td>\n",
       "            <td>I</td>\n",
       "            <td>C</td>\n",
       "            <td>C00462143</td>\n",
       "            <td>PO BOX 195</td>\n",
       "            <td></td>\n",
       "            <td>MONTGOMERY</td>\n",
       "            <td>AL</td>\n",
       "            <td>36101</td>\n",
       "        </tr>\n",
       "        <tr>\n",
       "            <td>H0AL02095</td>\n",
       "            <td>JOHN, ROBERT E JR</td>\n",
       "            <td>IND</td>\n",
       "            <td>2016</td>\n",
       "            <td>AL</td>\n",
       "            <td>H</td>\n",
       "            <td>2</td>\n",
       "            <td>C</td>\n",
       "            <td>N</td>\n",
       "            <td></td>\n",
       "            <td>1465 W OVERBROOK RD</td>\n",
       "            <td></td>\n",
       "            <td>MILLBROOK</td>\n",
       "            <td>AL</td>\n",
       "            <td>36054</td>\n",
       "        </tr>\n",
       "        <tr>\n",
       "            <td>H0AL05049</td>\n",
       "            <td>CRAMER, ROBERT E &quot;BUD&quot; JR</td>\n",
       "            <td>DEM</td>\n",
       "            <td>2008</td>\n",
       "            <td>AL</td>\n",
       "            <td>H</td>\n",
       "            <td>5</td>\n",
       "            <td></td>\n",
       "            <td>P</td>\n",
       "            <td>C00239038</td>\n",
       "            <td>PO BOX 2621</td>\n",
       "            <td></td>\n",
       "            <td>HUNTSVILLE</td>\n",
       "            <td>AL</td>\n",
       "            <td>35804</td>\n",
       "        </tr>\n",
       "        <tr>\n",
       "            <td>H0AL05163</td>\n",
       "            <td>BROOKS, MO</td>\n",
       "            <td>REP</td>\n",
       "            <td>2016</td>\n",
       "            <td>AL</td>\n",
       "            <td>H</td>\n",
       "            <td>5</td>\n",
       "            <td>I</td>\n",
       "            <td>C</td>\n",
       "            <td>C00464149</td>\n",
       "            <td>7610 FOXFIRE DRIVE</td>\n",
       "            <td></td>\n",
       "            <td>HUNTSVILLE</td>\n",
       "            <td>AL</td>\n",
       "            <td>35802</td>\n",
       "        </tr>\n",
       "    </tbody>\n",
       "</table>"
      ],
      "text/plain": [
       "[('H0AK00097', 'COX, JOHN R.', 'REP', 2014, 'AK', 'H', 0, 'C', 'N', 'C00525261', 'P.O. BOX 1092 ', '', 'ANCHOR POINT', 'AK', '99556'),\n",
       " ('H0AL02087', 'ROBY, MARTHA', 'REP', 2016, 'AL', 'H', 2, 'I', 'C', 'C00462143', 'PO BOX 195', '', 'MONTGOMERY', 'AL', '36101'),\n",
       " ('H0AL02095', 'JOHN, ROBERT E JR', 'IND', 2016, 'AL', 'H', 2, 'C', 'N', '', '1465 W OVERBROOK RD', '', 'MILLBROOK', 'AL', '36054'),\n",
       " ('H0AL05049', 'CRAMER, ROBERT E \"BUD\" JR', 'DEM', 2008, 'AL', 'H', 5, '', 'P', 'C00239038', 'PO BOX 2621', '', 'HUNTSVILLE', 'AL', '35804'),\n",
       " ('H0AL05163', 'BROOKS, MO', 'REP', 2016, 'AL', 'H', 5, 'I', 'C', 'C00464149', '7610 FOXFIRE DRIVE', '', 'HUNTSVILLE', 'AL', '35802')]"
      ]
     },
     "execution_count": 39,
     "metadata": {},
     "output_type": "execute_result"
    }
   ],
   "source": [
    "%%sql\n",
    "/* just run this cell */\n",
    "SELECT *\n",
    "FROM cand\n",
    "LIMIT 5;"
   ]
  },
  {
   "cell_type": "markdown",
   "id": "6f5f52b3",
   "metadata": {},
   "source": [
    "The `comm` table contains summary financial information about each committee registered with the FEC. Committees are organizations that spend money for political action or parties, or spend money for or against political candidates."
   ]
  },
  {
   "cell_type": "code",
   "execution_count": 40,
   "id": "da83e10f",
   "metadata": {},
   "outputs": [
    {
     "name": "stdout",
     "output_type": "stream",
     "text": [
      " * sqlite:///fec_nyc.db\n",
      "   sqlite:///imdbmini.db\n",
      "Done.\n"
     ]
    },
    {
     "data": {
      "text/html": [
       "<table>\n",
       "    <thead>\n",
       "        <tr>\n",
       "            <th>cmte_id</th>\n",
       "            <th>cmte_nm</th>\n",
       "            <th>tres_nm</th>\n",
       "            <th>cmte_st1</th>\n",
       "            <th>cmte_st2</th>\n",
       "            <th>cmte_city</th>\n",
       "            <th>cmte_st</th>\n",
       "            <th>cmte_zip</th>\n",
       "            <th>cmte_dsgn</th>\n",
       "            <th>cmte_tp</th>\n",
       "            <th>cmte_pty_affiliation</th>\n",
       "            <th>cmte_filing_freq</th>\n",
       "            <th>org_tp</th>\n",
       "            <th>connected_org_nm</th>\n",
       "            <th>cand_id</th>\n",
       "        </tr>\n",
       "    </thead>\n",
       "    <tbody>\n",
       "        <tr>\n",
       "            <td>C00000059</td>\n",
       "            <td>HALLMARK CARDS PAC</td>\n",
       "            <td>ERIN BROWER</td>\n",
       "            <td>2501 MCGEE</td>\n",
       "            <td>MD#288</td>\n",
       "            <td>KANSAS CITY</td>\n",
       "            <td>MO</td>\n",
       "            <td>64108</td>\n",
       "            <td>U</td>\n",
       "            <td>Q</td>\n",
       "            <td>UNK</td>\n",
       "            <td>M</td>\n",
       "            <td>C</td>\n",
       "            <td></td>\n",
       "            <td></td>\n",
       "        </tr>\n",
       "        <tr>\n",
       "            <td>C00000422</td>\n",
       "            <td>AMERICAN MEDICAL ASSOCIATION POLITICAL ACTION COMMITTEE</td>\n",
       "            <td>WALKER, KEVIN</td>\n",
       "            <td>25 MASSACHUSETTS AVE, NW</td>\n",
       "            <td>SUITE 600</td>\n",
       "            <td>WASHINGTON</td>\n",
       "            <td>DC</td>\n",
       "            <td>20001</td>\n",
       "            <td>B</td>\n",
       "            <td>Q</td>\n",
       "            <td></td>\n",
       "            <td>M</td>\n",
       "            <td>M</td>\n",
       "            <td>AMERICAN MEDICAL ASSOCIATION</td>\n",
       "            <td></td>\n",
       "        </tr>\n",
       "        <tr>\n",
       "            <td>C00000489</td>\n",
       "            <td>D R I V E POLITICAL FUND CHAPTER 886</td>\n",
       "            <td>TOM RITTER</td>\n",
       "            <td>3528 W RENO</td>\n",
       "            <td></td>\n",
       "            <td>OKLAHOMA CITY</td>\n",
       "            <td>OK</td>\n",
       "            <td>73107</td>\n",
       "            <td>U</td>\n",
       "            <td>N</td>\n",
       "            <td></td>\n",
       "            <td>Q</td>\n",
       "            <td>L</td>\n",
       "            <td>TEAMSTERS LOCAL UNION 886</td>\n",
       "            <td></td>\n",
       "        </tr>\n",
       "        <tr>\n",
       "            <td>C00000547</td>\n",
       "            <td>KANSAS MEDICAL SOCIETY POLITICAL ACTION COMMITTEE</td>\n",
       "            <td>C. RICHARD BONEBRAKE, M.D.</td>\n",
       "            <td>623 SW 10TH AVE</td>\n",
       "            <td></td>\n",
       "            <td>TOPEKA</td>\n",
       "            <td>KS</td>\n",
       "            <td>66612</td>\n",
       "            <td>U</td>\n",
       "            <td>Q</td>\n",
       "            <td>UNK</td>\n",
       "            <td>Q</td>\n",
       "            <td>T</td>\n",
       "            <td></td>\n",
       "            <td></td>\n",
       "        </tr>\n",
       "        <tr>\n",
       "            <td>C00000638</td>\n",
       "            <td>INDIANA STATE MEDICAL ASSOCIATION POLITICAL ACTION COMMITTEE</td>\n",
       "            <td>VIDYA KORA, M.D.</td>\n",
       "            <td>322 CANAL WALK, CANAL LEVEL</td>\n",
       "            <td></td>\n",
       "            <td>INDIANAPOLIS</td>\n",
       "            <td>IN</td>\n",
       "            <td>46202</td>\n",
       "            <td>U</td>\n",
       "            <td>Q</td>\n",
       "            <td></td>\n",
       "            <td>Q</td>\n",
       "            <td>M</td>\n",
       "            <td></td>\n",
       "            <td></td>\n",
       "        </tr>\n",
       "    </tbody>\n",
       "</table>"
      ],
      "text/plain": [
       "[('C00000059', 'HALLMARK CARDS PAC', 'ERIN BROWER', '2501 MCGEE', 'MD#288', 'KANSAS CITY', 'MO', '64108', 'U', 'Q', 'UNK', 'M', 'C', '', ''),\n",
       " ('C00000422', 'AMERICAN MEDICAL ASSOCIATION POLITICAL ACTION COMMITTEE', 'WALKER, KEVIN', '25 MASSACHUSETTS AVE, NW', 'SUITE 600', 'WASHINGTON', 'DC', '20001', 'B', 'Q', '', 'M', 'M', 'AMERICAN MEDICAL ASSOCIATION', ''),\n",
       " ('C00000489', 'D R I V E POLITICAL FUND CHAPTER 886', 'TOM RITTER', '3528 W RENO', '', 'OKLAHOMA CITY', 'OK', '73107', 'U', 'N', '', 'Q', 'L', 'TEAMSTERS LOCAL UNION 886', ''),\n",
       " ('C00000547', 'KANSAS MEDICAL SOCIETY POLITICAL ACTION COMMITTEE', 'C. RICHARD BONEBRAKE, M.D.', '623 SW 10TH AVE', '', 'TOPEKA', 'KS', '66612', 'U', 'Q', 'UNK', 'Q', 'T', '', ''),\n",
       " ('C00000638', 'INDIANA STATE MEDICAL ASSOCIATION POLITICAL ACTION COMMITTEE', 'VIDYA KORA, M.D.', '322 CANAL WALK, CANAL LEVEL', '', 'INDIANAPOLIS', 'IN', '46202', 'U', 'Q', '', 'Q', 'M', '', '')]"
      ]
     },
     "execution_count": 40,
     "metadata": {},
     "output_type": "execute_result"
    }
   ],
   "source": [
    "%%sql\n",
    "/* just run this cell */\n",
    "SELECT *\n",
    "FROM comm\n",
    "LIMIT 5;"
   ]
  },
  {
   "cell_type": "markdown",
   "id": "e126f832",
   "metadata": {
    "tags": []
   },
   "source": [
    "---\n",
    "\n",
    "### Question 5a\n",
    "\n",
    "Notice that both the `cand` and `comm` tables have a `cand_id` column. Let's try joining these two tables on this column to print out committee information for candidates.\n",
    "\n",
    "List the first 5 candidate names (`cand_name`) in reverse lexicographic order by `cand_name`, along with their corresponding committee names. **Only select rows that have a matching `cand_id` in both tables.**\n",
    "\n",
    "Your output should look similar to the following:\n",
    "\n",
    "|    |cand_name|cmte_nm|\n",
    "|----|----|----|\n",
    "|**0**|ZUTLER, DANIEL PAUL MR|CITIZENS TO ELECT DANIEL P ZUTLER FOR PRESIDENT|\n",
    "|**1**|ZUMWALT, JAMES|ZUMWALT FOR CONGRESS|\n",
    "|**...**|...|...|\n",
    "\n",
    "Consider starting from the following query skeleton, which uses the `AS` keyword to rename the `cand` and `comm` tables to `c1` and `c2`, respectively.\n",
    "Which join is most appropriate?\n",
    "\n",
    "    SELECT ...\n",
    "    FROM cand AS c1\n",
    "        [INNER | {LEFT |RIGHT | FULL } {OUTER}] JOIN comm AS c2\n",
    "        ON ...\n",
    "    ...\n",
    "    ...;\n"
   ]
  },
  {
   "cell_type": "code",
   "execution_count": 42,
   "id": "b1bf62bb",
   "metadata": {},
   "outputs": [
    {
     "name": "stdout",
     "output_type": "stream",
     "text": [
      " * sqlite:///fec_nyc.db\n",
      "   sqlite:///imdbmini.db\n",
      "Done.\n"
     ]
    },
    {
     "data": {
      "text/html": [
       "<table>\n",
       "    <thead>\n",
       "        <tr>\n",
       "            <th>cand_name</th>\n",
       "            <th>cmte_nm</th>\n",
       "        </tr>\n",
       "    </thead>\n",
       "    <tbody>\n",
       "        <tr>\n",
       "            <td>ZUTLER, DANIEL PAUL MR</td>\n",
       "            <td>CITIZENS TO ELECT DANIEL P ZUTLER FOR PRESIDENT</td>\n",
       "        </tr>\n",
       "        <tr>\n",
       "            <td>ZUMWALT, JAMES</td>\n",
       "            <td>ZUMWALT FOR CONGRESS</td>\n",
       "        </tr>\n",
       "        <tr>\n",
       "            <td>ZUKOWSKI, ANDREW GEORGE</td>\n",
       "            <td>ZUKOWSKI FOR CONGRESS</td>\n",
       "        </tr>\n",
       "        <tr>\n",
       "            <td>ZUCCOLO, JOE</td>\n",
       "            <td>JOE ZUCCOLO FOR CONGRESS</td>\n",
       "        </tr>\n",
       "        <tr>\n",
       "            <td>ZORN, ROBERT ERWIN</td>\n",
       "            <td>CONSTITUTIONAL COMMITTEE</td>\n",
       "        </tr>\n",
       "    </tbody>\n",
       "</table>"
      ],
      "text/plain": [
       "[('ZUTLER, DANIEL PAUL MR', 'CITIZENS TO ELECT DANIEL P ZUTLER FOR PRESIDENT'),\n",
       " ('ZUMWALT, JAMES', 'ZUMWALT FOR CONGRESS'),\n",
       " ('ZUKOWSKI, ANDREW GEORGE', 'ZUKOWSKI FOR CONGRESS'),\n",
       " ('ZUCCOLO, JOE', 'JOE ZUCCOLO FOR CONGRESS'),\n",
       " ('ZORN, ROBERT ERWIN', 'CONSTITUTIONAL COMMITTEE')]"
      ]
     },
     "execution_count": 42,
     "metadata": {},
     "output_type": "execute_result"
    }
   ],
   "source": [
    "%%sql\n",
    "/*\n",
    " * Code in this scratchwork cell is __not graded.__\n",
    " * Copy over any SQL queries you write here into the below Python cell.\n",
    " * Do __not__ insert any new cells in between the SQL/Python cells!\n",
    " * Doing so may break the autograder.\n",
    " */\n",
    "-- Write below this comment. --\n",
    "SELECT cand_name,cmte_nm\n",
    "FROM cand AS c1\n",
    "INNER JOIN comm AS c2\n",
    "ON c1.cand_id = c2.cand_id\n",
    "ORDER BY cand_name DESC\n",
    "LIMIT 5;"
   ]
  },
  {
   "cell_type": "code",
   "execution_count": 43,
   "id": "ec68fec9",
   "metadata": {},
   "outputs": [
    {
     "data": {
      "text/html": [
       "<div>\n",
       "<style scoped>\n",
       "    .dataframe tbody tr th:only-of-type {\n",
       "        vertical-align: middle;\n",
       "    }\n",
       "\n",
       "    .dataframe tbody tr th {\n",
       "        vertical-align: top;\n",
       "    }\n",
       "\n",
       "    .dataframe thead th {\n",
       "        text-align: right;\n",
       "    }\n",
       "</style>\n",
       "<table border=\"1\" class=\"dataframe\">\n",
       "  <thead>\n",
       "    <tr style=\"text-align: right;\">\n",
       "      <th></th>\n",
       "      <th>cand_name</th>\n",
       "      <th>cmte_nm</th>\n",
       "    </tr>\n",
       "  </thead>\n",
       "  <tbody>\n",
       "    <tr>\n",
       "      <th>0</th>\n",
       "      <td>ZUTLER, DANIEL PAUL MR</td>\n",
       "      <td>CITIZENS TO ELECT DANIEL P ZUTLER FOR PRESIDENT</td>\n",
       "    </tr>\n",
       "    <tr>\n",
       "      <th>1</th>\n",
       "      <td>ZUMWALT, JAMES</td>\n",
       "      <td>ZUMWALT FOR CONGRESS</td>\n",
       "    </tr>\n",
       "    <tr>\n",
       "      <th>2</th>\n",
       "      <td>ZUKOWSKI, ANDREW GEORGE</td>\n",
       "      <td>ZUKOWSKI FOR CONGRESS</td>\n",
       "    </tr>\n",
       "    <tr>\n",
       "      <th>3</th>\n",
       "      <td>ZUCCOLO, JOE</td>\n",
       "      <td>JOE ZUCCOLO FOR CONGRESS</td>\n",
       "    </tr>\n",
       "    <tr>\n",
       "      <th>4</th>\n",
       "      <td>ZORN, ROBERT ERWIN</td>\n",
       "      <td>CONSTITUTIONAL COMMITTEE</td>\n",
       "    </tr>\n",
       "  </tbody>\n",
       "</table>\n",
       "</div>"
      ],
      "text/plain": [
       "                 cand_name                                          cmte_nm\n",
       "0   ZUTLER, DANIEL PAUL MR  CITIZENS TO ELECT DANIEL P ZUTLER FOR PRESIDENT\n",
       "1           ZUMWALT, JAMES                             ZUMWALT FOR CONGRESS\n",
       "2  ZUKOWSKI, ANDREW GEORGE                            ZUKOWSKI FOR CONGRESS\n",
       "3             ZUCCOLO, JOE                         JOE ZUCCOLO FOR CONGRESS\n",
       "4       ZORN, ROBERT ERWIN                         CONSTITUTIONAL COMMITTEE"
      ]
     },
     "execution_count": 43,
     "metadata": {},
     "output_type": "execute_result"
    }
   ],
   "source": [
    "query_q5a = \"\"\"\n",
    "SELECT cand_name,cmte_nm\n",
    "FROM cand AS c1\n",
    "INNER JOIN comm AS c2\n",
    "ON c1.cand_id = c2.cand_id\n",
    "ORDER BY cand_name DESC\n",
    "LIMIT 5;\n",
    "\"\"\"\n",
    "\n",
    "res_q5a = pd.read_sql(text(query_q5a), connection\n",
    "                      )\n",
    "res_q5a"
   ]
  },
  {
   "cell_type": "code",
   "execution_count": 44,
   "id": "ac4863ed",
   "metadata": {
    "deletable": false,
    "editable": false
   },
   "outputs": [
    {
     "data": {
      "text/html": [
       "<p><strong><pre style='display: inline;'>q5a</pre></strong> passed! 🍀</p>"
      ],
      "text/plain": [
       "q5a results: All test cases passed!"
      ]
     },
     "execution_count": 44,
     "metadata": {},
     "output_type": "execute_result"
    }
   ],
   "source": [
    "grader.check(\"q5a\")"
   ]
  },
  {
   "cell_type": "markdown",
   "id": "f652d69c",
   "metadata": {
    "tags": []
   },
   "source": [
    "<br/><br/>\n",
    "\n",
    "---\n",
    "\n",
    "### Question 5b\n",
    "\n",
    "Suppose we modify the query from the previous part to include *all* candidates, **including those that don't have a committee.**\n",
    "\n",
    "\n",
    "List the first 5 candidate names (`cand_name`) in reverse lexicographic order by `cand_name`, along with their corresponding committee names. If the candidate has no committee in the `comm` table, then `cmte_nm` should be NULL (or None in the Python representation).\n",
    "\n",
    "Your output should look similar to the following:\n",
    "\n",
    "|    |cand_name|cmte_nm|\n",
    "|----|----|----|\n",
    "|**0**|ZUTLER, DANIEL PAUL MR|CITIZENS TO ELECT DANIEL P ZUTLER FOR PRESIDENT|\n",
    "|**...**|...|...|\n",
    "|**4**|ZORNOW, TODD MR|None|\n",
    "\n",
    "Hint: Start from the same query skeleton as the previous part. \n",
    "Which join is most appropriate?"
   ]
  },
  {
   "cell_type": "code",
   "execution_count": 45,
   "id": "37d6e8ed",
   "metadata": {},
   "outputs": [
    {
     "name": "stdout",
     "output_type": "stream",
     "text": [
      " * sqlite:///fec_nyc.db\n",
      "   sqlite:///imdbmini.db\n",
      "Done.\n"
     ]
    },
    {
     "data": {
      "text/html": [
       "<table>\n",
       "    <thead>\n",
       "        <tr>\n",
       "            <th>cand_name</th>\n",
       "            <th>cmte_nm</th>\n",
       "        </tr>\n",
       "    </thead>\n",
       "    <tbody>\n",
       "        <tr>\n",
       "            <td>ZUTLER, DANIEL PAUL MR</td>\n",
       "            <td>CITIZENS TO ELECT DANIEL P ZUTLER FOR PRESIDENT</td>\n",
       "        </tr>\n",
       "        <tr>\n",
       "            <td>ZUMWALT, JAMES</td>\n",
       "            <td>ZUMWALT FOR CONGRESS</td>\n",
       "        </tr>\n",
       "        <tr>\n",
       "            <td>ZUKOWSKI, ANDREW GEORGE</td>\n",
       "            <td>ZUKOWSKI FOR CONGRESS</td>\n",
       "        </tr>\n",
       "        <tr>\n",
       "            <td>ZUCCOLO, JOE</td>\n",
       "            <td>JOE ZUCCOLO FOR CONGRESS</td>\n",
       "        </tr>\n",
       "        <tr>\n",
       "            <td>ZORNOW, TODD MR</td>\n",
       "            <td>None</td>\n",
       "        </tr>\n",
       "    </tbody>\n",
       "</table>"
      ],
      "text/plain": [
       "[('ZUTLER, DANIEL PAUL MR', 'CITIZENS TO ELECT DANIEL P ZUTLER FOR PRESIDENT'),\n",
       " ('ZUMWALT, JAMES', 'ZUMWALT FOR CONGRESS'),\n",
       " ('ZUKOWSKI, ANDREW GEORGE', 'ZUKOWSKI FOR CONGRESS'),\n",
       " ('ZUCCOLO, JOE', 'JOE ZUCCOLO FOR CONGRESS'),\n",
       " ('ZORNOW, TODD MR', None)]"
      ]
     },
     "execution_count": 45,
     "metadata": {},
     "output_type": "execute_result"
    }
   ],
   "source": [
    "%%sql\n",
    "/*\n",
    " * Code in this scratchwork cell is __not graded.__\n",
    " * Copy over any SQL queries you write here into the below Python cell.\n",
    " * Do __not__ insert any new cells in between the SQL/Python cells!\n",
    " * Doing so may break the autograder.\n",
    " */\n",
    "-- Write below this comment. --\n",
    "SELECT cand_name,cmte_nm\n",
    "FROM cand AS c1\n",
    "LEFT JOIN comm AS c2\n",
    "ON c1.cand_id = c2.cand_id\n",
    "ORDER BY cand_name DESC\n",
    "LIMIT 5;"
   ]
  },
  {
   "cell_type": "code",
   "execution_count": 47,
   "id": "08e15329",
   "metadata": {},
   "outputs": [
    {
     "data": {
      "text/html": [
       "<div>\n",
       "<style scoped>\n",
       "    .dataframe tbody tr th:only-of-type {\n",
       "        vertical-align: middle;\n",
       "    }\n",
       "\n",
       "    .dataframe tbody tr th {\n",
       "        vertical-align: top;\n",
       "    }\n",
       "\n",
       "    .dataframe thead th {\n",
       "        text-align: right;\n",
       "    }\n",
       "</style>\n",
       "<table border=\"1\" class=\"dataframe\">\n",
       "  <thead>\n",
       "    <tr style=\"text-align: right;\">\n",
       "      <th></th>\n",
       "      <th>cand_name</th>\n",
       "      <th>cmte_nm</th>\n",
       "    </tr>\n",
       "  </thead>\n",
       "  <tbody>\n",
       "    <tr>\n",
       "      <th>0</th>\n",
       "      <td>ZUTLER, DANIEL PAUL MR</td>\n",
       "      <td>CITIZENS TO ELECT DANIEL P ZUTLER FOR PRESIDENT</td>\n",
       "    </tr>\n",
       "    <tr>\n",
       "      <th>1</th>\n",
       "      <td>ZUMWALT, JAMES</td>\n",
       "      <td>ZUMWALT FOR CONGRESS</td>\n",
       "    </tr>\n",
       "    <tr>\n",
       "      <th>2</th>\n",
       "      <td>ZUKOWSKI, ANDREW GEORGE</td>\n",
       "      <td>ZUKOWSKI FOR CONGRESS</td>\n",
       "    </tr>\n",
       "    <tr>\n",
       "      <th>3</th>\n",
       "      <td>ZUCCOLO, JOE</td>\n",
       "      <td>JOE ZUCCOLO FOR CONGRESS</td>\n",
       "    </tr>\n",
       "    <tr>\n",
       "      <th>4</th>\n",
       "      <td>ZORNOW, TODD MR</td>\n",
       "      <td>None</td>\n",
       "    </tr>\n",
       "  </tbody>\n",
       "</table>\n",
       "</div>"
      ],
      "text/plain": [
       "                 cand_name                                          cmte_nm\n",
       "0   ZUTLER, DANIEL PAUL MR  CITIZENS TO ELECT DANIEL P ZUTLER FOR PRESIDENT\n",
       "1           ZUMWALT, JAMES                             ZUMWALT FOR CONGRESS\n",
       "2  ZUKOWSKI, ANDREW GEORGE                            ZUKOWSKI FOR CONGRESS\n",
       "3             ZUCCOLO, JOE                         JOE ZUCCOLO FOR CONGRESS\n",
       "4          ZORNOW, TODD MR                                             None"
      ]
     },
     "execution_count": 47,
     "metadata": {},
     "output_type": "execute_result"
    }
   ],
   "source": [
    "query_q5b = \"\"\"\n",
    "SELECT cand_name,cmte_nm\n",
    "FROM cand AS c1\n",
    "LEFT JOIN comm AS c2\n",
    "ON c1.cand_id = c2.cand_id\n",
    "ORDER BY cand_name DESC\n",
    "LIMIT 5;\n",
    "\"\"\"\n",
    "\n",
    "res_q5b = pd.read_sql(text(query_q5b), connection)\n",
    "res_q5b"
   ]
  },
  {
   "cell_type": "code",
   "execution_count": 48,
   "id": "331bc928",
   "metadata": {
    "deletable": false,
    "editable": false
   },
   "outputs": [
    {
     "data": {
      "text/html": [
       "<p><strong><pre style='display: inline;'>q5b</pre></strong> passed! 🌈</p>"
      ],
      "text/plain": [
       "q5b results: All test cases passed!"
      ]
     },
     "execution_count": 48,
     "metadata": {},
     "output_type": "execute_result"
    }
   ],
   "source": [
    "grader.check(\"q5b\")"
   ]
  },
  {
   "cell_type": "markdown",
   "id": "5296464c",
   "metadata": {},
   "source": [
    "<br/><br/>\n",
    "<hr style=\"border: 1px solid #fdb515;\" />\n",
    "\n",
    "## Question 6: Subqueries and Grouping\n",
    "\n",
    "If we return to our results from Question 4, we see that many of the contributions were to the same committee:"
   ]
  },
  {
   "cell_type": "code",
   "execution_count": 49,
   "id": "f4939a1a",
   "metadata": {},
   "outputs": [
    {
     "data": {
      "text/html": [
       "<div>\n",
       "<style scoped>\n",
       "    .dataframe tbody tr th:only-of-type {\n",
       "        vertical-align: middle;\n",
       "    }\n",
       "\n",
       "    .dataframe tbody tr th {\n",
       "        vertical-align: top;\n",
       "    }\n",
       "\n",
       "    .dataframe thead th {\n",
       "        text-align: right;\n",
       "    }\n",
       "</style>\n",
       "<table border=\"1\" class=\"dataframe\">\n",
       "  <thead>\n",
       "    <tr style=\"text-align: right;\">\n",
       "      <th></th>\n",
       "      <th>cmte_id</th>\n",
       "      <th>transaction_amt</th>\n",
       "      <th>name</th>\n",
       "    </tr>\n",
       "  </thead>\n",
       "  <tbody>\n",
       "    <tr>\n",
       "      <th>0</th>\n",
       "      <td>C00230482</td>\n",
       "      <td>2600</td>\n",
       "      <td>DONALD, TRUMP</td>\n",
       "    </tr>\n",
       "    <tr>\n",
       "      <th>1</th>\n",
       "      <td>C00230482</td>\n",
       "      <td>2600</td>\n",
       "      <td>DONALD, TRUMP</td>\n",
       "    </tr>\n",
       "    <tr>\n",
       "      <th>2</th>\n",
       "      <td>C00014498</td>\n",
       "      <td>9000</td>\n",
       "      <td>TRUMP, DONALD</td>\n",
       "    </tr>\n",
       "    <tr>\n",
       "      <th>3</th>\n",
       "      <td>C00494229</td>\n",
       "      <td>2000</td>\n",
       "      <td>TRUMP, DONALD MR</td>\n",
       "    </tr>\n",
       "    <tr>\n",
       "      <th>4</th>\n",
       "      <td>C00571869</td>\n",
       "      <td>2700</td>\n",
       "      <td>TRUMP, DONALD J.</td>\n",
       "    </tr>\n",
       "    <tr>\n",
       "      <th>...</th>\n",
       "      <td>...</td>\n",
       "      <td>...</td>\n",
       "      <td>...</td>\n",
       "    </tr>\n",
       "    <tr>\n",
       "      <th>137</th>\n",
       "      <td>C00580100</td>\n",
       "      <td>9752</td>\n",
       "      <td>TRUMP, DONALD J.</td>\n",
       "    </tr>\n",
       "    <tr>\n",
       "      <th>138</th>\n",
       "      <td>C00580100</td>\n",
       "      <td>2574</td>\n",
       "      <td>TRUMP, DONALD J.</td>\n",
       "    </tr>\n",
       "    <tr>\n",
       "      <th>139</th>\n",
       "      <td>C00580100</td>\n",
       "      <td>23775</td>\n",
       "      <td>TRUMP, DONALD J.</td>\n",
       "    </tr>\n",
       "    <tr>\n",
       "      <th>140</th>\n",
       "      <td>C00580100</td>\n",
       "      <td>2000000</td>\n",
       "      <td>TRUMP, DONALD J.</td>\n",
       "    </tr>\n",
       "    <tr>\n",
       "      <th>141</th>\n",
       "      <td>C00580100</td>\n",
       "      <td>2574</td>\n",
       "      <td>TRUMP, DONALD J.</td>\n",
       "    </tr>\n",
       "  </tbody>\n",
       "</table>\n",
       "<p>142 rows × 3 columns</p>\n",
       "</div>"
      ],
      "text/plain": [
       "       cmte_id  transaction_amt              name\n",
       "0    C00230482             2600     DONALD, TRUMP\n",
       "1    C00230482             2600     DONALD, TRUMP\n",
       "2    C00014498             9000     TRUMP, DONALD\n",
       "3    C00494229             2000  TRUMP, DONALD MR\n",
       "4    C00571869             2700  TRUMP, DONALD J.\n",
       "..         ...              ...               ...\n",
       "137  C00580100             9752  TRUMP, DONALD J.\n",
       "138  C00580100             2574  TRUMP, DONALD J.\n",
       "139  C00580100            23775  TRUMP, DONALD J.\n",
       "140  C00580100          2000000  TRUMP, DONALD J.\n",
       "141  C00580100             2574  TRUMP, DONALD J.\n",
       "\n",
       "[142 rows x 3 columns]"
      ]
     },
     "execution_count": 49,
     "metadata": {},
     "output_type": "execute_result"
    }
   ],
   "source": [
    "# Your SQL query result from Question 4\n",
    "# reprinted for your convenience\n",
    "res_q4"
   ]
  },
  {
   "cell_type": "markdown",
   "id": "b08ddb81",
   "metadata": {},
   "source": [
    "<br/>\n",
    "\n",
    "---\n",
    "\n",
    "Create a new SQL query that returns the total amount that Donald Trump contributed to each committee.\n",
    "\n",
    "Your table should have four columns: `cmte_id`, `total_amount` (total amount contributed to that committee), `num_donations` (total number of donations), and `cmte_nm` (name of the committee). Your table should be sorted in **decreasing order** of `total_amount`.\n",
    "\n",
    "**This is a hard question!** Don't be afraid to reference the lecture slides, or the overall SQL query skeleton at the top of this lab.\n",
    "\n",
    "Here are some other hints:\n",
    "\n",
    "* Note that committee names are not available in `indiv_sample_nyc`, so you will have to obtain information somehow from the `comm` table (perhaps a `JOIN` would be useful).\n",
    "* Remember that you can compute summary statistics after grouping by using aggregates like `COUNT(*)`, `SUM()` as output fields.\n",
    "* A **subquery** may be useful to break your question down into subparts. Consider the following query skeleton, which uses the `WITH` operator to store a subquery's results in a temporary table named `donations`.\n",
    "\n",
    "        WITH donations AS (\n",
    "            SELECT ...\n",
    "            ...\n",
    "        )\n",
    "        SELECT ...\n",
    "        FROM donations\n",
    "        GROUP BY ...\n",
    "        ORDER BY ...;"
   ]
  },
  {
   "cell_type": "code",
   "execution_count": 53,
   "id": "e0a37a4d",
   "metadata": {},
   "outputs": [
    {
     "name": "stdout",
     "output_type": "stream",
     "text": [
      " * sqlite:///fec_nyc.db\n",
      "   sqlite:///imdbmini.db\n",
      "Done.\n"
     ]
    },
    {
     "data": {
      "text/html": [
       "<table>\n",
       "    <thead>\n",
       "        <tr>\n",
       "            <th>cmte_id</th>\n",
       "            <th>total_amount</th>\n",
       "            <th>num_donations</th>\n",
       "            <th>cmte_nm</th>\n",
       "        </tr>\n",
       "    </thead>\n",
       "    <tbody>\n",
       "        <tr>\n",
       "            <td>C00580100</td>\n",
       "            <td>18633157</td>\n",
       "            <td>131</td>\n",
       "            <td>DONALD J. TRUMP FOR PRESIDENT, INC.</td>\n",
       "        </tr>\n",
       "        <tr>\n",
       "            <td>C00055582</td>\n",
       "            <td>10000</td>\n",
       "            <td>1</td>\n",
       "            <td>NY REPUBLICAN FEDERAL CAMPAIGN COMMITTEE</td>\n",
       "        </tr>\n",
       "        <tr>\n",
       "            <td>C00014498</td>\n",
       "            <td>9000</td>\n",
       "            <td>1</td>\n",
       "            <td>REPUBLICAN PARTY OF IOWA</td>\n",
       "        </tr>\n",
       "        <tr>\n",
       "            <td>C00571869</td>\n",
       "            <td>5400</td>\n",
       "            <td>2</td>\n",
       "            <td>DONOVAN FOR CONGRESS</td>\n",
       "        </tr>\n",
       "        <tr>\n",
       "            <td>C00230482</td>\n",
       "            <td>5200</td>\n",
       "            <td>2</td>\n",
       "            <td>GRASSLEY COMMITTEE INC</td>\n",
       "        </tr>\n",
       "        <tr>\n",
       "            <td>C00136457</td>\n",
       "            <td>5000</td>\n",
       "            <td>1</td>\n",
       "            <td>NEW HAMPSHIRE REPUBLICAN STATE COMMITTEE</td>\n",
       "        </tr>\n",
       "        <tr>\n",
       "            <td>C00034033</td>\n",
       "            <td>5000</td>\n",
       "            <td>1</td>\n",
       "            <td>SOUTH CAROLINA REPUBLICAN PARTY</td>\n",
       "        </tr>\n",
       "        <tr>\n",
       "            <td>C00554949</td>\n",
       "            <td>2600</td>\n",
       "            <td>1</td>\n",
       "            <td>FRIENDS OF DAVE BRAT INC.</td>\n",
       "        </tr>\n",
       "        <tr>\n",
       "            <td>C00494229</td>\n",
       "            <td>2000</td>\n",
       "            <td>1</td>\n",
       "            <td>HELLER FOR SENATE</td>\n",
       "        </tr>\n",
       "        <tr>\n",
       "            <td>C00369033</td>\n",
       "            <td>1000</td>\n",
       "            <td>1</td>\n",
       "            <td>TEXANS FOR SENATOR JOHN CORNYN INC</td>\n",
       "        </tr>\n",
       "    </tbody>\n",
       "</table>"
      ],
      "text/plain": [
       "[('C00580100', 18633157, 131, 'DONALD J. TRUMP FOR PRESIDENT, INC.'),\n",
       " ('C00055582', 10000, 1, 'NY REPUBLICAN FEDERAL CAMPAIGN COMMITTEE'),\n",
       " ('C00014498', 9000, 1, 'REPUBLICAN PARTY OF IOWA'),\n",
       " ('C00571869', 5400, 2, 'DONOVAN FOR CONGRESS'),\n",
       " ('C00230482', 5200, 2, 'GRASSLEY COMMITTEE INC'),\n",
       " ('C00136457', 5000, 1, 'NEW HAMPSHIRE REPUBLICAN STATE COMMITTEE'),\n",
       " ('C00034033', 5000, 1, 'SOUTH CAROLINA REPUBLICAN PARTY'),\n",
       " ('C00554949', 2600, 1, 'FRIENDS OF DAVE BRAT INC.'),\n",
       " ('C00494229', 2000, 1, 'HELLER FOR SENATE'),\n",
       " ('C00369033', 1000, 1, 'TEXANS FOR SENATOR JOHN CORNYN INC')]"
      ]
     },
     "execution_count": 53,
     "metadata": {},
     "output_type": "execute_result"
    }
   ],
   "source": [
    "%%sql\n",
    "/*\n",
    " * Code in this scratchwork cell is __not graded.__\n",
    " * Copy over any SQL queries you write here into the below Python cell.\n",
    " * Do __not__ insert any new cells in between the SQL/Python cells!\n",
    " * Doing so may break the autograder.\n",
    " */\n",
    "-- Write below this comment. --\n",
    "WITH donations AS (\n",
    "    SELECT indiv.cmte_id,transaction_amt,cmte_nm\n",
    "    FROM indiv_sample_nyc AS indiv INNER JOIN comm\n",
    "    ON indiv.cmte_id = comm.cmte_id\n",
    "    WHERE name LIKE '%TRUMP%' AND name LIKE '%DONALD%' AND name NOT LIKE 'DONALD J TRUMP FOR PRESIDENT INC'\n",
    ")\n",
    "SELECT cmte_id,SUM(transaction_amt) AS total_amount,COUNT(*) AS num_donations,cmte_nm\n",
    "FROM donations\n",
    "GROUP BY cmte_id\n",
    "ORDER BY total_amount DESC;"
   ]
  },
  {
   "cell_type": "code",
   "execution_count": 54,
   "id": "de15bb41",
   "metadata": {},
   "outputs": [
    {
     "data": {
      "text/html": [
       "<div>\n",
       "<style scoped>\n",
       "    .dataframe tbody tr th:only-of-type {\n",
       "        vertical-align: middle;\n",
       "    }\n",
       "\n",
       "    .dataframe tbody tr th {\n",
       "        vertical-align: top;\n",
       "    }\n",
       "\n",
       "    .dataframe thead th {\n",
       "        text-align: right;\n",
       "    }\n",
       "</style>\n",
       "<table border=\"1\" class=\"dataframe\">\n",
       "  <thead>\n",
       "    <tr style=\"text-align: right;\">\n",
       "      <th></th>\n",
       "      <th>cmte_id</th>\n",
       "      <th>total_amount</th>\n",
       "      <th>num_donations</th>\n",
       "      <th>cmte_nm</th>\n",
       "    </tr>\n",
       "  </thead>\n",
       "  <tbody>\n",
       "    <tr>\n",
       "      <th>0</th>\n",
       "      <td>C00580100</td>\n",
       "      <td>18633157</td>\n",
       "      <td>131</td>\n",
       "      <td>DONALD J. TRUMP FOR PRESIDENT, INC.</td>\n",
       "    </tr>\n",
       "    <tr>\n",
       "      <th>1</th>\n",
       "      <td>C00055582</td>\n",
       "      <td>10000</td>\n",
       "      <td>1</td>\n",
       "      <td>NY REPUBLICAN FEDERAL CAMPAIGN COMMITTEE</td>\n",
       "    </tr>\n",
       "    <tr>\n",
       "      <th>2</th>\n",
       "      <td>C00014498</td>\n",
       "      <td>9000</td>\n",
       "      <td>1</td>\n",
       "      <td>REPUBLICAN PARTY OF IOWA</td>\n",
       "    </tr>\n",
       "    <tr>\n",
       "      <th>3</th>\n",
       "      <td>C00571869</td>\n",
       "      <td>5400</td>\n",
       "      <td>2</td>\n",
       "      <td>DONOVAN FOR CONGRESS</td>\n",
       "    </tr>\n",
       "    <tr>\n",
       "      <th>4</th>\n",
       "      <td>C00230482</td>\n",
       "      <td>5200</td>\n",
       "      <td>2</td>\n",
       "      <td>GRASSLEY COMMITTEE INC</td>\n",
       "    </tr>\n",
       "    <tr>\n",
       "      <th>5</th>\n",
       "      <td>C00136457</td>\n",
       "      <td>5000</td>\n",
       "      <td>1</td>\n",
       "      <td>NEW HAMPSHIRE REPUBLICAN STATE COMMITTEE</td>\n",
       "    </tr>\n",
       "    <tr>\n",
       "      <th>6</th>\n",
       "      <td>C00034033</td>\n",
       "      <td>5000</td>\n",
       "      <td>1</td>\n",
       "      <td>SOUTH CAROLINA REPUBLICAN PARTY</td>\n",
       "    </tr>\n",
       "    <tr>\n",
       "      <th>7</th>\n",
       "      <td>C00554949</td>\n",
       "      <td>2600</td>\n",
       "      <td>1</td>\n",
       "      <td>FRIENDS OF DAVE BRAT INC.</td>\n",
       "    </tr>\n",
       "    <tr>\n",
       "      <th>8</th>\n",
       "      <td>C00494229</td>\n",
       "      <td>2000</td>\n",
       "      <td>1</td>\n",
       "      <td>HELLER FOR SENATE</td>\n",
       "    </tr>\n",
       "    <tr>\n",
       "      <th>9</th>\n",
       "      <td>C00369033</td>\n",
       "      <td>1000</td>\n",
       "      <td>1</td>\n",
       "      <td>TEXANS FOR SENATOR JOHN CORNYN INC</td>\n",
       "    </tr>\n",
       "  </tbody>\n",
       "</table>\n",
       "</div>"
      ],
      "text/plain": [
       "     cmte_id  total_amount  num_donations  \\\n",
       "0  C00580100      18633157            131   \n",
       "1  C00055582         10000              1   \n",
       "2  C00014498          9000              1   \n",
       "3  C00571869          5400              2   \n",
       "4  C00230482          5200              2   \n",
       "5  C00136457          5000              1   \n",
       "6  C00034033          5000              1   \n",
       "7  C00554949          2600              1   \n",
       "8  C00494229          2000              1   \n",
       "9  C00369033          1000              1   \n",
       "\n",
       "                                    cmte_nm  \n",
       "0       DONALD J. TRUMP FOR PRESIDENT, INC.  \n",
       "1  NY REPUBLICAN FEDERAL CAMPAIGN COMMITTEE  \n",
       "2                  REPUBLICAN PARTY OF IOWA  \n",
       "3                      DONOVAN FOR CONGRESS  \n",
       "4                    GRASSLEY COMMITTEE INC  \n",
       "5  NEW HAMPSHIRE REPUBLICAN STATE COMMITTEE  \n",
       "6           SOUTH CAROLINA REPUBLICAN PARTY  \n",
       "7                 FRIENDS OF DAVE BRAT INC.  \n",
       "8                         HELLER FOR SENATE  \n",
       "9        TEXANS FOR SENATOR JOHN CORNYN INC  "
      ]
     },
     "execution_count": 54,
     "metadata": {},
     "output_type": "execute_result"
    }
   ],
   "source": [
    "query_q6 = \"\"\"\n",
    "WITH donations AS (\n",
    "    SELECT indiv.cmte_id,transaction_amt,cmte_nm\n",
    "    FROM indiv_sample_nyc AS indiv INNER JOIN comm\n",
    "    ON indiv.cmte_id = comm.cmte_id\n",
    "    WHERE name LIKE '%TRUMP%' AND name LIKE '%DONALD%' AND name NOT LIKE 'DONALD J TRUMP FOR PRESIDENT INC'\n",
    ")\n",
    "SELECT cmte_id,SUM(transaction_amt) AS total_amount,COUNT(*) AS num_donations,cmte_nm\n",
    "FROM donations\n",
    "GROUP BY cmte_id\n",
    "ORDER BY total_amount DESC;\n",
    "\"\"\"\n",
    "\n",
    "\n",
    "res_q6 = pd.read_sql(text(query_q6), connection)\n",
    "res_q6"
   ]
  },
  {
   "cell_type": "code",
   "execution_count": 55,
   "id": "ce5817b2",
   "metadata": {
    "deletable": false,
    "editable": false
   },
   "outputs": [
    {
     "data": {
      "text/html": [
       "<p><strong><pre style='display: inline;'>q6</pre></strong> passed! ✨</p>"
      ],
      "text/plain": [
       "q6 results: All test cases passed!"
      ]
     },
     "execution_count": 55,
     "metadata": {},
     "output_type": "execute_result"
    }
   ],
   "source": [
    "grader.check(\"q6\")"
   ]
  },
  {
   "cell_type": "markdown",
   "id": "813ffc2b",
   "metadata": {},
   "source": [
    "# Congratulations! You finished the lab!"
   ]
  },
  {
   "cell_type": "markdown",
   "id": "73861715",
   "metadata": {
    "deletable": false,
    "editable": false
   },
   "source": [
    "---\n",
    "\n",
    "To double-check your work, the cell below will rerun all of the autograder tests."
   ]
  },
  {
   "cell_type": "code",
   "execution_count": 56,
   "id": "d0c44a91",
   "metadata": {
    "deletable": false,
    "editable": false
   },
   "outputs": [
    {
     "data": {
      "text/plain": [
       "q1 results: All test cases passed!\n",
       "\n",
       "q2 results: All test cases passed!\n",
       "\n",
       "q3 results: All test cases passed!\n",
       "\n",
       "q4 results: All test cases passed!\n",
       "\n",
       "q5a results: All test cases passed!\n",
       "\n",
       "q5b results: All test cases passed!\n",
       "\n",
       "q6 results: All test cases passed!"
      ]
     },
     "execution_count": 56,
     "metadata": {},
     "output_type": "execute_result"
    }
   ],
   "source": [
    "grader.check_all()"
   ]
  },
  {
   "cell_type": "markdown",
   "id": "4c6acf24",
   "metadata": {
    "deletable": false,
    "editable": false
   },
   "source": [
    "## Submission\n",
    "\n",
    "Make sure you have run all cells in your notebook in order before running the cell below, so that all images/graphs appear in the output. The cell below will generate a zip file for you to submit. **Please save before exporting!**"
   ]
  },
  {
   "cell_type": "code",
   "execution_count": null,
   "id": "40f62458",
   "metadata": {
    "deletable": false,
    "editable": false
   },
   "outputs": [],
   "source": [
    "# Save your notebook first, then run this cell to export your submission.\n",
    "grader.export(pdf=False)"
   ]
  },
  {
   "cell_type": "markdown",
   "id": "7fd015c8",
   "metadata": {},
   "source": [
    " "
   ]
  }
 ],
 "metadata": {
  "kernelspec": {
   "display_name": "Python 3 (ipykernel)",
   "language": "python",
   "name": "python3"
  },
  "language_info": {
   "codemirror_mode": {
    "name": "ipython",
    "version": 3
   },
   "file_extension": ".py",
   "mimetype": "text/x-python",
   "name": "python",
   "nbconvert_exporter": "python",
   "pygments_lexer": "ipython3",
   "version": "3.10.9"
  }
 },
 "nbformat": 4,
 "nbformat_minor": 5
}
