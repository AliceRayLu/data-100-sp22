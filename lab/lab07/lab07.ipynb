{
 "cells": [
  {
   "cell_type": "code",
   "execution_count": 1,
   "metadata": {
    "deletable": false,
    "editable": false
   },
   "outputs": [],
   "source": [
    "# Initialize Otter\n",
    "import otter\n",
    "grader = otter.Notebook(\"lab07.ipynb\")"
   ]
  },
  {
   "cell_type": "markdown",
   "metadata": {
    "nbgrader": {
     "grade": false,
     "grade_id": "intro",
     "locked": true,
     "schema_version": 2,
     "solution": false
    }
   },
   "source": [
    "# Lab 7: Gradient Descent and Feature Engineering\n",
    "\n",
    "In this lab, we will work through the process of:\n",
    "1. Defining loss functions\n",
    "1. Feature engineering\n",
    "1. Minimizing loss functions using numeric methods and analytical methods \n",
    "1. Understanding what happens if we use the analytical solution for OLS on a matrix with redundant features\n",
    "1. Computing a gradient for a nonlinear model\n",
    "1. Using gradient descent to optimize the nonline model\n",
    "\n",
    "This lab will continue using the toy `tips` calculation dataset used in Labs 5 and 6.\n",
    "\n",
    "**This assignment should be completed and submitted by Tuesday, March 8th, 2022 at 11:59pm PDT**"
   ]
  },
  {
   "cell_type": "markdown",
   "metadata": {},
   "source": [
    "### Lab Walk-Through\n",
    "In addition to the lab notebook, we have also released a prerecorded walk-through video of the lab. We encourage you to reference this video as you work through the lab. Run the cell below to display the video."
   ]
  },
  {
   "cell_type": "code",
   "execution_count": 2,
   "metadata": {},
   "outputs": [
    {
     "data": {
      "text/html": [
       "\n",
       "        <iframe\n",
       "            width=\"400\"\n",
       "            height=\"300\"\n",
       "            src=\"https://www.youtube.com/embed/LQN3dv-WozY?list=PLQCcNQgUcDfq7hfzndTXvUrFN_MoUN2F1&listType=playlist\"\n",
       "            frameborder=\"0\"\n",
       "            allowfullscreen\n",
       "            \n",
       "        ></iframe>\n",
       "        "
      ],
      "text/plain": [
       "<IPython.lib.display.YouTubeVideo at 0x296e20a3ee0>"
      ]
     },
     "execution_count": 2,
     "metadata": {},
     "output_type": "execute_result"
    }
   ],
   "source": [
    "from IPython.display import YouTubeVideo\n",
    "YouTubeVideo(\"LQN3dv-WozY\", list = 'PLQCcNQgUcDfq7hfzndTXvUrFN_MoUN2F1', listType = 'playlist')"
   ]
  },
  {
   "cell_type": "markdown",
   "metadata": {},
   "source": [
    "### Collaboration Policy\n",
    "\n",
    "Data science is a collaborative activity. While you may talk with others about the labs, we ask that you **write your solutions individually**. If you do discuss the assignments with others, please **include their names** at the top of this notebook."
   ]
  },
  {
   "cell_type": "markdown",
   "metadata": {},
   "source": [
    "**Collaborators**: *List names here*"
   ]
  },
  {
   "cell_type": "markdown",
   "metadata": {
    "nbgrader": {
     "grade": false,
     "grade_id": "load-data-text",
     "locked": true,
     "schema_version": 2,
     "solution": false
    }
   },
   "source": [
    "<br/><br/>\n",
    "<hr style=\"border: 5px solid #003262;\" />\n",
    "<hr style=\"border: 1px solid #fdb515;\" />\n",
    "\n",
    "# Loading the Tips Dataset\n",
    "\n",
    "To begin, let's load the tips dataset from the `seaborn` library.  This dataset contains records of tips, total bill, and information about the person who paid the bill. As earlier, we'll be trying to predict tips from the other data."
   ]
  },
  {
   "cell_type": "code",
   "execution_count": 3,
   "metadata": {
    "nbgrader": {
     "grade": false,
     "grade_id": "imports",
     "locked": true,
     "schema_version": 2,
     "solution": false
    }
   },
   "outputs": [],
   "source": [
    "import pandas as pd\n",
    "import numpy as np\n",
    "import seaborn as sns\n",
    "from sklearn.feature_extraction import DictVectorizer\n",
    "import matplotlib.pyplot as plt\n",
    "np.random.seed(42)\n",
    "plt.style.use('fivethirtyeight')\n",
    "sns.set()\n",
    "sns.set_context(\"talk\")\n",
    "%matplotlib inline"
   ]
  },
  {
   "cell_type": "code",
   "execution_count": 4,
   "metadata": {
    "nbgrader": {
     "grade": false,
     "grade_id": "load-data-code",
     "locked": true,
     "schema_version": 2,
     "solution": false
    }
   },
   "outputs": [
    {
     "name": "stdout",
     "output_type": "stream",
     "text": [
      "Number of Records: 244\n"
     ]
    },
    {
     "data": {
      "text/html": [
       "<div>\n",
       "<style scoped>\n",
       "    .dataframe tbody tr th:only-of-type {\n",
       "        vertical-align: middle;\n",
       "    }\n",
       "\n",
       "    .dataframe tbody tr th {\n",
       "        vertical-align: top;\n",
       "    }\n",
       "\n",
       "    .dataframe thead th {\n",
       "        text-align: right;\n",
       "    }\n",
       "</style>\n",
       "<table border=\"1\" class=\"dataframe\">\n",
       "  <thead>\n",
       "    <tr style=\"text-align: right;\">\n",
       "      <th></th>\n",
       "      <th>total_bill</th>\n",
       "      <th>tip</th>\n",
       "      <th>sex</th>\n",
       "      <th>smoker</th>\n",
       "      <th>day</th>\n",
       "      <th>time</th>\n",
       "      <th>size</th>\n",
       "    </tr>\n",
       "  </thead>\n",
       "  <tbody>\n",
       "    <tr>\n",
       "      <th>0</th>\n",
       "      <td>16.99</td>\n",
       "      <td>1.01</td>\n",
       "      <td>Female</td>\n",
       "      <td>No</td>\n",
       "      <td>Sun</td>\n",
       "      <td>Dinner</td>\n",
       "      <td>2</td>\n",
       "    </tr>\n",
       "    <tr>\n",
       "      <th>1</th>\n",
       "      <td>10.34</td>\n",
       "      <td>1.66</td>\n",
       "      <td>Male</td>\n",
       "      <td>No</td>\n",
       "      <td>Sun</td>\n",
       "      <td>Dinner</td>\n",
       "      <td>3</td>\n",
       "    </tr>\n",
       "    <tr>\n",
       "      <th>2</th>\n",
       "      <td>21.01</td>\n",
       "      <td>3.50</td>\n",
       "      <td>Male</td>\n",
       "      <td>No</td>\n",
       "      <td>Sun</td>\n",
       "      <td>Dinner</td>\n",
       "      <td>3</td>\n",
       "    </tr>\n",
       "    <tr>\n",
       "      <th>3</th>\n",
       "      <td>23.68</td>\n",
       "      <td>3.31</td>\n",
       "      <td>Male</td>\n",
       "      <td>No</td>\n",
       "      <td>Sun</td>\n",
       "      <td>Dinner</td>\n",
       "      <td>2</td>\n",
       "    </tr>\n",
       "    <tr>\n",
       "      <th>4</th>\n",
       "      <td>24.59</td>\n",
       "      <td>3.61</td>\n",
       "      <td>Female</td>\n",
       "      <td>No</td>\n",
       "      <td>Sun</td>\n",
       "      <td>Dinner</td>\n",
       "      <td>4</td>\n",
       "    </tr>\n",
       "  </tbody>\n",
       "</table>\n",
       "</div>"
      ],
      "text/plain": [
       "   total_bill   tip     sex smoker  day    time  size\n",
       "0       16.99  1.01  Female     No  Sun  Dinner     2\n",
       "1       10.34  1.66    Male     No  Sun  Dinner     3\n",
       "2       21.01  3.50    Male     No  Sun  Dinner     3\n",
       "3       23.68  3.31    Male     No  Sun  Dinner     2\n",
       "4       24.59  3.61  Female     No  Sun  Dinner     4"
      ]
     },
     "execution_count": 4,
     "metadata": {},
     "output_type": "execute_result"
    }
   ],
   "source": [
    "data = sns.load_dataset(\"tips\")\n",
    "\n",
    "print(\"Number of Records:\", len(data))\n",
    "data.head()"
   ]
  },
  {
   "cell_type": "markdown",
   "metadata": {},
   "source": [
    "---\n",
    "\n",
    "## Intro to Feature Engineering\n",
    "\n",
    "So far, we've only considered models of the form $\\hat{y} = f_{\\theta}(x) = \\sum_{j=0}^d x_j\\theta_j$, where $\\hat{y}$ is quantitative continuous. \n",
    "\n",
    "We call this a linear model because it is a linear combination of the features (the $x_j$). However, our features don't need to be numbers: we could have categorical values such as names. Additionally, the true relationship doesn't have to be linear, as we could have a relationship that is quadratic, such as the relationship between the height of a projectile and time.\n",
    "\n",
    "In these cases, we often apply **feature functions**, functions that take in some value and output another value. This might look like converting a string into a number, combining multiple numeric values, or creating a boolean value from some filter.\n",
    "\n",
    "Then, if we call $\\phi$ (\"phi\") our \"phi\"-ture function, our model takes the form $\\hat{y} = f_{\\theta}(x) = \\sum_{j=0}^d \\phi(x)_j\\theta_j$."
   ]
  },
  {
   "cell_type": "markdown",
   "metadata": {},
   "source": [
    "### Example feature functions\n",
    "\n",
    "1. One-hot encoding\n",
    "    - converts a single categorical feature into many binary features, each of which represents one of the possible values in the original column\n",
    "    - each of the binary feature columns produced contains a 1 for rows that had that column's label in the original column, and 0 elsewhere\n",
    "1. Polynomial features\n",
    "    - create polynomial combinations of features"
   ]
  },
  {
   "cell_type": "markdown",
   "metadata": {
    "nbgrader": {
     "grade": false,
     "grade_id": "q1",
     "locked": true,
     "schema_version": 2,
     "solution": false
    }
   },
   "source": [
    "<br/>\n",
    "<hr style=\"border: 1px solid #fdb515;\" />\n",
    "\n",
    "## Question 1: Defining the Model and Feature Engineering\n",
    "\n",
    "In Lab 6 we used the constant model. Now let's make a more complicated model that utilizes other features in our dataset. You can imagine that we might want to use the features with an equation that looks as shown below:\n",
    "\n",
    "$$ \\text{Tip} = \\theta_1 \\cdot \\text{total}\\_\\text{bill} + \\theta_2 \\cdot \\text{sex} + \\theta_3 \\cdot \\text{smoker} + \\theta_4 \\cdot \\text{day} + \\theta_5 \\cdot \\text{time} + \\theta_6 \\cdot \\text{size} $$\n",
    "\n",
    "Unfortunately, that's not possible because some of these features like \"day\" are not numbers, so it doesn't make sense to multiply by a numerical parameter.\n",
    "\n",
    "Let's start by converting some of these non-numerical values into numerical values. Before we do this, let's separate out the tips and the features into two separate variables."
   ]
  },
  {
   "cell_type": "code",
   "execution_count": 5,
   "metadata": {},
   "outputs": [],
   "source": [
    "tips = data['tip']\n",
    "X = data.drop(columns='tip')"
   ]
  },
  {
   "cell_type": "markdown",
   "metadata": {
    "deletable": false,
    "editable": false,
    "nbgrader": {
     "grade": false,
     "grade_id": "q1a",
     "locked": true,
     "schema_version": 2,
     "solution": false
    }
   },
   "source": [
    "---\n",
    "### Question 1a: Feature Engineering\n",
    "\n",
    "First, let's convert our features to numerical values. A straightforward approach is to map some of these non-numerical features into numerical ones. \n",
    "\n",
    "For example, we can treat the day as a value from 1-7. However, one of the disadvantages in directly translating to a numeric value is that we unintentionally assign certain features disproportionate weight. Consider assigning Sunday to the numeric value of 7, and Monday to the numeric value of 1. In our linear model, Sunday will have 7 times the influence of Monday, which can lower the accuracy of our model.\n",
    "\n",
    "Instead, let's use one-hot encoding to better represent these features! \n",
    "\n",
    "As you will learn in lecture, one-hot encoding is a way that we can produce a binary vector to indicate non-numeric features. \n",
    "\n",
    "In the `tips` dataset for example, we encode Sunday as the vector `[0 0 0 1]` because our dataset only contains bills from Thursday through Sunday. This assigns a more even weight across each category in non-numeric features. Complete the code below to one-hot encode our dataset. This dataframe holds our \"featurized\" data, which is also often denoted by $\\phi$.\n",
    "\n",
    "**Hint:** You may find the [pd.get_dummies method](https://pandas.pydata.org/docs/reference/api/pandas.get_dummies.html) or the [DictVectorizer class](https://scikit-learn.org/stable/modules/generated/sklearn.feature_extraction.DictVectorizer.html) useful when doing your one-hot encoding.\n",
    "\n",
    "<!--\n",
    "BEGIN QUESTION\n",
    "name: q1a\n",
    "points: 2\n",
    "-->"
   ]
  },
  {
   "cell_type": "code",
   "execution_count": 6,
   "metadata": {
    "nbgrader": {
     "grade": false,
     "grade_id": "q1a-answer",
     "locked": false,
     "schema_version": 2,
     "solution": true
    }
   },
   "outputs": [
    {
     "data": {
      "text/html": [
       "<div>\n",
       "<style scoped>\n",
       "    .dataframe tbody tr th:only-of-type {\n",
       "        vertical-align: middle;\n",
       "    }\n",
       "\n",
       "    .dataframe tbody tr th {\n",
       "        vertical-align: top;\n",
       "    }\n",
       "\n",
       "    .dataframe thead th {\n",
       "        text-align: right;\n",
       "    }\n",
       "</style>\n",
       "<table border=\"1\" class=\"dataframe\">\n",
       "  <thead>\n",
       "    <tr style=\"text-align: right;\">\n",
       "      <th></th>\n",
       "      <th>total_bill</th>\n",
       "      <th>size</th>\n",
       "      <th>Thur</th>\n",
       "      <th>Fri</th>\n",
       "      <th>Sat</th>\n",
       "      <th>Sun</th>\n",
       "      <th>Male</th>\n",
       "      <th>Female</th>\n",
       "      <th>Yes</th>\n",
       "      <th>No</th>\n",
       "      <th>Lunch</th>\n",
       "      <th>Dinner</th>\n",
       "    </tr>\n",
       "  </thead>\n",
       "  <tbody>\n",
       "    <tr>\n",
       "      <th>0</th>\n",
       "      <td>16.99</td>\n",
       "      <td>2</td>\n",
       "      <td>0</td>\n",
       "      <td>0</td>\n",
       "      <td>0</td>\n",
       "      <td>1</td>\n",
       "      <td>0</td>\n",
       "      <td>1</td>\n",
       "      <td>0</td>\n",
       "      <td>1</td>\n",
       "      <td>0</td>\n",
       "      <td>1</td>\n",
       "    </tr>\n",
       "    <tr>\n",
       "      <th>1</th>\n",
       "      <td>10.34</td>\n",
       "      <td>3</td>\n",
       "      <td>0</td>\n",
       "      <td>0</td>\n",
       "      <td>0</td>\n",
       "      <td>1</td>\n",
       "      <td>1</td>\n",
       "      <td>0</td>\n",
       "      <td>0</td>\n",
       "      <td>1</td>\n",
       "      <td>0</td>\n",
       "      <td>1</td>\n",
       "    </tr>\n",
       "    <tr>\n",
       "      <th>2</th>\n",
       "      <td>21.01</td>\n",
       "      <td>3</td>\n",
       "      <td>0</td>\n",
       "      <td>0</td>\n",
       "      <td>0</td>\n",
       "      <td>1</td>\n",
       "      <td>1</td>\n",
       "      <td>0</td>\n",
       "      <td>0</td>\n",
       "      <td>1</td>\n",
       "      <td>0</td>\n",
       "      <td>1</td>\n",
       "    </tr>\n",
       "    <tr>\n",
       "      <th>3</th>\n",
       "      <td>23.68</td>\n",
       "      <td>2</td>\n",
       "      <td>0</td>\n",
       "      <td>0</td>\n",
       "      <td>0</td>\n",
       "      <td>1</td>\n",
       "      <td>1</td>\n",
       "      <td>0</td>\n",
       "      <td>0</td>\n",
       "      <td>1</td>\n",
       "      <td>0</td>\n",
       "      <td>1</td>\n",
       "    </tr>\n",
       "    <tr>\n",
       "      <th>4</th>\n",
       "      <td>24.59</td>\n",
       "      <td>4</td>\n",
       "      <td>0</td>\n",
       "      <td>0</td>\n",
       "      <td>0</td>\n",
       "      <td>1</td>\n",
       "      <td>0</td>\n",
       "      <td>1</td>\n",
       "      <td>0</td>\n",
       "      <td>1</td>\n",
       "      <td>0</td>\n",
       "      <td>1</td>\n",
       "    </tr>\n",
       "  </tbody>\n",
       "</table>\n",
       "</div>"
      ],
      "text/plain": [
       "   total_bill  size  Thur  Fri  Sat  Sun  Male  Female  Yes  No  Lunch  Dinner\n",
       "0       16.99     2     0    0    0    1     0       1    0   1      0       1\n",
       "1       10.34     3     0    0    0    1     1       0    0   1      0       1\n",
       "2       21.01     3     0    0    0    1     1       0    0   1      0       1\n",
       "3       23.68     2     0    0    0    1     1       0    0   1      0       1\n",
       "4       24.59     4     0    0    0    1     0       1    0   1      0       1"
      ]
     },
     "execution_count": 6,
     "metadata": {},
     "output_type": "execute_result"
    }
   ],
   "source": [
    "def one_hot_encode(data):\n",
    "    \"\"\"\n",
    "    Return the one-hot encoded dataframe of our input data.\n",
    "    \n",
    "    Parameters\n",
    "    -----------\n",
    "    data: a dataframe that may include non-numerical features\n",
    "    \n",
    "    Returns\n",
    "    -----------\n",
    "    A one-hot encoded dataframe that only contains numeric features\n",
    "    \n",
    "    \"\"\"\n",
    "    return pd.concat([data[['total_bill','size']],\\\n",
    "                      pd.get_dummies(data['day']),\\\n",
    "                      pd.get_dummies(data['sex']),\\\n",
    "                      pd.get_dummies(data['smoker']),\\\n",
    "                      pd.get_dummies(data['time'])],axis=1)\n",
    "    \n",
    "one_hot_X = one_hot_encode(X)\n",
    "one_hot_X.head()"
   ]
  },
  {
   "cell_type": "code",
   "execution_count": 7,
   "metadata": {
    "deletable": false,
    "editable": false
   },
   "outputs": [
    {
     "data": {
      "text/html": [
       "<p><strong><pre style='display: inline;'>q1a</pre></strong> passed! 🍀</p>"
      ],
      "text/plain": [
       "q1a results: All test cases passed!"
      ]
     },
     "execution_count": 7,
     "metadata": {},
     "output_type": "execute_result"
    }
   ],
   "source": [
    "grader.check(\"q1a\")"
   ]
  },
  {
   "cell_type": "markdown",
   "metadata": {
    "nbgrader": {
     "grade": false,
     "grade_id": "q1b",
     "locked": true,
     "schema_version": 2,
     "solution": false
    }
   },
   "source": [
    "---\n",
    "### Question 1b: Defining the Model\n",
    "\n",
    "Now that all of our data is numeric, we can begin to define our model function. Notice that after one-hot encoding our data, we now have 12 features instead of 6. Therefore, our linear model now looks like:\n",
    "\n",
    "$$ \\text{Tip} = \\theta_1 \\cdot \\text{size} + \\theta_2 \\cdot \\text{total}\\_\\text{bill} + \\theta_3 \\cdot \\text{day}\\_\\text{Thur} + \\theta_4 \\cdot \\text{day}\\_\\text{Fri} + ... + \\theta_{11} \\cdot \\text{time}\\_\\text{Lunch} + \\theta_{12} \\cdot \\text{time}\\_\\text{Dinner} $$\n",
    "\n",
    "We can represent the linear combination above as a matrix-vector product. Implement the `linear_model` function to evaluate this product.\n",
    "\n",
    "Below, we create a `MyLinearModel` class with two methods, `predict` and `fit`. When fitted, this model fails to do anything useful, setting all of its 12 parameters to zero."
   ]
  },
  {
   "cell_type": "code",
   "execution_count": 8,
   "metadata": {},
   "outputs": [],
   "source": [
    "class MyLinearModel():    \n",
    "    def predict(self, X):\n",
    "        return X @ self._thetas\n",
    "    \n",
    "    def fit(self, X, y):\n",
    "        number_of_features = X.shape[1]\n",
    "        self._thetas = np.zeros(shape = (number_of_features, 1))"
   ]
  },
  {
   "cell_type": "code",
   "execution_count": 9,
   "metadata": {},
   "outputs": [
    {
     "data": {
      "text/plain": [
       "array([[0.],\n",
       "       [0.],\n",
       "       [0.],\n",
       "       [0.],\n",
       "       [0.],\n",
       "       [0.],\n",
       "       [0.],\n",
       "       [0.],\n",
       "       [0.],\n",
       "       [0.],\n",
       "       [0.],\n",
       "       [0.]])"
      ]
     },
     "execution_count": 9,
     "metadata": {},
     "output_type": "execute_result"
    }
   ],
   "source": [
    "model = MyLinearModel()\n",
    "model.fit(one_hot_X, tips)\n",
    "model._thetas"
   ]
  },
  {
   "cell_type": "markdown",
   "metadata": {
    "deletable": false,
    "editable": false,
    "nbgrader": {
     "grade": false,
     "grade_id": "q2",
     "locked": true,
     "schema_version": 2,
     "solution": false
    }
   },
   "source": [
    "<br/>\n",
    "<hr style=\"border: 1px solid #fdb515;\" />\n",
    "\n",
    "## Question 2: Fitting a Linear Model using scipy.optimize.minimize Methods\n",
    "\n",
    "Recall in Lab 5 and in lecture 12 we defined multiple loss functions and found the optimal theta using the `scipy.optimize.minimize` function. Adapt the code below to implement the fit method of the linear model.\n",
    "\n",
    "Note that we've added a `loss_function` parameter where the model is fit using the desired loss function, i.e. not necssarily the L2 loss. Example loss function are given as `l1` and `l2`.\n",
    "    \n",
    "\n",
    "<!--\n",
    "BEGIN QUESTION\n",
    "name: q2\n",
    "points: 2\n",
    "-->"
   ]
  },
  {
   "cell_type": "code",
   "execution_count": 10,
   "metadata": {
    "nbgrader": {
     "grade": false,
     "grade_id": "q2-answer",
     "locked": false,
     "schema_version": 2,
     "solution": true
    }
   },
   "outputs": [
    {
     "data": {
      "text/plain": [
       "array([0.09448701, 0.17599121, 0.01519945, 0.17746069, 0.05600937,\n",
       "       0.15199332, 0.18411085, 0.21655233, 0.15712764, 0.24353561,\n",
       "       0.23440145, 0.16626155])"
      ]
     },
     "execution_count": 10,
     "metadata": {},
     "output_type": "execute_result"
    }
   ],
   "source": [
    "from scipy.optimize import minimize\n",
    "\n",
    "def l1(y, y_hat):\n",
    "    return np.abs(y - y_hat)\n",
    "\n",
    "def l2(y, y_hat):\n",
    "    return (y - y_hat)**2\n",
    "\n",
    "class MyLinearModel():    \n",
    "    def predict(self, X):\n",
    "        return X @ self._thetas\n",
    "    \n",
    "    def fit(self, loss_function, X, y):\n",
    "        \"\"\"\n",
    "        Produce the estimated optimal _thetas for the given loss function, \n",
    "        feature matrix X, and observations y.\n",
    "\n",
    "        Parameters\n",
    "        -----------\n",
    "        loss_function: either the squared or absolute loss functions defined above\n",
    "        X: a 2D dataframe (or numpy array) of numeric features (one-hot encoded)\n",
    "        y: a 1D vector of tip amounts\n",
    "\n",
    "        Returns\n",
    "        -----------\n",
    "        The estimate for the optimal theta vector that minimizes our loss\n",
    "        \"\"\"\n",
    "        \n",
    "        number_of_features = X.shape[1]\n",
    "\n",
    "        ## Notes on the following function call which you need to finish:\n",
    "        # \n",
    "        # 0. The starting guess should be some arbitrary array of the correct length.\n",
    "        #    Note the \"number of features\" variable above.\"\n",
    "        # 1. The ... in \"lambda theta: ...\" should be replaced by the average loss if we\n",
    "        #    compute X @ theta. The loss is measured using the given loss function,\n",
    "        #    relative to the observations in the variable y.\n",
    "        \n",
    "        starting_guess = np.zeros(number_of_features)\n",
    "        self._thetas = minimize(lambda theta: \n",
    "                                np.mean(loss_function(y,X@theta))\n",
    "                                , x0 = starting_guess)['x']\n",
    "        # Notice above that we extract the 'x' entry in the dictionary returned by `minimize`. \n",
    "        # This entry corresponds to the optimal theta estimated by the function. Sorry\n",
    "        # we know it's a little confusing, but 'x' is hard coded into the minimize function\n",
    "        # because of the fact that in the optimization universe \"x\" is what you optimize over.\n",
    "        # It'd be less confusing for DS100 students if they used \"theta\".\n",
    "        \n",
    "# When you run the code below, you should get back some non zero thetas.\n",
    "        \n",
    "model = MyLinearModel()\n",
    "model.fit(l2, one_hot_X, tips)\n",
    "model._thetas"
   ]
  },
  {
   "cell_type": "code",
   "execution_count": 11,
   "metadata": {
    "deletable": false,
    "editable": false
   },
   "outputs": [
    {
     "data": {
      "text/html": [
       "<p><strong><pre style='display: inline;'>q2</pre></strong> passed! 🚀</p>"
      ],
      "text/plain": [
       "q2 results: All test cases passed!"
      ]
     },
     "execution_count": 11,
     "metadata": {},
     "output_type": "execute_result"
    }
   ],
   "source": [
    "grader.check(\"q2\")"
   ]
  },
  {
   "cell_type": "markdown",
   "metadata": {},
   "source": [
    "The MSE for your model above should be just slightly larger than 1:"
   ]
  },
  {
   "cell_type": "code",
   "execution_count": 12,
   "metadata": {},
   "outputs": [
    {
     "data": {
      "text/plain": [
       "1.0103535612368277"
      ]
     },
     "execution_count": 12,
     "metadata": {},
     "output_type": "execute_result"
    }
   ],
   "source": [
    "from sklearn.metrics import mean_squared_error\n",
    "mean_squared_error(model.predict(one_hot_X), tips)"
   ]
  },
  {
   "cell_type": "markdown",
   "metadata": {
    "nbgrader": {
     "grade": false,
     "grade_id": "q3",
     "locked": true,
     "schema_version": 2,
     "solution": false
    }
   },
   "source": [
    "<br/>\n",
    "<hr style=\"border: 1px solid #fdb515;\" />\n",
    "\n",
    "## Question 3: Fitting the Model using Analytic Methods\n",
    "\n",
    "Let's also fit our model analytically for the L2 loss function. Recall from lecture that with a linear model, we are solving the following optimization problem for least squares:\n",
    "\n",
    "$$\\min_{\\theta} ||\\Bbb{X}\\theta - \\Bbb{y}||^2$$\n",
    "\n",
    "We showed in [Lecture 11](https://docs.google.com/presentation/d/15eEbroVt2r36TXh28C2wm6wgUHlCBCsODR09kLHhDJ8/edit#slide=id.g113dfce000f_0_2682) that the optimal $\\hat{\\theta}$ when $X^TX$ is invertible is given by the equation: $(X^TX)^{-1}X^TY$"
   ]
  },
  {
   "cell_type": "markdown",
   "metadata": {
    "nbgrader": {
     "grade": false,
     "grade_id": "q3a",
     "locked": true,
     "schema_version": 2,
     "solution": false
    }
   },
   "source": [
    "---\n",
    "### Question 3a: Analytic Solution Using Explicit Inverses\n",
    "\n",
    "For this problem, implement the analytic solution above using `np.linalg.inv` to compute the inverse of $X^TX$.\n",
    "\n",
    "Reminder: To compute the transpose of a matrix, you can use `X.T` or `X.transpose()`"
   ]
  },
  {
   "cell_type": "code",
   "execution_count": 13,
   "metadata": {},
   "outputs": [],
   "source": [
    "class MyAnalyticallyFitOLSModel():    \n",
    "    def predict(self, X):\n",
    "        return X @ self._thetas\n",
    "    \n",
    "    def fit(self, X, y):\n",
    "        \"\"\"\n",
    "        Sets _thetas using the analytical solution to the ordinary least squares problem\n",
    "\n",
    "        Parameters\n",
    "        -----------\n",
    "        X: a 2D dataframe (or numpy array) of numeric features (one-hot encoded)\n",
    "        y: a 1D vector of tip amounts\n",
    "\n",
    "        Returns\n",
    "        -----------\n",
    "        The estimate for theta computed using the equation mentioned above\n",
    "        \"\"\"\n",
    "        \n",
    "        xTx = X.T@X\n",
    "        xTy = X.T@y\n",
    "        self._thetas = np.linalg.inv(xTx)@xTy\n",
    "\n",
    "        "
   ]
  },
  {
   "cell_type": "markdown",
   "metadata": {},
   "source": [
    "Now, run the cell below to find the analytical solution for the `tips` dataset. Depending on the machine that you run your code on, you should either see a singular matrix error or end up with thetas that are nonsensical (magnitudes greater than 10^15). This is not good!"
   ]
  },
  {
   "cell_type": "code",
   "execution_count": 14,
   "metadata": {},
   "outputs": [
    {
     "data": {
      "text/plain": [
       "array([ 1.76827552e+01, -4.59247406e+01,  8.50700658e+16,  8.50700658e+16,\n",
       "        8.50700658e+16,  8.50700658e+16, -5.37366232e+16, -5.37366232e+16,\n",
       "       -3.13334426e+16, -3.13334426e+16, -1.60000000e+01, -8.00000000e+00])"
      ]
     },
     "execution_count": 14,
     "metadata": {},
     "output_type": "execute_result"
    }
   ],
   "source": [
    "# When you run the code below, you should get back some non zero thetas.\n",
    "        \n",
    "model = MyAnalyticallyFitOLSModel()\n",
    "model.fit(one_hot_X, tips)\n",
    "analytical_thetas = model._thetas\n",
    "analytical_thetas"
   ]
  },
  {
   "cell_type": "markdown",
   "metadata": {
    "deletable": false,
    "editable": false
   },
   "source": [
    "In the cell below, explain why we got the error above when trying to calculate the analytical solution for our one-hot encoded `tips` dataset.\n",
    "\n",
    "<!--\n",
    "BEGIN QUESTION\n",
    "name: q3a\n",
    "-->"
   ]
  },
  {
   "cell_type": "markdown",
   "metadata": {},
   "source": [
    "每一特征值（如性别）每一行和必为1，转置后相乘会导致线性相关"
   ]
  },
  {
   "cell_type": "markdown",
   "metadata": {
    "deletable": false,
    "editable": false
   },
   "source": [
    "---\n",
    "### Question 3b: Fixing our One-Hot Encoding\n",
    "\n",
    "Now, let's fix our one-hot encoding approach from question 1 so we don't get the error we saw in question 3a. Complete the code below to one-hot-encode our dataset such that `one_hot_X_revised` has no redundant features.\n",
    "\n",
    "<!--\n",
    "BEGIN QUESTION\n",
    "name: q3b\n",
    "-->"
   ]
  },
  {
   "cell_type": "code",
   "execution_count": 15,
   "metadata": {},
   "outputs": [
    {
     "name": "stdout",
     "output_type": "stream",
     "text": [
      "Our numerical model's loss is:  1.0186391784649278\n",
      "Our analytical model's loss is:  1.0186391784442834\n"
     ]
    }
   ],
   "source": [
    "def one_hot_encode_revised(data):\n",
    "    \"\"\"\n",
    "    Return the one-hot encoded dataframe of our input data, removing redundancies.\n",
    "    \n",
    "    Parameters\n",
    "    -----------\n",
    "    data: a dataframe that may include non-numerical features\n",
    "    \n",
    "    Returns\n",
    "    -----------\n",
    "    A one-hot encoded dataframe that only contains numeric features without any redundancies.\n",
    "    \n",
    "    \"\"\"\n",
    "    newdata = data\n",
    "    columns = ['sex','smoker','day','time']\n",
    "    for col in columns:\n",
    "        seri = data.groupby(col)[col].count()\n",
    "        newd = []\n",
    "        for i in range(data.shape[0]):\n",
    "            newd.append(seri[data[col][i]]/data.shape[0])\n",
    "        newdata[col] = newd\n",
    "    return newdata\n",
    "    \n",
    "\n",
    "one_hot_X_revised = one_hot_encode_revised(X)    \n",
    "    \n",
    "numerical_model = MyLinearModel()\n",
    "numerical_model.fit(l2, one_hot_X_revised, tips)\n",
    "    \n",
    "analytical_model = MyAnalyticallyFitOLSModel()\n",
    "analytical_model.fit(one_hot_X_revised, tips)\n",
    "\n",
    "\n",
    "print(\"Our numerical model's loss is: \", mean_squared_error(numerical_model.predict(one_hot_X_revised), tips))\n",
    "print(\"Our analytical model's loss is: \", mean_squared_error(analytical_model.predict(one_hot_X_revised), tips))"
   ]
  },
  {
   "cell_type": "code",
   "execution_count": 16,
   "metadata": {},
   "outputs": [
    {
     "data": {
      "text/html": [
       "<div>\n",
       "<style scoped>\n",
       "    .dataframe tbody tr th:only-of-type {\n",
       "        vertical-align: middle;\n",
       "    }\n",
       "\n",
       "    .dataframe tbody tr th {\n",
       "        vertical-align: top;\n",
       "    }\n",
       "\n",
       "    .dataframe thead th {\n",
       "        text-align: right;\n",
       "    }\n",
       "</style>\n",
       "<table border=\"1\" class=\"dataframe\">\n",
       "  <thead>\n",
       "    <tr style=\"text-align: right;\">\n",
       "      <th></th>\n",
       "      <th>total_bill</th>\n",
       "      <th>tip</th>\n",
       "      <th>sex</th>\n",
       "      <th>smoker</th>\n",
       "      <th>day</th>\n",
       "      <th>time</th>\n",
       "      <th>size</th>\n",
       "    </tr>\n",
       "  </thead>\n",
       "  <tbody>\n",
       "    <tr>\n",
       "      <th>0</th>\n",
       "      <td>16.99</td>\n",
       "      <td>1.01</td>\n",
       "      <td>Female</td>\n",
       "      <td>No</td>\n",
       "      <td>Sun</td>\n",
       "      <td>Dinner</td>\n",
       "      <td>2</td>\n",
       "    </tr>\n",
       "    <tr>\n",
       "      <th>1</th>\n",
       "      <td>10.34</td>\n",
       "      <td>1.66</td>\n",
       "      <td>Male</td>\n",
       "      <td>No</td>\n",
       "      <td>Sun</td>\n",
       "      <td>Dinner</td>\n",
       "      <td>3</td>\n",
       "    </tr>\n",
       "    <tr>\n",
       "      <th>2</th>\n",
       "      <td>21.01</td>\n",
       "      <td>3.50</td>\n",
       "      <td>Male</td>\n",
       "      <td>No</td>\n",
       "      <td>Sun</td>\n",
       "      <td>Dinner</td>\n",
       "      <td>3</td>\n",
       "    </tr>\n",
       "    <tr>\n",
       "      <th>3</th>\n",
       "      <td>23.68</td>\n",
       "      <td>3.31</td>\n",
       "      <td>Male</td>\n",
       "      <td>No</td>\n",
       "      <td>Sun</td>\n",
       "      <td>Dinner</td>\n",
       "      <td>2</td>\n",
       "    </tr>\n",
       "    <tr>\n",
       "      <th>4</th>\n",
       "      <td>24.59</td>\n",
       "      <td>3.61</td>\n",
       "      <td>Female</td>\n",
       "      <td>No</td>\n",
       "      <td>Sun</td>\n",
       "      <td>Dinner</td>\n",
       "      <td>4</td>\n",
       "    </tr>\n",
       "    <tr>\n",
       "      <th>...</th>\n",
       "      <td>...</td>\n",
       "      <td>...</td>\n",
       "      <td>...</td>\n",
       "      <td>...</td>\n",
       "      <td>...</td>\n",
       "      <td>...</td>\n",
       "      <td>...</td>\n",
       "    </tr>\n",
       "    <tr>\n",
       "      <th>239</th>\n",
       "      <td>29.03</td>\n",
       "      <td>5.92</td>\n",
       "      <td>Male</td>\n",
       "      <td>No</td>\n",
       "      <td>Sat</td>\n",
       "      <td>Dinner</td>\n",
       "      <td>3</td>\n",
       "    </tr>\n",
       "    <tr>\n",
       "      <th>240</th>\n",
       "      <td>27.18</td>\n",
       "      <td>2.00</td>\n",
       "      <td>Female</td>\n",
       "      <td>Yes</td>\n",
       "      <td>Sat</td>\n",
       "      <td>Dinner</td>\n",
       "      <td>2</td>\n",
       "    </tr>\n",
       "    <tr>\n",
       "      <th>241</th>\n",
       "      <td>22.67</td>\n",
       "      <td>2.00</td>\n",
       "      <td>Male</td>\n",
       "      <td>Yes</td>\n",
       "      <td>Sat</td>\n",
       "      <td>Dinner</td>\n",
       "      <td>2</td>\n",
       "    </tr>\n",
       "    <tr>\n",
       "      <th>242</th>\n",
       "      <td>17.82</td>\n",
       "      <td>1.75</td>\n",
       "      <td>Male</td>\n",
       "      <td>No</td>\n",
       "      <td>Sat</td>\n",
       "      <td>Dinner</td>\n",
       "      <td>2</td>\n",
       "    </tr>\n",
       "    <tr>\n",
       "      <th>243</th>\n",
       "      <td>18.78</td>\n",
       "      <td>3.00</td>\n",
       "      <td>Female</td>\n",
       "      <td>No</td>\n",
       "      <td>Thur</td>\n",
       "      <td>Dinner</td>\n",
       "      <td>2</td>\n",
       "    </tr>\n",
       "  </tbody>\n",
       "</table>\n",
       "<p>244 rows × 7 columns</p>\n",
       "</div>"
      ],
      "text/plain": [
       "     total_bill   tip     sex smoker   day    time  size\n",
       "0         16.99  1.01  Female     No   Sun  Dinner     2\n",
       "1         10.34  1.66    Male     No   Sun  Dinner     3\n",
       "2         21.01  3.50    Male     No   Sun  Dinner     3\n",
       "3         23.68  3.31    Male     No   Sun  Dinner     2\n",
       "4         24.59  3.61  Female     No   Sun  Dinner     4\n",
       "..          ...   ...     ...    ...   ...     ...   ...\n",
       "239       29.03  5.92    Male     No   Sat  Dinner     3\n",
       "240       27.18  2.00  Female    Yes   Sat  Dinner     2\n",
       "241       22.67  2.00    Male    Yes   Sat  Dinner     2\n",
       "242       17.82  1.75    Male     No   Sat  Dinner     2\n",
       "243       18.78  3.00  Female     No  Thur  Dinner     2\n",
       "\n",
       "[244 rows x 7 columns]"
      ]
     },
     "execution_count": 16,
     "metadata": {},
     "output_type": "execute_result"
    }
   ],
   "source": [
    "newdata = data\n",
    "# seri = data.groupby('sex')['sex'].count()\n",
    "# newsex = []\n",
    "# for i in range(newdata.shape[0]):\n",
    "#     newsex.append(seri['Male']/data.shape[0] if newdata['sex'][i] == 'Male' else seri['Female']/data.shape[0])\n",
    "# newdata['sex'] = newsex\n",
    "newdata"
   ]
  },
  {
   "cell_type": "code",
   "execution_count": 17,
   "metadata": {
    "deletable": false,
    "editable": false
   },
   "outputs": [
    {
     "data": {
      "text/html": [
       "<p><strong><pre style='display: inline;'>q3b</pre></strong> passed! 🚀</p>"
      ],
      "text/plain": [
       "q3b results: All test cases passed!"
      ]
     },
     "execution_count": 17,
     "metadata": {},
     "output_type": "execute_result"
    }
   ],
   "source": [
    "grader.check(\"q3b\")"
   ]
  },
  {
   "cell_type": "markdown",
   "metadata": {
    "deletable": false,
    "editable": false
   },
   "source": [
    "---\n",
    "### Question 3c: Analyzing our new One-Hot Encoding\n",
    "\n",
    "Why did removing redundancies in our one-hot encoding fix the problem we had in 3a?\n",
    "<!--\n",
    "BEGIN QUESTION\n",
    "name: q3c\n",
    "-->"
   ]
  },
  {
   "cell_type": "markdown",
   "metadata": {},
   "source": [
    "_Type your answer here, replacing this text._"
   ]
  },
  {
   "cell_type": "markdown",
   "metadata": {},
   "source": [
    "---\n",
    "\n",
    "Note: An alternate approach is to use `np.linalg.solve` instead of `np.linalg.inv`. For the example above, even with the redundant features, `np.linalg.solve` will work well. Though in general, it's best to drop redundant features anyway.\n",
    "\n",
    "In case you want to learn more, here is a relevant Stack Overflow post: https://stackoverflow.com/questions/31256252/why-does-numpy-linalg-solve-offer-more-precise-matrix-inversions-than-numpy-li"
   ]
  },
  {
   "cell_type": "markdown",
   "metadata": {},
   "source": [
    "<br/>\n",
    "<hr style=\"border: 1px solid #fdb515;\" />\n",
    "\n",
    "## Question 4: Gradient Descent"
   ]
  },
  {
   "cell_type": "code",
   "execution_count": 18,
   "metadata": {},
   "outputs": [
    {
     "data": {
      "text/html": [
       "<div>\n",
       "<style scoped>\n",
       "    .dataframe tbody tr th:only-of-type {\n",
       "        vertical-align: middle;\n",
       "    }\n",
       "\n",
       "    .dataframe tbody tr th {\n",
       "        vertical-align: top;\n",
       "    }\n",
       "\n",
       "    .dataframe thead th {\n",
       "        text-align: right;\n",
       "    }\n",
       "</style>\n",
       "<table border=\"1\" class=\"dataframe\">\n",
       "  <thead>\n",
       "    <tr style=\"text-align: right;\">\n",
       "      <th></th>\n",
       "      <th>x</th>\n",
       "      <th>y</th>\n",
       "    </tr>\n",
       "  </thead>\n",
       "  <tbody>\n",
       "    <tr>\n",
       "      <th>0</th>\n",
       "      <td>-5.000000</td>\n",
       "      <td>-7.672309</td>\n",
       "    </tr>\n",
       "    <tr>\n",
       "      <th>1</th>\n",
       "      <td>-4.966555</td>\n",
       "      <td>-7.779735</td>\n",
       "    </tr>\n",
       "    <tr>\n",
       "      <th>2</th>\n",
       "      <td>-4.933110</td>\n",
       "      <td>-7.995938</td>\n",
       "    </tr>\n",
       "    <tr>\n",
       "      <th>3</th>\n",
       "      <td>-4.899666</td>\n",
       "      <td>-8.197059</td>\n",
       "    </tr>\n",
       "    <tr>\n",
       "      <th>4</th>\n",
       "      <td>-4.866221</td>\n",
       "      <td>-8.183883</td>\n",
       "    </tr>\n",
       "  </tbody>\n",
       "</table>\n",
       "</div>"
      ],
      "text/plain": [
       "          x         y\n",
       "0 -5.000000 -7.672309\n",
       "1 -4.966555 -7.779735\n",
       "2 -4.933110 -7.995938\n",
       "3 -4.899666 -8.197059\n",
       "4 -4.866221 -8.183883"
      ]
     },
     "execution_count": 18,
     "metadata": {},
     "output_type": "execute_result"
    }
   ],
   "source": [
    "# Run this cell to load the data for this problem\n",
    "df = pd.read_csv(\"lab7_data.csv\", index_col=0)\n",
    "df.head()"
   ]
  },
  {
   "cell_type": "markdown",
   "metadata": {},
   "source": [
    "If we plot this data, we see that there is a clear sinusoidal relationship between x and y."
   ]
  },
  {
   "cell_type": "code",
   "execution_count": 19,
   "metadata": {},
   "outputs": [
    {
     "data": {
      "application/vnd.plotly.v1+json": {
       "config": {
        "plotlyServerURL": "https://plot.ly"
       },
       "data": [
        {
         "hovertemplate": "x=%{x}<br>y=%{y}<extra></extra>",
         "legendgroup": "",
         "marker": {
          "color": "#636efa",
          "symbol": "circle"
         },
         "mode": "markers",
         "name": "",
         "orientation": "v",
         "showlegend": false,
         "type": "scatter",
         "x": [
          -5,
          -4.966555183946488,
          -4.933110367892977,
          -4.8996655518394645,
          -4.866220735785953,
          -4.832775919732441,
          -4.79933110367893,
          -4.765886287625418,
          -4.7324414715719065,
          -4.698996655518394,
          -4.665551839464883,
          -4.632107023411371,
          -4.59866220735786,
          -4.565217391304348,
          -4.531772575250836,
          -4.498327759197324,
          -4.464882943143813,
          -4.431438127090301,
          -4.39799331103679,
          -4.364548494983278,
          -4.331103678929766,
          -4.297658862876254,
          -4.264214046822742,
          -4.230769230769231,
          -4.19732441471572,
          -4.163879598662208,
          -4.130434782608695,
          -4.096989966555184,
          -4.063545150501672,
          -4.030100334448161,
          -3.9966555183946486,
          -3.963210702341138,
          -3.929765886287625,
          -3.896321070234114,
          -3.862876254180602,
          -3.82943143812709,
          -3.7959866220735785,
          -3.7625418060200673,
          -3.729096989966555,
          -3.695652173913044,
          -3.662207357859532,
          -3.62876254180602,
          -3.5953177257525084,
          -3.5618729096989967,
          -3.528428093645485,
          -3.4949832775919734,
          -3.4615384615384617,
          -3.42809364548495,
          -3.3946488294314383,
          -3.361204013377926,
          -3.327759197324415,
          -3.294314381270903,
          -3.260869565217392,
          -3.2274247491638794,
          -3.193979933110368,
          -3.160535117056856,
          -3.127090301003345,
          -3.0936454849498327,
          -3.060200668896321,
          -3.0267558528428093,
          -2.9933110367892977,
          -2.959866220735786,
          -2.9264214046822743,
          -2.8929765886287626,
          -2.859531772575251,
          -2.8260869565217392,
          -2.792642140468228,
          -2.759197324414716,
          -2.725752508361204,
          -2.6923076923076925,
          -2.658862876254181,
          -2.625418060200669,
          -2.591973244147157,
          -2.558528428093646,
          -2.525083612040134,
          -2.491638795986622,
          -2.4581939799331103,
          -2.4247491638795986,
          -2.391304347826087,
          -2.3578595317725752,
          -2.324414715719064,
          -2.290969899665552,
          -2.25752508361204,
          -2.2240802675585285,
          -2.190635451505017,
          -2.157190635451505,
          -2.123745819397993,
          -2.0903010033444818,
          -2.05685618729097,
          -2.0234113712374584,
          -1.9899665551839467,
          -1.956521739130435,
          -1.9230769230769236,
          -1.889632107023412,
          -1.8561872909699,
          -1.8227424749163883,
          -1.7892976588628766,
          -1.7558528428093645,
          -1.7224080267558528,
          -1.6889632107023411,
          -1.6555183946488294,
          -1.6220735785953178,
          -1.588628762541806,
          -1.5551839464882944,
          -1.5217391304347827,
          -1.488294314381271,
          -1.4548494983277591,
          -1.4214046822742477,
          -1.387959866220736,
          -1.3545150501672245,
          -1.3210702341137126,
          -1.287625418060201,
          -1.2541806020066892,
          -1.2207357859531776,
          -1.187290969899666,
          -1.1538461538461542,
          -1.1204013377926425,
          -1.0869565217391308,
          -1.0535117056856187,
          -1.020066889632107,
          -0.9866220735785952,
          -0.953177257525084,
          -0.919732441471572,
          -0.8862876254180607,
          -0.8528428093645486,
          -0.8193979933110374,
          -0.7859531772575252,
          -0.752508361204014,
          -0.7190635451505019,
          -0.6856187290969897,
          -0.6521739130434785,
          -0.6187290969899664,
          -0.5852842809364551,
          -0.551839464882943,
          -0.5183946488294318,
          -0.4849498327759196,
          -0.4515050167224084,
          -0.4180602006688962,
          -0.384615384615385,
          -0.3511705685618729,
          -0.3177257525083616,
          -0.2842809364548495,
          -0.2508361204013383,
          -0.2173913043478261,
          -0.1839464882943149,
          -0.1505016722408028,
          -0.1170568561872915,
          -0.0836120401337794,
          -0.0501672240802681,
          -0.016722408026756,
          0.016722408026756,
          0.0501672240802673,
          0.0836120401337794,
          0.1170568561872906,
          0.1505016722408028,
          0.183946488294314,
          0.2173913043478261,
          0.2508361204013374,
          0.2842809364548495,
          0.3177257525083607,
          0.3511705685618729,
          0.3846153846153841,
          0.4180602006688962,
          0.4515050167224075,
          0.4849498327759196,
          0.5183946488294309,
          0.551839464882943,
          0.5852842809364542,
          0.6187290969899664,
          0.6521739130434776,
          0.6856187290969897,
          0.7190635451505019,
          0.7525083612040131,
          0.7859531772575252,
          0.8193979933110365,
          0.8528428093645486,
          0.8862876254180598,
          0.919732441471572,
          0.9531772575250832,
          0.9866220735785952,
          1.0200668896321066,
          1.0535117056856187,
          1.08695652173913,
          1.120401337792642,
          1.1538461538461533,
          1.1872909698996654,
          1.2207357859531769,
          1.2541806020066888,
          1.2876254180602,
          1.3210702341137122,
          1.3545150501672234,
          1.3879598662207355,
          1.4214046822742468,
          1.454849498327759,
          1.488294314381271,
          1.5217391304347825,
          1.5551839464882944,
          1.5886287625418056,
          1.6220735785953178,
          1.655518394648829,
          1.6889632107023411,
          1.7224080267558524,
          1.7558528428093645,
          1.7892976588628755,
          1.822742474916388,
          1.856187290969899,
          1.8896321070234112,
          1.9230769230769225,
          1.9565217391304344,
          1.9899665551839456,
          2.023411371237458,
          2.056856187290969,
          2.0903010033444813,
          2.123745819397993,
          2.1571906354515047,
          2.190635451505017,
          2.224080267558528,
          2.25752508361204,
          2.2909698996655514,
          2.324414715719064,
          2.357859531772575,
          2.391304347826087,
          2.424749163879598,
          2.4581939799331103,
          2.491638795986621,
          2.5250836120401337,
          2.558528428093645,
          2.591973244147157,
          2.6254180602006683,
          2.6588628762541804,
          2.692307692307692,
          2.725752508361204,
          2.759197324414715,
          2.792642140468227,
          2.8260869565217384,
          2.8595317725752505,
          2.8929765886287626,
          2.926421404682274,
          2.959866220735786,
          2.993311036789297,
          3.0267558528428093,
          3.060200668896321,
          3.093645484949832,
          3.127090301003344,
          3.160535117056856,
          3.193979933110368,
          3.2274247491638786,
          3.2608695652173907,
          3.294314381270903,
          3.327759197324415,
          3.3612040133779253,
          3.3946488294314374,
          3.428093645484949,
          3.4615384615384617,
          3.494983277591972,
          3.528428093645484,
          3.5618729096989963,
          3.5953177257525084,
          3.628762541806021,
          3.662207357859531,
          3.695652173913043,
          3.729096989966555,
          3.7625418060200673,
          3.7959866220735776,
          3.8294314381270897,
          3.862876254180602,
          3.896321070234114,
          3.929765886287624,
          3.963210702341137,
          3.9966555183946486,
          4.030100334448161,
          4.063545150501671,
          4.096989966555183,
          4.130434782608695,
          4.163879598662208,
          4.197324414715718,
          4.23076923076923,
          4.264214046822742,
          4.297658862876254,
          4.331103678929766,
          4.364548494983277,
          4.397993311036789,
          4.431438127090301,
          4.464882943143813,
          4.498327759197323,
          4.531772575250836,
          4.565217391304348,
          4.59866220735786,
          4.63210702341137,
          4.665551839464882,
          4.698996655518394,
          4.7324414715719065,
          4.765886287625417,
          4.799331103678929,
          4.832775919732441,
          4.866220735785953,
          4.899665551839464,
          4.933110367892976,
          4.966555183946488,
          5
         ],
         "xaxis": "x",
         "y": [
          -7.672309213774009,
          -7.779734517785404,
          -7.995938349837362,
          -8.197058502287891,
          -8.183883447872761,
          -8.294583870428044,
          -8.789108619905587,
          -8.131185000490298,
          -8.367926232188761,
          -8.449548670279784,
          -7.686395062809118,
          -7.884779111713495,
          -7.40758370858694,
          -8.149296368695282,
          -7.698753306457693,
          -7.209703841645482,
          -7.693224736041597,
          -7.005247350337088,
          -7.35998974810165,
          -6.750680240727842,
          -7.424931134387076,
          -5.717106515468041,
          -5.827572739109059,
          -7.022723259587224,
          -6.477762669231767,
          -6.53792094309406,
          -6.199351168608523,
          -5.4012444332555765,
          -5.183321367758454,
          -4.94806613595341,
          -5.9588670139285576,
          -5.055988335965847,
          -6.163280337718589,
          -5.260652226427859,
          -4.461189588769009,
          -4.250469942862925,
          -5.188735791213787,
          -5.509146146562051,
          -4.97235048877106,
          -5.333269655765433,
          -3.9572248387125937,
          -4.149055664493958,
          -4.955874457859213,
          -4.030243685843214,
          -4.332176030245413,
          -4.817008349132875,
          -4.564804163660334,
          -5.401765804464134,
          -4.520446071854519,
          -4.27990572791023,
          -4.675812677586517,
          -4.393284560723114,
          -5.277742639388693,
          -4.664473786357007,
          -4.807266064507394,
          -5.159392872069294,
          -4.309277719586534,
          -4.471369501600405,
          -4.708165528460132,
          -4.929656467128833,
          -5.615534766039346,
          -5.160540519430589,
          -4.776761441232219,
          -5.120531985395963,
          -4.913984192307944,
          -3.865417505752173,
          -4.966301571707113,
          -5.4181562216860994,
          -5.604518870906897,
          -4.549535794045196,
          -6.037714671062444,
          -5.637273709249072,
          -4.805312244471921,
          -5.369504407253398,
          -4.437171109196206,
          -5.074797374667527,
          -4.401868897942774,
          -3.870948037042624,
          -3.73656975378285,
          -3.410294574388121,
          -5.009897240248489,
          -4.329097343769474,
          -3.693665318257521,
          -4.40187841033484,
          -2.85933921633624,
          -4.104011167303041,
          -4.204385884659721,
          -2.1637722289643784,
          -2.9906338204849816,
          -2.758585168375083,
          -2.2545644043728204,
          -2.8846913733782547,
          -2.984782294930396,
          -2.5929994205605147,
          -2.77927772322337,
          -2.71500722878401,
          -2.010241067993213,
          -1.656310417608073,
          -0.7787045703792018,
          -1.269951865892921,
          -1.792748804012821,
          -1.9537146428903247,
          -1.1788960734769738,
          -1.5277154372456878,
          -1.1807087726330094,
          -1.568517660472828,
          -1.3506035893989303,
          -1.391697769760479,
          -1.047282746349446,
          -1.5772821642656252,
          -1.570785251369731,
          -2.41943797541992,
          -1.185078881556551,
          -1.914408856085967,
          -1.0601700787657118,
          -1.2815944343706038,
          -1.519087507875585,
          -1.4238067886295132,
          -1.6438780349509858,
          -1.6223090507647782,
          -1.087078686084135,
          -1.5173404698624795,
          -1.5562788624728698,
          -2.141827830142496,
          -1.9259234491491928,
          -2.4156167655487257,
          -1.3251559408775493,
          -1.6793890261642763,
          -2.0297116584088037,
          -1.4923405710697517,
          -1.632846009613218,
          -2.021118449630693,
          -2.217881831090392,
          -1.3434477416665287,
          -1.7481642321152326,
          -1.4218297444923564,
          -0.9642400092872936,
          -1.70266315254424,
          -1.829807953156089,
          -1.8367241904226752,
          -1.4706344679958103,
          -1.4433084677515662,
          -1.7518816168986122,
          -1.4509022323444576,
          -1.4237708901966324,
          -1.0520683358219507,
          -0.667107565897173,
          -0.5886674953043197,
          -0.6775625952018157,
          0.984683650961996,
          0.4517802664309152,
          0.5006010640927224,
          -0.1842110064761587,
          0.3787570984061928,
          1.1836477922281108,
          0.3964239987822318,
          0.7124193586625436,
          1.182384197477731,
          0.6713989809047876,
          1.274450951826059,
          1.553143722667457,
          1.6995591203361309,
          2.023466974732528,
          1.9457019612332904,
          2.360545691627678,
          1.5906123866048576,
          1.859388827635383,
          1.7401020511193372,
          1.6162257782761629,
          1.2606821159072197,
          2.0430388764224645,
          1.662330670627664,
          2.4611406877256683,
          1.253465329713654,
          2.602333158981674,
          1.6141211682630343,
          1.9364307898997648,
          2.030599961694973,
          1.5494988196309636,
          1.0758074888131886,
          1.552207339783204,
          1.604919429177967,
          1.3333485513235692,
          1.8945712789194569,
          1.2566138414330137,
          1.5406524404853896,
          0.5330736677012181,
          1.2606873376969794,
          0.9355046257550714,
          1.3128779872238985,
          1.2874848106399044,
          1.6031251662584318,
          1.543072748025539,
          0.913605638569292,
          0.612453777025363,
          1.0997520967804328,
          1.9012860881991824,
          1.1485754340483532,
          1.182335352296918,
          3.0169882275133157,
          1.734916616051607,
          1.4755744291073905,
          1.0420459334182426,
          2.4507017557143023,
          1.8611867314605468,
          2.182766771758988,
          2.388071446532565,
          2.608817389506666,
          2.6211165439148685,
          2.1780311793948126,
          2.8536503165000946,
          2.9411228690611684,
          3.4831597253719,
          4.183737623378804,
          4.5578448014735065,
          3.4886458739686605,
          3.681304139466065,
          4.310766278752113,
          3.59450365339081,
          3.9825236292003225,
          3.830213475022972,
          5.078307699143146,
          4.143829465853275,
          3.716069871102355,
          4.02996653723164,
          5.45493886582055,
          5.182681971943008,
          5.17348565231972,
          4.87477879523013,
          4.690408384606235,
          6.639340931336671,
          5.112897749542114,
          4.947203785190758,
          4.530416700222474,
          5.513651518454388,
          5.442692650922263,
          4.963096760905224,
          4.241634389279237,
          5.139646117289144,
          5.18015105108955,
          5.27063280895599,
          4.761049843968934,
          5.179895453080157,
          4.965352381386266,
          4.768604010450766,
          4.325603132362003,
          4.833247769037616,
          4.965001813623925,
          4.236454731729646,
          4.2087163693574725,
          3.822595174084512,
          3.388416719809559,
          5.05696645106742,
          4.761756934740643,
          4.861548761494364,
          4.614557121605502,
          4.936091262417548,
          4.408254404277195,
          4.312879506437206,
          4.295432037476273,
          4.557371279896795,
          4.040390885252911,
          4.692542998436527,
          5.17447103318766,
          5.735624901448761,
          5.83169364315838,
          5.098716575694279,
          5.757807223192957,
          6.08636225308439,
          5.033503496010061,
          5.031456052475531,
          5.920430610451941,
          6.202758312938776,
          6.141915269649664,
          5.568159510857342,
          6.870091033079695,
          6.612020089918684,
          5.769394173124921,
          6.5472339544915625,
          6.801129477791633,
          7.115814326994783,
          7.314097300906174,
          7.487299400104616,
          6.907759933614441,
          8.138754857688127,
          7.573584031360379,
          7.852216707944286,
          8.67279663803172,
          6.938632740546129,
          8.543895611158147,
          8.684529212060736,
          8.059800504661863,
          8.60945170862109,
          8.232467731487317,
          7.411797223660793,
          9.195919508646542,
          7.903161289593162,
          7.935815930850479,
          8.809675031622321,
          8.01053214752323
         ],
         "yaxis": "y"
        }
       ],
       "layout": {
        "legend": {
         "tracegroupgap": 0
        },
        "margin": {
         "t": 60
        },
        "template": {
         "data": {
          "bar": [
           {
            "error_x": {
             "color": "#2a3f5f"
            },
            "error_y": {
             "color": "#2a3f5f"
            },
            "marker": {
             "line": {
              "color": "#E5ECF6",
              "width": 0.5
             },
             "pattern": {
              "fillmode": "overlay",
              "size": 10,
              "solidity": 0.2
             }
            },
            "type": "bar"
           }
          ],
          "barpolar": [
           {
            "marker": {
             "line": {
              "color": "#E5ECF6",
              "width": 0.5
             },
             "pattern": {
              "fillmode": "overlay",
              "size": 10,
              "solidity": 0.2
             }
            },
            "type": "barpolar"
           }
          ],
          "carpet": [
           {
            "aaxis": {
             "endlinecolor": "#2a3f5f",
             "gridcolor": "white",
             "linecolor": "white",
             "minorgridcolor": "white",
             "startlinecolor": "#2a3f5f"
            },
            "baxis": {
             "endlinecolor": "#2a3f5f",
             "gridcolor": "white",
             "linecolor": "white",
             "minorgridcolor": "white",
             "startlinecolor": "#2a3f5f"
            },
            "type": "carpet"
           }
          ],
          "choropleth": [
           {
            "colorbar": {
             "outlinewidth": 0,
             "ticks": ""
            },
            "type": "choropleth"
           }
          ],
          "contour": [
           {
            "colorbar": {
             "outlinewidth": 0,
             "ticks": ""
            },
            "colorscale": [
             [
              0,
              "#0d0887"
             ],
             [
              0.1111111111111111,
              "#46039f"
             ],
             [
              0.2222222222222222,
              "#7201a8"
             ],
             [
              0.3333333333333333,
              "#9c179e"
             ],
             [
              0.4444444444444444,
              "#bd3786"
             ],
             [
              0.5555555555555556,
              "#d8576b"
             ],
             [
              0.6666666666666666,
              "#ed7953"
             ],
             [
              0.7777777777777778,
              "#fb9f3a"
             ],
             [
              0.8888888888888888,
              "#fdca26"
             ],
             [
              1,
              "#f0f921"
             ]
            ],
            "type": "contour"
           }
          ],
          "contourcarpet": [
           {
            "colorbar": {
             "outlinewidth": 0,
             "ticks": ""
            },
            "type": "contourcarpet"
           }
          ],
          "heatmap": [
           {
            "colorbar": {
             "outlinewidth": 0,
             "ticks": ""
            },
            "colorscale": [
             [
              0,
              "#0d0887"
             ],
             [
              0.1111111111111111,
              "#46039f"
             ],
             [
              0.2222222222222222,
              "#7201a8"
             ],
             [
              0.3333333333333333,
              "#9c179e"
             ],
             [
              0.4444444444444444,
              "#bd3786"
             ],
             [
              0.5555555555555556,
              "#d8576b"
             ],
             [
              0.6666666666666666,
              "#ed7953"
             ],
             [
              0.7777777777777778,
              "#fb9f3a"
             ],
             [
              0.8888888888888888,
              "#fdca26"
             ],
             [
              1,
              "#f0f921"
             ]
            ],
            "type": "heatmap"
           }
          ],
          "heatmapgl": [
           {
            "colorbar": {
             "outlinewidth": 0,
             "ticks": ""
            },
            "colorscale": [
             [
              0,
              "#0d0887"
             ],
             [
              0.1111111111111111,
              "#46039f"
             ],
             [
              0.2222222222222222,
              "#7201a8"
             ],
             [
              0.3333333333333333,
              "#9c179e"
             ],
             [
              0.4444444444444444,
              "#bd3786"
             ],
             [
              0.5555555555555556,
              "#d8576b"
             ],
             [
              0.6666666666666666,
              "#ed7953"
             ],
             [
              0.7777777777777778,
              "#fb9f3a"
             ],
             [
              0.8888888888888888,
              "#fdca26"
             ],
             [
              1,
              "#f0f921"
             ]
            ],
            "type": "heatmapgl"
           }
          ],
          "histogram": [
           {
            "marker": {
             "pattern": {
              "fillmode": "overlay",
              "size": 10,
              "solidity": 0.2
             }
            },
            "type": "histogram"
           }
          ],
          "histogram2d": [
           {
            "colorbar": {
             "outlinewidth": 0,
             "ticks": ""
            },
            "colorscale": [
             [
              0,
              "#0d0887"
             ],
             [
              0.1111111111111111,
              "#46039f"
             ],
             [
              0.2222222222222222,
              "#7201a8"
             ],
             [
              0.3333333333333333,
              "#9c179e"
             ],
             [
              0.4444444444444444,
              "#bd3786"
             ],
             [
              0.5555555555555556,
              "#d8576b"
             ],
             [
              0.6666666666666666,
              "#ed7953"
             ],
             [
              0.7777777777777778,
              "#fb9f3a"
             ],
             [
              0.8888888888888888,
              "#fdca26"
             ],
             [
              1,
              "#f0f921"
             ]
            ],
            "type": "histogram2d"
           }
          ],
          "histogram2dcontour": [
           {
            "colorbar": {
             "outlinewidth": 0,
             "ticks": ""
            },
            "colorscale": [
             [
              0,
              "#0d0887"
             ],
             [
              0.1111111111111111,
              "#46039f"
             ],
             [
              0.2222222222222222,
              "#7201a8"
             ],
             [
              0.3333333333333333,
              "#9c179e"
             ],
             [
              0.4444444444444444,
              "#bd3786"
             ],
             [
              0.5555555555555556,
              "#d8576b"
             ],
             [
              0.6666666666666666,
              "#ed7953"
             ],
             [
              0.7777777777777778,
              "#fb9f3a"
             ],
             [
              0.8888888888888888,
              "#fdca26"
             ],
             [
              1,
              "#f0f921"
             ]
            ],
            "type": "histogram2dcontour"
           }
          ],
          "mesh3d": [
           {
            "colorbar": {
             "outlinewidth": 0,
             "ticks": ""
            },
            "type": "mesh3d"
           }
          ],
          "parcoords": [
           {
            "line": {
             "colorbar": {
              "outlinewidth": 0,
              "ticks": ""
             }
            },
            "type": "parcoords"
           }
          ],
          "pie": [
           {
            "automargin": true,
            "type": "pie"
           }
          ],
          "scatter": [
           {
            "fillpattern": {
             "fillmode": "overlay",
             "size": 10,
             "solidity": 0.2
            },
            "type": "scatter"
           }
          ],
          "scatter3d": [
           {
            "line": {
             "colorbar": {
              "outlinewidth": 0,
              "ticks": ""
             }
            },
            "marker": {
             "colorbar": {
              "outlinewidth": 0,
              "ticks": ""
             }
            },
            "type": "scatter3d"
           }
          ],
          "scattercarpet": [
           {
            "marker": {
             "colorbar": {
              "outlinewidth": 0,
              "ticks": ""
             }
            },
            "type": "scattercarpet"
           }
          ],
          "scattergeo": [
           {
            "marker": {
             "colorbar": {
              "outlinewidth": 0,
              "ticks": ""
             }
            },
            "type": "scattergeo"
           }
          ],
          "scattergl": [
           {
            "marker": {
             "colorbar": {
              "outlinewidth": 0,
              "ticks": ""
             }
            },
            "type": "scattergl"
           }
          ],
          "scattermapbox": [
           {
            "marker": {
             "colorbar": {
              "outlinewidth": 0,
              "ticks": ""
             }
            },
            "type": "scattermapbox"
           }
          ],
          "scatterpolar": [
           {
            "marker": {
             "colorbar": {
              "outlinewidth": 0,
              "ticks": ""
             }
            },
            "type": "scatterpolar"
           }
          ],
          "scatterpolargl": [
           {
            "marker": {
             "colorbar": {
              "outlinewidth": 0,
              "ticks": ""
             }
            },
            "type": "scatterpolargl"
           }
          ],
          "scatterternary": [
           {
            "marker": {
             "colorbar": {
              "outlinewidth": 0,
              "ticks": ""
             }
            },
            "type": "scatterternary"
           }
          ],
          "surface": [
           {
            "colorbar": {
             "outlinewidth": 0,
             "ticks": ""
            },
            "colorscale": [
             [
              0,
              "#0d0887"
             ],
             [
              0.1111111111111111,
              "#46039f"
             ],
             [
              0.2222222222222222,
              "#7201a8"
             ],
             [
              0.3333333333333333,
              "#9c179e"
             ],
             [
              0.4444444444444444,
              "#bd3786"
             ],
             [
              0.5555555555555556,
              "#d8576b"
             ],
             [
              0.6666666666666666,
              "#ed7953"
             ],
             [
              0.7777777777777778,
              "#fb9f3a"
             ],
             [
              0.8888888888888888,
              "#fdca26"
             ],
             [
              1,
              "#f0f921"
             ]
            ],
            "type": "surface"
           }
          ],
          "table": [
           {
            "cells": {
             "fill": {
              "color": "#EBF0F8"
             },
             "line": {
              "color": "white"
             }
            },
            "header": {
             "fill": {
              "color": "#C8D4E3"
             },
             "line": {
              "color": "white"
             }
            },
            "type": "table"
           }
          ]
         },
         "layout": {
          "annotationdefaults": {
           "arrowcolor": "#2a3f5f",
           "arrowhead": 0,
           "arrowwidth": 1
          },
          "autotypenumbers": "strict",
          "coloraxis": {
           "colorbar": {
            "outlinewidth": 0,
            "ticks": ""
           }
          },
          "colorscale": {
           "diverging": [
            [
             0,
             "#8e0152"
            ],
            [
             0.1,
             "#c51b7d"
            ],
            [
             0.2,
             "#de77ae"
            ],
            [
             0.3,
             "#f1b6da"
            ],
            [
             0.4,
             "#fde0ef"
            ],
            [
             0.5,
             "#f7f7f7"
            ],
            [
             0.6,
             "#e6f5d0"
            ],
            [
             0.7,
             "#b8e186"
            ],
            [
             0.8,
             "#7fbc41"
            ],
            [
             0.9,
             "#4d9221"
            ],
            [
             1,
             "#276419"
            ]
           ],
           "sequential": [
            [
             0,
             "#0d0887"
            ],
            [
             0.1111111111111111,
             "#46039f"
            ],
            [
             0.2222222222222222,
             "#7201a8"
            ],
            [
             0.3333333333333333,
             "#9c179e"
            ],
            [
             0.4444444444444444,
             "#bd3786"
            ],
            [
             0.5555555555555556,
             "#d8576b"
            ],
            [
             0.6666666666666666,
             "#ed7953"
            ],
            [
             0.7777777777777778,
             "#fb9f3a"
            ],
            [
             0.8888888888888888,
             "#fdca26"
            ],
            [
             1,
             "#f0f921"
            ]
           ],
           "sequentialminus": [
            [
             0,
             "#0d0887"
            ],
            [
             0.1111111111111111,
             "#46039f"
            ],
            [
             0.2222222222222222,
             "#7201a8"
            ],
            [
             0.3333333333333333,
             "#9c179e"
            ],
            [
             0.4444444444444444,
             "#bd3786"
            ],
            [
             0.5555555555555556,
             "#d8576b"
            ],
            [
             0.6666666666666666,
             "#ed7953"
            ],
            [
             0.7777777777777778,
             "#fb9f3a"
            ],
            [
             0.8888888888888888,
             "#fdca26"
            ],
            [
             1,
             "#f0f921"
            ]
           ]
          },
          "colorway": [
           "#636efa",
           "#EF553B",
           "#00cc96",
           "#ab63fa",
           "#FFA15A",
           "#19d3f3",
           "#FF6692",
           "#B6E880",
           "#FF97FF",
           "#FECB52"
          ],
          "font": {
           "color": "#2a3f5f"
          },
          "geo": {
           "bgcolor": "white",
           "lakecolor": "white",
           "landcolor": "#E5ECF6",
           "showlakes": true,
           "showland": true,
           "subunitcolor": "white"
          },
          "hoverlabel": {
           "align": "left"
          },
          "hovermode": "closest",
          "mapbox": {
           "style": "light"
          },
          "paper_bgcolor": "white",
          "plot_bgcolor": "#E5ECF6",
          "polar": {
           "angularaxis": {
            "gridcolor": "white",
            "linecolor": "white",
            "ticks": ""
           },
           "bgcolor": "#E5ECF6",
           "radialaxis": {
            "gridcolor": "white",
            "linecolor": "white",
            "ticks": ""
           }
          },
          "scene": {
           "xaxis": {
            "backgroundcolor": "#E5ECF6",
            "gridcolor": "white",
            "gridwidth": 2,
            "linecolor": "white",
            "showbackground": true,
            "ticks": "",
            "zerolinecolor": "white"
           },
           "yaxis": {
            "backgroundcolor": "#E5ECF6",
            "gridcolor": "white",
            "gridwidth": 2,
            "linecolor": "white",
            "showbackground": true,
            "ticks": "",
            "zerolinecolor": "white"
           },
           "zaxis": {
            "backgroundcolor": "#E5ECF6",
            "gridcolor": "white",
            "gridwidth": 2,
            "linecolor": "white",
            "showbackground": true,
            "ticks": "",
            "zerolinecolor": "white"
           }
          },
          "shapedefaults": {
           "line": {
            "color": "#2a3f5f"
           }
          },
          "ternary": {
           "aaxis": {
            "gridcolor": "white",
            "linecolor": "white",
            "ticks": ""
           },
           "baxis": {
            "gridcolor": "white",
            "linecolor": "white",
            "ticks": ""
           },
           "bgcolor": "#E5ECF6",
           "caxis": {
            "gridcolor": "white",
            "linecolor": "white",
            "ticks": ""
           }
          },
          "title": {
           "x": 0.05
          },
          "xaxis": {
           "automargin": true,
           "gridcolor": "white",
           "linecolor": "white",
           "ticks": "",
           "title": {
            "standoff": 15
           },
           "zerolinecolor": "white",
           "zerolinewidth": 2
          },
          "yaxis": {
           "automargin": true,
           "gridcolor": "white",
           "linecolor": "white",
           "ticks": "",
           "title": {
            "standoff": 15
           },
           "zerolinecolor": "white",
           "zerolinewidth": 2
          }
         }
        },
        "xaxis": {
         "anchor": "y",
         "domain": [
          0,
          1
         ],
         "title": {
          "text": "x"
         }
        },
        "yaxis": {
         "anchor": "x",
         "domain": [
          0,
          1
         ],
         "title": {
          "text": "y"
         }
        }
       }
      }
     },
     "metadata": {},
     "output_type": "display_data"
    }
   ],
   "source": [
    "import plotly.express as px\n",
    "px.scatter(df, x = \"x\", y = \"y\")"
   ]
  },
  {
   "cell_type": "markdown",
   "metadata": {},
   "source": [
    "In this exercise, we'll show gradient descent is so powerful it can even optimize a nonlinear model. Specifically, we're going to model the relationship of our data by:\n",
    "\n",
    "$$\\Large{\n",
    "f_{\\boldsymbol{\\theta(x)}} = \\theta_1x + sin(\\theta_2x)\n",
    "}$$"
   ]
  },
  {
   "cell_type": "markdown",
   "metadata": {},
   "source": [
    "Our model is parameterized by both $\\theta_1$ and $\\theta_2$, which we can represent in the vector, $\\boldsymbol{\\theta}$.\n",
    "\n",
    "Note that a general sine function $a\\sin(bx+c)$ has three parameters: amplitude scaling parameter $a$, frequency parameter $b$ and phase shifting parameter $c$. \n",
    "\n",
    "Here, we're assuming the amplitude $a$ is around 1, and the phase shifting parameter $c$ is around zero. We do not attempt to justify this assumption and you're welcome to see what happens if you ignore this assumption at the end of this lab."
   ]
  },
  {
   "cell_type": "markdown",
   "metadata": {},
   "source": [
    "You might ask why we don't just create a linear model like we did earlier with a sinusoidal feature. The issue is that the theta is <mark>INSIDE</mark> the sin function. In other words, linear models use their parameters to adjust the scale of each feature, but $\\theta_2$ in this model adjusts the frequency of the feature. There are tricks we could play to use our linear model framework here, but we won't attempt this in our lab."
   ]
  },
  {
   "cell_type": "markdown",
   "metadata": {
    "nbgrader": {
     "grade": false,
     "grade_id": "q3a",
     "locked": true,
     "schema_version": 2,
     "solution": false
    }
   },
   "source": [
    "We define the `sin_model` function below that predicts $\\textbf{y}$ (the $y$-values) using $\\textbf{x}$ (the $x$-values) based on our new equation."
   ]
  },
  {
   "cell_type": "code",
   "execution_count": 20,
   "metadata": {
    "nbgrader": {
     "grade": false,
     "grade_id": "q3a-answer",
     "locked": false,
     "schema_version": 2,
     "solution": true
    }
   },
   "outputs": [],
   "source": [
    "def sin_model(x, theta):\n",
    "    \"\"\"\n",
    "    Predict the estimate of y given x, theta_1, theta_2\n",
    "\n",
    "    Keyword arguments:\n",
    "    x -- the vector of values x\n",
    "    theta -- a vector of length 2, where theta[0] = theta_1 and theta[1] = theta_2\n",
    "    \"\"\"\n",
    "    theta_1 = theta[0]\n",
    "    theta_2 = theta[1]\n",
    "    return theta_1 * x + np.sin(theta_2 * x)"
   ]
  },
  {
   "cell_type": "markdown",
   "metadata": {},
   "source": [
    "---\n",
    "### Question 4a: Computing the Gradient of the MSE With Respect to Theta on the Sin Model"
   ]
  },
  {
   "cell_type": "markdown",
   "metadata": {
    "deletable": false,
    "editable": false
   },
   "source": [
    "Recall $\\hat{\\theta}$ is the value of $\\theta$ that minimizes our loss function. One way of solving for $\\hat{\\theta}$ is by computing the gradient of our loss function with respect to $\\theta$, like we did in lecture: https://docs.google.com/presentation/d/1j9ESgjn-aeZSOX5ON1wjkF5WBZHc4IN7XvTpYnX1pFs/edit#slide=id.gfc76b62ec3_0_27. Recall that the gradient is a column vector of two partial derivatives.\n",
    "\n",
    "Write/derive the expressions for following values and use them to fill in the functions below.\n",
    "\n",
    "* $L(\\textbf{x}, \\textbf{y}, \\theta_1, \\theta_2)$: our loss function, the mean squared error\n",
    "  $L(\\textbf{x}, \\textbf{y}, \\theta_1, \\theta_2) = \\frac{1}{n}\\sum_{i=1}^{n}(\\theta_1x+sin(\\theta_2x)-y_i)^2$\n",
    "* $\\frac{\\partial L }{\\partial \\theta_1}$: the partial derivative of $L$ with respect to $\\theta_1, $\n",
    "  $\\frac{\\partial L}{\\partial \\theta_1} = \\frac{2}{n}\\sum_{i=1}^{n}(\\theta_1x_i^2-x_iy_i+x_isin(\\theta_2x_i))$\n",
    "* $\\frac{\\partial L }{\\partial \\theta_2}$: the partial derivative of $L$ with respect to $\\theta_2, $\n",
    "  $\\frac{\\partial L}{\\partial \\theta_2} = \\frac{2}{n}\\sum_{i=1}^{n}(2\\theta_1x_i^2cos(\\theta_2x_i)+x_isin(\\theta_2x_i)cos(\\theta_2x_i)-x_iy_icos(\\theta_2x_i))$\n",
    "\n",
    "Recall that $L(\\textbf{x}, \\textbf{y}, \\theta_1, \\theta_2) = \\frac{1}{n} \\sum_{i=1}^{n} (\\textbf{y}_i - \\hat{\\textbf{y}}_i)^2$\n",
    "\n",
    "Specifically, the functions `sin_MSE`, `sin_MSE_dt1` and `sin_MSE_dt2` should compute $R$, $\\frac{\\partial R }{\\partial \\theta_1}$ and $\\frac{\\partial R }{\\partial \\theta_2}$ respectively. Use the expressions you wrote for $\\frac{\\partial R }{\\partial \\theta_1}$ and $\\frac{\\partial R }{\\partial \\theta_2}$ to implement these functions. In the functions below, the parameter `theta` is a vector that looks like $\\begin{bmatrix} \\theta_1 \\\\ \\theta_2 \\end{bmatrix}$. We have completed `sin_MSE_gradient`, which calls `dt1` and `dt2` and returns the gradient `dt` for you.\n",
    "\n",
    "Notes: \n",
    "* Keep in mind that we are still working with our original set of data, `df`.\n",
    "* To keep your code a bit more concise, be aware that `np.mean` does the same thing as `np.sum` divided by the length of the numpy array.\n",
    "* Another way to keep your code more concise is to use the function `sin_model` we defined which computes the output of the model.\n",
    "\n",
    "<!--\n",
    "BEGIN QUESTION\n",
    "name: q4a\n",
    "points: 3\n",
    "-->"
   ]
  },
  {
   "cell_type": "code",
   "execution_count": 30,
   "metadata": {},
   "outputs": [
    {
     "data": {
      "text/plain": [
       "6.666666666666667"
      ]
     },
     "execution_count": 30,
     "metadata": {},
     "output_type": "execute_result"
    }
   ],
   "source": [
    "a = np.array([1,2,3])\n",
    "b = np.array([2,3,4])\n",
    "np.mean(a*b)"
   ]
  },
  {
   "cell_type": "code",
   "execution_count": 31,
   "metadata": {},
   "outputs": [],
   "source": [
    "def sin_MSE(theta, x, y):\n",
    "    \"\"\"\n",
    "    Compute the numerical value of the l2 loss of our sinusoidal model given theta\n",
    "\n",
    "    Keyword arguments:\n",
    "    theta -- the vector of values theta\n",
    "    x     -- the vector of x values\n",
    "    y     -- the vector of y values\n",
    "    \"\"\"\n",
    "    return np.mean((sin_model(x,theta)-y)**2)\n",
    "\n",
    "def sin_MSE_dt1(theta, x, y):\n",
    "    \"\"\"\n",
    "    Compute the numerical value of the partial of l2 loss with respect to theta_1\n",
    "\n",
    "    Keyword arguments:\n",
    "    theta -- the vector of values theta\n",
    "    x     -- the vector of x values\n",
    "    y     -- the vector of y values\n",
    "    \"\"\"\n",
    "    return 2*np.mean(x*(sin_model(x,theta)-y))\n",
    "    \n",
    "def sin_MSE_dt2(theta, x, y):\n",
    "    \"\"\"\n",
    "    Compute the numerical value of the partial of l2 loss with respect to theta_2\n",
    "\n",
    "    Keyword arguments:\n",
    "    theta -- the vector of values theta\n",
    "    x     -- the vector of x values\n",
    "    y     -- the vector of y values\n",
    "    \"\"\"\n",
    "    return 2*np.mean((sin_model(x,theta)-y)*x*np.cos(theta[1]*x))\n",
    "    \n",
    "# This function calls dt1 and dt2 and returns the gradient dt. It is already implemented for you.\n",
    "def sin_MSE_gradient(theta, x, y):\n",
    "    \"\"\"\n",
    "    Returns the gradient of l2 loss with respect to vector theta\n",
    "\n",
    "    Keyword arguments:\n",
    "    theta -- the vector of values theta\n",
    "    x     -- the vector of x values\n",
    "    y     -- the vector of y values\n",
    "    \"\"\"\n",
    "    return np.array([sin_MSE_dt1(theta, x, y), sin_MSE_dt2(theta, x, y)])"
   ]
  },
  {
   "cell_type": "code",
   "execution_count": 32,
   "metadata": {
    "deletable": false,
    "editable": false
   },
   "outputs": [
    {
     "data": {
      "text/html": [
       "<p><strong><pre style='display: inline;'>q4a</pre></strong> passed! 🍀</p>"
      ],
      "text/plain": [
       "q4a results: All test cases passed!"
      ]
     },
     "execution_count": 32,
     "metadata": {},
     "output_type": "execute_result"
    }
   ],
   "source": [
    "grader.check(\"q4a\")"
   ]
  },
  {
   "cell_type": "markdown",
   "metadata": {},
   "source": [
    "---\n",
    "### Question 4b: Implementing Gradient Descent and Using It to Optimize the Sin Model"
   ]
  },
  {
   "cell_type": "markdown",
   "metadata": {
    "deletable": false,
    "editable": false
   },
   "source": [
    "Let's now implement gradient descent. \n",
    "\n",
    "Note that the function you're implementing here is somewhat different than the gradient descent function we created in lecture. The version in lecture was `gradient_descent(df, initial_guess, alpha, n)`, where `df` was the gradient of the function we are minimizing and `initial_guess` are the starting parameters for that function. Here our signature is a bit different (described below) than the `gradient_descent` [implementation from lecture](https://ds100.org/sp22/resources/assets/lectures/lec12/lec12.html).\n",
    "\n",
    "<!--\n",
    "BEGIN QUESTION\n",
    "name: q4b\n",
    "points: 3\n",
    "-->"
   ]
  },
  {
   "cell_type": "code",
   "execution_count": 33,
   "metadata": {},
   "outputs": [
    {
     "name": "stdout",
     "output_type": "stream",
     "text": [
      "theta: [2.60105745 2.60105745], Loss: 9.285008173048666\n",
      "theta: [0.90342728 2.59100602], Loss: 4.680169273815357\n",
      "theta: [2.05633644 2.9631291 ], Loss: 2.6242517936325833\n",
      "theta: [1.15892347 2.86687431], Loss: 1.4765157174727774\n",
      "theta: [1.79388042 3.07275573], Loss: 0.9073271435862448\n",
      "theta: [1.32157494 3.00146569], Loss: 0.541531643291128\n",
      "theta: [1.64954491 3.02910866], Loss: 0.3775841142469479\n",
      "theta: [1.42325294 2.98820303], Loss: 0.2969750688130759\n",
      "theta: [1.58295041 3.01033846], Loss: 0.2590425421375732\n",
      "theta: [1.47097255 2.98926519], Loss: 0.23973439443291833\n",
      "theta: [1.55040965 3.0017442 ], Loss: 0.23034782416254634\n",
      "theta: [1.49439132 2.99135194], Loss: 0.2255775832667724\n",
      "theta: [1.5341564  2.99797824], Loss: 0.22321772191904068\n",
      "theta: [1.50603995 2.99286671], Loss: 0.22202363967204045\n",
      "theta: [1.52598919 2.99628665], Loss: 0.22142811500262397\n",
      "theta: [1.51186655 2.99375531], Loss: 0.22112776381775168\n",
      "theta: [1.52188208 2.99549617], Loss: 0.22097741373654575\n",
      "theta: [1.51478773 2.99423497], Loss: 0.22090173185683032\n",
      "theta: [1.51981739 2.99511516], Loss: 0.2208637810584589\n",
      "theta: [1.51625373 2.99448441], Loss: 0.2208446977760149\n"
     ]
    }
   ],
   "source": [
    "def init_theta():\n",
    "    \"\"\"Creates an initial theta [0, 0] of shape (2,) as a starting point for gradient descent\"\"\"\n",
    "    return np.array([0, 0])\n",
    "\n",
    "def grad_desc(loss_f, gradient_loss_f, theta, data, num_iter=20, alpha=0.1):\n",
    "    \"\"\"\n",
    "    Run gradient descent update for a finite number of iterations and static learning rate\n",
    "\n",
    "    Keyword arguments:\n",
    "    loss_f -- the loss function to be minimized (used for computing loss_history)\n",
    "    gradient_loss_f -- the gradient of the loss function to be minimized\n",
    "    theta -- the vector of values theta to use at first iteration\n",
    "    data -- the data used in the model \n",
    "    num_iter -- the max number of iterations\n",
    "    alpha -- the learning rate (also called the step size)\n",
    "    \n",
    "    Return:\n",
    "    theta -- the optimal value of theta after num_iter of gradient descent\n",
    "    theta_history -- the series of theta values over each iteration of gradient descent\n",
    "    loss_history -- the series of loss values over each iteration of gradient descent\n",
    "    \"\"\"\n",
    "    theta_history = []\n",
    "    loss_history = []\n",
    "\n",
    "    for i in range(num_iter):\n",
    "        theta = theta - alpha*gradient_loss_f(theta,data['x'],data['y'])\n",
    "        theta_history.append(theta)\n",
    "        loss_history.append(loss_f(theta,data['x'],data['y']))\n",
    "    return theta, theta_history, loss_history\n",
    "\n",
    "theta_start = init_theta()\n",
    "theta_hat, thetas_used, losses_calculated = grad_desc(\n",
    "    sin_MSE, sin_MSE_gradient, theta_start, df, num_iter=20, alpha=0.1\n",
    ")\n",
    "for b, l in zip(thetas_used, losses_calculated):\n",
    "    print(f\"theta: {b}, Loss: {l}\")"
   ]
  },
  {
   "cell_type": "code",
   "execution_count": 34,
   "metadata": {
    "deletable": false,
    "editable": false
   },
   "outputs": [
    {
     "data": {
      "text/html": [
       "<p><strong><pre style='display: inline;'>q4b</pre></strong> passed! ✨</p>"
      ],
      "text/plain": [
       "q4b results: All test cases passed!"
      ]
     },
     "execution_count": 34,
     "metadata": {},
     "output_type": "execute_result"
    }
   ],
   "source": [
    "grader.check(\"q4b\")"
   ]
  },
  {
   "cell_type": "markdown",
   "metadata": {},
   "source": [
    "If you pass the tests above, you're done coding for this lab, though there are some cool visualizations below we'd like you to think about."
   ]
  },
  {
   "cell_type": "markdown",
   "metadata": {},
   "source": [
    "Let's visually inspect our results of running gradient descent to optimize $\\boldsymbol\\theta$. The code below plots our $x$-values with our model's predicted $\\hat{y}$-values over the original scatter plot. You should notice that gradient descent successfully optimized $\\boldsymbol\\theta$."
   ]
  },
  {
   "cell_type": "code",
   "execution_count": 35,
   "metadata": {},
   "outputs": [],
   "source": [
    "theta_init = init_theta()\n",
    "\n",
    "theta_est, thetas, loss = grad_desc(sin_MSE, sin_MSE_gradient, theta_init, df)"
   ]
  },
  {
   "cell_type": "markdown",
   "metadata": {},
   "source": [
    "Plotting our model output over our observaitons shows that gradient descent did  a great job finding both the overall increase (slope) of the data, as well as the oscillation frequency."
   ]
  },
  {
   "cell_type": "code",
   "execution_count": 36,
   "metadata": {},
   "outputs": [
    {
     "data": {
      "image/png": "[encoded data removed]",
      "text/plain": [
       "<Figure size 640x480 with 1 Axes>"
      ]
     },
     "metadata": {},
     "output_type": "display_data"
    }
   ],
   "source": [
    "x, y = df['x'], df['y']\n",
    "y_pred = sin_model(x, theta_est)\n",
    "\n",
    "plt.plot(x, y_pred, label='Model ($\\hat{y}$)')\n",
    "plt.scatter(x, y, alpha=0.5, label='Observation ($y$)', color='gold')\n",
    "plt.legend();"
   ]
  },
  {
   "cell_type": "markdown",
   "metadata": {},
   "source": [
    "<br/>\n",
    "<hr style=\"border: 1px solid #fdb515;\" />\n",
    "\n",
    "## Visualizing Loss (Extra)\n",
    "\n",
    "Let's visualize our loss functions and gain some insight as to how gradient descent optimizes our model parameters.\n",
    "\n",
    "In the previous plot we saw the loss decrease with each iteration. In this part, we'll see the trajectory of the algorithm as it travels the loss surface? Run the following cells to see visualization of this trajectory. "
   ]
  },
  {
   "cell_type": "code",
   "execution_count": 37,
   "metadata": {},
   "outputs": [
    {
     "data": {
      "text/plain": [
       "array([[2.60105745, 2.60105745],\n",
       "       [0.90342728, 2.59100602],\n",
       "       [2.05633644, 2.9631291 ],\n",
       "       [1.15892347, 2.86687431],\n",
       "       [1.79388042, 3.07275573],\n",
       "       [1.32157494, 3.00146569],\n",
       "       [1.64954491, 3.02910866],\n",
       "       [1.42325294, 2.98820303],\n",
       "       [1.58295041, 3.01033846],\n",
       "       [1.47097255, 2.98926519],\n",
       "       [1.55040965, 3.0017442 ],\n",
       "       [1.49439132, 2.99135194],\n",
       "       [1.5341564 , 2.99797824],\n",
       "       [1.50603995, 2.99286671],\n",
       "       [1.52598919, 2.99628665],\n",
       "       [1.51186655, 2.99375531],\n",
       "       [1.52188208, 2.99549617],\n",
       "       [1.51478773, 2.99423497],\n",
       "       [1.51981739, 2.99511516],\n",
       "       [1.51625373, 2.99448441]])"
      ]
     },
     "execution_count": 37,
     "metadata": {},
     "output_type": "execute_result"
    }
   ],
   "source": [
    "thetas = np.array(thetas).squeeze()\n",
    "loss = np.array(loss)\n",
    "thetas"
   ]
  },
  {
   "cell_type": "code",
   "execution_count": 38,
   "metadata": {},
   "outputs": [
    {
     "data": {
      "text/html": [
       "        <script type=\"text/javascript\">\n",
       "        window.PlotlyConfig = {MathJaxConfig: 'local'};\n",
       "        if (window.MathJax && window.MathJax.Hub && window.MathJax.Hub.Config) {window.MathJax.Hub.Config({SVG: {font: \"STIX-Web\"}});}\n",
       "        if (typeof require !== 'undefined') {\n",
       "        require.undef(\"plotly\");\n",
       "        requirejs.config({\n",
       "            paths: {\n",
       "                'plotly': ['https://cdn.plot.ly/plotly-2.12.1.min']\n",
       "            }\n",
       "        });\n",
       "        require(['plotly'], function(Plotly) {\n",
       "            window._Plotly = Plotly;\n",
       "        });\n",
       "        }\n",
       "        </script>\n",
       "        "
      ]
     },
     "metadata": {},
     "output_type": "display_data"
    },
    {
     "data": {
      "application/vnd.plotly.v1+json": {
       "config": {
        "linkText": "Export to plot.ly",
        "plotlyServerURL": "https://plot.ly",
        "showLink": false
       },
       "data": [
        {
         "line": {
          "color": "rgb(50,170, 140)",
          "width": 3
         },
         "marker": {
          "color": [
           -9.285008173048666,
           -4.680169273815357,
           -2.6242517936325833,
           -1.4765157174727774,
           -0.9073271435862448,
           -0.541531643291128,
           -0.3775841142469479,
           -0.2969750688130759,
           -0.2590425421375732,
           -0.23973439443291833,
           -0.23034782416254634,
           -0.2255775832667724,
           -0.22321772191904068,
           -0.22202363967204045,
           -0.22142811500262397,
           -0.22112776381775168,
           -0.22097741373654575,
           -0.22090173185683032,
           -0.2208637810584589,
           -0.2208446977760149
          ],
          "colorscale": [
           [
            0,
            "#440154"
           ],
           [
            0.1111111111111111,
            "#482878"
           ],
           [
            0.2222222222222222,
            "#3e4989"
           ],
           [
            0.3333333333333333,
            "#31688e"
           ],
           [
            0.4444444444444444,
            "#26828e"
           ],
           [
            0.5555555555555556,
            "#1f9e89"
           ],
           [
            0.6666666666666666,
            "#35b779"
           ],
           [
            0.7777777777777778,
            "#6ece58"
           ],
           [
            0.8888888888888888,
            "#b5de2b"
           ],
           [
            1,
            "#fde725"
           ]
          ],
          "size": 4
         },
         "type": "scatter3d",
         "x": [
          2.601057454779614,
          0.9034272767622247,
          2.0563364416095036,
          1.1589234696036672,
          1.7938804194525289,
          1.3215749439533506,
          1.6495449106923081,
          1.4232529432779681,
          1.5829504072241183,
          1.4709725522541734,
          1.5504096528840599,
          1.4943913185184219,
          1.5341564032256916,
          1.506039954902419,
          1.525989188155241,
          1.5118665534078317,
          1.521882079272916,
          1.5147877319328085,
          1.519817390738254,
          1.516253726023518
         ],
         "y": [
          2.601057454779614,
          2.5910060231049896,
          2.963129099991904,
          2.8668743087666506,
          3.072755727714994,
          3.001465693449906,
          3.0291086593677257,
          2.988203025298647,
          3.010338461886587,
          2.9892651852224326,
          3.001744204213725,
          2.9913519372340183,
          2.997978235955032,
          2.99286670937898,
          2.99628664791577,
          2.993755312996005,
          2.9954961669353444,
          2.994234974327257,
          2.9951151604637363,
          2.994484413042848
         ],
         "z": [
          9.285008173048666,
          4.680169273815357,
          2.6242517936325833,
          1.4765157174727774,
          0.9073271435862448,
          0.541531643291128,
          0.3775841142469479,
          0.2969750688130759,
          0.2590425421375732,
          0.23973439443291833,
          0.23034782416254634,
          0.2255775832667724,
          0.22321772191904068,
          0.22202363967204045,
          0.22142811500262397,
          0.22112776381775168,
          0.22097741373654575,
          0.22090173185683032,
          0.2208637810584589,
          0.2208446977760149
         ]
        },
        {
         "type": "surface",
         "x": [
          0.8034272767622247,
          0.8421544232523754,
          0.8808815697425263,
          0.9196087162326771,
          0.9583358627228279,
          0.9970630092129786,
          1.0357901557031295,
          1.0745173021932803,
          1.1132444486834312,
          1.1519715951735818,
          1.1906987416637327,
          1.2294258881538835,
          1.2681530346440342,
          1.306880181134185,
          1.3456073276243359,
          1.3843344741144867,
          1.4230616206046376,
          1.4617887670947884,
          1.500515913584939,
          1.5392430600750897,
          1.5779702065652406,
          1.6166973530553914,
          1.6554244995455423,
          1.6941516460356931,
          1.732878792525844,
          1.7716059390159948,
          1.8103330855061457,
          1.849060231996296,
          1.887787378486447,
          1.9265145249765978,
          1.9652416714667487,
          2.0039688179568995,
          2.0426959644470504,
          2.0814231109372012,
          2.120150257427352,
          2.1588774039175025,
          2.1976045504076533,
          2.236331696897804,
          2.275058843387955,
          2.313785989878106,
          2.3525131363682568,
          2.3912402828584076,
          2.4299674293485585,
          2.468694575838709,
          2.5074217223288597,
          2.5461488688190106,
          2.5848760153091614,
          2.6236031617993123,
          2.662330308289463,
          2.701057454779614
         ],
         "y": [
          2.4910060231049895,
          2.504919282382745,
          2.5188325416604997,
          2.532745800938255,
          2.5466590602160104,
          2.5605723194937653,
          2.5744855787715206,
          2.588398838049276,
          2.6023120973270313,
          2.616225356604786,
          2.6301386158825415,
          2.644051875160297,
          2.6579651344380517,
          2.671878393715807,
          2.6857916529935624,
          2.6997049122713173,
          2.7136181715490726,
          2.727531430826828,
          2.741444690104583,
          2.755357949382338,
          2.7692712086600935,
          2.783184467937849,
          2.7970977272156037,
          2.811010986493359,
          2.8249242457711143,
          2.8388375050488692,
          2.8527507643266246,
          2.86666402360438,
          2.880577282882135,
          2.89449054215989,
          2.9084038014376454,
          2.9223170607154003,
          2.9362303199931556,
          2.950143579270911,
          2.9640568385486663,
          2.977970097826421,
          2.9918833571041765,
          3.005796616381932,
          3.0197098756596867,
          3.033623134937442,
          3.0475363942151974,
          3.0614496534929527,
          3.0753629127707076,
          3.089276172048463,
          3.103189431326218,
          3.117102690603973,
          3.1310159498817285,
          3.144929209159484,
          3.158842468437239,
          3.172755727714994
         ],
         "z": [
          [
           6.251546434657765,
           5.747655507622024,
           5.268928312718731,
           4.815364849947889,
           4.386965119309497,
           3.9837291208035563,
           3.6056568544300633,
           3.2527483201890197,
           2.925003518080427,
           2.622422448104285,
           2.345005110260591,
           2.0927515045493474,
           1.8656616309705547,
           1.6637354895242107,
           1.4869730802103163,
           1.335374403028872,
           1.2089394579798773,
           1.1076682450633326,
           1.031560764279238,
           0.9806170156275931,
           0.9548369991083977,
           0.9542207147216524,
           0.9787681624673564,
           1.0284793423455107,
           1.1033542543561146,
           1.2033928984991689,
           1.3285952747746728,
           1.4789613831826243,
           1.6544912237230278,
           1.8551847963958807,
           2.081042101201184,
           2.332063138138937,
           2.6082479072091393,
           2.909596408411792,
           3.2361086417468945,
           3.5877846072144424,
           3.9646243048144445,
           4.3666277345468965,
           4.793794896411799,
           5.24612579040915,
           5.723620416538952,
           6.226278774801203,
           6.754100865195904,
           7.307086687723049,
           7.885236242382648,
           8.488549529174701,
           9.1170265480992,
           9.77066729915615,
           10.449471782345551,
           11.1534399976674
          ],
          [
           6.213464981931458,
           5.70984470035026,
           5.231388150901512,
           4.778095333585211,
           4.349966248401364,
           3.947000895349965,
           3.569199274431015,
           3.216561385644514,
           2.889087228990464,
           2.5867768044688653,
           2.3096301120797147,
           2.0576471518230135,
           1.8308279236987635,
           1.6291724277069624,
           1.452680663847611,
           1.3013526321207094,
           1.1751883325262578,
           1.0741877650642562,
           0.9983509297347045,
           0.9476778265376027,
           0.9221684554729499,
           0.9218228165407474,
           0.9466409097409947,
           0.9966227350736917,
           1.0717682925388388,
           1.1720775821364355,
           1.2975506038664826,
           1.448187357728977,
           1.6239878437239232,
           1.8249520618513195,
           2.051080012111165,
           2.302371694503461,
           2.578827109028206,
           2.8804462556854022,
           3.2072291344750474,
           3.5591757453971384,
           3.936286088451684,
           4.338560163638678,
           4.765997970958122,
           5.218599510410018,
           5.696364781994362,
           6.199293785711156,
           6.7273865215604,
           7.280642989542088,
           7.859063189656231,
           8.462647121902824,
           9.091394786281867,
           9.745306182793358,
           10.424381311437303,
           11.128620172213697
          ],
          [
           6.172285091848286,
           5.669080361606995,
           5.191039363498152,
           4.738162097521759,
           4.310448563677816,
           3.9078987619663237,
           3.5305126923872803,
           3.178290354940686,
           2.851231749626541,
           2.549336876444849,
           2.272605735395604,
           2.0210383264788097,
           1.7946346496944656,
           1.5933947050425707,
           1.4173184925231253,
           1.26640601213613,
           1.1406572638815844,
           1.0400722477594888,
           0.9646509637698436,
           0.9143934119126476,
           0.8892995921879012,
           0.8893695045956049,
           0.9146031491357579,
           0.9650005258083616,
           1.0405616346134148,
           1.1412864755509178,
           1.2671750486208706,
           1.4182273538232713,
           1.5944433911581237,
           1.795823160625426,
           2.022366662225178,
           2.2740738959573803,
           2.550944861822032,
           2.8529795598191336,
           3.1801779899486844,
           3.532540152210682,
           3.9100660466051327,
           4.312755673132035,
           4.740609031791384,
           5.1936261225831855,
           5.671806945507436,
           6.175151500564137,
           6.703659787753286,
           7.2573318070748805,
           7.836167558528929,
           8.440167042115428,
           9.069330257834379,
           9.723657205685779,
           10.403147885669625,
           11.107802297785925
          ],
          [
           6.128204772848167,
           5.625556963203815,
           5.14807288569191,
           4.695752540312455,
           4.2685959270654505,
           3.8666030459508973,
           3.489773896968792,
           3.1381084801191363,
           2.8116067954019304,
           2.510268842817177,
           2.2340946223648706,
           1.9830841340450145,
           1.7572373778576094,
           1.5565543538026527,
           1.3810350618801461,
           1.2306795020900894,
           1.1054876744324822,
           1.0054595789073255,
           0.9305952155146184,
           0.8808945842543612,
           0.8563576851265535,
           0.8569845181311956,
           0.8827750832682875,
           0.9337293805378295,
           1.0098474099398211,
           1.1111291714742628,
           1.2375746651411543,
           1.3891838909404937,
           1.5659568488722848,
           1.7678935389365256,
           1.9949939611332161,
           2.2472581154623565,
           2.524686001923947,
           2.8272776205179873,
           3.1550329712444776,
           3.5079520541034133,
           3.886034869094803,
           4.289281416218643,
           4.717691695474932,
           5.171265706863672,
           5.65000345038486,
           6.153904926038498,
           6.682970133824588,
           7.2371990737431195,
           7.816591745794108,
           8.421148149977547,
           9.050868286293435,
           9.705752154741774,
           10.385799755322559,
           11.091011088035797
          ],
          [
           6.081433330037207,
           5.579479652196972,
           5.102689706489188,
           4.651063492913852,
           4.224601011470967,
           3.8233022621605324,
           3.4471672449825457,
           3.0961959599370097,
           2.7703884070239226,
           2.4697445862432876,
           2.194264497595101,
           1.943948141079364,
           1.7187955166960778,
           1.5188066244452405,
           1.3439814643268528,
           1.1943200363409152,
           1.0698223404874274,
           0.9704883767663894,
           0.8963181451778016,
           0.8473116457216635,
           0.8234688783979749,
           0.824789843206736,
           0.8512745401479471,
           0.9029229692216082,
           0.979735130427719,
           1.0817110237662797,
           1.2088506492372904,
           1.3611540068407486,
           1.538621096576659,
           1.7412519184450184,
           1.9690464724458283,
           2.222004758579088,
           2.5001267768447972,
           2.8034125272429566,
           3.131862009773566,
           3.4854752244366214,
           3.8642521712321303,
           4.268192850160088,
           4.697297261220497,
           5.151565404413355,
           5.630997279738662,
           6.135592887196421,
           6.66535222678663,
           7.22027529850928,
           7.800362102364387,
           8.405612638351945,
           9.036026906471953,
           9.69160490672441,
           10.372346639109315,
           11.078252103626674
          ],
          [
           6.0321896724417945,
           5.531062583557937,
           5.0550992268065285,
           4.604299602187569,
           4.178663709701062,
           3.778191549347004,
           3.402883121125394,
           3.0527384250362344,
           2.7277574610795243,
           2.427940229255266,
           2.1532867295634555,
           1.9037969620040947,
           1.6794709265771859,
           1.4803086232827247,
           1.306310052120714,
           1.157475213091153,
           1.033804106194042,
           0.9352967314293804,
           0.8619530887971693,
           0.8137731782974078,
           0.7907569999300957,
           0.7929045536952337,
           0.8202158395928213,
           0.8726908576228589,
           0.9503296077853465,
           1.0531320900802836,
           1.1810983045076708,
           1.3342282510675059,
           1.5125219297597925,
           1.715979340584529,
           1.9446004835417154,
           2.1983853586313518,
           2.4773339658534383,
           2.781446305207974,
           3.1107223766949597,
           3.4651621803143917,
           3.8447657160662767,
           4.249532983950612,
           4.679463983967397,
           5.134558716116632,
           5.614817180398316,
           6.120239376812451,
           6.650825305359036,
           7.206574966038064,
           7.787488358849547,
           8.393565483793482,
           9.024806340869864,
           9.6812109300787,
           10.362779251419981,
           11.069511304893716
          ],
          [
           5.980700636911626,
           5.480527271966389,
           5.0055176391536005,
           4.5556717384732615,
           4.130989569925374,
           3.7314711335099355,
           3.357116429226947,
           3.007925457076407,
           2.6838982170583177,
           2.3850347091726793,
           2.111334933419489,
           1.862798889798749,
           1.6394265783104602,
           1.4412179989546197,
           1.2681731517312291,
           1.1202920366402884,
           0.9975746536817973,
           0.9000210028557564,
           0.8276310841621655,
           0.7804048976010243,
           0.7583424431723326,
           0.7614437208760907,
           0.7897087307122986,
           0.8431374726809565,
           0.9217299467820642,
           1.025486153015622,
           1.1544060913816294,
           1.308489761880085,
           1.4877371645109918,
           1.6921482992743486,
           1.9217231661701553,
           2.1764617651984115,
           2.4563640963591182,
           2.7614301596522743,
           3.0916599550778803,
           3.447053482635932,
           3.8276107423264376,
           4.2333317341493935,
           4.664216458104799,
           5.120264914192655,
           5.601477102412958,
           6.107853022765713,
           6.63939267525092,
           7.196096059868569,
           7.777963176618671,
           8.384994025501225,
           9.017188606516228,
           9.674546919663683,
           10.357068964943586,
           11.064754742355941
          ],
          [
           5.927199348457807,
           5.4281009823640485,
           4.9541663484027385,
           4.505395446573878,
           4.081788276877467,
           3.683344839313508,
           3.310065133881997,
           2.961949160582935,
           2.6389969194163236,
           2.3412084103821638,
           2.068583633480452,
           1.82112258871119,
           1.5988252760743789,
           1.4016916955700165,
           1.2297218471981035,
           1.082915730958641,
           0.9612733468516281,
           0.8647946948770653,
           0.7934797750349525,
           0.7473285873252893,
           0.7263411317480756,
           0.7305174083033119,
           0.759857416990998,
           0.8143611578111339,
           0.8940286307637199,
           0.9988598358487555,
           1.1288547730662408,
           1.2840134424161747,
           1.4643358438985596,
           1.6698219775133947,
           1.9004718432606793,
           2.156285441140414,
           2.4372627711525987,
           2.7434038332972324,
           3.074708627574317,
           3.431177153983847,
           3.8128094125258305,
           4.219605403200265,
           4.6515651260071476,
           5.10868858094648,
           5.590975768018264,
           6.098426687222497,
           6.63104133855918,
           7.188819722028306,
           7.771761837629888,
           8.379867685363921,
           9.013137265230403,
           9.671570577229334,
           10.355167621360719,
           11.063928397624547
          ],
          [
           5.871923635212108,
           5.374015177298352,
           4.9012704515170435,
           4.453689457868186,
           4.031272196351779,
           3.6340186669678216,
           3.261928869716313,
           2.9150028045972545,
           2.593240471610646,
           2.2966418707564884,
           2.025207002034779,
           1.7789358654455198,
           1.5578284609887116,
           1.361884788664352,
           1.1911048484724418,
           1.045488640412982,
           0.925036164485972,
           0.8297474206914117,
           0.7596224090293017,
           0.7146611294996412,
           0.6948635821024303,
           0.7002297668376694,
           0.730759683705358,
           0.7864533327054968,
           0.8673107138380854,
           0.9733318271031237,
           1.1045166725006124,
           1.2608652500305484,
           1.442377559692936,
           1.649053601487774,
           1.8808933754150614,
           2.1378968814747985,
           2.420064119666986,
           2.7273950899916226,
           3.0598897924487094,
           3.4175482270382425,
           3.800370393760229,
           4.208356292614665,
           4.641505923601551,
           5.099819286720888,
           5.583296381972674,
           6.091937209356909,
           6.625741768873595,
           7.184710060522724,
           7.768842084304309,
           8.378137840218345,
           9.012597328264828,
           9.672220548443764,
           10.357007500755147,
           11.066958185198983
          ],
          [
           5.815114514324147,
           5.318504037207261,
           4.847057292222826,
           4.400774279370839,
           3.979654998651303,
           3.583699450064217,
           3.2129076336095794,
           2.8672795492873924,
           2.5468151970976542,
           2.251514577040368,
           1.9813776891155306,
           1.7364045333231426,
           1.5165951096632058,
           1.3219494181357172,
           1.1524674587406787,
           1.0081492314780902,
           0.8889947363479511,
           0.7950039733502624,
           0.7261769424850235,
           0.6825136437522343,
           0.6640140771518946,
           0.670678242684005,
           0.7025061403485651,
           0.759497770145575,
           0.8416531320750348,
           0.9489722261369445,
           1.081455052331304,
           1.2391016106581116,
           1.4219119011173704,
           1.6298859237090793,
           1.8630236784332381,
           2.121325165289847,
           2.4047903842789053,
           2.7134193354004137,
           3.047212018654372,
           3.406168434040776,
           3.7902885815596337,
           4.19957246121094,
           4.634020072994699,
           5.093631416910905,
           5.578406492959564,
           6.088345301140669,
           6.623447841454227,
           7.183714113900226,
           7.769144118478683,
           8.37973785518959,
           9.015495324032946,
           9.676416525008754,
           10.362501458117007,
           11.073750123357714
          ],
          [
           5.757014763015255,
           5.261803067690781,
           4.791755104498756,
           4.346870873439179,
           3.9271503745120535,
           3.532593607717378,
           3.1632005730551516,
           2.8189712705253736,
           2.499905700128047,
           2.206003861863171,
           1.9372657557307433,
           1.6936913817307657,
           1.475280739863239,
           1.282033830128161,
           1.1139506525255327,
           0.9710312070553545,
           0.8532754937176259,
           0.7606835125123473,
           0.6932552634395188,
           0.6509907464991399,
           0.6338899616912105,
           0.6419529090157312,
           0.6751795884727015,
           0.7335700000621219,
           0.8171241437839921,
           0.925842019638312,
           1.059723627625082,
           1.2187689677442999,
           1.402978039995969,
           1.612350844380088,
           1.8468873808966573,
           2.106587649545676,
           2.391451650327145,
           2.7014793832410637,
           3.0366708482874327,
           3.3970260454662466,
           3.782544974777515,
           4.193227636221233,
           4.6290740297974,
           5.090084155506018,
           5.576258013347085,
           6.087595603320603,
           6.624096925426569,
           7.1857619796649805,
           7.772590766035846,
           8.384583284539163,
           9.02173953517493,
           9.684059517943147,
           10.37154323284381,
           11.08419067987693
          ],
          [
           5.697867586725225,
           5.20414780552536,
           4.735591756457941,
           4.292199439522974,
           3.8739708547204557,
           3.4809060020503892,
           3.11300488151277,
           2.7702674931076015,
           2.452693836834882,
           2.160283912694615,
           1.8930377206867952,
           1.6509552608114257,
           1.4340365330685074,
           1.2422815374580376,
           1.0756902739800174,
           0.9342627426344472,
           0.8179989434213273,
           0.7268988763406568,
           0.6609625413924366,
           0.620189938576666,
           0.604581067893345,
           0.6141359293424737,
           0.6488545229240524,
           0.708736848638081,
           0.7937829064845594,
           0.9039926964634877,
           1.039366218574866,
           1.199903472818692,
           1.3856044591949697,
           1.596469177703697,
           1.8324976283448746,
           2.093689811118502,
           2.380045726024579,
           2.691565373063106,
           3.0282487522340826,
           3.390095863537505,
           3.777106706973382,
           4.189281282541708,
           4.626619590242483,
           5.089121630075709,
           5.576787402041385,
           6.0896169061395105,
           6.627610142370087,
           7.190767110733105,
           7.77908781122858,
           8.392572243856502,
           9.031220408616878,
           9.695032305509704,
           10.384007934534978,
           11.098147295692703
          ],
          [
           5.637915393867922,
           5.145772632751189,
           4.6787936037669065,
           4.2369783069150735,
           3.8203267421956904,
           3.4288389096087575,
           3.062514809154273,
           2.7213544408322394,
           2.4053578046426547,
           2.114524900585522,
           1.8488557286608371,
           1.608350288868602,
           1.3930085812088184,
           1.2028306056814828,
           1.0378163622865975,
           0.897965851024162,
           0.7832790718941763,
           0.6937560248966406,
           0.6293967100315548,
           0.5902011272989188,
           0.5761692766987323,
           0.5873011582309957,
           0.6235967718957091,
           0.685056117692872,
           0.771679195622485,
           0.8834660056845479,
           1.0204165478790606,
           1.1825308222060213,
           1.369808828665433,
           1.5822505672572953,
           1.8198560379816073,
           2.082625240838369,
           2.370558175827581,
           2.6836548429492426,
           3.0219152422033537,
           3.385339373589911,
           3.7739272371089223,
           4.187678832760382,
           4.626594160544292,
           5.090673220460653,
           5.579916012509464,
           6.094322536690725,
           6.633892793004434,
           7.198626781450588,
           7.788524502029197,
           8.403585954740256,
           9.043811139583765,
           9.709200056559725,
           10.399752705668133,
           11.115469086908995
          ],
          [
           5.577398684202849,
           5.08690970564838,
           4.621584459226359,
           4.181422944936788,
           3.766425162779668,
           3.3765911127549977,
           3.0119207948627755,
           2.6724142091030036,
           2.358071355475682,
           2.068892233980811,
           1.8048768446183885,
           1.5660251873884161,
           1.352337262290895,
           1.1638130693258217,
           1.000452608493199,
           0.8622558797930256,
           0.7492228832253023,
           0.661353618790029,
           0.5986480864872057,
           0.561106286316832,
           0.5487282182789078,
           0.5615138823734337,
           0.5994632786004093,
           0.6625764069598347,
           0.75085326745171,
           0.8642938600760355,
           1.0028981848328105,
           1.1666662417220335,
           1.3555980307437077,
           1.5696935518978323,
           1.8089528051844066,
           2.0733757906034307,
           2.3629625081549044,
           2.677712957838829,
           3.017627139655202,
           3.3827050536040217,
           3.772946699685296,
           4.188352077899018,
           4.628921188245191,
           5.094654030723814,
           5.585550605334887,
           6.10161091207841,
           6.642834950954382,
           7.209222721962797,
           7.800774225103669,
           8.417489460376991,
           9.059368427782761,
           9.726411127320985,
           10.418617558991654,
           11.135987722794777
          ],
          [
           5.516555055281622,
           5.027788002865638,
           4.564184682582103,
           4.125745094431016,
           3.7124692384123827,
           3.3243571145261974,
           2.9614087227724606,
           2.6236240631511745,
           2.311003135662338,
           2.023545940305953,
           1.761252477082016,
           1.5241227459905289,
           1.3121567470314925,
           1.1253544802049054,
           0.9637159455107678,
           0.8272411429490799,
           0.7159300725198421,
           0.6297827342230541,
           0.5687991280587162,
           0.532979254026828,
           0.5223231121273892,
           0.5368307023604004,
           0.5765020247258614,
           0.6413370792237724,
           0.7313358658541331,
           0.8464983846169438,
           0.9868246355122046,
           1.1523146185399127,
           1.3429683337000728,
           1.5587857809926826,
           1.7997669604177424,
           2.065911871975252,
           2.3572205156652117,
           2.6736928914876215,
           3.0153289994424797,
           3.382128839529784,
           3.7740924117495434,
           4.1912197161017515,
           4.633510752586411,
           5.100965521203519,
           5.593584021953077,
           6.111366254835085,
           6.654312219849542,
           7.222421916996442,
           7.815695346275801,
           8.43413250768761,
           9.077733401231866,
           9.746498026908574,
           10.44042638471773,
           11.159518474659336
          ],
          [
           5.455618328890725,
           4.96863249442427,
           4.506810392090265,
           4.070152021888709,
           3.658657383819604,
           3.2723264778829484,
           2.9111593040787413,
           2.5751558624069846,
           2.2643161528676776,
           1.9786401754608225,
           1.7181279301864152,
           1.4827794170444577,
           1.2725946360349512,
           1.0875735871578933,
           0.9277162704132856,
           0.7930226858011276,
           0.6834928333214193,
           0.5991267129741611,
           0.5399243247593528,
           0.5058856686769941,
           0.49701074472708523,
           0.5132995529096261,
           0.5547520932246167,
           0.6213683656720574,
           0.7131483702519479,
           0.8300921069642883,
           0.9721995758090783,
           1.1394707767863164,
           1.3319057098960063,
           1.5495043751381457,
           1.7922667725127348,
           2.0601929020197742,
           2.3532827636592635,
           2.6715363574312025,
           3.014953683335592,
           3.383534741372426,
           3.777279531541714,
           4.196188053843453,
           4.64026030827764,
           5.109496294844278,
           5.603896013543365,
           6.123459464374904,
           6.66818664733889,
           7.238077562435322,
           7.833132209664209,
           8.453350589025547,
           9.098732700519333,
           9.76927854414557,
           10.464988119904255,
           11.185861427795393
          ],
          [
           5.394817796933688,
           4.909663430839607,
           4.449672796877973,
           4.014845895048792,
           3.605182725352059,
           3.2206832877877773,
           2.8613475823559433,
           2.52717560905656,
           2.218167367889626,
           1.9343228588551442,
           1.67564208195311,
           1.4421250371835257,
           1.2337717245463924,
           1.0505821440417078,
           0.8925562956694731,
           0.7596941794296883,
           0.6519957953223532,
           0.5694611433474682,
           0.5120902235050332,
           0.47988303579504776,
           0.47283958021751193,
           0.49095985677242615,
           0.53424386545979,
           0.6026916062796038,
           0.6963030792318675,
           0.815078284316581,
           0.9590172215337445,
           1.1281198908833554,
           1.3223862923654186,
           1.5418164259799314,
           1.7864102917268945,
           2.0561678896063063,
           2.351089219618169,
           2.671174281762481,
           3.016423076039243,
           3.3868356024484507,
           3.7824118609901127,
           4.203151851664224,
           4.649055574470785,
           5.120123029409795,
           5.616354216481257,
           6.1377491356851674,
           6.684307787021528,
           7.256030170490334,
           7.852916286091592,
           8.474966133825303,
           9.122179713691464,
           9.794557025690073,
           10.492098069821132,
           11.214802846084641
          ],
          [
           5.334377583823459,
           4.851095749228189,
           4.392977646765368,
           3.9600232764349954,
           3.552232638237074,
           3.1696057321716036,
           2.8121425582385813,
           2.4798431164380084,
           2.172707406769886,
           1.8907354292342151,
           1.633927183830992,
           1.4022826705602185,
           1.1958018894218965,
           1.0144848404160227,
           0.858331523542599,
           0.7273419388016252,
           0.6215160861931012,
           0.5408539657170273,
           0.4853555773734032,
           0.45502092116222875,
           0.449849997083504,
           0.46984280513722915,
           0.5149993453234042,
           0.5853196176420289,
           0.6808036220931037,
           0.8014513586766282,
           0.9472628273926027,
           1.118238028241025,
           1.3143769612218987,
           1.5356796263352226,
           1.782146023580996,
           2.05377615295922,
           2.350570014469893,
           2.6725276081130165,
           3.0196489338885892,
           3.3919339917966074,
           3.7893827818370807,
           4.211995304010003,
           4.659771558315375,
           5.132711544753197,
           5.630815263323469,
           6.154082714026192,
           6.702513896861363,
           7.276108811828978,
           7.874867458929048,
           8.49878983816157,
           9.147875949526542,
           9.822125793023961,
           10.521539368653833,
           11.246116676416152
          ],
          [
           5.274516120233453,
           4.793138591046205,
           4.336924793991405,
           3.905874729069056,
           3.4999883962791576,
           3.11926579562171,
           2.7637069270967096,
           2.4333117907041597,
           2.128080386444059,
           1.8480127143164107,
           1.59310877432121,
           1.3633685664584594,
           1.15879209072816,
           0.9793793471303087,
           0.8251303356649076,
           0.6960450563319562,
           0.5921235091314547,
           0.5133656940634033,
           0.4597716111278017,
           0.4313412603246499,
           0.4280746416539476,
           0.4499717551156952,
           0.4970326007098928,
           0.5692571784365401,
           0.6666454882956374,
           0.7891975302871844,
           0.9369133044111813,
           1.109792810667626,
           1.3078360490565224,
           1.5310430195778686,
           1.779413722231665,
           2.052948157017911,
           2.3516463239366074,
           2.675508222987753,
           3.024533854171348,
           3.39872321748739,
           3.798076312935885,
           4.222593140516829,
           4.672273700230224,
           5.147117992076069,
           5.647126016054362,
           6.172297772165108,
           6.722633260408302,
           7.29813248078394,
           7.898795433292034,
           8.524622117932577,
           9.175612534705573,
           9.851766683611013,
           10.553084564648909,
           11.279566177819248
          ],
          [
           5.215445721024002,
           4.73599492407327,
           4.281707859254986,
           3.8525845265691534,
           3.44862492601577,
           3.0698290575948373,
           2.7161969213063535,
           2.3877285171503186,
           2.0844238451267345,
           1.8062829052356013,
           1.5533056974769166,
           1.3254922218506817,
           1.1228424783568978,
           0.9453564669955623,
           0.7930341877666769,
           0.6658756406702414,
           0.5638808257062554,
           0.4870497428747197,
           0.43538239217563385,
           0.4088787736089977,
           0.4075388871748111,
           0.4313627328730744,
           0.4803503107037877,
           0.5545016206669506,
           0.6538166627625636,
           0.7782954369906264,
           0.9279379433511391,
           1.1027441818440995,
           1.3027141524695112,
           1.5278478552273738,
           1.7781452901176855,
           2.053606457140447,
           2.3542313562956587,
           2.68001998758332,
           3.0309723510034314,
           3.4070884465559885,
           3.8083682742409994,
           4.234811834058459,
           4.68641912600837,
           5.163190150090731,
           5.665124906305541,
           6.192223394652801,
           6.744485615132511,
           7.321911567744665,
           7.9245012524892715,
           8.552254669366334,
           9.205171818375842,
           9.883252699517804,
           10.586497312792211,
           11.31490565819907
          ],
          [
           5.157372258355897,
           4.679861259451897,
           4.227513992680345,
           3.8003304580412434,
           3.398310655534592,
           3.0214545851603916,
           2.669762246918639,
           2.343233640809336,
           2.0418687668324833,
           1.765667624988082,
           1.5146302152761286,
           1.2887565376966252,
           1.0880465922495732,
           0.9125003789349697,
           0.7621178977528158,
           0.6368991487031119,
           0.5368441317858579,
           0.4619528470010537,
           0.4122252943486997,
           0.3876614738287951,
           0.38826138544134037,
           0.4140250291863353,
           0.46495240506378027,
           0.5410435130736752,
           0.6422983532160197,
           0.7687169254908142,
           0.9202992298980587,
           1.0970452664377508,
           1.2989550351098944,
           1.5260285359144883,
           1.7782657688515322,
           2.0556667339210253,
           2.358231431122969,
           2.685959860457362,
           3.0388520219242046,
           3.416907915523493,
           3.820127541255236,
           4.248510899119428,
           4.702057989116071,
           5.180768811245161,
           5.684643365506704,
           6.213681651900697,
           6.767883670427138,
           7.347249421086023,
           7.951778903877363,
           8.581472118801157,
           9.236329065857396,
           9.916349745046087,
           10.621534156367225,
           11.351882299820819
          ],
          [
           5.100494919455426,
           4.62492745304792,
           4.174523718772861,
           3.749283716630255,
           3.349207446620097,
           2.974294908742391,
           2.624546102997132,
           2.2999610293843245,
           2.000539687903965,
           1.7262820785560582,
           1.4771882013405995,
           1.2532580562575906,
           1.0544916433070326,
           0.880888962488923,
           0.7324500138032634,
           0.6091747972500539,
           0.5110633128292938,
           0.438115560540984,
           0.390331540385124,
           0.3677112523617138,
           0.3702546964707531,
           0.39796187271224237,
           0.45083278108618136,
           0.5288674215925704,
           0.6320657942314094,
           0.7604278990026978,
           0.9139537359064366,
           1.0926433049426225,
           1.2964966061112606,
           1.5255136394123485,
           1.7796944048458863,
           2.0590389024118743,
           2.363547132110311,
           2.693219093941199,
           3.048054787904536,
           3.4280542140003187,
           3.833217372228555,
           4.263544262589242,
           4.719034885082379,
           5.199689239707964,
           5.705507326466,
           6.2364891453564875,
           6.792634696379423,
           7.373943979534801,
           7.980416994822637,
           8.612053742242923,
           9.268854221795658,
           9.950818433480842,
           10.657946377298476,
           11.390238053248561
          ],
          [
           5.045006037231989,
           4.571376579136848,
           4.122910853174155,
           3.6996088593439147,
           3.3014705976461234,
           2.928496068080782,
           2.580685270647889,
           2.258038205347446,
           1.9605548721794532,
           1.6882352711439117,
           1.4410794022408182,
           1.2190872654701748,
           1.022258860831982,
           0.8505941883262383,
           0.7040932479529444,
           0.5827560397121002,
           0.4865825636037059,
           0.4155728196277615,
           0.36972680778426714,
           0.3490445280732224,
           0.3535259804946273,
           0.3831711650484821,
           0.43798008173478675,
           0.5179527305535413,
           0.6230891115047457,
           0.7533892245883999,
           0.9088530698045041,
           1.0894806471530558,
           1.2952719566340591,
           1.526226998247513,
           1.7823457719934164,
           2.063628277871769,
           2.3700745158825725,
           2.701684486025825,
           3.058458188301528,
           3.440395622709677,
           3.8474967892502785,
           4.2797616879233304,
           4.737190318728834,
           5.219782681666785,
           5.727538776737186,
           6.260458603940037,
           6.818542163275339,
           7.401789454743084,
           8.010200478343284,
           8.643775234075939,
           9.302513721941038,
           9.986415941938587,
           10.695481894068587,
           11.429711578331037
          ],
          [
           4.991090980989422,
           4.5193848634651195,
           4.072842478073265,
           3.6514638248138622,
           3.2552489036869083,
           2.884197714692405,
           2.538310257830351,
           2.2175865331007465,
           1.9220265405035915,
           1.6516302800388878,
           1.4063977517066326,
           1.1863289555068273,
           0.991423891439473,
           0.8216825595045673,
           0.6771049597021113,
           0.5576910920321054,
           0.46344095649454914,
           0.39435455308944295,
           0.35043188181678675,
           0.33167294267658015,
           0.33807773566882315,
           0.36964626079351615,
           0.426378518050659,
           0.5082745074402517,
           0.6153342289622942,
           0.7475576826167865,
           0.9049448684037289,
           1.0874957863231187,
           1.2952104363749604,
           1.5280888185592523,
           1.7861309328759936,
           2.0693367793251847,
           2.3777063579068263,
           2.7112396686209177,
           3.069936711467458,
           3.453797486446445,
           3.8628219935578847,
           4.297010232801775,
           4.7563622041781155,
           5.2408779076869045,
           5.750557343328144,
           6.285400511101835,
           6.845407411007974,
           7.430578043046556,
           8.040912407217595,
           8.676410503521087,
           9.337072331957025,
           10.022897892525414,
           10.733887185226251,
           11.470040210059539
          ],
          [
           4.938928093829575,
           4.469121662097399,
           4.024478962497669,
           3.6049999950303913,
           3.2106847596955634,
           2.8415332564931854,
           2.497545485423256,
           2.1787214464857767,
           1.885061139680747,
           1.6165645650081688,
           1.3732317224680386,
           1.1550626120603589,
           0.9620572337851295,
           0.794215587642349,
           0.6515376736320184,
           0.5340234917541377,
           0.4416730420087068,
           0.37448632439572577,
           0.3324633389151948,
           0.3156040855671134,
           0.3239085643514817,
           0.35737677526829986,
           0.41600871831756797,
           0.4998043934992859,
           0.6087638008134537,
           0.7428869402600712,
           0.9021738118391389,
           1.086624415550654,
           1.2962387513946207,
           1.5310168193710376,
           1.7909586194799045,
           2.076064151721221,
           2.3863334160949874,
           2.7217664126012044,
           3.08236314123987,
           3.4681236020109814,
           3.8790477949145465,
           4.315135719950563,
           4.776387377119028,
           5.262802766419943,
           5.774381887853309,
           6.311124741419124,
           6.873031327117388,
           7.460101644948097,
           8.07233569491126,
           8.709733477006875,
           9.37229499123494,
           10.060020237595454,
           10.772909216088417,
           11.51096192671383
          ],
          [
           4.88868866302851,
           4.420749472148463,
           3.9779740134008654,
           3.5603622867857165,
           3.1679142923030197,
           2.8006300299527727,
           2.4585094997349746,
           2.141552701649626,
           1.8497596356967272,
           1.58313030187628,
           1.3416647001882809,
           1.1253628306327317,
           0.9342246932096335,
           0.7682502879189838,
           0.627439614760784,
           0.5117926737350342,
           0.4213094648417342,
           0.35598998808088406,
           0.315834243452484,
           0.30084223095653345,
           0.31101395059303266,
           0.3463494023619817,
           0.4068485862633807,
           0.4925115022972295,
           0.6033381504635281,
           0.7393285307622767,
           0.900482643193475,
           1.0868004877571211,
           1.298282064453219,
           1.5349273732817665,
           1.7967364142427642,
           2.0837091873362117,
           2.395845692562109,
           2.733145929920456,
           3.095609899411253,
           3.4832376010344963,
           3.8960290347901916,
           4.333984200678339,
           4.797103098698934,
           5.28538572885198,
           5.798832091137477,
           6.337442185555422,
           6.901216012105818,
           7.490153570788658,
           8.104254861603952,
           8.743519884551699,
           9.407948639631892,
           10.097541126844538,
           10.812297346189633,
           11.552217297667177
          ],
          [
           4.840536909672795,
           4.374423960511707,
           3.9334747434830644,
           3.517689258586873,
           3.1270675058231334,
           2.761609485191843,
           2.421315196693001,
           2.106184640326609,
           1.8162178160926672,
           1.5514147239911764,
           1.3117753640221337,
           1.0972997361855414,
           0.9079878404813997,
           0.7438396769097068,
           0.6048552454704637,
           0.4910345461636706,
           0.4023775789893272,
           0.3388843439474338,
           0.3005548410379903,
           0.2873890702609964,
           0.2993870316164523,
           0.336548725104358,
           0.3988741507247137,
           0.4863633084775192,
           0.5990161983627746,
           0.7368328203804796,
           0.8998131745306349,
           1.0879572608132373,
           1.301265079228292,
           1.5397366297757966,
           1.8033719124557508,
           2.0921709272681546,
           2.406133674213009,
           2.745260153290313,
           3.109550364500066,
           3.499004307842265,
           3.9136219833169186,
           4.353403390924021,
           4.818348530663575,
           5.308457402535578,
           5.82373000654003,
           6.364166342676933,
           6.929766410946286,
           7.52053021134808,
           8.136457743882332,
           8.777549008549034,
           9.443804005348186,
           10.135222734279786,
           10.851805195343838,
           11.59355138854034
          ],
          [
           4.794629984170145,
           4.330293997030107,
           3.8911217420225177,
           3.4771132191473777,
           3.0882684284046893,
           2.724587369794451,
           2.3860700433166615,
           2.072716448971321,
           1.7845265867584312,
           1.5215004566779924,
           1.2836380587300016,
           1.070939392914461,
           0.8834044592313713,
           0.72103325768073,
           0.5838257882625388,
           0.4717820509767976,
           0.3849020458235061,
           0.32318577280266453,
           0.2866332319142729,
           0.2752444231583309,
           0.28901934653483863,
           0.32795800204379627,
           0.39206038968520374,
           0.4813265094590611,
           0.5957563613653682,
           0.7353499454041252,
           0.9001072615753322,
           1.0900283098789867,
           1.3051130903150934,
           1.5453616028836494,
           1.8107738475846553,
           2.1013498244181115,
           2.4170895333840177,
           2.7579929744823732,
           3.124060147713179,
           3.5152910530764294,
           3.9316856905721353,
           4.373244060200289,
           4.839966161960895,
           5.331851995853949,
           5.848901561879454,
           6.3911148600374075,
           6.958491890327813,
           7.55103265275066,
           8.168737147305961,
           8.811605373993716,
           9.47963733281392,
           10.172833023766573,
           10.891192446851676,
           11.63471560206923
          ],
          [
           4.751117954882859,
           4.288501679197649,
           3.851049135644886,
           3.4387603242245723,
           3.0516352449367106,
           2.6896738977812986,
           2.3528762827583347,
           2.041242399867822,
           1.754772249109758,
           1.4934658304841453,
           1.257323143990981,
           1.046344189630267,
           0.8605289674020039,
           0.6998774773061892,
           0.5643897193428244,
           0.4540656935119097,
           0.3689053998134447,
           0.30890883824742954,
           0.2740760088138644,
           0.2644069115127488,
           0.27990154634408304,
           0.32055991330786704,
           0.386382012404101,
           0.47736784363278484,
           0.5935174069939185,
           0.7348307024875019,
           0.9013077301135356,
           1.0929484898720165,
           1.3097529817629492,
           1.5517212057863319,
           1.8188531619421648,
           2.111148850230447,
           2.42860827065118,
           2.771231423204362,
           3.139018307889993,
           3.5319689247080714,
           3.9500832736586022,
           4.393361354741584,
           4.861803167957015,
           5.355408713304896,
           5.874177990785228,
           6.418111000398009,
           6.98720774214324,
           7.581468216020914,
           8.200892422031043,
           8.845480360173623,
           9.515232030448654,
           10.210147432856134,
           10.930226567396064,
           11.675469434068443
          ],
          [
           4.7101437780568896,
           4.249182336411891,
           3.8133846268993414,
           3.4027506495192408,
           3.0172804042715917,
           2.656973891156392,
           2.3218311101736413,
           2.011852061323341,
           1.7270367446054895,
           1.46738516002009,
           1.2328973075671388,
           1.0235731872466372,
           0.8394127990585866,
           0.6804161430029846,
           0.5465832190798326,
           0.4379140272891305,
           0.35440856763087825,
           0.29606684010507583,
           0.26288884471172336,
           0.25487458145082054,
           0.27202405032236743,
           0.31433725132636425,
           0.381814184462811,
           0.47445484973170743,
           0.5922592471330538,
           0.7352273766668499,
           0.9033592383330961,
           1.09665483213179,
           1.3151141580629355,
           1.5587372161265307,
           1.827524006322576,
           2.121474528651071,
           2.440588783112017,
           2.784866769705411,
           3.1543084884312558,
           3.548913939289546,
           3.9686831222802903,
           4.413616037403485,
           4.883712684659129,
           5.378973064047223,
           5.899397175567765,
           6.444985019220759,
           7.015736595006204,
           7.611651902924089,
           8.232730942974431,
           8.878973715157224,
           9.550380219472466,
           10.24695045592016,
           10.968684424500303,
           11.715582125212896
          ],
          [
           4.67184323840975,
           4.212464502998043,
           3.7782494997187865,
           3.3691982285719795,
           2.985310689557623,
           2.6265868826757166,
           2.293026807926259,
           1.984630465309251,
           1.701397854824693,
           1.4433289764725863,
           1.2104238302529278,
           1.0026824161657193,
           0.8201047342109617,
           0.6626907843886528,
           0.5304405666987937,
           0.42335408114138456,
           0.3414313277164252,
           0.2846723064239157,
           0.2530770172638563,
           0.24664546023624648,
           0.2653776353410863,
           0.3092735425783761,
           0.37833318194811566,
           0.47255655345030523,
           0.5919436570849445,
           0.7364944928520337,
           0.906209060751573,
           1.1010873607835594,
           1.321129392947998,
           1.5663351572448863,
           1.8367046536742244,
           2.132237882236013,
           2.4529348429302504,
           2.798795535756939,
           3.169819960716076,
           3.5660081178076597,
           3.9873600070316964,
           4.433875628388184,
           4.9055549818771205,
           5.402398067498508,
           5.924404885252344,
           6.471575435138631,
           7.043909717157367,
           7.641407731308545,
           8.26406947759218,
           8.91189495600827,
           9.584884166556803,
           10.28303710923779,
           11.006353784051225,
           11.75483419099711
          ],
          [
           4.636344851169091,
           4.178469850663077,
           3.7457585822895103,
           3.338211046048394,
           2.955827241939728,
           2.598607169963512,
           2.266550830119745,
           1.959658222408428,
           1.6779293468295602,
           1.4213642033831442,
           1.1899627920691764,
           0.9837251128876585,
           0.8026511658385916,
           0.6467409509219731,
           0.5159944681378048,
           0.4104117174860862,
           0.3299926989668176,
           0.27473741257999873,
           0.24464585832562988,
           0.23971803620371057,
           0.2599539462142411,
           0.30535358835722143,
           0.37591696263265173,
           0.4716440690405318,
           0.5925349075808617,
           0.7385894782536415,
           0.9098077810588713,
           1.1061898159965484,
           1.3277355830666777,
           1.5744450822692568,
           1.8463183136042853,
           2.1433552770717643,
           2.465555972671693,
           2.8129204004040713,
           3.1854485602688998,
           3.5831404522661736,
           4.005996076395902,
           4.454015432658079,
           4.927198521052707,
           5.425545341579784,
           5.949055894239311,
           6.497730179031288,
           7.071568195955717,
           7.670569945012585,
           8.294735426201912,
           8.944064639523688,
           9.618557584977914,
           10.318214262564592,
           11.043034672283715,
           11.79301881413529
          ],
          [
           4.6037697179871415,
           4.147313072682087,
           3.7160201595094797,
           3.309890978469323,
           2.928925529561617,
           2.573123812786361,
           2.2424858281435536,
           1.937011575633196,
           1.6567010552552888,
           1.4015542670098327,
           1.1715712108968246,
           0.9667518869162666,
           0.7870962950681591,
           0.6326044353525007,
           0.5032763077692922,
           0.3991119123185334,
           0.32011124900022453,
           0.2662743178143655,
           0.23760111876095655,
           0.23409165183999703,
           0.25574591705148736,
           0.30256391439542757,
           0.3745456438718177,
           0.4716911054806576,
           0.5940002992219473,
           0.7414732250956869,
           0.9141098831018766,
           1.1119102732405137,
           1.3348743955116023,
           1.5830022499151415,
           1.8562938364511303,
           2.154749155119569,
           2.4783682059204573,
           2.8271509888537953,
           3.2010975039195833,
           3.600207751117817,
           4.024481730448504,
           4.473919441911642,
           4.9485208855072305,
           5.448286061235267,
           5.9732149690957534,
           6.523307609088691,
           7.0985639812140775,
           7.698984085471908,
           8.324567921862194,
           8.97531549038493,
           9.651226791040116,
           10.352301823827753,
           11.078540588747837,
           11.829943085800375
          ],
          [
           4.574231330958037,
           4.119101713931671,
           3.6891358290377547,
           3.2843336762762876,
           2.9046952556472716,
           2.5502205671507054,
           2.2209096107865873,
           1.9167623865549195,
           1.637778894455702,
           1.3839591344889353,
           1.1553031066546169,
           0.9518108109527484,
           0.7734822473833308,
           0.6203174159463621,
           0.49231631664184317,
           0.38947894946977407,
           0.3118053144301549,
           0.25929541152298563,
           0.23194924074826626,
           0.22976680210599648,
           0.25274809559617645,
           0.30089312121880635,
           0.3742018789738861,
           0.47267436886141584,
           0.5963105908813953,
           0.7451105450338245,
           0.9190742313187038,
           1.1182016497360305,
           1.342492800285809,
           1.5919476829680377,
           1.8665662977827158,
           2.1663486447298443,
           2.4912947238094225,
           2.8414045350214505,
           3.2166780783659283,
           3.6171153538428507,
           4.0427163614522295,
           4.493481101194057,
           4.969409573068333,
           5.470501777075058,
           5.996757713214237,
           6.548177381485863,
           7.124760781889939,
           7.726507914426461,
           8.353418779095433,
           9.005493375896863,
           9.682731704830736,
           10.385133765897063,
           11.112699559095839,
           11.865429084427063
          ],
          [
           4.547835320895467,
           4.093935942826579,
           3.6652002968901387,
           3.2616283830861486,
           2.8832202014146104,
           2.5299757518755213,
           2.2018950344688806,
           1.8989780491946902,
           1.6212247960529496,
           1.3686352750436603,
           1.1412094861668192,
           0.9389474294224279,
           0.7618491048104876,
           0.6099145123309961,
           0.4831436519839544,
           0.38153652376936253,
           0.3050931276872205,
           0.2538134637375285,
           0.22769753192028636,
           0.2267453322354939,
           0.2509568646831511,
           0.3003321292632582,
           0.3748711259758153,
           0.4745738548208221,
           0.5994403157982788,
           0.7494705089081853,
           0.9246644341505419,
           1.125022091525346,
           1.3505434810326016,
           1.6012286026723075,
           1.8770774564444632,
           2.1780900423490683,
           2.504266360386124,
           2.8556064105556294,
           3.2321101928575846,
           3.633777707291985,
           4.06060895385884,
           4.512603932558145,
           4.9897626433898985,
           5.492085086354103,
           6.019571261450755,
           6.57222116867986,
           7.150034808041414,
           7.753012179535411,
           8.381153283161863,
           9.034458118920769,
           9.71292668681212,
           10.416558986835923,
           11.145355018992175,
           11.899314783280879
          ],
          [
           4.524679148045082,
           4.071908263244494,
           3.6443011105763534,
           3.2418576900406633,
           2.864578001637424,
           2.5124620453666346,
           2.1855098212282926,
           1.8837213292224024,
           1.6070965693489612,
           1.355635541607971,
           1.1293382459994294,
           0.9282046825233378,
           0.7522348511796967,
           0.6014287519685046,
           0.4757863848897623,
           0.37530774994346994,
           0.2999928471296275,
           0.24984167644823477,
           0.22485423789929201,
           0.2250305314827989,
           0.25037055719875556,
           0.3008743150471621,
           0.37654180502801854,
           0.47737302714132485,
           0.6033679813870809,
           0.7545266677652869,
           0.9308490862759429,
           1.132335236919046,
           1.3589851196946015,
           1.6107987346026067,
           1.8877760816430615,
           2.189917160815966,
           2.517221972121321,
           2.869690515559126,
           3.2473227911293803,
           3.65011879883208,
           4.078078538667236,
           4.5312020106348365,
           5.0094892147348915,
           5.5129401509673945,
           6.041554819332348,
           6.595333219829753,
           7.174275352459605,
           7.778381217221901,
           8.407650814116653,
           9.062084143143855,
           9.741681204303509,
           10.446441997595612,
           11.176366523020164,
           11.931454780577166
          ],
          [
           4.504851735466541,
           4.053103166596096,
           3.626518329858098,
           3.225097225252549,
           2.8488398527794514,
           2.497746212438805,
           2.1718163042306053,
           1.8710501281548568,
           1.5954476842115581,
           1.3450089724007104,
           1.1197339927223111,
           0.9196227451763616,
           0.7446752297628628,
           0.594891446481813,
           0.47027139533321305,
           0.3708150763170629,
           0.29652248943336257,
           0.24739363468211215,
           0.2234285120633117,
           0.22462712157696085,
           0.25098946322305976,
           0.30251553700160855,
           0.37920534291260716,
           0.48105888095605576,
           0.6080761511319542,
           0.7602571534403021,
           0.9376018878811007,
           1.140110354454346,
           1.3677825531600436,
           1.6206184839981912,
           1.8986181469687882,
           2.201781542071836,
           2.530108669307333,
           2.8835995286752794,
           3.2622541201756765,
           3.6660724438085177,
           4.0950544995738145,
           4.549200287471561,
           5.028509807501757,
           5.532983059664402,
           6.062620043959498,
           6.617420760387043,
           7.197385208947039,
           7.802513389639477,
           8.432805302464374,
           9.088260947421716,
           9.768880324511514,
           10.474663433733758,
           11.20561027508845,
           11.961720848575597
          ],
          [
           4.488433047379909,
           4.037596726269475,
           3.6119241372914903,
           3.211415280445955,
           2.8360701557328714,
           2.485888763152237,
           2.1608711027040512,
           1.8610171743883155,
           1.5863269782050295,
           1.336800514154195,
           1.1124377822358087,
           0.9132387824498726,
           0.7392035147963867,
           0.59033197927535,
           0.4666241758867631,
           0.368080104630626,
           0.29469976550693894,
           0.24648315851570166,
           0.22343028365691428,
           0.22554114093057648,
           0.2528157303366885,
           0.30525405187525045,
           0.3828561055462622,
           0.48562189134972394,
           0.6135514092856355,
           0.7666446593539967,
           0.944901641554808,
           1.1483223558880669,
           1.3769068023537776,
           1.6306549809519382,
           1.9095668916825483,
           2.213642534545609,
           2.5428819095411193,
           2.8972850166690787,
           3.2768518559294892,
           3.681582427322343,
           4.111476730847653,
           4.566534766505413,
           5.046756534295622,
           5.552142034218281,
           6.082691266273388,
           6.6384042304609485,
           7.219280926780957,
           7.8253213552334095,
           8.456525515818317,
           9.112893408535674,
           9.794425033385483,
           10.501120390367738,
           11.232979479482447,
           11.990002300729603
          ],
          [
           4.475493616786884,
           4.025456138706128,
           3.600582392757819,
           3.2008723789419604,
           2.826326097258553,
           2.4769435477075947,
           2.1527247302890857,
           1.853669645003027,
           1.5797782918494176,
           1.3310506708282595,
           1.1074867819395497,
           0.90908662518329,
           0.7358502005594811,
           0.5877775080681209,
           0.4648685477092105,
           0.3671233194827501,
           0.29454182338873947,
           0.24712405942717874,
           0.22487002759806804,
           0.2277797279014068,
           0.25585316033719535,
           0.3090903249054338,
           0.3874912216061221,
           0.49105585043926037,
           0.6197842114048484,
           0.7736763045028863,
           0.9527321297333742,
           1.1569516870963092,
           1.3863349765916966,
           1.640881998219534,
           1.9205927519798207,
           2.2254672378725573,
           2.5555054558977446,
           2.9107074060553813,
           3.2910730883454677,
           3.696602502767999,
           4.127295649322985,
           4.583152528010421,
           5.0641731388303075,
           5.570357481782643,
           6.101705556867428,
           6.658217364084663,
           7.239892903434347,
           7.846732174916475,
           8.47873517853106,
           9.135901914278096,
           9.818232382157579,
           10.525726582169513,
           11.258384514313896,
           12.016206178590732
          ],
          [
           4.466094028606605,
           4.016739217307456,
           3.592548138140755,
           3.193520791106505,
           2.8196571762047045,
           2.470957293435355,
           2.147421142798454,
           1.8490487242940026,
           1.575840037922001,
           1.3277950836824508,
           1.1049138615753489,
           0.907196371600697,
           0.7346426137584957,
           0.5872525880487435,
           0.46502629447144084,
           0.3679637330265883,
           0.29606490371418553,
           0.24932980653423262,
           0.22775844148672963,
           0.23135080857167628,
           0.26010690778907264,
           0.31402673913891893,
           0.3931103026212152,
           0.4973575982359612,
           0.6267686259831571,
           0.7813433858628028,
           0.9610818778748986,
           1.1659841020194415,
           1.3960500582964366,
           1.6512797467058815,
           1.9316731672477765,
           2.237230319922121,
           2.567951204728916,
           2.9238358216681606,
           3.3048841707398546,
           3.711096251943994,
           4.142472065280587,
           4.599011610749631,
           5.080714888351125,
           5.587581898085068,
           6.119612639951461,
           6.676807113950305,
           7.259165320081599,
           7.866687258345335,
           8.499372928741526,
           9.157222331270168,
           9.84023546593126,
           10.548412332724801,
           11.281752931650797,
           12.040257262709234
          ],
          [
           4.46028436636805,
           4.011493847185658,
           3.5878670601357134,
           3.1894040052182198,
           2.8161046824331764,
           2.4679690917805828,
           2.1449972332604377,
           1.847189106872743,
           1.5745447126174985,
           1.3270640504947047,
           1.1047471205043595,
           0.9075939226464641,
           0.7356044569210194,
           0.5887787233280235,
           0.46711672186747755,
           0.37061845253938147,
           0.29928391534373516,
           0.2531131102805388,
           0.2321060373497923,
           0.23626269655149543,
           0.26558308788564844,
           0.3200672113522512,
           0.399715066951304,
           0.5045266546828066,
           0.634501974546759,
           0.7896410265431613,
           0.9699438106720133,
           1.1754103269333127,
           1.4060405753270644,
           1.661834555853266,
           1.9427922685119172,
           2.248913713303019,
           2.5801988902265705,
           2.9366477992825706,
           3.318260440471022,
           3.7250368137919168,
           4.156976919245268,
           4.614080756831068,
           5.096348326549317,
           5.603779628400018,
           6.136374662383167,
           6.694133428498767,
           7.277055926746816,
           7.885142157127311,
           8.518392119640257,
           9.176805814285657,
           9.860383241063504,
           10.569124399973804,
           11.303029291016552,
           12.062097914191751
          ],
          [
           4.458103632138776,
           4.009757410423138,
           3.5865749208399467,
           3.188556163389206,
           2.8157011380709167,
           2.4680098448850765,
           2.1454822838316847,
           1.8481184549107437,
           1.5759183581222522,
           1.328881993466212,
           1.10700936094262,
           0.9103004605514781,
           0.7387552922927868,
           0.5923738561665444,
           0.47115615217275186,
           0.3751021803114092,
           0.30421194058251644,
           0.25848543298607346,
           0.2379226575220804,
           0.242523614190537,
           0.27228830299144335,
           0.32721672392479967,
           0.40730887699060575,
           0.5125647621888618,
           0.6429843795195677,
           0.7985677289827232,
           0.9793148105783289,
           1.185225624306382,
           1.416300170166887,
           1.6725384481598418,
           1.9539404582852467,
           2.260506200543101,
           2.592235674933406,
           2.949128881456161,
           3.3311858201113647,
           3.7384064908990133,
           4.170790893819118,
           4.628339028871671,
           5.111050896056676,
           5.618926495374128,
           6.151965826824031,
           6.710168890406384,
           7.293535686121188,
           7.902066213968433,
           8.535760473948134,
           9.194618466060287,
           9.878640190304889,
           10.58782564668194,
           11.322174835191444,
           12.081687755833396
          ],
          [
           4.459579150808483,
           4.01155619295602,
           3.5886969672360025,
           3.191001473648437,
           2.8184697121933215,
           2.4711016828706565,
           2.1488973856804394,
           1.8518568206226727,
           1.5799799876973561,
           1.3332668869044904,
           1.111717518244073,
           0.9153318817161056,
           0.7441099773205891,
           0.5980518050575212,
           0.47715736492690336,
           0.3814266569287353,
           0.3108596810630172,
           0.26545643732974883,
           0.24521692572893045,
           0.25014114626056166,
           0.28022909892464265,
           0.33548078372117357,
           0.4158962006501543,
           0.5214753497115848,
           0.6522182309054654,
           0.8081248442317955,
           0.9891951896905758,
           1.1954292672818034,
           1.4268270770054832,
           1.6833886188616127,
           1.9651138928501921,
           2.272002898971221,
           2.6040556372247012,
           2.96127210761063,
           3.3436523101290088,
           3.751196244779832,
           4.183903911563111,
           4.64177531047884,
           5.124810441527017,
           5.633009304707645,
           6.166371900020722,
           6.72489822746625,
           7.308588287044228,
           7.917442078754648,
           8.551459602597525,
           9.210640858572855,
           9.89498584668063,
           10.604494566920856,
           11.339167019293534,
           12.09900320379866
          ],
          [
           4.464725971055676,
           4.016904785419614,
           3.5942473319160007,
           3.196753610544838,
           2.8244236213061256,
           2.4772573641998625,
           2.155254839226048,
           1.858416046384684,
           1.5867409856757695,
           1.3402296570993066,
           1.1188820606552916,
           0.9226981963437269,
           0.7516780641646128,
           0.6058216641179475,
           0.48512899620373207,
           0.38960006042196665,
           0.319234856772651,
           0.27403338525578513,
           0.2539956458713693,
           0.259121638619403,
           0.28941136349988655,
           0.34486482051281997,
           0.4254820096582032,
           0.5312629309360364,
           0.6622075843463193,
           0.8183159698890522,
           0.999588087564235,
           1.206023937371865,
           1.4376235193119475,
           1.6943868333844794,
           1.976313879589461,
           2.283404657926893,
           2.615659168396775,
           2.9730774109991063,
           3.3556593857338877,
           3.7634050926011144,
           4.1963145316007955,
           4.654387702732926,
           5.137624605997507,
           5.646025241394536,
           6.179589608924018,
           6.738317708585948,
           7.322209540380327,
           7.93126510430715,
           8.565484400366428,
           9.22486742855816,
           9.909414188882339,
           10.619124681338969,
           11.353998905928046,
           12.114036862649575
          ],
          [
           4.47354627628091,
           4.02580549126134,
           3.6032284383742192,
           3.205815117619548,
           2.833565528997328,
           2.486479672507558,
           2.1645575481502357,
           1.8677991559253648,
           1.5962044958329429,
           1.3497735678729723,
           1.1285063720454498,
           0.9324029083503776,
           0.7614631767877559,
           0.6156871773575832,
           0.49507491005986026,
           0.3996263748945873,
           0.32934157186176405,
           0.2842205009613908,
           0.26426316219346746,
           0.26946955555799357,
           0.29983968105496966,
           0.3553735386843955,
           0.43607112844627127,
           0.5419324503405968,
           0.6729575043673724,
           0.8291462905265976,
           1.010498808818273,
           1.2170150592423956,
           1.4486950417989704,
           1.705538756487995,
           1.9875462033094693,
           2.2947173822633933,
           2.6270522933497675,
           2.9845509365685916,
           3.3672133119198655,
           3.7750394194035843,
           4.208029259019758,
           4.66618283076838,
           5.149500134649455,
           5.657981170662977,
           6.191625938808949,
           6.750434439087374,
           7.334406671498246,
           7.94354263604156,
           8.577842332717331,
           9.237305761525555,
           9.921932922466228,
           10.631723815539347,
           11.36667844074492,
           12.126796798082943
          ],
          [
           4.486028819470407,
           4.038247756119103,
           3.6156304249002473,
           3.218176825813842,
           2.8458869588598867,
           2.4987608240383823,
           2.1767984213493254,
           1.8799997507927193,
           1.608364812368563,
           1.3618936060768574,
           1.1405861319176005,
           0.9444423898907935,
           0.7734623799964373,
           0.6276461022345299,
           0.5069935566050724,
           0.4115047431080647,
           0.341179661743507,
           0.296018312511399,
           0.27602069541174096,
           0.2811868104445325,
           0.3115166576097739,
           0.3670102369074652,
           0.44766754833760636,
           0.5534885919001974,
           0.684473367595238,
           0.8406218754227287,
           1.0219341153826695,
           1.2284100874750572,
           1.4600497916998973,
           1.716853228057187,
           1.9988203965469271,
           2.3059512971691167,
           2.638245929923756,
           2.995704294810846,
           3.3783263918303845,
           3.7861122209823685,
           4.219061782266809,
           4.677175075683696,
           5.1604521012330355,
           5.668892858914822,
           6.202497348729062,
           6.76126557067575,
           7.345197524754888,
           7.954293210966468,
           8.588552629310506,
           9.247975779786993,
           9.93256266239593,
           10.642313277137319,
           11.377227624011153,
           12.13730570301744
          ],
          [
           4.502148396344334,
           4.054207632865637,
           3.6314306015193876,
           3.2338173023055887,
           2.86136773522424,
           2.5140819002753414,
           2.191959797458892,
           1.8950014267748923,
           1.6232067882233423,
           1.3765758818042435,
           1.1551087075175932,
           0.958805265363393,
           0.787665555341643,
           0.6416895774523421,
           0.5208773316954911,
           0.42522881807109003,
           0.35474403657913883,
           0.30942298721963735,
           0.28926566999258585,
           0.29427208489798395,
           0.32444223193583194,
           0.37977611110612974,
           0.4602737224088774,
           0.5659350658440749,
           0.6967601414117223,
           0.8527489491118196,
           1.0339014889443667,
           1.2402177609093614,
           1.4716977650068077,
           1.7283415012367043,
           2.0101489695990504,
           2.3171201700938466,
           2.6492551027210927,
           3.006553767480789,
           3.389016164372935,
           3.796642293397525,
           4.229432154554571,
           4.687385747844066,
           5.17050307326601,
           5.6787841308204055,
           6.2122289205072505,
           6.770837442326545,
           7.354609696278289,
           7.963545682362478,
           8.597645400579122,
           9.256908850928218,
           9.941336033409758,
           10.650926948023752,
           11.385681594770194,
           12.14559997364909
          ],
          [
           4.52186537123553,
           4.073647296822489,
           3.6505929545418954,
           3.252702344393751,
           2.879975466378059,
           2.532412320494815,
           2.210012906744021,
           1.9127772251256767,
           1.6407052756397824,
           1.393797058286339,
           1.1720525730653442,
           0.9754718199767992,
           0.8040547990207049,
           0.6578015101970596,
           0.536711953505864,
           0.4407861289471183,
           0.37002403652082255,
           0.3244256762269766,
           0.30399104806558064,
           0.30872015203663417,
           0.33861298814013757,
           0.3936695563760908,
           0.473889856744494,
           0.5792738892453471,
           0.7098216538786498,
           0.8655331506444024,
           1.0464083795426051,
           1.2524473405732548,
           1.4836500337363572,
           1.740016459031909,
           2.021546616459911,
           2.3282405060203626,
           2.660098127713264,
           3.0171194815386153,
           3.3993045674964164,
           3.8066533855866633,
           4.239165935809363,
           4.696842218164514,
           5.179682232652115,
           5.687685979272164,
           6.220853458024665,
           6.779184668909616,
           7.362679611927015,
           7.971338287076857,
           8.605160694359158,
           9.264146833773905,
           9.948296705321106,
           10.657610309000756,
           11.392087644812854,
           12.151728712757402
          ],
          [
           4.545125269933698,
           4.096514625447882,
           3.673067713094515,
           3.274784532873598,
           2.901665084785132,
           2.5537093688291157,
           2.230917385005548,
           1.9332891333144304,
           1.660824613755762,
           1.4135238263295453,
           1.1913867710357773,
           0.9944134478744585,
           0.8226038568455909,
           0.6759579979491721,
           0.554475871185203,
           0.458157476553684,
           0.38700281405461473,
           0.34101188368799534,
           0.3201846854538259,
           0.324521219352106,
           0.35402148538283595,
           0.40868548354601575,
           0.4885132138416454,
           0.5935046762697249,
           0.7236598708302544,
           0.8789787975232336,
           1.0594614563486626,
           1.2651078473065391,
           1.495917970396868,
           1.7518918256196465,
           2.033029412974875,
           2.3393307324625527,
           2.670795784082681,
           3.027424567835259,
           3.4092170837202866,
           3.8161733317377595,
           4.2482933118876876,
           4.705577024170064,
           5.188024468584891,
           5.695635645132168,
           6.228410553811894,
           6.78634919462407,
           7.369451567568698,
           7.977717672645768,
           8.611147509855293,
           9.269741079197269,
           9.953498380671697,
           10.662419414278572,
           11.396504180017894,
           12.155752677889671
          ],
          [
           4.571858453219691,
           4.122742856303279,
           3.698790991519317,
           3.300002858867803,
           2.9263784583487413,
           2.5779177899621293,
           2.2546208537079657,
           1.9564876495862518,
           1.683518177596988,
           1.4357124377401755,
           1.2130704300158113,
           1.015592154423897,
           0.8432776109644334,
           0.6961267996374186,
           0.5741397204428539,
           0.4773163733807388,
           0.40565675845107374,
           0.3591608756538584,
           0.3378287249890931,
           0.3416603064567774,
           0.37065562005691144,
           0.4248146657894954,
           0.5041374436545292,
           0.6086239536520129,
           0.7382741957819464,
           0.8930881700443297,
           1.073065876439163,
           1.2782073149664437,
           1.5085124856261765,
           1.7639813884183588,
           2.0446140233429917,
           2.3504103904000737,
           2.681370489589606,
           3.037494320911588,
           3.41878188436602,
           3.8252331799528974,
           4.2568482076722285,
           4.71362696752401,
           5.195569459508242,
           5.702675683624922,
           6.234945639874052,
           6.792379328255634,
           7.374976748769663,
           7.982737901416137,
           8.615662786195069,
           9.273751403106447,
           9.957003752150278,
           10.665419833326556,
           11.398999646635287,
           12.157743192076468
          ]
         ]
        }
       ],
       "layout": {
        "autosize": true,
        "height": 700,
        "scene": {
         "aspectmode": "manual",
         "aspectratio": {
          "x": 1,
          "y": 1,
          "z": 0.7
         },
         "camera": {
          "eye": {
           "x": -1.7428,
           "y": 1.0707,
           "z": 0.71
          },
          "up": {
           "x": 0,
           "y": 0,
           "z": 1
          }
         },
         "xaxis": {
          "gridcolor": "rgb(255, 255, 255)",
          "showbackground": true,
          "zerolinecolor": "rgb(255, 255, 255)"
         },
         "yaxis": {
          "gridcolor": "rgb(255, 255, 255)",
          "showbackground": true,
          "zerolinecolor": "rgb(255, 255, 255)"
         },
         "zaxis": {
          "gridcolor": "rgb(255, 255, 255)",
          "showbackground": true,
          "zerolinecolor": "rgb(255, 255, 255)"
         }
        },
        "template": {
         "data": {
          "bar": [
           {
            "error_x": {
             "color": "#2a3f5f"
            },
            "error_y": {
             "color": "#2a3f5f"
            },
            "marker": {
             "line": {
              "color": "#E5ECF6",
              "width": 0.5
             },
             "pattern": {
              "fillmode": "overlay",
              "size": 10,
              "solidity": 0.2
             }
            },
            "type": "bar"
           }
          ],
          "barpolar": [
           {
            "marker": {
             "line": {
              "color": "#E5ECF6",
              "width": 0.5
             },
             "pattern": {
              "fillmode": "overlay",
              "size": 10,
              "solidity": 0.2
             }
            },
            "type": "barpolar"
           }
          ],
          "carpet": [
           {
            "aaxis": {
             "endlinecolor": "#2a3f5f",
             "gridcolor": "white",
             "linecolor": "white",
             "minorgridcolor": "white",
             "startlinecolor": "#2a3f5f"
            },
            "baxis": {
             "endlinecolor": "#2a3f5f",
             "gridcolor": "white",
             "linecolor": "white",
             "minorgridcolor": "white",
             "startlinecolor": "#2a3f5f"
            },
            "type": "carpet"
           }
          ],
          "choropleth": [
           {
            "colorbar": {
             "outlinewidth": 0,
             "ticks": ""
            },
            "type": "choropleth"
           }
          ],
          "contour": [
           {
            "colorbar": {
             "outlinewidth": 0,
             "ticks": ""
            },
            "colorscale": [
             [
              0,
              "#0d0887"
             ],
             [
              0.1111111111111111,
              "#46039f"
             ],
             [
              0.2222222222222222,
              "#7201a8"
             ],
             [
              0.3333333333333333,
              "#9c179e"
             ],
             [
              0.4444444444444444,
              "#bd3786"
             ],
             [
              0.5555555555555556,
              "#d8576b"
             ],
             [
              0.6666666666666666,
              "#ed7953"
             ],
             [
              0.7777777777777778,
              "#fb9f3a"
             ],
             [
              0.8888888888888888,
              "#fdca26"
             ],
             [
              1,
              "#f0f921"
             ]
            ],
            "type": "contour"
           }
          ],
          "contourcarpet": [
           {
            "colorbar": {
             "outlinewidth": 0,
             "ticks": ""
            },
            "type": "contourcarpet"
           }
          ],
          "heatmap": [
           {
            "colorbar": {
             "outlinewidth": 0,
             "ticks": ""
            },
            "colorscale": [
             [
              0,
              "#0d0887"
             ],
             [
              0.1111111111111111,
              "#46039f"
             ],
             [
              0.2222222222222222,
              "#7201a8"
             ],
             [
              0.3333333333333333,
              "#9c179e"
             ],
             [
              0.4444444444444444,
              "#bd3786"
             ],
             [
              0.5555555555555556,
              "#d8576b"
             ],
             [
              0.6666666666666666,
              "#ed7953"
             ],
             [
              0.7777777777777778,
              "#fb9f3a"
             ],
             [
              0.8888888888888888,
              "#fdca26"
             ],
             [
              1,
              "#f0f921"
             ]
            ],
            "type": "heatmap"
           }
          ],
          "heatmapgl": [
           {
            "colorbar": {
             "outlinewidth": 0,
             "ticks": ""
            },
            "colorscale": [
             [
              0,
              "#0d0887"
             ],
             [
              0.1111111111111111,
              "#46039f"
             ],
             [
              0.2222222222222222,
              "#7201a8"
             ],
             [
              0.3333333333333333,
              "#9c179e"
             ],
             [
              0.4444444444444444,
              "#bd3786"
             ],
             [
              0.5555555555555556,
              "#d8576b"
             ],
             [
              0.6666666666666666,
              "#ed7953"
             ],
             [
              0.7777777777777778,
              "#fb9f3a"
             ],
             [
              0.8888888888888888,
              "#fdca26"
             ],
             [
              1,
              "#f0f921"
             ]
            ],
            "type": "heatmapgl"
           }
          ],
          "histogram": [
           {
            "marker": {
             "pattern": {
              "fillmode": "overlay",
              "size": 10,
              "solidity": 0.2
             }
            },
            "type": "histogram"
           }
          ],
          "histogram2d": [
           {
            "colorbar": {
             "outlinewidth": 0,
             "ticks": ""
            },
            "colorscale": [
             [
              0,
              "#0d0887"
             ],
             [
              0.1111111111111111,
              "#46039f"
             ],
             [
              0.2222222222222222,
              "#7201a8"
             ],
             [
              0.3333333333333333,
              "#9c179e"
             ],
             [
              0.4444444444444444,
              "#bd3786"
             ],
             [
              0.5555555555555556,
              "#d8576b"
             ],
             [
              0.6666666666666666,
              "#ed7953"
             ],
             [
              0.7777777777777778,
              "#fb9f3a"
             ],
             [
              0.8888888888888888,
              "#fdca26"
             ],
             [
              1,
              "#f0f921"
             ]
            ],
            "type": "histogram2d"
           }
          ],
          "histogram2dcontour": [
           {
            "colorbar": {
             "outlinewidth": 0,
             "ticks": ""
            },
            "colorscale": [
             [
              0,
              "#0d0887"
             ],
             [
              0.1111111111111111,
              "#46039f"
             ],
             [
              0.2222222222222222,
              "#7201a8"
             ],
             [
              0.3333333333333333,
              "#9c179e"
             ],
             [
              0.4444444444444444,
              "#bd3786"
             ],
             [
              0.5555555555555556,
              "#d8576b"
             ],
             [
              0.6666666666666666,
              "#ed7953"
             ],
             [
              0.7777777777777778,
              "#fb9f3a"
             ],
             [
              0.8888888888888888,
              "#fdca26"
             ],
             [
              1,
              "#f0f921"
             ]
            ],
            "type": "histogram2dcontour"
           }
          ],
          "mesh3d": [
           {
            "colorbar": {
             "outlinewidth": 0,
             "ticks": ""
            },
            "type": "mesh3d"
           }
          ],
          "parcoords": [
           {
            "line": {
             "colorbar": {
              "outlinewidth": 0,
              "ticks": ""
             }
            },
            "type": "parcoords"
           }
          ],
          "pie": [
           {
            "automargin": true,
            "type": "pie"
           }
          ],
          "scatter": [
           {
            "fillpattern": {
             "fillmode": "overlay",
             "size": 10,
             "solidity": 0.2
            },
            "type": "scatter"
           }
          ],
          "scatter3d": [
           {
            "line": {
             "colorbar": {
              "outlinewidth": 0,
              "ticks": ""
             }
            },
            "marker": {
             "colorbar": {
              "outlinewidth": 0,
              "ticks": ""
             }
            },
            "type": "scatter3d"
           }
          ],
          "scattercarpet": [
           {
            "marker": {
             "colorbar": {
              "outlinewidth": 0,
              "ticks": ""
             }
            },
            "type": "scattercarpet"
           }
          ],
          "scattergeo": [
           {
            "marker": {
             "colorbar": {
              "outlinewidth": 0,
              "ticks": ""
             }
            },
            "type": "scattergeo"
           }
          ],
          "scattergl": [
           {
            "marker": {
             "colorbar": {
              "outlinewidth": 0,
              "ticks": ""
             }
            },
            "type": "scattergl"
           }
          ],
          "scattermapbox": [
           {
            "marker": {
             "colorbar": {
              "outlinewidth": 0,
              "ticks": ""
             }
            },
            "type": "scattermapbox"
           }
          ],
          "scatterpolar": [
           {
            "marker": {
             "colorbar": {
              "outlinewidth": 0,
              "ticks": ""
             }
            },
            "type": "scatterpolar"
           }
          ],
          "scatterpolargl": [
           {
            "marker": {
             "colorbar": {
              "outlinewidth": 0,
              "ticks": ""
             }
            },
            "type": "scatterpolargl"
           }
          ],
          "scatterternary": [
           {
            "marker": {
             "colorbar": {
              "outlinewidth": 0,
              "ticks": ""
             }
            },
            "type": "scatterternary"
           }
          ],
          "surface": [
           {
            "colorbar": {
             "outlinewidth": 0,
             "ticks": ""
            },
            "colorscale": [
             [
              0,
              "#0d0887"
             ],
             [
              0.1111111111111111,
              "#46039f"
             ],
             [
              0.2222222222222222,
              "#7201a8"
             ],
             [
              0.3333333333333333,
              "#9c179e"
             ],
             [
              0.4444444444444444,
              "#bd3786"
             ],
             [
              0.5555555555555556,
              "#d8576b"
             ],
             [
              0.6666666666666666,
              "#ed7953"
             ],
             [
              0.7777777777777778,
              "#fb9f3a"
             ],
             [
              0.8888888888888888,
              "#fdca26"
             ],
             [
              1,
              "#f0f921"
             ]
            ],
            "type": "surface"
           }
          ],
          "table": [
           {
            "cells": {
             "fill": {
              "color": "#EBF0F8"
             },
             "line": {
              "color": "white"
             }
            },
            "header": {
             "fill": {
              "color": "#C8D4E3"
             },
             "line": {
              "color": "white"
             }
            },
            "type": "table"
           }
          ]
         },
         "layout": {
          "annotationdefaults": {
           "arrowcolor": "#2a3f5f",
           "arrowhead": 0,
           "arrowwidth": 1
          },
          "autotypenumbers": "strict",
          "coloraxis": {
           "colorbar": {
            "outlinewidth": 0,
            "ticks": ""
           }
          },
          "colorscale": {
           "diverging": [
            [
             0,
             "#8e0152"
            ],
            [
             0.1,
             "#c51b7d"
            ],
            [
             0.2,
             "#de77ae"
            ],
            [
             0.3,
             "#f1b6da"
            ],
            [
             0.4,
             "#fde0ef"
            ],
            [
             0.5,
             "#f7f7f7"
            ],
            [
             0.6,
             "#e6f5d0"
            ],
            [
             0.7,
             "#b8e186"
            ],
            [
             0.8,
             "#7fbc41"
            ],
            [
             0.9,
             "#4d9221"
            ],
            [
             1,
             "#276419"
            ]
           ],
           "sequential": [
            [
             0,
             "#0d0887"
            ],
            [
             0.1111111111111111,
             "#46039f"
            ],
            [
             0.2222222222222222,
             "#7201a8"
            ],
            [
             0.3333333333333333,
             "#9c179e"
            ],
            [
             0.4444444444444444,
             "#bd3786"
            ],
            [
             0.5555555555555556,
             "#d8576b"
            ],
            [
             0.6666666666666666,
             "#ed7953"
            ],
            [
             0.7777777777777778,
             "#fb9f3a"
            ],
            [
             0.8888888888888888,
             "#fdca26"
            ],
            [
             1,
             "#f0f921"
            ]
           ],
           "sequentialminus": [
            [
             0,
             "#0d0887"
            ],
            [
             0.1111111111111111,
             "#46039f"
            ],
            [
             0.2222222222222222,
             "#7201a8"
            ],
            [
             0.3333333333333333,
             "#9c179e"
            ],
            [
             0.4444444444444444,
             "#bd3786"
            ],
            [
             0.5555555555555556,
             "#d8576b"
            ],
            [
             0.6666666666666666,
             "#ed7953"
            ],
            [
             0.7777777777777778,
             "#fb9f3a"
            ],
            [
             0.8888888888888888,
             "#fdca26"
            ],
            [
             1,
             "#f0f921"
            ]
           ]
          },
          "colorway": [
           "#636efa",
           "#EF553B",
           "#00cc96",
           "#ab63fa",
           "#FFA15A",
           "#19d3f3",
           "#FF6692",
           "#B6E880",
           "#FF97FF",
           "#FECB52"
          ],
          "font": {
           "color": "#2a3f5f"
          },
          "geo": {
           "bgcolor": "white",
           "lakecolor": "white",
           "landcolor": "#E5ECF6",
           "showlakes": true,
           "showland": true,
           "subunitcolor": "white"
          },
          "hoverlabel": {
           "align": "left"
          },
          "hovermode": "closest",
          "mapbox": {
           "style": "light"
          },
          "paper_bgcolor": "white",
          "plot_bgcolor": "#E5ECF6",
          "polar": {
           "angularaxis": {
            "gridcolor": "white",
            "linecolor": "white",
            "ticks": ""
           },
           "bgcolor": "#E5ECF6",
           "radialaxis": {
            "gridcolor": "white",
            "linecolor": "white",
            "ticks": ""
           }
          },
          "scene": {
           "xaxis": {
            "backgroundcolor": "#E5ECF6",
            "gridcolor": "white",
            "gridwidth": 2,
            "linecolor": "white",
            "showbackground": true,
            "ticks": "",
            "zerolinecolor": "white"
           },
           "yaxis": {
            "backgroundcolor": "#E5ECF6",
            "gridcolor": "white",
            "gridwidth": 2,
            "linecolor": "white",
            "showbackground": true,
            "ticks": "",
            "zerolinecolor": "white"
           },
           "zaxis": {
            "backgroundcolor": "#E5ECF6",
            "gridcolor": "white",
            "gridwidth": 2,
            "linecolor": "white",
            "showbackground": true,
            "ticks": "",
            "zerolinecolor": "white"
           }
          },
          "shapedefaults": {
           "line": {
            "color": "#2a3f5f"
           }
          },
          "ternary": {
           "aaxis": {
            "gridcolor": "white",
            "linecolor": "white",
            "ticks": ""
           },
           "baxis": {
            "gridcolor": "white",
            "linecolor": "white",
            "ticks": ""
           },
           "bgcolor": "#E5ECF6",
           "caxis": {
            "gridcolor": "white",
            "linecolor": "white",
            "ticks": ""
           }
          },
          "title": {
           "x": 0.05
          },
          "xaxis": {
           "automargin": true,
           "gridcolor": "white",
           "linecolor": "white",
           "ticks": "",
           "title": {
            "standoff": 15
           },
           "zerolinecolor": "white",
           "zerolinewidth": 2
          },
          "yaxis": {
           "automargin": true,
           "gridcolor": "white",
           "linecolor": "white",
           "ticks": "",
           "title": {
            "standoff": 15
           },
           "zerolinecolor": "white",
           "zerolinewidth": 2
          }
         }
        },
        "title": {
         "text": "Gradient Descent"
        },
        "width": 800
       }
      },
      "text/html": [
       "<div>                            <div id=\"03c1face-243c-4231-8c73-5dda31a31d97\" class=\"plotly-graph-div\" style=\"height:700px; width:800px;\"></div>            <script type=\"text/javascript\">                require([\"plotly\"], function(Plotly) {                    window.PLOTLYENV=window.PLOTLYENV || {};                                    if (document.getElementById(\"03c1face-243c-4231-8c73-5dda31a31d97\")) {                    Plotly.newPlot(                        \"03c1face-243c-4231-8c73-5dda31a31d97\",                        [{\"line\":{\"color\":\"rgb(50,170, 140)\",\"width\":3},\"marker\":{\"color\":[-9.285008173048666,-4.680169273815357,-2.6242517936325833,-1.4765157174727774,-0.9073271435862448,-0.541531643291128,-0.3775841142469479,-0.2969750688130759,-0.2590425421375732,-0.23973439443291833,-0.23034782416254634,-0.2255775832667724,-0.22321772191904068,-0.22202363967204045,-0.22142811500262397,-0.22112776381775168,-0.22097741373654575,-0.22090173185683032,-0.2208637810584589,-0.2208446977760149],\"colorscale\":[[0.0,\"#440154\"],[0.1111111111111111,\"#482878\"],[0.2222222222222222,\"#3e4989\"],[0.3333333333333333,\"#31688e\"],[0.4444444444444444,\"#26828e\"],[0.5555555555555556,\"#1f9e89\"],[0.6666666666666666,\"#35b779\"],[0.7777777777777778,\"#6ece58\"],[0.8888888888888888,\"#b5de2b\"],[1.0,\"#fde725\"]],\"size\":4},\"x\":[2.601057454779614,0.9034272767622247,2.0563364416095036,1.1589234696036672,1.7938804194525289,1.3215749439533506,1.6495449106923081,1.4232529432779681,1.5829504072241183,1.4709725522541734,1.5504096528840599,1.4943913185184219,1.5341564032256916,1.506039954902419,1.525989188155241,1.5118665534078317,1.521882079272916,1.5147877319328085,1.519817390738254,1.516253726023518],\"y\":[2.601057454779614,2.5910060231049896,2.963129099991904,2.8668743087666506,3.072755727714994,3.001465693449906,3.0291086593677257,2.988203025298647,3.010338461886587,2.9892651852224326,3.001744204213725,2.9913519372340183,2.997978235955032,2.99286670937898,2.99628664791577,2.993755312996005,2.9954961669353444,2.994234974327257,2.9951151604637363,2.994484413042848],\"z\":[9.285008173048666,4.680169273815357,2.6242517936325833,1.4765157174727774,0.9073271435862448,0.541531643291128,0.3775841142469479,0.2969750688130759,0.2590425421375732,0.23973439443291833,0.23034782416254634,0.2255775832667724,0.22321772191904068,0.22202363967204045,0.22142811500262397,0.22112776381775168,0.22097741373654575,0.22090173185683032,0.2208637810584589,0.2208446977760149],\"type\":\"scatter3d\"},{\"x\":[0.8034272767622247,0.8421544232523754,0.8808815697425263,0.9196087162326771,0.9583358627228279,0.9970630092129786,1.0357901557031295,1.0745173021932803,1.1132444486834312,1.1519715951735818,1.1906987416637327,1.2294258881538835,1.2681530346440342,1.306880181134185,1.3456073276243359,1.3843344741144867,1.4230616206046376,1.4617887670947884,1.500515913584939,1.5392430600750897,1.5779702065652406,1.6166973530553914,1.6554244995455423,1.6941516460356931,1.732878792525844,1.7716059390159948,1.8103330855061457,1.849060231996296,1.887787378486447,1.9265145249765978,1.9652416714667487,2.0039688179568995,2.0426959644470504,2.0814231109372012,2.120150257427352,2.1588774039175025,2.1976045504076533,2.236331696897804,2.275058843387955,2.313785989878106,2.3525131363682568,2.3912402828584076,2.4299674293485585,2.468694575838709,2.5074217223288597,2.5461488688190106,2.5848760153091614,2.6236031617993123,2.662330308289463,2.701057454779614],\"y\":[2.4910060231049895,2.504919282382745,2.5188325416604997,2.532745800938255,2.5466590602160104,2.5605723194937653,2.5744855787715206,2.588398838049276,2.6023120973270313,2.616225356604786,2.6301386158825415,2.644051875160297,2.6579651344380517,2.671878393715807,2.6857916529935624,2.6997049122713173,2.7136181715490726,2.727531430826828,2.741444690104583,2.755357949382338,2.7692712086600935,2.783184467937849,2.7970977272156037,2.811010986493359,2.8249242457711143,2.8388375050488692,2.8527507643266246,2.86666402360438,2.880577282882135,2.89449054215989,2.9084038014376454,2.9223170607154003,2.9362303199931556,2.950143579270911,2.9640568385486663,2.977970097826421,2.9918833571041765,3.005796616381932,3.0197098756596867,3.033623134937442,3.0475363942151974,3.0614496534929527,3.0753629127707076,3.089276172048463,3.103189431326218,3.117102690603973,3.1310159498817285,3.144929209159484,3.158842468437239,3.172755727714994],\"z\":[[6.251546434657765,5.747655507622024,5.268928312718731,4.815364849947889,4.386965119309497,3.9837291208035563,3.6056568544300633,3.2527483201890197,2.925003518080427,2.622422448104285,2.345005110260591,2.0927515045493474,1.8656616309705547,1.6637354895242107,1.4869730802103163,1.335374403028872,1.2089394579798773,1.1076682450633326,1.031560764279238,0.9806170156275931,0.9548369991083977,0.9542207147216524,0.9787681624673564,1.0284793423455107,1.1033542543561146,1.2033928984991689,1.3285952747746728,1.4789613831826243,1.6544912237230278,1.8551847963958807,2.081042101201184,2.332063138138937,2.6082479072091393,2.909596408411792,3.2361086417468945,3.5877846072144424,3.9646243048144445,4.3666277345468965,4.793794896411799,5.24612579040915,5.723620416538952,6.226278774801203,6.754100865195904,7.307086687723049,7.885236242382648,8.488549529174701,9.1170265480992,9.77066729915615,10.449471782345551,11.1534399976674],[6.213464981931458,5.70984470035026,5.231388150901512,4.778095333585211,4.349966248401364,3.947000895349965,3.569199274431015,3.216561385644514,2.889087228990464,2.5867768044688653,2.3096301120797147,2.0576471518230135,1.8308279236987635,1.6291724277069624,1.452680663847611,1.3013526321207094,1.1751883325262578,1.0741877650642562,0.9983509297347045,0.9476778265376027,0.9221684554729499,0.9218228165407474,0.9466409097409947,0.9966227350736917,1.0717682925388388,1.1720775821364355,1.2975506038664826,1.448187357728977,1.6239878437239232,1.8249520618513195,2.051080012111165,2.302371694503461,2.578827109028206,2.8804462556854022,3.2072291344750474,3.5591757453971384,3.936286088451684,4.338560163638678,4.765997970958122,5.218599510410018,5.696364781994362,6.199293785711156,6.7273865215604,7.280642989542088,7.859063189656231,8.462647121902824,9.091394786281867,9.745306182793358,10.424381311437303,11.128620172213697],[6.172285091848286,5.669080361606995,5.191039363498152,4.738162097521759,4.310448563677816,3.9078987619663237,3.5305126923872803,3.178290354940686,2.851231749626541,2.549336876444849,2.272605735395604,2.0210383264788097,1.7946346496944656,1.5933947050425707,1.4173184925231253,1.26640601213613,1.1406572638815844,1.0400722477594888,0.9646509637698436,0.9143934119126476,0.8892995921879012,0.8893695045956049,0.9146031491357579,0.9650005258083616,1.0405616346134148,1.1412864755509178,1.2671750486208706,1.4182273538232713,1.5944433911581237,1.795823160625426,2.022366662225178,2.2740738959573803,2.550944861822032,2.8529795598191336,3.1801779899486844,3.532540152210682,3.9100660466051327,4.312755673132035,4.740609031791384,5.1936261225831855,5.671806945507436,6.175151500564137,6.703659787753286,7.2573318070748805,7.836167558528929,8.440167042115428,9.069330257834379,9.723657205685779,10.403147885669625,11.107802297785925],[6.128204772848167,5.625556963203815,5.14807288569191,4.695752540312455,4.2685959270654505,3.8666030459508973,3.489773896968792,3.1381084801191363,2.8116067954019304,2.510268842817177,2.2340946223648706,1.9830841340450145,1.7572373778576094,1.5565543538026527,1.3810350618801461,1.2306795020900894,1.1054876744324822,1.0054595789073255,0.9305952155146184,0.8808945842543612,0.8563576851265535,0.8569845181311956,0.8827750832682875,0.9337293805378295,1.0098474099398211,1.1111291714742628,1.2375746651411543,1.3891838909404937,1.5659568488722848,1.7678935389365256,1.9949939611332161,2.2472581154623565,2.524686001923947,2.8272776205179873,3.1550329712444776,3.5079520541034133,3.886034869094803,4.289281416218643,4.717691695474932,5.171265706863672,5.65000345038486,6.153904926038498,6.682970133824588,7.2371990737431195,7.816591745794108,8.421148149977547,9.050868286293435,9.705752154741774,10.385799755322559,11.091011088035797],[6.081433330037207,5.579479652196972,5.102689706489188,4.651063492913852,4.224601011470967,3.8233022621605324,3.4471672449825457,3.0961959599370097,2.7703884070239226,2.4697445862432876,2.194264497595101,1.943948141079364,1.7187955166960778,1.5188066244452405,1.3439814643268528,1.1943200363409152,1.0698223404874274,0.9704883767663894,0.8963181451778016,0.8473116457216635,0.8234688783979749,0.824789843206736,0.8512745401479471,0.9029229692216082,0.979735130427719,1.0817110237662797,1.2088506492372904,1.3611540068407486,1.538621096576659,1.7412519184450184,1.9690464724458283,2.222004758579088,2.5001267768447972,2.8034125272429566,3.131862009773566,3.4854752244366214,3.8642521712321303,4.268192850160088,4.697297261220497,5.151565404413355,5.630997279738662,6.135592887196421,6.66535222678663,7.22027529850928,7.800362102364387,8.405612638351945,9.036026906471953,9.69160490672441,10.372346639109315,11.078252103626674],[6.0321896724417945,5.531062583557937,5.0550992268065285,4.604299602187569,4.178663709701062,3.778191549347004,3.402883121125394,3.0527384250362344,2.7277574610795243,2.427940229255266,2.1532867295634555,1.9037969620040947,1.6794709265771859,1.4803086232827247,1.306310052120714,1.157475213091153,1.033804106194042,0.9352967314293804,0.8619530887971693,0.8137731782974078,0.7907569999300957,0.7929045536952337,0.8202158395928213,0.8726908576228589,0.9503296077853465,1.0531320900802836,1.1810983045076708,1.3342282510675059,1.5125219297597925,1.715979340584529,1.9446004835417154,2.1983853586313518,2.4773339658534383,2.781446305207974,3.1107223766949597,3.4651621803143917,3.8447657160662767,4.249532983950612,4.679463983967397,5.134558716116632,5.614817180398316,6.120239376812451,6.650825305359036,7.206574966038064,7.787488358849547,8.393565483793482,9.024806340869864,9.6812109300787,10.362779251419981,11.069511304893716],[5.980700636911626,5.480527271966389,5.0055176391536005,4.5556717384732615,4.130989569925374,3.7314711335099355,3.357116429226947,3.007925457076407,2.6838982170583177,2.3850347091726793,2.111334933419489,1.862798889798749,1.6394265783104602,1.4412179989546197,1.2681731517312291,1.1202920366402884,0.9975746536817973,0.9000210028557564,0.8276310841621655,0.7804048976010243,0.7583424431723326,0.7614437208760907,0.7897087307122986,0.8431374726809565,0.9217299467820642,1.025486153015622,1.1544060913816294,1.308489761880085,1.4877371645109918,1.6921482992743486,1.9217231661701553,2.1764617651984115,2.4563640963591182,2.7614301596522743,3.0916599550778803,3.447053482635932,3.8276107423264376,4.2333317341493935,4.664216458104799,5.120264914192655,5.601477102412958,6.107853022765713,6.63939267525092,7.196096059868569,7.777963176618671,8.384994025501225,9.017188606516228,9.674546919663683,10.357068964943586,11.064754742355941],[5.927199348457807,5.4281009823640485,4.9541663484027385,4.505395446573878,4.081788276877467,3.683344839313508,3.310065133881997,2.961949160582935,2.6389969194163236,2.3412084103821638,2.068583633480452,1.82112258871119,1.5988252760743789,1.4016916955700165,1.2297218471981035,1.082915730958641,0.9612733468516281,0.8647946948770653,0.7934797750349525,0.7473285873252893,0.7263411317480756,0.7305174083033119,0.759857416990998,0.8143611578111339,0.8940286307637199,0.9988598358487555,1.1288547730662408,1.2840134424161747,1.4643358438985596,1.6698219775133947,1.9004718432606793,2.156285441140414,2.4372627711525987,2.7434038332972324,3.074708627574317,3.431177153983847,3.8128094125258305,4.219605403200265,4.6515651260071476,5.10868858094648,5.590975768018264,6.098426687222497,6.63104133855918,7.188819722028306,7.771761837629888,8.379867685363921,9.013137265230403,9.671570577229334,10.355167621360719,11.063928397624547],[5.871923635212108,5.374015177298352,4.9012704515170435,4.453689457868186,4.031272196351779,3.6340186669678216,3.261928869716313,2.9150028045972545,2.593240471610646,2.2966418707564884,2.025207002034779,1.7789358654455198,1.5578284609887116,1.361884788664352,1.1911048484724418,1.045488640412982,0.925036164485972,0.8297474206914117,0.7596224090293017,0.7146611294996412,0.6948635821024303,0.7002297668376694,0.730759683705358,0.7864533327054968,0.8673107138380854,0.9733318271031237,1.1045166725006124,1.2608652500305484,1.442377559692936,1.649053601487774,1.8808933754150614,2.1378968814747985,2.420064119666986,2.7273950899916226,3.0598897924487094,3.4175482270382425,3.800370393760229,4.208356292614665,4.641505923601551,5.099819286720888,5.583296381972674,6.091937209356909,6.625741768873595,7.184710060522724,7.768842084304309,8.378137840218345,9.012597328264828,9.672220548443764,10.357007500755147,11.066958185198983],[5.815114514324147,5.318504037207261,4.847057292222826,4.400774279370839,3.979654998651303,3.583699450064217,3.2129076336095794,2.8672795492873924,2.5468151970976542,2.251514577040368,1.9813776891155306,1.7364045333231426,1.5165951096632058,1.3219494181357172,1.1524674587406787,1.0081492314780902,0.8889947363479511,0.7950039733502624,0.7261769424850235,0.6825136437522343,0.6640140771518946,0.670678242684005,0.7025061403485651,0.759497770145575,0.8416531320750348,0.9489722261369445,1.081455052331304,1.2391016106581116,1.4219119011173704,1.6298859237090793,1.8630236784332381,2.121325165289847,2.4047903842789053,2.7134193354004137,3.047212018654372,3.406168434040776,3.7902885815596337,4.19957246121094,4.634020072994699,5.093631416910905,5.578406492959564,6.088345301140669,6.623447841454227,7.183714113900226,7.769144118478683,8.37973785518959,9.015495324032946,9.676416525008754,10.362501458117007,11.073750123357714],[5.757014763015255,5.261803067690781,4.791755104498756,4.346870873439179,3.9271503745120535,3.532593607717378,3.1632005730551516,2.8189712705253736,2.499905700128047,2.206003861863171,1.9372657557307433,1.6936913817307657,1.475280739863239,1.282033830128161,1.1139506525255327,0.9710312070553545,0.8532754937176259,0.7606835125123473,0.6932552634395188,0.6509907464991399,0.6338899616912105,0.6419529090157312,0.6751795884727015,0.7335700000621219,0.8171241437839921,0.925842019638312,1.059723627625082,1.2187689677442999,1.402978039995969,1.612350844380088,1.8468873808966573,2.106587649545676,2.391451650327145,2.7014793832410637,3.0366708482874327,3.3970260454662466,3.782544974777515,4.193227636221233,4.6290740297974,5.090084155506018,5.576258013347085,6.087595603320603,6.624096925426569,7.1857619796649805,7.772590766035846,8.384583284539163,9.02173953517493,9.684059517943147,10.37154323284381,11.08419067987693],[5.697867586725225,5.20414780552536,4.735591756457941,4.292199439522974,3.8739708547204557,3.4809060020503892,3.11300488151277,2.7702674931076015,2.452693836834882,2.160283912694615,1.8930377206867952,1.6509552608114257,1.4340365330685074,1.2422815374580376,1.0756902739800174,0.9342627426344472,0.8179989434213273,0.7268988763406568,0.6609625413924366,0.620189938576666,0.604581067893345,0.6141359293424737,0.6488545229240524,0.708736848638081,0.7937829064845594,0.9039926964634877,1.039366218574866,1.199903472818692,1.3856044591949697,1.596469177703697,1.8324976283448746,2.093689811118502,2.380045726024579,2.691565373063106,3.0282487522340826,3.390095863537505,3.777106706973382,4.189281282541708,4.626619590242483,5.089121630075709,5.576787402041385,6.0896169061395105,6.627610142370087,7.190767110733105,7.77908781122858,8.392572243856502,9.031220408616878,9.695032305509704,10.384007934534978,11.098147295692703],[5.637915393867922,5.145772632751189,4.6787936037669065,4.2369783069150735,3.8203267421956904,3.4288389096087575,3.062514809154273,2.7213544408322394,2.4053578046426547,2.114524900585522,1.8488557286608371,1.608350288868602,1.3930085812088184,1.2028306056814828,1.0378163622865975,0.897965851024162,0.7832790718941763,0.6937560248966406,0.6293967100315548,0.5902011272989188,0.5761692766987323,0.5873011582309957,0.6235967718957091,0.685056117692872,0.771679195622485,0.8834660056845479,1.0204165478790606,1.1825308222060213,1.369808828665433,1.5822505672572953,1.8198560379816073,2.082625240838369,2.370558175827581,2.6836548429492426,3.0219152422033537,3.385339373589911,3.7739272371089223,4.187678832760382,4.626594160544292,5.090673220460653,5.579916012509464,6.094322536690725,6.633892793004434,7.198626781450588,7.788524502029197,8.403585954740256,9.043811139583765,9.709200056559725,10.399752705668133,11.115469086908995],[5.577398684202849,5.08690970564838,4.621584459226359,4.181422944936788,3.766425162779668,3.3765911127549977,3.0119207948627755,2.6724142091030036,2.358071355475682,2.068892233980811,1.8048768446183885,1.5660251873884161,1.352337262290895,1.1638130693258217,1.000452608493199,0.8622558797930256,0.7492228832253023,0.661353618790029,0.5986480864872057,0.561106286316832,0.5487282182789078,0.5615138823734337,0.5994632786004093,0.6625764069598347,0.75085326745171,0.8642938600760355,1.0028981848328105,1.1666662417220335,1.3555980307437077,1.5696935518978323,1.8089528051844066,2.0733757906034307,2.3629625081549044,2.677712957838829,3.017627139655202,3.3827050536040217,3.772946699685296,4.188352077899018,4.628921188245191,5.094654030723814,5.585550605334887,6.10161091207841,6.642834950954382,7.209222721962797,7.800774225103669,8.417489460376991,9.059368427782761,9.726411127320985,10.418617558991654,11.135987722794777],[5.516555055281622,5.027788002865638,4.564184682582103,4.125745094431016,3.7124692384123827,3.3243571145261974,2.9614087227724606,2.6236240631511745,2.311003135662338,2.023545940305953,1.761252477082016,1.5241227459905289,1.3121567470314925,1.1253544802049054,0.9637159455107678,0.8272411429490799,0.7159300725198421,0.6297827342230541,0.5687991280587162,0.532979254026828,0.5223231121273892,0.5368307023604004,0.5765020247258614,0.6413370792237724,0.7313358658541331,0.8464983846169438,0.9868246355122046,1.1523146185399127,1.3429683337000728,1.5587857809926826,1.7997669604177424,2.065911871975252,2.3572205156652117,2.6736928914876215,3.0153289994424797,3.382128839529784,3.7740924117495434,4.1912197161017515,4.633510752586411,5.100965521203519,5.593584021953077,6.111366254835085,6.654312219849542,7.222421916996442,7.815695346275801,8.43413250768761,9.077733401231866,9.746498026908574,10.44042638471773,11.159518474659336],[5.455618328890725,4.96863249442427,4.506810392090265,4.070152021888709,3.658657383819604,3.2723264778829484,2.9111593040787413,2.5751558624069846,2.2643161528676776,1.9786401754608225,1.7181279301864152,1.4827794170444577,1.2725946360349512,1.0875735871578933,0.9277162704132856,0.7930226858011276,0.6834928333214193,0.5991267129741611,0.5399243247593528,0.5058856686769941,0.49701074472708523,0.5132995529096261,0.5547520932246167,0.6213683656720574,0.7131483702519479,0.8300921069642883,0.9721995758090783,1.1394707767863164,1.3319057098960063,1.5495043751381457,1.7922667725127348,2.0601929020197742,2.3532827636592635,2.6715363574312025,3.014953683335592,3.383534741372426,3.777279531541714,4.196188053843453,4.64026030827764,5.109496294844278,5.603896013543365,6.123459464374904,6.66818664733889,7.238077562435322,7.833132209664209,8.453350589025547,9.098732700519333,9.76927854414557,10.464988119904255,11.185861427795393],[5.394817796933688,4.909663430839607,4.449672796877973,4.014845895048792,3.605182725352059,3.2206832877877773,2.8613475823559433,2.52717560905656,2.218167367889626,1.9343228588551442,1.67564208195311,1.4421250371835257,1.2337717245463924,1.0505821440417078,0.8925562956694731,0.7596941794296883,0.6519957953223532,0.5694611433474682,0.5120902235050332,0.47988303579504776,0.47283958021751193,0.49095985677242615,0.53424386545979,0.6026916062796038,0.6963030792318675,0.815078284316581,0.9590172215337445,1.1281198908833554,1.3223862923654186,1.5418164259799314,1.7864102917268945,2.0561678896063063,2.351089219618169,2.671174281762481,3.016423076039243,3.3868356024484507,3.7824118609901127,4.203151851664224,4.649055574470785,5.120123029409795,5.616354216481257,6.1377491356851674,6.684307787021528,7.256030170490334,7.852916286091592,8.474966133825303,9.122179713691464,9.794557025690073,10.492098069821132,11.214802846084641],[5.334377583823459,4.851095749228189,4.392977646765368,3.9600232764349954,3.552232638237074,3.1696057321716036,2.8121425582385813,2.4798431164380084,2.172707406769886,1.8907354292342151,1.633927183830992,1.4022826705602185,1.1958018894218965,1.0144848404160227,0.858331523542599,0.7273419388016252,0.6215160861931012,0.5408539657170273,0.4853555773734032,0.45502092116222875,0.449849997083504,0.46984280513722915,0.5149993453234042,0.5853196176420289,0.6808036220931037,0.8014513586766282,0.9472628273926027,1.118238028241025,1.3143769612218987,1.5356796263352226,1.782146023580996,2.05377615295922,2.350570014469893,2.6725276081130165,3.0196489338885892,3.3919339917966074,3.7893827818370807,4.211995304010003,4.659771558315375,5.132711544753197,5.630815263323469,6.154082714026192,6.702513896861363,7.276108811828978,7.874867458929048,8.49878983816157,9.147875949526542,9.822125793023961,10.521539368653833,11.246116676416152],[5.274516120233453,4.793138591046205,4.336924793991405,3.905874729069056,3.4999883962791576,3.11926579562171,2.7637069270967096,2.4333117907041597,2.128080386444059,1.8480127143164107,1.59310877432121,1.3633685664584594,1.15879209072816,0.9793793471303087,0.8251303356649076,0.6960450563319562,0.5921235091314547,0.5133656940634033,0.4597716111278017,0.4313412603246499,0.4280746416539476,0.4499717551156952,0.4970326007098928,0.5692571784365401,0.6666454882956374,0.7891975302871844,0.9369133044111813,1.109792810667626,1.3078360490565224,1.5310430195778686,1.779413722231665,2.052948157017911,2.3516463239366074,2.675508222987753,3.024533854171348,3.39872321748739,3.798076312935885,4.222593140516829,4.672273700230224,5.147117992076069,5.647126016054362,6.172297772165108,6.722633260408302,7.29813248078394,7.898795433292034,8.524622117932577,9.175612534705573,9.851766683611013,10.553084564648909,11.279566177819248],[5.215445721024002,4.73599492407327,4.281707859254986,3.8525845265691534,3.44862492601577,3.0698290575948373,2.7161969213063535,2.3877285171503186,2.0844238451267345,1.8062829052356013,1.5533056974769166,1.3254922218506817,1.1228424783568978,0.9453564669955623,0.7930341877666769,0.6658756406702414,0.5638808257062554,0.4870497428747197,0.43538239217563385,0.4088787736089977,0.4075388871748111,0.4313627328730744,0.4803503107037877,0.5545016206669506,0.6538166627625636,0.7782954369906264,0.9279379433511391,1.1027441818440995,1.3027141524695112,1.5278478552273738,1.7781452901176855,2.053606457140447,2.3542313562956587,2.68001998758332,3.0309723510034314,3.4070884465559885,3.8083682742409994,4.234811834058459,4.68641912600837,5.163190150090731,5.665124906305541,6.192223394652801,6.744485615132511,7.321911567744665,7.9245012524892715,8.552254669366334,9.205171818375842,9.883252699517804,10.586497312792211,11.31490565819907],[5.157372258355897,4.679861259451897,4.227513992680345,3.8003304580412434,3.398310655534592,3.0214545851603916,2.669762246918639,2.343233640809336,2.0418687668324833,1.765667624988082,1.5146302152761286,1.2887565376966252,1.0880465922495732,0.9125003789349697,0.7621178977528158,0.6368991487031119,0.5368441317858579,0.4619528470010537,0.4122252943486997,0.3876614738287951,0.38826138544134037,0.4140250291863353,0.46495240506378027,0.5410435130736752,0.6422983532160197,0.7687169254908142,0.9202992298980587,1.0970452664377508,1.2989550351098944,1.5260285359144883,1.7782657688515322,2.0556667339210253,2.358231431122969,2.685959860457362,3.0388520219242046,3.416907915523493,3.820127541255236,4.248510899119428,4.702057989116071,5.180768811245161,5.684643365506704,6.213681651900697,6.767883670427138,7.347249421086023,7.951778903877363,8.581472118801157,9.236329065857396,9.916349745046087,10.621534156367225,11.351882299820819],[5.100494919455426,4.62492745304792,4.174523718772861,3.749283716630255,3.349207446620097,2.974294908742391,2.624546102997132,2.2999610293843245,2.000539687903965,1.7262820785560582,1.4771882013405995,1.2532580562575906,1.0544916433070326,0.880888962488923,0.7324500138032634,0.6091747972500539,0.5110633128292938,0.438115560540984,0.390331540385124,0.3677112523617138,0.3702546964707531,0.39796187271224237,0.45083278108618136,0.5288674215925704,0.6320657942314094,0.7604278990026978,0.9139537359064366,1.0926433049426225,1.2964966061112606,1.5255136394123485,1.7796944048458863,2.0590389024118743,2.363547132110311,2.693219093941199,3.048054787904536,3.4280542140003187,3.833217372228555,4.263544262589242,4.719034885082379,5.199689239707964,5.705507326466,6.2364891453564875,6.792634696379423,7.373943979534801,7.980416994822637,8.612053742242923,9.268854221795658,9.950818433480842,10.657946377298476,11.390238053248561],[5.045006037231989,4.571376579136848,4.122910853174155,3.6996088593439147,3.3014705976461234,2.928496068080782,2.580685270647889,2.258038205347446,1.9605548721794532,1.6882352711439117,1.4410794022408182,1.2190872654701748,1.022258860831982,0.8505941883262383,0.7040932479529444,0.5827560397121002,0.4865825636037059,0.4155728196277615,0.36972680778426714,0.3490445280732224,0.3535259804946273,0.3831711650484821,0.43798008173478675,0.5179527305535413,0.6230891115047457,0.7533892245883999,0.9088530698045041,1.0894806471530558,1.2952719566340591,1.526226998247513,1.7823457719934164,2.063628277871769,2.3700745158825725,2.701684486025825,3.058458188301528,3.440395622709677,3.8474967892502785,4.2797616879233304,4.737190318728834,5.219782681666785,5.727538776737186,6.260458603940037,6.818542163275339,7.401789454743084,8.010200478343284,8.643775234075939,9.302513721941038,9.986415941938587,10.695481894068587,11.429711578331037],[4.991090980989422,4.5193848634651195,4.072842478073265,3.6514638248138622,3.2552489036869083,2.884197714692405,2.538310257830351,2.2175865331007465,1.9220265405035915,1.6516302800388878,1.4063977517066326,1.1863289555068273,0.991423891439473,0.8216825595045673,0.6771049597021113,0.5576910920321054,0.46344095649454914,0.39435455308944295,0.35043188181678675,0.33167294267658015,0.33807773566882315,0.36964626079351615,0.426378518050659,0.5082745074402517,0.6153342289622942,0.7475576826167865,0.9049448684037289,1.0874957863231187,1.2952104363749604,1.5280888185592523,1.7861309328759936,2.0693367793251847,2.3777063579068263,2.7112396686209177,3.069936711467458,3.453797486446445,3.8628219935578847,4.297010232801775,4.7563622041781155,5.2408779076869045,5.750557343328144,6.285400511101835,6.845407411007974,7.430578043046556,8.040912407217595,8.676410503521087,9.337072331957025,10.022897892525414,10.733887185226251,11.470040210059539],[4.938928093829575,4.469121662097399,4.024478962497669,3.6049999950303913,3.2106847596955634,2.8415332564931854,2.497545485423256,2.1787214464857767,1.885061139680747,1.6165645650081688,1.3732317224680386,1.1550626120603589,0.9620572337851295,0.794215587642349,0.6515376736320184,0.5340234917541377,0.4416730420087068,0.37448632439572577,0.3324633389151948,0.3156040855671134,0.3239085643514817,0.35737677526829986,0.41600871831756797,0.4998043934992859,0.6087638008134537,0.7428869402600712,0.9021738118391389,1.086624415550654,1.2962387513946207,1.5310168193710376,1.7909586194799045,2.076064151721221,2.3863334160949874,2.7217664126012044,3.08236314123987,3.4681236020109814,3.8790477949145465,4.315135719950563,4.776387377119028,5.262802766419943,5.774381887853309,6.311124741419124,6.873031327117388,7.460101644948097,8.07233569491126,8.709733477006875,9.37229499123494,10.060020237595454,10.772909216088417,11.51096192671383],[4.88868866302851,4.420749472148463,3.9779740134008654,3.5603622867857165,3.1679142923030197,2.8006300299527727,2.4585094997349746,2.141552701649626,1.8497596356967272,1.58313030187628,1.3416647001882809,1.1253628306327317,0.9342246932096335,0.7682502879189838,0.627439614760784,0.5117926737350342,0.4213094648417342,0.35598998808088406,0.315834243452484,0.30084223095653345,0.31101395059303266,0.3463494023619817,0.4068485862633807,0.4925115022972295,0.6033381504635281,0.7393285307622767,0.900482643193475,1.0868004877571211,1.298282064453219,1.5349273732817665,1.7967364142427642,2.0837091873362117,2.395845692562109,2.733145929920456,3.095609899411253,3.4832376010344963,3.8960290347901916,4.333984200678339,4.797103098698934,5.28538572885198,5.798832091137477,6.337442185555422,6.901216012105818,7.490153570788658,8.104254861603952,8.743519884551699,9.407948639631892,10.097541126844538,10.812297346189633,11.552217297667177],[4.840536909672795,4.374423960511707,3.9334747434830644,3.517689258586873,3.1270675058231334,2.761609485191843,2.421315196693001,2.106184640326609,1.8162178160926672,1.5514147239911764,1.3117753640221337,1.0972997361855414,0.9079878404813997,0.7438396769097068,0.6048552454704637,0.4910345461636706,0.4023775789893272,0.3388843439474338,0.3005548410379903,0.2873890702609964,0.2993870316164523,0.336548725104358,0.3988741507247137,0.4863633084775192,0.5990161983627746,0.7368328203804796,0.8998131745306349,1.0879572608132373,1.301265079228292,1.5397366297757966,1.8033719124557508,2.0921709272681546,2.406133674213009,2.745260153290313,3.109550364500066,3.499004307842265,3.9136219833169186,4.353403390924021,4.818348530663575,5.308457402535578,5.82373000654003,6.364166342676933,6.929766410946286,7.52053021134808,8.136457743882332,8.777549008549034,9.443804005348186,10.135222734279786,10.851805195343838,11.59355138854034],[4.794629984170145,4.330293997030107,3.8911217420225177,3.4771132191473777,3.0882684284046893,2.724587369794451,2.3860700433166615,2.072716448971321,1.7845265867584312,1.5215004566779924,1.2836380587300016,1.070939392914461,0.8834044592313713,0.72103325768073,0.5838257882625388,0.4717820509767976,0.3849020458235061,0.32318577280266453,0.2866332319142729,0.2752444231583309,0.28901934653483863,0.32795800204379627,0.39206038968520374,0.4813265094590611,0.5957563613653682,0.7353499454041252,0.9001072615753322,1.0900283098789867,1.3051130903150934,1.5453616028836494,1.8107738475846553,2.1013498244181115,2.4170895333840177,2.7579929744823732,3.124060147713179,3.5152910530764294,3.9316856905721353,4.373244060200289,4.839966161960895,5.331851995853949,5.848901561879454,6.3911148600374075,6.958491890327813,7.55103265275066,8.168737147305961,8.811605373993716,9.47963733281392,10.172833023766573,10.891192446851676,11.63471560206923],[4.751117954882859,4.288501679197649,3.851049135644886,3.4387603242245723,3.0516352449367106,2.6896738977812986,2.3528762827583347,2.041242399867822,1.754772249109758,1.4934658304841453,1.257323143990981,1.046344189630267,0.8605289674020039,0.6998774773061892,0.5643897193428244,0.4540656935119097,0.3689053998134447,0.30890883824742954,0.2740760088138644,0.2644069115127488,0.27990154634408304,0.32055991330786704,0.386382012404101,0.47736784363278484,0.5935174069939185,0.7348307024875019,0.9013077301135356,1.0929484898720165,1.3097529817629492,1.5517212057863319,1.8188531619421648,2.111148850230447,2.42860827065118,2.771231423204362,3.139018307889993,3.5319689247080714,3.9500832736586022,4.393361354741584,4.861803167957015,5.355408713304896,5.874177990785228,6.418111000398009,6.98720774214324,7.581468216020914,8.200892422031043,8.845480360173623,9.515232030448654,10.210147432856134,10.930226567396064,11.675469434068443],[4.7101437780568896,4.249182336411891,3.8133846268993414,3.4027506495192408,3.0172804042715917,2.656973891156392,2.3218311101736413,2.011852061323341,1.7270367446054895,1.46738516002009,1.2328973075671388,1.0235731872466372,0.8394127990585866,0.6804161430029846,0.5465832190798326,0.4379140272891305,0.35440856763087825,0.29606684010507583,0.26288884471172336,0.25487458145082054,0.27202405032236743,0.31433725132636425,0.381814184462811,0.47445484973170743,0.5922592471330538,0.7352273766668499,0.9033592383330961,1.09665483213179,1.3151141580629355,1.5587372161265307,1.827524006322576,2.121474528651071,2.440588783112017,2.784866769705411,3.1543084884312558,3.548913939289546,3.9686831222802903,4.413616037403485,4.883712684659129,5.378973064047223,5.899397175567765,6.444985019220759,7.015736595006204,7.611651902924089,8.232730942974431,8.878973715157224,9.550380219472466,10.24695045592016,10.968684424500303,11.715582125212896],[4.67184323840975,4.212464502998043,3.7782494997187865,3.3691982285719795,2.985310689557623,2.6265868826757166,2.293026807926259,1.984630465309251,1.701397854824693,1.4433289764725863,1.2104238302529278,1.0026824161657193,0.8201047342109617,0.6626907843886528,0.5304405666987937,0.42335408114138456,0.3414313277164252,0.2846723064239157,0.2530770172638563,0.24664546023624648,0.2653776353410863,0.3092735425783761,0.37833318194811566,0.47255655345030523,0.5919436570849445,0.7364944928520337,0.906209060751573,1.1010873607835594,1.321129392947998,1.5663351572448863,1.8367046536742244,2.132237882236013,2.4529348429302504,2.798795535756939,3.169819960716076,3.5660081178076597,3.9873600070316964,4.433875628388184,4.9055549818771205,5.402398067498508,5.924404885252344,6.471575435138631,7.043909717157367,7.641407731308545,8.26406947759218,8.91189495600827,9.584884166556803,10.28303710923779,11.006353784051225,11.75483419099711],[4.636344851169091,4.178469850663077,3.7457585822895103,3.338211046048394,2.955827241939728,2.598607169963512,2.266550830119745,1.959658222408428,1.6779293468295602,1.4213642033831442,1.1899627920691764,0.9837251128876585,0.8026511658385916,0.6467409509219731,0.5159944681378048,0.4104117174860862,0.3299926989668176,0.27473741257999873,0.24464585832562988,0.23971803620371057,0.2599539462142411,0.30535358835722143,0.37591696263265173,0.4716440690405318,0.5925349075808617,0.7385894782536415,0.9098077810588713,1.1061898159965484,1.3277355830666777,1.5744450822692568,1.8463183136042853,2.1433552770717643,2.465555972671693,2.8129204004040713,3.1854485602688998,3.5831404522661736,4.005996076395902,4.454015432658079,4.927198521052707,5.425545341579784,5.949055894239311,6.497730179031288,7.071568195955717,7.670569945012585,8.294735426201912,8.944064639523688,9.618557584977914,10.318214262564592,11.043034672283715,11.79301881413529],[4.6037697179871415,4.147313072682087,3.7160201595094797,3.309890978469323,2.928925529561617,2.573123812786361,2.2424858281435536,1.937011575633196,1.6567010552552888,1.4015542670098327,1.1715712108968246,0.9667518869162666,0.7870962950681591,0.6326044353525007,0.5032763077692922,0.3991119123185334,0.32011124900022453,0.2662743178143655,0.23760111876095655,0.23409165183999703,0.25574591705148736,0.30256391439542757,0.3745456438718177,0.4716911054806576,0.5940002992219473,0.7414732250956869,0.9141098831018766,1.1119102732405137,1.3348743955116023,1.5830022499151415,1.8562938364511303,2.154749155119569,2.4783682059204573,2.8271509888537953,3.2010975039195833,3.600207751117817,4.024481730448504,4.473919441911642,4.9485208855072305,5.448286061235267,5.9732149690957534,6.523307609088691,7.0985639812140775,7.698984085471908,8.324567921862194,8.97531549038493,9.651226791040116,10.352301823827753,11.078540588747837,11.829943085800375],[4.574231330958037,4.119101713931671,3.6891358290377547,3.2843336762762876,2.9046952556472716,2.5502205671507054,2.2209096107865873,1.9167623865549195,1.637778894455702,1.3839591344889353,1.1553031066546169,0.9518108109527484,0.7734822473833308,0.6203174159463621,0.49231631664184317,0.38947894946977407,0.3118053144301549,0.25929541152298563,0.23194924074826626,0.22976680210599648,0.25274809559617645,0.30089312121880635,0.3742018789738861,0.47267436886141584,0.5963105908813953,0.7451105450338245,0.9190742313187038,1.1182016497360305,1.342492800285809,1.5919476829680377,1.8665662977827158,2.1663486447298443,2.4912947238094225,2.8414045350214505,3.2166780783659283,3.6171153538428507,4.0427163614522295,4.493481101194057,4.969409573068333,5.470501777075058,5.996757713214237,6.548177381485863,7.124760781889939,7.726507914426461,8.353418779095433,9.005493375896863,9.682731704830736,10.385133765897063,11.112699559095839,11.865429084427063],[4.547835320895467,4.093935942826579,3.6652002968901387,3.2616283830861486,2.8832202014146104,2.5299757518755213,2.2018950344688806,1.8989780491946902,1.6212247960529496,1.3686352750436603,1.1412094861668192,0.9389474294224279,0.7618491048104876,0.6099145123309961,0.4831436519839544,0.38153652376936253,0.3050931276872205,0.2538134637375285,0.22769753192028636,0.2267453322354939,0.2509568646831511,0.3003321292632582,0.3748711259758153,0.4745738548208221,0.5994403157982788,0.7494705089081853,0.9246644341505419,1.125022091525346,1.3505434810326016,1.6012286026723075,1.8770774564444632,2.1780900423490683,2.504266360386124,2.8556064105556294,3.2321101928575846,3.633777707291985,4.06060895385884,4.512603932558145,4.9897626433898985,5.492085086354103,6.019571261450755,6.57222116867986,7.150034808041414,7.753012179535411,8.381153283161863,9.034458118920769,9.71292668681212,10.416558986835923,11.145355018992175,11.899314783280879],[4.524679148045082,4.071908263244494,3.6443011105763534,3.2418576900406633,2.864578001637424,2.5124620453666346,2.1855098212282926,1.8837213292224024,1.6070965693489612,1.355635541607971,1.1293382459994294,0.9282046825233378,0.7522348511796967,0.6014287519685046,0.4757863848897623,0.37530774994346994,0.2999928471296275,0.24984167644823477,0.22485423789929201,0.2250305314827989,0.25037055719875556,0.3008743150471621,0.37654180502801854,0.47737302714132485,0.6033679813870809,0.7545266677652869,0.9308490862759429,1.132335236919046,1.3589851196946015,1.6107987346026067,1.8877760816430615,2.189917160815966,2.517221972121321,2.869690515559126,3.2473227911293803,3.65011879883208,4.078078538667236,4.5312020106348365,5.0094892147348915,5.5129401509673945,6.041554819332348,6.595333219829753,7.174275352459605,7.778381217221901,8.407650814116653,9.062084143143855,9.741681204303509,10.446441997595612,11.176366523020164,11.931454780577166],[4.504851735466541,4.053103166596096,3.626518329858098,3.225097225252549,2.8488398527794514,2.497746212438805,2.1718163042306053,1.8710501281548568,1.5954476842115581,1.3450089724007104,1.1197339927223111,0.9196227451763616,0.7446752297628628,0.594891446481813,0.47027139533321305,0.3708150763170629,0.29652248943336257,0.24739363468211215,0.2234285120633117,0.22462712157696085,0.25098946322305976,0.30251553700160855,0.37920534291260716,0.48105888095605576,0.6080761511319542,0.7602571534403021,0.9376018878811007,1.140110354454346,1.3677825531600436,1.6206184839981912,1.8986181469687882,2.201781542071836,2.530108669307333,2.8835995286752794,3.2622541201756765,3.6660724438085177,4.0950544995738145,4.549200287471561,5.028509807501757,5.532983059664402,6.062620043959498,6.617420760387043,7.197385208947039,7.802513389639477,8.432805302464374,9.088260947421716,9.768880324511514,10.474663433733758,11.20561027508845,11.961720848575597],[4.488433047379909,4.037596726269475,3.6119241372914903,3.211415280445955,2.8360701557328714,2.485888763152237,2.1608711027040512,1.8610171743883155,1.5863269782050295,1.336800514154195,1.1124377822358087,0.9132387824498726,0.7392035147963867,0.59033197927535,0.4666241758867631,0.368080104630626,0.29469976550693894,0.24648315851570166,0.22343028365691428,0.22554114093057648,0.2528157303366885,0.30525405187525045,0.3828561055462622,0.48562189134972394,0.6135514092856355,0.7666446593539967,0.944901641554808,1.1483223558880669,1.3769068023537776,1.6306549809519382,1.9095668916825483,2.213642534545609,2.5428819095411193,2.8972850166690787,3.2768518559294892,3.681582427322343,4.111476730847653,4.566534766505413,5.046756534295622,5.552142034218281,6.082691266273388,6.6384042304609485,7.219280926780957,7.8253213552334095,8.456525515818317,9.112893408535674,9.794425033385483,10.501120390367738,11.232979479482447,11.990002300729603],[4.475493616786884,4.025456138706128,3.600582392757819,3.2008723789419604,2.826326097258553,2.4769435477075947,2.1527247302890857,1.853669645003027,1.5797782918494176,1.3310506708282595,1.1074867819395497,0.90908662518329,0.7358502005594811,0.5877775080681209,0.4648685477092105,0.3671233194827501,0.29454182338873947,0.24712405942717874,0.22487002759806804,0.2277797279014068,0.25585316033719535,0.3090903249054338,0.3874912216061221,0.49105585043926037,0.6197842114048484,0.7736763045028863,0.9527321297333742,1.1569516870963092,1.3863349765916966,1.640881998219534,1.9205927519798207,2.2254672378725573,2.5555054558977446,2.9107074060553813,3.2910730883454677,3.696602502767999,4.127295649322985,4.583152528010421,5.0641731388303075,5.570357481782643,6.101705556867428,6.658217364084663,7.239892903434347,7.846732174916475,8.47873517853106,9.135901914278096,9.818232382157579,10.525726582169513,11.258384514313896,12.016206178590732],[4.466094028606605,4.016739217307456,3.592548138140755,3.193520791106505,2.8196571762047045,2.470957293435355,2.147421142798454,1.8490487242940026,1.575840037922001,1.3277950836824508,1.1049138615753489,0.907196371600697,0.7346426137584957,0.5872525880487435,0.46502629447144084,0.3679637330265883,0.29606490371418553,0.24932980653423262,0.22775844148672963,0.23135080857167628,0.26010690778907264,0.31402673913891893,0.3931103026212152,0.4973575982359612,0.6267686259831571,0.7813433858628028,0.9610818778748986,1.1659841020194415,1.3960500582964366,1.6512797467058815,1.9316731672477765,2.237230319922121,2.567951204728916,2.9238358216681606,3.3048841707398546,3.711096251943994,4.142472065280587,4.599011610749631,5.080714888351125,5.587581898085068,6.119612639951461,6.676807113950305,7.259165320081599,7.866687258345335,8.499372928741526,9.157222331270168,9.84023546593126,10.548412332724801,11.281752931650797,12.040257262709234],[4.46028436636805,4.011493847185658,3.5878670601357134,3.1894040052182198,2.8161046824331764,2.4679690917805828,2.1449972332604377,1.847189106872743,1.5745447126174985,1.3270640504947047,1.1047471205043595,0.9075939226464641,0.7356044569210194,0.5887787233280235,0.46711672186747755,0.37061845253938147,0.29928391534373516,0.2531131102805388,0.2321060373497923,0.23626269655149543,0.26558308788564844,0.3200672113522512,0.399715066951304,0.5045266546828066,0.634501974546759,0.7896410265431613,0.9699438106720133,1.1754103269333127,1.4060405753270644,1.661834555853266,1.9427922685119172,2.248913713303019,2.5801988902265705,2.9366477992825706,3.318260440471022,3.7250368137919168,4.156976919245268,4.614080756831068,5.096348326549317,5.603779628400018,6.136374662383167,6.694133428498767,7.277055926746816,7.885142157127311,8.518392119640257,9.176805814285657,9.860383241063504,10.569124399973804,11.303029291016552,12.062097914191751],[4.458103632138776,4.009757410423138,3.5865749208399467,3.188556163389206,2.8157011380709167,2.4680098448850765,2.1454822838316847,1.8481184549107437,1.5759183581222522,1.328881993466212,1.10700936094262,0.9103004605514781,0.7387552922927868,0.5923738561665444,0.47115615217275186,0.3751021803114092,0.30421194058251644,0.25848543298607346,0.2379226575220804,0.242523614190537,0.27228830299144335,0.32721672392479967,0.40730887699060575,0.5125647621888618,0.6429843795195677,0.7985677289827232,0.9793148105783289,1.185225624306382,1.416300170166887,1.6725384481598418,1.9539404582852467,2.260506200543101,2.592235674933406,2.949128881456161,3.3311858201113647,3.7384064908990133,4.170790893819118,4.628339028871671,5.111050896056676,5.618926495374128,6.151965826824031,6.710168890406384,7.293535686121188,7.902066213968433,8.535760473948134,9.194618466060287,9.878640190304889,10.58782564668194,11.322174835191444,12.081687755833396],[4.459579150808483,4.01155619295602,3.5886969672360025,3.191001473648437,2.8184697121933215,2.4711016828706565,2.1488973856804394,1.8518568206226727,1.5799799876973561,1.3332668869044904,1.111717518244073,0.9153318817161056,0.7441099773205891,0.5980518050575212,0.47715736492690336,0.3814266569287353,0.3108596810630172,0.26545643732974883,0.24521692572893045,0.25014114626056166,0.28022909892464265,0.33548078372117357,0.4158962006501543,0.5214753497115848,0.6522182309054654,0.8081248442317955,0.9891951896905758,1.1954292672818034,1.4268270770054832,1.6833886188616127,1.9651138928501921,2.272002898971221,2.6040556372247012,2.96127210761063,3.3436523101290088,3.751196244779832,4.183903911563111,4.64177531047884,5.124810441527017,5.633009304707645,6.166371900020722,6.72489822746625,7.308588287044228,7.917442078754648,8.551459602597525,9.210640858572855,9.89498584668063,10.604494566920856,11.339167019293534,12.09900320379866],[4.464725971055676,4.016904785419614,3.5942473319160007,3.196753610544838,2.8244236213061256,2.4772573641998625,2.155254839226048,1.858416046384684,1.5867409856757695,1.3402296570993066,1.1188820606552916,0.9226981963437269,0.7516780641646128,0.6058216641179475,0.48512899620373207,0.38960006042196665,0.319234856772651,0.27403338525578513,0.2539956458713693,0.259121638619403,0.28941136349988655,0.34486482051281997,0.4254820096582032,0.5312629309360364,0.6622075843463193,0.8183159698890522,0.999588087564235,1.206023937371865,1.4376235193119475,1.6943868333844794,1.976313879589461,2.283404657926893,2.615659168396775,2.9730774109991063,3.3556593857338877,3.7634050926011144,4.1963145316007955,4.654387702732926,5.137624605997507,5.646025241394536,6.179589608924018,6.738317708585948,7.322209540380327,7.93126510430715,8.565484400366428,9.22486742855816,9.909414188882339,10.619124681338969,11.353998905928046,12.114036862649575],[4.47354627628091,4.02580549126134,3.6032284383742192,3.205815117619548,2.833565528997328,2.486479672507558,2.1645575481502357,1.8677991559253648,1.5962044958329429,1.3497735678729723,1.1285063720454498,0.9324029083503776,0.7614631767877559,0.6156871773575832,0.49507491005986026,0.3996263748945873,0.32934157186176405,0.2842205009613908,0.26426316219346746,0.26946955555799357,0.29983968105496966,0.3553735386843955,0.43607112844627127,0.5419324503405968,0.6729575043673724,0.8291462905265976,1.010498808818273,1.2170150592423956,1.4486950417989704,1.705538756487995,1.9875462033094693,2.2947173822633933,2.6270522933497675,2.9845509365685916,3.3672133119198655,3.7750394194035843,4.208029259019758,4.66618283076838,5.149500134649455,5.657981170662977,6.191625938808949,6.750434439087374,7.334406671498246,7.94354263604156,8.577842332717331,9.237305761525555,9.921932922466228,10.631723815539347,11.36667844074492,12.126796798082943],[4.486028819470407,4.038247756119103,3.6156304249002473,3.218176825813842,2.8458869588598867,2.4987608240383823,2.1767984213493254,1.8799997507927193,1.608364812368563,1.3618936060768574,1.1405861319176005,0.9444423898907935,0.7734623799964373,0.6276461022345299,0.5069935566050724,0.4115047431080647,0.341179661743507,0.296018312511399,0.27602069541174096,0.2811868104445325,0.3115166576097739,0.3670102369074652,0.44766754833760636,0.5534885919001974,0.684473367595238,0.8406218754227287,1.0219341153826695,1.2284100874750572,1.4600497916998973,1.716853228057187,1.9988203965469271,2.3059512971691167,2.638245929923756,2.995704294810846,3.3783263918303845,3.7861122209823685,4.219061782266809,4.677175075683696,5.1604521012330355,5.668892858914822,6.202497348729062,6.76126557067575,7.345197524754888,7.954293210966468,8.588552629310506,9.247975779786993,9.93256266239593,10.642313277137319,11.377227624011153,12.13730570301744],[4.502148396344334,4.054207632865637,3.6314306015193876,3.2338173023055887,2.86136773522424,2.5140819002753414,2.191959797458892,1.8950014267748923,1.6232067882233423,1.3765758818042435,1.1551087075175932,0.958805265363393,0.787665555341643,0.6416895774523421,0.5208773316954911,0.42522881807109003,0.35474403657913883,0.30942298721963735,0.28926566999258585,0.29427208489798395,0.32444223193583194,0.37977611110612974,0.4602737224088774,0.5659350658440749,0.6967601414117223,0.8527489491118196,1.0339014889443667,1.2402177609093614,1.4716977650068077,1.7283415012367043,2.0101489695990504,2.3171201700938466,2.6492551027210927,3.006553767480789,3.389016164372935,3.796642293397525,4.229432154554571,4.687385747844066,5.17050307326601,5.6787841308204055,6.2122289205072505,6.770837442326545,7.354609696278289,7.963545682362478,8.597645400579122,9.256908850928218,9.941336033409758,10.650926948023752,11.385681594770194,12.14559997364909],[4.52186537123553,4.073647296822489,3.6505929545418954,3.252702344393751,2.879975466378059,2.532412320494815,2.210012906744021,1.9127772251256767,1.6407052756397824,1.393797058286339,1.1720525730653442,0.9754718199767992,0.8040547990207049,0.6578015101970596,0.536711953505864,0.4407861289471183,0.37002403652082255,0.3244256762269766,0.30399104806558064,0.30872015203663417,0.33861298814013757,0.3936695563760908,0.473889856744494,0.5792738892453471,0.7098216538786498,0.8655331506444024,1.0464083795426051,1.2524473405732548,1.4836500337363572,1.740016459031909,2.021546616459911,2.3282405060203626,2.660098127713264,3.0171194815386153,3.3993045674964164,3.8066533855866633,4.239165935809363,4.696842218164514,5.179682232652115,5.687685979272164,6.220853458024665,6.779184668909616,7.362679611927015,7.971338287076857,8.605160694359158,9.264146833773905,9.948296705321106,10.657610309000756,11.392087644812854,12.151728712757402],[4.545125269933698,4.096514625447882,3.673067713094515,3.274784532873598,2.901665084785132,2.5537093688291157,2.230917385005548,1.9332891333144304,1.660824613755762,1.4135238263295453,1.1913867710357773,0.9944134478744585,0.8226038568455909,0.6759579979491721,0.554475871185203,0.458157476553684,0.38700281405461473,0.34101188368799534,0.3201846854538259,0.324521219352106,0.35402148538283595,0.40868548354601575,0.4885132138416454,0.5935046762697249,0.7236598708302544,0.8789787975232336,1.0594614563486626,1.2651078473065391,1.495917970396868,1.7518918256196465,2.033029412974875,2.3393307324625527,2.670795784082681,3.027424567835259,3.4092170837202866,3.8161733317377595,4.2482933118876876,4.705577024170064,5.188024468584891,5.695635645132168,6.228410553811894,6.78634919462407,7.369451567568698,7.977717672645768,8.611147509855293,9.269741079197269,9.953498380671697,10.662419414278572,11.396504180017894,12.155752677889671],[4.571858453219691,4.122742856303279,3.698790991519317,3.300002858867803,2.9263784583487413,2.5779177899621293,2.2546208537079657,1.9564876495862518,1.683518177596988,1.4357124377401755,1.2130704300158113,1.015592154423897,0.8432776109644334,0.6961267996374186,0.5741397204428539,0.4773163733807388,0.40565675845107374,0.3591608756538584,0.3378287249890931,0.3416603064567774,0.37065562005691144,0.4248146657894954,0.5041374436545292,0.6086239536520129,0.7382741957819464,0.8930881700443297,1.073065876439163,1.2782073149664437,1.5085124856261765,1.7639813884183588,2.0446140233429917,2.3504103904000737,2.681370489589606,3.037494320911588,3.41878188436602,3.8252331799528974,4.2568482076722285,4.71362696752401,5.195569459508242,5.702675683624922,6.234945639874052,6.792379328255634,7.374976748769663,7.982737901416137,8.615662786195069,9.273751403106447,9.957003752150278,10.665419833326556,11.398999646635287,12.157743192076468]],\"type\":\"surface\"}],                        {\"autosize\":true,\"height\":700,\"scene\":{\"aspectmode\":\"manual\",\"aspectratio\":{\"x\":1,\"y\":1,\"z\":0.7},\"camera\":{\"eye\":{\"x\":-1.7428,\"y\":1.0707,\"z\":0.71},\"up\":{\"x\":0,\"y\":0,\"z\":1}},\"xaxis\":{\"gridcolor\":\"rgb(255, 255, 255)\",\"showbackground\":true,\"zerolinecolor\":\"rgb(255, 255, 255)\"},\"yaxis\":{\"gridcolor\":\"rgb(255, 255, 255)\",\"showbackground\":true,\"zerolinecolor\":\"rgb(255, 255, 255)\"},\"zaxis\":{\"gridcolor\":\"rgb(255, 255, 255)\",\"showbackground\":true,\"zerolinecolor\":\"rgb(255, 255, 255)\"}},\"template\":{\"data\":{\"barpolar\":[{\"marker\":{\"line\":{\"color\":\"#E5ECF6\",\"width\":0.5},\"pattern\":{\"fillmode\":\"overlay\",\"size\":10,\"solidity\":0.2}},\"type\":\"barpolar\"}],\"bar\":[{\"error_x\":{\"color\":\"#2a3f5f\"},\"error_y\":{\"color\":\"#2a3f5f\"},\"marker\":{\"line\":{\"color\":\"#E5ECF6\",\"width\":0.5},\"pattern\":{\"fillmode\":\"overlay\",\"size\":10,\"solidity\":0.2}},\"type\":\"bar\"}],\"carpet\":[{\"aaxis\":{\"endlinecolor\":\"#2a3f5f\",\"gridcolor\":\"white\",\"linecolor\":\"white\",\"minorgridcolor\":\"white\",\"startlinecolor\":\"#2a3f5f\"},\"baxis\":{\"endlinecolor\":\"#2a3f5f\",\"gridcolor\":\"white\",\"linecolor\":\"white\",\"minorgridcolor\":\"white\",\"startlinecolor\":\"#2a3f5f\"},\"type\":\"carpet\"}],\"choropleth\":[{\"colorbar\":{\"outlinewidth\":0,\"ticks\":\"\"},\"type\":\"choropleth\"}],\"contourcarpet\":[{\"colorbar\":{\"outlinewidth\":0,\"ticks\":\"\"},\"type\":\"contourcarpet\"}],\"contour\":[{\"colorbar\":{\"outlinewidth\":0,\"ticks\":\"\"},\"colorscale\":[[0.0,\"#0d0887\"],[0.1111111111111111,\"#46039f\"],[0.2222222222222222,\"#7201a8\"],[0.3333333333333333,\"#9c179e\"],[0.4444444444444444,\"#bd3786\"],[0.5555555555555556,\"#d8576b\"],[0.6666666666666666,\"#ed7953\"],[0.7777777777777778,\"#fb9f3a\"],[0.8888888888888888,\"#fdca26\"],[1.0,\"#f0f921\"]],\"type\":\"contour\"}],\"heatmapgl\":[{\"colorbar\":{\"outlinewidth\":0,\"ticks\":\"\"},\"colorscale\":[[0.0,\"#0d0887\"],[0.1111111111111111,\"#46039f\"],[0.2222222222222222,\"#7201a8\"],[0.3333333333333333,\"#9c179e\"],[0.4444444444444444,\"#bd3786\"],[0.5555555555555556,\"#d8576b\"],[0.6666666666666666,\"#ed7953\"],[0.7777777777777778,\"#fb9f3a\"],[0.8888888888888888,\"#fdca26\"],[1.0,\"#f0f921\"]],\"type\":\"heatmapgl\"}],\"heatmap\":[{\"colorbar\":{\"outlinewidth\":0,\"ticks\":\"\"},\"colorscale\":[[0.0,\"#0d0887\"],[0.1111111111111111,\"#46039f\"],[0.2222222222222222,\"#7201a8\"],[0.3333333333333333,\"#9c179e\"],[0.4444444444444444,\"#bd3786\"],[0.5555555555555556,\"#d8576b\"],[0.6666666666666666,\"#ed7953\"],[0.7777777777777778,\"#fb9f3a\"],[0.8888888888888888,\"#fdca26\"],[1.0,\"#f0f921\"]],\"type\":\"heatmap\"}],\"histogram2dcontour\":[{\"colorbar\":{\"outlinewidth\":0,\"ticks\":\"\"},\"colorscale\":[[0.0,\"#0d0887\"],[0.1111111111111111,\"#46039f\"],[0.2222222222222222,\"#7201a8\"],[0.3333333333333333,\"#9c179e\"],[0.4444444444444444,\"#bd3786\"],[0.5555555555555556,\"#d8576b\"],[0.6666666666666666,\"#ed7953\"],[0.7777777777777778,\"#fb9f3a\"],[0.8888888888888888,\"#fdca26\"],[1.0,\"#f0f921\"]],\"type\":\"histogram2dcontour\"}],\"histogram2d\":[{\"colorbar\":{\"outlinewidth\":0,\"ticks\":\"\"},\"colorscale\":[[0.0,\"#0d0887\"],[0.1111111111111111,\"#46039f\"],[0.2222222222222222,\"#7201a8\"],[0.3333333333333333,\"#9c179e\"],[0.4444444444444444,\"#bd3786\"],[0.5555555555555556,\"#d8576b\"],[0.6666666666666666,\"#ed7953\"],[0.7777777777777778,\"#fb9f3a\"],[0.8888888888888888,\"#fdca26\"],[1.0,\"#f0f921\"]],\"type\":\"histogram2d\"}],\"histogram\":[{\"marker\":{\"pattern\":{\"fillmode\":\"overlay\",\"size\":10,\"solidity\":0.2}},\"type\":\"histogram\"}],\"mesh3d\":[{\"colorbar\":{\"outlinewidth\":0,\"ticks\":\"\"},\"type\":\"mesh3d\"}],\"parcoords\":[{\"line\":{\"colorbar\":{\"outlinewidth\":0,\"ticks\":\"\"}},\"type\":\"parcoords\"}],\"pie\":[{\"automargin\":true,\"type\":\"pie\"}],\"scatter3d\":[{\"line\":{\"colorbar\":{\"outlinewidth\":0,\"ticks\":\"\"}},\"marker\":{\"colorbar\":{\"outlinewidth\":0,\"ticks\":\"\"}},\"type\":\"scatter3d\"}],\"scattercarpet\":[{\"marker\":{\"colorbar\":{\"outlinewidth\":0,\"ticks\":\"\"}},\"type\":\"scattercarpet\"}],\"scattergeo\":[{\"marker\":{\"colorbar\":{\"outlinewidth\":0,\"ticks\":\"\"}},\"type\":\"scattergeo\"}],\"scattergl\":[{\"marker\":{\"colorbar\":{\"outlinewidth\":0,\"ticks\":\"\"}},\"type\":\"scattergl\"}],\"scattermapbox\":[{\"marker\":{\"colorbar\":{\"outlinewidth\":0,\"ticks\":\"\"}},\"type\":\"scattermapbox\"}],\"scatterpolargl\":[{\"marker\":{\"colorbar\":{\"outlinewidth\":0,\"ticks\":\"\"}},\"type\":\"scatterpolargl\"}],\"scatterpolar\":[{\"marker\":{\"colorbar\":{\"outlinewidth\":0,\"ticks\":\"\"}},\"type\":\"scatterpolar\"}],\"scatter\":[{\"fillpattern\":{\"fillmode\":\"overlay\",\"size\":10,\"solidity\":0.2},\"type\":\"scatter\"}],\"scatterternary\":[{\"marker\":{\"colorbar\":{\"outlinewidth\":0,\"ticks\":\"\"}},\"type\":\"scatterternary\"}],\"surface\":[{\"colorbar\":{\"outlinewidth\":0,\"ticks\":\"\"},\"colorscale\":[[0.0,\"#0d0887\"],[0.1111111111111111,\"#46039f\"],[0.2222222222222222,\"#7201a8\"],[0.3333333333333333,\"#9c179e\"],[0.4444444444444444,\"#bd3786\"],[0.5555555555555556,\"#d8576b\"],[0.6666666666666666,\"#ed7953\"],[0.7777777777777778,\"#fb9f3a\"],[0.8888888888888888,\"#fdca26\"],[1.0,\"#f0f921\"]],\"type\":\"surface\"}],\"table\":[{\"cells\":{\"fill\":{\"color\":\"#EBF0F8\"},\"line\":{\"color\":\"white\"}},\"header\":{\"fill\":{\"color\":\"#C8D4E3\"},\"line\":{\"color\":\"white\"}},\"type\":\"table\"}]},\"layout\":{\"annotationdefaults\":{\"arrowcolor\":\"#2a3f5f\",\"arrowhead\":0,\"arrowwidth\":1},\"autotypenumbers\":\"strict\",\"coloraxis\":{\"colorbar\":{\"outlinewidth\":0,\"ticks\":\"\"}},\"colorscale\":{\"diverging\":[[0,\"#8e0152\"],[0.1,\"#c51b7d\"],[0.2,\"#de77ae\"],[0.3,\"#f1b6da\"],[0.4,\"#fde0ef\"],[0.5,\"#f7f7f7\"],[0.6,\"#e6f5d0\"],[0.7,\"#b8e186\"],[0.8,\"#7fbc41\"],[0.9,\"#4d9221\"],[1,\"#276419\"]],\"sequential\":[[0.0,\"#0d0887\"],[0.1111111111111111,\"#46039f\"],[0.2222222222222222,\"#7201a8\"],[0.3333333333333333,\"#9c179e\"],[0.4444444444444444,\"#bd3786\"],[0.5555555555555556,\"#d8576b\"],[0.6666666666666666,\"#ed7953\"],[0.7777777777777778,\"#fb9f3a\"],[0.8888888888888888,\"#fdca26\"],[1.0,\"#f0f921\"]],\"sequentialminus\":[[0.0,\"#0d0887\"],[0.1111111111111111,\"#46039f\"],[0.2222222222222222,\"#7201a8\"],[0.3333333333333333,\"#9c179e\"],[0.4444444444444444,\"#bd3786\"],[0.5555555555555556,\"#d8576b\"],[0.6666666666666666,\"#ed7953\"],[0.7777777777777778,\"#fb9f3a\"],[0.8888888888888888,\"#fdca26\"],[1.0,\"#f0f921\"]]},\"colorway\":[\"#636efa\",\"#EF553B\",\"#00cc96\",\"#ab63fa\",\"#FFA15A\",\"#19d3f3\",\"#FF6692\",\"#B6E880\",\"#FF97FF\",\"#FECB52\"],\"font\":{\"color\":\"#2a3f5f\"},\"geo\":{\"bgcolor\":\"white\",\"lakecolor\":\"white\",\"landcolor\":\"#E5ECF6\",\"showlakes\":true,\"showland\":true,\"subunitcolor\":\"white\"},\"hoverlabel\":{\"align\":\"left\"},\"hovermode\":\"closest\",\"mapbox\":{\"style\":\"light\"},\"paper_bgcolor\":\"white\",\"plot_bgcolor\":\"#E5ECF6\",\"polar\":{\"angularaxis\":{\"gridcolor\":\"white\",\"linecolor\":\"white\",\"ticks\":\"\"},\"bgcolor\":\"#E5ECF6\",\"radialaxis\":{\"gridcolor\":\"white\",\"linecolor\":\"white\",\"ticks\":\"\"}},\"scene\":{\"xaxis\":{\"backgroundcolor\":\"#E5ECF6\",\"gridcolor\":\"white\",\"gridwidth\":2,\"linecolor\":\"white\",\"showbackground\":true,\"ticks\":\"\",\"zerolinecolor\":\"white\"},\"yaxis\":{\"backgroundcolor\":\"#E5ECF6\",\"gridcolor\":\"white\",\"gridwidth\":2,\"linecolor\":\"white\",\"showbackground\":true,\"ticks\":\"\",\"zerolinecolor\":\"white\"},\"zaxis\":{\"backgroundcolor\":\"#E5ECF6\",\"gridcolor\":\"white\",\"gridwidth\":2,\"linecolor\":\"white\",\"showbackground\":true,\"ticks\":\"\",\"zerolinecolor\":\"white\"}},\"shapedefaults\":{\"line\":{\"color\":\"#2a3f5f\"}},\"ternary\":{\"aaxis\":{\"gridcolor\":\"white\",\"linecolor\":\"white\",\"ticks\":\"\"},\"baxis\":{\"gridcolor\":\"white\",\"linecolor\":\"white\",\"ticks\":\"\"},\"bgcolor\":\"#E5ECF6\",\"caxis\":{\"gridcolor\":\"white\",\"linecolor\":\"white\",\"ticks\":\"\"}},\"title\":{\"x\":0.05},\"xaxis\":{\"automargin\":true,\"gridcolor\":\"white\",\"linecolor\":\"white\",\"ticks\":\"\",\"title\":{\"standoff\":15},\"zerolinecolor\":\"white\",\"zerolinewidth\":2},\"yaxis\":{\"automargin\":true,\"gridcolor\":\"white\",\"linecolor\":\"white\",\"ticks\":\"\",\"title\":{\"standoff\":15},\"zerolinecolor\":\"white\",\"zerolinewidth\":2}}},\"title\":{\"text\":\"Gradient Descent\"},\"width\":800},                        {\"responsive\": true}                    ).then(function(){\n",
       "                            \n",
       "var gd = document.getElementById('03c1face-243c-4231-8c73-5dda31a31d97');\n",
       "var x = new MutationObserver(function (mutations, observer) {{\n",
       "        var display = window.getComputedStyle(gd).display;\n",
       "        if (!display || display === 'none') {{\n",
       "            console.log([gd, 'removed!']);\n",
       "            Plotly.purge(gd);\n",
       "            observer.disconnect();\n",
       "        }}\n",
       "}});\n",
       "\n",
       "// Listen for the removal of the full notebook cells\n",
       "var notebookContainer = gd.closest('#notebook-container');\n",
       "if (notebookContainer) {{\n",
       "    x.observe(notebookContainer, {childList: true});\n",
       "}}\n",
       "\n",
       "// Listen for the clearing of the current output cell\n",
       "var outputEl = gd.closest('.output');\n",
       "if (outputEl) {{\n",
       "    x.observe(outputEl, {childList: true});\n",
       "}}\n",
       "\n",
       "                        })                };                });            </script>        </div>"
      ]
     },
     "metadata": {},
     "output_type": "display_data"
    }
   ],
   "source": [
    "# Run me to see a 3D plot (gradient descent with static alpha)\n",
    "from lab7_utils import plot_3d\n",
    "plot_3d(thetas[:, 0], thetas[:, 1], loss, mean_squared_error, sin_model, x, y)"
   ]
  },
  {
   "cell_type": "code",
   "execution_count": 39,
   "metadata": {},
   "outputs": [],
   "source": [
    "import plotly\n",
    "import plotly.graph_objs as go"
   ]
  },
  {
   "cell_type": "code",
   "execution_count": 40,
   "metadata": {},
   "outputs": [],
   "source": [
    "def contour_plot(title, theta_history, loss_function, model, x, y):\n",
    "    \"\"\"\n",
    "    The function takes the following as argument:\n",
    "        theta_history: a (N, 2) array of theta history\n",
    "        loss: a list or array of loss value\n",
    "        loss_function: for example, l2_loss\n",
    "        model: for example, sin_model\n",
    "        x: the original x input\n",
    "        y: the original y output\n",
    "    \"\"\"\n",
    "    theta_1_series = theta_history[:,0] # a list or array of theta_1 value\n",
    "    theta_2_series = theta_history[:,1] # a list or array of theta_2 value\n",
    "\n",
    "    ## In the following block of code, we generate the z value\n",
    "    ## across a 2D grid\n",
    "    theta1_s = np.linspace(np.min(theta_1_series) - 0.1, np.max(theta_1_series) + 0.1)\n",
    "    theta2_s = np.linspace(np.min(theta_2_series) - 0.1, np.max(theta_2_series) + 0.1)\n",
    "\n",
    "    x_s, y_s = np.meshgrid(theta1_s, theta2_s)\n",
    "    data = np.stack([x_s.flatten(), y_s.flatten()]).T\n",
    "    ls = []\n",
    "    for theta1, theta2 in data:\n",
    "        l = loss_function(model(x, np.array([theta1, theta2])), y)\n",
    "        ls.append(l)\n",
    "    z = np.array(ls).reshape(50, 50)\n",
    "    \n",
    "    # Create trace of theta point\n",
    "    # Create the contour \n",
    "    theta_points = go.Scatter(name=\"theta Values\", \n",
    "                              x=theta_1_series, \n",
    "                              y=theta_2_series,\n",
    "                              mode=\"lines+markers\")\n",
    "    lr_loss_contours = go.Contour(x=theta1_s, \n",
    "                                  y=theta2_s, \n",
    "                                  z=z, \n",
    "                                  colorscale='Viridis', reversescale=True)\n",
    "\n",
    "    plotly.offline.iplot(go.Figure(data=[lr_loss_contours, theta_points], layout={'title': title}))"
   ]
  },
  {
   "cell_type": "code",
   "execution_count": 41,
   "metadata": {},
   "outputs": [
    {
     "data": {
      "application/vnd.plotly.v1+json": {
       "config": {
        "linkText": "Export to plot.ly",
        "plotlyServerURL": "https://plot.ly",
        "showLink": false
       },
       "data": [
        {
         "colorscale": [
          [
           0,
           "#440154"
          ],
          [
           0.1111111111111111,
           "#482878"
          ],
          [
           0.2222222222222222,
           "#3e4989"
          ],
          [
           0.3333333333333333,
           "#31688e"
          ],
          [
           0.4444444444444444,
           "#26828e"
          ],
          [
           0.5555555555555556,
           "#1f9e89"
          ],
          [
           0.6666666666666666,
           "#35b779"
          ],
          [
           0.7777777777777778,
           "#6ece58"
          ],
          [
           0.8888888888888888,
           "#b5de2b"
          ],
          [
           1,
           "#fde725"
          ]
         ],
         "reversescale": true,
         "type": "contour",
         "x": [
          0.8034272767622247,
          0.8421544232523754,
          0.8808815697425263,
          0.9196087162326771,
          0.9583358627228279,
          0.9970630092129786,
          1.0357901557031295,
          1.0745173021932803,
          1.1132444486834312,
          1.1519715951735818,
          1.1906987416637327,
          1.2294258881538835,
          1.2681530346440342,
          1.306880181134185,
          1.3456073276243359,
          1.3843344741144867,
          1.4230616206046376,
          1.4617887670947884,
          1.500515913584939,
          1.5392430600750897,
          1.5779702065652406,
          1.6166973530553914,
          1.6554244995455423,
          1.6941516460356931,
          1.732878792525844,
          1.7716059390159948,
          1.8103330855061457,
          1.849060231996296,
          1.887787378486447,
          1.9265145249765978,
          1.9652416714667487,
          2.0039688179568995,
          2.0426959644470504,
          2.0814231109372012,
          2.120150257427352,
          2.1588774039175025,
          2.1976045504076533,
          2.236331696897804,
          2.275058843387955,
          2.313785989878106,
          2.3525131363682568,
          2.3912402828584076,
          2.4299674293485585,
          2.468694575838709,
          2.5074217223288597,
          2.5461488688190106,
          2.5848760153091614,
          2.6236031617993123,
          2.662330308289463,
          2.701057454779614
         ],
         "y": [
          2.4910060231049895,
          2.504919282382745,
          2.5188325416604997,
          2.532745800938255,
          2.5466590602160104,
          2.5605723194937653,
          2.5744855787715206,
          2.588398838049276,
          2.6023120973270313,
          2.616225356604786,
          2.6301386158825415,
          2.644051875160297,
          2.6579651344380517,
          2.671878393715807,
          2.6857916529935624,
          2.6997049122713173,
          2.7136181715490726,
          2.727531430826828,
          2.741444690104583,
          2.755357949382338,
          2.7692712086600935,
          2.783184467937849,
          2.7970977272156037,
          2.811010986493359,
          2.8249242457711143,
          2.8388375050488692,
          2.8527507643266246,
          2.86666402360438,
          2.880577282882135,
          2.89449054215989,
          2.9084038014376454,
          2.9223170607154003,
          2.9362303199931556,
          2.950143579270911,
          2.9640568385486663,
          2.977970097826421,
          2.9918833571041765,
          3.005796616381932,
          3.0197098756596867,
          3.033623134937442,
          3.0475363942151974,
          3.0614496534929527,
          3.0753629127707076,
          3.089276172048463,
          3.103189431326218,
          3.117102690603973,
          3.1310159498817285,
          3.144929209159484,
          3.158842468437239,
          3.172755727714994
         ],
         "z": [
          [
           6.251546434657765,
           5.747655507622024,
           5.268928312718731,
           4.815364849947889,
           4.386965119309497,
           3.9837291208035563,
           3.6056568544300633,
           3.2527483201890197,
           2.925003518080427,
           2.622422448104285,
           2.345005110260591,
           2.0927515045493474,
           1.8656616309705547,
           1.6637354895242107,
           1.4869730802103163,
           1.335374403028872,
           1.2089394579798773,
           1.1076682450633326,
           1.031560764279238,
           0.9806170156275931,
           0.9548369991083977,
           0.9542207147216524,
           0.9787681624673564,
           1.0284793423455107,
           1.1033542543561146,
           1.2033928984991689,
           1.3285952747746728,
           1.4789613831826243,
           1.6544912237230278,
           1.8551847963958807,
           2.081042101201184,
           2.332063138138937,
           2.6082479072091393,
           2.909596408411792,
           3.2361086417468945,
           3.5877846072144424,
           3.9646243048144445,
           4.3666277345468965,
           4.793794896411799,
           5.24612579040915,
           5.723620416538952,
           6.226278774801203,
           6.754100865195904,
           7.307086687723049,
           7.885236242382648,
           8.488549529174701,
           9.1170265480992,
           9.77066729915615,
           10.449471782345551,
           11.1534399976674
          ],
          [
           6.213464981931458,
           5.70984470035026,
           5.231388150901512,
           4.778095333585211,
           4.349966248401364,
           3.947000895349965,
           3.569199274431015,
           3.216561385644514,
           2.889087228990464,
           2.5867768044688653,
           2.3096301120797147,
           2.0576471518230135,
           1.8308279236987635,
           1.6291724277069624,
           1.452680663847611,
           1.3013526321207094,
           1.1751883325262578,
           1.0741877650642562,
           0.9983509297347045,
           0.9476778265376027,
           0.9221684554729499,
           0.9218228165407474,
           0.9466409097409947,
           0.9966227350736917,
           1.0717682925388388,
           1.1720775821364355,
           1.2975506038664826,
           1.448187357728977,
           1.6239878437239232,
           1.8249520618513195,
           2.051080012111165,
           2.302371694503461,
           2.578827109028206,
           2.8804462556854022,
           3.2072291344750474,
           3.5591757453971384,
           3.936286088451684,
           4.338560163638678,
           4.765997970958122,
           5.218599510410018,
           5.696364781994362,
           6.199293785711156,
           6.7273865215604,
           7.280642989542088,
           7.859063189656231,
           8.462647121902824,
           9.091394786281867,
           9.745306182793358,
           10.424381311437303,
           11.128620172213697
          ],
          [
           6.172285091848286,
           5.669080361606995,
           5.191039363498152,
           4.738162097521759,
           4.310448563677816,
           3.9078987619663237,
           3.5305126923872803,
           3.178290354940686,
           2.851231749626541,
           2.549336876444849,
           2.272605735395604,
           2.0210383264788097,
           1.7946346496944656,
           1.5933947050425707,
           1.4173184925231253,
           1.26640601213613,
           1.1406572638815844,
           1.0400722477594888,
           0.9646509637698436,
           0.9143934119126476,
           0.8892995921879012,
           0.8893695045956049,
           0.9146031491357579,
           0.9650005258083616,
           1.0405616346134148,
           1.1412864755509178,
           1.2671750486208706,
           1.4182273538232713,
           1.5944433911581237,
           1.795823160625426,
           2.022366662225178,
           2.2740738959573803,
           2.550944861822032,
           2.8529795598191336,
           3.1801779899486844,
           3.532540152210682,
           3.9100660466051327,
           4.312755673132035,
           4.740609031791384,
           5.1936261225831855,
           5.671806945507436,
           6.175151500564137,
           6.703659787753286,
           7.2573318070748805,
           7.836167558528929,
           8.440167042115428,
           9.069330257834379,
           9.723657205685779,
           10.403147885669625,
           11.107802297785925
          ],
          [
           6.128204772848167,
           5.625556963203815,
           5.14807288569191,
           4.695752540312455,
           4.2685959270654505,
           3.8666030459508973,
           3.489773896968792,
           3.1381084801191363,
           2.8116067954019304,
           2.510268842817177,
           2.2340946223648706,
           1.9830841340450145,
           1.7572373778576094,
           1.5565543538026527,
           1.3810350618801461,
           1.2306795020900894,
           1.1054876744324822,
           1.0054595789073255,
           0.9305952155146184,
           0.8808945842543612,
           0.8563576851265535,
           0.8569845181311956,
           0.8827750832682875,
           0.9337293805378295,
           1.0098474099398211,
           1.1111291714742628,
           1.2375746651411543,
           1.3891838909404937,
           1.5659568488722848,
           1.7678935389365256,
           1.9949939611332161,
           2.2472581154623565,
           2.524686001923947,
           2.8272776205179873,
           3.1550329712444776,
           3.5079520541034133,
           3.886034869094803,
           4.289281416218643,
           4.717691695474932,
           5.171265706863672,
           5.65000345038486,
           6.153904926038498,
           6.682970133824588,
           7.2371990737431195,
           7.816591745794108,
           8.421148149977547,
           9.050868286293435,
           9.705752154741774,
           10.385799755322559,
           11.091011088035797
          ],
          [
           6.081433330037207,
           5.579479652196972,
           5.102689706489188,
           4.651063492913852,
           4.224601011470967,
           3.8233022621605324,
           3.4471672449825457,
           3.0961959599370097,
           2.7703884070239226,
           2.4697445862432876,
           2.194264497595101,
           1.943948141079364,
           1.7187955166960778,
           1.5188066244452405,
           1.3439814643268528,
           1.1943200363409152,
           1.0698223404874274,
           0.9704883767663894,
           0.8963181451778016,
           0.8473116457216635,
           0.8234688783979749,
           0.824789843206736,
           0.8512745401479471,
           0.9029229692216082,
           0.979735130427719,
           1.0817110237662797,
           1.2088506492372904,
           1.3611540068407486,
           1.538621096576659,
           1.7412519184450184,
           1.9690464724458283,
           2.222004758579088,
           2.5001267768447972,
           2.8034125272429566,
           3.131862009773566,
           3.4854752244366214,
           3.8642521712321303,
           4.268192850160088,
           4.697297261220497,
           5.151565404413355,
           5.630997279738662,
           6.135592887196421,
           6.66535222678663,
           7.22027529850928,
           7.800362102364387,
           8.405612638351945,
           9.036026906471953,
           9.69160490672441,
           10.372346639109315,
           11.078252103626674
          ],
          [
           6.0321896724417945,
           5.531062583557937,
           5.0550992268065285,
           4.604299602187569,
           4.178663709701062,
           3.778191549347004,
           3.402883121125394,
           3.0527384250362344,
           2.7277574610795243,
           2.427940229255266,
           2.1532867295634555,
           1.9037969620040947,
           1.6794709265771859,
           1.4803086232827247,
           1.306310052120714,
           1.157475213091153,
           1.033804106194042,
           0.9352967314293804,
           0.8619530887971693,
           0.8137731782974078,
           0.7907569999300957,
           0.7929045536952337,
           0.8202158395928213,
           0.8726908576228589,
           0.9503296077853465,
           1.0531320900802836,
           1.1810983045076708,
           1.3342282510675059,
           1.5125219297597925,
           1.715979340584529,
           1.9446004835417154,
           2.1983853586313518,
           2.4773339658534383,
           2.781446305207974,
           3.1107223766949597,
           3.4651621803143917,
           3.8447657160662767,
           4.249532983950612,
           4.679463983967397,
           5.134558716116632,
           5.614817180398316,
           6.120239376812451,
           6.650825305359036,
           7.206574966038064,
           7.787488358849547,
           8.393565483793482,
           9.024806340869864,
           9.6812109300787,
           10.362779251419981,
           11.069511304893716
          ],
          [
           5.980700636911626,
           5.480527271966389,
           5.0055176391536005,
           4.5556717384732615,
           4.130989569925374,
           3.7314711335099355,
           3.357116429226947,
           3.007925457076407,
           2.6838982170583177,
           2.3850347091726793,
           2.111334933419489,
           1.862798889798749,
           1.6394265783104602,
           1.4412179989546197,
           1.2681731517312291,
           1.1202920366402884,
           0.9975746536817973,
           0.9000210028557564,
           0.8276310841621655,
           0.7804048976010243,
           0.7583424431723326,
           0.7614437208760907,
           0.7897087307122986,
           0.8431374726809565,
           0.9217299467820642,
           1.025486153015622,
           1.1544060913816294,
           1.308489761880085,
           1.4877371645109918,
           1.6921482992743486,
           1.9217231661701553,
           2.1764617651984115,
           2.4563640963591182,
           2.7614301596522743,
           3.0916599550778803,
           3.447053482635932,
           3.8276107423264376,
           4.2333317341493935,
           4.664216458104799,
           5.120264914192655,
           5.601477102412958,
           6.107853022765713,
           6.63939267525092,
           7.196096059868569,
           7.777963176618671,
           8.384994025501225,
           9.017188606516228,
           9.674546919663683,
           10.357068964943586,
           11.064754742355941
          ],
          [
           5.927199348457807,
           5.4281009823640485,
           4.9541663484027385,
           4.505395446573878,
           4.081788276877467,
           3.683344839313508,
           3.310065133881997,
           2.961949160582935,
           2.6389969194163236,
           2.3412084103821638,
           2.068583633480452,
           1.82112258871119,
           1.5988252760743789,
           1.4016916955700165,
           1.2297218471981035,
           1.082915730958641,
           0.9612733468516281,
           0.8647946948770653,
           0.7934797750349525,
           0.7473285873252893,
           0.7263411317480756,
           0.7305174083033119,
           0.759857416990998,
           0.8143611578111339,
           0.8940286307637199,
           0.9988598358487555,
           1.1288547730662408,
           1.2840134424161747,
           1.4643358438985596,
           1.6698219775133947,
           1.9004718432606793,
           2.156285441140414,
           2.4372627711525987,
           2.7434038332972324,
           3.074708627574317,
           3.431177153983847,
           3.8128094125258305,
           4.219605403200265,
           4.6515651260071476,
           5.10868858094648,
           5.590975768018264,
           6.098426687222497,
           6.63104133855918,
           7.188819722028306,
           7.771761837629888,
           8.379867685363921,
           9.013137265230403,
           9.671570577229334,
           10.355167621360719,
           11.063928397624547
          ],
          [
           5.871923635212108,
           5.374015177298352,
           4.9012704515170435,
           4.453689457868186,
           4.031272196351779,
           3.6340186669678216,
           3.261928869716313,
           2.9150028045972545,
           2.593240471610646,
           2.2966418707564884,
           2.025207002034779,
           1.7789358654455198,
           1.5578284609887116,
           1.361884788664352,
           1.1911048484724418,
           1.045488640412982,
           0.925036164485972,
           0.8297474206914117,
           0.7596224090293017,
           0.7146611294996412,
           0.6948635821024303,
           0.7002297668376694,
           0.730759683705358,
           0.7864533327054968,
           0.8673107138380854,
           0.9733318271031237,
           1.1045166725006124,
           1.2608652500305484,
           1.442377559692936,
           1.649053601487774,
           1.8808933754150614,
           2.1378968814747985,
           2.420064119666986,
           2.7273950899916226,
           3.0598897924487094,
           3.4175482270382425,
           3.800370393760229,
           4.208356292614665,
           4.641505923601551,
           5.099819286720888,
           5.583296381972674,
           6.091937209356909,
           6.625741768873595,
           7.184710060522724,
           7.768842084304309,
           8.378137840218345,
           9.012597328264828,
           9.672220548443764,
           10.357007500755147,
           11.066958185198983
          ],
          [
           5.815114514324147,
           5.318504037207261,
           4.847057292222826,
           4.400774279370839,
           3.979654998651303,
           3.583699450064217,
           3.2129076336095794,
           2.8672795492873924,
           2.5468151970976542,
           2.251514577040368,
           1.9813776891155306,
           1.7364045333231426,
           1.5165951096632058,
           1.3219494181357172,
           1.1524674587406787,
           1.0081492314780902,
           0.8889947363479511,
           0.7950039733502624,
           0.7261769424850235,
           0.6825136437522343,
           0.6640140771518946,
           0.670678242684005,
           0.7025061403485651,
           0.759497770145575,
           0.8416531320750348,
           0.9489722261369445,
           1.081455052331304,
           1.2391016106581116,
           1.4219119011173704,
           1.6298859237090793,
           1.8630236784332381,
           2.121325165289847,
           2.4047903842789053,
           2.7134193354004137,
           3.047212018654372,
           3.406168434040776,
           3.7902885815596337,
           4.19957246121094,
           4.634020072994699,
           5.093631416910905,
           5.578406492959564,
           6.088345301140669,
           6.623447841454227,
           7.183714113900226,
           7.769144118478683,
           8.37973785518959,
           9.015495324032946,
           9.676416525008754,
           10.362501458117007,
           11.073750123357714
          ],
          [
           5.757014763015255,
           5.261803067690781,
           4.791755104498756,
           4.346870873439179,
           3.9271503745120535,
           3.532593607717378,
           3.1632005730551516,
           2.8189712705253736,
           2.499905700128047,
           2.206003861863171,
           1.9372657557307433,
           1.6936913817307657,
           1.475280739863239,
           1.282033830128161,
           1.1139506525255327,
           0.9710312070553545,
           0.8532754937176259,
           0.7606835125123473,
           0.6932552634395188,
           0.6509907464991399,
           0.6338899616912105,
           0.6419529090157312,
           0.6751795884727015,
           0.7335700000621219,
           0.8171241437839921,
           0.925842019638312,
           1.059723627625082,
           1.2187689677442999,
           1.402978039995969,
           1.612350844380088,
           1.8468873808966573,
           2.106587649545676,
           2.391451650327145,
           2.7014793832410637,
           3.0366708482874327,
           3.3970260454662466,
           3.782544974777515,
           4.193227636221233,
           4.6290740297974,
           5.090084155506018,
           5.576258013347085,
           6.087595603320603,
           6.624096925426569,
           7.1857619796649805,
           7.772590766035846,
           8.384583284539163,
           9.02173953517493,
           9.684059517943147,
           10.37154323284381,
           11.08419067987693
          ],
          [
           5.697867586725225,
           5.20414780552536,
           4.735591756457941,
           4.292199439522974,
           3.8739708547204557,
           3.4809060020503892,
           3.11300488151277,
           2.7702674931076015,
           2.452693836834882,
           2.160283912694615,
           1.8930377206867952,
           1.6509552608114257,
           1.4340365330685074,
           1.2422815374580376,
           1.0756902739800174,
           0.9342627426344472,
           0.8179989434213273,
           0.7268988763406568,
           0.6609625413924366,
           0.620189938576666,
           0.604581067893345,
           0.6141359293424737,
           0.6488545229240524,
           0.708736848638081,
           0.7937829064845594,
           0.9039926964634877,
           1.039366218574866,
           1.199903472818692,
           1.3856044591949697,
           1.596469177703697,
           1.8324976283448746,
           2.093689811118502,
           2.380045726024579,
           2.691565373063106,
           3.0282487522340826,
           3.390095863537505,
           3.777106706973382,
           4.189281282541708,
           4.626619590242483,
           5.089121630075709,
           5.576787402041385,
           6.0896169061395105,
           6.627610142370087,
           7.190767110733105,
           7.77908781122858,
           8.392572243856502,
           9.031220408616878,
           9.695032305509704,
           10.384007934534978,
           11.098147295692703
          ],
          [
           5.637915393867922,
           5.145772632751189,
           4.6787936037669065,
           4.2369783069150735,
           3.8203267421956904,
           3.4288389096087575,
           3.062514809154273,
           2.7213544408322394,
           2.4053578046426547,
           2.114524900585522,
           1.8488557286608371,
           1.608350288868602,
           1.3930085812088184,
           1.2028306056814828,
           1.0378163622865975,
           0.897965851024162,
           0.7832790718941763,
           0.6937560248966406,
           0.6293967100315548,
           0.5902011272989188,
           0.5761692766987323,
           0.5873011582309957,
           0.6235967718957091,
           0.685056117692872,
           0.771679195622485,
           0.8834660056845479,
           1.0204165478790606,
           1.1825308222060213,
           1.369808828665433,
           1.5822505672572953,
           1.8198560379816073,
           2.082625240838369,
           2.370558175827581,
           2.6836548429492426,
           3.0219152422033537,
           3.385339373589911,
           3.7739272371089223,
           4.187678832760382,
           4.626594160544292,
           5.090673220460653,
           5.579916012509464,
           6.094322536690725,
           6.633892793004434,
           7.198626781450588,
           7.788524502029197,
           8.403585954740256,
           9.043811139583765,
           9.709200056559725,
           10.399752705668133,
           11.115469086908995
          ],
          [
           5.577398684202849,
           5.08690970564838,
           4.621584459226359,
           4.181422944936788,
           3.766425162779668,
           3.3765911127549977,
           3.0119207948627755,
           2.6724142091030036,
           2.358071355475682,
           2.068892233980811,
           1.8048768446183885,
           1.5660251873884161,
           1.352337262290895,
           1.1638130693258217,
           1.000452608493199,
           0.8622558797930256,
           0.7492228832253023,
           0.661353618790029,
           0.5986480864872057,
           0.561106286316832,
           0.5487282182789078,
           0.5615138823734337,
           0.5994632786004093,
           0.6625764069598347,
           0.75085326745171,
           0.8642938600760355,
           1.0028981848328105,
           1.1666662417220335,
           1.3555980307437077,
           1.5696935518978323,
           1.8089528051844066,
           2.0733757906034307,
           2.3629625081549044,
           2.677712957838829,
           3.017627139655202,
           3.3827050536040217,
           3.772946699685296,
           4.188352077899018,
           4.628921188245191,
           5.094654030723814,
           5.585550605334887,
           6.10161091207841,
           6.642834950954382,
           7.209222721962797,
           7.800774225103669,
           8.417489460376991,
           9.059368427782761,
           9.726411127320985,
           10.418617558991654,
           11.135987722794777
          ],
          [
           5.516555055281622,
           5.027788002865638,
           4.564184682582103,
           4.125745094431016,
           3.7124692384123827,
           3.3243571145261974,
           2.9614087227724606,
           2.6236240631511745,
           2.311003135662338,
           2.023545940305953,
           1.761252477082016,
           1.5241227459905289,
           1.3121567470314925,
           1.1253544802049054,
           0.9637159455107678,
           0.8272411429490799,
           0.7159300725198421,
           0.6297827342230541,
           0.5687991280587162,
           0.532979254026828,
           0.5223231121273892,
           0.5368307023604004,
           0.5765020247258614,
           0.6413370792237724,
           0.7313358658541331,
           0.8464983846169438,
           0.9868246355122046,
           1.1523146185399127,
           1.3429683337000728,
           1.5587857809926826,
           1.7997669604177424,
           2.065911871975252,
           2.3572205156652117,
           2.6736928914876215,
           3.0153289994424797,
           3.382128839529784,
           3.7740924117495434,
           4.1912197161017515,
           4.633510752586411,
           5.100965521203519,
           5.593584021953077,
           6.111366254835085,
           6.654312219849542,
           7.222421916996442,
           7.815695346275801,
           8.43413250768761,
           9.077733401231866,
           9.746498026908574,
           10.44042638471773,
           11.159518474659336
          ],
          [
           5.455618328890725,
           4.96863249442427,
           4.506810392090265,
           4.070152021888709,
           3.658657383819604,
           3.2723264778829484,
           2.9111593040787413,
           2.5751558624069846,
           2.2643161528676776,
           1.9786401754608225,
           1.7181279301864152,
           1.4827794170444577,
           1.2725946360349512,
           1.0875735871578933,
           0.9277162704132856,
           0.7930226858011276,
           0.6834928333214193,
           0.5991267129741611,
           0.5399243247593528,
           0.5058856686769941,
           0.49701074472708523,
           0.5132995529096261,
           0.5547520932246167,
           0.6213683656720574,
           0.7131483702519479,
           0.8300921069642883,
           0.9721995758090783,
           1.1394707767863164,
           1.3319057098960063,
           1.5495043751381457,
           1.7922667725127348,
           2.0601929020197742,
           2.3532827636592635,
           2.6715363574312025,
           3.014953683335592,
           3.383534741372426,
           3.777279531541714,
           4.196188053843453,
           4.64026030827764,
           5.109496294844278,
           5.603896013543365,
           6.123459464374904,
           6.66818664733889,
           7.238077562435322,
           7.833132209664209,
           8.453350589025547,
           9.098732700519333,
           9.76927854414557,
           10.464988119904255,
           11.185861427795393
          ],
          [
           5.394817796933688,
           4.909663430839607,
           4.449672796877973,
           4.014845895048792,
           3.605182725352059,
           3.2206832877877773,
           2.8613475823559433,
           2.52717560905656,
           2.218167367889626,
           1.9343228588551442,
           1.67564208195311,
           1.4421250371835257,
           1.2337717245463924,
           1.0505821440417078,
           0.8925562956694731,
           0.7596941794296883,
           0.6519957953223532,
           0.5694611433474682,
           0.5120902235050332,
           0.47988303579504776,
           0.47283958021751193,
           0.49095985677242615,
           0.53424386545979,
           0.6026916062796038,
           0.6963030792318675,
           0.815078284316581,
           0.9590172215337445,
           1.1281198908833554,
           1.3223862923654186,
           1.5418164259799314,
           1.7864102917268945,
           2.0561678896063063,
           2.351089219618169,
           2.671174281762481,
           3.016423076039243,
           3.3868356024484507,
           3.7824118609901127,
           4.203151851664224,
           4.649055574470785,
           5.120123029409795,
           5.616354216481257,
           6.1377491356851674,
           6.684307787021528,
           7.256030170490334,
           7.852916286091592,
           8.474966133825303,
           9.122179713691464,
           9.794557025690073,
           10.492098069821132,
           11.214802846084641
          ],
          [
           5.334377583823459,
           4.851095749228189,
           4.392977646765368,
           3.9600232764349954,
           3.552232638237074,
           3.1696057321716036,
           2.8121425582385813,
           2.4798431164380084,
           2.172707406769886,
           1.8907354292342151,
           1.633927183830992,
           1.4022826705602185,
           1.1958018894218965,
           1.0144848404160227,
           0.858331523542599,
           0.7273419388016252,
           0.6215160861931012,
           0.5408539657170273,
           0.4853555773734032,
           0.45502092116222875,
           0.449849997083504,
           0.46984280513722915,
           0.5149993453234042,
           0.5853196176420289,
           0.6808036220931037,
           0.8014513586766282,
           0.9472628273926027,
           1.118238028241025,
           1.3143769612218987,
           1.5356796263352226,
           1.782146023580996,
           2.05377615295922,
           2.350570014469893,
           2.6725276081130165,
           3.0196489338885892,
           3.3919339917966074,
           3.7893827818370807,
           4.211995304010003,
           4.659771558315375,
           5.132711544753197,
           5.630815263323469,
           6.154082714026192,
           6.702513896861363,
           7.276108811828978,
           7.874867458929048,
           8.49878983816157,
           9.147875949526542,
           9.822125793023961,
           10.521539368653833,
           11.246116676416152
          ],
          [
           5.274516120233453,
           4.793138591046205,
           4.336924793991405,
           3.905874729069056,
           3.4999883962791576,
           3.11926579562171,
           2.7637069270967096,
           2.4333117907041597,
           2.128080386444059,
           1.8480127143164107,
           1.59310877432121,
           1.3633685664584594,
           1.15879209072816,
           0.9793793471303087,
           0.8251303356649076,
           0.6960450563319562,
           0.5921235091314547,
           0.5133656940634033,
           0.4597716111278017,
           0.4313412603246499,
           0.4280746416539476,
           0.4499717551156952,
           0.4970326007098928,
           0.5692571784365401,
           0.6666454882956374,
           0.7891975302871844,
           0.9369133044111813,
           1.109792810667626,
           1.3078360490565224,
           1.5310430195778686,
           1.779413722231665,
           2.052948157017911,
           2.3516463239366074,
           2.675508222987753,
           3.024533854171348,
           3.39872321748739,
           3.798076312935885,
           4.222593140516829,
           4.672273700230224,
           5.147117992076069,
           5.647126016054362,
           6.172297772165108,
           6.722633260408302,
           7.29813248078394,
           7.898795433292034,
           8.524622117932577,
           9.175612534705573,
           9.851766683611013,
           10.553084564648909,
           11.279566177819248
          ],
          [
           5.215445721024002,
           4.73599492407327,
           4.281707859254986,
           3.8525845265691534,
           3.44862492601577,
           3.0698290575948373,
           2.7161969213063535,
           2.3877285171503186,
           2.0844238451267345,
           1.8062829052356013,
           1.5533056974769166,
           1.3254922218506817,
           1.1228424783568978,
           0.9453564669955623,
           0.7930341877666769,
           0.6658756406702414,
           0.5638808257062554,
           0.4870497428747197,
           0.43538239217563385,
           0.4088787736089977,
           0.4075388871748111,
           0.4313627328730744,
           0.4803503107037877,
           0.5545016206669506,
           0.6538166627625636,
           0.7782954369906264,
           0.9279379433511391,
           1.1027441818440995,
           1.3027141524695112,
           1.5278478552273738,
           1.7781452901176855,
           2.053606457140447,
           2.3542313562956587,
           2.68001998758332,
           3.0309723510034314,
           3.4070884465559885,
           3.8083682742409994,
           4.234811834058459,
           4.68641912600837,
           5.163190150090731,
           5.665124906305541,
           6.192223394652801,
           6.744485615132511,
           7.321911567744665,
           7.9245012524892715,
           8.552254669366334,
           9.205171818375842,
           9.883252699517804,
           10.586497312792211,
           11.31490565819907
          ],
          [
           5.157372258355897,
           4.679861259451897,
           4.227513992680345,
           3.8003304580412434,
           3.398310655534592,
           3.0214545851603916,
           2.669762246918639,
           2.343233640809336,
           2.0418687668324833,
           1.765667624988082,
           1.5146302152761286,
           1.2887565376966252,
           1.0880465922495732,
           0.9125003789349697,
           0.7621178977528158,
           0.6368991487031119,
           0.5368441317858579,
           0.4619528470010537,
           0.4122252943486997,
           0.3876614738287951,
           0.38826138544134037,
           0.4140250291863353,
           0.46495240506378027,
           0.5410435130736752,
           0.6422983532160197,
           0.7687169254908142,
           0.9202992298980587,
           1.0970452664377508,
           1.2989550351098944,
           1.5260285359144883,
           1.7782657688515322,
           2.0556667339210253,
           2.358231431122969,
           2.685959860457362,
           3.0388520219242046,
           3.416907915523493,
           3.820127541255236,
           4.248510899119428,
           4.702057989116071,
           5.180768811245161,
           5.684643365506704,
           6.213681651900697,
           6.767883670427138,
           7.347249421086023,
           7.951778903877363,
           8.581472118801157,
           9.236329065857396,
           9.916349745046087,
           10.621534156367225,
           11.351882299820819
          ],
          [
           5.100494919455426,
           4.62492745304792,
           4.174523718772861,
           3.749283716630255,
           3.349207446620097,
           2.974294908742391,
           2.624546102997132,
           2.2999610293843245,
           2.000539687903965,
           1.7262820785560582,
           1.4771882013405995,
           1.2532580562575906,
           1.0544916433070326,
           0.880888962488923,
           0.7324500138032634,
           0.6091747972500539,
           0.5110633128292938,
           0.438115560540984,
           0.390331540385124,
           0.3677112523617138,
           0.3702546964707531,
           0.39796187271224237,
           0.45083278108618136,
           0.5288674215925704,
           0.6320657942314094,
           0.7604278990026978,
           0.9139537359064366,
           1.0926433049426225,
           1.2964966061112606,
           1.5255136394123485,
           1.7796944048458863,
           2.0590389024118743,
           2.363547132110311,
           2.693219093941199,
           3.048054787904536,
           3.4280542140003187,
           3.833217372228555,
           4.263544262589242,
           4.719034885082379,
           5.199689239707964,
           5.705507326466,
           6.2364891453564875,
           6.792634696379423,
           7.373943979534801,
           7.980416994822637,
           8.612053742242923,
           9.268854221795658,
           9.950818433480842,
           10.657946377298476,
           11.390238053248561
          ],
          [
           5.045006037231989,
           4.571376579136848,
           4.122910853174155,
           3.6996088593439147,
           3.3014705976461234,
           2.928496068080782,
           2.580685270647889,
           2.258038205347446,
           1.9605548721794532,
           1.6882352711439117,
           1.4410794022408182,
           1.2190872654701748,
           1.022258860831982,
           0.8505941883262383,
           0.7040932479529444,
           0.5827560397121002,
           0.4865825636037059,
           0.4155728196277615,
           0.36972680778426714,
           0.3490445280732224,
           0.3535259804946273,
           0.3831711650484821,
           0.43798008173478675,
           0.5179527305535413,
           0.6230891115047457,
           0.7533892245883999,
           0.9088530698045041,
           1.0894806471530558,
           1.2952719566340591,
           1.526226998247513,
           1.7823457719934164,
           2.063628277871769,
           2.3700745158825725,
           2.701684486025825,
           3.058458188301528,
           3.440395622709677,
           3.8474967892502785,
           4.2797616879233304,
           4.737190318728834,
           5.219782681666785,
           5.727538776737186,
           6.260458603940037,
           6.818542163275339,
           7.401789454743084,
           8.010200478343284,
           8.643775234075939,
           9.302513721941038,
           9.986415941938587,
           10.695481894068587,
           11.429711578331037
          ],
          [
           4.991090980989422,
           4.5193848634651195,
           4.072842478073265,
           3.6514638248138622,
           3.2552489036869083,
           2.884197714692405,
           2.538310257830351,
           2.2175865331007465,
           1.9220265405035915,
           1.6516302800388878,
           1.4063977517066326,
           1.1863289555068273,
           0.991423891439473,
           0.8216825595045673,
           0.6771049597021113,
           0.5576910920321054,
           0.46344095649454914,
           0.39435455308944295,
           0.35043188181678675,
           0.33167294267658015,
           0.33807773566882315,
           0.36964626079351615,
           0.426378518050659,
           0.5082745074402517,
           0.6153342289622942,
           0.7475576826167865,
           0.9049448684037289,
           1.0874957863231187,
           1.2952104363749604,
           1.5280888185592523,
           1.7861309328759936,
           2.0693367793251847,
           2.3777063579068263,
           2.7112396686209177,
           3.069936711467458,
           3.453797486446445,
           3.8628219935578847,
           4.297010232801775,
           4.7563622041781155,
           5.2408779076869045,
           5.750557343328144,
           6.285400511101835,
           6.845407411007974,
           7.430578043046556,
           8.040912407217595,
           8.676410503521087,
           9.337072331957025,
           10.022897892525414,
           10.733887185226251,
           11.470040210059539
          ],
          [
           4.938928093829575,
           4.469121662097399,
           4.024478962497669,
           3.6049999950303913,
           3.2106847596955634,
           2.8415332564931854,
           2.497545485423256,
           2.1787214464857767,
           1.885061139680747,
           1.6165645650081688,
           1.3732317224680386,
           1.1550626120603589,
           0.9620572337851295,
           0.794215587642349,
           0.6515376736320184,
           0.5340234917541377,
           0.4416730420087068,
           0.37448632439572577,
           0.3324633389151948,
           0.3156040855671134,
           0.3239085643514817,
           0.35737677526829986,
           0.41600871831756797,
           0.4998043934992859,
           0.6087638008134537,
           0.7428869402600712,
           0.9021738118391389,
           1.086624415550654,
           1.2962387513946207,
           1.5310168193710376,
           1.7909586194799045,
           2.076064151721221,
           2.3863334160949874,
           2.7217664126012044,
           3.08236314123987,
           3.4681236020109814,
           3.8790477949145465,
           4.315135719950563,
           4.776387377119028,
           5.262802766419943,
           5.774381887853309,
           6.311124741419124,
           6.873031327117388,
           7.460101644948097,
           8.07233569491126,
           8.709733477006875,
           9.37229499123494,
           10.060020237595454,
           10.772909216088417,
           11.51096192671383
          ],
          [
           4.88868866302851,
           4.420749472148463,
           3.9779740134008654,
           3.5603622867857165,
           3.1679142923030197,
           2.8006300299527727,
           2.4585094997349746,
           2.141552701649626,
           1.8497596356967272,
           1.58313030187628,
           1.3416647001882809,
           1.1253628306327317,
           0.9342246932096335,
           0.7682502879189838,
           0.627439614760784,
           0.5117926737350342,
           0.4213094648417342,
           0.35598998808088406,
           0.315834243452484,
           0.30084223095653345,
           0.31101395059303266,
           0.3463494023619817,
           0.4068485862633807,
           0.4925115022972295,
           0.6033381504635281,
           0.7393285307622767,
           0.900482643193475,
           1.0868004877571211,
           1.298282064453219,
           1.5349273732817665,
           1.7967364142427642,
           2.0837091873362117,
           2.395845692562109,
           2.733145929920456,
           3.095609899411253,
           3.4832376010344963,
           3.8960290347901916,
           4.333984200678339,
           4.797103098698934,
           5.28538572885198,
           5.798832091137477,
           6.337442185555422,
           6.901216012105818,
           7.490153570788658,
           8.104254861603952,
           8.743519884551699,
           9.407948639631892,
           10.097541126844538,
           10.812297346189633,
           11.552217297667177
          ],
          [
           4.840536909672795,
           4.374423960511707,
           3.9334747434830644,
           3.517689258586873,
           3.1270675058231334,
           2.761609485191843,
           2.421315196693001,
           2.106184640326609,
           1.8162178160926672,
           1.5514147239911764,
           1.3117753640221337,
           1.0972997361855414,
           0.9079878404813997,
           0.7438396769097068,
           0.6048552454704637,
           0.4910345461636706,
           0.4023775789893272,
           0.3388843439474338,
           0.3005548410379903,
           0.2873890702609964,
           0.2993870316164523,
           0.336548725104358,
           0.3988741507247137,
           0.4863633084775192,
           0.5990161983627746,
           0.7368328203804796,
           0.8998131745306349,
           1.0879572608132373,
           1.301265079228292,
           1.5397366297757966,
           1.8033719124557508,
           2.0921709272681546,
           2.406133674213009,
           2.745260153290313,
           3.109550364500066,
           3.499004307842265,
           3.9136219833169186,
           4.353403390924021,
           4.818348530663575,
           5.308457402535578,
           5.82373000654003,
           6.364166342676933,
           6.929766410946286,
           7.52053021134808,
           8.136457743882332,
           8.777549008549034,
           9.443804005348186,
           10.135222734279786,
           10.851805195343838,
           11.59355138854034
          ],
          [
           4.794629984170145,
           4.330293997030107,
           3.8911217420225177,
           3.4771132191473777,
           3.0882684284046893,
           2.724587369794451,
           2.3860700433166615,
           2.072716448971321,
           1.7845265867584312,
           1.5215004566779924,
           1.2836380587300016,
           1.070939392914461,
           0.8834044592313713,
           0.72103325768073,
           0.5838257882625388,
           0.4717820509767976,
           0.3849020458235061,
           0.32318577280266453,
           0.2866332319142729,
           0.2752444231583309,
           0.28901934653483863,
           0.32795800204379627,
           0.39206038968520374,
           0.4813265094590611,
           0.5957563613653682,
           0.7353499454041252,
           0.9001072615753322,
           1.0900283098789867,
           1.3051130903150934,
           1.5453616028836494,
           1.8107738475846553,
           2.1013498244181115,
           2.4170895333840177,
           2.7579929744823732,
           3.124060147713179,
           3.5152910530764294,
           3.9316856905721353,
           4.373244060200289,
           4.839966161960895,
           5.331851995853949,
           5.848901561879454,
           6.3911148600374075,
           6.958491890327813,
           7.55103265275066,
           8.168737147305961,
           8.811605373993716,
           9.47963733281392,
           10.172833023766573,
           10.891192446851676,
           11.63471560206923
          ],
          [
           4.751117954882859,
           4.288501679197649,
           3.851049135644886,
           3.4387603242245723,
           3.0516352449367106,
           2.6896738977812986,
           2.3528762827583347,
           2.041242399867822,
           1.754772249109758,
           1.4934658304841453,
           1.257323143990981,
           1.046344189630267,
           0.8605289674020039,
           0.6998774773061892,
           0.5643897193428244,
           0.4540656935119097,
           0.3689053998134447,
           0.30890883824742954,
           0.2740760088138644,
           0.2644069115127488,
           0.27990154634408304,
           0.32055991330786704,
           0.386382012404101,
           0.47736784363278484,
           0.5935174069939185,
           0.7348307024875019,
           0.9013077301135356,
           1.0929484898720165,
           1.3097529817629492,
           1.5517212057863319,
           1.8188531619421648,
           2.111148850230447,
           2.42860827065118,
           2.771231423204362,
           3.139018307889993,
           3.5319689247080714,
           3.9500832736586022,
           4.393361354741584,
           4.861803167957015,
           5.355408713304896,
           5.874177990785228,
           6.418111000398009,
           6.98720774214324,
           7.581468216020914,
           8.200892422031043,
           8.845480360173623,
           9.515232030448654,
           10.210147432856134,
           10.930226567396064,
           11.675469434068443
          ],
          [
           4.7101437780568896,
           4.249182336411891,
           3.8133846268993414,
           3.4027506495192408,
           3.0172804042715917,
           2.656973891156392,
           2.3218311101736413,
           2.011852061323341,
           1.7270367446054895,
           1.46738516002009,
           1.2328973075671388,
           1.0235731872466372,
           0.8394127990585866,
           0.6804161430029846,
           0.5465832190798326,
           0.4379140272891305,
           0.35440856763087825,
           0.29606684010507583,
           0.26288884471172336,
           0.25487458145082054,
           0.27202405032236743,
           0.31433725132636425,
           0.381814184462811,
           0.47445484973170743,
           0.5922592471330538,
           0.7352273766668499,
           0.9033592383330961,
           1.09665483213179,
           1.3151141580629355,
           1.5587372161265307,
           1.827524006322576,
           2.121474528651071,
           2.440588783112017,
           2.784866769705411,
           3.1543084884312558,
           3.548913939289546,
           3.9686831222802903,
           4.413616037403485,
           4.883712684659129,
           5.378973064047223,
           5.899397175567765,
           6.444985019220759,
           7.015736595006204,
           7.611651902924089,
           8.232730942974431,
           8.878973715157224,
           9.550380219472466,
           10.24695045592016,
           10.968684424500303,
           11.715582125212896
          ],
          [
           4.67184323840975,
           4.212464502998043,
           3.7782494997187865,
           3.3691982285719795,
           2.985310689557623,
           2.6265868826757166,
           2.293026807926259,
           1.984630465309251,
           1.701397854824693,
           1.4433289764725863,
           1.2104238302529278,
           1.0026824161657193,
           0.8201047342109617,
           0.6626907843886528,
           0.5304405666987937,
           0.42335408114138456,
           0.3414313277164252,
           0.2846723064239157,
           0.2530770172638563,
           0.24664546023624648,
           0.2653776353410863,
           0.3092735425783761,
           0.37833318194811566,
           0.47255655345030523,
           0.5919436570849445,
           0.7364944928520337,
           0.906209060751573,
           1.1010873607835594,
           1.321129392947998,
           1.5663351572448863,
           1.8367046536742244,
           2.132237882236013,
           2.4529348429302504,
           2.798795535756939,
           3.169819960716076,
           3.5660081178076597,
           3.9873600070316964,
           4.433875628388184,
           4.9055549818771205,
           5.402398067498508,
           5.924404885252344,
           6.471575435138631,
           7.043909717157367,
           7.641407731308545,
           8.26406947759218,
           8.91189495600827,
           9.584884166556803,
           10.28303710923779,
           11.006353784051225,
           11.75483419099711
          ],
          [
           4.636344851169091,
           4.178469850663077,
           3.7457585822895103,
           3.338211046048394,
           2.955827241939728,
           2.598607169963512,
           2.266550830119745,
           1.959658222408428,
           1.6779293468295602,
           1.4213642033831442,
           1.1899627920691764,
           0.9837251128876585,
           0.8026511658385916,
           0.6467409509219731,
           0.5159944681378048,
           0.4104117174860862,
           0.3299926989668176,
           0.27473741257999873,
           0.24464585832562988,
           0.23971803620371057,
           0.2599539462142411,
           0.30535358835722143,
           0.37591696263265173,
           0.4716440690405318,
           0.5925349075808617,
           0.7385894782536415,
           0.9098077810588713,
           1.1061898159965484,
           1.3277355830666777,
           1.5744450822692568,
           1.8463183136042853,
           2.1433552770717643,
           2.465555972671693,
           2.8129204004040713,
           3.1854485602688998,
           3.5831404522661736,
           4.005996076395902,
           4.454015432658079,
           4.927198521052707,
           5.425545341579784,
           5.949055894239311,
           6.497730179031288,
           7.071568195955717,
           7.670569945012585,
           8.294735426201912,
           8.944064639523688,
           9.618557584977914,
           10.318214262564592,
           11.043034672283715,
           11.79301881413529
          ],
          [
           4.6037697179871415,
           4.147313072682087,
           3.7160201595094797,
           3.309890978469323,
           2.928925529561617,
           2.573123812786361,
           2.2424858281435536,
           1.937011575633196,
           1.6567010552552888,
           1.4015542670098327,
           1.1715712108968246,
           0.9667518869162666,
           0.7870962950681591,
           0.6326044353525007,
           0.5032763077692922,
           0.3991119123185334,
           0.32011124900022453,
           0.2662743178143655,
           0.23760111876095655,
           0.23409165183999703,
           0.25574591705148736,
           0.30256391439542757,
           0.3745456438718177,
           0.4716911054806576,
           0.5940002992219473,
           0.7414732250956869,
           0.9141098831018766,
           1.1119102732405137,
           1.3348743955116023,
           1.5830022499151415,
           1.8562938364511303,
           2.154749155119569,
           2.4783682059204573,
           2.8271509888537953,
           3.2010975039195833,
           3.600207751117817,
           4.024481730448504,
           4.473919441911642,
           4.9485208855072305,
           5.448286061235267,
           5.9732149690957534,
           6.523307609088691,
           7.0985639812140775,
           7.698984085471908,
           8.324567921862194,
           8.97531549038493,
           9.651226791040116,
           10.352301823827753,
           11.078540588747837,
           11.829943085800375
          ],
          [
           4.574231330958037,
           4.119101713931671,
           3.6891358290377547,
           3.2843336762762876,
           2.9046952556472716,
           2.5502205671507054,
           2.2209096107865873,
           1.9167623865549195,
           1.637778894455702,
           1.3839591344889353,
           1.1553031066546169,
           0.9518108109527484,
           0.7734822473833308,
           0.6203174159463621,
           0.49231631664184317,
           0.38947894946977407,
           0.3118053144301549,
           0.25929541152298563,
           0.23194924074826626,
           0.22976680210599648,
           0.25274809559617645,
           0.30089312121880635,
           0.3742018789738861,
           0.47267436886141584,
           0.5963105908813953,
           0.7451105450338245,
           0.9190742313187038,
           1.1182016497360305,
           1.342492800285809,
           1.5919476829680377,
           1.8665662977827158,
           2.1663486447298443,
           2.4912947238094225,
           2.8414045350214505,
           3.2166780783659283,
           3.6171153538428507,
           4.0427163614522295,
           4.493481101194057,
           4.969409573068333,
           5.470501777075058,
           5.996757713214237,
           6.548177381485863,
           7.124760781889939,
           7.726507914426461,
           8.353418779095433,
           9.005493375896863,
           9.682731704830736,
           10.385133765897063,
           11.112699559095839,
           11.865429084427063
          ],
          [
           4.547835320895467,
           4.093935942826579,
           3.6652002968901387,
           3.2616283830861486,
           2.8832202014146104,
           2.5299757518755213,
           2.2018950344688806,
           1.8989780491946902,
           1.6212247960529496,
           1.3686352750436603,
           1.1412094861668192,
           0.9389474294224279,
           0.7618491048104876,
           0.6099145123309961,
           0.4831436519839544,
           0.38153652376936253,
           0.3050931276872205,
           0.2538134637375285,
           0.22769753192028636,
           0.2267453322354939,
           0.2509568646831511,
           0.3003321292632582,
           0.3748711259758153,
           0.4745738548208221,
           0.5994403157982788,
           0.7494705089081853,
           0.9246644341505419,
           1.125022091525346,
           1.3505434810326016,
           1.6012286026723075,
           1.8770774564444632,
           2.1780900423490683,
           2.504266360386124,
           2.8556064105556294,
           3.2321101928575846,
           3.633777707291985,
           4.06060895385884,
           4.512603932558145,
           4.9897626433898985,
           5.492085086354103,
           6.019571261450755,
           6.57222116867986,
           7.150034808041414,
           7.753012179535411,
           8.381153283161863,
           9.034458118920769,
           9.71292668681212,
           10.416558986835923,
           11.145355018992175,
           11.899314783280879
          ],
          [
           4.524679148045082,
           4.071908263244494,
           3.6443011105763534,
           3.2418576900406633,
           2.864578001637424,
           2.5124620453666346,
           2.1855098212282926,
           1.8837213292224024,
           1.6070965693489612,
           1.355635541607971,
           1.1293382459994294,
           0.9282046825233378,
           0.7522348511796967,
           0.6014287519685046,
           0.4757863848897623,
           0.37530774994346994,
           0.2999928471296275,
           0.24984167644823477,
           0.22485423789929201,
           0.2250305314827989,
           0.25037055719875556,
           0.3008743150471621,
           0.37654180502801854,
           0.47737302714132485,
           0.6033679813870809,
           0.7545266677652869,
           0.9308490862759429,
           1.132335236919046,
           1.3589851196946015,
           1.6107987346026067,
           1.8877760816430615,
           2.189917160815966,
           2.517221972121321,
           2.869690515559126,
           3.2473227911293803,
           3.65011879883208,
           4.078078538667236,
           4.5312020106348365,
           5.0094892147348915,
           5.5129401509673945,
           6.041554819332348,
           6.595333219829753,
           7.174275352459605,
           7.778381217221901,
           8.407650814116653,
           9.062084143143855,
           9.741681204303509,
           10.446441997595612,
           11.176366523020164,
           11.931454780577166
          ],
          [
           4.504851735466541,
           4.053103166596096,
           3.626518329858098,
           3.225097225252549,
           2.8488398527794514,
           2.497746212438805,
           2.1718163042306053,
           1.8710501281548568,
           1.5954476842115581,
           1.3450089724007104,
           1.1197339927223111,
           0.9196227451763616,
           0.7446752297628628,
           0.594891446481813,
           0.47027139533321305,
           0.3708150763170629,
           0.29652248943336257,
           0.24739363468211215,
           0.2234285120633117,
           0.22462712157696085,
           0.25098946322305976,
           0.30251553700160855,
           0.37920534291260716,
           0.48105888095605576,
           0.6080761511319542,
           0.7602571534403021,
           0.9376018878811007,
           1.140110354454346,
           1.3677825531600436,
           1.6206184839981912,
           1.8986181469687882,
           2.201781542071836,
           2.530108669307333,
           2.8835995286752794,
           3.2622541201756765,
           3.6660724438085177,
           4.0950544995738145,
           4.549200287471561,
           5.028509807501757,
           5.532983059664402,
           6.062620043959498,
           6.617420760387043,
           7.197385208947039,
           7.802513389639477,
           8.432805302464374,
           9.088260947421716,
           9.768880324511514,
           10.474663433733758,
           11.20561027508845,
           11.961720848575597
          ],
          [
           4.488433047379909,
           4.037596726269475,
           3.6119241372914903,
           3.211415280445955,
           2.8360701557328714,
           2.485888763152237,
           2.1608711027040512,
           1.8610171743883155,
           1.5863269782050295,
           1.336800514154195,
           1.1124377822358087,
           0.9132387824498726,
           0.7392035147963867,
           0.59033197927535,
           0.4666241758867631,
           0.368080104630626,
           0.29469976550693894,
           0.24648315851570166,
           0.22343028365691428,
           0.22554114093057648,
           0.2528157303366885,
           0.30525405187525045,
           0.3828561055462622,
           0.48562189134972394,
           0.6135514092856355,
           0.7666446593539967,
           0.944901641554808,
           1.1483223558880669,
           1.3769068023537776,
           1.6306549809519382,
           1.9095668916825483,
           2.213642534545609,
           2.5428819095411193,
           2.8972850166690787,
           3.2768518559294892,
           3.681582427322343,
           4.111476730847653,
           4.566534766505413,
           5.046756534295622,
           5.552142034218281,
           6.082691266273388,
           6.6384042304609485,
           7.219280926780957,
           7.8253213552334095,
           8.456525515818317,
           9.112893408535674,
           9.794425033385483,
           10.501120390367738,
           11.232979479482447,
           11.990002300729603
          ],
          [
           4.475493616786884,
           4.025456138706128,
           3.600582392757819,
           3.2008723789419604,
           2.826326097258553,
           2.4769435477075947,
           2.1527247302890857,
           1.853669645003027,
           1.5797782918494176,
           1.3310506708282595,
           1.1074867819395497,
           0.90908662518329,
           0.7358502005594811,
           0.5877775080681209,
           0.4648685477092105,
           0.3671233194827501,
           0.29454182338873947,
           0.24712405942717874,
           0.22487002759806804,
           0.2277797279014068,
           0.25585316033719535,
           0.3090903249054338,
           0.3874912216061221,
           0.49105585043926037,
           0.6197842114048484,
           0.7736763045028863,
           0.9527321297333742,
           1.1569516870963092,
           1.3863349765916966,
           1.640881998219534,
           1.9205927519798207,
           2.2254672378725573,
           2.5555054558977446,
           2.9107074060553813,
           3.2910730883454677,
           3.696602502767999,
           4.127295649322985,
           4.583152528010421,
           5.0641731388303075,
           5.570357481782643,
           6.101705556867428,
           6.658217364084663,
           7.239892903434347,
           7.846732174916475,
           8.47873517853106,
           9.135901914278096,
           9.818232382157579,
           10.525726582169513,
           11.258384514313896,
           12.016206178590732
          ],
          [
           4.466094028606605,
           4.016739217307456,
           3.592548138140755,
           3.193520791106505,
           2.8196571762047045,
           2.470957293435355,
           2.147421142798454,
           1.8490487242940026,
           1.575840037922001,
           1.3277950836824508,
           1.1049138615753489,
           0.907196371600697,
           0.7346426137584957,
           0.5872525880487435,
           0.46502629447144084,
           0.3679637330265883,
           0.29606490371418553,
           0.24932980653423262,
           0.22775844148672963,
           0.23135080857167628,
           0.26010690778907264,
           0.31402673913891893,
           0.3931103026212152,
           0.4973575982359612,
           0.6267686259831571,
           0.7813433858628028,
           0.9610818778748986,
           1.1659841020194415,
           1.3960500582964366,
           1.6512797467058815,
           1.9316731672477765,
           2.237230319922121,
           2.567951204728916,
           2.9238358216681606,
           3.3048841707398546,
           3.711096251943994,
           4.142472065280587,
           4.599011610749631,
           5.080714888351125,
           5.587581898085068,
           6.119612639951461,
           6.676807113950305,
           7.259165320081599,
           7.866687258345335,
           8.499372928741526,
           9.157222331270168,
           9.84023546593126,
           10.548412332724801,
           11.281752931650797,
           12.040257262709234
          ],
          [
           4.46028436636805,
           4.011493847185658,
           3.5878670601357134,
           3.1894040052182198,
           2.8161046824331764,
           2.4679690917805828,
           2.1449972332604377,
           1.847189106872743,
           1.5745447126174985,
           1.3270640504947047,
           1.1047471205043595,
           0.9075939226464641,
           0.7356044569210194,
           0.5887787233280235,
           0.46711672186747755,
           0.37061845253938147,
           0.29928391534373516,
           0.2531131102805388,
           0.2321060373497923,
           0.23626269655149543,
           0.26558308788564844,
           0.3200672113522512,
           0.399715066951304,
           0.5045266546828066,
           0.634501974546759,
           0.7896410265431613,
           0.9699438106720133,
           1.1754103269333127,
           1.4060405753270644,
           1.661834555853266,
           1.9427922685119172,
           2.248913713303019,
           2.5801988902265705,
           2.9366477992825706,
           3.318260440471022,
           3.7250368137919168,
           4.156976919245268,
           4.614080756831068,
           5.096348326549317,
           5.603779628400018,
           6.136374662383167,
           6.694133428498767,
           7.277055926746816,
           7.885142157127311,
           8.518392119640257,
           9.176805814285657,
           9.860383241063504,
           10.569124399973804,
           11.303029291016552,
           12.062097914191751
          ],
          [
           4.458103632138776,
           4.009757410423138,
           3.5865749208399467,
           3.188556163389206,
           2.8157011380709167,
           2.4680098448850765,
           2.1454822838316847,
           1.8481184549107437,
           1.5759183581222522,
           1.328881993466212,
           1.10700936094262,
           0.9103004605514781,
           0.7387552922927868,
           0.5923738561665444,
           0.47115615217275186,
           0.3751021803114092,
           0.30421194058251644,
           0.25848543298607346,
           0.2379226575220804,
           0.242523614190537,
           0.27228830299144335,
           0.32721672392479967,
           0.40730887699060575,
           0.5125647621888618,
           0.6429843795195677,
           0.7985677289827232,
           0.9793148105783289,
           1.185225624306382,
           1.416300170166887,
           1.6725384481598418,
           1.9539404582852467,
           2.260506200543101,
           2.592235674933406,
           2.949128881456161,
           3.3311858201113647,
           3.7384064908990133,
           4.170790893819118,
           4.628339028871671,
           5.111050896056676,
           5.618926495374128,
           6.151965826824031,
           6.710168890406384,
           7.293535686121188,
           7.902066213968433,
           8.535760473948134,
           9.194618466060287,
           9.878640190304889,
           10.58782564668194,
           11.322174835191444,
           12.081687755833396
          ],
          [
           4.459579150808483,
           4.01155619295602,
           3.5886969672360025,
           3.191001473648437,
           2.8184697121933215,
           2.4711016828706565,
           2.1488973856804394,
           1.8518568206226727,
           1.5799799876973561,
           1.3332668869044904,
           1.111717518244073,
           0.9153318817161056,
           0.7441099773205891,
           0.5980518050575212,
           0.47715736492690336,
           0.3814266569287353,
           0.3108596810630172,
           0.26545643732974883,
           0.24521692572893045,
           0.25014114626056166,
           0.28022909892464265,
           0.33548078372117357,
           0.4158962006501543,
           0.5214753497115848,
           0.6522182309054654,
           0.8081248442317955,
           0.9891951896905758,
           1.1954292672818034,
           1.4268270770054832,
           1.6833886188616127,
           1.9651138928501921,
           2.272002898971221,
           2.6040556372247012,
           2.96127210761063,
           3.3436523101290088,
           3.751196244779832,
           4.183903911563111,
           4.64177531047884,
           5.124810441527017,
           5.633009304707645,
           6.166371900020722,
           6.72489822746625,
           7.308588287044228,
           7.917442078754648,
           8.551459602597525,
           9.210640858572855,
           9.89498584668063,
           10.604494566920856,
           11.339167019293534,
           12.09900320379866
          ],
          [
           4.464725971055676,
           4.016904785419614,
           3.5942473319160007,
           3.196753610544838,
           2.8244236213061256,
           2.4772573641998625,
           2.155254839226048,
           1.858416046384684,
           1.5867409856757695,
           1.3402296570993066,
           1.1188820606552916,
           0.9226981963437269,
           0.7516780641646128,
           0.6058216641179475,
           0.48512899620373207,
           0.38960006042196665,
           0.319234856772651,
           0.27403338525578513,
           0.2539956458713693,
           0.259121638619403,
           0.28941136349988655,
           0.34486482051281997,
           0.4254820096582032,
           0.5312629309360364,
           0.6622075843463193,
           0.8183159698890522,
           0.999588087564235,
           1.206023937371865,
           1.4376235193119475,
           1.6943868333844794,
           1.976313879589461,
           2.283404657926893,
           2.615659168396775,
           2.9730774109991063,
           3.3556593857338877,
           3.7634050926011144,
           4.1963145316007955,
           4.654387702732926,
           5.137624605997507,
           5.646025241394536,
           6.179589608924018,
           6.738317708585948,
           7.322209540380327,
           7.93126510430715,
           8.565484400366428,
           9.22486742855816,
           9.909414188882339,
           10.619124681338969,
           11.353998905928046,
           12.114036862649575
          ],
          [
           4.47354627628091,
           4.02580549126134,
           3.6032284383742192,
           3.205815117619548,
           2.833565528997328,
           2.486479672507558,
           2.1645575481502357,
           1.8677991559253648,
           1.5962044958329429,
           1.3497735678729723,
           1.1285063720454498,
           0.9324029083503776,
           0.7614631767877559,
           0.6156871773575832,
           0.49507491005986026,
           0.3996263748945873,
           0.32934157186176405,
           0.2842205009613908,
           0.26426316219346746,
           0.26946955555799357,
           0.29983968105496966,
           0.3553735386843955,
           0.43607112844627127,
           0.5419324503405968,
           0.6729575043673724,
           0.8291462905265976,
           1.010498808818273,
           1.2170150592423956,
           1.4486950417989704,
           1.705538756487995,
           1.9875462033094693,
           2.2947173822633933,
           2.6270522933497675,
           2.9845509365685916,
           3.3672133119198655,
           3.7750394194035843,
           4.208029259019758,
           4.66618283076838,
           5.149500134649455,
           5.657981170662977,
           6.191625938808949,
           6.750434439087374,
           7.334406671498246,
           7.94354263604156,
           8.577842332717331,
           9.237305761525555,
           9.921932922466228,
           10.631723815539347,
           11.36667844074492,
           12.126796798082943
          ],
          [
           4.486028819470407,
           4.038247756119103,
           3.6156304249002473,
           3.218176825813842,
           2.8458869588598867,
           2.4987608240383823,
           2.1767984213493254,
           1.8799997507927193,
           1.608364812368563,
           1.3618936060768574,
           1.1405861319176005,
           0.9444423898907935,
           0.7734623799964373,
           0.6276461022345299,
           0.5069935566050724,
           0.4115047431080647,
           0.341179661743507,
           0.296018312511399,
           0.27602069541174096,
           0.2811868104445325,
           0.3115166576097739,
           0.3670102369074652,
           0.44766754833760636,
           0.5534885919001974,
           0.684473367595238,
           0.8406218754227287,
           1.0219341153826695,
           1.2284100874750572,
           1.4600497916998973,
           1.716853228057187,
           1.9988203965469271,
           2.3059512971691167,
           2.638245929923756,
           2.995704294810846,
           3.3783263918303845,
           3.7861122209823685,
           4.219061782266809,
           4.677175075683696,
           5.1604521012330355,
           5.668892858914822,
           6.202497348729062,
           6.76126557067575,
           7.345197524754888,
           7.954293210966468,
           8.588552629310506,
           9.247975779786993,
           9.93256266239593,
           10.642313277137319,
           11.377227624011153,
           12.13730570301744
          ],
          [
           4.502148396344334,
           4.054207632865637,
           3.6314306015193876,
           3.2338173023055887,
           2.86136773522424,
           2.5140819002753414,
           2.191959797458892,
           1.8950014267748923,
           1.6232067882233423,
           1.3765758818042435,
           1.1551087075175932,
           0.958805265363393,
           0.787665555341643,
           0.6416895774523421,
           0.5208773316954911,
           0.42522881807109003,
           0.35474403657913883,
           0.30942298721963735,
           0.28926566999258585,
           0.29427208489798395,
           0.32444223193583194,
           0.37977611110612974,
           0.4602737224088774,
           0.5659350658440749,
           0.6967601414117223,
           0.8527489491118196,
           1.0339014889443667,
           1.2402177609093614,
           1.4716977650068077,
           1.7283415012367043,
           2.0101489695990504,
           2.3171201700938466,
           2.6492551027210927,
           3.006553767480789,
           3.389016164372935,
           3.796642293397525,
           4.229432154554571,
           4.687385747844066,
           5.17050307326601,
           5.6787841308204055,
           6.2122289205072505,
           6.770837442326545,
           7.354609696278289,
           7.963545682362478,
           8.597645400579122,
           9.256908850928218,
           9.941336033409758,
           10.650926948023752,
           11.385681594770194,
           12.14559997364909
          ],
          [
           4.52186537123553,
           4.073647296822489,
           3.6505929545418954,
           3.252702344393751,
           2.879975466378059,
           2.532412320494815,
           2.210012906744021,
           1.9127772251256767,
           1.6407052756397824,
           1.393797058286339,
           1.1720525730653442,
           0.9754718199767992,
           0.8040547990207049,
           0.6578015101970596,
           0.536711953505864,
           0.4407861289471183,
           0.37002403652082255,
           0.3244256762269766,
           0.30399104806558064,
           0.30872015203663417,
           0.33861298814013757,
           0.3936695563760908,
           0.473889856744494,
           0.5792738892453471,
           0.7098216538786498,
           0.8655331506444024,
           1.0464083795426051,
           1.2524473405732548,
           1.4836500337363572,
           1.740016459031909,
           2.021546616459911,
           2.3282405060203626,
           2.660098127713264,
           3.0171194815386153,
           3.3993045674964164,
           3.8066533855866633,
           4.239165935809363,
           4.696842218164514,
           5.179682232652115,
           5.687685979272164,
           6.220853458024665,
           6.779184668909616,
           7.362679611927015,
           7.971338287076857,
           8.605160694359158,
           9.264146833773905,
           9.948296705321106,
           10.657610309000756,
           11.392087644812854,
           12.151728712757402
          ],
          [
           4.545125269933698,
           4.096514625447882,
           3.673067713094515,
           3.274784532873598,
           2.901665084785132,
           2.5537093688291157,
           2.230917385005548,
           1.9332891333144304,
           1.660824613755762,
           1.4135238263295453,
           1.1913867710357773,
           0.9944134478744585,
           0.8226038568455909,
           0.6759579979491721,
           0.554475871185203,
           0.458157476553684,
           0.38700281405461473,
           0.34101188368799534,
           0.3201846854538259,
           0.324521219352106,
           0.35402148538283595,
           0.40868548354601575,
           0.4885132138416454,
           0.5935046762697249,
           0.7236598708302544,
           0.8789787975232336,
           1.0594614563486626,
           1.2651078473065391,
           1.495917970396868,
           1.7518918256196465,
           2.033029412974875,
           2.3393307324625527,
           2.670795784082681,
           3.027424567835259,
           3.4092170837202866,
           3.8161733317377595,
           4.2482933118876876,
           4.705577024170064,
           5.188024468584891,
           5.695635645132168,
           6.228410553811894,
           6.78634919462407,
           7.369451567568698,
           7.977717672645768,
           8.611147509855293,
           9.269741079197269,
           9.953498380671697,
           10.662419414278572,
           11.396504180017894,
           12.155752677889671
          ],
          [
           4.571858453219691,
           4.122742856303279,
           3.698790991519317,
           3.300002858867803,
           2.9263784583487413,
           2.5779177899621293,
           2.2546208537079657,
           1.9564876495862518,
           1.683518177596988,
           1.4357124377401755,
           1.2130704300158113,
           1.015592154423897,
           0.8432776109644334,
           0.6961267996374186,
           0.5741397204428539,
           0.4773163733807388,
           0.40565675845107374,
           0.3591608756538584,
           0.3378287249890931,
           0.3416603064567774,
           0.37065562005691144,
           0.4248146657894954,
           0.5041374436545292,
           0.6086239536520129,
           0.7382741957819464,
           0.8930881700443297,
           1.073065876439163,
           1.2782073149664437,
           1.5085124856261765,
           1.7639813884183588,
           2.0446140233429917,
           2.3504103904000737,
           2.681370489589606,
           3.037494320911588,
           3.41878188436602,
           3.8252331799528974,
           4.2568482076722285,
           4.71362696752401,
           5.195569459508242,
           5.702675683624922,
           6.234945639874052,
           6.792379328255634,
           7.374976748769663,
           7.982737901416137,
           8.615662786195069,
           9.273751403106447,
           9.957003752150278,
           10.665419833326556,
           11.398999646635287,
           12.157743192076468
          ]
         ]
        },
        {
         "mode": "lines+markers",
         "name": "theta Values",
         "type": "scatter",
         "x": [
          2.601057454779614,
          0.9034272767622247,
          2.0563364416095036,
          1.1589234696036672,
          1.7938804194525289,
          1.3215749439533506,
          1.6495449106923081,
          1.4232529432779681,
          1.5829504072241183,
          1.4709725522541734,
          1.5504096528840599,
          1.4943913185184219,
          1.5341564032256916,
          1.506039954902419,
          1.525989188155241,
          1.5118665534078317,
          1.521882079272916,
          1.5147877319328085,
          1.519817390738254,
          1.516253726023518
         ],
         "y": [
          2.601057454779614,
          2.5910060231049896,
          2.963129099991904,
          2.8668743087666506,
          3.072755727714994,
          3.001465693449906,
          3.0291086593677257,
          2.988203025298647,
          3.010338461886587,
          2.9892651852224326,
          3.001744204213725,
          2.9913519372340183,
          2.997978235955032,
          2.99286670937898,
          2.99628664791577,
          2.993755312996005,
          2.9954961669353444,
          2.994234974327257,
          2.9951151604637363,
          2.994484413042848
         ]
        }
       ],
       "layout": {
        "template": {
         "data": {
          "bar": [
           {
            "error_x": {
             "color": "#2a3f5f"
            },
            "error_y": {
             "color": "#2a3f5f"
            },
            "marker": {
             "line": {
              "color": "#E5ECF6",
              "width": 0.5
             },
             "pattern": {
              "fillmode": "overlay",
              "size": 10,
              "solidity": 0.2
             }
            },
            "type": "bar"
           }
          ],
          "barpolar": [
           {
            "marker": {
             "line": {
              "color": "#E5ECF6",
              "width": 0.5
             },
             "pattern": {
              "fillmode": "overlay",
              "size": 10,
              "solidity": 0.2
             }
            },
            "type": "barpolar"
           }
          ],
          "carpet": [
           {
            "aaxis": {
             "endlinecolor": "#2a3f5f",
             "gridcolor": "white",
             "linecolor": "white",
             "minorgridcolor": "white",
             "startlinecolor": "#2a3f5f"
            },
            "baxis": {
             "endlinecolor": "#2a3f5f",
             "gridcolor": "white",
             "linecolor": "white",
             "minorgridcolor": "white",
             "startlinecolor": "#2a3f5f"
            },
            "type": "carpet"
           }
          ],
          "choropleth": [
           {
            "colorbar": {
             "outlinewidth": 0,
             "ticks": ""
            },
            "type": "choropleth"
           }
          ],
          "contour": [
           {
            "colorbar": {
             "outlinewidth": 0,
             "ticks": ""
            },
            "colorscale": [
             [
              0,
              "#0d0887"
             ],
             [
              0.1111111111111111,
              "#46039f"
             ],
             [
              0.2222222222222222,
              "#7201a8"
             ],
             [
              0.3333333333333333,
              "#9c179e"
             ],
             [
              0.4444444444444444,
              "#bd3786"
             ],
             [
              0.5555555555555556,
              "#d8576b"
             ],
             [
              0.6666666666666666,
              "#ed7953"
             ],
             [
              0.7777777777777778,
              "#fb9f3a"
             ],
             [
              0.8888888888888888,
              "#fdca26"
             ],
             [
              1,
              "#f0f921"
             ]
            ],
            "type": "contour"
           }
          ],
          "contourcarpet": [
           {
            "colorbar": {
             "outlinewidth": 0,
             "ticks": ""
            },
            "type": "contourcarpet"
           }
          ],
          "heatmap": [
           {
            "colorbar": {
             "outlinewidth": 0,
             "ticks": ""
            },
            "colorscale": [
             [
              0,
              "#0d0887"
             ],
             [
              0.1111111111111111,
              "#46039f"
             ],
             [
              0.2222222222222222,
              "#7201a8"
             ],
             [
              0.3333333333333333,
              "#9c179e"
             ],
             [
              0.4444444444444444,
              "#bd3786"
             ],
             [
              0.5555555555555556,
              "#d8576b"
             ],
             [
              0.6666666666666666,
              "#ed7953"
             ],
             [
              0.7777777777777778,
              "#fb9f3a"
             ],
             [
              0.8888888888888888,
              "#fdca26"
             ],
             [
              1,
              "#f0f921"
             ]
            ],
            "type": "heatmap"
           }
          ],
          "heatmapgl": [
           {
            "colorbar": {
             "outlinewidth": 0,
             "ticks": ""
            },
            "colorscale": [
             [
              0,
              "#0d0887"
             ],
             [
              0.1111111111111111,
              "#46039f"
             ],
             [
              0.2222222222222222,
              "#7201a8"
             ],
             [
              0.3333333333333333,
              "#9c179e"
             ],
             [
              0.4444444444444444,
              "#bd3786"
             ],
             [
              0.5555555555555556,
              "#d8576b"
             ],
             [
              0.6666666666666666,
              "#ed7953"
             ],
             [
              0.7777777777777778,
              "#fb9f3a"
             ],
             [
              0.8888888888888888,
              "#fdca26"
             ],
             [
              1,
              "#f0f921"
             ]
            ],
            "type": "heatmapgl"
           }
          ],
          "histogram": [
           {
            "marker": {
             "pattern": {
              "fillmode": "overlay",
              "size": 10,
              "solidity": 0.2
             }
            },
            "type": "histogram"
           }
          ],
          "histogram2d": [
           {
            "colorbar": {
             "outlinewidth": 0,
             "ticks": ""
            },
            "colorscale": [
             [
              0,
              "#0d0887"
             ],
             [
              0.1111111111111111,
              "#46039f"
             ],
             [
              0.2222222222222222,
              "#7201a8"
             ],
             [
              0.3333333333333333,
              "#9c179e"
             ],
             [
              0.4444444444444444,
              "#bd3786"
             ],
             [
              0.5555555555555556,
              "#d8576b"
             ],
             [
              0.6666666666666666,
              "#ed7953"
             ],
             [
              0.7777777777777778,
              "#fb9f3a"
             ],
             [
              0.8888888888888888,
              "#fdca26"
             ],
             [
              1,
              "#f0f921"
             ]
            ],
            "type": "histogram2d"
           }
          ],
          "histogram2dcontour": [
           {
            "colorbar": {
             "outlinewidth": 0,
             "ticks": ""
            },
            "colorscale": [
             [
              0,
              "#0d0887"
             ],
             [
              0.1111111111111111,
              "#46039f"
             ],
             [
              0.2222222222222222,
              "#7201a8"
             ],
             [
              0.3333333333333333,
              "#9c179e"
             ],
             [
              0.4444444444444444,
              "#bd3786"
             ],
             [
              0.5555555555555556,
              "#d8576b"
             ],
             [
              0.6666666666666666,
              "#ed7953"
             ],
             [
              0.7777777777777778,
              "#fb9f3a"
             ],
             [
              0.8888888888888888,
              "#fdca26"
             ],
             [
              1,
              "#f0f921"
             ]
            ],
            "type": "histogram2dcontour"
           }
          ],
          "mesh3d": [
           {
            "colorbar": {
             "outlinewidth": 0,
             "ticks": ""
            },
            "type": "mesh3d"
           }
          ],
          "parcoords": [
           {
            "line": {
             "colorbar": {
              "outlinewidth": 0,
              "ticks": ""
             }
            },
            "type": "parcoords"
           }
          ],
          "pie": [
           {
            "automargin": true,
            "type": "pie"
           }
          ],
          "scatter": [
           {
            "fillpattern": {
             "fillmode": "overlay",
             "size": 10,
             "solidity": 0.2
            },
            "type": "scatter"
           }
          ],
          "scatter3d": [
           {
            "line": {
             "colorbar": {
              "outlinewidth": 0,
              "ticks": ""
             }
            },
            "marker": {
             "colorbar": {
              "outlinewidth": 0,
              "ticks": ""
             }
            },
            "type": "scatter3d"
           }
          ],
          "scattercarpet": [
           {
            "marker": {
             "colorbar": {
              "outlinewidth": 0,
              "ticks": ""
             }
            },
            "type": "scattercarpet"
           }
          ],
          "scattergeo": [
           {
            "marker": {
             "colorbar": {
              "outlinewidth": 0,
              "ticks": ""
             }
            },
            "type": "scattergeo"
           }
          ],
          "scattergl": [
           {
            "marker": {
             "colorbar": {
              "outlinewidth": 0,
              "ticks": ""
             }
            },
            "type": "scattergl"
           }
          ],
          "scattermapbox": [
           {
            "marker": {
             "colorbar": {
              "outlinewidth": 0,
              "ticks": ""
             }
            },
            "type": "scattermapbox"
           }
          ],
          "scatterpolar": [
           {
            "marker": {
             "colorbar": {
              "outlinewidth": 0,
              "ticks": ""
             }
            },
            "type": "scatterpolar"
           }
          ],
          "scatterpolargl": [
           {
            "marker": {
             "colorbar": {
              "outlinewidth": 0,
              "ticks": ""
             }
            },
            "type": "scatterpolargl"
           }
          ],
          "scatterternary": [
           {
            "marker": {
             "colorbar": {
              "outlinewidth": 0,
              "ticks": ""
             }
            },
            "type": "scatterternary"
           }
          ],
          "surface": [
           {
            "colorbar": {
             "outlinewidth": 0,
             "ticks": ""
            },
            "colorscale": [
             [
              0,
              "#0d0887"
             ],
             [
              0.1111111111111111,
              "#46039f"
             ],
             [
              0.2222222222222222,
              "#7201a8"
             ],
             [
              0.3333333333333333,
              "#9c179e"
             ],
             [
              0.4444444444444444,
              "#bd3786"
             ],
             [
              0.5555555555555556,
              "#d8576b"
             ],
             [
              0.6666666666666666,
              "#ed7953"
             ],
             [
              0.7777777777777778,
              "#fb9f3a"
             ],
             [
              0.8888888888888888,
              "#fdca26"
             ],
             [
              1,
              "#f0f921"
             ]
            ],
            "type": "surface"
           }
          ],
          "table": [
           {
            "cells": {
             "fill": {
              "color": "#EBF0F8"
             },
             "line": {
              "color": "white"
             }
            },
            "header": {
             "fill": {
              "color": "#C8D4E3"
             },
             "line": {
              "color": "white"
             }
            },
            "type": "table"
           }
          ]
         },
         "layout": {
          "annotationdefaults": {
           "arrowcolor": "#2a3f5f",
           "arrowhead": 0,
           "arrowwidth": 1
          },
          "autotypenumbers": "strict",
          "coloraxis": {
           "colorbar": {
            "outlinewidth": 0,
            "ticks": ""
           }
          },
          "colorscale": {
           "diverging": [
            [
             0,
             "#8e0152"
            ],
            [
             0.1,
             "#c51b7d"
            ],
            [
             0.2,
             "#de77ae"
            ],
            [
             0.3,
             "#f1b6da"
            ],
            [
             0.4,
             "#fde0ef"
            ],
            [
             0.5,
             "#f7f7f7"
            ],
            [
             0.6,
             "#e6f5d0"
            ],
            [
             0.7,
             "#b8e186"
            ],
            [
             0.8,
             "#7fbc41"
            ],
            [
             0.9,
             "#4d9221"
            ],
            [
             1,
             "#276419"
            ]
           ],
           "sequential": [
            [
             0,
             "#0d0887"
            ],
            [
             0.1111111111111111,
             "#46039f"
            ],
            [
             0.2222222222222222,
             "#7201a8"
            ],
            [
             0.3333333333333333,
             "#9c179e"
            ],
            [
             0.4444444444444444,
             "#bd3786"
            ],
            [
             0.5555555555555556,
             "#d8576b"
            ],
            [
             0.6666666666666666,
             "#ed7953"
            ],
            [
             0.7777777777777778,
             "#fb9f3a"
            ],
            [
             0.8888888888888888,
             "#fdca26"
            ],
            [
             1,
             "#f0f921"
            ]
           ],
           "sequentialminus": [
            [
             0,
             "#0d0887"
            ],
            [
             0.1111111111111111,
             "#46039f"
            ],
            [
             0.2222222222222222,
             "#7201a8"
            ],
            [
             0.3333333333333333,
             "#9c179e"
            ],
            [
             0.4444444444444444,
             "#bd3786"
            ],
            [
             0.5555555555555556,
             "#d8576b"
            ],
            [
             0.6666666666666666,
             "#ed7953"
            ],
            [
             0.7777777777777778,
             "#fb9f3a"
            ],
            [
             0.8888888888888888,
             "#fdca26"
            ],
            [
             1,
             "#f0f921"
            ]
           ]
          },
          "colorway": [
           "#636efa",
           "#EF553B",
           "#00cc96",
           "#ab63fa",
           "#FFA15A",
           "#19d3f3",
           "#FF6692",
           "#B6E880",
           "#FF97FF",
           "#FECB52"
          ],
          "font": {
           "color": "#2a3f5f"
          },
          "geo": {
           "bgcolor": "white",
           "lakecolor": "white",
           "landcolor": "#E5ECF6",
           "showlakes": true,
           "showland": true,
           "subunitcolor": "white"
          },
          "hoverlabel": {
           "align": "left"
          },
          "hovermode": "closest",
          "mapbox": {
           "style": "light"
          },
          "paper_bgcolor": "white",
          "plot_bgcolor": "#E5ECF6",
          "polar": {
           "angularaxis": {
            "gridcolor": "white",
            "linecolor": "white",
            "ticks": ""
           },
           "bgcolor": "#E5ECF6",
           "radialaxis": {
            "gridcolor": "white",
            "linecolor": "white",
            "ticks": ""
           }
          },
          "scene": {
           "xaxis": {
            "backgroundcolor": "#E5ECF6",
            "gridcolor": "white",
            "gridwidth": 2,
            "linecolor": "white",
            "showbackground": true,
            "ticks": "",
            "zerolinecolor": "white"
           },
           "yaxis": {
            "backgroundcolor": "#E5ECF6",
            "gridcolor": "white",
            "gridwidth": 2,
            "linecolor": "white",
            "showbackground": true,
            "ticks": "",
            "zerolinecolor": "white"
           },
           "zaxis": {
            "backgroundcolor": "#E5ECF6",
            "gridcolor": "white",
            "gridwidth": 2,
            "linecolor": "white",
            "showbackground": true,
            "ticks": "",
            "zerolinecolor": "white"
           }
          },
          "shapedefaults": {
           "line": {
            "color": "#2a3f5f"
           }
          },
          "ternary": {
           "aaxis": {
            "gridcolor": "white",
            "linecolor": "white",
            "ticks": ""
           },
           "baxis": {
            "gridcolor": "white",
            "linecolor": "white",
            "ticks": ""
           },
           "bgcolor": "#E5ECF6",
           "caxis": {
            "gridcolor": "white",
            "linecolor": "white",
            "ticks": ""
           }
          },
          "title": {
           "x": 0.05
          },
          "xaxis": {
           "automargin": true,
           "gridcolor": "white",
           "linecolor": "white",
           "ticks": "",
           "title": {
            "standoff": 15
           },
           "zerolinecolor": "white",
           "zerolinewidth": 2
          },
          "yaxis": {
           "automargin": true,
           "gridcolor": "white",
           "linecolor": "white",
           "ticks": "",
           "title": {
            "standoff": 15
           },
           "zerolinecolor": "white",
           "zerolinewidth": 2
          }
         }
        },
        "title": {
         "text": "Gradient Descent with Static Learning Rate"
        }
       }
      },
      "text/html": [
       "<div>                            <div id=\"95d069e1-12ed-4de1-b584-3feab3a950b9\" class=\"plotly-graph-div\" style=\"height:525px; width:100%;\"></div>            <script type=\"text/javascript\">                require([\"plotly\"], function(Plotly) {                    window.PLOTLYENV=window.PLOTLYENV || {};                                    if (document.getElementById(\"95d069e1-12ed-4de1-b584-3feab3a950b9\")) {                    Plotly.newPlot(                        \"95d069e1-12ed-4de1-b584-3feab3a950b9\",                        [{\"colorscale\":[[0.0,\"#440154\"],[0.1111111111111111,\"#482878\"],[0.2222222222222222,\"#3e4989\"],[0.3333333333333333,\"#31688e\"],[0.4444444444444444,\"#26828e\"],[0.5555555555555556,\"#1f9e89\"],[0.6666666666666666,\"#35b779\"],[0.7777777777777778,\"#6ece58\"],[0.8888888888888888,\"#b5de2b\"],[1.0,\"#fde725\"]],\"reversescale\":true,\"x\":[0.8034272767622247,0.8421544232523754,0.8808815697425263,0.9196087162326771,0.9583358627228279,0.9970630092129786,1.0357901557031295,1.0745173021932803,1.1132444486834312,1.1519715951735818,1.1906987416637327,1.2294258881538835,1.2681530346440342,1.306880181134185,1.3456073276243359,1.3843344741144867,1.4230616206046376,1.4617887670947884,1.500515913584939,1.5392430600750897,1.5779702065652406,1.6166973530553914,1.6554244995455423,1.6941516460356931,1.732878792525844,1.7716059390159948,1.8103330855061457,1.849060231996296,1.887787378486447,1.9265145249765978,1.9652416714667487,2.0039688179568995,2.0426959644470504,2.0814231109372012,2.120150257427352,2.1588774039175025,2.1976045504076533,2.236331696897804,2.275058843387955,2.313785989878106,2.3525131363682568,2.3912402828584076,2.4299674293485585,2.468694575838709,2.5074217223288597,2.5461488688190106,2.5848760153091614,2.6236031617993123,2.662330308289463,2.701057454779614],\"y\":[2.4910060231049895,2.504919282382745,2.5188325416604997,2.532745800938255,2.5466590602160104,2.5605723194937653,2.5744855787715206,2.588398838049276,2.6023120973270313,2.616225356604786,2.6301386158825415,2.644051875160297,2.6579651344380517,2.671878393715807,2.6857916529935624,2.6997049122713173,2.7136181715490726,2.727531430826828,2.741444690104583,2.755357949382338,2.7692712086600935,2.783184467937849,2.7970977272156037,2.811010986493359,2.8249242457711143,2.8388375050488692,2.8527507643266246,2.86666402360438,2.880577282882135,2.89449054215989,2.9084038014376454,2.9223170607154003,2.9362303199931556,2.950143579270911,2.9640568385486663,2.977970097826421,2.9918833571041765,3.005796616381932,3.0197098756596867,3.033623134937442,3.0475363942151974,3.0614496534929527,3.0753629127707076,3.089276172048463,3.103189431326218,3.117102690603973,3.1310159498817285,3.144929209159484,3.158842468437239,3.172755727714994],\"z\":[[6.251546434657765,5.747655507622024,5.268928312718731,4.815364849947889,4.386965119309497,3.9837291208035563,3.6056568544300633,3.2527483201890197,2.925003518080427,2.622422448104285,2.345005110260591,2.0927515045493474,1.8656616309705547,1.6637354895242107,1.4869730802103163,1.335374403028872,1.2089394579798773,1.1076682450633326,1.031560764279238,0.9806170156275931,0.9548369991083977,0.9542207147216524,0.9787681624673564,1.0284793423455107,1.1033542543561146,1.2033928984991689,1.3285952747746728,1.4789613831826243,1.6544912237230278,1.8551847963958807,2.081042101201184,2.332063138138937,2.6082479072091393,2.909596408411792,3.2361086417468945,3.5877846072144424,3.9646243048144445,4.3666277345468965,4.793794896411799,5.24612579040915,5.723620416538952,6.226278774801203,6.754100865195904,7.307086687723049,7.885236242382648,8.488549529174701,9.1170265480992,9.77066729915615,10.449471782345551,11.1534399976674],[6.213464981931458,5.70984470035026,5.231388150901512,4.778095333585211,4.349966248401364,3.947000895349965,3.569199274431015,3.216561385644514,2.889087228990464,2.5867768044688653,2.3096301120797147,2.0576471518230135,1.8308279236987635,1.6291724277069624,1.452680663847611,1.3013526321207094,1.1751883325262578,1.0741877650642562,0.9983509297347045,0.9476778265376027,0.9221684554729499,0.9218228165407474,0.9466409097409947,0.9966227350736917,1.0717682925388388,1.1720775821364355,1.2975506038664826,1.448187357728977,1.6239878437239232,1.8249520618513195,2.051080012111165,2.302371694503461,2.578827109028206,2.8804462556854022,3.2072291344750474,3.5591757453971384,3.936286088451684,4.338560163638678,4.765997970958122,5.218599510410018,5.696364781994362,6.199293785711156,6.7273865215604,7.280642989542088,7.859063189656231,8.462647121902824,9.091394786281867,9.745306182793358,10.424381311437303,11.128620172213697],[6.172285091848286,5.669080361606995,5.191039363498152,4.738162097521759,4.310448563677816,3.9078987619663237,3.5305126923872803,3.178290354940686,2.851231749626541,2.549336876444849,2.272605735395604,2.0210383264788097,1.7946346496944656,1.5933947050425707,1.4173184925231253,1.26640601213613,1.1406572638815844,1.0400722477594888,0.9646509637698436,0.9143934119126476,0.8892995921879012,0.8893695045956049,0.9146031491357579,0.9650005258083616,1.0405616346134148,1.1412864755509178,1.2671750486208706,1.4182273538232713,1.5944433911581237,1.795823160625426,2.022366662225178,2.2740738959573803,2.550944861822032,2.8529795598191336,3.1801779899486844,3.532540152210682,3.9100660466051327,4.312755673132035,4.740609031791384,5.1936261225831855,5.671806945507436,6.175151500564137,6.703659787753286,7.2573318070748805,7.836167558528929,8.440167042115428,9.069330257834379,9.723657205685779,10.403147885669625,11.107802297785925],[6.128204772848167,5.625556963203815,5.14807288569191,4.695752540312455,4.2685959270654505,3.8666030459508973,3.489773896968792,3.1381084801191363,2.8116067954019304,2.510268842817177,2.2340946223648706,1.9830841340450145,1.7572373778576094,1.5565543538026527,1.3810350618801461,1.2306795020900894,1.1054876744324822,1.0054595789073255,0.9305952155146184,0.8808945842543612,0.8563576851265535,0.8569845181311956,0.8827750832682875,0.9337293805378295,1.0098474099398211,1.1111291714742628,1.2375746651411543,1.3891838909404937,1.5659568488722848,1.7678935389365256,1.9949939611332161,2.2472581154623565,2.524686001923947,2.8272776205179873,3.1550329712444776,3.5079520541034133,3.886034869094803,4.289281416218643,4.717691695474932,5.171265706863672,5.65000345038486,6.153904926038498,6.682970133824588,7.2371990737431195,7.816591745794108,8.421148149977547,9.050868286293435,9.705752154741774,10.385799755322559,11.091011088035797],[6.081433330037207,5.579479652196972,5.102689706489188,4.651063492913852,4.224601011470967,3.8233022621605324,3.4471672449825457,3.0961959599370097,2.7703884070239226,2.4697445862432876,2.194264497595101,1.943948141079364,1.7187955166960778,1.5188066244452405,1.3439814643268528,1.1943200363409152,1.0698223404874274,0.9704883767663894,0.8963181451778016,0.8473116457216635,0.8234688783979749,0.824789843206736,0.8512745401479471,0.9029229692216082,0.979735130427719,1.0817110237662797,1.2088506492372904,1.3611540068407486,1.538621096576659,1.7412519184450184,1.9690464724458283,2.222004758579088,2.5001267768447972,2.8034125272429566,3.131862009773566,3.4854752244366214,3.8642521712321303,4.268192850160088,4.697297261220497,5.151565404413355,5.630997279738662,6.135592887196421,6.66535222678663,7.22027529850928,7.800362102364387,8.405612638351945,9.036026906471953,9.69160490672441,10.372346639109315,11.078252103626674],[6.0321896724417945,5.531062583557937,5.0550992268065285,4.604299602187569,4.178663709701062,3.778191549347004,3.402883121125394,3.0527384250362344,2.7277574610795243,2.427940229255266,2.1532867295634555,1.9037969620040947,1.6794709265771859,1.4803086232827247,1.306310052120714,1.157475213091153,1.033804106194042,0.9352967314293804,0.8619530887971693,0.8137731782974078,0.7907569999300957,0.7929045536952337,0.8202158395928213,0.8726908576228589,0.9503296077853465,1.0531320900802836,1.1810983045076708,1.3342282510675059,1.5125219297597925,1.715979340584529,1.9446004835417154,2.1983853586313518,2.4773339658534383,2.781446305207974,3.1107223766949597,3.4651621803143917,3.8447657160662767,4.249532983950612,4.679463983967397,5.134558716116632,5.614817180398316,6.120239376812451,6.650825305359036,7.206574966038064,7.787488358849547,8.393565483793482,9.024806340869864,9.6812109300787,10.362779251419981,11.069511304893716],[5.980700636911626,5.480527271966389,5.0055176391536005,4.5556717384732615,4.130989569925374,3.7314711335099355,3.357116429226947,3.007925457076407,2.6838982170583177,2.3850347091726793,2.111334933419489,1.862798889798749,1.6394265783104602,1.4412179989546197,1.2681731517312291,1.1202920366402884,0.9975746536817973,0.9000210028557564,0.8276310841621655,0.7804048976010243,0.7583424431723326,0.7614437208760907,0.7897087307122986,0.8431374726809565,0.9217299467820642,1.025486153015622,1.1544060913816294,1.308489761880085,1.4877371645109918,1.6921482992743486,1.9217231661701553,2.1764617651984115,2.4563640963591182,2.7614301596522743,3.0916599550778803,3.447053482635932,3.8276107423264376,4.2333317341493935,4.664216458104799,5.120264914192655,5.601477102412958,6.107853022765713,6.63939267525092,7.196096059868569,7.777963176618671,8.384994025501225,9.017188606516228,9.674546919663683,10.357068964943586,11.064754742355941],[5.927199348457807,5.4281009823640485,4.9541663484027385,4.505395446573878,4.081788276877467,3.683344839313508,3.310065133881997,2.961949160582935,2.6389969194163236,2.3412084103821638,2.068583633480452,1.82112258871119,1.5988252760743789,1.4016916955700165,1.2297218471981035,1.082915730958641,0.9612733468516281,0.8647946948770653,0.7934797750349525,0.7473285873252893,0.7263411317480756,0.7305174083033119,0.759857416990998,0.8143611578111339,0.8940286307637199,0.9988598358487555,1.1288547730662408,1.2840134424161747,1.4643358438985596,1.6698219775133947,1.9004718432606793,2.156285441140414,2.4372627711525987,2.7434038332972324,3.074708627574317,3.431177153983847,3.8128094125258305,4.219605403200265,4.6515651260071476,5.10868858094648,5.590975768018264,6.098426687222497,6.63104133855918,7.188819722028306,7.771761837629888,8.379867685363921,9.013137265230403,9.671570577229334,10.355167621360719,11.063928397624547],[5.871923635212108,5.374015177298352,4.9012704515170435,4.453689457868186,4.031272196351779,3.6340186669678216,3.261928869716313,2.9150028045972545,2.593240471610646,2.2966418707564884,2.025207002034779,1.7789358654455198,1.5578284609887116,1.361884788664352,1.1911048484724418,1.045488640412982,0.925036164485972,0.8297474206914117,0.7596224090293017,0.7146611294996412,0.6948635821024303,0.7002297668376694,0.730759683705358,0.7864533327054968,0.8673107138380854,0.9733318271031237,1.1045166725006124,1.2608652500305484,1.442377559692936,1.649053601487774,1.8808933754150614,2.1378968814747985,2.420064119666986,2.7273950899916226,3.0598897924487094,3.4175482270382425,3.800370393760229,4.208356292614665,4.641505923601551,5.099819286720888,5.583296381972674,6.091937209356909,6.625741768873595,7.184710060522724,7.768842084304309,8.378137840218345,9.012597328264828,9.672220548443764,10.357007500755147,11.066958185198983],[5.815114514324147,5.318504037207261,4.847057292222826,4.400774279370839,3.979654998651303,3.583699450064217,3.2129076336095794,2.8672795492873924,2.5468151970976542,2.251514577040368,1.9813776891155306,1.7364045333231426,1.5165951096632058,1.3219494181357172,1.1524674587406787,1.0081492314780902,0.8889947363479511,0.7950039733502624,0.7261769424850235,0.6825136437522343,0.6640140771518946,0.670678242684005,0.7025061403485651,0.759497770145575,0.8416531320750348,0.9489722261369445,1.081455052331304,1.2391016106581116,1.4219119011173704,1.6298859237090793,1.8630236784332381,2.121325165289847,2.4047903842789053,2.7134193354004137,3.047212018654372,3.406168434040776,3.7902885815596337,4.19957246121094,4.634020072994699,5.093631416910905,5.578406492959564,6.088345301140669,6.623447841454227,7.183714113900226,7.769144118478683,8.37973785518959,9.015495324032946,9.676416525008754,10.362501458117007,11.073750123357714],[5.757014763015255,5.261803067690781,4.791755104498756,4.346870873439179,3.9271503745120535,3.532593607717378,3.1632005730551516,2.8189712705253736,2.499905700128047,2.206003861863171,1.9372657557307433,1.6936913817307657,1.475280739863239,1.282033830128161,1.1139506525255327,0.9710312070553545,0.8532754937176259,0.7606835125123473,0.6932552634395188,0.6509907464991399,0.6338899616912105,0.6419529090157312,0.6751795884727015,0.7335700000621219,0.8171241437839921,0.925842019638312,1.059723627625082,1.2187689677442999,1.402978039995969,1.612350844380088,1.8468873808966573,2.106587649545676,2.391451650327145,2.7014793832410637,3.0366708482874327,3.3970260454662466,3.782544974777515,4.193227636221233,4.6290740297974,5.090084155506018,5.576258013347085,6.087595603320603,6.624096925426569,7.1857619796649805,7.772590766035846,8.384583284539163,9.02173953517493,9.684059517943147,10.37154323284381,11.08419067987693],[5.697867586725225,5.20414780552536,4.735591756457941,4.292199439522974,3.8739708547204557,3.4809060020503892,3.11300488151277,2.7702674931076015,2.452693836834882,2.160283912694615,1.8930377206867952,1.6509552608114257,1.4340365330685074,1.2422815374580376,1.0756902739800174,0.9342627426344472,0.8179989434213273,0.7268988763406568,0.6609625413924366,0.620189938576666,0.604581067893345,0.6141359293424737,0.6488545229240524,0.708736848638081,0.7937829064845594,0.9039926964634877,1.039366218574866,1.199903472818692,1.3856044591949697,1.596469177703697,1.8324976283448746,2.093689811118502,2.380045726024579,2.691565373063106,3.0282487522340826,3.390095863537505,3.777106706973382,4.189281282541708,4.626619590242483,5.089121630075709,5.576787402041385,6.0896169061395105,6.627610142370087,7.190767110733105,7.77908781122858,8.392572243856502,9.031220408616878,9.695032305509704,10.384007934534978,11.098147295692703],[5.637915393867922,5.145772632751189,4.6787936037669065,4.2369783069150735,3.8203267421956904,3.4288389096087575,3.062514809154273,2.7213544408322394,2.4053578046426547,2.114524900585522,1.8488557286608371,1.608350288868602,1.3930085812088184,1.2028306056814828,1.0378163622865975,0.897965851024162,0.7832790718941763,0.6937560248966406,0.6293967100315548,0.5902011272989188,0.5761692766987323,0.5873011582309957,0.6235967718957091,0.685056117692872,0.771679195622485,0.8834660056845479,1.0204165478790606,1.1825308222060213,1.369808828665433,1.5822505672572953,1.8198560379816073,2.082625240838369,2.370558175827581,2.6836548429492426,3.0219152422033537,3.385339373589911,3.7739272371089223,4.187678832760382,4.626594160544292,5.090673220460653,5.579916012509464,6.094322536690725,6.633892793004434,7.198626781450588,7.788524502029197,8.403585954740256,9.043811139583765,9.709200056559725,10.399752705668133,11.115469086908995],[5.577398684202849,5.08690970564838,4.621584459226359,4.181422944936788,3.766425162779668,3.3765911127549977,3.0119207948627755,2.6724142091030036,2.358071355475682,2.068892233980811,1.8048768446183885,1.5660251873884161,1.352337262290895,1.1638130693258217,1.000452608493199,0.8622558797930256,0.7492228832253023,0.661353618790029,0.5986480864872057,0.561106286316832,0.5487282182789078,0.5615138823734337,0.5994632786004093,0.6625764069598347,0.75085326745171,0.8642938600760355,1.0028981848328105,1.1666662417220335,1.3555980307437077,1.5696935518978323,1.8089528051844066,2.0733757906034307,2.3629625081549044,2.677712957838829,3.017627139655202,3.3827050536040217,3.772946699685296,4.188352077899018,4.628921188245191,5.094654030723814,5.585550605334887,6.10161091207841,6.642834950954382,7.209222721962797,7.800774225103669,8.417489460376991,9.059368427782761,9.726411127320985,10.418617558991654,11.135987722794777],[5.516555055281622,5.027788002865638,4.564184682582103,4.125745094431016,3.7124692384123827,3.3243571145261974,2.9614087227724606,2.6236240631511745,2.311003135662338,2.023545940305953,1.761252477082016,1.5241227459905289,1.3121567470314925,1.1253544802049054,0.9637159455107678,0.8272411429490799,0.7159300725198421,0.6297827342230541,0.5687991280587162,0.532979254026828,0.5223231121273892,0.5368307023604004,0.5765020247258614,0.6413370792237724,0.7313358658541331,0.8464983846169438,0.9868246355122046,1.1523146185399127,1.3429683337000728,1.5587857809926826,1.7997669604177424,2.065911871975252,2.3572205156652117,2.6736928914876215,3.0153289994424797,3.382128839529784,3.7740924117495434,4.1912197161017515,4.633510752586411,5.100965521203519,5.593584021953077,6.111366254835085,6.654312219849542,7.222421916996442,7.815695346275801,8.43413250768761,9.077733401231866,9.746498026908574,10.44042638471773,11.159518474659336],[5.455618328890725,4.96863249442427,4.506810392090265,4.070152021888709,3.658657383819604,3.2723264778829484,2.9111593040787413,2.5751558624069846,2.2643161528676776,1.9786401754608225,1.7181279301864152,1.4827794170444577,1.2725946360349512,1.0875735871578933,0.9277162704132856,0.7930226858011276,0.6834928333214193,0.5991267129741611,0.5399243247593528,0.5058856686769941,0.49701074472708523,0.5132995529096261,0.5547520932246167,0.6213683656720574,0.7131483702519479,0.8300921069642883,0.9721995758090783,1.1394707767863164,1.3319057098960063,1.5495043751381457,1.7922667725127348,2.0601929020197742,2.3532827636592635,2.6715363574312025,3.014953683335592,3.383534741372426,3.777279531541714,4.196188053843453,4.64026030827764,5.109496294844278,5.603896013543365,6.123459464374904,6.66818664733889,7.238077562435322,7.833132209664209,8.453350589025547,9.098732700519333,9.76927854414557,10.464988119904255,11.185861427795393],[5.394817796933688,4.909663430839607,4.449672796877973,4.014845895048792,3.605182725352059,3.2206832877877773,2.8613475823559433,2.52717560905656,2.218167367889626,1.9343228588551442,1.67564208195311,1.4421250371835257,1.2337717245463924,1.0505821440417078,0.8925562956694731,0.7596941794296883,0.6519957953223532,0.5694611433474682,0.5120902235050332,0.47988303579504776,0.47283958021751193,0.49095985677242615,0.53424386545979,0.6026916062796038,0.6963030792318675,0.815078284316581,0.9590172215337445,1.1281198908833554,1.3223862923654186,1.5418164259799314,1.7864102917268945,2.0561678896063063,2.351089219618169,2.671174281762481,3.016423076039243,3.3868356024484507,3.7824118609901127,4.203151851664224,4.649055574470785,5.120123029409795,5.616354216481257,6.1377491356851674,6.684307787021528,7.256030170490334,7.852916286091592,8.474966133825303,9.122179713691464,9.794557025690073,10.492098069821132,11.214802846084641],[5.334377583823459,4.851095749228189,4.392977646765368,3.9600232764349954,3.552232638237074,3.1696057321716036,2.8121425582385813,2.4798431164380084,2.172707406769886,1.8907354292342151,1.633927183830992,1.4022826705602185,1.1958018894218965,1.0144848404160227,0.858331523542599,0.7273419388016252,0.6215160861931012,0.5408539657170273,0.4853555773734032,0.45502092116222875,0.449849997083504,0.46984280513722915,0.5149993453234042,0.5853196176420289,0.6808036220931037,0.8014513586766282,0.9472628273926027,1.118238028241025,1.3143769612218987,1.5356796263352226,1.782146023580996,2.05377615295922,2.350570014469893,2.6725276081130165,3.0196489338885892,3.3919339917966074,3.7893827818370807,4.211995304010003,4.659771558315375,5.132711544753197,5.630815263323469,6.154082714026192,6.702513896861363,7.276108811828978,7.874867458929048,8.49878983816157,9.147875949526542,9.822125793023961,10.521539368653833,11.246116676416152],[5.274516120233453,4.793138591046205,4.336924793991405,3.905874729069056,3.4999883962791576,3.11926579562171,2.7637069270967096,2.4333117907041597,2.128080386444059,1.8480127143164107,1.59310877432121,1.3633685664584594,1.15879209072816,0.9793793471303087,0.8251303356649076,0.6960450563319562,0.5921235091314547,0.5133656940634033,0.4597716111278017,0.4313412603246499,0.4280746416539476,0.4499717551156952,0.4970326007098928,0.5692571784365401,0.6666454882956374,0.7891975302871844,0.9369133044111813,1.109792810667626,1.3078360490565224,1.5310430195778686,1.779413722231665,2.052948157017911,2.3516463239366074,2.675508222987753,3.024533854171348,3.39872321748739,3.798076312935885,4.222593140516829,4.672273700230224,5.147117992076069,5.647126016054362,6.172297772165108,6.722633260408302,7.29813248078394,7.898795433292034,8.524622117932577,9.175612534705573,9.851766683611013,10.553084564648909,11.279566177819248],[5.215445721024002,4.73599492407327,4.281707859254986,3.8525845265691534,3.44862492601577,3.0698290575948373,2.7161969213063535,2.3877285171503186,2.0844238451267345,1.8062829052356013,1.5533056974769166,1.3254922218506817,1.1228424783568978,0.9453564669955623,0.7930341877666769,0.6658756406702414,0.5638808257062554,0.4870497428747197,0.43538239217563385,0.4088787736089977,0.4075388871748111,0.4313627328730744,0.4803503107037877,0.5545016206669506,0.6538166627625636,0.7782954369906264,0.9279379433511391,1.1027441818440995,1.3027141524695112,1.5278478552273738,1.7781452901176855,2.053606457140447,2.3542313562956587,2.68001998758332,3.0309723510034314,3.4070884465559885,3.8083682742409994,4.234811834058459,4.68641912600837,5.163190150090731,5.665124906305541,6.192223394652801,6.744485615132511,7.321911567744665,7.9245012524892715,8.552254669366334,9.205171818375842,9.883252699517804,10.586497312792211,11.31490565819907],[5.157372258355897,4.679861259451897,4.227513992680345,3.8003304580412434,3.398310655534592,3.0214545851603916,2.669762246918639,2.343233640809336,2.0418687668324833,1.765667624988082,1.5146302152761286,1.2887565376966252,1.0880465922495732,0.9125003789349697,0.7621178977528158,0.6368991487031119,0.5368441317858579,0.4619528470010537,0.4122252943486997,0.3876614738287951,0.38826138544134037,0.4140250291863353,0.46495240506378027,0.5410435130736752,0.6422983532160197,0.7687169254908142,0.9202992298980587,1.0970452664377508,1.2989550351098944,1.5260285359144883,1.7782657688515322,2.0556667339210253,2.358231431122969,2.685959860457362,3.0388520219242046,3.416907915523493,3.820127541255236,4.248510899119428,4.702057989116071,5.180768811245161,5.684643365506704,6.213681651900697,6.767883670427138,7.347249421086023,7.951778903877363,8.581472118801157,9.236329065857396,9.916349745046087,10.621534156367225,11.351882299820819],[5.100494919455426,4.62492745304792,4.174523718772861,3.749283716630255,3.349207446620097,2.974294908742391,2.624546102997132,2.2999610293843245,2.000539687903965,1.7262820785560582,1.4771882013405995,1.2532580562575906,1.0544916433070326,0.880888962488923,0.7324500138032634,0.6091747972500539,0.5110633128292938,0.438115560540984,0.390331540385124,0.3677112523617138,0.3702546964707531,0.39796187271224237,0.45083278108618136,0.5288674215925704,0.6320657942314094,0.7604278990026978,0.9139537359064366,1.0926433049426225,1.2964966061112606,1.5255136394123485,1.7796944048458863,2.0590389024118743,2.363547132110311,2.693219093941199,3.048054787904536,3.4280542140003187,3.833217372228555,4.263544262589242,4.719034885082379,5.199689239707964,5.705507326466,6.2364891453564875,6.792634696379423,7.373943979534801,7.980416994822637,8.612053742242923,9.268854221795658,9.950818433480842,10.657946377298476,11.390238053248561],[5.045006037231989,4.571376579136848,4.122910853174155,3.6996088593439147,3.3014705976461234,2.928496068080782,2.580685270647889,2.258038205347446,1.9605548721794532,1.6882352711439117,1.4410794022408182,1.2190872654701748,1.022258860831982,0.8505941883262383,0.7040932479529444,0.5827560397121002,0.4865825636037059,0.4155728196277615,0.36972680778426714,0.3490445280732224,0.3535259804946273,0.3831711650484821,0.43798008173478675,0.5179527305535413,0.6230891115047457,0.7533892245883999,0.9088530698045041,1.0894806471530558,1.2952719566340591,1.526226998247513,1.7823457719934164,2.063628277871769,2.3700745158825725,2.701684486025825,3.058458188301528,3.440395622709677,3.8474967892502785,4.2797616879233304,4.737190318728834,5.219782681666785,5.727538776737186,6.260458603940037,6.818542163275339,7.401789454743084,8.010200478343284,8.643775234075939,9.302513721941038,9.986415941938587,10.695481894068587,11.429711578331037],[4.991090980989422,4.5193848634651195,4.072842478073265,3.6514638248138622,3.2552489036869083,2.884197714692405,2.538310257830351,2.2175865331007465,1.9220265405035915,1.6516302800388878,1.4063977517066326,1.1863289555068273,0.991423891439473,0.8216825595045673,0.6771049597021113,0.5576910920321054,0.46344095649454914,0.39435455308944295,0.35043188181678675,0.33167294267658015,0.33807773566882315,0.36964626079351615,0.426378518050659,0.5082745074402517,0.6153342289622942,0.7475576826167865,0.9049448684037289,1.0874957863231187,1.2952104363749604,1.5280888185592523,1.7861309328759936,2.0693367793251847,2.3777063579068263,2.7112396686209177,3.069936711467458,3.453797486446445,3.8628219935578847,4.297010232801775,4.7563622041781155,5.2408779076869045,5.750557343328144,6.285400511101835,6.845407411007974,7.430578043046556,8.040912407217595,8.676410503521087,9.337072331957025,10.022897892525414,10.733887185226251,11.470040210059539],[4.938928093829575,4.469121662097399,4.024478962497669,3.6049999950303913,3.2106847596955634,2.8415332564931854,2.497545485423256,2.1787214464857767,1.885061139680747,1.6165645650081688,1.3732317224680386,1.1550626120603589,0.9620572337851295,0.794215587642349,0.6515376736320184,0.5340234917541377,0.4416730420087068,0.37448632439572577,0.3324633389151948,0.3156040855671134,0.3239085643514817,0.35737677526829986,0.41600871831756797,0.4998043934992859,0.6087638008134537,0.7428869402600712,0.9021738118391389,1.086624415550654,1.2962387513946207,1.5310168193710376,1.7909586194799045,2.076064151721221,2.3863334160949874,2.7217664126012044,3.08236314123987,3.4681236020109814,3.8790477949145465,4.315135719950563,4.776387377119028,5.262802766419943,5.774381887853309,6.311124741419124,6.873031327117388,7.460101644948097,8.07233569491126,8.709733477006875,9.37229499123494,10.060020237595454,10.772909216088417,11.51096192671383],[4.88868866302851,4.420749472148463,3.9779740134008654,3.5603622867857165,3.1679142923030197,2.8006300299527727,2.4585094997349746,2.141552701649626,1.8497596356967272,1.58313030187628,1.3416647001882809,1.1253628306327317,0.9342246932096335,0.7682502879189838,0.627439614760784,0.5117926737350342,0.4213094648417342,0.35598998808088406,0.315834243452484,0.30084223095653345,0.31101395059303266,0.3463494023619817,0.4068485862633807,0.4925115022972295,0.6033381504635281,0.7393285307622767,0.900482643193475,1.0868004877571211,1.298282064453219,1.5349273732817665,1.7967364142427642,2.0837091873362117,2.395845692562109,2.733145929920456,3.095609899411253,3.4832376010344963,3.8960290347901916,4.333984200678339,4.797103098698934,5.28538572885198,5.798832091137477,6.337442185555422,6.901216012105818,7.490153570788658,8.104254861603952,8.743519884551699,9.407948639631892,10.097541126844538,10.812297346189633,11.552217297667177],[4.840536909672795,4.374423960511707,3.9334747434830644,3.517689258586873,3.1270675058231334,2.761609485191843,2.421315196693001,2.106184640326609,1.8162178160926672,1.5514147239911764,1.3117753640221337,1.0972997361855414,0.9079878404813997,0.7438396769097068,0.6048552454704637,0.4910345461636706,0.4023775789893272,0.3388843439474338,0.3005548410379903,0.2873890702609964,0.2993870316164523,0.336548725104358,0.3988741507247137,0.4863633084775192,0.5990161983627746,0.7368328203804796,0.8998131745306349,1.0879572608132373,1.301265079228292,1.5397366297757966,1.8033719124557508,2.0921709272681546,2.406133674213009,2.745260153290313,3.109550364500066,3.499004307842265,3.9136219833169186,4.353403390924021,4.818348530663575,5.308457402535578,5.82373000654003,6.364166342676933,6.929766410946286,7.52053021134808,8.136457743882332,8.777549008549034,9.443804005348186,10.135222734279786,10.851805195343838,11.59355138854034],[4.794629984170145,4.330293997030107,3.8911217420225177,3.4771132191473777,3.0882684284046893,2.724587369794451,2.3860700433166615,2.072716448971321,1.7845265867584312,1.5215004566779924,1.2836380587300016,1.070939392914461,0.8834044592313713,0.72103325768073,0.5838257882625388,0.4717820509767976,0.3849020458235061,0.32318577280266453,0.2866332319142729,0.2752444231583309,0.28901934653483863,0.32795800204379627,0.39206038968520374,0.4813265094590611,0.5957563613653682,0.7353499454041252,0.9001072615753322,1.0900283098789867,1.3051130903150934,1.5453616028836494,1.8107738475846553,2.1013498244181115,2.4170895333840177,2.7579929744823732,3.124060147713179,3.5152910530764294,3.9316856905721353,4.373244060200289,4.839966161960895,5.331851995853949,5.848901561879454,6.3911148600374075,6.958491890327813,7.55103265275066,8.168737147305961,8.811605373993716,9.47963733281392,10.172833023766573,10.891192446851676,11.63471560206923],[4.751117954882859,4.288501679197649,3.851049135644886,3.4387603242245723,3.0516352449367106,2.6896738977812986,2.3528762827583347,2.041242399867822,1.754772249109758,1.4934658304841453,1.257323143990981,1.046344189630267,0.8605289674020039,0.6998774773061892,0.5643897193428244,0.4540656935119097,0.3689053998134447,0.30890883824742954,0.2740760088138644,0.2644069115127488,0.27990154634408304,0.32055991330786704,0.386382012404101,0.47736784363278484,0.5935174069939185,0.7348307024875019,0.9013077301135356,1.0929484898720165,1.3097529817629492,1.5517212057863319,1.8188531619421648,2.111148850230447,2.42860827065118,2.771231423204362,3.139018307889993,3.5319689247080714,3.9500832736586022,4.393361354741584,4.861803167957015,5.355408713304896,5.874177990785228,6.418111000398009,6.98720774214324,7.581468216020914,8.200892422031043,8.845480360173623,9.515232030448654,10.210147432856134,10.930226567396064,11.675469434068443],[4.7101437780568896,4.249182336411891,3.8133846268993414,3.4027506495192408,3.0172804042715917,2.656973891156392,2.3218311101736413,2.011852061323341,1.7270367446054895,1.46738516002009,1.2328973075671388,1.0235731872466372,0.8394127990585866,0.6804161430029846,0.5465832190798326,0.4379140272891305,0.35440856763087825,0.29606684010507583,0.26288884471172336,0.25487458145082054,0.27202405032236743,0.31433725132636425,0.381814184462811,0.47445484973170743,0.5922592471330538,0.7352273766668499,0.9033592383330961,1.09665483213179,1.3151141580629355,1.5587372161265307,1.827524006322576,2.121474528651071,2.440588783112017,2.784866769705411,3.1543084884312558,3.548913939289546,3.9686831222802903,4.413616037403485,4.883712684659129,5.378973064047223,5.899397175567765,6.444985019220759,7.015736595006204,7.611651902924089,8.232730942974431,8.878973715157224,9.550380219472466,10.24695045592016,10.968684424500303,11.715582125212896],[4.67184323840975,4.212464502998043,3.7782494997187865,3.3691982285719795,2.985310689557623,2.6265868826757166,2.293026807926259,1.984630465309251,1.701397854824693,1.4433289764725863,1.2104238302529278,1.0026824161657193,0.8201047342109617,0.6626907843886528,0.5304405666987937,0.42335408114138456,0.3414313277164252,0.2846723064239157,0.2530770172638563,0.24664546023624648,0.2653776353410863,0.3092735425783761,0.37833318194811566,0.47255655345030523,0.5919436570849445,0.7364944928520337,0.906209060751573,1.1010873607835594,1.321129392947998,1.5663351572448863,1.8367046536742244,2.132237882236013,2.4529348429302504,2.798795535756939,3.169819960716076,3.5660081178076597,3.9873600070316964,4.433875628388184,4.9055549818771205,5.402398067498508,5.924404885252344,6.471575435138631,7.043909717157367,7.641407731308545,8.26406947759218,8.91189495600827,9.584884166556803,10.28303710923779,11.006353784051225,11.75483419099711],[4.636344851169091,4.178469850663077,3.7457585822895103,3.338211046048394,2.955827241939728,2.598607169963512,2.266550830119745,1.959658222408428,1.6779293468295602,1.4213642033831442,1.1899627920691764,0.9837251128876585,0.8026511658385916,0.6467409509219731,0.5159944681378048,0.4104117174860862,0.3299926989668176,0.27473741257999873,0.24464585832562988,0.23971803620371057,0.2599539462142411,0.30535358835722143,0.37591696263265173,0.4716440690405318,0.5925349075808617,0.7385894782536415,0.9098077810588713,1.1061898159965484,1.3277355830666777,1.5744450822692568,1.8463183136042853,2.1433552770717643,2.465555972671693,2.8129204004040713,3.1854485602688998,3.5831404522661736,4.005996076395902,4.454015432658079,4.927198521052707,5.425545341579784,5.949055894239311,6.497730179031288,7.071568195955717,7.670569945012585,8.294735426201912,8.944064639523688,9.618557584977914,10.318214262564592,11.043034672283715,11.79301881413529],[4.6037697179871415,4.147313072682087,3.7160201595094797,3.309890978469323,2.928925529561617,2.573123812786361,2.2424858281435536,1.937011575633196,1.6567010552552888,1.4015542670098327,1.1715712108968246,0.9667518869162666,0.7870962950681591,0.6326044353525007,0.5032763077692922,0.3991119123185334,0.32011124900022453,0.2662743178143655,0.23760111876095655,0.23409165183999703,0.25574591705148736,0.30256391439542757,0.3745456438718177,0.4716911054806576,0.5940002992219473,0.7414732250956869,0.9141098831018766,1.1119102732405137,1.3348743955116023,1.5830022499151415,1.8562938364511303,2.154749155119569,2.4783682059204573,2.8271509888537953,3.2010975039195833,3.600207751117817,4.024481730448504,4.473919441911642,4.9485208855072305,5.448286061235267,5.9732149690957534,6.523307609088691,7.0985639812140775,7.698984085471908,8.324567921862194,8.97531549038493,9.651226791040116,10.352301823827753,11.078540588747837,11.829943085800375],[4.574231330958037,4.119101713931671,3.6891358290377547,3.2843336762762876,2.9046952556472716,2.5502205671507054,2.2209096107865873,1.9167623865549195,1.637778894455702,1.3839591344889353,1.1553031066546169,0.9518108109527484,0.7734822473833308,0.6203174159463621,0.49231631664184317,0.38947894946977407,0.3118053144301549,0.25929541152298563,0.23194924074826626,0.22976680210599648,0.25274809559617645,0.30089312121880635,0.3742018789738861,0.47267436886141584,0.5963105908813953,0.7451105450338245,0.9190742313187038,1.1182016497360305,1.342492800285809,1.5919476829680377,1.8665662977827158,2.1663486447298443,2.4912947238094225,2.8414045350214505,3.2166780783659283,3.6171153538428507,4.0427163614522295,4.493481101194057,4.969409573068333,5.470501777075058,5.996757713214237,6.548177381485863,7.124760781889939,7.726507914426461,8.353418779095433,9.005493375896863,9.682731704830736,10.385133765897063,11.112699559095839,11.865429084427063],[4.547835320895467,4.093935942826579,3.6652002968901387,3.2616283830861486,2.8832202014146104,2.5299757518755213,2.2018950344688806,1.8989780491946902,1.6212247960529496,1.3686352750436603,1.1412094861668192,0.9389474294224279,0.7618491048104876,0.6099145123309961,0.4831436519839544,0.38153652376936253,0.3050931276872205,0.2538134637375285,0.22769753192028636,0.2267453322354939,0.2509568646831511,0.3003321292632582,0.3748711259758153,0.4745738548208221,0.5994403157982788,0.7494705089081853,0.9246644341505419,1.125022091525346,1.3505434810326016,1.6012286026723075,1.8770774564444632,2.1780900423490683,2.504266360386124,2.8556064105556294,3.2321101928575846,3.633777707291985,4.06060895385884,4.512603932558145,4.9897626433898985,5.492085086354103,6.019571261450755,6.57222116867986,7.150034808041414,7.753012179535411,8.381153283161863,9.034458118920769,9.71292668681212,10.416558986835923,11.145355018992175,11.899314783280879],[4.524679148045082,4.071908263244494,3.6443011105763534,3.2418576900406633,2.864578001637424,2.5124620453666346,2.1855098212282926,1.8837213292224024,1.6070965693489612,1.355635541607971,1.1293382459994294,0.9282046825233378,0.7522348511796967,0.6014287519685046,0.4757863848897623,0.37530774994346994,0.2999928471296275,0.24984167644823477,0.22485423789929201,0.2250305314827989,0.25037055719875556,0.3008743150471621,0.37654180502801854,0.47737302714132485,0.6033679813870809,0.7545266677652869,0.9308490862759429,1.132335236919046,1.3589851196946015,1.6107987346026067,1.8877760816430615,2.189917160815966,2.517221972121321,2.869690515559126,3.2473227911293803,3.65011879883208,4.078078538667236,4.5312020106348365,5.0094892147348915,5.5129401509673945,6.041554819332348,6.595333219829753,7.174275352459605,7.778381217221901,8.407650814116653,9.062084143143855,9.741681204303509,10.446441997595612,11.176366523020164,11.931454780577166],[4.504851735466541,4.053103166596096,3.626518329858098,3.225097225252549,2.8488398527794514,2.497746212438805,2.1718163042306053,1.8710501281548568,1.5954476842115581,1.3450089724007104,1.1197339927223111,0.9196227451763616,0.7446752297628628,0.594891446481813,0.47027139533321305,0.3708150763170629,0.29652248943336257,0.24739363468211215,0.2234285120633117,0.22462712157696085,0.25098946322305976,0.30251553700160855,0.37920534291260716,0.48105888095605576,0.6080761511319542,0.7602571534403021,0.9376018878811007,1.140110354454346,1.3677825531600436,1.6206184839981912,1.8986181469687882,2.201781542071836,2.530108669307333,2.8835995286752794,3.2622541201756765,3.6660724438085177,4.0950544995738145,4.549200287471561,5.028509807501757,5.532983059664402,6.062620043959498,6.617420760387043,7.197385208947039,7.802513389639477,8.432805302464374,9.088260947421716,9.768880324511514,10.474663433733758,11.20561027508845,11.961720848575597],[4.488433047379909,4.037596726269475,3.6119241372914903,3.211415280445955,2.8360701557328714,2.485888763152237,2.1608711027040512,1.8610171743883155,1.5863269782050295,1.336800514154195,1.1124377822358087,0.9132387824498726,0.7392035147963867,0.59033197927535,0.4666241758867631,0.368080104630626,0.29469976550693894,0.24648315851570166,0.22343028365691428,0.22554114093057648,0.2528157303366885,0.30525405187525045,0.3828561055462622,0.48562189134972394,0.6135514092856355,0.7666446593539967,0.944901641554808,1.1483223558880669,1.3769068023537776,1.6306549809519382,1.9095668916825483,2.213642534545609,2.5428819095411193,2.8972850166690787,3.2768518559294892,3.681582427322343,4.111476730847653,4.566534766505413,5.046756534295622,5.552142034218281,6.082691266273388,6.6384042304609485,7.219280926780957,7.8253213552334095,8.456525515818317,9.112893408535674,9.794425033385483,10.501120390367738,11.232979479482447,11.990002300729603],[4.475493616786884,4.025456138706128,3.600582392757819,3.2008723789419604,2.826326097258553,2.4769435477075947,2.1527247302890857,1.853669645003027,1.5797782918494176,1.3310506708282595,1.1074867819395497,0.90908662518329,0.7358502005594811,0.5877775080681209,0.4648685477092105,0.3671233194827501,0.29454182338873947,0.24712405942717874,0.22487002759806804,0.2277797279014068,0.25585316033719535,0.3090903249054338,0.3874912216061221,0.49105585043926037,0.6197842114048484,0.7736763045028863,0.9527321297333742,1.1569516870963092,1.3863349765916966,1.640881998219534,1.9205927519798207,2.2254672378725573,2.5555054558977446,2.9107074060553813,3.2910730883454677,3.696602502767999,4.127295649322985,4.583152528010421,5.0641731388303075,5.570357481782643,6.101705556867428,6.658217364084663,7.239892903434347,7.846732174916475,8.47873517853106,9.135901914278096,9.818232382157579,10.525726582169513,11.258384514313896,12.016206178590732],[4.466094028606605,4.016739217307456,3.592548138140755,3.193520791106505,2.8196571762047045,2.470957293435355,2.147421142798454,1.8490487242940026,1.575840037922001,1.3277950836824508,1.1049138615753489,0.907196371600697,0.7346426137584957,0.5872525880487435,0.46502629447144084,0.3679637330265883,0.29606490371418553,0.24932980653423262,0.22775844148672963,0.23135080857167628,0.26010690778907264,0.31402673913891893,0.3931103026212152,0.4973575982359612,0.6267686259831571,0.7813433858628028,0.9610818778748986,1.1659841020194415,1.3960500582964366,1.6512797467058815,1.9316731672477765,2.237230319922121,2.567951204728916,2.9238358216681606,3.3048841707398546,3.711096251943994,4.142472065280587,4.599011610749631,5.080714888351125,5.587581898085068,6.119612639951461,6.676807113950305,7.259165320081599,7.866687258345335,8.499372928741526,9.157222331270168,9.84023546593126,10.548412332724801,11.281752931650797,12.040257262709234],[4.46028436636805,4.011493847185658,3.5878670601357134,3.1894040052182198,2.8161046824331764,2.4679690917805828,2.1449972332604377,1.847189106872743,1.5745447126174985,1.3270640504947047,1.1047471205043595,0.9075939226464641,0.7356044569210194,0.5887787233280235,0.46711672186747755,0.37061845253938147,0.29928391534373516,0.2531131102805388,0.2321060373497923,0.23626269655149543,0.26558308788564844,0.3200672113522512,0.399715066951304,0.5045266546828066,0.634501974546759,0.7896410265431613,0.9699438106720133,1.1754103269333127,1.4060405753270644,1.661834555853266,1.9427922685119172,2.248913713303019,2.5801988902265705,2.9366477992825706,3.318260440471022,3.7250368137919168,4.156976919245268,4.614080756831068,5.096348326549317,5.603779628400018,6.136374662383167,6.694133428498767,7.277055926746816,7.885142157127311,8.518392119640257,9.176805814285657,9.860383241063504,10.569124399973804,11.303029291016552,12.062097914191751],[4.458103632138776,4.009757410423138,3.5865749208399467,3.188556163389206,2.8157011380709167,2.4680098448850765,2.1454822838316847,1.8481184549107437,1.5759183581222522,1.328881993466212,1.10700936094262,0.9103004605514781,0.7387552922927868,0.5923738561665444,0.47115615217275186,0.3751021803114092,0.30421194058251644,0.25848543298607346,0.2379226575220804,0.242523614190537,0.27228830299144335,0.32721672392479967,0.40730887699060575,0.5125647621888618,0.6429843795195677,0.7985677289827232,0.9793148105783289,1.185225624306382,1.416300170166887,1.6725384481598418,1.9539404582852467,2.260506200543101,2.592235674933406,2.949128881456161,3.3311858201113647,3.7384064908990133,4.170790893819118,4.628339028871671,5.111050896056676,5.618926495374128,6.151965826824031,6.710168890406384,7.293535686121188,7.902066213968433,8.535760473948134,9.194618466060287,9.878640190304889,10.58782564668194,11.322174835191444,12.081687755833396],[4.459579150808483,4.01155619295602,3.5886969672360025,3.191001473648437,2.8184697121933215,2.4711016828706565,2.1488973856804394,1.8518568206226727,1.5799799876973561,1.3332668869044904,1.111717518244073,0.9153318817161056,0.7441099773205891,0.5980518050575212,0.47715736492690336,0.3814266569287353,0.3108596810630172,0.26545643732974883,0.24521692572893045,0.25014114626056166,0.28022909892464265,0.33548078372117357,0.4158962006501543,0.5214753497115848,0.6522182309054654,0.8081248442317955,0.9891951896905758,1.1954292672818034,1.4268270770054832,1.6833886188616127,1.9651138928501921,2.272002898971221,2.6040556372247012,2.96127210761063,3.3436523101290088,3.751196244779832,4.183903911563111,4.64177531047884,5.124810441527017,5.633009304707645,6.166371900020722,6.72489822746625,7.308588287044228,7.917442078754648,8.551459602597525,9.210640858572855,9.89498584668063,10.604494566920856,11.339167019293534,12.09900320379866],[4.464725971055676,4.016904785419614,3.5942473319160007,3.196753610544838,2.8244236213061256,2.4772573641998625,2.155254839226048,1.858416046384684,1.5867409856757695,1.3402296570993066,1.1188820606552916,0.9226981963437269,0.7516780641646128,0.6058216641179475,0.48512899620373207,0.38960006042196665,0.319234856772651,0.27403338525578513,0.2539956458713693,0.259121638619403,0.28941136349988655,0.34486482051281997,0.4254820096582032,0.5312629309360364,0.6622075843463193,0.8183159698890522,0.999588087564235,1.206023937371865,1.4376235193119475,1.6943868333844794,1.976313879589461,2.283404657926893,2.615659168396775,2.9730774109991063,3.3556593857338877,3.7634050926011144,4.1963145316007955,4.654387702732926,5.137624605997507,5.646025241394536,6.179589608924018,6.738317708585948,7.322209540380327,7.93126510430715,8.565484400366428,9.22486742855816,9.909414188882339,10.619124681338969,11.353998905928046,12.114036862649575],[4.47354627628091,4.02580549126134,3.6032284383742192,3.205815117619548,2.833565528997328,2.486479672507558,2.1645575481502357,1.8677991559253648,1.5962044958329429,1.3497735678729723,1.1285063720454498,0.9324029083503776,0.7614631767877559,0.6156871773575832,0.49507491005986026,0.3996263748945873,0.32934157186176405,0.2842205009613908,0.26426316219346746,0.26946955555799357,0.29983968105496966,0.3553735386843955,0.43607112844627127,0.5419324503405968,0.6729575043673724,0.8291462905265976,1.010498808818273,1.2170150592423956,1.4486950417989704,1.705538756487995,1.9875462033094693,2.2947173822633933,2.6270522933497675,2.9845509365685916,3.3672133119198655,3.7750394194035843,4.208029259019758,4.66618283076838,5.149500134649455,5.657981170662977,6.191625938808949,6.750434439087374,7.334406671498246,7.94354263604156,8.577842332717331,9.237305761525555,9.921932922466228,10.631723815539347,11.36667844074492,12.126796798082943],[4.486028819470407,4.038247756119103,3.6156304249002473,3.218176825813842,2.8458869588598867,2.4987608240383823,2.1767984213493254,1.8799997507927193,1.608364812368563,1.3618936060768574,1.1405861319176005,0.9444423898907935,0.7734623799964373,0.6276461022345299,0.5069935566050724,0.4115047431080647,0.341179661743507,0.296018312511399,0.27602069541174096,0.2811868104445325,0.3115166576097739,0.3670102369074652,0.44766754833760636,0.5534885919001974,0.684473367595238,0.8406218754227287,1.0219341153826695,1.2284100874750572,1.4600497916998973,1.716853228057187,1.9988203965469271,2.3059512971691167,2.638245929923756,2.995704294810846,3.3783263918303845,3.7861122209823685,4.219061782266809,4.677175075683696,5.1604521012330355,5.668892858914822,6.202497348729062,6.76126557067575,7.345197524754888,7.954293210966468,8.588552629310506,9.247975779786993,9.93256266239593,10.642313277137319,11.377227624011153,12.13730570301744],[4.502148396344334,4.054207632865637,3.6314306015193876,3.2338173023055887,2.86136773522424,2.5140819002753414,2.191959797458892,1.8950014267748923,1.6232067882233423,1.3765758818042435,1.1551087075175932,0.958805265363393,0.787665555341643,0.6416895774523421,0.5208773316954911,0.42522881807109003,0.35474403657913883,0.30942298721963735,0.28926566999258585,0.29427208489798395,0.32444223193583194,0.37977611110612974,0.4602737224088774,0.5659350658440749,0.6967601414117223,0.8527489491118196,1.0339014889443667,1.2402177609093614,1.4716977650068077,1.7283415012367043,2.0101489695990504,2.3171201700938466,2.6492551027210927,3.006553767480789,3.389016164372935,3.796642293397525,4.229432154554571,4.687385747844066,5.17050307326601,5.6787841308204055,6.2122289205072505,6.770837442326545,7.354609696278289,7.963545682362478,8.597645400579122,9.256908850928218,9.941336033409758,10.650926948023752,11.385681594770194,12.14559997364909],[4.52186537123553,4.073647296822489,3.6505929545418954,3.252702344393751,2.879975466378059,2.532412320494815,2.210012906744021,1.9127772251256767,1.6407052756397824,1.393797058286339,1.1720525730653442,0.9754718199767992,0.8040547990207049,0.6578015101970596,0.536711953505864,0.4407861289471183,0.37002403652082255,0.3244256762269766,0.30399104806558064,0.30872015203663417,0.33861298814013757,0.3936695563760908,0.473889856744494,0.5792738892453471,0.7098216538786498,0.8655331506444024,1.0464083795426051,1.2524473405732548,1.4836500337363572,1.740016459031909,2.021546616459911,2.3282405060203626,2.660098127713264,3.0171194815386153,3.3993045674964164,3.8066533855866633,4.239165935809363,4.696842218164514,5.179682232652115,5.687685979272164,6.220853458024665,6.779184668909616,7.362679611927015,7.971338287076857,8.605160694359158,9.264146833773905,9.948296705321106,10.657610309000756,11.392087644812854,12.151728712757402],[4.545125269933698,4.096514625447882,3.673067713094515,3.274784532873598,2.901665084785132,2.5537093688291157,2.230917385005548,1.9332891333144304,1.660824613755762,1.4135238263295453,1.1913867710357773,0.9944134478744585,0.8226038568455909,0.6759579979491721,0.554475871185203,0.458157476553684,0.38700281405461473,0.34101188368799534,0.3201846854538259,0.324521219352106,0.35402148538283595,0.40868548354601575,0.4885132138416454,0.5935046762697249,0.7236598708302544,0.8789787975232336,1.0594614563486626,1.2651078473065391,1.495917970396868,1.7518918256196465,2.033029412974875,2.3393307324625527,2.670795784082681,3.027424567835259,3.4092170837202866,3.8161733317377595,4.2482933118876876,4.705577024170064,5.188024468584891,5.695635645132168,6.228410553811894,6.78634919462407,7.369451567568698,7.977717672645768,8.611147509855293,9.269741079197269,9.953498380671697,10.662419414278572,11.396504180017894,12.155752677889671],[4.571858453219691,4.122742856303279,3.698790991519317,3.300002858867803,2.9263784583487413,2.5779177899621293,2.2546208537079657,1.9564876495862518,1.683518177596988,1.4357124377401755,1.2130704300158113,1.015592154423897,0.8432776109644334,0.6961267996374186,0.5741397204428539,0.4773163733807388,0.40565675845107374,0.3591608756538584,0.3378287249890931,0.3416603064567774,0.37065562005691144,0.4248146657894954,0.5041374436545292,0.6086239536520129,0.7382741957819464,0.8930881700443297,1.073065876439163,1.2782073149664437,1.5085124856261765,1.7639813884183588,2.0446140233429917,2.3504103904000737,2.681370489589606,3.037494320911588,3.41878188436602,3.8252331799528974,4.2568482076722285,4.71362696752401,5.195569459508242,5.702675683624922,6.234945639874052,6.792379328255634,7.374976748769663,7.982737901416137,8.615662786195069,9.273751403106447,9.957003752150278,10.665419833326556,11.398999646635287,12.157743192076468]],\"type\":\"contour\"},{\"mode\":\"lines+markers\",\"name\":\"theta Values\",\"x\":[2.601057454779614,0.9034272767622247,2.0563364416095036,1.1589234696036672,1.7938804194525289,1.3215749439533506,1.6495449106923081,1.4232529432779681,1.5829504072241183,1.4709725522541734,1.5504096528840599,1.4943913185184219,1.5341564032256916,1.506039954902419,1.525989188155241,1.5118665534078317,1.521882079272916,1.5147877319328085,1.519817390738254,1.516253726023518],\"y\":[2.601057454779614,2.5910060231049896,2.963129099991904,2.8668743087666506,3.072755727714994,3.001465693449906,3.0291086593677257,2.988203025298647,3.010338461886587,2.9892651852224326,3.001744204213725,2.9913519372340183,2.997978235955032,2.99286670937898,2.99628664791577,2.993755312996005,2.9954961669353444,2.994234974327257,2.9951151604637363,2.994484413042848],\"type\":\"scatter\"}],                        {\"template\":{\"data\":{\"barpolar\":[{\"marker\":{\"line\":{\"color\":\"#E5ECF6\",\"width\":0.5},\"pattern\":{\"fillmode\":\"overlay\",\"size\":10,\"solidity\":0.2}},\"type\":\"barpolar\"}],\"bar\":[{\"error_x\":{\"color\":\"#2a3f5f\"},\"error_y\":{\"color\":\"#2a3f5f\"},\"marker\":{\"line\":{\"color\":\"#E5ECF6\",\"width\":0.5},\"pattern\":{\"fillmode\":\"overlay\",\"size\":10,\"solidity\":0.2}},\"type\":\"bar\"}],\"carpet\":[{\"aaxis\":{\"endlinecolor\":\"#2a3f5f\",\"gridcolor\":\"white\",\"linecolor\":\"white\",\"minorgridcolor\":\"white\",\"startlinecolor\":\"#2a3f5f\"},\"baxis\":{\"endlinecolor\":\"#2a3f5f\",\"gridcolor\":\"white\",\"linecolor\":\"white\",\"minorgridcolor\":\"white\",\"startlinecolor\":\"#2a3f5f\"},\"type\":\"carpet\"}],\"choropleth\":[{\"colorbar\":{\"outlinewidth\":0,\"ticks\":\"\"},\"type\":\"choropleth\"}],\"contourcarpet\":[{\"colorbar\":{\"outlinewidth\":0,\"ticks\":\"\"},\"type\":\"contourcarpet\"}],\"contour\":[{\"colorbar\":{\"outlinewidth\":0,\"ticks\":\"\"},\"colorscale\":[[0.0,\"#0d0887\"],[0.1111111111111111,\"#46039f\"],[0.2222222222222222,\"#7201a8\"],[0.3333333333333333,\"#9c179e\"],[0.4444444444444444,\"#bd3786\"],[0.5555555555555556,\"#d8576b\"],[0.6666666666666666,\"#ed7953\"],[0.7777777777777778,\"#fb9f3a\"],[0.8888888888888888,\"#fdca26\"],[1.0,\"#f0f921\"]],\"type\":\"contour\"}],\"heatmapgl\":[{\"colorbar\":{\"outlinewidth\":0,\"ticks\":\"\"},\"colorscale\":[[0.0,\"#0d0887\"],[0.1111111111111111,\"#46039f\"],[0.2222222222222222,\"#7201a8\"],[0.3333333333333333,\"#9c179e\"],[0.4444444444444444,\"#bd3786\"],[0.5555555555555556,\"#d8576b\"],[0.6666666666666666,\"#ed7953\"],[0.7777777777777778,\"#fb9f3a\"],[0.8888888888888888,\"#fdca26\"],[1.0,\"#f0f921\"]],\"type\":\"heatmapgl\"}],\"heatmap\":[{\"colorbar\":{\"outlinewidth\":0,\"ticks\":\"\"},\"colorscale\":[[0.0,\"#0d0887\"],[0.1111111111111111,\"#46039f\"],[0.2222222222222222,\"#7201a8\"],[0.3333333333333333,\"#9c179e\"],[0.4444444444444444,\"#bd3786\"],[0.5555555555555556,\"#d8576b\"],[0.6666666666666666,\"#ed7953\"],[0.7777777777777778,\"#fb9f3a\"],[0.8888888888888888,\"#fdca26\"],[1.0,\"#f0f921\"]],\"type\":\"heatmap\"}],\"histogram2dcontour\":[{\"colorbar\":{\"outlinewidth\":0,\"ticks\":\"\"},\"colorscale\":[[0.0,\"#0d0887\"],[0.1111111111111111,\"#46039f\"],[0.2222222222222222,\"#7201a8\"],[0.3333333333333333,\"#9c179e\"],[0.4444444444444444,\"#bd3786\"],[0.5555555555555556,\"#d8576b\"],[0.6666666666666666,\"#ed7953\"],[0.7777777777777778,\"#fb9f3a\"],[0.8888888888888888,\"#fdca26\"],[1.0,\"#f0f921\"]],\"type\":\"histogram2dcontour\"}],\"histogram2d\":[{\"colorbar\":{\"outlinewidth\":0,\"ticks\":\"\"},\"colorscale\":[[0.0,\"#0d0887\"],[0.1111111111111111,\"#46039f\"],[0.2222222222222222,\"#7201a8\"],[0.3333333333333333,\"#9c179e\"],[0.4444444444444444,\"#bd3786\"],[0.5555555555555556,\"#d8576b\"],[0.6666666666666666,\"#ed7953\"],[0.7777777777777778,\"#fb9f3a\"],[0.8888888888888888,\"#fdca26\"],[1.0,\"#f0f921\"]],\"type\":\"histogram2d\"}],\"histogram\":[{\"marker\":{\"pattern\":{\"fillmode\":\"overlay\",\"size\":10,\"solidity\":0.2}},\"type\":\"histogram\"}],\"mesh3d\":[{\"colorbar\":{\"outlinewidth\":0,\"ticks\":\"\"},\"type\":\"mesh3d\"}],\"parcoords\":[{\"line\":{\"colorbar\":{\"outlinewidth\":0,\"ticks\":\"\"}},\"type\":\"parcoords\"}],\"pie\":[{\"automargin\":true,\"type\":\"pie\"}],\"scatter3d\":[{\"line\":{\"colorbar\":{\"outlinewidth\":0,\"ticks\":\"\"}},\"marker\":{\"colorbar\":{\"outlinewidth\":0,\"ticks\":\"\"}},\"type\":\"scatter3d\"}],\"scattercarpet\":[{\"marker\":{\"colorbar\":{\"outlinewidth\":0,\"ticks\":\"\"}},\"type\":\"scattercarpet\"}],\"scattergeo\":[{\"marker\":{\"colorbar\":{\"outlinewidth\":0,\"ticks\":\"\"}},\"type\":\"scattergeo\"}],\"scattergl\":[{\"marker\":{\"colorbar\":{\"outlinewidth\":0,\"ticks\":\"\"}},\"type\":\"scattergl\"}],\"scattermapbox\":[{\"marker\":{\"colorbar\":{\"outlinewidth\":0,\"ticks\":\"\"}},\"type\":\"scattermapbox\"}],\"scatterpolargl\":[{\"marker\":{\"colorbar\":{\"outlinewidth\":0,\"ticks\":\"\"}},\"type\":\"scatterpolargl\"}],\"scatterpolar\":[{\"marker\":{\"colorbar\":{\"outlinewidth\":0,\"ticks\":\"\"}},\"type\":\"scatterpolar\"}],\"scatter\":[{\"fillpattern\":{\"fillmode\":\"overlay\",\"size\":10,\"solidity\":0.2},\"type\":\"scatter\"}],\"scatterternary\":[{\"marker\":{\"colorbar\":{\"outlinewidth\":0,\"ticks\":\"\"}},\"type\":\"scatterternary\"}],\"surface\":[{\"colorbar\":{\"outlinewidth\":0,\"ticks\":\"\"},\"colorscale\":[[0.0,\"#0d0887\"],[0.1111111111111111,\"#46039f\"],[0.2222222222222222,\"#7201a8\"],[0.3333333333333333,\"#9c179e\"],[0.4444444444444444,\"#bd3786\"],[0.5555555555555556,\"#d8576b\"],[0.6666666666666666,\"#ed7953\"],[0.7777777777777778,\"#fb9f3a\"],[0.8888888888888888,\"#fdca26\"],[1.0,\"#f0f921\"]],\"type\":\"surface\"}],\"table\":[{\"cells\":{\"fill\":{\"color\":\"#EBF0F8\"},\"line\":{\"color\":\"white\"}},\"header\":{\"fill\":{\"color\":\"#C8D4E3\"},\"line\":{\"color\":\"white\"}},\"type\":\"table\"}]},\"layout\":{\"annotationdefaults\":{\"arrowcolor\":\"#2a3f5f\",\"arrowhead\":0,\"arrowwidth\":1},\"autotypenumbers\":\"strict\",\"coloraxis\":{\"colorbar\":{\"outlinewidth\":0,\"ticks\":\"\"}},\"colorscale\":{\"diverging\":[[0,\"#8e0152\"],[0.1,\"#c51b7d\"],[0.2,\"#de77ae\"],[0.3,\"#f1b6da\"],[0.4,\"#fde0ef\"],[0.5,\"#f7f7f7\"],[0.6,\"#e6f5d0\"],[0.7,\"#b8e186\"],[0.8,\"#7fbc41\"],[0.9,\"#4d9221\"],[1,\"#276419\"]],\"sequential\":[[0.0,\"#0d0887\"],[0.1111111111111111,\"#46039f\"],[0.2222222222222222,\"#7201a8\"],[0.3333333333333333,\"#9c179e\"],[0.4444444444444444,\"#bd3786\"],[0.5555555555555556,\"#d8576b\"],[0.6666666666666666,\"#ed7953\"],[0.7777777777777778,\"#fb9f3a\"],[0.8888888888888888,\"#fdca26\"],[1.0,\"#f0f921\"]],\"sequentialminus\":[[0.0,\"#0d0887\"],[0.1111111111111111,\"#46039f\"],[0.2222222222222222,\"#7201a8\"],[0.3333333333333333,\"#9c179e\"],[0.4444444444444444,\"#bd3786\"],[0.5555555555555556,\"#d8576b\"],[0.6666666666666666,\"#ed7953\"],[0.7777777777777778,\"#fb9f3a\"],[0.8888888888888888,\"#fdca26\"],[1.0,\"#f0f921\"]]},\"colorway\":[\"#636efa\",\"#EF553B\",\"#00cc96\",\"#ab63fa\",\"#FFA15A\",\"#19d3f3\",\"#FF6692\",\"#B6E880\",\"#FF97FF\",\"#FECB52\"],\"font\":{\"color\":\"#2a3f5f\"},\"geo\":{\"bgcolor\":\"white\",\"lakecolor\":\"white\",\"landcolor\":\"#E5ECF6\",\"showlakes\":true,\"showland\":true,\"subunitcolor\":\"white\"},\"hoverlabel\":{\"align\":\"left\"},\"hovermode\":\"closest\",\"mapbox\":{\"style\":\"light\"},\"paper_bgcolor\":\"white\",\"plot_bgcolor\":\"#E5ECF6\",\"polar\":{\"angularaxis\":{\"gridcolor\":\"white\",\"linecolor\":\"white\",\"ticks\":\"\"},\"bgcolor\":\"#E5ECF6\",\"radialaxis\":{\"gridcolor\":\"white\",\"linecolor\":\"white\",\"ticks\":\"\"}},\"scene\":{\"xaxis\":{\"backgroundcolor\":\"#E5ECF6\",\"gridcolor\":\"white\",\"gridwidth\":2,\"linecolor\":\"white\",\"showbackground\":true,\"ticks\":\"\",\"zerolinecolor\":\"white\"},\"yaxis\":{\"backgroundcolor\":\"#E5ECF6\",\"gridcolor\":\"white\",\"gridwidth\":2,\"linecolor\":\"white\",\"showbackground\":true,\"ticks\":\"\",\"zerolinecolor\":\"white\"},\"zaxis\":{\"backgroundcolor\":\"#E5ECF6\",\"gridcolor\":\"white\",\"gridwidth\":2,\"linecolor\":\"white\",\"showbackground\":true,\"ticks\":\"\",\"zerolinecolor\":\"white\"}},\"shapedefaults\":{\"line\":{\"color\":\"#2a3f5f\"}},\"ternary\":{\"aaxis\":{\"gridcolor\":\"white\",\"linecolor\":\"white\",\"ticks\":\"\"},\"baxis\":{\"gridcolor\":\"white\",\"linecolor\":\"white\",\"ticks\":\"\"},\"bgcolor\":\"#E5ECF6\",\"caxis\":{\"gridcolor\":\"white\",\"linecolor\":\"white\",\"ticks\":\"\"}},\"title\":{\"x\":0.05},\"xaxis\":{\"automargin\":true,\"gridcolor\":\"white\",\"linecolor\":\"white\",\"ticks\":\"\",\"title\":{\"standoff\":15},\"zerolinecolor\":\"white\",\"zerolinewidth\":2},\"yaxis\":{\"automargin\":true,\"gridcolor\":\"white\",\"linecolor\":\"white\",\"ticks\":\"\",\"title\":{\"standoff\":15},\"zerolinecolor\":\"white\",\"zerolinewidth\":2}}},\"title\":{\"text\":\"Gradient Descent with Static Learning Rate\"}},                        {\"responsive\": true}                    ).then(function(){\n",
       "                            \n",
       "var gd = document.getElementById('95d069e1-12ed-4de1-b584-3feab3a950b9');\n",
       "var x = new MutationObserver(function (mutations, observer) {{\n",
       "        var display = window.getComputedStyle(gd).display;\n",
       "        if (!display || display === 'none') {{\n",
       "            console.log([gd, 'removed!']);\n",
       "            Plotly.purge(gd);\n",
       "            observer.disconnect();\n",
       "        }}\n",
       "}});\n",
       "\n",
       "// Listen for the removal of the full notebook cells\n",
       "var notebookContainer = gd.closest('#notebook-container');\n",
       "if (notebookContainer) {{\n",
       "    x.observe(notebookContainer, {childList: true});\n",
       "}}\n",
       "\n",
       "// Listen for the clearing of the current output cell\n",
       "var outputEl = gd.closest('.output');\n",
       "if (outputEl) {{\n",
       "    x.observe(outputEl, {childList: true});\n",
       "}}\n",
       "\n",
       "                        })                };                });            </script>        </div>"
      ]
     },
     "metadata": {},
     "output_type": "display_data"
    }
   ],
   "source": [
    "contour_plot('Gradient Descent with Static Learning Rate', thetas, mean_squared_error, sin_model, df[\"x\"], df[\"y\"])"
   ]
  },
  {
   "cell_type": "markdown",
   "metadata": {},
   "source": [
    "As we can see, gradient descent is able to navigate even this fairly complex loss space and find a nice minimum."
   ]
  },
  {
   "cell_type": "markdown",
   "metadata": {},
   "source": [
    "# Congratulations! You finished the lab!"
   ]
  },
  {
   "cell_type": "markdown",
   "metadata": {
    "deletable": false,
    "editable": false
   },
   "source": [
    "---\n",
    "\n",
    "To double-check your work, the cell below will rerun all of the autograder tests."
   ]
  },
  {
   "cell_type": "code",
   "execution_count": null,
   "metadata": {
    "deletable": false,
    "editable": false
   },
   "outputs": [],
   "source": [
    "grader.check_all()"
   ]
  },
  {
   "cell_type": "markdown",
   "metadata": {
    "deletable": false,
    "editable": false
   },
   "source": [
    "## Submission\n",
    "\n",
    "Make sure you have run all cells in your notebook in order before running the cell below, so that all images/graphs appear in the output. The cell below will generate a zip file for you to submit. **Please save before exporting!**"
   ]
  },
  {
   "cell_type": "code",
   "execution_count": null,
   "metadata": {
    "deletable": false,
    "editable": false
   },
   "outputs": [],
   "source": [
    "# Save your notebook first, then run this cell to export your submission.\n",
    "grader.export(pdf=False)"
   ]
  },
  {
   "cell_type": "markdown",
   "metadata": {},
   "source": [
    " "
   ]
  }
 ],
 "metadata": {
  "celltoolbar": "Create Assignment",
  "kernelspec": {
   "display_name": "Python 3 (ipykernel)",
   "language": "python",
   "name": "python3"
  },
  "language_info": {
   "codemirror_mode": {
    "name": "ipython",
    "version": 3
   },
   "file_extension": ".py",
   "mimetype": "text/x-python",
   "name": "python",
   "nbconvert_exporter": "python",
   "pygments_lexer": "ipython3",
   "version": "3.10.9"
  }
 },
 "nbformat": 4,
 "nbformat_minor": 4
}
