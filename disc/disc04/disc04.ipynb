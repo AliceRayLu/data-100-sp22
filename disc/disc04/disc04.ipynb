{
 "cells": [
  {
   "cell_type": "markdown",
   "metadata": {},
   "source": [
    "# Discussion 4: Regex, Visualization"
   ]
  },
  {
   "cell_type": "markdown",
   "metadata": {},
   "source": [
    "---\n",
    "## Regular Expression"
   ]
  },
  {
   "cell_type": "markdown",
   "metadata": {},
   "source": [
    "## Question 1\n",
    "which strings match the regular expression `1+1$`?\n",
    "\n",
    "\n",
    "A. What is 1+1\n",
    "\n",
    "\n",
    "B. make a wish at 11:11\n",
    "\n",
    "\n",
    "C. 111 ways to succeed"
   ]
  },
  {
   "cell_type": "markdown",
   "metadata": {},
   "source": [
    "B\n",
    "\n",
    "\n",
    "11:11 the last 11 matches"
   ]
  },
  {
   "cell_type": "markdown",
   "metadata": {},
   "source": [
    "## Question 2\n",
    "Write a regular expression that matches strings (including the empty string) that only contain\n",
    "lowercase letters and numbers."
   ]
  },
  {
   "cell_type": "code",
   "execution_count": 4,
   "metadata": {},
   "outputs": [
    {
     "data": {
      "text/plain": [
       "['123jsja']"
      ]
     },
     "execution_count": 4,
     "metadata": {},
     "output_type": "execute_result"
    }
   ],
   "source": [
    "import re\n",
    "s = r\"^[a-z0-9]*$\"\n",
    "data = [\"123jsja\",\"Adkf23\"]\n",
    "matched_data_list = list(filter(lambda x:re.match(s,x) != None,data))\n",
    "matched_data_list"
   ]
  },
  {
   "cell_type": "markdown",
   "metadata": {},
   "source": [
    "## Question 3\n",
    "Given sometext = \"I’ve got 10 eggs, 20 gooses, and 30 giants.\", use\n",
    "re.findall to extract all the items and quantities from the string. The result should look\n",
    "like `[’10 eggs’, ’20 gooses’, ’30 giants’]`. You may assume that a space\n",
    "separates quantity and type, and that each item ends in s."
   ]
  },
  {
   "cell_type": "code",
   "execution_count": 5,
   "metadata": {},
   "outputs": [
    {
     "data": {
      "text/plain": [
       "['10 eggs', '20 gooses', '30 giants']"
      ]
     },
     "execution_count": 5,
     "metadata": {},
     "output_type": "execute_result"
    }
   ],
   "source": [
    "pattern = r\"([0-9]+ [a-z]+s)\"\n",
    "text = \"I've got 10 eggs, 20 gooses, and 30 giants.\"\n",
    "re.findall(pattern,text)"
   ]
  },
  {
   "cell_type": "markdown",
   "metadata": {},
   "source": [
    "## Question 4\n",
    "For each pattern specify the starting and ending position of the first match in the string. The\n",
    "index starts at zero and we are using closed intervals (both endpoints are included)."
   ]
  },
  {
   "cell_type": "markdown",
   "metadata": {},
   "source": [
    "|         | abcdefg | abcs! | ab abc |abc, 123|\n",
    "| ---:    | :---:   | :---: | :---:  |  :---: |\n",
    "| abc*    | [0,2]   |[0,2]  |[0,1]   | [0,2]  |\n",
    "|[^\\s]+   | [0,6]   | [0,4] |[0,1]   | [0,3]  |\n",
    "|ab.*c    | [0,2]   |  [0,2]|[0,5]   | [0,2]  |\n",
    "|[a-z1,9]+| [0,6]   | [0,3] | [0,1]  | [0,3]  |"
   ]
  },
  {
   "cell_type": "markdown",
   "metadata": {},
   "source": [
    "## Question 5(Bonus)\n",
    "Fill in the regular expression in the variable pattern below so that after it executes, day is\n",
    "26, month is Jan, and year is 2014."
   ]
  },
  {
   "cell_type": "code",
   "execution_count": 8,
   "metadata": {},
   "outputs": [
    {
     "data": {
      "text/plain": [
       "('26', 'Jan', '2014')"
      ]
     },
     "execution_count": 8,
     "metadata": {},
     "output_type": "execute_result"
    }
   ],
   "source": [
    "log = '169.237.46.168 - - [26/Jan/2014:10:47:58 -0800]\\\n",
    "    \"GET /stat141/Winter04/ HTTP/1.1\" 200 2585 \\\n",
    "    \"http://anson.ucdavis.edu/courses/\"'\n",
    "pattern = r\"\\[(\\d+)/(\\w+)/(\\d+):\"\n",
    "matches = re.findall(pattern, log)\n",
    "day, month, year = matches[0]\n",
    "day, month, year"
   ]
  },
  {
   "cell_type": "markdown",
   "metadata": {},
   "source": [
    "## Question 6(Bonus)\n",
    "Given that sometext is a string, use `re.sub` to replace all clusters of non-vowel\n",
    "characters with a single period. For example \"a big moon, between us...\" would\n",
    "be changed to \"a.i.oo.e.ee.u.\"."
   ]
  },
  {
   "cell_type": "code",
   "execution_count": 10,
   "metadata": {},
   "outputs": [
    {
     "data": {
      "text/plain": [
       "'a.i.oo.e.ee.u.'"
      ]
     },
     "execution_count": 10,
     "metadata": {},
     "output_type": "execute_result"
    }
   ],
   "source": [
    "text = \"a big moon, between us...\"\n",
    "non_vowel = r\"[^aeiouAEIOU]+\"\n",
    "re.sub(non_vowel,'.',text)"
   ]
  },
  {
   "cell_type": "markdown",
   "metadata": {},
   "source": [
    "## Question 7(Bonus)\n",
    "Given the text:\n",
    "\"<record> Josh Hug <hug@cs.berkeley.edu> Faculty </record>\"\n",
    "\"<record> Lisa Yan <lisa.yan@berkeley.edu> Instructor </record>\"\n",
    "Which of the following matches exactly to the email addresses (including angle brackets)?\n",
    "\n",
    "\n",
    "(click to see the text originally) \n",
    "\n",
    "\n",
    "A. <.*@.*> \n",
    "\n",
    "\n",
    "B. <[ˆ>]*@[ˆ>]*> \n",
    "\n",
    "\n",
    "C. <.*@\\w+\\..*>"
   ]
  },
  {
   "cell_type": "markdown",
   "metadata": {},
   "source": [
    "B"
   ]
  },
  {
   "cell_type": "markdown",
   "metadata": {},
   "source": [
    "---\n",
    "## Data Visualization"
   ]
  },
  {
   "cell_type": "markdown",
   "metadata": {},
   "source": [
    "see pdf"
   ]
  }
 ],
 "metadata": {
  "kernelspec": {
   "display_name": "base",
   "language": "python",
   "name": "python3"
  },
  "language_info": {
   "codemirror_mode": {
    "name": "ipython",
    "version": 3
   },
   "file_extension": ".py",
   "mimetype": "text/x-python",
   "name": "python",
   "nbconvert_exporter": "python",
   "pygments_lexer": "ipython3",
   "version": "3.10.9"
  },
  "orig_nbformat": 4
 },
 "nbformat": 4,
 "nbformat_minor": 2
}
