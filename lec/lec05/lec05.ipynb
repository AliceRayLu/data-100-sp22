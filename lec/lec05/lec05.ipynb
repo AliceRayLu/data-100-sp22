{
 "cells": [
  {
   "cell_type": "markdown",
   "metadata": {},
   "source": [
    "# Lecture 5 – Data 100, Spring 2022\n",
    "\n",
    "Notebook by Lisa Yan<br/>\n",
    "Content by Lisa Yan, Joseph Gonzalez, Deborah Nolan, Sam Lau"
   ]
  },
  {
   "cell_type": "code",
   "execution_count": 1,
   "metadata": {
    "ExecuteTime": {
     "end_time": "2018-02-02T15:15:15.363920Z",
     "start_time": "2018-02-02T15:15:14.337886Z"
    }
   },
   "outputs": [],
   "source": [
    "import numpy as np\n",
    "import pandas as pd"
   ]
  },
  {
   "cell_type": "code",
   "execution_count": 3,
   "metadata": {},
   "outputs": [],
   "source": [
    "import matplotlib.pyplot as plt\n",
    "import seaborn as sns\n",
    "#%matplotlib inline\n",
    "plt.rcParams['figure.figsize'] = (12, 9)\n",
    "\n",
    "sns.set()\n",
    "sns.set_context('talk')\n",
    "np.set_printoptions(threshold=20, precision=2, suppress=True)\n",
    "pd.set_option('display.max_rows', 7)\n",
    "pd.set_option('display.max_columns', 8)\n",
    "#pd.set_option('precision', 2)\n",
    "# This option stops scientific notation for pandas\n",
    "pd.set_option('display.float_format', '{:.2f}'.format)\n"
   ]
  },
  {
   "cell_type": "markdown",
   "metadata": {},
   "source": [
    "# Structure: File Formats"
   ]
  },
  {
   "cell_type": "markdown",
   "metadata": {},
   "source": [
    "### Reproducible Data Science\n",
    "\n",
    "In the interest of **reproducible data science** we will download the data programatically.  We have defined some helper functions in the [ds100_utils.py](ds100_utils.py) file.  I can then reuse these helper functions in many different notebooks."
   ]
  },
  {
   "cell_type": "code",
   "execution_count": 4,
   "metadata": {
    "ExecuteTime": {
     "end_time": "2018-02-02T15:15:15.368501Z",
     "start_time": "2018-02-02T15:15:15.365808Z"
    }
   },
   "outputs": [],
   "source": [
    "from ds100_utils import fetch_and_cache"
   ]
  },
  {
   "cell_type": "markdown",
   "metadata": {
    "tags": []
   },
   "source": [
    "Occasionally, you will want to modify code that you have imported.  To reimport those modifications you can either use the python importlib library:\n",
    "\n",
    "```python\n",
    "from importlib import reload\n",
    "reload(utils)\n",
    "```\n",
    "\n",
    "or use iPython magic which will intelligently import code when files change:\n",
    "\n",
    "```python\n",
    "%load_ext autoreload\n",
    "%autoreload 2\n",
    "```"
   ]
  },
  {
   "cell_type": "markdown",
   "metadata": {},
   "source": [
    "###  Downloading the Data\n",
    "\n",
    "Notice that because I record how I got the data in the notebook, others can reproduce this experiment.  However, it is worth noting that **the data can change**.  We will want to pay attention to file timestamps."
   ]
  },
  {
   "cell_type": "markdown",
   "metadata": {},
   "source": [
    "## 1) CSV \n",
    "Restaurant food safety scores for restaurants in San Francisco. The scores and violation information have been made available by the [San Francisco Department of Public Health](https://data.sfgov.org/Health-and-Social-Services/Restaurant-Scores-LIVES-Standard/pyih-qa8i)."
   ]
  },
  {
   "cell_type": "code",
   "execution_count": 5,
   "metadata": {
    "ExecuteTime": {
     "end_time": "2018-02-02T15:15:16.391752Z",
     "start_time": "2018-02-02T15:15:15.413412Z"
    }
   },
   "outputs": [
    {
     "name": "stdout",
     "output_type": "stream",
     "text": [
      "Using cached version that was downloaded (UTC): Fri Apr 29 10:22:17 2022\n"
     ]
    }
   ],
   "source": [
    "restaurants_file = fetch_and_cache(\n",
    "    \"https://data.sfgov.org/api/views/pyih-qa8i/rows.csv\", # DL from this website\n",
    "    \"restaurants.csv\",         # save as this file\n",
    "    force=False)               # do nothing if the file already exists"
   ]
  },
  {
   "cell_type": "markdown",
   "metadata": {},
   "source": [
    "Before we even begin to load the data it often helps to understand a little about the high-level structure:\n",
    "\n",
    "1. How big is the data file?\n",
    "1. How is the data file formatted?\n",
    "1. How do we read the data into pandas?"
   ]
  },
  {
   "cell_type": "markdown",
   "metadata": {},
   "source": [
    "### 1. How big is the data?\n",
    "\n",
    "I often like to start my analysis by getting a rough estimate of the size of the data.  This will help inform the tools I use and how I view the data.  If it is relatively small I might use a text editor or a spreadsheet to look at the data.  If it is larger, I might jump to more programmatic exploration or even used distributed computing tools.\n",
    "\n",
    "However here we will use python tools to probe the file."
   ]
  },
  {
   "cell_type": "code",
   "execution_count": 6,
   "metadata": {},
   "outputs": [
    {
     "name": "stdout",
     "output_type": "stream",
     "text": [
      "data\\restaurants.csv is 12.093999 MB\n"
     ]
    }
   ],
   "source": [
    "import os\n",
    "print(restaurants_file, \"is\", os.path.getsize(restaurants_file) / 1e6, \"MB\")"
   ]
  },
  {
   "cell_type": "markdown",
   "metadata": {},
   "source": [
    "Since these seem to be text files I might also want to investigate the number of lines, which often corresponds to the number of records."
   ]
  },
  {
   "cell_type": "code",
   "execution_count": 7,
   "metadata": {
    "ExecuteTime": {
     "end_time": "2018-02-02T15:15:18.993584Z",
     "start_time": "2018-02-02T15:15:18.989848Z"
    }
   },
   "outputs": [
    {
     "name": "stdout",
     "output_type": "stream",
     "text": [
      "data\\restaurants.csv is 53974 lines.\n"
     ]
    }
   ],
   "source": [
    "with open(restaurants_file, \"r\") as f:\n",
    "    print(restaurants_file, \"is\", sum(1 for l in f), \"lines.\")"
   ]
  },
  {
   "cell_type": "markdown",
   "metadata": {
    "tags": []
   },
   "source": [
    "### 2. How is the data file formatted?\n",
    "\n",
    "Let's assume that these are text files (and do not contain binary encoded data) so we can print a \"few lines\" to get a better understanding of the file.\n",
    "\n",
    "Notice that below I use the `repr` function to return the raw string with special characters.  This is helpful in deducing the file format."
   ]
  },
  {
   "cell_type": "code",
   "execution_count": 8,
   "metadata": {},
   "outputs": [
    {
     "name": "stdout",
     "output_type": "stream",
     "text": [
      "data\\restaurants.csv ======================\n",
      "000 | 'business_id,business_name,business_address,business_city,business_state,business_postal_code,business_latitude,business_longitude,business_location,business_phone_number,inspection_id,inspection_date,inspection_score,inspection_type,violation_id,violation_description,risk_category,Neighborhoods,SF Find Neighborhoods,Current Police Districts,Current Supervisor Districts,Analysis Neighborhoods\\n'\n",
      "001 | '835,Kam Po Kitchen,801 Broadway St,San Francisco,CA,94133,37.797223,-122.410513,POINT (-122.410513 37.797223),,835_20180917,09/17/2018 12:00:00 AM,88,Routine - Unscheduled,835_20180917_103139,Improper food storage,Low Risk,107,107,6,3,6\\n'\n",
      "002 | \"905,Working Girls' Cafe',0259 Kearny St,San Francisco,CA,94108,37.790477,-122.404033,POINT (-122.404033 37.790477),,905_20190415,04/15/2019 12:00:00 AM,87,Routine - Unscheduled,905_20190415_103114,High risk vermin infestation,High Risk,19,19,6,3,8\\n\"\n",
      "003 | \"1203,TAWAN'S THAI FOOD,4403 GEARY Blvd,San Francisco,CA,94118,37.780834,-122.46659,POINT (-122.46659 37.780834),+14155755175,1203_20170803,08/03/2017 12:00:00 AM,77,Routine - Unscheduled,1203_20170803_103120,Moderate risk food holding temperature,Moderate Risk,5,5,8,4,11\\n\"\n",
      "004 | '1345,Cordon Bleu,1574 California St,San Francisco,CA,94109,37.790683,-122.420264,POINT (-122.420264 37.790683),,1345_20170928,09/28/2017 12:00:00 AM,81,Routine - Unscheduled,1345_20170928_103105,Improper cooling methods,High Risk,105,105,4,3,21\\n'\n",
      "005 | '1352,LA TORTILLA,495 Castro St B,San Francisco,CA,94114,37.760954,-122.434935,POINT (-122.434935 37.760954),+14155863990,1352_20180620,06/20/2018 12:00:00 AM,74,Routine - Unscheduled,1352_20180620_103177,Non service animal,Low Risk,38,38,3,5,5\\n'\n",
      "006 | '1652,STARBUCKS,201 03rd St,San Francisco,CA,94105,37.785037,-122.400432,POINT (-122.400432 37.785037),,1652_20190611,06/11/2019 12:00:00 AM,96,Routine - Unscheduled,1652_20190611_103161,Low risk vermin infestation,Low Risk,32,32,1,10,8\\n'\n",
      "007 | '1922,All stars Donuts,901 Clement St,San Francisco,CA,94118,37.782694,-122.468969,POINT (-122.468969 37.782694),,1922_20161128,11/28/2016 12:00:00 AM,,Complaint,1922_20161128_103139,Improper food storage,Low Risk,5,5,8,4,11\\n'\n",
      "008 | \"3019,Tad's,120 Powell St,San Francisco,CA,94102,37.785928,-122.407887,POINT (-122.407887 37.785928),,3019_20190702,07/02/2019 12:00:00 AM,88,Routine - Unscheduled,3019_20190702_103139,Improper food storage,Low Risk,19,19,6,3,8\\n\"\n",
      "009 | '3286,Super Burrito,1200 Polk St,San Francisco,CA,94109,37.787998,-122.420117,POINT (-122.420117 37.787998),,3286_20190214,02/14/2019 12:00:00 AM,81,Routine - Unscheduled,3286_20190214_103105,Improper cooling methods,High Risk,50,50,4,3,21\\n'\n"
     ]
    }
   ],
   "source": [
    "print(restaurants_file, \"======================\")\n",
    "with open(restaurants_file, \"r\") as f:\n",
    "    for i in range(10):\n",
    "        print(f\"{i:03} | {repr(f.readline())}\") # zero pad line numbers"
   ]
  },
  {
   "cell_type": "markdown",
   "metadata": {},
   "source": [
    "### 3. How do we read the data into pandas?\n",
    "\n",
    "With CSVs, we can use the handy `pd.read_csv` [function](https://pandas.pydata.org/pandas-docs/stable/reference/api/pandas.read_csv.html?highlight=read_csv):"
   ]
  },
  {
   "cell_type": "code",
   "execution_count": 9,
   "metadata": {},
   "outputs": [
    {
     "data": {
      "text/html": [
       "<div>\n",
       "<style scoped>\n",
       "    .dataframe tbody tr th:only-of-type {\n",
       "        vertical-align: middle;\n",
       "    }\n",
       "\n",
       "    .dataframe tbody tr th {\n",
       "        vertical-align: top;\n",
       "    }\n",
       "\n",
       "    .dataframe thead th {\n",
       "        text-align: right;\n",
       "    }\n",
       "</style>\n",
       "<table border=\"1\" class=\"dataframe\">\n",
       "  <thead>\n",
       "    <tr style=\"text-align: right;\">\n",
       "      <th></th>\n",
       "      <th>business_id</th>\n",
       "      <th>business_name</th>\n",
       "      <th>business_address</th>\n",
       "      <th>business_city</th>\n",
       "      <th>...</th>\n",
       "      <th>SF Find Neighborhoods</th>\n",
       "      <th>Current Police Districts</th>\n",
       "      <th>Current Supervisor Districts</th>\n",
       "      <th>Analysis Neighborhoods</th>\n",
       "    </tr>\n",
       "  </thead>\n",
       "  <tbody>\n",
       "    <tr>\n",
       "      <th>0</th>\n",
       "      <td>835</td>\n",
       "      <td>Kam Po Kitchen</td>\n",
       "      <td>801 Broadway St</td>\n",
       "      <td>San Francisco</td>\n",
       "      <td>...</td>\n",
       "      <td>107.00</td>\n",
       "      <td>6.00</td>\n",
       "      <td>3.00</td>\n",
       "      <td>6.00</td>\n",
       "    </tr>\n",
       "    <tr>\n",
       "      <th>1</th>\n",
       "      <td>905</td>\n",
       "      <td>Working Girls' Cafe'</td>\n",
       "      <td>0259 Kearny St</td>\n",
       "      <td>San Francisco</td>\n",
       "      <td>...</td>\n",
       "      <td>19.00</td>\n",
       "      <td>6.00</td>\n",
       "      <td>3.00</td>\n",
       "      <td>8.00</td>\n",
       "    </tr>\n",
       "    <tr>\n",
       "      <th>2</th>\n",
       "      <td>1203</td>\n",
       "      <td>TAWAN'S THAI FOOD</td>\n",
       "      <td>4403 GEARY Blvd</td>\n",
       "      <td>San Francisco</td>\n",
       "      <td>...</td>\n",
       "      <td>5.00</td>\n",
       "      <td>8.00</td>\n",
       "      <td>4.00</td>\n",
       "      <td>11.00</td>\n",
       "    </tr>\n",
       "    <tr>\n",
       "      <th>3</th>\n",
       "      <td>1345</td>\n",
       "      <td>Cordon Bleu</td>\n",
       "      <td>1574 California St</td>\n",
       "      <td>San Francisco</td>\n",
       "      <td>...</td>\n",
       "      <td>105.00</td>\n",
       "      <td>4.00</td>\n",
       "      <td>3.00</td>\n",
       "      <td>21.00</td>\n",
       "    </tr>\n",
       "    <tr>\n",
       "      <th>4</th>\n",
       "      <td>1352</td>\n",
       "      <td>LA TORTILLA</td>\n",
       "      <td>495 Castro St B</td>\n",
       "      <td>San Francisco</td>\n",
       "      <td>...</td>\n",
       "      <td>38.00</td>\n",
       "      <td>3.00</td>\n",
       "      <td>5.00</td>\n",
       "      <td>5.00</td>\n",
       "    </tr>\n",
       "  </tbody>\n",
       "</table>\n",
       "<p>5 rows × 22 columns</p>\n",
       "</div>"
      ],
      "text/plain": [
       "   business_id         business_name    business_address  business_city  ...  \\\n",
       "0          835        Kam Po Kitchen     801 Broadway St  San Francisco  ...   \n",
       "1          905  Working Girls' Cafe'      0259 Kearny St  San Francisco  ...   \n",
       "2         1203     TAWAN'S THAI FOOD     4403 GEARY Blvd  San Francisco  ...   \n",
       "3         1345           Cordon Bleu  1574 California St  San Francisco  ...   \n",
       "4         1352           LA TORTILLA     495 Castro St B  San Francisco  ...   \n",
       "\n",
       "  SF Find Neighborhoods Current Police Districts  \\\n",
       "0                107.00                     6.00   \n",
       "1                 19.00                     6.00   \n",
       "2                  5.00                     8.00   \n",
       "3                105.00                     4.00   \n",
       "4                 38.00                     3.00   \n",
       "\n",
       "   Current Supervisor Districts  Analysis Neighborhoods  \n",
       "0                          3.00                    6.00  \n",
       "1                          3.00                    8.00  \n",
       "2                          4.00                   11.00  \n",
       "3                          3.00                   21.00  \n",
       "4                          5.00                    5.00  \n",
       "\n",
       "[5 rows x 22 columns]"
      ]
     },
     "execution_count": 9,
     "metadata": {},
     "output_type": "execute_result"
    }
   ],
   "source": [
    "restaurants = pd.read_csv(restaurants_file)\n",
    "restaurants.head()"
   ]
  },
  {
   "cell_type": "markdown",
   "metadata": {},
   "source": [
    "### Side Note: TSV\n",
    "\n",
    "We won't go through all the steps for TSV, but here's how the same SF restaurants data would look like in a TSV:"
   ]
  },
  {
   "cell_type": "code",
   "execution_count": 10,
   "metadata": {},
   "outputs": [
    {
     "name": "stdout",
     "output_type": "stream",
     "text": [
      "data/restaurants.tsv ======================\n",
      "000 | '\\tbusiness_id\\tbusiness_name\\tbusiness_address\\tbusiness_city\\tbusiness_state\\tbusiness_postal_code\\tbusiness_latitude\\tbusiness_longitude\\tbusiness_location\\tbusiness_phone_number\\tinspection_id\\tinspection_date\\tinspection_score\\tinspection_type\\tviolation_id\\tviolation_description\\trisk_category\\tNeighborhoods\\tSF Find Neighborhoods\\tCurrent Police Districts\\tCurrent Supervisor Districts\\tAnalysis Neighborhoods\\n'\n",
      "001 | '0\\t835\\tKam Po Kitchen\\t801 Broadway St\\tSan Francisco\\tCA\\t94133\\t37.797223\\t-122.410513\\tPOINT (-122.410513 37.797223)\\t\\t835_20180917\\t09/17/2018 12:00:00 AM\\t88.0\\tRoutine - Unscheduled\\t835_20180917_103139\\tImproper food storage\\tLow Risk\\t107.0\\t107.0\\t6.0\\t3.0\\t6.0\\n'\n",
      "002 | \"1\\t905\\tWorking Girls' Cafe'\\t0259 Kearny St\\tSan Francisco\\tCA\\t94108\\t37.790477\\t-122.404033\\tPOINT (-122.404033 37.790477)\\t\\t905_20190415\\t04/15/2019 12:00:00 AM\\t87.0\\tRoutine - Unscheduled\\t905_20190415_103114\\tHigh risk vermin infestation\\tHigh Risk\\t19.0\\t19.0\\t6.0\\t3.0\\t8.0\\n\"\n",
      "003 | \"2\\t1203\\tTAWAN'S THAI FOOD\\t4403 GEARY Blvd\\tSan Francisco\\tCA\\t94118\\t37.780834\\t-122.46659\\tPOINT (-122.46659 37.780834)\\t14155755175.0\\t1203_20170803\\t08/03/2017 12:00:00 AM\\t77.0\\tRoutine - Unscheduled\\t1203_20170803_103120\\tModerate risk food holding temperature\\tModerate Risk\\t5.0\\t5.0\\t8.0\\t4.0\\t11.0\\n\"\n",
      "004 | '3\\t1345\\tCordon Bleu\\t1574 California St\\tSan Francisco\\tCA\\t94109\\t37.790683\\t-122.420264\\tPOINT (-122.420264 37.790683)\\t\\t1345_20170928\\t09/28/2017 12:00:00 AM\\t81.0\\tRoutine - Unscheduled\\t1345_20170928_103105\\tImproper cooling methods\\tHigh Risk\\t105.0\\t105.0\\t4.0\\t3.0\\t21.0\\n'\n",
      "005 | '4\\t1352\\tLA TORTILLA\\t495 Castro St B\\tSan Francisco\\tCA\\t94114\\t37.760954\\t-122.434935\\tPOINT (-122.434935 37.760954)\\t14155863990.0\\t1352_20180620\\t06/20/2018 12:00:00 AM\\t74.0\\tRoutine - Unscheduled\\t1352_20180620_103177\\tNon service animal\\tLow Risk\\t38.0\\t38.0\\t3.0\\t5.0\\t5.0\\n'\n",
      "006 | '5\\t1652\\tSTARBUCKS\\t201 03rd St\\tSan Francisco\\tCA\\t94105\\t37.785037\\t-122.400432\\tPOINT (-122.400432 37.785037)\\t\\t1652_20190611\\t06/11/2019 12:00:00 AM\\t96.0\\tRoutine - Unscheduled\\t1652_20190611_103161\\tLow risk vermin infestation\\tLow Risk\\t32.0\\t32.0\\t1.0\\t10.0\\t8.0\\n'\n",
      "007 | '6\\t1922\\tAll stars Donuts\\t901 Clement St\\tSan Francisco\\tCA\\t94118\\t37.782694\\t-122.468969\\tPOINT (-122.468969 37.782694)\\t\\t1922_20161128\\t11/28/2016 12:00:00 AM\\t\\tComplaint\\t1922_20161128_103139\\tImproper food storage\\tLow Risk\\t5.0\\t5.0\\t8.0\\t4.0\\t11.0\\n'\n",
      "008 | \"7\\t3019\\tTad's\\t120 Powell St\\tSan Francisco\\tCA\\t94102\\t37.785928\\t-122.407887\\tPOINT (-122.407887 37.785928)\\t\\t3019_20190702\\t07/02/2019 12:00:00 AM\\t88.0\\tRoutine - Unscheduled\\t3019_20190702_103139\\tImproper food storage\\tLow Risk\\t19.0\\t19.0\\t6.0\\t3.0\\t8.0\\n\"\n",
      "009 | '8\\t3286\\tSuper Burrito\\t1200 Polk St\\tSan Francisco\\tCA\\t94109\\t37.787998\\t-122.420117\\tPOINT (-122.420117 37.787998)\\t\\t3286_20190214\\t02/14/2019 12:00:00 AM\\t81.0\\tRoutine - Unscheduled\\t3286_20190214_103105\\tImproper cooling methods\\tHigh Risk\\t50.0\\t50.0\\t4.0\\t3.0\\t21.0\\n'\n"
     ]
    }
   ],
   "source": [
    "restaurants_tsv_file = \"data/restaurants.tsv\"  # I processed this earlier\n",
    "\n",
    "print(restaurants_tsv_file, \"======================\")\n",
    "with open(restaurants_tsv_file, \"r\") as f:\n",
    "    for i in range(10):\n",
    "        print(f\"{i:03} | {repr(f.readline())}\")"
   ]
  },
  {
   "cell_type": "markdown",
   "metadata": {},
   "source": [
    "The `pd.read_csv` function also reads in TSVs if we specify the `'\\t'` delimiter."
   ]
  },
  {
   "cell_type": "code",
   "execution_count": 11,
   "metadata": {},
   "outputs": [
    {
     "data": {
      "text/html": [
       "<div>\n",
       "<style scoped>\n",
       "    .dataframe tbody tr th:only-of-type {\n",
       "        vertical-align: middle;\n",
       "    }\n",
       "\n",
       "    .dataframe tbody tr th {\n",
       "        vertical-align: top;\n",
       "    }\n",
       "\n",
       "    .dataframe thead th {\n",
       "        text-align: right;\n",
       "    }\n",
       "</style>\n",
       "<table border=\"1\" class=\"dataframe\">\n",
       "  <thead>\n",
       "    <tr style=\"text-align: right;\">\n",
       "      <th></th>\n",
       "      <th>Unnamed: 0</th>\n",
       "      <th>business_id</th>\n",
       "      <th>business_name</th>\n",
       "      <th>business_address</th>\n",
       "      <th>...</th>\n",
       "      <th>SF Find Neighborhoods</th>\n",
       "      <th>Current Police Districts</th>\n",
       "      <th>Current Supervisor Districts</th>\n",
       "      <th>Analysis Neighborhoods</th>\n",
       "    </tr>\n",
       "  </thead>\n",
       "  <tbody>\n",
       "    <tr>\n",
       "      <th>0</th>\n",
       "      <td>0</td>\n",
       "      <td>835</td>\n",
       "      <td>Kam Po Kitchen</td>\n",
       "      <td>801 Broadway St</td>\n",
       "      <td>...</td>\n",
       "      <td>107.00</td>\n",
       "      <td>6.00</td>\n",
       "      <td>3.00</td>\n",
       "      <td>6.00</td>\n",
       "    </tr>\n",
       "    <tr>\n",
       "      <th>1</th>\n",
       "      <td>1</td>\n",
       "      <td>905</td>\n",
       "      <td>Working Girls' Cafe'</td>\n",
       "      <td>0259 Kearny St</td>\n",
       "      <td>...</td>\n",
       "      <td>19.00</td>\n",
       "      <td>6.00</td>\n",
       "      <td>3.00</td>\n",
       "      <td>8.00</td>\n",
       "    </tr>\n",
       "    <tr>\n",
       "      <th>2</th>\n",
       "      <td>2</td>\n",
       "      <td>1203</td>\n",
       "      <td>TAWAN'S THAI FOOD</td>\n",
       "      <td>4403 GEARY Blvd</td>\n",
       "      <td>...</td>\n",
       "      <td>5.00</td>\n",
       "      <td>8.00</td>\n",
       "      <td>4.00</td>\n",
       "      <td>11.00</td>\n",
       "    </tr>\n",
       "    <tr>\n",
       "      <th>3</th>\n",
       "      <td>3</td>\n",
       "      <td>1345</td>\n",
       "      <td>Cordon Bleu</td>\n",
       "      <td>1574 California St</td>\n",
       "      <td>...</td>\n",
       "      <td>105.00</td>\n",
       "      <td>4.00</td>\n",
       "      <td>3.00</td>\n",
       "      <td>21.00</td>\n",
       "    </tr>\n",
       "    <tr>\n",
       "      <th>4</th>\n",
       "      <td>4</td>\n",
       "      <td>1352</td>\n",
       "      <td>LA TORTILLA</td>\n",
       "      <td>495 Castro St B</td>\n",
       "      <td>...</td>\n",
       "      <td>38.00</td>\n",
       "      <td>3.00</td>\n",
       "      <td>5.00</td>\n",
       "      <td>5.00</td>\n",
       "    </tr>\n",
       "  </tbody>\n",
       "</table>\n",
       "<p>5 rows × 23 columns</p>\n",
       "</div>"
      ],
      "text/plain": [
       "   Unnamed: 0  business_id         business_name    business_address  ...  \\\n",
       "0           0          835        Kam Po Kitchen     801 Broadway St  ...   \n",
       "1           1          905  Working Girls' Cafe'      0259 Kearny St  ...   \n",
       "2           2         1203     TAWAN'S THAI FOOD     4403 GEARY Blvd  ...   \n",
       "3           3         1345           Cordon Bleu  1574 California St  ...   \n",
       "4           4         1352           LA TORTILLA     495 Castro St B  ...   \n",
       "\n",
       "  SF Find Neighborhoods Current Police Districts Current Supervisor Districts  \\\n",
       "0                107.00                     6.00                         3.00   \n",
       "1                 19.00                     6.00                         3.00   \n",
       "2                  5.00                     8.00                         4.00   \n",
       "3                105.00                     4.00                         3.00   \n",
       "4                 38.00                     3.00                         5.00   \n",
       "\n",
       "   Analysis Neighborhoods  \n",
       "0                    6.00  \n",
       "1                    8.00  \n",
       "2                   11.00  \n",
       "3                   21.00  \n",
       "4                    5.00  \n",
       "\n",
       "[5 rows x 23 columns]"
      ]
     },
     "execution_count": 11,
     "metadata": {},
     "output_type": "execute_result"
    }
   ],
   "source": [
    "restaurants_tsv = pd.read_csv(restaurants_tsv_file, delimiter='\\t')\n",
    "restaurants_tsv.head()"
   ]
  },
  {
   "cell_type": "markdown",
   "metadata": {},
   "source": [
    "<br/>\n",
    "Note how records with special punctuation (e.g., a comma or apostrophe) are stored in the text file, and how `pd.read_csv` parses them."
   ]
  },
  {
   "cell_type": "code",
   "execution_count": 12,
   "metadata": {},
   "outputs": [
    {
     "name": "stdout",
     "output_type": "stream",
     "text": [
      "062 | '81508,\"Mo\\'z Cafe, Inc.\",36 05th St,San Francisco,CA,94103,,,,,81508_20190516,05/16/2019 12:00:00 AM,84,Routine - Unscheduled,81508_20190516_103162,Other low risk violation,Low Risk,,,,,\\n'\n"
     ]
    }
   ],
   "source": [
    "# punctuation in a CSV record entry\n",
    "with open(restaurants_file, \"r\") as f:\n",
    "    for i, line in enumerate(f.readlines()):\n",
    "        if \"Mo'z Cafe,\" in line:\n",
    "            print(f\"{i:03} | {repr(line)}\")\n",
    "            break"
   ]
  },
  {
   "cell_type": "code",
   "execution_count": 13,
   "metadata": {},
   "outputs": [
    {
     "data": {
      "text/html": [
       "<div>\n",
       "<style scoped>\n",
       "    .dataframe tbody tr th:only-of-type {\n",
       "        vertical-align: middle;\n",
       "    }\n",
       "\n",
       "    .dataframe tbody tr th {\n",
       "        vertical-align: top;\n",
       "    }\n",
       "\n",
       "    .dataframe thead th {\n",
       "        text-align: right;\n",
       "    }\n",
       "</style>\n",
       "<table border=\"1\" class=\"dataframe\">\n",
       "  <thead>\n",
       "    <tr style=\"text-align: right;\">\n",
       "      <th></th>\n",
       "      <th>business_id</th>\n",
       "      <th>business_name</th>\n",
       "      <th>business_address</th>\n",
       "      <th>business_city</th>\n",
       "      <th>...</th>\n",
       "      <th>SF Find Neighborhoods</th>\n",
       "      <th>Current Police Districts</th>\n",
       "      <th>Current Supervisor Districts</th>\n",
       "      <th>Analysis Neighborhoods</th>\n",
       "    </tr>\n",
       "  </thead>\n",
       "  <tbody>\n",
       "    <tr>\n",
       "      <th>61</th>\n",
       "      <td>81508</td>\n",
       "      <td>Mo'z Cafe, Inc.</td>\n",
       "      <td>36 05th St</td>\n",
       "      <td>San Francisco</td>\n",
       "      <td>...</td>\n",
       "      <td>NaN</td>\n",
       "      <td>NaN</td>\n",
       "      <td>NaN</td>\n",
       "      <td>NaN</td>\n",
       "    </tr>\n",
       "    <tr>\n",
       "      <th>18913</th>\n",
       "      <td>91619</td>\n",
       "      <td>Mo'z Cafe S.F. Inc</td>\n",
       "      <td>5 Masonic Ave</td>\n",
       "      <td>San Francisco</td>\n",
       "      <td>...</td>\n",
       "      <td>NaN</td>\n",
       "      <td>NaN</td>\n",
       "      <td>NaN</td>\n",
       "      <td>NaN</td>\n",
       "    </tr>\n",
       "    <tr>\n",
       "      <th>20034</th>\n",
       "      <td>91619</td>\n",
       "      <td>Mo'z Cafe S.F. Inc</td>\n",
       "      <td>5 Masonic Ave</td>\n",
       "      <td>San Francisco</td>\n",
       "      <td>...</td>\n",
       "      <td>NaN</td>\n",
       "      <td>NaN</td>\n",
       "      <td>NaN</td>\n",
       "      <td>NaN</td>\n",
       "    </tr>\n",
       "    <tr>\n",
       "      <th>22508</th>\n",
       "      <td>91619</td>\n",
       "      <td>Mo'z Cafe S.F. Inc</td>\n",
       "      <td>5 Masonic Ave</td>\n",
       "      <td>San Francisco</td>\n",
       "      <td>...</td>\n",
       "      <td>NaN</td>\n",
       "      <td>NaN</td>\n",
       "      <td>NaN</td>\n",
       "      <td>NaN</td>\n",
       "    </tr>\n",
       "    <tr>\n",
       "      <th>23468</th>\n",
       "      <td>81508</td>\n",
       "      <td>Mo'z Cafe, Inc.</td>\n",
       "      <td>36 05th St</td>\n",
       "      <td>San Francisco</td>\n",
       "      <td>...</td>\n",
       "      <td>NaN</td>\n",
       "      <td>NaN</td>\n",
       "      <td>NaN</td>\n",
       "      <td>NaN</td>\n",
       "    </tr>\n",
       "  </tbody>\n",
       "</table>\n",
       "<p>5 rows × 22 columns</p>\n",
       "</div>"
      ],
      "text/plain": [
       "       business_id       business_name business_address  business_city  ...  \\\n",
       "61           81508     Mo'z Cafe, Inc.       36 05th St  San Francisco  ...   \n",
       "18913        91619  Mo'z Cafe S.F. Inc    5 Masonic Ave  San Francisco  ...   \n",
       "20034        91619  Mo'z Cafe S.F. Inc    5 Masonic Ave  San Francisco  ...   \n",
       "22508        91619  Mo'z Cafe S.F. Inc    5 Masonic Ave  San Francisco  ...   \n",
       "23468        81508     Mo'z Cafe, Inc.       36 05th St  San Francisco  ...   \n",
       "\n",
       "      SF Find Neighborhoods Current Police Districts  \\\n",
       "61                      NaN                      NaN   \n",
       "18913                   NaN                      NaN   \n",
       "20034                   NaN                      NaN   \n",
       "22508                   NaN                      NaN   \n",
       "23468                   NaN                      NaN   \n",
       "\n",
       "       Current Supervisor Districts  Analysis Neighborhoods  \n",
       "61                              NaN                     NaN  \n",
       "18913                           NaN                     NaN  \n",
       "20034                           NaN                     NaN  \n",
       "22508                           NaN                     NaN  \n",
       "23468                           NaN                     NaN  \n",
       "\n",
       "[5 rows x 22 columns]"
      ]
     },
     "execution_count": 13,
     "metadata": {},
     "output_type": "execute_result"
    }
   ],
   "source": [
    "# read_csv is smart!\n",
    "restaurants[restaurants['business_name'].str.contains(\"Mo'z\")].head()"
   ]
  },
  {
   "cell_type": "markdown",
   "metadata": {
    "tags": []
   },
   "source": [
    "---\n",
    "<br/><br/>\n",
    "\n",
    "\n",
    "## 2) JSON\n",
    "The City of Berkeley Open Data [website](https://data.cityofberkeley.info/Health/COVID-19-Confirmed-Cases/xn6j-b766) has a dataset with COVID-19 Confirmed Cases among Berkeley residents by date.\n",
    "\n",
    "Let's download this file, saving it as a JSON (note the source URL file type):"
   ]
  },
  {
   "cell_type": "code",
   "execution_count": 14,
   "metadata": {},
   "outputs": [
    {
     "name": "stdout",
     "output_type": "stream",
     "text": [
      "Using cached version that was downloaded (UTC): Fri Apr 29 10:22:17 2022\n"
     ]
    }
   ],
   "source": [
    "covid_file = fetch_and_cache(\n",
    "    \"https://data.cityofberkeley.info/api/views/xn6j-b766/rows.json?accessType=DOWNLOAD\",\n",
    "    \"confirmed-cases.json\",\n",
    "    force=False)"
   ]
  },
  {
   "cell_type": "markdown",
   "metadata": {},
   "source": [
    "---\n",
    "### 1. How big is the data file?"
   ]
  },
  {
   "cell_type": "code",
   "execution_count": 15,
   "metadata": {},
   "outputs": [
    {
     "name": "stdout",
     "output_type": "stream",
     "text": [
      "data\\confirmed-cases.json is 0.116367 MB\n",
      "data\\confirmed-cases.json is 1110 lines.\n"
     ]
    }
   ],
   "source": [
    "print(covid_file, \"is\", os.path.getsize(covid_file) / 1e6, \"MB\")\n",
    "\n",
    "with open(covid_file, \"r\") as f:\n",
    "    print(covid_file, \"is\", sum(1 for l in f), \"lines.\")"
   ]
  },
  {
   "cell_type": "markdown",
   "metadata": {},
   "source": [
    "<br/><br/>\n",
    "### 2. How is the data file formatted?"
   ]
  },
  {
   "cell_type": "code",
   "execution_count": 16,
   "metadata": {},
   "outputs": [
    {
     "name": "stdout",
     "output_type": "stream",
     "text": [
      "data\\confirmed-cases.json ======================\n",
      "000 | '{\\n'\n",
      "001 | '  \"meta\" : {\\n'\n",
      "002 | '    \"view\" : {\\n'\n",
      "003 | '      \"id\" : \"xn6j-b766\",\\n'\n",
      "004 | '      \"name\" : \"COVID-19 Confirmed Cases\",\\n'\n",
      "005 | '      \"assetType\" : \"dataset\",\\n'\n",
      "006 | '      \"attribution\" : \"City of Berkeley\",\\n'\n",
      "007 | '      \"averageRating\" : 0,\\n'\n",
      "008 | '      \"category\" : \"Health\",\\n'\n",
      "009 | '      \"createdAt\" : 1587074071,\\n'\n",
      "010 | '      \"description\" : \"Counts of confirmed COVID-19 cases among Berkeley residents by date.\",\\n'\n",
      "011 | '      \"displayType\" : \"table\",\\n'\n",
      "012 | '      \"downloadCount\" : 2804,\\n'\n",
      "013 | '      \"hideFromCatalog\" : false,\\n'\n",
      "014 | '      \"hideFromDataJson\" : false,\\n'\n",
      "015 | '      \"newBackend\" : true,\\n'\n",
      "016 | '      \"numberOfComments\" : 0,\\n'\n",
      "017 | '      \"oid\" : 37306599,\\n'\n",
      "018 | '      \"provenance\" : \"official\",\\n'\n",
      "019 | '      \"publicationAppendEnabled\" : false,\\n'\n"
     ]
    }
   ],
   "source": [
    "# raw text\n",
    "print(covid_file, \"======================\")\n",
    "with open(covid_file, \"r\") as f:\n",
    "    for i in range(20):\n",
    "        print(f\"{i:03} | {repr(f.readline())}\") # zero pad line numbers"
   ]
  },
  {
   "cell_type": "markdown",
   "metadata": {
    "jp-MarkdownHeadingCollapsed": true,
    "tags": []
   },
   "source": [
    "This appears to be a fairly standard JSON file.  We notice that the file appears to contain a description of itself in a field called \"meta\" (which is presumably short for **metadata**).\n",
    "\n",
    "<br/><br/>\n",
    "### 3. How do we read the file into Pandas?\n",
    "\n",
    "We'll come back to this question. Let's first understand more about the particular structure of this JSON file so that we can decide what (if anything) to load into Pandas. "
   ]
  },
  {
   "cell_type": "markdown",
   "metadata": {},
   "source": [
    "\n",
    "\n",
    "---\n",
    "<br/><br/>\n",
    "\n",
    "# Digging into JSON\n",
    "\n",
    "Python has relatively good support for JSON data since it closely matches the internal python object model.  In the following cell we import the entire JSON datafile into a python dictionary."
   ]
  },
  {
   "cell_type": "code",
   "execution_count": 17,
   "metadata": {
    "ExecuteTime": {
     "end_time": "2018-02-02T15:15:19.441300Z",
     "start_time": "2018-02-02T15:15:19.358900Z"
    }
   },
   "outputs": [],
   "source": [
    "import json\n",
    "\n",
    "with open(covid_file, \"rb\") as f:\n",
    "    covid_json = json.load(f)"
   ]
  },
  {
   "cell_type": "markdown",
   "metadata": {},
   "source": [
    "The `covid_json` variable is now a dictionary encoding the data in the file:"
   ]
  },
  {
   "cell_type": "code",
   "execution_count": 18,
   "metadata": {
    "ExecuteTime": {
     "end_time": "2018-02-02T15:15:19.447238Z",
     "start_time": "2018-02-02T15:15:19.443595Z"
    }
   },
   "outputs": [
    {
     "data": {
      "text/plain": [
       "dict"
      ]
     },
     "execution_count": 18,
     "metadata": {},
     "output_type": "execute_result"
    }
   ],
   "source": [
    "type(covid_json)"
   ]
  },
  {
   "cell_type": "markdown",
   "metadata": {},
   "source": [
    "### Examine what keys are in the top level json object\n",
    "\n",
    "We can list the keys to determine what data is stored in the object."
   ]
  },
  {
   "cell_type": "code",
   "execution_count": 19,
   "metadata": {
    "ExecuteTime": {
     "end_time": "2018-02-02T15:15:19.680999Z",
     "start_time": "2018-02-02T15:15:19.675696Z"
    }
   },
   "outputs": [
    {
     "data": {
      "text/plain": [
       "dict_keys(['meta', 'data'])"
      ]
     },
     "execution_count": 19,
     "metadata": {},
     "output_type": "execute_result"
    }
   ],
   "source": [
    "covid_json.keys()"
   ]
  },
  {
   "cell_type": "markdown",
   "metadata": {},
   "source": [
    "**Observation**: The JSON dictionary contains a `meta` key which likely refers to meta data (data about the data).  Meta data often maintained with the data and can be a good source of additional information."
   ]
  },
  {
   "cell_type": "markdown",
   "metadata": {},
   "source": [
    "<br/>\n",
    "\n",
    "We can investigate the meta data further by examining the keys associated with the metadata."
   ]
  },
  {
   "cell_type": "code",
   "execution_count": 20,
   "metadata": {
    "ExecuteTime": {
     "end_time": "2018-02-02T15:15:19.687295Z",
     "start_time": "2018-02-02T15:15:19.682902Z"
    }
   },
   "outputs": [
    {
     "data": {
      "text/plain": [
       "dict_keys(['view'])"
      ]
     },
     "execution_count": 20,
     "metadata": {},
     "output_type": "execute_result"
    }
   ],
   "source": [
    "covid_json['meta'].keys()"
   ]
  },
  {
   "cell_type": "markdown",
   "metadata": {},
   "source": [
    "The `meta` key contains another dictionary called `view`.  This likely refers to meta-data about a particular \"view\" of some underlying database.  We will learn more about views when we study SQL later in the class.    "
   ]
  },
  {
   "cell_type": "code",
   "execution_count": 21,
   "metadata": {
    "ExecuteTime": {
     "end_time": "2018-02-02T15:15:19.693946Z",
     "start_time": "2018-02-02T15:15:19.690139Z"
    }
   },
   "outputs": [
    {
     "data": {
      "text/plain": [
       "dict_keys(['id', 'name', 'assetType', 'attribution', 'averageRating', 'category', 'createdAt', 'description', 'displayType', 'downloadCount', 'hideFromCatalog', 'hideFromDataJson', 'newBackend', 'numberOfComments', 'oid', 'provenance', 'publicationAppendEnabled', 'publicationDate', 'publicationGroup', 'publicationStage', 'rowsUpdatedAt', 'rowsUpdatedBy', 'tableId', 'totalTimesRated', 'viewCount', 'viewLastModified', 'viewType', 'approvals', 'columns', 'grants', 'metadata', 'owner', 'query', 'rights', 'tableAuthor', 'tags', 'flags'])"
      ]
     },
     "execution_count": 21,
     "metadata": {},
     "output_type": "execute_result"
    }
   ],
   "source": [
    "covid_json['meta']['view'].keys()"
   ]
  },
  {
   "cell_type": "markdown",
   "metadata": {},
   "source": [
    "Notice that this a nested/recursive data structure.  As we dig deeper we reveal more and more keys and the corresponding data:\n",
    "\n",
    "```\n",
    "meta\n",
    "|-> data\n",
    "    | ... (haven't explored yet)\n",
    "|-> view\n",
    "    | -> id\n",
    "    | -> name\n",
    "    | -> attribution \n",
    "    ...\n",
    "    | -> description\n",
    "    ...\n",
    "    | -> columns\n",
    "    ...\n",
    "```"
   ]
  },
  {
   "cell_type": "markdown",
   "metadata": {},
   "source": [
    "There is a key called description in the view sub dictionary.  This likely contains a description of the data:"
   ]
  },
  {
   "cell_type": "code",
   "execution_count": 22,
   "metadata": {
    "ExecuteTime": {
     "end_time": "2018-02-02T15:15:19.699773Z",
     "start_time": "2018-02-02T15:15:19.695818Z"
    }
   },
   "outputs": [
    {
     "name": "stdout",
     "output_type": "stream",
     "text": [
      "Counts of confirmed COVID-19 cases among Berkeley residents by date.\n"
     ]
    }
   ],
   "source": [
    "print(covid_json['meta']['view']['description'])"
   ]
  },
  {
   "cell_type": "markdown",
   "metadata": {},
   "source": [
    "<br/>\n",
    "\n",
    "### Columns Metadata\n",
    "\n",
    "Another potentially useful key in the metadata dictionary is the `columns`.  This returns a list:"
   ]
  },
  {
   "cell_type": "code",
   "execution_count": 23,
   "metadata": {
    "ExecuteTime": {
     "end_time": "2018-02-02T15:15:19.706171Z",
     "start_time": "2018-02-02T15:15:19.701580Z"
    }
   },
   "outputs": [
    {
     "data": {
      "text/plain": [
       "list"
      ]
     },
     "execution_count": 23,
     "metadata": {},
     "output_type": "execute_result"
    }
   ],
   "source": [
    "type(covid_json['meta']['view']['columns'])"
   ]
  },
  {
   "cell_type": "markdown",
   "metadata": {},
   "source": [
    "We can browse summary data in the list using python:"
   ]
  },
  {
   "cell_type": "markdown",
   "metadata": {},
   "source": [
    "**Observations**\n",
    "\n",
    "1. The above meta data tells us a lot about the columns in the data including column names, potential data anomalies, and a basic statistic. \n",
    "1. JSON makes it easier (than CSV) to create **self-documented data.** \n",
    "1. Self documenting data can be helpful since it maintains its own description and these descriptions are more likely to be updated as data changes. "
   ]
  },
  {
   "cell_type": "markdown",
   "metadata": {},
   "source": [
    "\n",
    "### Examining the Data Field for Records\n",
    "\n",
    "We can look at a few entries in the `data` field. This is what we'll load into Pandas.\n"
   ]
  },
  {
   "cell_type": "code",
   "execution_count": 24,
   "metadata": {
    "ExecuteTime": {
     "end_time": "2018-02-02T15:15:19.722451Z",
     "start_time": "2018-02-02T15:15:19.717198Z"
    }
   },
   "outputs": [
    {
     "name": "stdout",
     "output_type": "stream",
     "text": [
      "000 | ['row-kzbg.v7my-c3y2', '00000000-0000-0000-0405-CB14DE51DAA7', 0, 1643733903, None, 1643733903, None, '{ }', '2020-02-28T00:00:00', '1', '1']\n",
      "001 | ['row-jkyx_9u4r-h2yw', '00000000-0000-0000-F806-86D0DBE0E17F', 0, 1643733903, None, 1643733903, None, '{ }', '2020-02-29T00:00:00', '0', '1']\n",
      "002 | ['row-qifg_4aug-y3ym', '00000000-0000-0000-2DCE-4D1872F9B216', 0, 1643733903, None, 1643733903, None, '{ }', '2020-03-01T00:00:00', '0', '1']\n"
     ]
    }
   ],
   "source": [
    "for i in range(3):\n",
    "    print(f\"{i:03} | {covid_json['data'][i]}\")"
   ]
  },
  {
   "cell_type": "markdown",
   "metadata": {},
   "source": [
    "---\n",
    "<br/>\n",
    "\n",
    "### 3. How do we read the file into Pandas? Building a DataFrame from JSON\n",
    "\n",
    "Let's understand more about the particular structure of this JSON file so that we can decide what (if anything) "
   ]
  },
  {
   "cell_type": "markdown",
   "metadata": {},
   "source": [
    "In the following block of code we:\n",
    "1. Translate the JSON records into a dataframe:\n",
    "\n",
    "    * fields: `covid_json['meta']['view']['columns']`\n",
    "    * records: `covid_json['data']`\n",
    "    \n",
    "1. Remove columns that have no metadata description.  This would be a bad idea in general but here we remove these columns since the above analysis suggests that they are unlikely to contain useful information.\n",
    "1. Examine the table."
   ]
  },
  {
   "cell_type": "code",
   "execution_count": 25,
   "metadata": {
    "ExecuteTime": {
     "end_time": "2018-02-02T15:15:19.793306Z",
     "start_time": "2018-02-02T15:15:19.725044Z"
    }
   },
   "outputs": [
    {
     "data": {
      "text/html": [
       "<div>\n",
       "<style scoped>\n",
       "    .dataframe tbody tr th:only-of-type {\n",
       "        vertical-align: middle;\n",
       "    }\n",
       "\n",
       "    .dataframe tbody tr th {\n",
       "        vertical-align: top;\n",
       "    }\n",
       "\n",
       "    .dataframe thead th {\n",
       "        text-align: right;\n",
       "    }\n",
       "</style>\n",
       "<table border=\"1\" class=\"dataframe\">\n",
       "  <thead>\n",
       "    <tr style=\"text-align: right;\">\n",
       "      <th></th>\n",
       "      <th>sid</th>\n",
       "      <th>id</th>\n",
       "      <th>position</th>\n",
       "      <th>created_at</th>\n",
       "      <th>...</th>\n",
       "      <th>meta</th>\n",
       "      <th>Date</th>\n",
       "      <th>New Cases</th>\n",
       "      <th>Cumulative Cases</th>\n",
       "    </tr>\n",
       "  </thead>\n",
       "  <tbody>\n",
       "    <tr>\n",
       "      <th>699</th>\n",
       "      <td>row-49b6_x8zv.gyum</td>\n",
       "      <td>00000000-0000-0000-A18C-9174A6D05774</td>\n",
       "      <td>0</td>\n",
       "      <td>1643733903</td>\n",
       "      <td>...</td>\n",
       "      <td>{ }</td>\n",
       "      <td>2022-01-27T00:00:00</td>\n",
       "      <td>106</td>\n",
       "      <td>10694</td>\n",
       "    </tr>\n",
       "    <tr>\n",
       "      <th>700</th>\n",
       "      <td>row-gs55-p5em.y4v9</td>\n",
       "      <td>00000000-0000-0000-F41D-5724AEABB4D6</td>\n",
       "      <td>0</td>\n",
       "      <td>1643733903</td>\n",
       "      <td>...</td>\n",
       "      <td>{ }</td>\n",
       "      <td>2022-01-28T00:00:00</td>\n",
       "      <td>223</td>\n",
       "      <td>10917</td>\n",
       "    </tr>\n",
       "    <tr>\n",
       "      <th>701</th>\n",
       "      <td>row-3pyj.tf95-qu67</td>\n",
       "      <td>00000000-0000-0000-BEE3-B0188D2518BD</td>\n",
       "      <td>0</td>\n",
       "      <td>1643733903</td>\n",
       "      <td>...</td>\n",
       "      <td>{ }</td>\n",
       "      <td>2022-01-29T00:00:00</td>\n",
       "      <td>139</td>\n",
       "      <td>11056</td>\n",
       "    </tr>\n",
       "    <tr>\n",
       "      <th>702</th>\n",
       "      <td>row-cgnd.8syv.jvjn</td>\n",
       "      <td>00000000-0000-0000-C318-63CF75F7F740</td>\n",
       "      <td>0</td>\n",
       "      <td>1643733903</td>\n",
       "      <td>...</td>\n",
       "      <td>{ }</td>\n",
       "      <td>2022-01-30T00:00:00</td>\n",
       "      <td>33</td>\n",
       "      <td>11089</td>\n",
       "    </tr>\n",
       "    <tr>\n",
       "      <th>703</th>\n",
       "      <td>row-qywv_24x6-237y</td>\n",
       "      <td>00000000-0000-0000-FE92-9789FED3AA20</td>\n",
       "      <td>0</td>\n",
       "      <td>1643733903</td>\n",
       "      <td>...</td>\n",
       "      <td>{ }</td>\n",
       "      <td>2022-01-31T00:00:00</td>\n",
       "      <td>42</td>\n",
       "      <td>11131</td>\n",
       "    </tr>\n",
       "  </tbody>\n",
       "</table>\n",
       "<p>5 rows × 11 columns</p>\n",
       "</div>"
      ],
      "text/plain": [
       "                    sid                                    id  position  \\\n",
       "699  row-49b6_x8zv.gyum  00000000-0000-0000-A18C-9174A6D05774         0   \n",
       "700  row-gs55-p5em.y4v9  00000000-0000-0000-F41D-5724AEABB4D6         0   \n",
       "701  row-3pyj.tf95-qu67  00000000-0000-0000-BEE3-B0188D2518BD         0   \n",
       "702  row-cgnd.8syv.jvjn  00000000-0000-0000-C318-63CF75F7F740         0   \n",
       "703  row-qywv_24x6-237y  00000000-0000-0000-FE92-9789FED3AA20         0   \n",
       "\n",
       "     created_at  ... meta                 Date New Cases Cumulative Cases  \n",
       "699  1643733903  ...  { }  2022-01-27T00:00:00       106            10694  \n",
       "700  1643733903  ...  { }  2022-01-28T00:00:00       223            10917  \n",
       "701  1643733903  ...  { }  2022-01-29T00:00:00       139            11056  \n",
       "702  1643733903  ...  { }  2022-01-30T00:00:00        33            11089  \n",
       "703  1643733903  ...  { }  2022-01-31T00:00:00        42            11131  \n",
       "\n",
       "[5 rows x 11 columns]"
      ]
     },
     "execution_count": 25,
     "metadata": {},
     "output_type": "execute_result"
    }
   ],
   "source": [
    "# Load the data from JSON and assign column titles\n",
    "covid = pd.DataFrame(\n",
    "    covid_json['data'],\n",
    "    columns=[c['name'] for c in covid_json['meta']['view']['columns']])\n",
    "\n",
    "covid.tail()"
   ]
  },
  {
   "cell_type": "markdown",
   "metadata": {
    "tags": []
   },
   "source": [
    "---\n",
    "<br/><br/>\n",
    "\n",
    "## Your turn: Mauna Loa CO2 data\n",
    "\n",
    "CO2 concentrations have been monitored at Mauna Loa Observatory since 1958 ([website link](https://gml.noaa.gov/ccgg/trends/data.html)).\n",
    "\n",
    "\n"
   ]
  },
  {
   "cell_type": "code",
   "execution_count": 26,
   "metadata": {},
   "outputs": [],
   "source": [
    "co2_file = \"data/co2_mm_mlo.txt\""
   ]
  },
  {
   "cell_type": "code",
   "execution_count": 27,
   "metadata": {},
   "outputs": [
    {
     "name": "stdout",
     "output_type": "stream",
     "text": [
      "data/co2_mm_mlo.txt is 0.051131 MB\n",
      "data/co2_mm_mlo.txt is 810 lines.\n"
     ]
    }
   ],
   "source": [
    "print(co2_file, \"is\", os.path.getsize(co2_file) / 1e6, \"MB\")\n",
    "\n",
    "with open(co2_file, \"r\") as f:\n",
    "    print(co2_file, \"is\", sum(1 for l in f), \"lines.\")"
   ]
  },
  {
   "cell_type": "markdown",
   "metadata": {
    "tags": []
   },
   "source": [
    "### How do we read the file into Pandas?\n",
    "While we could use Python again to check out the contents, let's instead check out this file with JupyterLab (note it's a `.txt` file. Do we trust this file extension?)."
   ]
  },
  {
   "cell_type": "markdown",
   "metadata": {},
   "source": [
    "<br/><br/>\n",
    "---\n",
    "\n",
    "---\n",
    "<br/><br/><br/><br/><br/>\n",
    "\n",
    "Looking at the first few lines of the data, we spot some relevant characteristics:\n",
    "\n",
    "- The values are separated by white space, possibly tabs.\n",
    "- The data line up down the rows. For example, the month appears in 7th to 8th position of each line.\n",
    "- The 71st and 72nd lines in the file contain column headings split over two lines.\n",
    "\n",
    "We can use `read_csv` to read the data into a Pandas data frame, and we provide several arguments to specify that the separators are white space, there is no header (**we will set our own column names**), and to skip the first 72 rows of the file."
   ]
  },
  {
   "cell_type": "code",
   "execution_count": 28,
   "metadata": {},
   "outputs": [
    {
     "data": {
      "text/html": [
       "<div>\n",
       "<style scoped>\n",
       "    .dataframe tbody tr th:only-of-type {\n",
       "        vertical-align: middle;\n",
       "    }\n",
       "\n",
       "    .dataframe tbody tr th {\n",
       "        vertical-align: top;\n",
       "    }\n",
       "\n",
       "    .dataframe thead th {\n",
       "        text-align: right;\n",
       "    }\n",
       "</style>\n",
       "<table border=\"1\" class=\"dataframe\">\n",
       "  <thead>\n",
       "    <tr style=\"text-align: right;\">\n",
       "      <th></th>\n",
       "      <th>0</th>\n",
       "      <th>1</th>\n",
       "      <th>2</th>\n",
       "      <th>3</th>\n",
       "      <th>4</th>\n",
       "      <th>5</th>\n",
       "      <th>6</th>\n",
       "    </tr>\n",
       "  </thead>\n",
       "  <tbody>\n",
       "    <tr>\n",
       "      <th>0</th>\n",
       "      <td>1958</td>\n",
       "      <td>3</td>\n",
       "      <td>1958.21</td>\n",
       "      <td>315.71</td>\n",
       "      <td>315.71</td>\n",
       "      <td>314.62</td>\n",
       "      <td>-1</td>\n",
       "    </tr>\n",
       "    <tr>\n",
       "      <th>1</th>\n",
       "      <td>1958</td>\n",
       "      <td>4</td>\n",
       "      <td>1958.29</td>\n",
       "      <td>317.45</td>\n",
       "      <td>317.45</td>\n",
       "      <td>315.29</td>\n",
       "      <td>-1</td>\n",
       "    </tr>\n",
       "    <tr>\n",
       "      <th>2</th>\n",
       "      <td>1958</td>\n",
       "      <td>5</td>\n",
       "      <td>1958.38</td>\n",
       "      <td>317.50</td>\n",
       "      <td>317.50</td>\n",
       "      <td>314.71</td>\n",
       "      <td>-1</td>\n",
       "    </tr>\n",
       "    <tr>\n",
       "      <th>3</th>\n",
       "      <td>1958</td>\n",
       "      <td>6</td>\n",
       "      <td>1958.46</td>\n",
       "      <td>-99.99</td>\n",
       "      <td>317.10</td>\n",
       "      <td>314.85</td>\n",
       "      <td>-1</td>\n",
       "    </tr>\n",
       "    <tr>\n",
       "      <th>4</th>\n",
       "      <td>1958</td>\n",
       "      <td>7</td>\n",
       "      <td>1958.54</td>\n",
       "      <td>315.86</td>\n",
       "      <td>315.86</td>\n",
       "      <td>314.98</td>\n",
       "      <td>-1</td>\n",
       "    </tr>\n",
       "  </tbody>\n",
       "</table>\n",
       "</div>"
      ],
      "text/plain": [
       "      0  1       2      3      4      5  6\n",
       "0  1958  3 1958.21 315.71 315.71 314.62 -1\n",
       "1  1958  4 1958.29 317.45 317.45 315.29 -1\n",
       "2  1958  5 1958.38 317.50 317.50 314.71 -1\n",
       "3  1958  6 1958.46 -99.99 317.10 314.85 -1\n",
       "4  1958  7 1958.54 315.86 315.86 314.98 -1"
      ]
     },
     "execution_count": 28,
     "metadata": {},
     "output_type": "execute_result"
    }
   ],
   "source": [
    "co2 = pd.read_csv(\n",
    "    co2_file,\n",
    "    header = None,\n",
    "    skiprows = 72, \n",
    "    sep = '\\s+', # regex for continuous whitespace (next lecture)\n",
    ")\n",
    "co2.head()"
   ]
  },
  {
   "cell_type": "markdown",
   "metadata": {},
   "source": [
    "Congratulations! You've wrangled your first set of real world data!\n",
    "\n",
    "<br/>\n",
    "\n",
    "...But our columns aren't named.\n",
    "**We need to do more EDA.**"
   ]
  },
  {
   "cell_type": "markdown",
   "metadata": {},
   "source": [
    "### Other format of data\n",
    "\n",
    "- XML\n",
    "- Log Data: usually a `.txt` formatted file"
   ]
  },
  {
   "cell_type": "markdown",
   "metadata": {},
   "source": [
    "\n",
    "-----\n",
    "# Real World Example: Wrangling CO2 Measurements\n",
    "\n",
    "Let's continue looking at the CO2 concentrations at Mauna Loa Observatory:"
   ]
  },
  {
   "cell_type": "code",
   "execution_count": 29,
   "metadata": {},
   "outputs": [
    {
     "data": {
      "text/html": [
       "<div>\n",
       "<style scoped>\n",
       "    .dataframe tbody tr th:only-of-type {\n",
       "        vertical-align: middle;\n",
       "    }\n",
       "\n",
       "    .dataframe tbody tr th {\n",
       "        vertical-align: top;\n",
       "    }\n",
       "\n",
       "    .dataframe thead th {\n",
       "        text-align: right;\n",
       "    }\n",
       "</style>\n",
       "<table border=\"1\" class=\"dataframe\">\n",
       "  <thead>\n",
       "    <tr style=\"text-align: right;\">\n",
       "      <th></th>\n",
       "      <th>0</th>\n",
       "      <th>1</th>\n",
       "      <th>2</th>\n",
       "      <th>3</th>\n",
       "      <th>4</th>\n",
       "      <th>5</th>\n",
       "      <th>6</th>\n",
       "    </tr>\n",
       "  </thead>\n",
       "  <tbody>\n",
       "    <tr>\n",
       "      <th>0</th>\n",
       "      <td>1958</td>\n",
       "      <td>3</td>\n",
       "      <td>1958.21</td>\n",
       "      <td>315.71</td>\n",
       "      <td>315.71</td>\n",
       "      <td>314.62</td>\n",
       "      <td>-1</td>\n",
       "    </tr>\n",
       "    <tr>\n",
       "      <th>1</th>\n",
       "      <td>1958</td>\n",
       "      <td>4</td>\n",
       "      <td>1958.29</td>\n",
       "      <td>317.45</td>\n",
       "      <td>317.45</td>\n",
       "      <td>315.29</td>\n",
       "      <td>-1</td>\n",
       "    </tr>\n",
       "    <tr>\n",
       "      <th>2</th>\n",
       "      <td>1958</td>\n",
       "      <td>5</td>\n",
       "      <td>1958.38</td>\n",
       "      <td>317.50</td>\n",
       "      <td>317.50</td>\n",
       "      <td>314.71</td>\n",
       "      <td>-1</td>\n",
       "    </tr>\n",
       "    <tr>\n",
       "      <th>3</th>\n",
       "      <td>1958</td>\n",
       "      <td>6</td>\n",
       "      <td>1958.46</td>\n",
       "      <td>-99.99</td>\n",
       "      <td>317.10</td>\n",
       "      <td>314.85</td>\n",
       "      <td>-1</td>\n",
       "    </tr>\n",
       "    <tr>\n",
       "      <th>4</th>\n",
       "      <td>1958</td>\n",
       "      <td>7</td>\n",
       "      <td>1958.54</td>\n",
       "      <td>315.86</td>\n",
       "      <td>315.86</td>\n",
       "      <td>314.98</td>\n",
       "      <td>-1</td>\n",
       "    </tr>\n",
       "  </tbody>\n",
       "</table>\n",
       "</div>"
      ],
      "text/plain": [
       "      0  1       2      3      4      5  6\n",
       "0  1958  3 1958.21 315.71 315.71 314.62 -1\n",
       "1  1958  4 1958.29 317.45 317.45 315.29 -1\n",
       "2  1958  5 1958.38 317.50 317.50 314.71 -1\n",
       "3  1958  6 1958.46 -99.99 317.10 314.85 -1\n",
       "4  1958  7 1958.54 315.86 315.86 314.98 -1"
      ]
     },
     "execution_count": 29,
     "metadata": {},
     "output_type": "execute_result"
    }
   ],
   "source": [
    "co2.head()"
   ]
  },
  {
   "cell_type": "markdown",
   "metadata": {},
   "source": [
    "We need column names!\n",
    "\n",
    "---\n",
    "## Exploring Variable Feature Types\n",
    "Let's go back to the raw data file to understand each feature.\n",
    "\n",
    "The NOAA [webpage](https://gml.noaa.gov/ccgg/trends/) might have some useful tidbits (in this case it doesn't).\n",
    "\n",
    "<br/><br/>\n",
    "We'll rerun `pd.read_csv`, but this time with some **custom column names.**"
   ]
  },
  {
   "cell_type": "code",
   "execution_count": 30,
   "metadata": {},
   "outputs": [
    {
     "data": {
      "text/html": [
       "<div>\n",
       "<style scoped>\n",
       "    .dataframe tbody tr th:only-of-type {\n",
       "        vertical-align: middle;\n",
       "    }\n",
       "\n",
       "    .dataframe tbody tr th {\n",
       "        vertical-align: top;\n",
       "    }\n",
       "\n",
       "    .dataframe thead th {\n",
       "        text-align: right;\n",
       "    }\n",
       "</style>\n",
       "<table border=\"1\" class=\"dataframe\">\n",
       "  <thead>\n",
       "    <tr style=\"text-align: right;\">\n",
       "      <th></th>\n",
       "      <th>Yr</th>\n",
       "      <th>Mo</th>\n",
       "      <th>DecDate</th>\n",
       "      <th>Avg</th>\n",
       "      <th>Int</th>\n",
       "      <th>Trend</th>\n",
       "      <th>Days</th>\n",
       "    </tr>\n",
       "  </thead>\n",
       "  <tbody>\n",
       "    <tr>\n",
       "      <th>0</th>\n",
       "      <td>1958</td>\n",
       "      <td>3</td>\n",
       "      <td>1958.21</td>\n",
       "      <td>315.71</td>\n",
       "      <td>315.71</td>\n",
       "      <td>314.62</td>\n",
       "      <td>-1</td>\n",
       "    </tr>\n",
       "    <tr>\n",
       "      <th>1</th>\n",
       "      <td>1958</td>\n",
       "      <td>4</td>\n",
       "      <td>1958.29</td>\n",
       "      <td>317.45</td>\n",
       "      <td>317.45</td>\n",
       "      <td>315.29</td>\n",
       "      <td>-1</td>\n",
       "    </tr>\n",
       "    <tr>\n",
       "      <th>2</th>\n",
       "      <td>1958</td>\n",
       "      <td>5</td>\n",
       "      <td>1958.38</td>\n",
       "      <td>317.50</td>\n",
       "      <td>317.50</td>\n",
       "      <td>314.71</td>\n",
       "      <td>-1</td>\n",
       "    </tr>\n",
       "    <tr>\n",
       "      <th>3</th>\n",
       "      <td>1958</td>\n",
       "      <td>6</td>\n",
       "      <td>1958.46</td>\n",
       "      <td>-99.99</td>\n",
       "      <td>317.10</td>\n",
       "      <td>314.85</td>\n",
       "      <td>-1</td>\n",
       "    </tr>\n",
       "    <tr>\n",
       "      <th>4</th>\n",
       "      <td>1958</td>\n",
       "      <td>7</td>\n",
       "      <td>1958.54</td>\n",
       "      <td>315.86</td>\n",
       "      <td>315.86</td>\n",
       "      <td>314.98</td>\n",
       "      <td>-1</td>\n",
       "    </tr>\n",
       "  </tbody>\n",
       "</table>\n",
       "</div>"
      ],
      "text/plain": [
       "     Yr  Mo  DecDate    Avg    Int  Trend  Days\n",
       "0  1958   3  1958.21 315.71 315.71 314.62    -1\n",
       "1  1958   4  1958.29 317.45 317.45 315.29    -1\n",
       "2  1958   5  1958.38 317.50 317.50 314.71    -1\n",
       "3  1958   6  1958.46 -99.99 317.10 314.85    -1\n",
       "4  1958   7  1958.54 315.86 315.86 314.98    -1"
      ]
     },
     "execution_count": 30,
     "metadata": {},
     "output_type": "execute_result"
    }
   ],
   "source": [
    "co2 = pd.read_csv(\n",
    "    co2_file, header = None, skiprows = 72, \n",
    "    sep = '\\s+', # regex for continuous whitespace (next lecture)\n",
    "    names = ['Yr', 'Mo', 'DecDate', 'Avg', 'Int', 'Trend', 'Days']\n",
    ")\n",
    "co2.head()"
   ]
  },
  {
   "cell_type": "markdown",
   "metadata": {},
   "source": [
    "## How to deal with Missing Data or Default Values\n",
    "\n",
    "- drop the missing value: check the bias\n",
    "- imputation: infer from other data\n",
    "  - average imputation: replace with average value\n",
    "  - hot deck imputation: replace with random value"
   ]
  },
  {
   "cell_type": "markdown",
   "metadata": {},
   "source": [
    "<br/><br/>\n",
    "\n",
    "---\n",
    "\n",
    "## Let's start exploring!!"
   ]
  },
  {
   "cell_type": "markdown",
   "metadata": {},
   "source": [
    "Scientific studies tend to have very clean data, right? Let's jump right in and make a time series plot of CO2 monthly averages."
   ]
  },
  {
   "cell_type": "code",
   "execution_count": 31,
   "metadata": {},
   "outputs": [
    {
     "data": {
      "image/png": "[encoded data removed]",
      "text/plain": [
       "<Figure size 1200x900 with 1 Axes>"
      ]
     },
     "metadata": {},
     "output_type": "display_data"
    }
   ],
   "source": [
    "sns.lineplot(x='DecDate', y='Avg', data=co2);"
   ]
  },
  {
   "cell_type": "markdown",
   "metadata": {},
   "source": [
    "The code above uses the `seaborn` plotting library (abbreviated `sns`).\n",
    "We won't cover this library in detail until next week, so focus\n",
    "on the plots themselves, not the code used to create them.\n"
   ]
  },
  {
   "cell_type": "markdown",
   "metadata": {},
   "source": [
    "Yikes! Plotting the data uncovered a problem. It looks like we have some **missing values**. What happened here? "
   ]
  },
  {
   "cell_type": "code",
   "execution_count": 32,
   "metadata": {},
   "outputs": [
    {
     "data": {
      "text/html": [
       "<div>\n",
       "<style scoped>\n",
       "    .dataframe tbody tr th:only-of-type {\n",
       "        vertical-align: middle;\n",
       "    }\n",
       "\n",
       "    .dataframe tbody tr th {\n",
       "        vertical-align: top;\n",
       "    }\n",
       "\n",
       "    .dataframe thead th {\n",
       "        text-align: right;\n",
       "    }\n",
       "</style>\n",
       "<table border=\"1\" class=\"dataframe\">\n",
       "  <thead>\n",
       "    <tr style=\"text-align: right;\">\n",
       "      <th></th>\n",
       "      <th>Yr</th>\n",
       "      <th>Mo</th>\n",
       "      <th>DecDate</th>\n",
       "      <th>Avg</th>\n",
       "      <th>Int</th>\n",
       "      <th>Trend</th>\n",
       "      <th>Days</th>\n",
       "    </tr>\n",
       "  </thead>\n",
       "  <tbody>\n",
       "    <tr>\n",
       "      <th>0</th>\n",
       "      <td>1958</td>\n",
       "      <td>3</td>\n",
       "      <td>1958.21</td>\n",
       "      <td>315.71</td>\n",
       "      <td>315.71</td>\n",
       "      <td>314.62</td>\n",
       "      <td>-1</td>\n",
       "    </tr>\n",
       "    <tr>\n",
       "      <th>1</th>\n",
       "      <td>1958</td>\n",
       "      <td>4</td>\n",
       "      <td>1958.29</td>\n",
       "      <td>317.45</td>\n",
       "      <td>317.45</td>\n",
       "      <td>315.29</td>\n",
       "      <td>-1</td>\n",
       "    </tr>\n",
       "    <tr>\n",
       "      <th>2</th>\n",
       "      <td>1958</td>\n",
       "      <td>5</td>\n",
       "      <td>1958.38</td>\n",
       "      <td>317.50</td>\n",
       "      <td>317.50</td>\n",
       "      <td>314.71</td>\n",
       "      <td>-1</td>\n",
       "    </tr>\n",
       "    <tr>\n",
       "      <th>3</th>\n",
       "      <td>1958</td>\n",
       "      <td>6</td>\n",
       "      <td>1958.46</td>\n",
       "      <td>-99.99</td>\n",
       "      <td>317.10</td>\n",
       "      <td>314.85</td>\n",
       "      <td>-1</td>\n",
       "    </tr>\n",
       "    <tr>\n",
       "      <th>4</th>\n",
       "      <td>1958</td>\n",
       "      <td>7</td>\n",
       "      <td>1958.54</td>\n",
       "      <td>315.86</td>\n",
       "      <td>315.86</td>\n",
       "      <td>314.98</td>\n",
       "      <td>-1</td>\n",
       "    </tr>\n",
       "  </tbody>\n",
       "</table>\n",
       "</div>"
      ],
      "text/plain": [
       "     Yr  Mo  DecDate    Avg    Int  Trend  Days\n",
       "0  1958   3  1958.21 315.71 315.71 314.62    -1\n",
       "1  1958   4  1958.29 317.45 317.45 315.29    -1\n",
       "2  1958   5  1958.38 317.50 317.50 314.71    -1\n",
       "3  1958   6  1958.46 -99.99 317.10 314.85    -1\n",
       "4  1958   7  1958.54 315.86 315.86 314.98    -1"
      ]
     },
     "execution_count": 32,
     "metadata": {},
     "output_type": "execute_result"
    }
   ],
   "source": [
    "co2.head()"
   ]
  },
  {
   "cell_type": "code",
   "execution_count": 33,
   "metadata": {},
   "outputs": [
    {
     "data": {
      "text/html": [
       "<div>\n",
       "<style scoped>\n",
       "    .dataframe tbody tr th:only-of-type {\n",
       "        vertical-align: middle;\n",
       "    }\n",
       "\n",
       "    .dataframe tbody tr th {\n",
       "        vertical-align: top;\n",
       "    }\n",
       "\n",
       "    .dataframe thead th {\n",
       "        text-align: right;\n",
       "    }\n",
       "</style>\n",
       "<table border=\"1\" class=\"dataframe\">\n",
       "  <thead>\n",
       "    <tr style=\"text-align: right;\">\n",
       "      <th></th>\n",
       "      <th>Yr</th>\n",
       "      <th>Mo</th>\n",
       "      <th>DecDate</th>\n",
       "      <th>Avg</th>\n",
       "      <th>Int</th>\n",
       "      <th>Trend</th>\n",
       "      <th>Days</th>\n",
       "    </tr>\n",
       "  </thead>\n",
       "  <tbody>\n",
       "    <tr>\n",
       "      <th>733</th>\n",
       "      <td>2019</td>\n",
       "      <td>4</td>\n",
       "      <td>2019.29</td>\n",
       "      <td>413.32</td>\n",
       "      <td>413.32</td>\n",
       "      <td>410.49</td>\n",
       "      <td>26</td>\n",
       "    </tr>\n",
       "    <tr>\n",
       "      <th>734</th>\n",
       "      <td>2019</td>\n",
       "      <td>5</td>\n",
       "      <td>2019.38</td>\n",
       "      <td>414.66</td>\n",
       "      <td>414.66</td>\n",
       "      <td>411.20</td>\n",
       "      <td>28</td>\n",
       "    </tr>\n",
       "    <tr>\n",
       "      <th>735</th>\n",
       "      <td>2019</td>\n",
       "      <td>6</td>\n",
       "      <td>2019.46</td>\n",
       "      <td>413.92</td>\n",
       "      <td>413.92</td>\n",
       "      <td>411.58</td>\n",
       "      <td>27</td>\n",
       "    </tr>\n",
       "    <tr>\n",
       "      <th>736</th>\n",
       "      <td>2019</td>\n",
       "      <td>7</td>\n",
       "      <td>2019.54</td>\n",
       "      <td>411.77</td>\n",
       "      <td>411.77</td>\n",
       "      <td>411.43</td>\n",
       "      <td>23</td>\n",
       "    </tr>\n",
       "    <tr>\n",
       "      <th>737</th>\n",
       "      <td>2019</td>\n",
       "      <td>8</td>\n",
       "      <td>2019.62</td>\n",
       "      <td>409.95</td>\n",
       "      <td>409.95</td>\n",
       "      <td>411.84</td>\n",
       "      <td>29</td>\n",
       "    </tr>\n",
       "  </tbody>\n",
       "</table>\n",
       "</div>"
      ],
      "text/plain": [
       "       Yr  Mo  DecDate    Avg    Int  Trend  Days\n",
       "733  2019   4  2019.29 413.32 413.32 410.49    26\n",
       "734  2019   5  2019.38 414.66 414.66 411.20    28\n",
       "735  2019   6  2019.46 413.92 413.92 411.58    27\n",
       "736  2019   7  2019.54 411.77 411.77 411.43    23\n",
       "737  2019   8  2019.62 409.95 409.95 411.84    29"
      ]
     },
     "execution_count": 33,
     "metadata": {},
     "output_type": "execute_result"
    }
   ],
   "source": [
    "co2.tail()"
   ]
  },
  {
   "cell_type": "markdown",
   "metadata": {},
   "source": [
    "Some data have unusual values like -1 and -99.99.\n",
    "\n",
    "Let's check the description at the top of the file again.\n",
    "1. -1 signifies a missing value for the number of days `Days` the equipment was in operation that month.\n",
    "1. -99.99 denotes a missing monthly average `Avg`\n",
    "\n",
    "How can we fix this? First, let's explore other aspects of our data. Understanding our data will help us decide what to do with the missing values.\n",
    "\n",
    "<br/>\n",
    "\n",
    "---\n",
    "\n",
    "## Quality Checks: Reasoning about the data\n",
    "First, we consider the shape of the data. How many rows should we have?\n",
    "* If chronological order, we should have one record per month.\n",
    "* Data from March 1958 to August 2019.\n",
    "* We should have $ 12 \\times (2019-1957) - 2 - 4 = 738 $ records."
   ]
  },
  {
   "cell_type": "code",
   "execution_count": 33,
   "metadata": {},
   "outputs": [
    {
     "data": {
      "text/plain": [
       "(738, 7)"
      ]
     },
     "execution_count": 33,
     "metadata": {},
     "output_type": "execute_result"
    }
   ],
   "source": [
    "co2.shape"
   ]
  },
  {
   "cell_type": "markdown",
   "metadata": {
    "tags": []
   },
   "source": [
    "Nice!! The number of rows (i.e. records) match our expectations.\n",
    "\n",
    "<br/><br/>\n",
    "\n",
    "---\n",
    "\n",
    "Let's now check the quality of each feature.\n",
    "\n",
    "## Understanding Missing Value 1: `Days`\n",
    "`Days` is a time field, so let's analyze other time fields to see if there is an explanation for missing values of days of operation.\n",
    "\n",
    "Let's start with **months** `Mo`.\n",
    "\n",
    "Are we missing any records? The number of months should have 62 or 61 instances (March 1957-August 2019)."
   ]
  },
  {
   "cell_type": "code",
   "execution_count": 35,
   "metadata": {},
   "outputs": [
    {
     "data": {
      "text/plain": [
       "1     61\n",
       "2     61\n",
       "3     62\n",
       "      ..\n",
       "10    61\n",
       "11    61\n",
       "12    61\n",
       "Name: Mo, Length: 12, dtype: int64"
      ]
     },
     "execution_count": 35,
     "metadata": {},
     "output_type": "execute_result"
    }
   ],
   "source": [
    "co2[\"Mo\"].value_counts().sort_index()"
   ]
  },
  {
   "cell_type": "markdown",
   "metadata": {},
   "source": [
    "As expected Jan, Feb, Sep, Oct, Nov, and Dec have 61 occurrences and the rest 62.\n",
    "\n",
    "<br/><br/>\n",
    "\n",
    "Next let's explore **days** `Days` itself, which is the number of days that the measurement equipment worked."
   ]
  },
  {
   "cell_type": "code",
   "execution_count": 36,
   "metadata": {},
   "outputs": [
    {
     "data": {
      "image/png": "[encoded data removed]",
      "text/plain": [
       "<Figure size 360x360 with 1 Axes>"
      ]
     },
     "metadata": {},
     "output_type": "display_data"
    }
   ],
   "source": [
    "sns.displot(co2['Days']);\n",
    "plt.title(\"Distribution of days feature\")\n",
    "plt.show() # suppresses unneeded plotting output"
   ]
  },
  {
   "cell_type": "markdown",
   "metadata": {},
   "source": [
    "In terms of data quality, a handful of months have averages based on measurements taken on fewer than half the days. In addition, there are nearly 200 missing values--**that's about 27% of the data**!\n",
    "\n",
    "<br/><br/>\n",
    "\n",
    "Finally, let's check the last time feature, **year** `Yr`.\n",
    "\n",
    "Let's check to see if there is any connection between missingness and the year of the recording."
   ]
  },
  {
   "cell_type": "code",
   "execution_count": 37,
   "metadata": {},
   "outputs": [
    {
     "data": {
      "image/png": "[encoded data removed]",
      "text/plain": [
       "<Figure size 864x648 with 1 Axes>"
      ]
     },
     "metadata": {},
     "output_type": "display_data"
    }
   ],
   "source": [
    "sns.scatterplot(x=\"Yr\", y=\"Days\", data=co2);\n",
    "plt.title(\"Day field by Year\"); # the ; suppresses output"
   ]
  },
  {
   "cell_type": "markdown",
   "metadata": {},
   "source": [
    "**Observations**:\n",
    "\n",
    "* All of the missing data are in the early years of operation.\n",
    "* It appears there may have been problems with equipment in the mid to late 80s.\n",
    "\n",
    "**Potential Next Steps**:\n",
    "* Confirm these explanations through documentation about the historical readings.\n",
    "* Maybe drop earliest recordings? However, we would want to delay such action until after we have examined the time trends and assess whether there are any potential problems.\n",
    "\n",
    "---\n",
    "<br/><br/>\n",
    "\n",
    "## Understanding Missing Value 2: `Avg`\n",
    "Next, let's return to the -99.99 values in `Avg` to analyze the overall quality of the CO2 measurements."
   ]
  },
  {
   "cell_type": "code",
   "execution_count": 35,
   "metadata": {},
   "outputs": [
    {
     "data": {
      "image/png": "[encoded data removed]",
      "text/plain": [
       "<Figure size 500x500 with 1 Axes>"
      ]
     },
     "metadata": {},
     "output_type": "display_data"
    }
   ],
   "source": [
    "# Histograms of average CO2 measurements\n",
    "sns.displot(co2['Avg']);"
   ]
  },
  {
   "cell_type": "markdown",
   "metadata": {},
   "source": [
    "The non-missing values are in the 300-400 range (a regular range of CO2 levels).\n",
    "\n",
    "We also see that there are only a few missing `Avg` values (**<1% of values**). Let's examine all of them:"
   ]
  },
  {
   "cell_type": "code",
   "execution_count": 34,
   "metadata": {},
   "outputs": [
    {
     "data": {
      "text/html": [
       "<div>\n",
       "<style scoped>\n",
       "    .dataframe tbody tr th:only-of-type {\n",
       "        vertical-align: middle;\n",
       "    }\n",
       "\n",
       "    .dataframe tbody tr th {\n",
       "        vertical-align: top;\n",
       "    }\n",
       "\n",
       "    .dataframe thead th {\n",
       "        text-align: right;\n",
       "    }\n",
       "</style>\n",
       "<table border=\"1\" class=\"dataframe\">\n",
       "  <thead>\n",
       "    <tr style=\"text-align: right;\">\n",
       "      <th></th>\n",
       "      <th>Yr</th>\n",
       "      <th>Mo</th>\n",
       "      <th>DecDate</th>\n",
       "      <th>Avg</th>\n",
       "      <th>Int</th>\n",
       "      <th>Trend</th>\n",
       "      <th>Days</th>\n",
       "    </tr>\n",
       "  </thead>\n",
       "  <tbody>\n",
       "    <tr>\n",
       "      <th>3</th>\n",
       "      <td>1958</td>\n",
       "      <td>6</td>\n",
       "      <td>1958.46</td>\n",
       "      <td>-99.99</td>\n",
       "      <td>317.10</td>\n",
       "      <td>314.85</td>\n",
       "      <td>-1</td>\n",
       "    </tr>\n",
       "    <tr>\n",
       "      <th>7</th>\n",
       "      <td>1958</td>\n",
       "      <td>10</td>\n",
       "      <td>1958.79</td>\n",
       "      <td>-99.99</td>\n",
       "      <td>312.66</td>\n",
       "      <td>315.61</td>\n",
       "      <td>-1</td>\n",
       "    </tr>\n",
       "    <tr>\n",
       "      <th>71</th>\n",
       "      <td>1964</td>\n",
       "      <td>2</td>\n",
       "      <td>1964.12</td>\n",
       "      <td>-99.99</td>\n",
       "      <td>320.07</td>\n",
       "      <td>319.61</td>\n",
       "      <td>-1</td>\n",
       "    </tr>\n",
       "    <tr>\n",
       "      <th>72</th>\n",
       "      <td>1964</td>\n",
       "      <td>3</td>\n",
       "      <td>1964.21</td>\n",
       "      <td>-99.99</td>\n",
       "      <td>320.73</td>\n",
       "      <td>319.55</td>\n",
       "      <td>-1</td>\n",
       "    </tr>\n",
       "    <tr>\n",
       "      <th>73</th>\n",
       "      <td>1964</td>\n",
       "      <td>4</td>\n",
       "      <td>1964.29</td>\n",
       "      <td>-99.99</td>\n",
       "      <td>321.77</td>\n",
       "      <td>319.48</td>\n",
       "      <td>-1</td>\n",
       "    </tr>\n",
       "    <tr>\n",
       "      <th>213</th>\n",
       "      <td>1975</td>\n",
       "      <td>12</td>\n",
       "      <td>1975.96</td>\n",
       "      <td>-99.99</td>\n",
       "      <td>330.59</td>\n",
       "      <td>331.60</td>\n",
       "      <td>0</td>\n",
       "    </tr>\n",
       "    <tr>\n",
       "      <th>313</th>\n",
       "      <td>1984</td>\n",
       "      <td>4</td>\n",
       "      <td>1984.29</td>\n",
       "      <td>-99.99</td>\n",
       "      <td>346.84</td>\n",
       "      <td>344.27</td>\n",
       "      <td>2</td>\n",
       "    </tr>\n",
       "  </tbody>\n",
       "</table>\n",
       "</div>"
      ],
      "text/plain": [
       "       Yr  Mo  DecDate    Avg    Int  Trend  Days\n",
       "3    1958   6  1958.46 -99.99 317.10 314.85    -1\n",
       "7    1958  10  1958.79 -99.99 312.66 315.61    -1\n",
       "71   1964   2  1964.12 -99.99 320.07 319.61    -1\n",
       "72   1964   3  1964.21 -99.99 320.73 319.55    -1\n",
       "73   1964   4  1964.29 -99.99 321.77 319.48    -1\n",
       "213  1975  12  1975.96 -99.99 330.59 331.60     0\n",
       "313  1984   4  1984.29 -99.99 346.84 344.27     2"
      ]
     },
     "execution_count": 34,
     "metadata": {},
     "output_type": "execute_result"
    }
   ],
   "source": [
    "co2[co2[\"Avg\"] < 0]"
   ]
  },
  {
   "cell_type": "markdown",
   "metadata": {},
   "source": [
    "There doesn't seem to be a pattern to these values, other than that most records also were missing `Days` data."
   ]
  },
  {
   "cell_type": "markdown",
   "metadata": {},
   "source": [
    "## Drop or Impute Missing `Avg` Data?"
   ]
  },
  {
   "cell_type": "markdown",
   "metadata": {},
   "source": [
    "Remember we want to fix the following plot:"
   ]
  },
  {
   "cell_type": "code",
   "execution_count": 36,
   "metadata": {},
   "outputs": [
    {
     "data": {
      "image/png": "[encoded data removed]",
      "text/plain": [
       "<Figure size 1200x900 with 1 Axes>"
      ]
     },
     "metadata": {},
     "output_type": "display_data"
    }
   ],
   "source": [
    "sns.lineplot(x='DecDate', y='Avg', data=co2)\n",
    "plt.title(\"CO2 Average By Month\");"
   ]
  },
  {
   "cell_type": "markdown",
   "metadata": {},
   "source": [
    "Since we are plotting `Avg` vs `DecDate`, we should just focus on dealing with missing values for `Avg`."
   ]
  },
  {
   "cell_type": "markdown",
   "metadata": {},
   "source": [
    "Let's consider a few options:\n",
    "1. Drop those records\n",
    "1. Replace -99.99 with NaN\n",
    "1. Substitute it with a likely value for the average CO2?\n",
    "\n",
    "What do you think are the pros and cons of each possible action?\n",
    "\n",
    "---\n",
    "<br/><br/>\n",
    "Let's examine each of these three options."
   ]
  },
  {
   "cell_type": "code",
   "execution_count": 37,
   "metadata": {},
   "outputs": [],
   "source": [
    "# 1. Drop missing values\n",
    "co2_drop = co2[co2['Avg'] > 0]\n",
    "\n",
    "# 2. Replace NaN with -99.99\n",
    "co2_NA = co2.replace(-99.99, np.NaN)"
   ]
  },
  {
   "cell_type": "markdown",
   "metadata": {},
   "source": [
    "We'll also use a third version of the data.\n",
    "First, we note that the dataset already comes with a **substitute value** for the -99.99.\n",
    "\n",
    "From the file description:\n",
    "\n",
    ">  The `interpolated` column includes average values from the preceding column (`average`)\n",
    "and **interpolated values** where data are missing.  Interpolated values are\n",
    "computed in two steps...\n",
    "\n",
    "The `Int` feature has values that exactly match those in `Avg`, except when `Avg` is -99.99, and then a **reasonable** estimate is used instead.\n",
    "So, the third version of our data will use the `Int` feature instead of `Avg`."
   ]
  },
  {
   "cell_type": "code",
   "execution_count": 38,
   "metadata": {},
   "outputs": [],
   "source": [
    "# 3. Use interpolated column which estimates missing Avg values\n",
    "co2_impute = co2.copy()\n",
    "co2_impute['Avg'] = co2['Int']"
   ]
  },
  {
   "cell_type": "markdown",
   "metadata": {},
   "source": [
    "<br/>\n",
    "\n",
    "---\n",
    "\n",
    "What's a **reasonable** estimate?\n",
    "\n",
    "To answer this question, let's zoom in on a short time period, say the measurements in 1958 (where we know we have two missing values).\n"
   ]
  },
  {
   "cell_type": "code",
   "execution_count": 39,
   "metadata": {},
   "outputs": [
    {
     "data": {
      "image/png": "[encoded data removed]",
      "text/plain": [
       "<Figure size 1200x400 with 3 Axes>"
      ]
     },
     "metadata": {},
     "output_type": "display_data"
    }
   ],
   "source": [
    "# results of plotting data in 1958\n",
    "\n",
    "def line_and_points(data, ax, title):\n",
    "    # assumes single year, hence Mo\n",
    "    ax.plot('Mo', 'Avg', data=data)\n",
    "    ax.scatter('Mo', 'Avg', data=data)\n",
    "    ax.set_xlim(2, 13)\n",
    "    ax.set_title(title)\n",
    "    ax.set_xticks(np.arange(3, 13))\n",
    "\n",
    "def data_year(data, year):\n",
    "    return data[data[\"Yr\"] == 1958]\n",
    "    \n",
    "# uses matplotlib subplots\n",
    "# you may see more next week; focus on output for now\n",
    "fig, axes = plt.subplots(ncols = 3, figsize=(12, 4), sharey=True)\n",
    "\n",
    "year = 1958\n",
    "line_and_points(data_year(co2_drop, year), axes[0], title=\"1. Drop Missing\")\n",
    "line_and_points(data_year(co2_NA, year), axes[1], title=\"2. Missing Set to NaN\")\n",
    "line_and_points(data_year(co2_impute, year), axes[2], title=\"3. Missing Interpolated\")\n",
    "\n",
    "fig.suptitle(f\"Monthly Averages for {year}\")\n",
    "plt.tight_layout()"
   ]
  },
  {
   "cell_type": "markdown",
   "metadata": {},
   "source": [
    "In the big picture since there are only 7 `Avg` values missing (**<1%** of 738 months), any of these approaches would work.\n",
    "\n",
    "However there is some appeal to **option 3: Imputing**:\n",
    "* Shows seasonal trends for CO2\n",
    "* We are plotting all months in our data as a line plot\n",
    "\n",
    "<br/>\n",
    "\n",
    "---\n",
    "Let's replot our original figure with option 3:"
   ]
  },
  {
   "cell_type": "code",
   "execution_count": 43,
   "metadata": {},
   "outputs": [
    {
     "data": {
      "image/png": "[encoded data removed]",
      "text/plain": [
       "<Figure size 864x648 with 1 Axes>"
      ]
     },
     "metadata": {},
     "output_type": "display_data"
    }
   ],
   "source": [
    "sns.lineplot(x='DecDate', y='Avg', data=co2_impute)\n",
    "plt.title(\"CO2 Average By Month, Imputed\");"
   ]
  },
  {
   "cell_type": "markdown",
   "metadata": {},
   "source": [
    "Looks pretty close to what we see on the NOAA [website](https://gml.noaa.gov/ccgg/trends/)!"
   ]
  },
  {
   "cell_type": "markdown",
   "metadata": {},
   "source": [
    "## Presenting the data: A Discussion on Data Granularity"
   ]
  },
  {
   "cell_type": "markdown",
   "metadata": {},
   "source": [
    "From the description:\n",
    "* monthly measurements are averages of average day measurements.\n",
    "* The NOAA GML website has datasets for daily/hourly measurements too.\n",
    "\n",
    "The data you present depends on your research question.\n",
    "\n",
    "**How do CO2 levels vary by season?**\n",
    "* You might want to keep average monthly data.\n",
    "\n",
    "**Are CO2 levels rising over the past 50+ years, consistent with global warming predictions?**\n",
    "* You might be happier with a **coarser granularity** of average year data!"
   ]
  },
  {
   "cell_type": "code",
   "execution_count": 40,
   "metadata": {},
   "outputs": [
    {
     "data": {
      "image/png": "[encoded data removed]",
      "text/plain": [
       "<Figure size 1200x900 with 1 Axes>"
      ]
     },
     "metadata": {},
     "output_type": "display_data"
    }
   ],
   "source": [
    "co2_year = co2_impute.groupby('Yr').mean()\n",
    "sns.lineplot(x='Yr', y='Avg', data=co2_year)\n",
    "plt.title(\"CO2 Average By Year\");"
   ]
  },
  {
   "cell_type": "markdown",
   "metadata": {},
   "source": [
    "Indeed, we see a rise by nearly 100 ppm of CO2 since Mauna Loa began recording in 1958."
   ]
  }
 ],
 "metadata": {
  "celltoolbar": "Tags",
  "kernelspec": {
   "display_name": "Python 3 (ipykernel)",
   "language": "python",
   "name": "python3"
  },
  "language_info": {
   "codemirror_mode": {
    "name": "ipython",
    "version": 3
   },
   "file_extension": ".py",
   "mimetype": "text/x-python",
   "name": "python",
   "nbconvert_exporter": "python",
   "pygments_lexer": "ipython3",
   "version": "3.10.9"
  }
 },
 "nbformat": 4,
 "nbformat_minor": 4
}
