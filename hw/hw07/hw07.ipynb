{
 "cells": [
  {
   "cell_type": "code",
   "execution_count": 2,
   "id": "5e5dbb65",
   "metadata": {
    "deletable": false,
    "editable": false
   },
   "outputs": [],
   "source": [
    "# Initialize Otter\n",
    "import otter\n",
    "grader = otter.Notebook(\"hw07.ipynb\")"
   ]
  },
  {
   "cell_type": "markdown",
   "id": "642956e0",
   "metadata": {
    "tags": []
   },
   "source": [
    "<a id=\"top\"></a>\n",
    "\n",
    "# Homework 7: IMDb and U.S. Presidential Elections\n",
    "## SQL + PCA\n",
    "## Due Date: Thursday, April 14, 11:59 PM PDT\n",
    "\n",
    "**Collaboration Policy**\n",
    "\n",
    "Data science is a collaborative activity. While you may talk with others about\n",
    "the homework, we ask that you **write your solutions individually**. If you do\n",
    "discuss the assignments with others please **include their names** below."
   ]
  },
  {
   "cell_type": "markdown",
   "id": "2af6a556",
   "metadata": {},
   "source": [
    "**Collaborators**: *list collaborators here*"
   ]
  },
  {
   "cell_type": "markdown",
   "id": "2d1c829b",
   "metadata": {},
   "source": [
    "\n",
    "\n",
    "## Introduction\n",
    "\n",
    "This homework has two disjoint parts:\n",
    "\n",
    "**Part 1:** We will use SQL to dive deep into the Internet Movie Database (IMDb) and answer different questions involving movies, actors, and movie ratings. [Click here to jump to Part 1](#part-1).\n",
    "\n",
    "**Part 2:** We will use Principal Component Analysis to understand a high-dimensional dataset: U.S. Presidential Elections by State. [Click here to jump to Part 2](#part-2).\n",
    "\n",
    "## Grading\n",
    "Grading is broken down into autograded answers and free response. For autograded answers, the results of your code are compared to provided and/or hidden tests. For free response, readers will evaluate how well you answered the question and/or fulfilled the requirements of the question.\n",
    "\n",
    "<!--\n",
    "<details>\n",
    "    <summary>[Click to Expand] <b>Scoring Breakdown</b></summary>-->\n",
    "|Question|Points|\n",
    "|---|---|\n",
    "|Q1a | 2 |\n",
    "|Q1b | 2 |\n",
    "|Q2 | 3 |\n",
    "|Q3 | 3 |\n",
    "|Q4 | 4 |\n",
    "|Q5 | 4 |\n",
    "|Q6a | 1 |\n",
    "|Q6b | 1 |\n",
    "|Q6c | 1 |\n",
    "|Q6d | 1 |\n",
    "|Q6e | 2 |\n",
    "|Q7a | 2 |\n",
    "|Q7b | 2 |\n",
    "|Q8a | 1 |\n",
    "|Q8b | 2 |\n",
    "|Q8c | 2 |\n",
    "|Total | 33 |\n",
    "</details>"
   ]
  },
  {
   "cell_type": "code",
   "execution_count": 1,
   "id": "8af5abd1",
   "metadata": {},
   "outputs": [],
   "source": [
    "# Run this cell to set up your notebook\n",
    "\n",
    "import pandas as pd\n",
    "import numpy as np\n",
    "import matplotlib.pyplot as plt\n",
    "import plotly.express as px\n",
    "import seaborn as sns\n",
    "import sqlalchemy\n",
    "from pathlib import Path\n",
    "from sqlalchemy import text # personally added\n",
    "\n",
    "plt.style.use('fivethirtyeight') # Use plt.style.available to see more styles\n",
    "sns.set()\n",
    "sns.set_context(\"talk\")\n",
    "np.set_printoptions(threshold=5) # avoid printing out big matrices\n",
    "%matplotlib inline\n",
    "%load_ext sql"
   ]
  },
  {
   "cell_type": "markdown",
   "id": "3ec18b9e",
   "metadata": {
    "tags": []
   },
   "source": [
    "<br/><br/>\n",
    "\n",
    "---\n",
    "<hr style=\"border: 5px solid #003262;\" />\n",
    "<hr style=\"border: 1px solid #fdb515;\" />\n",
    "\n",
    "---\n",
    "\n",
    "<a id='part-1'></a>\n",
    "# Part 1: The IMDB (mini) Dataset\n",
    "\n",
    "\n",
    "(Click [here](#top) to jump back to the top of this notebook.)\n",
    "\n",
    "We will explore a miniature version of the [IMDb Dataset](https://www.imdb.com/interfaces/). This is the same dataset that we used for this week's lab. The remainder of this overview section is copied from this week's lab.\n",
    "\n",
    "Let's load in the database in two ways (using both Python and cell magic) so that we can flexibly explore the SQL database.\n",
    "\n",
    "A few reminders: \n",
    "* **Only SQL code written with `pd.read_sql` will be graded.**  You should feel free to create `%%sql` cells **after** your Python answer + autograder cells to reduce debugging headaches, but you will still need to copy over any SQL to the Python answer cells. **Do not** add new cells betwen the question and the grading cells; it will cause errors when we run the autograder, and it will sometimes cause an error in generating the PDF file.\n",
    "\n",
    "* **Caution: Be careful with large SQL queries!!** You may need to reboot your Jupyter Hub instance if it stops responding. **Use the LIMIT keyword** to avoid printing out 100k-sized tables (but remember to remove it)."
   ]
  },
  {
   "cell_type": "code",
   "execution_count": 4,
   "id": "c0c2c8a9",
   "metadata": {},
   "outputs": [],
   "source": [
    "# run this cell and the next one\n",
    "engine = sqlalchemy.create_engine(\"sqlite:///data/imdbmini.db\")\n",
    "connection = engine.connect()"
   ]
  },
  {
   "cell_type": "code",
   "execution_count": 5,
   "id": "b93e413f",
   "metadata": {},
   "outputs": [],
   "source": [
    "%sql sqlite:///data/imdbmini.db"
   ]
  },
  {
   "cell_type": "markdown",
   "id": "0e89a3be",
   "metadata": {},
   "source": [
    "<br/>"
   ]
  },
  {
   "cell_type": "markdown",
   "id": "7322131e",
   "metadata": {},
   "source": [
    "Let's take a look at the table schemas:"
   ]
  },
  {
   "cell_type": "code",
   "execution_count": 6,
   "id": "7e431539",
   "metadata": {},
   "outputs": [
    {
     "name": "stdout",
     "output_type": "stream",
     "text": [
      " * sqlite:///data/imdbmini.db\n",
      "Done.\n"
     ]
    },
    {
     "data": {
      "text/html": [
       "<table>\n",
       "    <thead>\n",
       "        <tr>\n",
       "            <th>type</th>\n",
       "            <th>name</th>\n",
       "            <th>tbl_name</th>\n",
       "            <th>rootpage</th>\n",
       "            <th>sql</th>\n",
       "        </tr>\n",
       "    </thead>\n",
       "    <tbody>\n",
       "        <tr>\n",
       "            <td>table</td>\n",
       "            <td>Title</td>\n",
       "            <td>Title</td>\n",
       "            <td>2</td>\n",
       "            <td>CREATE TABLE &quot;Title&quot; (<br>&quot;tconst&quot; INTEGER,<br>  &quot;titleType&quot; TEXT,<br>  &quot;primaryTitle&quot; TEXT,<br>  &quot;originalTitle&quot; TEXT,<br>  &quot;isAdult&quot; TEXT,<br>  &quot;startYear&quot; TEXT,<br>  &quot;endYear&quot; TEXT,<br>  &quot;runtimeMinutes&quot; TEXT,<br>  &quot;genres&quot; TEXT<br>)</td>\n",
       "        </tr>\n",
       "        <tr>\n",
       "            <td>table</td>\n",
       "            <td>Name</td>\n",
       "            <td>Name</td>\n",
       "            <td>12</td>\n",
       "            <td>CREATE TABLE &quot;Name&quot; (<br>&quot;nconst&quot; INTEGER,<br>  &quot;primaryName&quot; TEXT,<br>  &quot;birthYear&quot; TEXT,<br>  &quot;deathYear&quot; TEXT,<br>  &quot;primaryProfession&quot; TEXT<br>)</td>\n",
       "        </tr>\n",
       "        <tr>\n",
       "            <td>table</td>\n",
       "            <td>Role</td>\n",
       "            <td>Role</td>\n",
       "            <td>70</td>\n",
       "            <td>CREATE TABLE &quot;Role&quot; (<br>tconst INTEGER,<br>ordering TEXT,<br>nconst INTEGER,<br>category TEXT,<br>job TEXT,<br>characters TEXT<br>)</td>\n",
       "        </tr>\n",
       "        <tr>\n",
       "            <td>table</td>\n",
       "            <td>Rating</td>\n",
       "            <td>Rating</td>\n",
       "            <td>41</td>\n",
       "            <td>CREATE TABLE &quot;Rating&quot; (<br>tconst INTEGER,<br>averageRating TEXT,<br>numVotes TEXT<br>)</td>\n",
       "        </tr>\n",
       "    </tbody>\n",
       "</table>"
      ],
      "text/plain": [
       "[('table', 'Title', 'Title', 2, 'CREATE TABLE \"Title\" (\\n\"tconst\" INTEGER,\\n  \"titleType\" TEXT,\\n  \"primaryTitle\" TEXT,\\n  \"originalTitle\" TEXT,\\n  \"isAdult\" TEXT,\\n  \"startYear\" TEXT,\\n  \"endYear\" TEXT,\\n  \"runtimeMinutes\" TEXT,\\n  \"genres\" TEXT\\n)'),\n",
       " ('table', 'Name', 'Name', 12, 'CREATE TABLE \"Name\" (\\n\"nconst\" INTEGER,\\n  \"primaryName\" TEXT,\\n  \"birthYear\" TEXT,\\n  \"deathYear\" TEXT,\\n  \"primaryProfession\" TEXT\\n)'),\n",
       " ('table', 'Role', 'Role', 70, 'CREATE TABLE \"Role\" (\\ntconst INTEGER,\\nordering TEXT,\\nnconst INTEGER,\\ncategory TEXT,\\njob TEXT,\\ncharacters TEXT\\n)'),\n",
       " ('table', 'Rating', 'Rating', 41, 'CREATE TABLE \"Rating\" (\\ntconst INTEGER,\\naverageRating TEXT,\\nnumVotes TEXT\\n)')]"
      ]
     },
     "execution_count": 6,
     "metadata": {},
     "output_type": "execute_result"
    }
   ],
   "source": [
    "%%sql\n",
    "-- just run this cell --\n",
    "SELECT * FROM sqlite_master WHERE type='table';"
   ]
  },
  {
   "cell_type": "markdown",
   "id": "74eff495",
   "metadata": {},
   "source": [
    "From running the above cell, we see the database has 4 tables: `Name`, `Role`, `Rating`, and `Title`.\n",
    "\n",
    "<details>\n",
    "    <summary>[<b>Click to Expand</b>] See descriptions of each table's schema.</summary>\n",
    "    \n",
    "**`Name`** – Contains the following information for names of people.\n",
    "    \n",
    "- nconst (text) - alphanumeric unique identifier of the name/person\n",
    "- primaryName (text)– name by which the person is most often credited\n",
    "- birthYear (integer) – in YYYY format\n",
    "- deathYear (integer) – in YYYY format\n",
    "    \n",
    "    \n",
    "**`Role`** – Contains the principal cast/crew for titles.\n",
    "    \n",
    "- tconst (text) - alphanumeric unique identifier of the title\n",
    "- ordering (integer) – a number to uniquely identify rows for a given tconst\n",
    "- nconst (text) - alphanumeric unique identifier of the name/person\n",
    "- category (text) - the category of job that person was in\n",
    "- characters (text) - the name of the character played if applicable, else '\\\\N'\n",
    "    \n",
    "**`Rating`** – Contains the IMDb rating and votes information for titles.\n",
    "    \n",
    "- tconst (integer) - alphanumeric unique identifier of the title\n",
    "- averageRating (text) – weighted average of all the individual user ratings\n",
    "- numVotes (text) - number of votes (i.e., ratings) the title has received\n",
    "    \n",
    "**`Title`** - Contains the following information for titles.\n",
    "    \n",
    "- tconst (text) - alphanumeric unique identifier of the title\n",
    "- titleType (text) -  the type/format of the title\n",
    "- primaryTitle (text) -  the more popular title / the title used by the filmmakers on promotional materials at the point of release\n",
    "- isAdult (text) - 0: non-adult title; 1: adult title\n",
    "- startYear (text) – represents the release year of a title.\n",
    "- runtimeMinutes (integer)  – primary runtime of the title, in minutes\n",
    "    \n",
    "</details>\n",
    "\n",
    "<br/><br/>\n",
    "From the above descriptions, we can conclude the following:\n",
    "* `Name.nconst` and `Title.tconst` are primary keys of the `Name` and `Title` tables, respectively.\n",
    "* `Role.nconst` and `Role.tconst` are **foreign keys** that point to `Name.nconst` and `Title.tconst`, respectively."
   ]
  },
  {
   "cell_type": "markdown",
   "id": "88e32c28",
   "metadata": {
    "deletable": false,
    "editable": false,
    "jp-MarkdownHeadingCollapsed": true,
    "tags": []
   },
   "source": [
    "<br/><br/>\n",
    "\n",
    "<hr style=\"border: 5px solid #003262;\" />\n",
    "<hr style=\"border: 1px solid #fdb515;\" />\n",
    "\n",
    "## Question 1\n",
    "\n",
    "### Question 1a\n",
    "How far back does our data go? Does it only include recent data, or do we have information about older movies and movie stars as well? \n",
    "\n",
    "List the **10 oldest films** by `startYear` and then `primaryTitle` both in **ascending** order.  Do not include films where the `startYear` is `NULL`.  The output should contain the `startYear`, `primaryTitle`, and `titleType`.\n",
    "\n",
    "Remember, you can create a `%%sql` cell **after** the grader cell as scratch work. Just be sure to copy the query back into the Python cell to run the autograder.\n",
    "\n",
    "<!--\n",
    "BEGIN QUESTION\n",
    "name: q1a\n",
    "points: 2\n",
    "-->"
   ]
  },
  {
   "cell_type": "code",
   "execution_count": 7,
   "id": "99bcec13",
   "metadata": {},
   "outputs": [
    {
     "data": {
      "text/html": [
       "<div>\n",
       "<style scoped>\n",
       "    .dataframe tbody tr th:only-of-type {\n",
       "        vertical-align: middle;\n",
       "    }\n",
       "\n",
       "    .dataframe tbody tr th {\n",
       "        vertical-align: top;\n",
       "    }\n",
       "\n",
       "    .dataframe thead th {\n",
       "        text-align: right;\n",
       "    }\n",
       "</style>\n",
       "<table border=\"1\" class=\"dataframe\">\n",
       "  <thead>\n",
       "    <tr style=\"text-align: right;\">\n",
       "      <th></th>\n",
       "      <th>startYear</th>\n",
       "      <th>primaryTitle</th>\n",
       "      <th>titleType</th>\n",
       "    </tr>\n",
       "  </thead>\n",
       "  <tbody>\n",
       "    <tr>\n",
       "      <th>0</th>\n",
       "      <td>1902</td>\n",
       "      <td>A Trip to the Moon</td>\n",
       "      <td>short</td>\n",
       "    </tr>\n",
       "    <tr>\n",
       "      <th>1</th>\n",
       "      <td>1915</td>\n",
       "      <td>The Birth of a Nation</td>\n",
       "      <td>movie</td>\n",
       "    </tr>\n",
       "    <tr>\n",
       "      <th>2</th>\n",
       "      <td>1920</td>\n",
       "      <td>The Cabinet of Dr. Caligari</td>\n",
       "      <td>movie</td>\n",
       "    </tr>\n",
       "    <tr>\n",
       "      <th>3</th>\n",
       "      <td>1921</td>\n",
       "      <td>The Kid</td>\n",
       "      <td>movie</td>\n",
       "    </tr>\n",
       "    <tr>\n",
       "      <th>4</th>\n",
       "      <td>1922</td>\n",
       "      <td>Nosferatu</td>\n",
       "      <td>movie</td>\n",
       "    </tr>\n",
       "    <tr>\n",
       "      <th>5</th>\n",
       "      <td>1924</td>\n",
       "      <td>Sherlock Jr.</td>\n",
       "      <td>movie</td>\n",
       "    </tr>\n",
       "    <tr>\n",
       "      <th>6</th>\n",
       "      <td>1925</td>\n",
       "      <td>Battleship Potemkin</td>\n",
       "      <td>movie</td>\n",
       "    </tr>\n",
       "    <tr>\n",
       "      <th>7</th>\n",
       "      <td>1925</td>\n",
       "      <td>The Gold Rush</td>\n",
       "      <td>movie</td>\n",
       "    </tr>\n",
       "    <tr>\n",
       "      <th>8</th>\n",
       "      <td>1926</td>\n",
       "      <td>The General</td>\n",
       "      <td>movie</td>\n",
       "    </tr>\n",
       "    <tr>\n",
       "      <th>9</th>\n",
       "      <td>1927</td>\n",
       "      <td>Metropolis</td>\n",
       "      <td>movie</td>\n",
       "    </tr>\n",
       "  </tbody>\n",
       "</table>\n",
       "</div>"
      ],
      "text/plain": [
       "  startYear                 primaryTitle titleType\n",
       "0      1902           A Trip to the Moon     short\n",
       "1      1915        The Birth of a Nation     movie\n",
       "2      1920  The Cabinet of Dr. Caligari     movie\n",
       "3      1921                      The Kid     movie\n",
       "4      1922                    Nosferatu     movie\n",
       "5      1924                 Sherlock Jr.     movie\n",
       "6      1925          Battleship Potemkin     movie\n",
       "7      1925                The Gold Rush     movie\n",
       "8      1926                  The General     movie\n",
       "9      1927                   Metropolis     movie"
      ]
     },
     "execution_count": 7,
     "metadata": {},
     "output_type": "execute_result"
    }
   ],
   "source": [
    "query_q1a = \"\"\"\n",
    "SELECT startYear, primaryTitle, titleType\n",
    "FROM Title\n",
    "ORDER BY startYear, primaryTitle ASC\n",
    "LIMIT 10;\n",
    "\"\"\"\n",
    "\n",
    "\n",
    "res_q1a = pd.read_sql(text(query_q1a), connection)\n",
    "res_q1a"
   ]
  },
  {
   "cell_type": "code",
   "execution_count": 8,
   "id": "bd0f1d6a",
   "metadata": {},
   "outputs": [
    {
     "name": "stdout",
     "output_type": "stream",
     "text": [
      " * sqlite:///data/imdbmini.db\n",
      "Done.\n"
     ]
    },
    {
     "data": {
      "text/html": [
       "<table>\n",
       "    <thead>\n",
       "        <tr>\n",
       "            <th>startYear</th>\n",
       "            <th>primaryTitle</th>\n",
       "            <th>titleType</th>\n",
       "        </tr>\n",
       "    </thead>\n",
       "    <tbody>\n",
       "        <tr>\n",
       "            <td>1902</td>\n",
       "            <td>A Trip to the Moon</td>\n",
       "            <td>short</td>\n",
       "        </tr>\n",
       "        <tr>\n",
       "            <td>1915</td>\n",
       "            <td>The Birth of a Nation</td>\n",
       "            <td>movie</td>\n",
       "        </tr>\n",
       "        <tr>\n",
       "            <td>1920</td>\n",
       "            <td>The Cabinet of Dr. Caligari</td>\n",
       "            <td>movie</td>\n",
       "        </tr>\n",
       "        <tr>\n",
       "            <td>1921</td>\n",
       "            <td>The Kid</td>\n",
       "            <td>movie</td>\n",
       "        </tr>\n",
       "        <tr>\n",
       "            <td>1922</td>\n",
       "            <td>Nosferatu</td>\n",
       "            <td>movie</td>\n",
       "        </tr>\n",
       "        <tr>\n",
       "            <td>1924</td>\n",
       "            <td>Sherlock Jr.</td>\n",
       "            <td>movie</td>\n",
       "        </tr>\n",
       "        <tr>\n",
       "            <td>1925</td>\n",
       "            <td>Battleship Potemkin</td>\n",
       "            <td>movie</td>\n",
       "        </tr>\n",
       "        <tr>\n",
       "            <td>1925</td>\n",
       "            <td>The Gold Rush</td>\n",
       "            <td>movie</td>\n",
       "        </tr>\n",
       "        <tr>\n",
       "            <td>1926</td>\n",
       "            <td>The General</td>\n",
       "            <td>movie</td>\n",
       "        </tr>\n",
       "        <tr>\n",
       "            <td>1927</td>\n",
       "            <td>Metropolis</td>\n",
       "            <td>movie</td>\n",
       "        </tr>\n",
       "    </tbody>\n",
       "</table>"
      ],
      "text/plain": [
       "[('1902', 'A Trip to the Moon', 'short'),\n",
       " ('1915', 'The Birth of a Nation', 'movie'),\n",
       " ('1920', 'The Cabinet of Dr. Caligari', 'movie'),\n",
       " ('1921', 'The Kid', 'movie'),\n",
       " ('1922', 'Nosferatu', 'movie'),\n",
       " ('1924', 'Sherlock Jr.', 'movie'),\n",
       " ('1925', 'Battleship Potemkin', 'movie'),\n",
       " ('1925', 'The Gold Rush', 'movie'),\n",
       " ('1926', 'The General', 'movie'),\n",
       " ('1927', 'Metropolis', 'movie')]"
      ]
     },
     "execution_count": 8,
     "metadata": {},
     "output_type": "execute_result"
    }
   ],
   "source": [
    "%%sql\n",
    "SELECT startYear, primaryTitle, titleType\n",
    "FROM Title\n",
    "ORDER BY startYear, primaryTitle ASC\n",
    "LIMIT 10;"
   ]
  },
  {
   "cell_type": "code",
   "execution_count": 9,
   "id": "8fd5be36",
   "metadata": {
    "deletable": false,
    "editable": false
   },
   "outputs": [
    {
     "data": {
      "text/html": [
       "<p><strong><pre style='display: inline;'>q1a</pre></strong> passed! 🌈</p>"
      ],
      "text/plain": [
       "q1a results: All test cases passed!"
      ]
     },
     "execution_count": 9,
     "metadata": {},
     "output_type": "execute_result"
    }
   ],
   "source": [
    "grader.check(\"q1a\")"
   ]
  },
  {
   "cell_type": "markdown",
   "id": "898c4a6d",
   "metadata": {
    "deletable": false,
    "editable": false
   },
   "source": [
    "<br/>\n",
    "\n",
    "<hr style=\"border: 1px solid #fdb515;\" />\n",
    "\n",
    "### Question 1b\n",
    "\n",
    "Next, let's calculate the distribution of films by year. Write a query that returns the **total** films for each `startYear` in the `Title` table as `total`.  Keep in mind that some entries may not have a `startYear` listed -- you should filter those out.  Order your final results by the `startYear` in **ascending** order.\n",
    "\n",
    "The first few records of the table should look like the following (but you should compute the entire table).\n",
    "\n",
    "\n",
    "| |startYear|total|\n",
    "|-----|------|-----|\n",
    "|**0**|1902|1|\n",
    "|**1**|1915|1|\n",
    "|**2**|1920|1|\n",
    "|**3**|1921|1|\n",
    "|**4**|1922|1|\n",
    "|...|...|...|\n",
    "\n",
    "\n",
    "<!--\n",
    "BEGIN QUESTION\n",
    "name: q1b\n",
    "points: 2\n",
    "-->"
   ]
  },
  {
   "cell_type": "code",
   "execution_count": 10,
   "id": "b8d04cd9",
   "metadata": {},
   "outputs": [
    {
     "data": {
      "text/html": [
       "<div>\n",
       "<style scoped>\n",
       "    .dataframe tbody tr th:only-of-type {\n",
       "        vertical-align: middle;\n",
       "    }\n",
       "\n",
       "    .dataframe tbody tr th {\n",
       "        vertical-align: top;\n",
       "    }\n",
       "\n",
       "    .dataframe thead th {\n",
       "        text-align: right;\n",
       "    }\n",
       "</style>\n",
       "<table border=\"1\" class=\"dataframe\">\n",
       "  <thead>\n",
       "    <tr style=\"text-align: right;\">\n",
       "      <th></th>\n",
       "      <th>startYear</th>\n",
       "      <th>total</th>\n",
       "    </tr>\n",
       "  </thead>\n",
       "  <tbody>\n",
       "    <tr>\n",
       "      <th>0</th>\n",
       "      <td>1902</td>\n",
       "      <td>1</td>\n",
       "    </tr>\n",
       "    <tr>\n",
       "      <th>1</th>\n",
       "      <td>1915</td>\n",
       "      <td>1</td>\n",
       "    </tr>\n",
       "    <tr>\n",
       "      <th>2</th>\n",
       "      <td>1920</td>\n",
       "      <td>1</td>\n",
       "    </tr>\n",
       "    <tr>\n",
       "      <th>3</th>\n",
       "      <td>1921</td>\n",
       "      <td>1</td>\n",
       "    </tr>\n",
       "    <tr>\n",
       "      <th>4</th>\n",
       "      <td>1922</td>\n",
       "      <td>1</td>\n",
       "    </tr>\n",
       "    <tr>\n",
       "      <th>...</th>\n",
       "      <td>...</td>\n",
       "      <td>...</td>\n",
       "    </tr>\n",
       "    <tr>\n",
       "      <th>98</th>\n",
       "      <td>2017</td>\n",
       "      <td>284</td>\n",
       "    </tr>\n",
       "    <tr>\n",
       "      <th>99</th>\n",
       "      <td>2018</td>\n",
       "      <td>282</td>\n",
       "    </tr>\n",
       "    <tr>\n",
       "      <th>100</th>\n",
       "      <td>2019</td>\n",
       "      <td>278</td>\n",
       "    </tr>\n",
       "    <tr>\n",
       "      <th>101</th>\n",
       "      <td>2020</td>\n",
       "      <td>181</td>\n",
       "    </tr>\n",
       "    <tr>\n",
       "      <th>102</th>\n",
       "      <td>2021</td>\n",
       "      <td>128</td>\n",
       "    </tr>\n",
       "  </tbody>\n",
       "</table>\n",
       "<p>103 rows × 2 columns</p>\n",
       "</div>"
      ],
      "text/plain": [
       "    startYear  total\n",
       "0        1902      1\n",
       "1        1915      1\n",
       "2        1920      1\n",
       "3        1921      1\n",
       "4        1922      1\n",
       "..        ...    ...\n",
       "98       2017    284\n",
       "99       2018    282\n",
       "100      2019    278\n",
       "101      2020    181\n",
       "102      2021    128\n",
       "\n",
       "[103 rows x 2 columns]"
      ]
     },
     "execution_count": 10,
     "metadata": {},
     "output_type": "execute_result"
    }
   ],
   "source": [
    "query_q1b = \"\"\"\n",
    "SELECT startYear,COUNT(*) AS total\n",
    "FROM Title\n",
    "WHERE startYear IS NOT NULL\n",
    "GROUP BY startYear\n",
    "ORDER BY startYear ASC;\n",
    "\"\"\"\n",
    "\n",
    "\n",
    "res_q1b = pd.read_sql(text(query_q1b), connection)\n",
    "res_q1b"
   ]
  },
  {
   "cell_type": "code",
   "execution_count": 11,
   "id": "f380199d",
   "metadata": {},
   "outputs": [
    {
     "name": "stdout",
     "output_type": "stream",
     "text": [
      " * sqlite:///data/imdbmini.db\n",
      "Done.\n"
     ]
    },
    {
     "data": {
      "text/html": [
       "<table>\n",
       "    <thead>\n",
       "        <tr>\n",
       "            <th>startYear</th>\n",
       "            <th>total</th>\n",
       "        </tr>\n",
       "    </thead>\n",
       "    <tbody>\n",
       "        <tr>\n",
       "            <td>1902</td>\n",
       "            <td>1</td>\n",
       "        </tr>\n",
       "        <tr>\n",
       "            <td>1915</td>\n",
       "            <td>1</td>\n",
       "        </tr>\n",
       "        <tr>\n",
       "            <td>1920</td>\n",
       "            <td>1</td>\n",
       "        </tr>\n",
       "        <tr>\n",
       "            <td>1921</td>\n",
       "            <td>1</td>\n",
       "        </tr>\n",
       "        <tr>\n",
       "            <td>1922</td>\n",
       "            <td>1</td>\n",
       "        </tr>\n",
       "        <tr>\n",
       "            <td>1924</td>\n",
       "            <td>1</td>\n",
       "        </tr>\n",
       "        <tr>\n",
       "            <td>1925</td>\n",
       "            <td>2</td>\n",
       "        </tr>\n",
       "        <tr>\n",
       "            <td>1926</td>\n",
       "            <td>1</td>\n",
       "        </tr>\n",
       "        <tr>\n",
       "            <td>1927</td>\n",
       "            <td>2</td>\n",
       "        </tr>\n",
       "        <tr>\n",
       "            <td>1928</td>\n",
       "            <td>2</td>\n",
       "        </tr>\n",
       "        <tr>\n",
       "            <td>1929</td>\n",
       "            <td>2</td>\n",
       "        </tr>\n",
       "        <tr>\n",
       "            <td>1930</td>\n",
       "            <td>1</td>\n",
       "        </tr>\n",
       "        <tr>\n",
       "            <td>1931</td>\n",
       "            <td>5</td>\n",
       "        </tr>\n",
       "        <tr>\n",
       "            <td>1932</td>\n",
       "            <td>3</td>\n",
       "        </tr>\n",
       "        <tr>\n",
       "            <td>1933</td>\n",
       "            <td>3</td>\n",
       "        </tr>\n",
       "        <tr>\n",
       "            <td>1934</td>\n",
       "            <td>2</td>\n",
       "        </tr>\n",
       "        <tr>\n",
       "            <td>1935</td>\n",
       "            <td>4</td>\n",
       "        </tr>\n",
       "        <tr>\n",
       "            <td>1936</td>\n",
       "            <td>3</td>\n",
       "        </tr>\n",
       "        <tr>\n",
       "            <td>1937</td>\n",
       "            <td>2</td>\n",
       "        </tr>\n",
       "        <tr>\n",
       "            <td>1938</td>\n",
       "            <td>5</td>\n",
       "        </tr>\n",
       "        <tr>\n",
       "            <td>1939</td>\n",
       "            <td>6</td>\n",
       "        </tr>\n",
       "        <tr>\n",
       "            <td>1940</td>\n",
       "            <td>8</td>\n",
       "        </tr>\n",
       "        <tr>\n",
       "            <td>1941</td>\n",
       "            <td>8</td>\n",
       "        </tr>\n",
       "        <tr>\n",
       "            <td>1942</td>\n",
       "            <td>7</td>\n",
       "        </tr>\n",
       "        <tr>\n",
       "            <td>1943</td>\n",
       "            <td>2</td>\n",
       "        </tr>\n",
       "        <tr>\n",
       "            <td>1944</td>\n",
       "            <td>6</td>\n",
       "        </tr>\n",
       "        <tr>\n",
       "            <td>1945</td>\n",
       "            <td>5</td>\n",
       "        </tr>\n",
       "        <tr>\n",
       "            <td>1946</td>\n",
       "            <td>11</td>\n",
       "        </tr>\n",
       "        <tr>\n",
       "            <td>1947</td>\n",
       "            <td>4</td>\n",
       "        </tr>\n",
       "        <tr>\n",
       "            <td>1948</td>\n",
       "            <td>6</td>\n",
       "        </tr>\n",
       "        <tr>\n",
       "            <td>1949</td>\n",
       "            <td>4</td>\n",
       "        </tr>\n",
       "        <tr>\n",
       "            <td>1950</td>\n",
       "            <td>7</td>\n",
       "        </tr>\n",
       "        <tr>\n",
       "            <td>1951</td>\n",
       "            <td>11</td>\n",
       "        </tr>\n",
       "        <tr>\n",
       "            <td>1952</td>\n",
       "            <td>5</td>\n",
       "        </tr>\n",
       "        <tr>\n",
       "            <td>1953</td>\n",
       "            <td>13</td>\n",
       "        </tr>\n",
       "        <tr>\n",
       "            <td>1954</td>\n",
       "            <td>13</td>\n",
       "        </tr>\n",
       "        <tr>\n",
       "            <td>1955</td>\n",
       "            <td>14</td>\n",
       "        </tr>\n",
       "        <tr>\n",
       "            <td>1956</td>\n",
       "            <td>11</td>\n",
       "        </tr>\n",
       "        <tr>\n",
       "            <td>1957</td>\n",
       "            <td>12</td>\n",
       "        </tr>\n",
       "        <tr>\n",
       "            <td>1958</td>\n",
       "            <td>10</td>\n",
       "        </tr>\n",
       "        <tr>\n",
       "            <td>1959</td>\n",
       "            <td>11</td>\n",
       "        </tr>\n",
       "        <tr>\n",
       "            <td>1960</td>\n",
       "            <td>15</td>\n",
       "        </tr>\n",
       "        <tr>\n",
       "            <td>1961</td>\n",
       "            <td>13</td>\n",
       "        </tr>\n",
       "        <tr>\n",
       "            <td>1962</td>\n",
       "            <td>19</td>\n",
       "        </tr>\n",
       "        <tr>\n",
       "            <td>1963</td>\n",
       "            <td>17</td>\n",
       "        </tr>\n",
       "        <tr>\n",
       "            <td>1964</td>\n",
       "            <td>14</td>\n",
       "        </tr>\n",
       "        <tr>\n",
       "            <td>1965</td>\n",
       "            <td>8</td>\n",
       "        </tr>\n",
       "        <tr>\n",
       "            <td>1966</td>\n",
       "            <td>17</td>\n",
       "        </tr>\n",
       "        <tr>\n",
       "            <td>1967</td>\n",
       "            <td>16</td>\n",
       "        </tr>\n",
       "        <tr>\n",
       "            <td>1968</td>\n",
       "            <td>19</td>\n",
       "        </tr>\n",
       "        <tr>\n",
       "            <td>1969</td>\n",
       "            <td>13</td>\n",
       "        </tr>\n",
       "        <tr>\n",
       "            <td>1970</td>\n",
       "            <td>15</td>\n",
       "        </tr>\n",
       "        <tr>\n",
       "            <td>1971</td>\n",
       "            <td>27</td>\n",
       "        </tr>\n",
       "        <tr>\n",
       "            <td>1972</td>\n",
       "            <td>23</td>\n",
       "        </tr>\n",
       "        <tr>\n",
       "            <td>1973</td>\n",
       "            <td>30</td>\n",
       "        </tr>\n",
       "        <tr>\n",
       "            <td>1974</td>\n",
       "            <td>20</td>\n",
       "        </tr>\n",
       "        <tr>\n",
       "            <td>1975</td>\n",
       "            <td>24</td>\n",
       "        </tr>\n",
       "        <tr>\n",
       "            <td>1976</td>\n",
       "            <td>25</td>\n",
       "        </tr>\n",
       "        <tr>\n",
       "            <td>1977</td>\n",
       "            <td>24</td>\n",
       "        </tr>\n",
       "        <tr>\n",
       "            <td>1978</td>\n",
       "            <td>23</td>\n",
       "        </tr>\n",
       "        <tr>\n",
       "            <td>1979</td>\n",
       "            <td>32</td>\n",
       "        </tr>\n",
       "        <tr>\n",
       "            <td>1980</td>\n",
       "            <td>32</td>\n",
       "        </tr>\n",
       "        <tr>\n",
       "            <td>1981</td>\n",
       "            <td>36</td>\n",
       "        </tr>\n",
       "        <tr>\n",
       "            <td>1982</td>\n",
       "            <td>45</td>\n",
       "        </tr>\n",
       "        <tr>\n",
       "            <td>1983</td>\n",
       "            <td>34</td>\n",
       "        </tr>\n",
       "        <tr>\n",
       "            <td>1984</td>\n",
       "            <td>51</td>\n",
       "        </tr>\n",
       "        <tr>\n",
       "            <td>1985</td>\n",
       "            <td>65</td>\n",
       "        </tr>\n",
       "        <tr>\n",
       "            <td>1986</td>\n",
       "            <td>60</td>\n",
       "        </tr>\n",
       "        <tr>\n",
       "            <td>1987</td>\n",
       "            <td>66</td>\n",
       "        </tr>\n",
       "        <tr>\n",
       "            <td>1988</td>\n",
       "            <td>70</td>\n",
       "        </tr>\n",
       "        <tr>\n",
       "            <td>1989</td>\n",
       "            <td>82</td>\n",
       "        </tr>\n",
       "        <tr>\n",
       "            <td>1990</td>\n",
       "            <td>76</td>\n",
       "        </tr>\n",
       "        <tr>\n",
       "            <td>1991</td>\n",
       "            <td>65</td>\n",
       "        </tr>\n",
       "        <tr>\n",
       "            <td>1992</td>\n",
       "            <td>84</td>\n",
       "        </tr>\n",
       "        <tr>\n",
       "            <td>1993</td>\n",
       "            <td>109</td>\n",
       "        </tr>\n",
       "        <tr>\n",
       "            <td>1994</td>\n",
       "            <td>94</td>\n",
       "        </tr>\n",
       "        <tr>\n",
       "            <td>1995</td>\n",
       "            <td>118</td>\n",
       "        </tr>\n",
       "        <tr>\n",
       "            <td>1996</td>\n",
       "            <td>115</td>\n",
       "        </tr>\n",
       "        <tr>\n",
       "            <td>1997</td>\n",
       "            <td>127</td>\n",
       "        </tr>\n",
       "        <tr>\n",
       "            <td>1998</td>\n",
       "            <td>137</td>\n",
       "        </tr>\n",
       "        <tr>\n",
       "            <td>1999</td>\n",
       "            <td>136</td>\n",
       "        </tr>\n",
       "        <tr>\n",
       "            <td>2000</td>\n",
       "            <td>142</td>\n",
       "        </tr>\n",
       "        <tr>\n",
       "            <td>2001</td>\n",
       "            <td>171</td>\n",
       "        </tr>\n",
       "        <tr>\n",
       "            <td>2002</td>\n",
       "            <td>180</td>\n",
       "        </tr>\n",
       "        <tr>\n",
       "            <td>2003</td>\n",
       "            <td>187</td>\n",
       "        </tr>\n",
       "        <tr>\n",
       "            <td>2004</td>\n",
       "            <td>211</td>\n",
       "        </tr>\n",
       "        <tr>\n",
       "            <td>2005</td>\n",
       "            <td>218</td>\n",
       "        </tr>\n",
       "        <tr>\n",
       "            <td>2006</td>\n",
       "            <td>251</td>\n",
       "        </tr>\n",
       "        <tr>\n",
       "            <td>2007</td>\n",
       "            <td>256</td>\n",
       "        </tr>\n",
       "        <tr>\n",
       "            <td>2008</td>\n",
       "            <td>254</td>\n",
       "        </tr>\n",
       "        <tr>\n",
       "            <td>2009</td>\n",
       "            <td>277</td>\n",
       "        </tr>\n",
       "        <tr>\n",
       "            <td>2010</td>\n",
       "            <td>259</td>\n",
       "        </tr>\n",
       "        <tr>\n",
       "            <td>2011</td>\n",
       "            <td>301</td>\n",
       "        </tr>\n",
       "        <tr>\n",
       "            <td>2012</td>\n",
       "            <td>268</td>\n",
       "        </tr>\n",
       "        <tr>\n",
       "            <td>2013</td>\n",
       "            <td>311</td>\n",
       "        </tr>\n",
       "        <tr>\n",
       "            <td>2014</td>\n",
       "            <td>331</td>\n",
       "        </tr>\n",
       "        <tr>\n",
       "            <td>2015</td>\n",
       "            <td>285</td>\n",
       "        </tr>\n",
       "        <tr>\n",
       "            <td>2016</td>\n",
       "            <td>306</td>\n",
       "        </tr>\n",
       "        <tr>\n",
       "            <td>2017</td>\n",
       "            <td>284</td>\n",
       "        </tr>\n",
       "        <tr>\n",
       "            <td>2018</td>\n",
       "            <td>282</td>\n",
       "        </tr>\n",
       "        <tr>\n",
       "            <td>2019</td>\n",
       "            <td>278</td>\n",
       "        </tr>\n",
       "        <tr>\n",
       "            <td>2020</td>\n",
       "            <td>181</td>\n",
       "        </tr>\n",
       "        <tr>\n",
       "            <td>2021</td>\n",
       "            <td>128</td>\n",
       "        </tr>\n",
       "    </tbody>\n",
       "</table>"
      ],
      "text/plain": [
       "[('1902', 1),\n",
       " ('1915', 1),\n",
       " ('1920', 1),\n",
       " ('1921', 1),\n",
       " ('1922', 1),\n",
       " ('1924', 1),\n",
       " ('1925', 2),\n",
       " ('1926', 1),\n",
       " ('1927', 2),\n",
       " ('1928', 2),\n",
       " ('1929', 2),\n",
       " ('1930', 1),\n",
       " ('1931', 5),\n",
       " ('1932', 3),\n",
       " ('1933', 3),\n",
       " ('1934', 2),\n",
       " ('1935', 4),\n",
       " ('1936', 3),\n",
       " ('1937', 2),\n",
       " ('1938', 5),\n",
       " ('1939', 6),\n",
       " ('1940', 8),\n",
       " ('1941', 8),\n",
       " ('1942', 7),\n",
       " ('1943', 2),\n",
       " ('1944', 6),\n",
       " ('1945', 5),\n",
       " ('1946', 11),\n",
       " ('1947', 4),\n",
       " ('1948', 6),\n",
       " ('1949', 4),\n",
       " ('1950', 7),\n",
       " ('1951', 11),\n",
       " ('1952', 5),\n",
       " ('1953', 13),\n",
       " ('1954', 13),\n",
       " ('1955', 14),\n",
       " ('1956', 11),\n",
       " ('1957', 12),\n",
       " ('1958', 10),\n",
       " ('1959', 11),\n",
       " ('1960', 15),\n",
       " ('1961', 13),\n",
       " ('1962', 19),\n",
       " ('1963', 17),\n",
       " ('1964', 14),\n",
       " ('1965', 8),\n",
       " ('1966', 17),\n",
       " ('1967', 16),\n",
       " ('1968', 19),\n",
       " ('1969', 13),\n",
       " ('1970', 15),\n",
       " ('1971', 27),\n",
       " ('1972', 23),\n",
       " ('1973', 30),\n",
       " ('1974', 20),\n",
       " ('1975', 24),\n",
       " ('1976', 25),\n",
       " ('1977', 24),\n",
       " ('1978', 23),\n",
       " ('1979', 32),\n",
       " ('1980', 32),\n",
       " ('1981', 36),\n",
       " ('1982', 45),\n",
       " ('1983', 34),\n",
       " ('1984', 51),\n",
       " ('1985', 65),\n",
       " ('1986', 60),\n",
       " ('1987', 66),\n",
       " ('1988', 70),\n",
       " ('1989', 82),\n",
       " ('1990', 76),\n",
       " ('1991', 65),\n",
       " ('1992', 84),\n",
       " ('1993', 109),\n",
       " ('1994', 94),\n",
       " ('1995', 118),\n",
       " ('1996', 115),\n",
       " ('1997', 127),\n",
       " ('1998', 137),\n",
       " ('1999', 136),\n",
       " ('2000', 142),\n",
       " ('2001', 171),\n",
       " ('2002', 180),\n",
       " ('2003', 187),\n",
       " ('2004', 211),\n",
       " ('2005', 218),\n",
       " ('2006', 251),\n",
       " ('2007', 256),\n",
       " ('2008', 254),\n",
       " ('2009', 277),\n",
       " ('2010', 259),\n",
       " ('2011', 301),\n",
       " ('2012', 268),\n",
       " ('2013', 311),\n",
       " ('2014', 331),\n",
       " ('2015', 285),\n",
       " ('2016', 306),\n",
       " ('2017', 284),\n",
       " ('2018', 282),\n",
       " ('2019', 278),\n",
       " ('2020', 181),\n",
       " ('2021', 128)]"
      ]
     },
     "execution_count": 11,
     "metadata": {},
     "output_type": "execute_result"
    }
   ],
   "source": [
    "%%sql\n",
    "SELECT startYear,COUNT(*) AS total\n",
    "FROM Title\n",
    "WHERE startYear IS NOT NULL\n",
    "GROUP BY startYear\n",
    "ORDER BY startYear ASC;"
   ]
  },
  {
   "cell_type": "code",
   "execution_count": 12,
   "id": "b1de7858",
   "metadata": {
    "deletable": false,
    "editable": false
   },
   "outputs": [
    {
     "data": {
      "text/html": [
       "<p><strong><pre style='display: inline;'>q1b</pre></strong> passed! 🎉</p>"
      ],
      "text/plain": [
       "q1b results: All test cases passed!"
      ]
     },
     "execution_count": 12,
     "metadata": {},
     "output_type": "execute_result"
    }
   ],
   "source": [
    "grader.check(\"q1b\")"
   ]
  },
  {
   "cell_type": "markdown",
   "id": "ae462278",
   "metadata": {},
   "source": [
    "<br/>\n",
    "\n",
    "The following should generate an interesting plot of the number of films that premiered each year. Notice there is a dip between the 1920s and late 1940s. Why might that be? *This question is rhetorical; you do not need to write your answer anywhere.*"
   ]
  },
  {
   "cell_type": "code",
   "execution_count": 13,
   "id": "4c8f266d",
   "metadata": {},
   "outputs": [
    {
     "data": {
      "application/vnd.plotly.v1+json": {
       "config": {
        "plotlyServerURL": "https://plot.ly"
       },
       "data": [
        {
         "alignmentgroup": "True",
         "hovertemplate": "startYear=%{x}<br>total=%{y}<extra></extra>",
         "legendgroup": "",
         "marker": {
          "color": "#636efa",
          "pattern": {
           "shape": ""
          }
         },
         "name": "",
         "offsetgroup": "",
         "orientation": "v",
         "showlegend": false,
         "textposition": "auto",
         "type": "bar",
         "x": [
          "1902",
          "1915",
          "1920",
          "1921",
          "1922",
          "1924",
          "1925",
          "1926",
          "1927",
          "1928",
          "1929",
          "1930",
          "1931",
          "1932",
          "1933",
          "1934",
          "1935",
          "1936",
          "1937",
          "1938",
          "1939",
          "1940",
          "1941",
          "1942",
          "1943",
          "1944",
          "1945",
          "1946",
          "1947",
          "1948",
          "1949",
          "1950",
          "1951",
          "1952",
          "1953",
          "1954",
          "1955",
          "1956",
          "1957",
          "1958",
          "1959",
          "1960",
          "1961",
          "1962",
          "1963",
          "1964",
          "1965",
          "1966",
          "1967",
          "1968",
          "1969",
          "1970",
          "1971",
          "1972",
          "1973",
          "1974",
          "1975",
          "1976",
          "1977",
          "1978",
          "1979",
          "1980",
          "1981",
          "1982",
          "1983",
          "1984",
          "1985",
          "1986",
          "1987",
          "1988",
          "1989",
          "1990",
          "1991",
          "1992",
          "1993",
          "1994",
          "1995",
          "1996",
          "1997",
          "1998",
          "1999",
          "2000",
          "2001",
          "2002",
          "2003",
          "2004",
          "2005",
          "2006",
          "2007",
          "2008",
          "2009",
          "2010",
          "2011",
          "2012",
          "2013",
          "2014",
          "2015",
          "2016",
          "2017",
          "2018",
          "2019",
          "2020",
          "2021"
         ],
         "xaxis": "x",
         "y": [
          1,
          1,
          1,
          1,
          1,
          1,
          2,
          1,
          2,
          2,
          2,
          1,
          5,
          3,
          3,
          2,
          4,
          3,
          2,
          5,
          6,
          8,
          8,
          7,
          2,
          6,
          5,
          11,
          4,
          6,
          4,
          7,
          11,
          5,
          13,
          13,
          14,
          11,
          12,
          10,
          11,
          15,
          13,
          19,
          17,
          14,
          8,
          17,
          16,
          19,
          13,
          15,
          27,
          23,
          30,
          20,
          24,
          25,
          24,
          23,
          32,
          32,
          36,
          45,
          34,
          51,
          65,
          60,
          66,
          70,
          82,
          76,
          65,
          84,
          109,
          94,
          118,
          115,
          127,
          137,
          136,
          142,
          171,
          180,
          187,
          211,
          218,
          251,
          256,
          254,
          277,
          259,
          301,
          268,
          311,
          331,
          285,
          306,
          284,
          282,
          278,
          181,
          128
         ],
         "yaxis": "y"
        }
       ],
       "layout": {
        "barmode": "relative",
        "legend": {
         "tracegroupgap": 0
        },
        "template": {
         "data": {
          "bar": [
           {
            "error_x": {
             "color": "#2a3f5f"
            },
            "error_y": {
             "color": "#2a3f5f"
            },
            "marker": {
             "line": {
              "color": "#E5ECF6",
              "width": 0.5
             },
             "pattern": {
              "fillmode": "overlay",
              "size": 10,
              "solidity": 0.2
             }
            },
            "type": "bar"
           }
          ],
          "barpolar": [
           {
            "marker": {
             "line": {
              "color": "#E5ECF6",
              "width": 0.5
             },
             "pattern": {
              "fillmode": "overlay",
              "size": 10,
              "solidity": 0.2
             }
            },
            "type": "barpolar"
           }
          ],
          "carpet": [
           {
            "aaxis": {
             "endlinecolor": "#2a3f5f",
             "gridcolor": "white",
             "linecolor": "white",
             "minorgridcolor": "white",
             "startlinecolor": "#2a3f5f"
            },
            "baxis": {
             "endlinecolor": "#2a3f5f",
             "gridcolor": "white",
             "linecolor": "white",
             "minorgridcolor": "white",
             "startlinecolor": "#2a3f5f"
            },
            "type": "carpet"
           }
          ],
          "choropleth": [
           {
            "colorbar": {
             "outlinewidth": 0,
             "ticks": ""
            },
            "type": "choropleth"
           }
          ],
          "contour": [
           {
            "colorbar": {
             "outlinewidth": 0,
             "ticks": ""
            },
            "colorscale": [
             [
              0,
              "#0d0887"
             ],
             [
              0.1111111111111111,
              "#46039f"
             ],
             [
              0.2222222222222222,
              "#7201a8"
             ],
             [
              0.3333333333333333,
              "#9c179e"
             ],
             [
              0.4444444444444444,
              "#bd3786"
             ],
             [
              0.5555555555555556,
              "#d8576b"
             ],
             [
              0.6666666666666666,
              "#ed7953"
             ],
             [
              0.7777777777777778,
              "#fb9f3a"
             ],
             [
              0.8888888888888888,
              "#fdca26"
             ],
             [
              1,
              "#f0f921"
             ]
            ],
            "type": "contour"
           }
          ],
          "contourcarpet": [
           {
            "colorbar": {
             "outlinewidth": 0,
             "ticks": ""
            },
            "type": "contourcarpet"
           }
          ],
          "heatmap": [
           {
            "colorbar": {
             "outlinewidth": 0,
             "ticks": ""
            },
            "colorscale": [
             [
              0,
              "#0d0887"
             ],
             [
              0.1111111111111111,
              "#46039f"
             ],
             [
              0.2222222222222222,
              "#7201a8"
             ],
             [
              0.3333333333333333,
              "#9c179e"
             ],
             [
              0.4444444444444444,
              "#bd3786"
             ],
             [
              0.5555555555555556,
              "#d8576b"
             ],
             [
              0.6666666666666666,
              "#ed7953"
             ],
             [
              0.7777777777777778,
              "#fb9f3a"
             ],
             [
              0.8888888888888888,
              "#fdca26"
             ],
             [
              1,
              "#f0f921"
             ]
            ],
            "type": "heatmap"
           }
          ],
          "heatmapgl": [
           {
            "colorbar": {
             "outlinewidth": 0,
             "ticks": ""
            },
            "colorscale": [
             [
              0,
              "#0d0887"
             ],
             [
              0.1111111111111111,
              "#46039f"
             ],
             [
              0.2222222222222222,
              "#7201a8"
             ],
             [
              0.3333333333333333,
              "#9c179e"
             ],
             [
              0.4444444444444444,
              "#bd3786"
             ],
             [
              0.5555555555555556,
              "#d8576b"
             ],
             [
              0.6666666666666666,
              "#ed7953"
             ],
             [
              0.7777777777777778,
              "#fb9f3a"
             ],
             [
              0.8888888888888888,
              "#fdca26"
             ],
             [
              1,
              "#f0f921"
             ]
            ],
            "type": "heatmapgl"
           }
          ],
          "histogram": [
           {
            "marker": {
             "pattern": {
              "fillmode": "overlay",
              "size": 10,
              "solidity": 0.2
             }
            },
            "type": "histogram"
           }
          ],
          "histogram2d": [
           {
            "colorbar": {
             "outlinewidth": 0,
             "ticks": ""
            },
            "colorscale": [
             [
              0,
              "#0d0887"
             ],
             [
              0.1111111111111111,
              "#46039f"
             ],
             [
              0.2222222222222222,
              "#7201a8"
             ],
             [
              0.3333333333333333,
              "#9c179e"
             ],
             [
              0.4444444444444444,
              "#bd3786"
             ],
             [
              0.5555555555555556,
              "#d8576b"
             ],
             [
              0.6666666666666666,
              "#ed7953"
             ],
             [
              0.7777777777777778,
              "#fb9f3a"
             ],
             [
              0.8888888888888888,
              "#fdca26"
             ],
             [
              1,
              "#f0f921"
             ]
            ],
            "type": "histogram2d"
           }
          ],
          "histogram2dcontour": [
           {
            "colorbar": {
             "outlinewidth": 0,
             "ticks": ""
            },
            "colorscale": [
             [
              0,
              "#0d0887"
             ],
             [
              0.1111111111111111,
              "#46039f"
             ],
             [
              0.2222222222222222,
              "#7201a8"
             ],
             [
              0.3333333333333333,
              "#9c179e"
             ],
             [
              0.4444444444444444,
              "#bd3786"
             ],
             [
              0.5555555555555556,
              "#d8576b"
             ],
             [
              0.6666666666666666,
              "#ed7953"
             ],
             [
              0.7777777777777778,
              "#fb9f3a"
             ],
             [
              0.8888888888888888,
              "#fdca26"
             ],
             [
              1,
              "#f0f921"
             ]
            ],
            "type": "histogram2dcontour"
           }
          ],
          "mesh3d": [
           {
            "colorbar": {
             "outlinewidth": 0,
             "ticks": ""
            },
            "type": "mesh3d"
           }
          ],
          "parcoords": [
           {
            "line": {
             "colorbar": {
              "outlinewidth": 0,
              "ticks": ""
             }
            },
            "type": "parcoords"
           }
          ],
          "pie": [
           {
            "automargin": true,
            "type": "pie"
           }
          ],
          "scatter": [
           {
            "fillpattern": {
             "fillmode": "overlay",
             "size": 10,
             "solidity": 0.2
            },
            "type": "scatter"
           }
          ],
          "scatter3d": [
           {
            "line": {
             "colorbar": {
              "outlinewidth": 0,
              "ticks": ""
             }
            },
            "marker": {
             "colorbar": {
              "outlinewidth": 0,
              "ticks": ""
             }
            },
            "type": "scatter3d"
           }
          ],
          "scattercarpet": [
           {
            "marker": {
             "colorbar": {
              "outlinewidth": 0,
              "ticks": ""
             }
            },
            "type": "scattercarpet"
           }
          ],
          "scattergeo": [
           {
            "marker": {
             "colorbar": {
              "outlinewidth": 0,
              "ticks": ""
             }
            },
            "type": "scattergeo"
           }
          ],
          "scattergl": [
           {
            "marker": {
             "colorbar": {
              "outlinewidth": 0,
              "ticks": ""
             }
            },
            "type": "scattergl"
           }
          ],
          "scattermapbox": [
           {
            "marker": {
             "colorbar": {
              "outlinewidth": 0,
              "ticks": ""
             }
            },
            "type": "scattermapbox"
           }
          ],
          "scatterpolar": [
           {
            "marker": {
             "colorbar": {
              "outlinewidth": 0,
              "ticks": ""
             }
            },
            "type": "scatterpolar"
           }
          ],
          "scatterpolargl": [
           {
            "marker": {
             "colorbar": {
              "outlinewidth": 0,
              "ticks": ""
             }
            },
            "type": "scatterpolargl"
           }
          ],
          "scatterternary": [
           {
            "marker": {
             "colorbar": {
              "outlinewidth": 0,
              "ticks": ""
             }
            },
            "type": "scatterternary"
           }
          ],
          "surface": [
           {
            "colorbar": {
             "outlinewidth": 0,
             "ticks": ""
            },
            "colorscale": [
             [
              0,
              "#0d0887"
             ],
             [
              0.1111111111111111,
              "#46039f"
             ],
             [
              0.2222222222222222,
              "#7201a8"
             ],
             [
              0.3333333333333333,
              "#9c179e"
             ],
             [
              0.4444444444444444,
              "#bd3786"
             ],
             [
              0.5555555555555556,
              "#d8576b"
             ],
             [
              0.6666666666666666,
              "#ed7953"
             ],
             [
              0.7777777777777778,
              "#fb9f3a"
             ],
             [
              0.8888888888888888,
              "#fdca26"
             ],
             [
              1,
              "#f0f921"
             ]
            ],
            "type": "surface"
           }
          ],
          "table": [
           {
            "cells": {
             "fill": {
              "color": "#EBF0F8"
             },
             "line": {
              "color": "white"
             }
            },
            "header": {
             "fill": {
              "color": "#C8D4E3"
             },
             "line": {
              "color": "white"
             }
            },
            "type": "table"
           }
          ]
         },
         "layout": {
          "annotationdefaults": {
           "arrowcolor": "#2a3f5f",
           "arrowhead": 0,
           "arrowwidth": 1
          },
          "autotypenumbers": "strict",
          "coloraxis": {
           "colorbar": {
            "outlinewidth": 0,
            "ticks": ""
           }
          },
          "colorscale": {
           "diverging": [
            [
             0,
             "#8e0152"
            ],
            [
             0.1,
             "#c51b7d"
            ],
            [
             0.2,
             "#de77ae"
            ],
            [
             0.3,
             "#f1b6da"
            ],
            [
             0.4,
             "#fde0ef"
            ],
            [
             0.5,
             "#f7f7f7"
            ],
            [
             0.6,
             "#e6f5d0"
            ],
            [
             0.7,
             "#b8e186"
            ],
            [
             0.8,
             "#7fbc41"
            ],
            [
             0.9,
             "#4d9221"
            ],
            [
             1,
             "#276419"
            ]
           ],
           "sequential": [
            [
             0,
             "#0d0887"
            ],
            [
             0.1111111111111111,
             "#46039f"
            ],
            [
             0.2222222222222222,
             "#7201a8"
            ],
            [
             0.3333333333333333,
             "#9c179e"
            ],
            [
             0.4444444444444444,
             "#bd3786"
            ],
            [
             0.5555555555555556,
             "#d8576b"
            ],
            [
             0.6666666666666666,
             "#ed7953"
            ],
            [
             0.7777777777777778,
             "#fb9f3a"
            ],
            [
             0.8888888888888888,
             "#fdca26"
            ],
            [
             1,
             "#f0f921"
            ]
           ],
           "sequentialminus": [
            [
             0,
             "#0d0887"
            ],
            [
             0.1111111111111111,
             "#46039f"
            ],
            [
             0.2222222222222222,
             "#7201a8"
            ],
            [
             0.3333333333333333,
             "#9c179e"
            ],
            [
             0.4444444444444444,
             "#bd3786"
            ],
            [
             0.5555555555555556,
             "#d8576b"
            ],
            [
             0.6666666666666666,
             "#ed7953"
            ],
            [
             0.7777777777777778,
             "#fb9f3a"
            ],
            [
             0.8888888888888888,
             "#fdca26"
            ],
            [
             1,
             "#f0f921"
            ]
           ]
          },
          "colorway": [
           "#636efa",
           "#EF553B",
           "#00cc96",
           "#ab63fa",
           "#FFA15A",
           "#19d3f3",
           "#FF6692",
           "#B6E880",
           "#FF97FF",
           "#FECB52"
          ],
          "font": {
           "color": "#2a3f5f"
          },
          "geo": {
           "bgcolor": "white",
           "lakecolor": "white",
           "landcolor": "#E5ECF6",
           "showlakes": true,
           "showland": true,
           "subunitcolor": "white"
          },
          "hoverlabel": {
           "align": "left"
          },
          "hovermode": "closest",
          "mapbox": {
           "style": "light"
          },
          "paper_bgcolor": "white",
          "plot_bgcolor": "#E5ECF6",
          "polar": {
           "angularaxis": {
            "gridcolor": "white",
            "linecolor": "white",
            "ticks": ""
           },
           "bgcolor": "#E5ECF6",
           "radialaxis": {
            "gridcolor": "white",
            "linecolor": "white",
            "ticks": ""
           }
          },
          "scene": {
           "xaxis": {
            "backgroundcolor": "#E5ECF6",
            "gridcolor": "white",
            "gridwidth": 2,
            "linecolor": "white",
            "showbackground": true,
            "ticks": "",
            "zerolinecolor": "white"
           },
           "yaxis": {
            "backgroundcolor": "#E5ECF6",
            "gridcolor": "white",
            "gridwidth": 2,
            "linecolor": "white",
            "showbackground": true,
            "ticks": "",
            "zerolinecolor": "white"
           },
           "zaxis": {
            "backgroundcolor": "#E5ECF6",
            "gridcolor": "white",
            "gridwidth": 2,
            "linecolor": "white",
            "showbackground": true,
            "ticks": "",
            "zerolinecolor": "white"
           }
          },
          "shapedefaults": {
           "line": {
            "color": "#2a3f5f"
           }
          },
          "ternary": {
           "aaxis": {
            "gridcolor": "white",
            "linecolor": "white",
            "ticks": ""
           },
           "baxis": {
            "gridcolor": "white",
            "linecolor": "white",
            "ticks": ""
           },
           "bgcolor": "#E5ECF6",
           "caxis": {
            "gridcolor": "white",
            "linecolor": "white",
            "ticks": ""
           }
          },
          "title": {
           "x": 0.05
          },
          "xaxis": {
           "automargin": true,
           "gridcolor": "white",
           "linecolor": "white",
           "ticks": "",
           "title": {
            "standoff": 15
           },
           "zerolinecolor": "white",
           "zerolinewidth": 2
          },
          "yaxis": {
           "automargin": true,
           "gridcolor": "white",
           "linecolor": "white",
           "ticks": "",
           "title": {
            "standoff": 15
           },
           "zerolinecolor": "white",
           "zerolinewidth": 2
          }
         }
        },
        "title": {
         "text": "Number of films premiered each year"
        },
        "xaxis": {
         "anchor": "y",
         "domain": [
          0,
          1
         ],
         "title": {
          "text": "startYear"
         }
        },
        "yaxis": {
         "anchor": "x",
         "domain": [
          0,
          1
         ],
         "title": {
          "text": "total"
         }
        }
       }
      }
     },
     "metadata": {},
     "output_type": "display_data"
    }
   ],
   "source": [
    "# just run this cell\n",
    "px.bar(res_q1b, x=\"startYear\", y=\"total\",\n",
    "       title=\"Number of films premiered each year\")"
   ]
  },
  {
   "cell_type": "markdown",
   "id": "94e5e948",
   "metadata": {
    "deletable": false,
    "editable": false
   },
   "source": [
    "<br/><br/>\n",
    "\n",
    "<hr style=\"border: 5px solid #003262;\" />\n",
    "<hr style=\"border: 1px solid #fdb515;\" />\n",
    "\n",
    "## Question 2\n",
    "\n",
    "Who are the **top 10 most prolific movie actors**?\n",
    "\n",
    "Define the term \"movie actor\" is defined as anyone with an `actor` or `actress` job category role in a `movie` title.\n",
    "\n",
    "Your SQL query should output exactly two fields named `name` (the movie actor name) and `total` (the number of movies the movie actor appears in). Order the records by `total` in descending order, and break ties by ordering by `name` in ascending order.\n",
    "\n",
    "Your result should look something like the following, but without `????`:\n",
    "\n",
    "| | name | total |\n",
    "|-----|-----|-----|\n",
    "|**0**| ???? | 64 |\n",
    "|**1**| ???? | 54 |\n",
    "|**2**| ???? | 53 |\n",
    "|**3**| ???? | 49 |\n",
    "|**4**| ???? | 46 |\n",
    "|**5**| ???? | 43 |\n",
    "|**6**| ???? | 41 |\n",
    "|**7**| ???? | 40 |\n",
    "|**8**| ???? | 40 |\n",
    "|**9**| ???? | 39 |\n",
    "\n",
    "Some hints: \n",
    "\n",
    "* ***The query should take < 2 minutes to run.***\n",
    "* Google the top of the list and see if it makes sense.\n",
    "* If you want to include a non-aggregate field in the `SELECT` clause, it must also be included in the `GROUP BY` clause.\n",
    "<!--* You can assume each movie actor only has one role per film. If you're not sure how this hint affects your query, ignore this hint.-->\n",
    "\n",
    "<!--\n",
    "BEGIN QUESTION\n",
    "name: q2\n",
    "points: 3\n",
    "-->"
   ]
  },
  {
   "cell_type": "code",
   "execution_count": 14,
   "id": "536b1c74",
   "metadata": {},
   "outputs": [
    {
     "data": {
      "text/html": [
       "<div>\n",
       "<style scoped>\n",
       "    .dataframe tbody tr th:only-of-type {\n",
       "        vertical-align: middle;\n",
       "    }\n",
       "\n",
       "    .dataframe tbody tr th {\n",
       "        vertical-align: top;\n",
       "    }\n",
       "\n",
       "    .dataframe thead th {\n",
       "        text-align: right;\n",
       "    }\n",
       "</style>\n",
       "<table border=\"1\" class=\"dataframe\">\n",
       "  <thead>\n",
       "    <tr style=\"text-align: right;\">\n",
       "      <th></th>\n",
       "      <th>name</th>\n",
       "      <th>total</th>\n",
       "    </tr>\n",
       "  </thead>\n",
       "  <tbody>\n",
       "    <tr>\n",
       "      <th>0</th>\n",
       "      <td>Robert De Niro</td>\n",
       "      <td>64</td>\n",
       "    </tr>\n",
       "    <tr>\n",
       "      <th>1</th>\n",
       "      <td>Samuel L. Jackson</td>\n",
       "      <td>54</td>\n",
       "    </tr>\n",
       "    <tr>\n",
       "      <th>2</th>\n",
       "      <td>Nicolas Cage</td>\n",
       "      <td>53</td>\n",
       "    </tr>\n",
       "    <tr>\n",
       "      <th>3</th>\n",
       "      <td>Bruce Willis</td>\n",
       "      <td>49</td>\n",
       "    </tr>\n",
       "    <tr>\n",
       "      <th>4</th>\n",
       "      <td>Tom Hanks</td>\n",
       "      <td>46</td>\n",
       "    </tr>\n",
       "    <tr>\n",
       "      <th>5</th>\n",
       "      <td>Johnny Depp</td>\n",
       "      <td>43</td>\n",
       "    </tr>\n",
       "    <tr>\n",
       "      <th>6</th>\n",
       "      <td>Mark Wahlberg</td>\n",
       "      <td>41</td>\n",
       "    </tr>\n",
       "    <tr>\n",
       "      <th>7</th>\n",
       "      <td>Liam Neeson</td>\n",
       "      <td>40</td>\n",
       "    </tr>\n",
       "    <tr>\n",
       "      <th>8</th>\n",
       "      <td>Morgan Freeman</td>\n",
       "      <td>40</td>\n",
       "    </tr>\n",
       "    <tr>\n",
       "      <th>9</th>\n",
       "      <td>Adam Sandler</td>\n",
       "      <td>39</td>\n",
       "    </tr>\n",
       "  </tbody>\n",
       "</table>\n",
       "</div>"
      ],
      "text/plain": [
       "                name  total\n",
       "0     Robert De Niro     64\n",
       "1  Samuel L. Jackson     54\n",
       "2       Nicolas Cage     53\n",
       "3       Bruce Willis     49\n",
       "4          Tom Hanks     46\n",
       "5        Johnny Depp     43\n",
       "6      Mark Wahlberg     41\n",
       "7        Liam Neeson     40\n",
       "8     Morgan Freeman     40\n",
       "9       Adam Sandler     39"
      ]
     },
     "execution_count": 14,
     "metadata": {},
     "output_type": "execute_result"
    }
   ],
   "source": [
    "query_q2 = \"\"\"\n",
    "SELECT Name.primaryName AS name, total\n",
    "FROM (\n",
    "    SELECT COUNT(*) AS total, Role.nconst\n",
    "    FROM Role INNER JOIN Title\n",
    "    ON Role.tconst = Title.tconst\n",
    "    WHERE (Role.category = 'actor' OR Role.category = 'actress') AND Title.titleType = 'movie'\n",
    "    GROUP BY Role.nconst\n",
    ")AS actors,Name\n",
    "WHERE actors.nconst = Name.nconst\n",
    "ORDER BY total DESC, name ASC\n",
    "LIMIT 10;\n",
    "\"\"\"\n",
    "\n",
    "\n",
    "res_q2 = pd.read_sql(text(query_q2), connection)\n",
    "res_q2"
   ]
  },
  {
   "cell_type": "code",
   "execution_count": 15,
   "id": "9be5a545",
   "metadata": {},
   "outputs": [
    {
     "name": "stdout",
     "output_type": "stream",
     "text": [
      " * sqlite:///data/imdbmini.db\n",
      "Done.\n"
     ]
    },
    {
     "data": {
      "text/html": [
       "<table>\n",
       "    <thead>\n",
       "        <tr>\n",
       "            <th>name</th>\n",
       "            <th>total</th>\n",
       "        </tr>\n",
       "    </thead>\n",
       "    <tbody>\n",
       "        <tr>\n",
       "            <td>Robert De Niro</td>\n",
       "            <td>64</td>\n",
       "        </tr>\n",
       "        <tr>\n",
       "            <td>Samuel L. Jackson</td>\n",
       "            <td>54</td>\n",
       "        </tr>\n",
       "        <tr>\n",
       "            <td>Nicolas Cage</td>\n",
       "            <td>53</td>\n",
       "        </tr>\n",
       "        <tr>\n",
       "            <td>Bruce Willis</td>\n",
       "            <td>49</td>\n",
       "        </tr>\n",
       "        <tr>\n",
       "            <td>Tom Hanks</td>\n",
       "            <td>46</td>\n",
       "        </tr>\n",
       "        <tr>\n",
       "            <td>Johnny Depp</td>\n",
       "            <td>43</td>\n",
       "        </tr>\n",
       "        <tr>\n",
       "            <td>Mark Wahlberg</td>\n",
       "            <td>41</td>\n",
       "        </tr>\n",
       "        <tr>\n",
       "            <td>Liam Neeson</td>\n",
       "            <td>40</td>\n",
       "        </tr>\n",
       "        <tr>\n",
       "            <td>Morgan Freeman</td>\n",
       "            <td>40</td>\n",
       "        </tr>\n",
       "        <tr>\n",
       "            <td>Adam Sandler</td>\n",
       "            <td>39</td>\n",
       "        </tr>\n",
       "    </tbody>\n",
       "</table>"
      ],
      "text/plain": [
       "[('Robert De Niro', 64),\n",
       " ('Samuel L. Jackson', 54),\n",
       " ('Nicolas Cage', 53),\n",
       " ('Bruce Willis', 49),\n",
       " ('Tom Hanks', 46),\n",
       " ('Johnny Depp', 43),\n",
       " ('Mark Wahlberg', 41),\n",
       " ('Liam Neeson', 40),\n",
       " ('Morgan Freeman', 40),\n",
       " ('Adam Sandler', 39)]"
      ]
     },
     "execution_count": 15,
     "metadata": {},
     "output_type": "execute_result"
    }
   ],
   "source": [
    "%%sql\n",
    "SELECT Name.primaryName AS name, total\n",
    "FROM (\n",
    "    SELECT COUNT(*) AS total, Role.nconst\n",
    "    FROM Role INNER JOIN Title\n",
    "    ON Role.tconst = Title.tconst\n",
    "    WHERE (Role.category = 'actor' OR Role.category = 'actress') AND Title.titleType = 'movie'\n",
    "    GROUP BY Role.nconst\n",
    ")AS actors,Name\n",
    "WHERE actors.nconst = Name.nconst\n",
    "ORDER BY total DESC, name ASC\n",
    "LIMIT 10;"
   ]
  },
  {
   "cell_type": "code",
   "execution_count": 16,
   "id": "0952156d",
   "metadata": {
    "deletable": false,
    "editable": false
   },
   "outputs": [
    {
     "data": {
      "text/html": [
       "<p><strong><pre style='display: inline;'>q2</pre></strong> passed! 🎉</p>"
      ],
      "text/plain": [
       "q2 results: All test cases passed!"
      ]
     },
     "execution_count": 16,
     "metadata": {},
     "output_type": "execute_result"
    }
   ],
   "source": [
    "grader.check(\"q2\")"
   ]
  },
  {
   "cell_type": "code",
   "execution_count": 17,
   "id": "34a471ca",
   "metadata": {},
   "outputs": [
    {
     "data": {
      "text/plain": [
       "['Adam Sandler',\n",
       " 'Bruce Willis',\n",
       " 'Johnny Depp',\n",
       " 'Liam Neeson',\n",
       " 'Mark Wahlberg',\n",
       " 'Morgan Freeman',\n",
       " 'Nicolas Cage',\n",
       " 'Robert De Niro',\n",
       " 'Samuel L. Jackson',\n",
       " 'Tom Hanks']"
      ]
     },
     "execution_count": 17,
     "metadata": {},
     "output_type": "execute_result"
    }
   ],
   "source": [
    "sorted(list(res_q2['name']))"
   ]
  },
  {
   "cell_type": "markdown",
   "id": "8f34f7ca",
   "metadata": {
    "deletable": false,
    "editable": false
   },
   "source": [
    "<br/><br/>\n",
    "\n",
    "<hr style=\"border: 5px solid #003262;\" />\n",
    "<hr style=\"border: 1px solid #fdb515;\" />\n",
    "\n",
    "## Question 3: The `CASE` Keyword\n",
    "\n",
    "The `Rating` table has the `numVotes` and the `averageRating` for each title. Which **_movies_** were **\"big hits\"**, defined as a movie with over 100,000 votes? Construct the following table:\n",
    "\n",
    "| | isBigHit | total |\n",
    "|-----|-----|-----|\n",
    "|**0**| no | ???? |\n",
    "|**1**| yes | ???? |\n",
    "\n",
    "Where `????` is replaced with the correct values. The row with `no` should have the count for how many movies **are not** big hits, and the row with `yes` should have the count of how many movies **are** big hits.\n",
    "\n",
    "* Rating.numVotes currently consists of string objects, use `CAST(Rating.numVotes AS int)` to convert them to integer.\n",
    "* You will need to use  some type of `JOIN`.\n",
    "* You may also consider using a `CASE WHEN ... IS ... THEN 'yes' ... ELSE ... END` statement. `CASE` statements are the SQL-equivalent of Python `if... elif... else` statements. To read up on `CASE`, take a look at the following links:\n",
    "    - https://mode.com/sql-tutorial/sql-case/\n",
    "    - https://www.w3schools.com/sql/sql_ref_case.asp\n",
    "\n",
    "<!--\n",
    "BEGIN QUESTION\n",
    "name: q3\n",
    "manual: false\n",
    "points: 3\n",
    "-->"
   ]
  },
  {
   "cell_type": "code",
   "execution_count": 18,
   "id": "b5ce02c6",
   "metadata": {},
   "outputs": [
    {
     "data": {
      "text/html": [
       "<div>\n",
       "<style scoped>\n",
       "    .dataframe tbody tr th:only-of-type {\n",
       "        vertical-align: middle;\n",
       "    }\n",
       "\n",
       "    .dataframe tbody tr th {\n",
       "        vertical-align: top;\n",
       "    }\n",
       "\n",
       "    .dataframe thead th {\n",
       "        text-align: right;\n",
       "    }\n",
       "</style>\n",
       "<table border=\"1\" class=\"dataframe\">\n",
       "  <thead>\n",
       "    <tr style=\"text-align: right;\">\n",
       "      <th></th>\n",
       "      <th>isBigHit</th>\n",
       "      <th>total</th>\n",
       "    </tr>\n",
       "  </thead>\n",
       "  <tbody>\n",
       "    <tr>\n",
       "      <th>0</th>\n",
       "      <td>no</td>\n",
       "      <td>4318</td>\n",
       "    </tr>\n",
       "    <tr>\n",
       "      <th>1</th>\n",
       "      <td>yes</td>\n",
       "      <td>2041</td>\n",
       "    </tr>\n",
       "  </tbody>\n",
       "</table>\n",
       "</div>"
      ],
      "text/plain": [
       "  isBigHit  total\n",
       "0       no   4318\n",
       "1      yes   2041"
      ]
     },
     "execution_count": 18,
     "metadata": {},
     "output_type": "execute_result"
    }
   ],
   "source": [
    "query_q3 = \"\"\"\n",
    "SELECT CASE WHEN votes > 100000 THEN 'yes' ELSE 'no' END AS isBigHit,COUNT(*) AS total\n",
    "FROM (\n",
    "    SELECT Title.tconst, CAST(Rating.numVotes AS int) AS votes\n",
    "    FROM Title INNER JOIN Rating\n",
    "    ON Title.tconst = Rating.tconst\n",
    "    WHERE Title.titleType = 'movie'\n",
    ")\n",
    "GROUP BY isBigHit;\n",
    "\"\"\"\n",
    "\n",
    "\n",
    "res_q3 = pd.read_sql(text(query_q3), connection)\n",
    "res_q3"
   ]
  },
  {
   "cell_type": "code",
   "execution_count": 19,
   "id": "5fd8ee46",
   "metadata": {},
   "outputs": [
    {
     "name": "stdout",
     "output_type": "stream",
     "text": [
      " * sqlite:///data/imdbmini.db\n",
      "Done.\n"
     ]
    },
    {
     "data": {
      "text/html": [
       "<table>\n",
       "    <thead>\n",
       "        <tr>\n",
       "            <th>isBigHit</th>\n",
       "            <th>total</th>\n",
       "        </tr>\n",
       "    </thead>\n",
       "    <tbody>\n",
       "        <tr>\n",
       "            <td>no</td>\n",
       "            <td>4318</td>\n",
       "        </tr>\n",
       "        <tr>\n",
       "            <td>yes</td>\n",
       "            <td>2041</td>\n",
       "        </tr>\n",
       "    </tbody>\n",
       "</table>"
      ],
      "text/plain": [
       "[('no', 4318), ('yes', 2041)]"
      ]
     },
     "execution_count": 19,
     "metadata": {},
     "output_type": "execute_result"
    }
   ],
   "source": [
    "%%sql\n",
    "SELECT CASE WHEN votes > 100000 THEN 'yes' ELSE 'no' END AS isBigHit,COUNT(*) AS total\n",
    "FROM (\n",
    "    SELECT Title.tconst, CAST(Rating.numVotes AS int) AS votes\n",
    "    FROM Title INNER JOIN Rating\n",
    "    ON Title.tconst = Rating.tconst\n",
    "    WHERE Title.titleType = 'movie'\n",
    ")\n",
    "GROUP BY isBigHit;"
   ]
  },
  {
   "cell_type": "code",
   "execution_count": 20,
   "id": "d1926477",
   "metadata": {
    "deletable": false,
    "editable": false
   },
   "outputs": [
    {
     "data": {
      "text/html": [
       "<p><strong><pre style='display: inline;'>q3</pre></strong> passed! 🌈</p>"
      ],
      "text/plain": [
       "q3 results: All test cases passed!"
      ]
     },
     "execution_count": 20,
     "metadata": {},
     "output_type": "execute_result"
    }
   ],
   "source": [
    "grader.check(\"q3\")"
   ]
  },
  {
   "cell_type": "markdown",
   "id": "70170bc8",
   "metadata": {
    "deletable": false,
    "editable": false
   },
   "source": [
    "<br/><br/>\n",
    "\n",
    "<hr style=\"border: 5px solid #003262;\" />\n",
    "<hr style=\"border: 1px solid #fdb515;\" />\n",
    "\n",
    "## Question 4\n",
    "\n",
    "**How does film length relate to ratings?**  To answer this question we want to bin films by length and compute the average of the average ratings within each length bin. We will group movies by 10-minute increments -- that is, one bin for movies \\[0, 10) minutes long, another for \\[10, 20) minutes, another for \\[20, 30) minutes, and so on. Use the following code snippet to help construct 10-minute bins: \n",
    "\n",
    "```\n",
    "ROUND(runtimeMinutes / 10.0 + 0.5) * 10 AS runtimeBin\n",
    "```\n",
    "\n",
    "Construct a table containing the **`runtimeBin`**, the **average** of the **average ratings** (as `averageRating`), the **average number of votes** (as `averageNumVotes`), and the number of `titles` in that **runtimeBin** (as `total`).  Only include movies with **at least 10000 votes**.  Order the final results by the value of `runtimeBin`.\n",
    "\n",
    "<!--\n",
    "BEGIN QUESTION\n",
    "name: q4\n",
    "manual: false\n",
    "points: 4\n",
    "-->"
   ]
  },
  {
   "cell_type": "code",
   "execution_count": 21,
   "id": "05ee097b",
   "metadata": {},
   "outputs": [
    {
     "data": {
      "text/html": [
       "<div>\n",
       "<style scoped>\n",
       "    .dataframe tbody tr th:only-of-type {\n",
       "        vertical-align: middle;\n",
       "    }\n",
       "\n",
       "    .dataframe tbody tr th {\n",
       "        vertical-align: top;\n",
       "    }\n",
       "\n",
       "    .dataframe thead th {\n",
       "        text-align: right;\n",
       "    }\n",
       "</style>\n",
       "<table border=\"1\" class=\"dataframe\">\n",
       "  <thead>\n",
       "    <tr style=\"text-align: right;\">\n",
       "      <th></th>\n",
       "      <th>runtimeBin</th>\n",
       "      <th>averageRating</th>\n",
       "      <th>averageNumVotes</th>\n",
       "      <th>total</th>\n",
       "    </tr>\n",
       "  </thead>\n",
       "  <tbody>\n",
       "    <tr>\n",
       "      <th>0</th>\n",
       "      <td>50.0</td>\n",
       "      <td>7.850000</td>\n",
       "      <td>42535.000000</td>\n",
       "      <td>2</td>\n",
       "    </tr>\n",
       "    <tr>\n",
       "      <th>1</th>\n",
       "      <td>60.0</td>\n",
       "      <td>6.400000</td>\n",
       "      <td>30668.500000</td>\n",
       "      <td>2</td>\n",
       "    </tr>\n",
       "    <tr>\n",
       "      <th>2</th>\n",
       "      <td>70.0</td>\n",
       "      <td>7.600000</td>\n",
       "      <td>59822.000000</td>\n",
       "      <td>13</td>\n",
       "    </tr>\n",
       "    <tr>\n",
       "      <th>3</th>\n",
       "      <td>80.0</td>\n",
       "      <td>6.860937</td>\n",
       "      <td>67896.187500</td>\n",
       "      <td>64</td>\n",
       "    </tr>\n",
       "    <tr>\n",
       "      <th>4</th>\n",
       "      <td>90.0</td>\n",
       "      <td>6.283951</td>\n",
       "      <td>76907.608466</td>\n",
       "      <td>567</td>\n",
       "    </tr>\n",
       "  </tbody>\n",
       "</table>\n",
       "</div>"
      ],
      "text/plain": [
       "   runtimeBin  averageRating  averageNumVotes  total\n",
       "0        50.0       7.850000     42535.000000      2\n",
       "1        60.0       6.400000     30668.500000      2\n",
       "2        70.0       7.600000     59822.000000     13\n",
       "3        80.0       6.860937     67896.187500     64\n",
       "4        90.0       6.283951     76907.608466    567"
      ]
     },
     "execution_count": 21,
     "metadata": {},
     "output_type": "execute_result"
    }
   ],
   "source": [
    "query_q4 = \"\"\"\n",
    "SELECT ROUND(runtimeMinutes /10.0+0.5)*10 AS runtimeBin, AVG(averageRating) AS averageRating, AVG(numVotes) AS averageNumVotes, COUNT(*) AS total\n",
    "FROM Rating INNER JOIN Title\n",
    "ON Rating.tconst = Title.tconst\n",
    "WHERE numVotes >= 10000 AND titleType = 'movie'\n",
    "GROUP BY runtimeBin\n",
    "ORDER BY runtimeBin;\n",
    "\"\"\"\n",
    "\n",
    "\n",
    "res_q4 = pd.read_sql(text(query_q4), connection)\n",
    "res_q4.head()"
   ]
  },
  {
   "cell_type": "code",
   "execution_count": 22,
   "id": "7da1cf35",
   "metadata": {},
   "outputs": [
    {
     "name": "stdout",
     "output_type": "stream",
     "text": [
      " * sqlite:///data/imdbmini.db\n",
      "Done.\n"
     ]
    },
    {
     "data": {
      "text/html": [
       "<table>\n",
       "    <thead>\n",
       "        <tr>\n",
       "            <th>runtimeBin</th>\n",
       "            <th>averageRating</th>\n",
       "            <th>averageNumVotes</th>\n",
       "            <th>total</th>\n",
       "        </tr>\n",
       "    </thead>\n",
       "    <tbody>\n",
       "        <tr>\n",
       "            <td>50.0</td>\n",
       "            <td>7.85</td>\n",
       "            <td>42535.0</td>\n",
       "            <td>2</td>\n",
       "        </tr>\n",
       "        <tr>\n",
       "            <td>60.0</td>\n",
       "            <td>6.4</td>\n",
       "            <td>30668.5</td>\n",
       "            <td>2</td>\n",
       "        </tr>\n",
       "        <tr>\n",
       "            <td>70.0</td>\n",
       "            <td>7.599999999999999</td>\n",
       "            <td>59822.0</td>\n",
       "            <td>13</td>\n",
       "        </tr>\n",
       "        <tr>\n",
       "            <td>80.0</td>\n",
       "            <td>6.860937499999999</td>\n",
       "            <td>67896.1875</td>\n",
       "            <td>64</td>\n",
       "        </tr>\n",
       "        <tr>\n",
       "            <td>90.0</td>\n",
       "            <td>6.283950617283945</td>\n",
       "            <td>76907.60846560847</td>\n",
       "            <td>567</td>\n",
       "        </tr>\n",
       "        <tr>\n",
       "            <td>100.0</td>\n",
       "            <td>6.418263266712614</td>\n",
       "            <td>82147.24259131633</td>\n",
       "            <td>1451</td>\n",
       "        </tr>\n",
       "        <tr>\n",
       "            <td>110.0</td>\n",
       "            <td>6.573969780219782</td>\n",
       "            <td>99912.44093406593</td>\n",
       "            <td>1456</td>\n",
       "        </tr>\n",
       "        <tr>\n",
       "            <td>120.0</td>\n",
       "            <td>6.78316831683169</td>\n",
       "            <td>121878.85508550855</td>\n",
       "            <td>1111</td>\n",
       "        </tr>\n",
       "        <tr>\n",
       "            <td>130.0</td>\n",
       "            <td>7.039082058414474</td>\n",
       "            <td>152911.96801112656</td>\n",
       "            <td>719</td>\n",
       "        </tr>\n",
       "        <tr>\n",
       "            <td>140.0</td>\n",
       "            <td>7.184529147982065</td>\n",
       "            <td>181664.82511210762</td>\n",
       "            <td>446</td>\n",
       "        </tr>\n",
       "        <tr>\n",
       "            <td>150.0</td>\n",
       "            <td>7.33118811881188</td>\n",
       "            <td>246401.56435643564</td>\n",
       "            <td>202</td>\n",
       "        </tr>\n",
       "        <tr>\n",
       "            <td>160.0</td>\n",
       "            <td>7.277165354330711</td>\n",
       "            <td>218997.41732283463</td>\n",
       "            <td>127</td>\n",
       "        </tr>\n",
       "        <tr>\n",
       "            <td>170.0</td>\n",
       "            <td>7.426666666666665</td>\n",
       "            <td>268741.74666666664</td>\n",
       "            <td>75</td>\n",
       "        </tr>\n",
       "        <tr>\n",
       "            <td>180.0</td>\n",
       "            <td>7.777083333333331</td>\n",
       "            <td>238440.91666666666</td>\n",
       "            <td>48</td>\n",
       "        </tr>\n",
       "        <tr>\n",
       "            <td>190.0</td>\n",
       "            <td>7.703030303030303</td>\n",
       "            <td>192721.72727272726</td>\n",
       "            <td>33</td>\n",
       "        </tr>\n",
       "        <tr>\n",
       "            <td>200.0</td>\n",
       "            <td>7.5266666666666655</td>\n",
       "            <td>222178.93333333332</td>\n",
       "            <td>15</td>\n",
       "        </tr>\n",
       "        <tr>\n",
       "            <td>210.0</td>\n",
       "            <td>8.155555555555557</td>\n",
       "            <td>424845.3333333333</td>\n",
       "            <td>9</td>\n",
       "        </tr>\n",
       "        <tr>\n",
       "            <td>220.0</td>\n",
       "            <td>7.6499999999999995</td>\n",
       "            <td>77057.5</td>\n",
       "            <td>6</td>\n",
       "        </tr>\n",
       "        <tr>\n",
       "            <td>230.0</td>\n",
       "            <td>8.175</td>\n",
       "            <td>196062.25</td>\n",
       "            <td>4</td>\n",
       "        </tr>\n",
       "        <tr>\n",
       "            <td>240.0</td>\n",
       "            <td>8.1</td>\n",
       "            <td>301315.0</td>\n",
       "            <td>1</td>\n",
       "        </tr>\n",
       "        <tr>\n",
       "            <td>250.0</td>\n",
       "            <td>7.6000000000000005</td>\n",
       "            <td>133652.0</td>\n",
       "            <td>3</td>\n",
       "        </tr>\n",
       "        <tr>\n",
       "            <td>280.0</td>\n",
       "            <td>7.6</td>\n",
       "            <td>28216.0</td>\n",
       "            <td>1</td>\n",
       "        </tr>\n",
       "        <tr>\n",
       "            <td>290.0</td>\n",
       "            <td>7.4</td>\n",
       "            <td>45046.0</td>\n",
       "            <td>1</td>\n",
       "        </tr>\n",
       "        <tr>\n",
       "            <td>320.0</td>\n",
       "            <td>7.7</td>\n",
       "            <td>24701.0</td>\n",
       "            <td>1</td>\n",
       "        </tr>\n",
       "        <tr>\n",
       "            <td>330.0</td>\n",
       "            <td>8.2</td>\n",
       "            <td>89634.0</td>\n",
       "            <td>1</td>\n",
       "        </tr>\n",
       "        <tr>\n",
       "            <td>370.0</td>\n",
       "            <td>8.5</td>\n",
       "            <td>21371.0</td>\n",
       "            <td>1</td>\n",
       "        </tr>\n",
       "    </tbody>\n",
       "</table>"
      ],
      "text/plain": [
       "[(50.0, 7.85, 42535.0, 2),\n",
       " (60.0, 6.4, 30668.5, 2),\n",
       " (70.0, 7.599999999999999, 59822.0, 13),\n",
       " (80.0, 6.860937499999999, 67896.1875, 64),\n",
       " (90.0, 6.283950617283945, 76907.60846560847, 567),\n",
       " (100.0, 6.418263266712614, 82147.24259131633, 1451),\n",
       " (110.0, 6.573969780219782, 99912.44093406593, 1456),\n",
       " (120.0, 6.78316831683169, 121878.85508550855, 1111),\n",
       " (130.0, 7.039082058414474, 152911.96801112656, 719),\n",
       " (140.0, 7.184529147982065, 181664.82511210762, 446),\n",
       " (150.0, 7.33118811881188, 246401.56435643564, 202),\n",
       " (160.0, 7.277165354330711, 218997.41732283463, 127),\n",
       " (170.0, 7.426666666666665, 268741.74666666664, 75),\n",
       " (180.0, 7.777083333333331, 238440.91666666666, 48),\n",
       " (190.0, 7.703030303030303, 192721.72727272726, 33),\n",
       " (200.0, 7.5266666666666655, 222178.93333333332, 15),\n",
       " (210.0, 8.155555555555557, 424845.3333333333, 9),\n",
       " (220.0, 7.6499999999999995, 77057.5, 6),\n",
       " (230.0, 8.175, 196062.25, 4),\n",
       " (240.0, 8.1, 301315.0, 1),\n",
       " (250.0, 7.6000000000000005, 133652.0, 3),\n",
       " (280.0, 7.6, 28216.0, 1),\n",
       " (290.0, 7.4, 45046.0, 1),\n",
       " (320.0, 7.7, 24701.0, 1),\n",
       " (330.0, 8.2, 89634.0, 1),\n",
       " (370.0, 8.5, 21371.0, 1)]"
      ]
     },
     "execution_count": 22,
     "metadata": {},
     "output_type": "execute_result"
    }
   ],
   "source": [
    "%%sql\n",
    "SELECT ROUND(runtimeMinutes /10.0+0.5)*10 AS runtimeBin, AVG(averageRating) AS averageRating, AVG(numVotes) AS averageNumVotes, COUNT(*) AS total\n",
    "FROM Rating INNER JOIN Title\n",
    "ON Rating.tconst = Title.tconst\n",
    "WHERE numVotes >= 10000 AND titleType = 'movie'\n",
    "GROUP BY runtimeBin\n",
    "ORDER BY runtimeBin;"
   ]
  },
  {
   "cell_type": "code",
   "execution_count": 23,
   "id": "8175ffcb",
   "metadata": {
    "deletable": false,
    "editable": false
   },
   "outputs": [
    {
     "data": {
      "text/html": [
       "<p><strong><pre style='display: inline;'>q4</pre></strong> passed! 🍀</p>"
      ],
      "text/plain": [
       "q4 results: All test cases passed!"
      ]
     },
     "execution_count": 23,
     "metadata": {},
     "output_type": "execute_result"
    }
   ],
   "source": [
    "grader.check(\"q4\")"
   ]
  },
  {
   "cell_type": "markdown",
   "id": "e2842d1d",
   "metadata": {},
   "source": [
    "<br/>\n",
    "\n",
    "If your SQL query is correct you should get some interesting plots below.  This might explain why directors keep going a particular direction with film lengths.  "
   ]
  },
  {
   "cell_type": "code",
   "execution_count": 24,
   "id": "82cfc85e",
   "metadata": {},
   "outputs": [
    {
     "data": {
      "application/vnd.plotly.v1+json": {
       "config": {
        "plotlyServerURL": "https://plot.ly"
       },
       "data": [
        {
         "alignmentgroup": "True",
         "hovertemplate": "runtimeBin=%{x}<br>total=%{y}<extra></extra>",
         "legendgroup": "",
         "marker": {
          "color": "#636efa",
          "pattern": {
           "shape": ""
          }
         },
         "name": "",
         "offsetgroup": "",
         "orientation": "v",
         "showlegend": false,
         "textposition": "auto",
         "type": "bar",
         "x": [
          50,
          60,
          70,
          80,
          90,
          100,
          110,
          120,
          130,
          140,
          150,
          160,
          170,
          180,
          190,
          200,
          210,
          220,
          230,
          240,
          250,
          280,
          290,
          320,
          330,
          370
         ],
         "xaxis": "x",
         "y": [
          2,
          2,
          13,
          64,
          567,
          1451,
          1456,
          1111,
          719,
          446,
          202,
          127,
          75,
          48,
          33,
          15,
          9,
          6,
          4,
          1,
          3,
          1,
          1,
          1,
          1,
          1
         ],
         "yaxis": "y"
        }
       ],
       "layout": {
        "barmode": "relative",
        "legend": {
         "tracegroupgap": 0
        },
        "template": {
         "data": {
          "bar": [
           {
            "error_x": {
             "color": "#2a3f5f"
            },
            "error_y": {
             "color": "#2a3f5f"
            },
            "marker": {
             "line": {
              "color": "#E5ECF6",
              "width": 0.5
             },
             "pattern": {
              "fillmode": "overlay",
              "size": 10,
              "solidity": 0.2
             }
            },
            "type": "bar"
           }
          ],
          "barpolar": [
           {
            "marker": {
             "line": {
              "color": "#E5ECF6",
              "width": 0.5
             },
             "pattern": {
              "fillmode": "overlay",
              "size": 10,
              "solidity": 0.2
             }
            },
            "type": "barpolar"
           }
          ],
          "carpet": [
           {
            "aaxis": {
             "endlinecolor": "#2a3f5f",
             "gridcolor": "white",
             "linecolor": "white",
             "minorgridcolor": "white",
             "startlinecolor": "#2a3f5f"
            },
            "baxis": {
             "endlinecolor": "#2a3f5f",
             "gridcolor": "white",
             "linecolor": "white",
             "minorgridcolor": "white",
             "startlinecolor": "#2a3f5f"
            },
            "type": "carpet"
           }
          ],
          "choropleth": [
           {
            "colorbar": {
             "outlinewidth": 0,
             "ticks": ""
            },
            "type": "choropleth"
           }
          ],
          "contour": [
           {
            "colorbar": {
             "outlinewidth": 0,
             "ticks": ""
            },
            "colorscale": [
             [
              0,
              "#0d0887"
             ],
             [
              0.1111111111111111,
              "#46039f"
             ],
             [
              0.2222222222222222,
              "#7201a8"
             ],
             [
              0.3333333333333333,
              "#9c179e"
             ],
             [
              0.4444444444444444,
              "#bd3786"
             ],
             [
              0.5555555555555556,
              "#d8576b"
             ],
             [
              0.6666666666666666,
              "#ed7953"
             ],
             [
              0.7777777777777778,
              "#fb9f3a"
             ],
             [
              0.8888888888888888,
              "#fdca26"
             ],
             [
              1,
              "#f0f921"
             ]
            ],
            "type": "contour"
           }
          ],
          "contourcarpet": [
           {
            "colorbar": {
             "outlinewidth": 0,
             "ticks": ""
            },
            "type": "contourcarpet"
           }
          ],
          "heatmap": [
           {
            "colorbar": {
             "outlinewidth": 0,
             "ticks": ""
            },
            "colorscale": [
             [
              0,
              "#0d0887"
             ],
             [
              0.1111111111111111,
              "#46039f"
             ],
             [
              0.2222222222222222,
              "#7201a8"
             ],
             [
              0.3333333333333333,
              "#9c179e"
             ],
             [
              0.4444444444444444,
              "#bd3786"
             ],
             [
              0.5555555555555556,
              "#d8576b"
             ],
             [
              0.6666666666666666,
              "#ed7953"
             ],
             [
              0.7777777777777778,
              "#fb9f3a"
             ],
             [
              0.8888888888888888,
              "#fdca26"
             ],
             [
              1,
              "#f0f921"
             ]
            ],
            "type": "heatmap"
           }
          ],
          "heatmapgl": [
           {
            "colorbar": {
             "outlinewidth": 0,
             "ticks": ""
            },
            "colorscale": [
             [
              0,
              "#0d0887"
             ],
             [
              0.1111111111111111,
              "#46039f"
             ],
             [
              0.2222222222222222,
              "#7201a8"
             ],
             [
              0.3333333333333333,
              "#9c179e"
             ],
             [
              0.4444444444444444,
              "#bd3786"
             ],
             [
              0.5555555555555556,
              "#d8576b"
             ],
             [
              0.6666666666666666,
              "#ed7953"
             ],
             [
              0.7777777777777778,
              "#fb9f3a"
             ],
             [
              0.8888888888888888,
              "#fdca26"
             ],
             [
              1,
              "#f0f921"
             ]
            ],
            "type": "heatmapgl"
           }
          ],
          "histogram": [
           {
            "marker": {
             "pattern": {
              "fillmode": "overlay",
              "size": 10,
              "solidity": 0.2
             }
            },
            "type": "histogram"
           }
          ],
          "histogram2d": [
           {
            "colorbar": {
             "outlinewidth": 0,
             "ticks": ""
            },
            "colorscale": [
             [
              0,
              "#0d0887"
             ],
             [
              0.1111111111111111,
              "#46039f"
             ],
             [
              0.2222222222222222,
              "#7201a8"
             ],
             [
              0.3333333333333333,
              "#9c179e"
             ],
             [
              0.4444444444444444,
              "#bd3786"
             ],
             [
              0.5555555555555556,
              "#d8576b"
             ],
             [
              0.6666666666666666,
              "#ed7953"
             ],
             [
              0.7777777777777778,
              "#fb9f3a"
             ],
             [
              0.8888888888888888,
              "#fdca26"
             ],
             [
              1,
              "#f0f921"
             ]
            ],
            "type": "histogram2d"
           }
          ],
          "histogram2dcontour": [
           {
            "colorbar": {
             "outlinewidth": 0,
             "ticks": ""
            },
            "colorscale": [
             [
              0,
              "#0d0887"
             ],
             [
              0.1111111111111111,
              "#46039f"
             ],
             [
              0.2222222222222222,
              "#7201a8"
             ],
             [
              0.3333333333333333,
              "#9c179e"
             ],
             [
              0.4444444444444444,
              "#bd3786"
             ],
             [
              0.5555555555555556,
              "#d8576b"
             ],
             [
              0.6666666666666666,
              "#ed7953"
             ],
             [
              0.7777777777777778,
              "#fb9f3a"
             ],
             [
              0.8888888888888888,
              "#fdca26"
             ],
             [
              1,
              "#f0f921"
             ]
            ],
            "type": "histogram2dcontour"
           }
          ],
          "mesh3d": [
           {
            "colorbar": {
             "outlinewidth": 0,
             "ticks": ""
            },
            "type": "mesh3d"
           }
          ],
          "parcoords": [
           {
            "line": {
             "colorbar": {
              "outlinewidth": 0,
              "ticks": ""
             }
            },
            "type": "parcoords"
           }
          ],
          "pie": [
           {
            "automargin": true,
            "type": "pie"
           }
          ],
          "scatter": [
           {
            "fillpattern": {
             "fillmode": "overlay",
             "size": 10,
             "solidity": 0.2
            },
            "type": "scatter"
           }
          ],
          "scatter3d": [
           {
            "line": {
             "colorbar": {
              "outlinewidth": 0,
              "ticks": ""
             }
            },
            "marker": {
             "colorbar": {
              "outlinewidth": 0,
              "ticks": ""
             }
            },
            "type": "scatter3d"
           }
          ],
          "scattercarpet": [
           {
            "marker": {
             "colorbar": {
              "outlinewidth": 0,
              "ticks": ""
             }
            },
            "type": "scattercarpet"
           }
          ],
          "scattergeo": [
           {
            "marker": {
             "colorbar": {
              "outlinewidth": 0,
              "ticks": ""
             }
            },
            "type": "scattergeo"
           }
          ],
          "scattergl": [
           {
            "marker": {
             "colorbar": {
              "outlinewidth": 0,
              "ticks": ""
             }
            },
            "type": "scattergl"
           }
          ],
          "scattermapbox": [
           {
            "marker": {
             "colorbar": {
              "outlinewidth": 0,
              "ticks": ""
             }
            },
            "type": "scattermapbox"
           }
          ],
          "scatterpolar": [
           {
            "marker": {
             "colorbar": {
              "outlinewidth": 0,
              "ticks": ""
             }
            },
            "type": "scatterpolar"
           }
          ],
          "scatterpolargl": [
           {
            "marker": {
             "colorbar": {
              "outlinewidth": 0,
              "ticks": ""
             }
            },
            "type": "scatterpolargl"
           }
          ],
          "scatterternary": [
           {
            "marker": {
             "colorbar": {
              "outlinewidth": 0,
              "ticks": ""
             }
            },
            "type": "scatterternary"
           }
          ],
          "surface": [
           {
            "colorbar": {
             "outlinewidth": 0,
             "ticks": ""
            },
            "colorscale": [
             [
              0,
              "#0d0887"
             ],
             [
              0.1111111111111111,
              "#46039f"
             ],
             [
              0.2222222222222222,
              "#7201a8"
             ],
             [
              0.3333333333333333,
              "#9c179e"
             ],
             [
              0.4444444444444444,
              "#bd3786"
             ],
             [
              0.5555555555555556,
              "#d8576b"
             ],
             [
              0.6666666666666666,
              "#ed7953"
             ],
             [
              0.7777777777777778,
              "#fb9f3a"
             ],
             [
              0.8888888888888888,
              "#fdca26"
             ],
             [
              1,
              "#f0f921"
             ]
            ],
            "type": "surface"
           }
          ],
          "table": [
           {
            "cells": {
             "fill": {
              "color": "#EBF0F8"
             },
             "line": {
              "color": "white"
             }
            },
            "header": {
             "fill": {
              "color": "#C8D4E3"
             },
             "line": {
              "color": "white"
             }
            },
            "type": "table"
           }
          ]
         },
         "layout": {
          "annotationdefaults": {
           "arrowcolor": "#2a3f5f",
           "arrowhead": 0,
           "arrowwidth": 1
          },
          "autotypenumbers": "strict",
          "coloraxis": {
           "colorbar": {
            "outlinewidth": 0,
            "ticks": ""
           }
          },
          "colorscale": {
           "diverging": [
            [
             0,
             "#8e0152"
            ],
            [
             0.1,
             "#c51b7d"
            ],
            [
             0.2,
             "#de77ae"
            ],
            [
             0.3,
             "#f1b6da"
            ],
            [
             0.4,
             "#fde0ef"
            ],
            [
             0.5,
             "#f7f7f7"
            ],
            [
             0.6,
             "#e6f5d0"
            ],
            [
             0.7,
             "#b8e186"
            ],
            [
             0.8,
             "#7fbc41"
            ],
            [
             0.9,
             "#4d9221"
            ],
            [
             1,
             "#276419"
            ]
           ],
           "sequential": [
            [
             0,
             "#0d0887"
            ],
            [
             0.1111111111111111,
             "#46039f"
            ],
            [
             0.2222222222222222,
             "#7201a8"
            ],
            [
             0.3333333333333333,
             "#9c179e"
            ],
            [
             0.4444444444444444,
             "#bd3786"
            ],
            [
             0.5555555555555556,
             "#d8576b"
            ],
            [
             0.6666666666666666,
             "#ed7953"
            ],
            [
             0.7777777777777778,
             "#fb9f3a"
            ],
            [
             0.8888888888888888,
             "#fdca26"
            ],
            [
             1,
             "#f0f921"
            ]
           ],
           "sequentialminus": [
            [
             0,
             "#0d0887"
            ],
            [
             0.1111111111111111,
             "#46039f"
            ],
            [
             0.2222222222222222,
             "#7201a8"
            ],
            [
             0.3333333333333333,
             "#9c179e"
            ],
            [
             0.4444444444444444,
             "#bd3786"
            ],
            [
             0.5555555555555556,
             "#d8576b"
            ],
            [
             0.6666666666666666,
             "#ed7953"
            ],
            [
             0.7777777777777778,
             "#fb9f3a"
            ],
            [
             0.8888888888888888,
             "#fdca26"
            ],
            [
             1,
             "#f0f921"
            ]
           ]
          },
          "colorway": [
           "#636efa",
           "#EF553B",
           "#00cc96",
           "#ab63fa",
           "#FFA15A",
           "#19d3f3",
           "#FF6692",
           "#B6E880",
           "#FF97FF",
           "#FECB52"
          ],
          "font": {
           "color": "#2a3f5f"
          },
          "geo": {
           "bgcolor": "white",
           "lakecolor": "white",
           "landcolor": "#E5ECF6",
           "showlakes": true,
           "showland": true,
           "subunitcolor": "white"
          },
          "hoverlabel": {
           "align": "left"
          },
          "hovermode": "closest",
          "mapbox": {
           "style": "light"
          },
          "paper_bgcolor": "white",
          "plot_bgcolor": "#E5ECF6",
          "polar": {
           "angularaxis": {
            "gridcolor": "white",
            "linecolor": "white",
            "ticks": ""
           },
           "bgcolor": "#E5ECF6",
           "radialaxis": {
            "gridcolor": "white",
            "linecolor": "white",
            "ticks": ""
           }
          },
          "scene": {
           "xaxis": {
            "backgroundcolor": "#E5ECF6",
            "gridcolor": "white",
            "gridwidth": 2,
            "linecolor": "white",
            "showbackground": true,
            "ticks": "",
            "zerolinecolor": "white"
           },
           "yaxis": {
            "backgroundcolor": "#E5ECF6",
            "gridcolor": "white",
            "gridwidth": 2,
            "linecolor": "white",
            "showbackground": true,
            "ticks": "",
            "zerolinecolor": "white"
           },
           "zaxis": {
            "backgroundcolor": "#E5ECF6",
            "gridcolor": "white",
            "gridwidth": 2,
            "linecolor": "white",
            "showbackground": true,
            "ticks": "",
            "zerolinecolor": "white"
           }
          },
          "shapedefaults": {
           "line": {
            "color": "#2a3f5f"
           }
          },
          "ternary": {
           "aaxis": {
            "gridcolor": "white",
            "linecolor": "white",
            "ticks": ""
           },
           "baxis": {
            "gridcolor": "white",
            "linecolor": "white",
            "ticks": ""
           },
           "bgcolor": "#E5ECF6",
           "caxis": {
            "gridcolor": "white",
            "linecolor": "white",
            "ticks": ""
           }
          },
          "title": {
           "x": 0.05
          },
          "xaxis": {
           "automargin": true,
           "gridcolor": "white",
           "linecolor": "white",
           "ticks": "",
           "title": {
            "standoff": 15
           },
           "zerolinecolor": "white",
           "zerolinewidth": 2
          },
          "yaxis": {
           "automargin": true,
           "gridcolor": "white",
           "linecolor": "white",
           "ticks": "",
           "title": {
            "standoff": 15
           },
           "zerolinecolor": "white",
           "zerolinewidth": 2
          }
         }
        },
        "title": {
         "text": "Distribution of Movie Runtimes"
        },
        "xaxis": {
         "anchor": "y",
         "domain": [
          0,
          1
         ],
         "title": {
          "text": "runtimeBin"
         }
        },
        "yaxis": {
         "anchor": "x",
         "domain": [
          0,
          1
         ],
         "title": {
          "text": "total"
         }
        }
       }
      }
     },
     "metadata": {},
     "output_type": "display_data"
    }
   ],
   "source": [
    "# just run this cell\n",
    "px.bar(res_q4, x=\"runtimeBin\", y=\"total\",\n",
    "       title=\"Distribution of Movie Runtimes\")"
   ]
  },
  {
   "cell_type": "code",
   "execution_count": 25,
   "id": "53359403",
   "metadata": {},
   "outputs": [
    {
     "data": {
      "application/vnd.plotly.v1+json": {
       "config": {
        "plotlyServerURL": "https://plot.ly"
       },
       "data": [
        {
         "hovertemplate": "runtimeBin=%{x}<br>averageRating=%{y}<extra></extra>",
         "legendgroup": "",
         "line": {
          "color": "#636efa",
          "dash": "solid"
         },
         "marker": {
          "symbol": "circle"
         },
         "mode": "lines",
         "name": "",
         "orientation": "v",
         "showlegend": false,
         "type": "scatter",
         "x": [
          50,
          60,
          70,
          80,
          90,
          100,
          110,
          120,
          130,
          140,
          150,
          160,
          170,
          180,
          190,
          200,
          210,
          220,
          230,
          240,
          250,
          280,
          290,
          320,
          330,
          370
         ],
         "xaxis": "x",
         "y": [
          7.85,
          6.4,
          7.599999999999999,
          6.860937499999999,
          6.283950617283945,
          6.418263266712614,
          6.573969780219782,
          6.78316831683169,
          7.039082058414474,
          7.184529147982065,
          7.33118811881188,
          7.277165354330711,
          7.426666666666665,
          7.777083333333331,
          7.703030303030303,
          7.5266666666666655,
          8.155555555555557,
          7.6499999999999995,
          8.175,
          8.1,
          7.6000000000000005,
          7.6,
          7.4,
          7.7,
          8.2,
          8.5
         ],
         "yaxis": "y"
        }
       ],
       "layout": {
        "legend": {
         "tracegroupgap": 0
        },
        "template": {
         "data": {
          "bar": [
           {
            "error_x": {
             "color": "#2a3f5f"
            },
            "error_y": {
             "color": "#2a3f5f"
            },
            "marker": {
             "line": {
              "color": "#E5ECF6",
              "width": 0.5
             },
             "pattern": {
              "fillmode": "overlay",
              "size": 10,
              "solidity": 0.2
             }
            },
            "type": "bar"
           }
          ],
          "barpolar": [
           {
            "marker": {
             "line": {
              "color": "#E5ECF6",
              "width": 0.5
             },
             "pattern": {
              "fillmode": "overlay",
              "size": 10,
              "solidity": 0.2
             }
            },
            "type": "barpolar"
           }
          ],
          "carpet": [
           {
            "aaxis": {
             "endlinecolor": "#2a3f5f",
             "gridcolor": "white",
             "linecolor": "white",
             "minorgridcolor": "white",
             "startlinecolor": "#2a3f5f"
            },
            "baxis": {
             "endlinecolor": "#2a3f5f",
             "gridcolor": "white",
             "linecolor": "white",
             "minorgridcolor": "white",
             "startlinecolor": "#2a3f5f"
            },
            "type": "carpet"
           }
          ],
          "choropleth": [
           {
            "colorbar": {
             "outlinewidth": 0,
             "ticks": ""
            },
            "type": "choropleth"
           }
          ],
          "contour": [
           {
            "colorbar": {
             "outlinewidth": 0,
             "ticks": ""
            },
            "colorscale": [
             [
              0,
              "#0d0887"
             ],
             [
              0.1111111111111111,
              "#46039f"
             ],
             [
              0.2222222222222222,
              "#7201a8"
             ],
             [
              0.3333333333333333,
              "#9c179e"
             ],
             [
              0.4444444444444444,
              "#bd3786"
             ],
             [
              0.5555555555555556,
              "#d8576b"
             ],
             [
              0.6666666666666666,
              "#ed7953"
             ],
             [
              0.7777777777777778,
              "#fb9f3a"
             ],
             [
              0.8888888888888888,
              "#fdca26"
             ],
             [
              1,
              "#f0f921"
             ]
            ],
            "type": "contour"
           }
          ],
          "contourcarpet": [
           {
            "colorbar": {
             "outlinewidth": 0,
             "ticks": ""
            },
            "type": "contourcarpet"
           }
          ],
          "heatmap": [
           {
            "colorbar": {
             "outlinewidth": 0,
             "ticks": ""
            },
            "colorscale": [
             [
              0,
              "#0d0887"
             ],
             [
              0.1111111111111111,
              "#46039f"
             ],
             [
              0.2222222222222222,
              "#7201a8"
             ],
             [
              0.3333333333333333,
              "#9c179e"
             ],
             [
              0.4444444444444444,
              "#bd3786"
             ],
             [
              0.5555555555555556,
              "#d8576b"
             ],
             [
              0.6666666666666666,
              "#ed7953"
             ],
             [
              0.7777777777777778,
              "#fb9f3a"
             ],
             [
              0.8888888888888888,
              "#fdca26"
             ],
             [
              1,
              "#f0f921"
             ]
            ],
            "type": "heatmap"
           }
          ],
          "heatmapgl": [
           {
            "colorbar": {
             "outlinewidth": 0,
             "ticks": ""
            },
            "colorscale": [
             [
              0,
              "#0d0887"
             ],
             [
              0.1111111111111111,
              "#46039f"
             ],
             [
              0.2222222222222222,
              "#7201a8"
             ],
             [
              0.3333333333333333,
              "#9c179e"
             ],
             [
              0.4444444444444444,
              "#bd3786"
             ],
             [
              0.5555555555555556,
              "#d8576b"
             ],
             [
              0.6666666666666666,
              "#ed7953"
             ],
             [
              0.7777777777777778,
              "#fb9f3a"
             ],
             [
              0.8888888888888888,
              "#fdca26"
             ],
             [
              1,
              "#f0f921"
             ]
            ],
            "type": "heatmapgl"
           }
          ],
          "histogram": [
           {
            "marker": {
             "pattern": {
              "fillmode": "overlay",
              "size": 10,
              "solidity": 0.2
             }
            },
            "type": "histogram"
           }
          ],
          "histogram2d": [
           {
            "colorbar": {
             "outlinewidth": 0,
             "ticks": ""
            },
            "colorscale": [
             [
              0,
              "#0d0887"
             ],
             [
              0.1111111111111111,
              "#46039f"
             ],
             [
              0.2222222222222222,
              "#7201a8"
             ],
             [
              0.3333333333333333,
              "#9c179e"
             ],
             [
              0.4444444444444444,
              "#bd3786"
             ],
             [
              0.5555555555555556,
              "#d8576b"
             ],
             [
              0.6666666666666666,
              "#ed7953"
             ],
             [
              0.7777777777777778,
              "#fb9f3a"
             ],
             [
              0.8888888888888888,
              "#fdca26"
             ],
             [
              1,
              "#f0f921"
             ]
            ],
            "type": "histogram2d"
           }
          ],
          "histogram2dcontour": [
           {
            "colorbar": {
             "outlinewidth": 0,
             "ticks": ""
            },
            "colorscale": [
             [
              0,
              "#0d0887"
             ],
             [
              0.1111111111111111,
              "#46039f"
             ],
             [
              0.2222222222222222,
              "#7201a8"
             ],
             [
              0.3333333333333333,
              "#9c179e"
             ],
             [
              0.4444444444444444,
              "#bd3786"
             ],
             [
              0.5555555555555556,
              "#d8576b"
             ],
             [
              0.6666666666666666,
              "#ed7953"
             ],
             [
              0.7777777777777778,
              "#fb9f3a"
             ],
             [
              0.8888888888888888,
              "#fdca26"
             ],
             [
              1,
              "#f0f921"
             ]
            ],
            "type": "histogram2dcontour"
           }
          ],
          "mesh3d": [
           {
            "colorbar": {
             "outlinewidth": 0,
             "ticks": ""
            },
            "type": "mesh3d"
           }
          ],
          "parcoords": [
           {
            "line": {
             "colorbar": {
              "outlinewidth": 0,
              "ticks": ""
             }
            },
            "type": "parcoords"
           }
          ],
          "pie": [
           {
            "automargin": true,
            "type": "pie"
           }
          ],
          "scatter": [
           {
            "fillpattern": {
             "fillmode": "overlay",
             "size": 10,
             "solidity": 0.2
            },
            "type": "scatter"
           }
          ],
          "scatter3d": [
           {
            "line": {
             "colorbar": {
              "outlinewidth": 0,
              "ticks": ""
             }
            },
            "marker": {
             "colorbar": {
              "outlinewidth": 0,
              "ticks": ""
             }
            },
            "type": "scatter3d"
           }
          ],
          "scattercarpet": [
           {
            "marker": {
             "colorbar": {
              "outlinewidth": 0,
              "ticks": ""
             }
            },
            "type": "scattercarpet"
           }
          ],
          "scattergeo": [
           {
            "marker": {
             "colorbar": {
              "outlinewidth": 0,
              "ticks": ""
             }
            },
            "type": "scattergeo"
           }
          ],
          "scattergl": [
           {
            "marker": {
             "colorbar": {
              "outlinewidth": 0,
              "ticks": ""
             }
            },
            "type": "scattergl"
           }
          ],
          "scattermapbox": [
           {
            "marker": {
             "colorbar": {
              "outlinewidth": 0,
              "ticks": ""
             }
            },
            "type": "scattermapbox"
           }
          ],
          "scatterpolar": [
           {
            "marker": {
             "colorbar": {
              "outlinewidth": 0,
              "ticks": ""
             }
            },
            "type": "scatterpolar"
           }
          ],
          "scatterpolargl": [
           {
            "marker": {
             "colorbar": {
              "outlinewidth": 0,
              "ticks": ""
             }
            },
            "type": "scatterpolargl"
           }
          ],
          "scatterternary": [
           {
            "marker": {
             "colorbar": {
              "outlinewidth": 0,
              "ticks": ""
             }
            },
            "type": "scatterternary"
           }
          ],
          "surface": [
           {
            "colorbar": {
             "outlinewidth": 0,
             "ticks": ""
            },
            "colorscale": [
             [
              0,
              "#0d0887"
             ],
             [
              0.1111111111111111,
              "#46039f"
             ],
             [
              0.2222222222222222,
              "#7201a8"
             ],
             [
              0.3333333333333333,
              "#9c179e"
             ],
             [
              0.4444444444444444,
              "#bd3786"
             ],
             [
              0.5555555555555556,
              "#d8576b"
             ],
             [
              0.6666666666666666,
              "#ed7953"
             ],
             [
              0.7777777777777778,
              "#fb9f3a"
             ],
             [
              0.8888888888888888,
              "#fdca26"
             ],
             [
              1,
              "#f0f921"
             ]
            ],
            "type": "surface"
           }
          ],
          "table": [
           {
            "cells": {
             "fill": {
              "color": "#EBF0F8"
             },
             "line": {
              "color": "white"
             }
            },
            "header": {
             "fill": {
              "color": "#C8D4E3"
             },
             "line": {
              "color": "white"
             }
            },
            "type": "table"
           }
          ]
         },
         "layout": {
          "annotationdefaults": {
           "arrowcolor": "#2a3f5f",
           "arrowhead": 0,
           "arrowwidth": 1
          },
          "autotypenumbers": "strict",
          "coloraxis": {
           "colorbar": {
            "outlinewidth": 0,
            "ticks": ""
           }
          },
          "colorscale": {
           "diverging": [
            [
             0,
             "#8e0152"
            ],
            [
             0.1,
             "#c51b7d"
            ],
            [
             0.2,
             "#de77ae"
            ],
            [
             0.3,
             "#f1b6da"
            ],
            [
             0.4,
             "#fde0ef"
            ],
            [
             0.5,
             "#f7f7f7"
            ],
            [
             0.6,
             "#e6f5d0"
            ],
            [
             0.7,
             "#b8e186"
            ],
            [
             0.8,
             "#7fbc41"
            ],
            [
             0.9,
             "#4d9221"
            ],
            [
             1,
             "#276419"
            ]
           ],
           "sequential": [
            [
             0,
             "#0d0887"
            ],
            [
             0.1111111111111111,
             "#46039f"
            ],
            [
             0.2222222222222222,
             "#7201a8"
            ],
            [
             0.3333333333333333,
             "#9c179e"
            ],
            [
             0.4444444444444444,
             "#bd3786"
            ],
            [
             0.5555555555555556,
             "#d8576b"
            ],
            [
             0.6666666666666666,
             "#ed7953"
            ],
            [
             0.7777777777777778,
             "#fb9f3a"
            ],
            [
             0.8888888888888888,
             "#fdca26"
            ],
            [
             1,
             "#f0f921"
            ]
           ],
           "sequentialminus": [
            [
             0,
             "#0d0887"
            ],
            [
             0.1111111111111111,
             "#46039f"
            ],
            [
             0.2222222222222222,
             "#7201a8"
            ],
            [
             0.3333333333333333,
             "#9c179e"
            ],
            [
             0.4444444444444444,
             "#bd3786"
            ],
            [
             0.5555555555555556,
             "#d8576b"
            ],
            [
             0.6666666666666666,
             "#ed7953"
            ],
            [
             0.7777777777777778,
             "#fb9f3a"
            ],
            [
             0.8888888888888888,
             "#fdca26"
            ],
            [
             1,
             "#f0f921"
            ]
           ]
          },
          "colorway": [
           "#636efa",
           "#EF553B",
           "#00cc96",
           "#ab63fa",
           "#FFA15A",
           "#19d3f3",
           "#FF6692",
           "#B6E880",
           "#FF97FF",
           "#FECB52"
          ],
          "font": {
           "color": "#2a3f5f"
          },
          "geo": {
           "bgcolor": "white",
           "lakecolor": "white",
           "landcolor": "#E5ECF6",
           "showlakes": true,
           "showland": true,
           "subunitcolor": "white"
          },
          "hoverlabel": {
           "align": "left"
          },
          "hovermode": "closest",
          "mapbox": {
           "style": "light"
          },
          "paper_bgcolor": "white",
          "plot_bgcolor": "#E5ECF6",
          "polar": {
           "angularaxis": {
            "gridcolor": "white",
            "linecolor": "white",
            "ticks": ""
           },
           "bgcolor": "#E5ECF6",
           "radialaxis": {
            "gridcolor": "white",
            "linecolor": "white",
            "ticks": ""
           }
          },
          "scene": {
           "xaxis": {
            "backgroundcolor": "#E5ECF6",
            "gridcolor": "white",
            "gridwidth": 2,
            "linecolor": "white",
            "showbackground": true,
            "ticks": "",
            "zerolinecolor": "white"
           },
           "yaxis": {
            "backgroundcolor": "#E5ECF6",
            "gridcolor": "white",
            "gridwidth": 2,
            "linecolor": "white",
            "showbackground": true,
            "ticks": "",
            "zerolinecolor": "white"
           },
           "zaxis": {
            "backgroundcolor": "#E5ECF6",
            "gridcolor": "white",
            "gridwidth": 2,
            "linecolor": "white",
            "showbackground": true,
            "ticks": "",
            "zerolinecolor": "white"
           }
          },
          "shapedefaults": {
           "line": {
            "color": "#2a3f5f"
           }
          },
          "ternary": {
           "aaxis": {
            "gridcolor": "white",
            "linecolor": "white",
            "ticks": ""
           },
           "baxis": {
            "gridcolor": "white",
            "linecolor": "white",
            "ticks": ""
           },
           "bgcolor": "#E5ECF6",
           "caxis": {
            "gridcolor": "white",
            "linecolor": "white",
            "ticks": ""
           }
          },
          "title": {
           "x": 0.05
          },
          "xaxis": {
           "automargin": true,
           "gridcolor": "white",
           "linecolor": "white",
           "ticks": "",
           "title": {
            "standoff": 15
           },
           "zerolinecolor": "white",
           "zerolinewidth": 2
          },
          "yaxis": {
           "automargin": true,
           "gridcolor": "white",
           "linecolor": "white",
           "ticks": "",
           "title": {
            "standoff": 15
           },
           "zerolinecolor": "white",
           "zerolinewidth": 2
          }
         }
        },
        "title": {
         "text": "Movie Ratings vs. Runtime"
        },
        "xaxis": {
         "anchor": "y",
         "domain": [
          0,
          1
         ],
         "title": {
          "text": "runtimeBin"
         }
        },
        "yaxis": {
         "anchor": "x",
         "domain": [
          0,
          1
         ],
         "title": {
          "text": "averageRating"
         }
        }
       }
      }
     },
     "metadata": {},
     "output_type": "display_data"
    }
   ],
   "source": [
    "# just run this cell\n",
    "px.line(res_q4, x=\"runtimeBin\", y=\"averageRating\",\n",
    "        title=\"Movie Ratings vs. Runtime\")"
   ]
  },
  {
   "cell_type": "code",
   "execution_count": 26,
   "id": "5d843fb3",
   "metadata": {},
   "outputs": [
    {
     "data": {
      "application/vnd.plotly.v1+json": {
       "config": {
        "plotlyServerURL": "https://plot.ly"
       },
       "data": [
        {
         "hovertemplate": "runtimeBin=%{x}<br>averageNumVotes=%{y}<extra></extra>",
         "legendgroup": "",
         "line": {
          "color": "#636efa",
          "dash": "solid"
         },
         "marker": {
          "symbol": "circle"
         },
         "mode": "lines",
         "name": "",
         "orientation": "v",
         "showlegend": false,
         "type": "scatter",
         "x": [
          50,
          60,
          70,
          80,
          90,
          100,
          110,
          120,
          130,
          140,
          150,
          160,
          170,
          180,
          190,
          200,
          210,
          220,
          230,
          240,
          250,
          280,
          290,
          320,
          330,
          370
         ],
         "xaxis": "x",
         "y": [
          42535,
          30668.5,
          59822,
          67896.1875,
          76907.60846560847,
          82147.24259131633,
          99912.44093406593,
          121878.85508550855,
          152911.96801112656,
          181664.82511210762,
          246401.56435643564,
          218997.41732283463,
          268741.74666666664,
          238440.91666666666,
          192721.72727272726,
          222178.93333333332,
          424845.3333333333,
          77057.5,
          196062.25,
          301315,
          133652,
          28216,
          45046,
          24701,
          89634,
          21371
         ],
         "yaxis": "y"
        }
       ],
       "layout": {
        "legend": {
         "tracegroupgap": 0
        },
        "template": {
         "data": {
          "bar": [
           {
            "error_x": {
             "color": "#2a3f5f"
            },
            "error_y": {
             "color": "#2a3f5f"
            },
            "marker": {
             "line": {
              "color": "#E5ECF6",
              "width": 0.5
             },
             "pattern": {
              "fillmode": "overlay",
              "size": 10,
              "solidity": 0.2
             }
            },
            "type": "bar"
           }
          ],
          "barpolar": [
           {
            "marker": {
             "line": {
              "color": "#E5ECF6",
              "width": 0.5
             },
             "pattern": {
              "fillmode": "overlay",
              "size": 10,
              "solidity": 0.2
             }
            },
            "type": "barpolar"
           }
          ],
          "carpet": [
           {
            "aaxis": {
             "endlinecolor": "#2a3f5f",
             "gridcolor": "white",
             "linecolor": "white",
             "minorgridcolor": "white",
             "startlinecolor": "#2a3f5f"
            },
            "baxis": {
             "endlinecolor": "#2a3f5f",
             "gridcolor": "white",
             "linecolor": "white",
             "minorgridcolor": "white",
             "startlinecolor": "#2a3f5f"
            },
            "type": "carpet"
           }
          ],
          "choropleth": [
           {
            "colorbar": {
             "outlinewidth": 0,
             "ticks": ""
            },
            "type": "choropleth"
           }
          ],
          "contour": [
           {
            "colorbar": {
             "outlinewidth": 0,
             "ticks": ""
            },
            "colorscale": [
             [
              0,
              "#0d0887"
             ],
             [
              0.1111111111111111,
              "#46039f"
             ],
             [
              0.2222222222222222,
              "#7201a8"
             ],
             [
              0.3333333333333333,
              "#9c179e"
             ],
             [
              0.4444444444444444,
              "#bd3786"
             ],
             [
              0.5555555555555556,
              "#d8576b"
             ],
             [
              0.6666666666666666,
              "#ed7953"
             ],
             [
              0.7777777777777778,
              "#fb9f3a"
             ],
             [
              0.8888888888888888,
              "#fdca26"
             ],
             [
              1,
              "#f0f921"
             ]
            ],
            "type": "contour"
           }
          ],
          "contourcarpet": [
           {
            "colorbar": {
             "outlinewidth": 0,
             "ticks": ""
            },
            "type": "contourcarpet"
           }
          ],
          "heatmap": [
           {
            "colorbar": {
             "outlinewidth": 0,
             "ticks": ""
            },
            "colorscale": [
             [
              0,
              "#0d0887"
             ],
             [
              0.1111111111111111,
              "#46039f"
             ],
             [
              0.2222222222222222,
              "#7201a8"
             ],
             [
              0.3333333333333333,
              "#9c179e"
             ],
             [
              0.4444444444444444,
              "#bd3786"
             ],
             [
              0.5555555555555556,
              "#d8576b"
             ],
             [
              0.6666666666666666,
              "#ed7953"
             ],
             [
              0.7777777777777778,
              "#fb9f3a"
             ],
             [
              0.8888888888888888,
              "#fdca26"
             ],
             [
              1,
              "#f0f921"
             ]
            ],
            "type": "heatmap"
           }
          ],
          "heatmapgl": [
           {
            "colorbar": {
             "outlinewidth": 0,
             "ticks": ""
            },
            "colorscale": [
             [
              0,
              "#0d0887"
             ],
             [
              0.1111111111111111,
              "#46039f"
             ],
             [
              0.2222222222222222,
              "#7201a8"
             ],
             [
              0.3333333333333333,
              "#9c179e"
             ],
             [
              0.4444444444444444,
              "#bd3786"
             ],
             [
              0.5555555555555556,
              "#d8576b"
             ],
             [
              0.6666666666666666,
              "#ed7953"
             ],
             [
              0.7777777777777778,
              "#fb9f3a"
             ],
             [
              0.8888888888888888,
              "#fdca26"
             ],
             [
              1,
              "#f0f921"
             ]
            ],
            "type": "heatmapgl"
           }
          ],
          "histogram": [
           {
            "marker": {
             "pattern": {
              "fillmode": "overlay",
              "size": 10,
              "solidity": 0.2
             }
            },
            "type": "histogram"
           }
          ],
          "histogram2d": [
           {
            "colorbar": {
             "outlinewidth": 0,
             "ticks": ""
            },
            "colorscale": [
             [
              0,
              "#0d0887"
             ],
             [
              0.1111111111111111,
              "#46039f"
             ],
             [
              0.2222222222222222,
              "#7201a8"
             ],
             [
              0.3333333333333333,
              "#9c179e"
             ],
             [
              0.4444444444444444,
              "#bd3786"
             ],
             [
              0.5555555555555556,
              "#d8576b"
             ],
             [
              0.6666666666666666,
              "#ed7953"
             ],
             [
              0.7777777777777778,
              "#fb9f3a"
             ],
             [
              0.8888888888888888,
              "#fdca26"
             ],
             [
              1,
              "#f0f921"
             ]
            ],
            "type": "histogram2d"
           }
          ],
          "histogram2dcontour": [
           {
            "colorbar": {
             "outlinewidth": 0,
             "ticks": ""
            },
            "colorscale": [
             [
              0,
              "#0d0887"
             ],
             [
              0.1111111111111111,
              "#46039f"
             ],
             [
              0.2222222222222222,
              "#7201a8"
             ],
             [
              0.3333333333333333,
              "#9c179e"
             ],
             [
              0.4444444444444444,
              "#bd3786"
             ],
             [
              0.5555555555555556,
              "#d8576b"
             ],
             [
              0.6666666666666666,
              "#ed7953"
             ],
             [
              0.7777777777777778,
              "#fb9f3a"
             ],
             [
              0.8888888888888888,
              "#fdca26"
             ],
             [
              1,
              "#f0f921"
             ]
            ],
            "type": "histogram2dcontour"
           }
          ],
          "mesh3d": [
           {
            "colorbar": {
             "outlinewidth": 0,
             "ticks": ""
            },
            "type": "mesh3d"
           }
          ],
          "parcoords": [
           {
            "line": {
             "colorbar": {
              "outlinewidth": 0,
              "ticks": ""
             }
            },
            "type": "parcoords"
           }
          ],
          "pie": [
           {
            "automargin": true,
            "type": "pie"
           }
          ],
          "scatter": [
           {
            "fillpattern": {
             "fillmode": "overlay",
             "size": 10,
             "solidity": 0.2
            },
            "type": "scatter"
           }
          ],
          "scatter3d": [
           {
            "line": {
             "colorbar": {
              "outlinewidth": 0,
              "ticks": ""
             }
            },
            "marker": {
             "colorbar": {
              "outlinewidth": 0,
              "ticks": ""
             }
            },
            "type": "scatter3d"
           }
          ],
          "scattercarpet": [
           {
            "marker": {
             "colorbar": {
              "outlinewidth": 0,
              "ticks": ""
             }
            },
            "type": "scattercarpet"
           }
          ],
          "scattergeo": [
           {
            "marker": {
             "colorbar": {
              "outlinewidth": 0,
              "ticks": ""
             }
            },
            "type": "scattergeo"
           }
          ],
          "scattergl": [
           {
            "marker": {
             "colorbar": {
              "outlinewidth": 0,
              "ticks": ""
             }
            },
            "type": "scattergl"
           }
          ],
          "scattermapbox": [
           {
            "marker": {
             "colorbar": {
              "outlinewidth": 0,
              "ticks": ""
             }
            },
            "type": "scattermapbox"
           }
          ],
          "scatterpolar": [
           {
            "marker": {
             "colorbar": {
              "outlinewidth": 0,
              "ticks": ""
             }
            },
            "type": "scatterpolar"
           }
          ],
          "scatterpolargl": [
           {
            "marker": {
             "colorbar": {
              "outlinewidth": 0,
              "ticks": ""
             }
            },
            "type": "scatterpolargl"
           }
          ],
          "scatterternary": [
           {
            "marker": {
             "colorbar": {
              "outlinewidth": 0,
              "ticks": ""
             }
            },
            "type": "scatterternary"
           }
          ],
          "surface": [
           {
            "colorbar": {
             "outlinewidth": 0,
             "ticks": ""
            },
            "colorscale": [
             [
              0,
              "#0d0887"
             ],
             [
              0.1111111111111111,
              "#46039f"
             ],
             [
              0.2222222222222222,
              "#7201a8"
             ],
             [
              0.3333333333333333,
              "#9c179e"
             ],
             [
              0.4444444444444444,
              "#bd3786"
             ],
             [
              0.5555555555555556,
              "#d8576b"
             ],
             [
              0.6666666666666666,
              "#ed7953"
             ],
             [
              0.7777777777777778,
              "#fb9f3a"
             ],
             [
              0.8888888888888888,
              "#fdca26"
             ],
             [
              1,
              "#f0f921"
             ]
            ],
            "type": "surface"
           }
          ],
          "table": [
           {
            "cells": {
             "fill": {
              "color": "#EBF0F8"
             },
             "line": {
              "color": "white"
             }
            },
            "header": {
             "fill": {
              "color": "#C8D4E3"
             },
             "line": {
              "color": "white"
             }
            },
            "type": "table"
           }
          ]
         },
         "layout": {
          "annotationdefaults": {
           "arrowcolor": "#2a3f5f",
           "arrowhead": 0,
           "arrowwidth": 1
          },
          "autotypenumbers": "strict",
          "coloraxis": {
           "colorbar": {
            "outlinewidth": 0,
            "ticks": ""
           }
          },
          "colorscale": {
           "diverging": [
            [
             0,
             "#8e0152"
            ],
            [
             0.1,
             "#c51b7d"
            ],
            [
             0.2,
             "#de77ae"
            ],
            [
             0.3,
             "#f1b6da"
            ],
            [
             0.4,
             "#fde0ef"
            ],
            [
             0.5,
             "#f7f7f7"
            ],
            [
             0.6,
             "#e6f5d0"
            ],
            [
             0.7,
             "#b8e186"
            ],
            [
             0.8,
             "#7fbc41"
            ],
            [
             0.9,
             "#4d9221"
            ],
            [
             1,
             "#276419"
            ]
           ],
           "sequential": [
            [
             0,
             "#0d0887"
            ],
            [
             0.1111111111111111,
             "#46039f"
            ],
            [
             0.2222222222222222,
             "#7201a8"
            ],
            [
             0.3333333333333333,
             "#9c179e"
            ],
            [
             0.4444444444444444,
             "#bd3786"
            ],
            [
             0.5555555555555556,
             "#d8576b"
            ],
            [
             0.6666666666666666,
             "#ed7953"
            ],
            [
             0.7777777777777778,
             "#fb9f3a"
            ],
            [
             0.8888888888888888,
             "#fdca26"
            ],
            [
             1,
             "#f0f921"
            ]
           ],
           "sequentialminus": [
            [
             0,
             "#0d0887"
            ],
            [
             0.1111111111111111,
             "#46039f"
            ],
            [
             0.2222222222222222,
             "#7201a8"
            ],
            [
             0.3333333333333333,
             "#9c179e"
            ],
            [
             0.4444444444444444,
             "#bd3786"
            ],
            [
             0.5555555555555556,
             "#d8576b"
            ],
            [
             0.6666666666666666,
             "#ed7953"
            ],
            [
             0.7777777777777778,
             "#fb9f3a"
            ],
            [
             0.8888888888888888,
             "#fdca26"
            ],
            [
             1,
             "#f0f921"
            ]
           ]
          },
          "colorway": [
           "#636efa",
           "#EF553B",
           "#00cc96",
           "#ab63fa",
           "#FFA15A",
           "#19d3f3",
           "#FF6692",
           "#B6E880",
           "#FF97FF",
           "#FECB52"
          ],
          "font": {
           "color": "#2a3f5f"
          },
          "geo": {
           "bgcolor": "white",
           "lakecolor": "white",
           "landcolor": "#E5ECF6",
           "showlakes": true,
           "showland": true,
           "subunitcolor": "white"
          },
          "hoverlabel": {
           "align": "left"
          },
          "hovermode": "closest",
          "mapbox": {
           "style": "light"
          },
          "paper_bgcolor": "white",
          "plot_bgcolor": "#E5ECF6",
          "polar": {
           "angularaxis": {
            "gridcolor": "white",
            "linecolor": "white",
            "ticks": ""
           },
           "bgcolor": "#E5ECF6",
           "radialaxis": {
            "gridcolor": "white",
            "linecolor": "white",
            "ticks": ""
           }
          },
          "scene": {
           "xaxis": {
            "backgroundcolor": "#E5ECF6",
            "gridcolor": "white",
            "gridwidth": 2,
            "linecolor": "white",
            "showbackground": true,
            "ticks": "",
            "zerolinecolor": "white"
           },
           "yaxis": {
            "backgroundcolor": "#E5ECF6",
            "gridcolor": "white",
            "gridwidth": 2,
            "linecolor": "white",
            "showbackground": true,
            "ticks": "",
            "zerolinecolor": "white"
           },
           "zaxis": {
            "backgroundcolor": "#E5ECF6",
            "gridcolor": "white",
            "gridwidth": 2,
            "linecolor": "white",
            "showbackground": true,
            "ticks": "",
            "zerolinecolor": "white"
           }
          },
          "shapedefaults": {
           "line": {
            "color": "#2a3f5f"
           }
          },
          "ternary": {
           "aaxis": {
            "gridcolor": "white",
            "linecolor": "white",
            "ticks": ""
           },
           "baxis": {
            "gridcolor": "white",
            "linecolor": "white",
            "ticks": ""
           },
           "bgcolor": "#E5ECF6",
           "caxis": {
            "gridcolor": "white",
            "linecolor": "white",
            "ticks": ""
           }
          },
          "title": {
           "x": 0.05
          },
          "xaxis": {
           "automargin": true,
           "gridcolor": "white",
           "linecolor": "white",
           "ticks": "",
           "title": {
            "standoff": 15
           },
           "zerolinecolor": "white",
           "zerolinewidth": 2
          },
          "yaxis": {
           "automargin": true,
           "gridcolor": "white",
           "linecolor": "white",
           "ticks": "",
           "title": {
            "standoff": 15
           },
           "zerolinecolor": "white",
           "zerolinewidth": 2
          }
         }
        },
        "title": {
         "text": "Movie Number of Votes vs. Runtime"
        },
        "xaxis": {
         "anchor": "y",
         "domain": [
          0,
          1
         ],
         "title": {
          "text": "runtimeBin"
         }
        },
        "yaxis": {
         "anchor": "x",
         "domain": [
          0,
          1
         ],
         "title": {
          "text": "averageNumVotes"
         }
        }
       }
      }
     },
     "metadata": {},
     "output_type": "display_data"
    }
   ],
   "source": [
    "px.line(res_q4, x=\"runtimeBin\", y=\"averageNumVotes\",\n",
    "        title=\"Movie Number of Votes vs. Runtime\")"
   ]
  },
  {
   "cell_type": "markdown",
   "id": "f1b6f3f9",
   "metadata": {
    "deletable": false,
    "editable": false,
    "tags": []
   },
   "source": [
    "<br/><br/>\n",
    "\n",
    "<hr style=\"border: 5px solid #003262;\" />\n",
    "<hr style=\"border: 1px solid #fdb515;\" />\n",
    "\n",
    "## Question 5\n",
    "\n",
    "\n",
    "Which **movie actors** have the highest average ratings across all the **movies** in which they star? Again, define \"movie actor\" as anyone with an `actor` or `actress` job category role in a `movie` title.\n",
    "\n",
    "Construct a table consisting of the **movie actor's name**  (as `name`) and their **average actor rating** (as `actorRating`) computed by rescaling ratings for movies in which they had a role:\n",
    "\n",
    "$$\n",
    "\\text{actorRating} = \n",
    "\\frac{\\sum_m \\text{averageRating}[m] * \\text{numVotes}[m]}{\\sum_m \\text{numVotes}[m]}\n",
    "$$\n",
    "\n",
    "Some notes:\n",
    "* Note that if an actor/actress has multiple `role` listings for a film then that film will have a bigger impact in the overall average (this is desired).\n",
    "* ***The query should take < 3 minutes to run.***\n",
    "* Only consider ratings where there are **at least 1000** votes and only consider movie actors that have **at least 20 rated performances**. Present the movie actors with the **top 10** `actorRating` in descending order and break ties alphabetically using the movie actor's name.\n",
    "\n",
    "The results should look something like this but without the `????`, and with higher rating precision.\n",
    "\n",
    "| | name | actorRating |\n",
    "|-----|-----|-----|\n",
    "|**0**|????|8.4413...|\n",
    "|**1**|????|8.2473...|\n",
    "|**2**|????|8.1383...|\n",
    "|**3**|????|8.1339...|\n",
    "|**4**|????|8.0349...|\n",
    "|**5**|????|7.9898...|\n",
    "|**6**|????|7.9464...|\n",
    "|**7**|????|7.9330...|\n",
    "|**8**|????|7.9261...|\n",
    "|**9**|????|7.8668...|\n",
    "\n",
    "\n",
    "<!--\n",
    "BEGIN QUESTION\n",
    "name: q5\n",
    "manual: false\n",
    "points: 4\n",
    "-->"
   ]
  },
  {
   "cell_type": "code",
   "execution_count": 27,
   "id": "edc817b2",
   "metadata": {},
   "outputs": [
    {
     "data": {
      "text/html": [
       "<div>\n",
       "<style scoped>\n",
       "    .dataframe tbody tr th:only-of-type {\n",
       "        vertical-align: middle;\n",
       "    }\n",
       "\n",
       "    .dataframe tbody tr th {\n",
       "        vertical-align: top;\n",
       "    }\n",
       "\n",
       "    .dataframe thead th {\n",
       "        text-align: right;\n",
       "    }\n",
       "</style>\n",
       "<table border=\"1\" class=\"dataframe\">\n",
       "  <thead>\n",
       "    <tr style=\"text-align: right;\">\n",
       "      <th></th>\n",
       "      <th>name</th>\n",
       "      <th>actorRating</th>\n",
       "    </tr>\n",
       "  </thead>\n",
       "  <tbody>\n",
       "    <tr>\n",
       "      <th>0</th>\n",
       "      <td>Diane Keaton</td>\n",
       "      <td>8.441302</td>\n",
       "    </tr>\n",
       "    <tr>\n",
       "      <th>1</th>\n",
       "      <td>Tim Robbins</td>\n",
       "      <td>8.247318</td>\n",
       "    </tr>\n",
       "    <tr>\n",
       "      <th>2</th>\n",
       "      <td>Al Pacino</td>\n",
       "      <td>8.138361</td>\n",
       "    </tr>\n",
       "    <tr>\n",
       "      <th>3</th>\n",
       "      <td>Michael Caine</td>\n",
       "      <td>8.133915</td>\n",
       "    </tr>\n",
       "    <tr>\n",
       "      <th>4</th>\n",
       "      <td>Leonardo DiCaprio</td>\n",
       "      <td>8.034961</td>\n",
       "    </tr>\n",
       "    <tr>\n",
       "      <th>5</th>\n",
       "      <td>Christian Bale</td>\n",
       "      <td>7.989825</td>\n",
       "    </tr>\n",
       "    <tr>\n",
       "      <th>6</th>\n",
       "      <td>Robert Duvall</td>\n",
       "      <td>7.946483</td>\n",
       "    </tr>\n",
       "    <tr>\n",
       "      <th>7</th>\n",
       "      <td>Jack Nicholson</td>\n",
       "      <td>7.933034</td>\n",
       "    </tr>\n",
       "    <tr>\n",
       "      <th>8</th>\n",
       "      <td>Kevin Spacey</td>\n",
       "      <td>7.926158</td>\n",
       "    </tr>\n",
       "    <tr>\n",
       "      <th>9</th>\n",
       "      <td>Clint Eastwood</td>\n",
       "      <td>7.866839</td>\n",
       "    </tr>\n",
       "  </tbody>\n",
       "</table>\n",
       "</div>"
      ],
      "text/plain": [
       "                name  actorRating\n",
       "0       Diane Keaton     8.441302\n",
       "1        Tim Robbins     8.247318\n",
       "2          Al Pacino     8.138361\n",
       "3      Michael Caine     8.133915\n",
       "4  Leonardo DiCaprio     8.034961\n",
       "5     Christian Bale     7.989825\n",
       "6      Robert Duvall     7.946483\n",
       "7     Jack Nicholson     7.933034\n",
       "8       Kevin Spacey     7.926158\n",
       "9     Clint Eastwood     7.866839"
      ]
     },
     "execution_count": 27,
     "metadata": {},
     "output_type": "execute_result"
    }
   ],
   "source": [
    "query_q5 = \"\"\"\n",
    "SELECT Name.primaryName AS name,SUM(MovieActors.averageRating*MovieActors.numVotes)/SUM(MovieActors.numVotes) AS actorRating\n",
    "    FROM Name INNER JOIN (\n",
    "        SELECT Role.nconst,movies.*\n",
    "        FROM Role INNER JOIN (\n",
    "            SELECT Rating.*\n",
    "            FROM Rating INNER JOIN Title\n",
    "            ON Rating.tconst = Title.tconst\n",
    "            WHERE Title.titleType = 'movie' AND Rating.numVotes >= 1000\n",
    "        ) AS movies\n",
    "        ON Role.tconst = movies.tconst\n",
    "        WHERE Role.category = 'actor' OR Role.category = 'actress'\n",
    "    )AS MovieActors\n",
    "    ON Name.nconst = MovieActors.nconst\n",
    "    GROUP BY Name.nconst\n",
    "    HAVING COUNT(*) >= 20 \n",
    "    ORDER BY actorRating DESC, name ASC\n",
    "    LIMIT 10;\n",
    "\"\"\"\n",
    "\n",
    "\n",
    "res_q5 = pd.read_sql(text(query_q5), connection)\n",
    "res_q5"
   ]
  },
  {
   "cell_type": "code",
   "execution_count": 28,
   "id": "00d6dee6",
   "metadata": {},
   "outputs": [
    {
     "name": "stdout",
     "output_type": "stream",
     "text": [
      " * sqlite:///data/imdbmini.db\n",
      "Done.\n"
     ]
    },
    {
     "data": {
      "text/html": [
       "<table>\n",
       "    <thead>\n",
       "        <tr>\n",
       "            <th>name</th>\n",
       "            <th>actorRating</th>\n",
       "        </tr>\n",
       "    </thead>\n",
       "    <tbody>\n",
       "        <tr>\n",
       "            <td>Diane Keaton</td>\n",
       "            <td>8.441302223858013</td>\n",
       "        </tr>\n",
       "        <tr>\n",
       "            <td>Tim Robbins</td>\n",
       "            <td>8.247318384970836</td>\n",
       "        </tr>\n",
       "        <tr>\n",
       "            <td>Al Pacino</td>\n",
       "            <td>8.138361195580254</td>\n",
       "        </tr>\n",
       "        <tr>\n",
       "            <td>Michael Caine</td>\n",
       "            <td>8.13391512838329</td>\n",
       "        </tr>\n",
       "        <tr>\n",
       "            <td>Leonardo DiCaprio</td>\n",
       "            <td>8.034960968967019</td>\n",
       "        </tr>\n",
       "        <tr>\n",
       "            <td>Christian Bale</td>\n",
       "            <td>7.989825204141808</td>\n",
       "        </tr>\n",
       "        <tr>\n",
       "            <td>Robert Duvall</td>\n",
       "            <td>7.9464826692188995</td>\n",
       "        </tr>\n",
       "        <tr>\n",
       "            <td>Jack Nicholson</td>\n",
       "            <td>7.933033651440138</td>\n",
       "        </tr>\n",
       "        <tr>\n",
       "            <td>Kevin Spacey</td>\n",
       "            <td>7.926157790005811</td>\n",
       "        </tr>\n",
       "        <tr>\n",
       "            <td>Clint Eastwood</td>\n",
       "            <td>7.8668385210673994</td>\n",
       "        </tr>\n",
       "    </tbody>\n",
       "</table>"
      ],
      "text/plain": [
       "[('Diane Keaton', 8.441302223858013),\n",
       " ('Tim Robbins', 8.247318384970836),\n",
       " ('Al Pacino', 8.138361195580254),\n",
       " ('Michael Caine', 8.13391512838329),\n",
       " ('Leonardo DiCaprio', 8.034960968967019),\n",
       " ('Christian Bale', 7.989825204141808),\n",
       " ('Robert Duvall', 7.9464826692188995),\n",
       " ('Jack Nicholson', 7.933033651440138),\n",
       " ('Kevin Spacey', 7.926157790005811),\n",
       " ('Clint Eastwood', 7.8668385210673994)]"
      ]
     },
     "execution_count": 28,
     "metadata": {},
     "output_type": "execute_result"
    }
   ],
   "source": [
    "%%sql\n",
    "\n",
    "SELECT Name.primaryName AS name,SUM(MovieActors.averageRating*MovieActors.numVotes)/SUM(MovieActors.numVotes) AS actorRating\n",
    "    FROM Name INNER JOIN (\n",
    "        SELECT Role.nconst,movies.*\n",
    "        FROM Role INNER JOIN (\n",
    "            SELECT Rating.*\n",
    "            FROM Rating INNER JOIN Title\n",
    "            ON Rating.tconst = Title.tconst\n",
    "            WHERE Title.titleType = 'movie' AND Rating.numVotes >= 1000\n",
    "        ) AS movies\n",
    "        ON Role.tconst = movies.tconst\n",
    "        WHERE Role.category = 'actor' OR Role.category = 'actress'\n",
    "    )AS MovieActors\n",
    "    ON Name.nconst = MovieActors.nconst\n",
    "    GROUP BY Name.nconst\n",
    "    HAVING COUNT(*) >= 20 \n",
    "    ORDER BY actorRating DESC, name ASC\n",
    "    LIMIT 10;"
   ]
  },
  {
   "cell_type": "code",
   "execution_count": 29,
   "id": "305a22bf",
   "metadata": {
    "deletable": false,
    "editable": false
   },
   "outputs": [
    {
     "data": {
      "text/html": [
       "<p><strong><pre style='display: inline;'>q5</pre></strong> passed! 🎉</p>"
      ],
      "text/plain": [
       "q5 results: All test cases passed!"
      ]
     },
     "execution_count": 29,
     "metadata": {},
     "output_type": "execute_result"
    }
   ],
   "source": [
    "grader.check(\"q5\")"
   ]
  },
  {
   "cell_type": "markdown",
   "id": "0e73463e",
   "metadata": {
    "tags": []
   },
   "source": [
    "<br/><br/><br/>\n",
    "\n",
    "---\n",
    "<hr style=\"border: 5px solid #003262;\" />\n",
    "<hr style=\"border: 1px solid #fdb515;\" />\n",
    "\n",
    "---\n",
    "\n",
    "<a id='part-2'></a>\n",
    "# Part 2: U.S. Presidential Elections By State\n",
    "\n",
    "(Click [here](#top) to jump back to the top of this notebook.)\n",
    "\n",
    "The second part of this homework focuses on a new dataset. If you haven't worked with Principal Component Analysis before, we highly encourage you to take a look at the PCA lab first. PCA really shines on data where you have reason to believe that the data is relatively low in rank. \n",
    "\n",
    "We'll look at how states voted in presidential elections between 1972 and 2016. **Our ultimate goal in this part is to show how 2D PCA scatterplots can allow us to identify clusters in a high dimensional dataset.** For this example, that means finding groups of states that vote similarly by plotting their 1st and 2nd principal components.\n",
    "\n",
    "<br/><br/>\n",
    "\n",
    "<hr style=\"border: 5px solid #003262;\" />\n",
    "<hr style=\"border: 1px solid #fdb515;\" />\n",
    "\n",
    "## Question 6\n",
    "\n",
    "We explore a dataset on U.S. Presidential Elections by State since 1789, as taken from [Wikipedia](https://en.wikipedia.org/wiki/List_of_United_States_presidential_election_results_by_state)."
   ]
  },
  {
   "cell_type": "code",
   "execution_count": 30,
   "id": "573eff8f",
   "metadata": {
    "scrolled": true
   },
   "outputs": [
    {
     "data": {
      "text/html": [
       "<div>\n",
       "<style scoped>\n",
       "    .dataframe tbody tr th:only-of-type {\n",
       "        vertical-align: middle;\n",
       "    }\n",
       "\n",
       "    .dataframe tbody tr th {\n",
       "        vertical-align: top;\n",
       "    }\n",
       "\n",
       "    .dataframe thead th {\n",
       "        text-align: right;\n",
       "    }\n",
       "</style>\n",
       "<table border=\"1\" class=\"dataframe\">\n",
       "  <thead>\n",
       "    <tr style=\"text-align: right;\">\n",
       "      <th></th>\n",
       "      <th>State</th>\n",
       "      <th>1789</th>\n",
       "      <th>1792</th>\n",
       "      <th>1796</th>\n",
       "      <th>1800 †</th>\n",
       "      <th>Unnamed: 5</th>\n",
       "      <th>1804</th>\n",
       "      <th>1808</th>\n",
       "      <th>1812</th>\n",
       "      <th>1816</th>\n",
       "      <th>...</th>\n",
       "      <th>1992</th>\n",
       "      <th>1996</th>\n",
       "      <th>2000 ‡</th>\n",
       "      <th>Unnamed: 60</th>\n",
       "      <th>2004</th>\n",
       "      <th>2008</th>\n",
       "      <th>2012</th>\n",
       "      <th>2016 ‡</th>\n",
       "      <th>2020</th>\n",
       "      <th>State.1</th>\n",
       "    </tr>\n",
       "  </thead>\n",
       "  <tbody>\n",
       "    <tr>\n",
       "      <th>0</th>\n",
       "      <td>Alabama</td>\n",
       "      <td>NaN</td>\n",
       "      <td>NaN</td>\n",
       "      <td>NaN</td>\n",
       "      <td>NaN</td>\n",
       "      <td>NaN</td>\n",
       "      <td>NaN</td>\n",
       "      <td>NaN</td>\n",
       "      <td>NaN</td>\n",
       "      <td>NaN</td>\n",
       "      <td>...</td>\n",
       "      <td>R</td>\n",
       "      <td>R</td>\n",
       "      <td>R</td>\n",
       "      <td>NaN</td>\n",
       "      <td>R</td>\n",
       "      <td>R</td>\n",
       "      <td>R</td>\n",
       "      <td>R</td>\n",
       "      <td>R</td>\n",
       "      <td>Alabama</td>\n",
       "    </tr>\n",
       "    <tr>\n",
       "      <th>1</th>\n",
       "      <td>Alaska</td>\n",
       "      <td>NaN</td>\n",
       "      <td>NaN</td>\n",
       "      <td>NaN</td>\n",
       "      <td>NaN</td>\n",
       "      <td>NaN</td>\n",
       "      <td>NaN</td>\n",
       "      <td>NaN</td>\n",
       "      <td>NaN</td>\n",
       "      <td>NaN</td>\n",
       "      <td>...</td>\n",
       "      <td>R</td>\n",
       "      <td>R</td>\n",
       "      <td>R</td>\n",
       "      <td>NaN</td>\n",
       "      <td>R</td>\n",
       "      <td>R</td>\n",
       "      <td>R</td>\n",
       "      <td>R</td>\n",
       "      <td>R</td>\n",
       "      <td>Alaska</td>\n",
       "    </tr>\n",
       "    <tr>\n",
       "      <th>2</th>\n",
       "      <td>Arizona</td>\n",
       "      <td>NaN</td>\n",
       "      <td>NaN</td>\n",
       "      <td>NaN</td>\n",
       "      <td>NaN</td>\n",
       "      <td>NaN</td>\n",
       "      <td>NaN</td>\n",
       "      <td>NaN</td>\n",
       "      <td>NaN</td>\n",
       "      <td>NaN</td>\n",
       "      <td>...</td>\n",
       "      <td>R</td>\n",
       "      <td>D</td>\n",
       "      <td>R</td>\n",
       "      <td>NaN</td>\n",
       "      <td>R</td>\n",
       "      <td>R</td>\n",
       "      <td>R</td>\n",
       "      <td>R</td>\n",
       "      <td>D</td>\n",
       "      <td>Arizona</td>\n",
       "    </tr>\n",
       "    <tr>\n",
       "      <th>3</th>\n",
       "      <td>Arkansas</td>\n",
       "      <td>NaN</td>\n",
       "      <td>NaN</td>\n",
       "      <td>NaN</td>\n",
       "      <td>NaN</td>\n",
       "      <td>NaN</td>\n",
       "      <td>NaN</td>\n",
       "      <td>NaN</td>\n",
       "      <td>NaN</td>\n",
       "      <td>NaN</td>\n",
       "      <td>...</td>\n",
       "      <td>D</td>\n",
       "      <td>D</td>\n",
       "      <td>R</td>\n",
       "      <td>NaN</td>\n",
       "      <td>R</td>\n",
       "      <td>R</td>\n",
       "      <td>R</td>\n",
       "      <td>R</td>\n",
       "      <td>R</td>\n",
       "      <td>Arkansas</td>\n",
       "    </tr>\n",
       "    <tr>\n",
       "      <th>4</th>\n",
       "      <td>California</td>\n",
       "      <td>NaN</td>\n",
       "      <td>NaN</td>\n",
       "      <td>NaN</td>\n",
       "      <td>NaN</td>\n",
       "      <td>NaN</td>\n",
       "      <td>NaN</td>\n",
       "      <td>NaN</td>\n",
       "      <td>NaN</td>\n",
       "      <td>NaN</td>\n",
       "      <td>...</td>\n",
       "      <td>D</td>\n",
       "      <td>D</td>\n",
       "      <td>D</td>\n",
       "      <td>NaN</td>\n",
       "      <td>D</td>\n",
       "      <td>D</td>\n",
       "      <td>D</td>\n",
       "      <td>D</td>\n",
       "      <td>D</td>\n",
       "      <td>California</td>\n",
       "    </tr>\n",
       "  </tbody>\n",
       "</table>\n",
       "<p>5 rows × 67 columns</p>\n",
       "</div>"
      ],
      "text/plain": [
       "        State 1789 1792 1796 1800 †  Unnamed: 5 1804 1808 1812 1816  ... 1992  \\\n",
       "0     Alabama  NaN  NaN  NaN    NaN         NaN  NaN  NaN  NaN  NaN  ...    R   \n",
       "1      Alaska  NaN  NaN  NaN    NaN         NaN  NaN  NaN  NaN  NaN  ...    R   \n",
       "2     Arizona  NaN  NaN  NaN    NaN         NaN  NaN  NaN  NaN  NaN  ...    R   \n",
       "3    Arkansas  NaN  NaN  NaN    NaN         NaN  NaN  NaN  NaN  NaN  ...    D   \n",
       "4  California  NaN  NaN  NaN    NaN         NaN  NaN  NaN  NaN  NaN  ...    D   \n",
       "\n",
       "  1996 2000 ‡ Unnamed: 60 2004 2008  2012 2016 ‡ 2020     State.1  \n",
       "0    R      R         NaN    R    R     R      R    R     Alabama  \n",
       "1    R      R         NaN    R    R     R      R    R      Alaska  \n",
       "2    D      R         NaN    R    R     R      R    D     Arizona  \n",
       "3    D      R         NaN    R    R     R      R    R    Arkansas  \n",
       "4    D      D         NaN    D    D     D      D    D  California  \n",
       "\n",
       "[5 rows x 67 columns]"
      ]
     },
     "execution_count": 30,
     "metadata": {},
     "output_type": "execute_result"
    }
   ],
   "source": [
    "df = pd.read_csv(\"data/presidential_elections.csv\")\n",
    "df.head(5)"
   ]
  },
  {
   "cell_type": "markdown",
   "id": "36ef23b1",
   "metadata": {},
   "source": [
    "The data in this table is pretty messy (missing records, inconsistent field naming, etc.), so let's create a clean version.\n",
    "\n",
    "Running the cell below will produce a clean table, which contains exactly 51 rows (corresponding to the 50 states plus Washington DC) and 13 columns (one for each of the election years from 1972 to 2020). The index of this dataframe is the state name."
   ]
  },
  {
   "cell_type": "code",
   "execution_count": 31,
   "id": "a879d7bc",
   "metadata": {},
   "outputs": [
    {
     "data": {
      "text/html": [
       "<div>\n",
       "<style scoped>\n",
       "    .dataframe tbody tr th:only-of-type {\n",
       "        vertical-align: middle;\n",
       "    }\n",
       "\n",
       "    .dataframe tbody tr th {\n",
       "        vertical-align: top;\n",
       "    }\n",
       "\n",
       "    .dataframe thead th {\n",
       "        text-align: right;\n",
       "    }\n",
       "</style>\n",
       "<table border=\"1\" class=\"dataframe\">\n",
       "  <thead>\n",
       "    <tr style=\"text-align: right;\">\n",
       "      <th></th>\n",
       "      <th>1972</th>\n",
       "      <th>1976</th>\n",
       "      <th>1980</th>\n",
       "      <th>1984</th>\n",
       "      <th>1988</th>\n",
       "      <th>1992</th>\n",
       "      <th>1996</th>\n",
       "      <th>2000</th>\n",
       "      <th>2004</th>\n",
       "      <th>2008</th>\n",
       "      <th>2012</th>\n",
       "      <th>2016</th>\n",
       "      <th>2020</th>\n",
       "    </tr>\n",
       "    <tr>\n",
       "      <th>State</th>\n",
       "      <th></th>\n",
       "      <th></th>\n",
       "      <th></th>\n",
       "      <th></th>\n",
       "      <th></th>\n",
       "      <th></th>\n",
       "      <th></th>\n",
       "      <th></th>\n",
       "      <th></th>\n",
       "      <th></th>\n",
       "      <th></th>\n",
       "      <th></th>\n",
       "      <th></th>\n",
       "    </tr>\n",
       "  </thead>\n",
       "  <tbody>\n",
       "    <tr>\n",
       "      <th>Alabama</th>\n",
       "      <td>R</td>\n",
       "      <td>D</td>\n",
       "      <td>R</td>\n",
       "      <td>R</td>\n",
       "      <td>R</td>\n",
       "      <td>R</td>\n",
       "      <td>R</td>\n",
       "      <td>R</td>\n",
       "      <td>R</td>\n",
       "      <td>R</td>\n",
       "      <td>R</td>\n",
       "      <td>R</td>\n",
       "      <td>R</td>\n",
       "    </tr>\n",
       "    <tr>\n",
       "      <th>Alaska</th>\n",
       "      <td>R</td>\n",
       "      <td>R</td>\n",
       "      <td>R</td>\n",
       "      <td>R</td>\n",
       "      <td>R</td>\n",
       "      <td>R</td>\n",
       "      <td>R</td>\n",
       "      <td>R</td>\n",
       "      <td>R</td>\n",
       "      <td>R</td>\n",
       "      <td>R</td>\n",
       "      <td>R</td>\n",
       "      <td>R</td>\n",
       "    </tr>\n",
       "    <tr>\n",
       "      <th>Arizona</th>\n",
       "      <td>R</td>\n",
       "      <td>R</td>\n",
       "      <td>R</td>\n",
       "      <td>R</td>\n",
       "      <td>R</td>\n",
       "      <td>R</td>\n",
       "      <td>D</td>\n",
       "      <td>R</td>\n",
       "      <td>R</td>\n",
       "      <td>R</td>\n",
       "      <td>R</td>\n",
       "      <td>R</td>\n",
       "      <td>D</td>\n",
       "    </tr>\n",
       "    <tr>\n",
       "      <th>Arkansas</th>\n",
       "      <td>R</td>\n",
       "      <td>D</td>\n",
       "      <td>R</td>\n",
       "      <td>R</td>\n",
       "      <td>R</td>\n",
       "      <td>D</td>\n",
       "      <td>D</td>\n",
       "      <td>R</td>\n",
       "      <td>R</td>\n",
       "      <td>R</td>\n",
       "      <td>R</td>\n",
       "      <td>R</td>\n",
       "      <td>R</td>\n",
       "    </tr>\n",
       "    <tr>\n",
       "      <th>California</th>\n",
       "      <td>R</td>\n",
       "      <td>R</td>\n",
       "      <td>R</td>\n",
       "      <td>R</td>\n",
       "      <td>R</td>\n",
       "      <td>D</td>\n",
       "      <td>D</td>\n",
       "      <td>D</td>\n",
       "      <td>D</td>\n",
       "      <td>D</td>\n",
       "      <td>D</td>\n",
       "      <td>D</td>\n",
       "      <td>D</td>\n",
       "    </tr>\n",
       "    <tr>\n",
       "      <th>Colorado</th>\n",
       "      <td>R</td>\n",
       "      <td>R</td>\n",
       "      <td>R</td>\n",
       "      <td>R</td>\n",
       "      <td>R</td>\n",
       "      <td>D</td>\n",
       "      <td>R</td>\n",
       "      <td>R</td>\n",
       "      <td>R</td>\n",
       "      <td>D</td>\n",
       "      <td>D</td>\n",
       "      <td>D</td>\n",
       "      <td>D</td>\n",
       "    </tr>\n",
       "    <tr>\n",
       "      <th>Connecticut</th>\n",
       "      <td>R</td>\n",
       "      <td>R</td>\n",
       "      <td>R</td>\n",
       "      <td>R</td>\n",
       "      <td>R</td>\n",
       "      <td>D</td>\n",
       "      <td>D</td>\n",
       "      <td>D</td>\n",
       "      <td>D</td>\n",
       "      <td>D</td>\n",
       "      <td>D</td>\n",
       "      <td>D</td>\n",
       "      <td>D</td>\n",
       "    </tr>\n",
       "    <tr>\n",
       "      <th>Delaware</th>\n",
       "      <td>R</td>\n",
       "      <td>D</td>\n",
       "      <td>R</td>\n",
       "      <td>R</td>\n",
       "      <td>R</td>\n",
       "      <td>D</td>\n",
       "      <td>D</td>\n",
       "      <td>D</td>\n",
       "      <td>D</td>\n",
       "      <td>D</td>\n",
       "      <td>D</td>\n",
       "      <td>D</td>\n",
       "      <td>D</td>\n",
       "    </tr>\n",
       "    <tr>\n",
       "      <th>D.C.</th>\n",
       "      <td>D</td>\n",
       "      <td>D</td>\n",
       "      <td>D</td>\n",
       "      <td>D</td>\n",
       "      <td>D</td>\n",
       "      <td>D</td>\n",
       "      <td>D</td>\n",
       "      <td>D</td>\n",
       "      <td>D</td>\n",
       "      <td>D</td>\n",
       "      <td>D</td>\n",
       "      <td>D</td>\n",
       "      <td>D</td>\n",
       "    </tr>\n",
       "    <tr>\n",
       "      <th>Florida</th>\n",
       "      <td>R</td>\n",
       "      <td>D</td>\n",
       "      <td>R</td>\n",
       "      <td>R</td>\n",
       "      <td>R</td>\n",
       "      <td>R</td>\n",
       "      <td>D</td>\n",
       "      <td>R</td>\n",
       "      <td>R</td>\n",
       "      <td>D</td>\n",
       "      <td>D</td>\n",
       "      <td>R</td>\n",
       "      <td>R</td>\n",
       "    </tr>\n",
       "    <tr>\n",
       "      <th>Georgia</th>\n",
       "      <td>R</td>\n",
       "      <td>D</td>\n",
       "      <td>D</td>\n",
       "      <td>R</td>\n",
       "      <td>R</td>\n",
       "      <td>D</td>\n",
       "      <td>R</td>\n",
       "      <td>R</td>\n",
       "      <td>R</td>\n",
       "      <td>R</td>\n",
       "      <td>R</td>\n",
       "      <td>R</td>\n",
       "      <td>D</td>\n",
       "    </tr>\n",
       "    <tr>\n",
       "      <th>Hawaii</th>\n",
       "      <td>R</td>\n",
       "      <td>D</td>\n",
       "      <td>D</td>\n",
       "      <td>R</td>\n",
       "      <td>D</td>\n",
       "      <td>D</td>\n",
       "      <td>D</td>\n",
       "      <td>D</td>\n",
       "      <td>D</td>\n",
       "      <td>D</td>\n",
       "      <td>D</td>\n",
       "      <td>D</td>\n",
       "      <td>D</td>\n",
       "    </tr>\n",
       "    <tr>\n",
       "      <th>Idaho</th>\n",
       "      <td>R</td>\n",
       "      <td>R</td>\n",
       "      <td>R</td>\n",
       "      <td>R</td>\n",
       "      <td>R</td>\n",
       "      <td>R</td>\n",
       "      <td>R</td>\n",
       "      <td>R</td>\n",
       "      <td>R</td>\n",
       "      <td>R</td>\n",
       "      <td>R</td>\n",
       "      <td>R</td>\n",
       "      <td>R</td>\n",
       "    </tr>\n",
       "    <tr>\n",
       "      <th>Illinois</th>\n",
       "      <td>R</td>\n",
       "      <td>R</td>\n",
       "      <td>R</td>\n",
       "      <td>R</td>\n",
       "      <td>R</td>\n",
       "      <td>D</td>\n",
       "      <td>D</td>\n",
       "      <td>D</td>\n",
       "      <td>D</td>\n",
       "      <td>D</td>\n",
       "      <td>D</td>\n",
       "      <td>D</td>\n",
       "      <td>D</td>\n",
       "    </tr>\n",
       "    <tr>\n",
       "      <th>Indiana</th>\n",
       "      <td>R</td>\n",
       "      <td>R</td>\n",
       "      <td>R</td>\n",
       "      <td>R</td>\n",
       "      <td>R</td>\n",
       "      <td>R</td>\n",
       "      <td>R</td>\n",
       "      <td>R</td>\n",
       "      <td>R</td>\n",
       "      <td>D</td>\n",
       "      <td>R</td>\n",
       "      <td>R</td>\n",
       "      <td>R</td>\n",
       "    </tr>\n",
       "    <tr>\n",
       "      <th>Iowa</th>\n",
       "      <td>R</td>\n",
       "      <td>R</td>\n",
       "      <td>R</td>\n",
       "      <td>R</td>\n",
       "      <td>D</td>\n",
       "      <td>D</td>\n",
       "      <td>D</td>\n",
       "      <td>D</td>\n",
       "      <td>R</td>\n",
       "      <td>D</td>\n",
       "      <td>D</td>\n",
       "      <td>R</td>\n",
       "      <td>R</td>\n",
       "    </tr>\n",
       "    <tr>\n",
       "      <th>Kansas</th>\n",
       "      <td>R</td>\n",
       "      <td>R</td>\n",
       "      <td>R</td>\n",
       "      <td>R</td>\n",
       "      <td>R</td>\n",
       "      <td>R</td>\n",
       "      <td>R</td>\n",
       "      <td>R</td>\n",
       "      <td>R</td>\n",
       "      <td>R</td>\n",
       "      <td>R</td>\n",
       "      <td>R</td>\n",
       "      <td>R</td>\n",
       "    </tr>\n",
       "    <tr>\n",
       "      <th>Kentucky</th>\n",
       "      <td>R</td>\n",
       "      <td>D</td>\n",
       "      <td>R</td>\n",
       "      <td>R</td>\n",
       "      <td>R</td>\n",
       "      <td>D</td>\n",
       "      <td>D</td>\n",
       "      <td>R</td>\n",
       "      <td>R</td>\n",
       "      <td>R</td>\n",
       "      <td>R</td>\n",
       "      <td>R</td>\n",
       "      <td>R</td>\n",
       "    </tr>\n",
       "    <tr>\n",
       "      <th>Louisiana</th>\n",
       "      <td>R</td>\n",
       "      <td>D</td>\n",
       "      <td>R</td>\n",
       "      <td>R</td>\n",
       "      <td>R</td>\n",
       "      <td>D</td>\n",
       "      <td>D</td>\n",
       "      <td>R</td>\n",
       "      <td>R</td>\n",
       "      <td>R</td>\n",
       "      <td>R</td>\n",
       "      <td>R</td>\n",
       "      <td>R</td>\n",
       "    </tr>\n",
       "    <tr>\n",
       "      <th>Maine</th>\n",
       "      <td>R</td>\n",
       "      <td>R</td>\n",
       "      <td>R</td>\n",
       "      <td>R</td>\n",
       "      <td>R</td>\n",
       "      <td>D</td>\n",
       "      <td>D</td>\n",
       "      <td>D</td>\n",
       "      <td>D</td>\n",
       "      <td>D</td>\n",
       "      <td>D</td>\n",
       "      <td>D</td>\n",
       "      <td>D</td>\n",
       "    </tr>\n",
       "    <tr>\n",
       "      <th>Maryland</th>\n",
       "      <td>R</td>\n",
       "      <td>D</td>\n",
       "      <td>D</td>\n",
       "      <td>R</td>\n",
       "      <td>R</td>\n",
       "      <td>D</td>\n",
       "      <td>D</td>\n",
       "      <td>D</td>\n",
       "      <td>D</td>\n",
       "      <td>D</td>\n",
       "      <td>D</td>\n",
       "      <td>D</td>\n",
       "      <td>D</td>\n",
       "    </tr>\n",
       "    <tr>\n",
       "      <th>Massachusetts</th>\n",
       "      <td>D</td>\n",
       "      <td>D</td>\n",
       "      <td>R</td>\n",
       "      <td>R</td>\n",
       "      <td>D</td>\n",
       "      <td>D</td>\n",
       "      <td>D</td>\n",
       "      <td>D</td>\n",
       "      <td>D</td>\n",
       "      <td>D</td>\n",
       "      <td>D</td>\n",
       "      <td>D</td>\n",
       "      <td>D</td>\n",
       "    </tr>\n",
       "    <tr>\n",
       "      <th>Michigan</th>\n",
       "      <td>R</td>\n",
       "      <td>R</td>\n",
       "      <td>R</td>\n",
       "      <td>R</td>\n",
       "      <td>R</td>\n",
       "      <td>D</td>\n",
       "      <td>D</td>\n",
       "      <td>D</td>\n",
       "      <td>D</td>\n",
       "      <td>D</td>\n",
       "      <td>D</td>\n",
       "      <td>R</td>\n",
       "      <td>D</td>\n",
       "    </tr>\n",
       "    <tr>\n",
       "      <th>Minnesota</th>\n",
       "      <td>R</td>\n",
       "      <td>D</td>\n",
       "      <td>D</td>\n",
       "      <td>D</td>\n",
       "      <td>D</td>\n",
       "      <td>D</td>\n",
       "      <td>D</td>\n",
       "      <td>D</td>\n",
       "      <td>D</td>\n",
       "      <td>D</td>\n",
       "      <td>D</td>\n",
       "      <td>D</td>\n",
       "      <td>D</td>\n",
       "    </tr>\n",
       "    <tr>\n",
       "      <th>Mississippi</th>\n",
       "      <td>R</td>\n",
       "      <td>D</td>\n",
       "      <td>R</td>\n",
       "      <td>R</td>\n",
       "      <td>R</td>\n",
       "      <td>R</td>\n",
       "      <td>R</td>\n",
       "      <td>R</td>\n",
       "      <td>R</td>\n",
       "      <td>R</td>\n",
       "      <td>R</td>\n",
       "      <td>R</td>\n",
       "      <td>R</td>\n",
       "    </tr>\n",
       "    <tr>\n",
       "      <th>Missouri</th>\n",
       "      <td>R</td>\n",
       "      <td>D</td>\n",
       "      <td>R</td>\n",
       "      <td>R</td>\n",
       "      <td>R</td>\n",
       "      <td>D</td>\n",
       "      <td>D</td>\n",
       "      <td>R</td>\n",
       "      <td>R</td>\n",
       "      <td>R</td>\n",
       "      <td>R</td>\n",
       "      <td>R</td>\n",
       "      <td>R</td>\n",
       "    </tr>\n",
       "    <tr>\n",
       "      <th>Montana</th>\n",
       "      <td>R</td>\n",
       "      <td>R</td>\n",
       "      <td>R</td>\n",
       "      <td>R</td>\n",
       "      <td>R</td>\n",
       "      <td>D</td>\n",
       "      <td>R</td>\n",
       "      <td>R</td>\n",
       "      <td>R</td>\n",
       "      <td>R</td>\n",
       "      <td>R</td>\n",
       "      <td>R</td>\n",
       "      <td>R</td>\n",
       "    </tr>\n",
       "    <tr>\n",
       "      <th>Nebraska</th>\n",
       "      <td>R</td>\n",
       "      <td>R</td>\n",
       "      <td>R</td>\n",
       "      <td>R</td>\n",
       "      <td>R</td>\n",
       "      <td>R</td>\n",
       "      <td>R</td>\n",
       "      <td>R</td>\n",
       "      <td>R</td>\n",
       "      <td>R</td>\n",
       "      <td>R</td>\n",
       "      <td>R</td>\n",
       "      <td>R</td>\n",
       "    </tr>\n",
       "    <tr>\n",
       "      <th>Nevada</th>\n",
       "      <td>R</td>\n",
       "      <td>R</td>\n",
       "      <td>R</td>\n",
       "      <td>R</td>\n",
       "      <td>R</td>\n",
       "      <td>D</td>\n",
       "      <td>D</td>\n",
       "      <td>R</td>\n",
       "      <td>R</td>\n",
       "      <td>D</td>\n",
       "      <td>D</td>\n",
       "      <td>D</td>\n",
       "      <td>D</td>\n",
       "    </tr>\n",
       "    <tr>\n",
       "      <th>New Hampshire</th>\n",
       "      <td>R</td>\n",
       "      <td>R</td>\n",
       "      <td>R</td>\n",
       "      <td>R</td>\n",
       "      <td>R</td>\n",
       "      <td>D</td>\n",
       "      <td>D</td>\n",
       "      <td>R</td>\n",
       "      <td>D</td>\n",
       "      <td>D</td>\n",
       "      <td>D</td>\n",
       "      <td>D</td>\n",
       "      <td>D</td>\n",
       "    </tr>\n",
       "    <tr>\n",
       "      <th>New Jersey</th>\n",
       "      <td>R</td>\n",
       "      <td>R</td>\n",
       "      <td>R</td>\n",
       "      <td>R</td>\n",
       "      <td>R</td>\n",
       "      <td>D</td>\n",
       "      <td>D</td>\n",
       "      <td>D</td>\n",
       "      <td>D</td>\n",
       "      <td>D</td>\n",
       "      <td>D</td>\n",
       "      <td>D</td>\n",
       "      <td>D</td>\n",
       "    </tr>\n",
       "    <tr>\n",
       "      <th>New Mexico</th>\n",
       "      <td>R</td>\n",
       "      <td>R</td>\n",
       "      <td>R</td>\n",
       "      <td>R</td>\n",
       "      <td>R</td>\n",
       "      <td>D</td>\n",
       "      <td>D</td>\n",
       "      <td>D</td>\n",
       "      <td>R</td>\n",
       "      <td>D</td>\n",
       "      <td>D</td>\n",
       "      <td>D</td>\n",
       "      <td>D</td>\n",
       "    </tr>\n",
       "    <tr>\n",
       "      <th>New York</th>\n",
       "      <td>R</td>\n",
       "      <td>D</td>\n",
       "      <td>R</td>\n",
       "      <td>R</td>\n",
       "      <td>D</td>\n",
       "      <td>D</td>\n",
       "      <td>D</td>\n",
       "      <td>D</td>\n",
       "      <td>D</td>\n",
       "      <td>D</td>\n",
       "      <td>D</td>\n",
       "      <td>D</td>\n",
       "      <td>D</td>\n",
       "    </tr>\n",
       "    <tr>\n",
       "      <th>North Carolina</th>\n",
       "      <td>R</td>\n",
       "      <td>D</td>\n",
       "      <td>R</td>\n",
       "      <td>R</td>\n",
       "      <td>R</td>\n",
       "      <td>R</td>\n",
       "      <td>R</td>\n",
       "      <td>R</td>\n",
       "      <td>R</td>\n",
       "      <td>D</td>\n",
       "      <td>R</td>\n",
       "      <td>R</td>\n",
       "      <td>R</td>\n",
       "    </tr>\n",
       "    <tr>\n",
       "      <th>North Dakota</th>\n",
       "      <td>R</td>\n",
       "      <td>R</td>\n",
       "      <td>R</td>\n",
       "      <td>R</td>\n",
       "      <td>R</td>\n",
       "      <td>R</td>\n",
       "      <td>R</td>\n",
       "      <td>R</td>\n",
       "      <td>R</td>\n",
       "      <td>R</td>\n",
       "      <td>R</td>\n",
       "      <td>R</td>\n",
       "      <td>R</td>\n",
       "    </tr>\n",
       "    <tr>\n",
       "      <th>Ohio</th>\n",
       "      <td>R</td>\n",
       "      <td>D</td>\n",
       "      <td>R</td>\n",
       "      <td>R</td>\n",
       "      <td>R</td>\n",
       "      <td>D</td>\n",
       "      <td>D</td>\n",
       "      <td>R</td>\n",
       "      <td>R</td>\n",
       "      <td>D</td>\n",
       "      <td>D</td>\n",
       "      <td>R</td>\n",
       "      <td>R</td>\n",
       "    </tr>\n",
       "    <tr>\n",
       "      <th>Oklahoma</th>\n",
       "      <td>R</td>\n",
       "      <td>R</td>\n",
       "      <td>R</td>\n",
       "      <td>R</td>\n",
       "      <td>R</td>\n",
       "      <td>R</td>\n",
       "      <td>R</td>\n",
       "      <td>R</td>\n",
       "      <td>R</td>\n",
       "      <td>R</td>\n",
       "      <td>R</td>\n",
       "      <td>R</td>\n",
       "      <td>R</td>\n",
       "    </tr>\n",
       "    <tr>\n",
       "      <th>Oregon</th>\n",
       "      <td>R</td>\n",
       "      <td>R</td>\n",
       "      <td>R</td>\n",
       "      <td>R</td>\n",
       "      <td>D</td>\n",
       "      <td>D</td>\n",
       "      <td>D</td>\n",
       "      <td>D</td>\n",
       "      <td>D</td>\n",
       "      <td>D</td>\n",
       "      <td>D</td>\n",
       "      <td>D</td>\n",
       "      <td>D</td>\n",
       "    </tr>\n",
       "    <tr>\n",
       "      <th>Pennsylvania</th>\n",
       "      <td>R</td>\n",
       "      <td>D</td>\n",
       "      <td>R</td>\n",
       "      <td>R</td>\n",
       "      <td>R</td>\n",
       "      <td>D</td>\n",
       "      <td>D</td>\n",
       "      <td>D</td>\n",
       "      <td>D</td>\n",
       "      <td>D</td>\n",
       "      <td>D</td>\n",
       "      <td>R</td>\n",
       "      <td>D</td>\n",
       "    </tr>\n",
       "    <tr>\n",
       "      <th>Rhode Island</th>\n",
       "      <td>R</td>\n",
       "      <td>D</td>\n",
       "      <td>D</td>\n",
       "      <td>R</td>\n",
       "      <td>D</td>\n",
       "      <td>D</td>\n",
       "      <td>D</td>\n",
       "      <td>D</td>\n",
       "      <td>D</td>\n",
       "      <td>D</td>\n",
       "      <td>D</td>\n",
       "      <td>D</td>\n",
       "      <td>D</td>\n",
       "    </tr>\n",
       "    <tr>\n",
       "      <th>South Carolina</th>\n",
       "      <td>R</td>\n",
       "      <td>D</td>\n",
       "      <td>R</td>\n",
       "      <td>R</td>\n",
       "      <td>R</td>\n",
       "      <td>R</td>\n",
       "      <td>R</td>\n",
       "      <td>R</td>\n",
       "      <td>R</td>\n",
       "      <td>R</td>\n",
       "      <td>R</td>\n",
       "      <td>R</td>\n",
       "      <td>R</td>\n",
       "    </tr>\n",
       "    <tr>\n",
       "      <th>South Dakota</th>\n",
       "      <td>R</td>\n",
       "      <td>R</td>\n",
       "      <td>R</td>\n",
       "      <td>R</td>\n",
       "      <td>R</td>\n",
       "      <td>R</td>\n",
       "      <td>R</td>\n",
       "      <td>R</td>\n",
       "      <td>R</td>\n",
       "      <td>R</td>\n",
       "      <td>R</td>\n",
       "      <td>R</td>\n",
       "      <td>R</td>\n",
       "    </tr>\n",
       "    <tr>\n",
       "      <th>Tennessee</th>\n",
       "      <td>R</td>\n",
       "      <td>D</td>\n",
       "      <td>R</td>\n",
       "      <td>R</td>\n",
       "      <td>R</td>\n",
       "      <td>D</td>\n",
       "      <td>D</td>\n",
       "      <td>R</td>\n",
       "      <td>R</td>\n",
       "      <td>R</td>\n",
       "      <td>R</td>\n",
       "      <td>R</td>\n",
       "      <td>R</td>\n",
       "    </tr>\n",
       "    <tr>\n",
       "      <th>Texas</th>\n",
       "      <td>R</td>\n",
       "      <td>D</td>\n",
       "      <td>R</td>\n",
       "      <td>R</td>\n",
       "      <td>R</td>\n",
       "      <td>R</td>\n",
       "      <td>R</td>\n",
       "      <td>R</td>\n",
       "      <td>R</td>\n",
       "      <td>R</td>\n",
       "      <td>R</td>\n",
       "      <td>R</td>\n",
       "      <td>R</td>\n",
       "    </tr>\n",
       "    <tr>\n",
       "      <th>Utah</th>\n",
       "      <td>R</td>\n",
       "      <td>R</td>\n",
       "      <td>R</td>\n",
       "      <td>R</td>\n",
       "      <td>R</td>\n",
       "      <td>R</td>\n",
       "      <td>R</td>\n",
       "      <td>R</td>\n",
       "      <td>R</td>\n",
       "      <td>R</td>\n",
       "      <td>R</td>\n",
       "      <td>R</td>\n",
       "      <td>R</td>\n",
       "    </tr>\n",
       "    <tr>\n",
       "      <th>Vermont</th>\n",
       "      <td>R</td>\n",
       "      <td>R</td>\n",
       "      <td>R</td>\n",
       "      <td>R</td>\n",
       "      <td>R</td>\n",
       "      <td>D</td>\n",
       "      <td>D</td>\n",
       "      <td>D</td>\n",
       "      <td>D</td>\n",
       "      <td>D</td>\n",
       "      <td>D</td>\n",
       "      <td>D</td>\n",
       "      <td>D</td>\n",
       "    </tr>\n",
       "    <tr>\n",
       "      <th>Virginia</th>\n",
       "      <td>R</td>\n",
       "      <td>R</td>\n",
       "      <td>R</td>\n",
       "      <td>R</td>\n",
       "      <td>R</td>\n",
       "      <td>R</td>\n",
       "      <td>R</td>\n",
       "      <td>R</td>\n",
       "      <td>R</td>\n",
       "      <td>D</td>\n",
       "      <td>D</td>\n",
       "      <td>D</td>\n",
       "      <td>D</td>\n",
       "    </tr>\n",
       "    <tr>\n",
       "      <th>Washington</th>\n",
       "      <td>R</td>\n",
       "      <td>R</td>\n",
       "      <td>R</td>\n",
       "      <td>R</td>\n",
       "      <td>D</td>\n",
       "      <td>D</td>\n",
       "      <td>D</td>\n",
       "      <td>D</td>\n",
       "      <td>D</td>\n",
       "      <td>D</td>\n",
       "      <td>D</td>\n",
       "      <td>D</td>\n",
       "      <td>D</td>\n",
       "    </tr>\n",
       "    <tr>\n",
       "      <th>West Virginia</th>\n",
       "      <td>R</td>\n",
       "      <td>D</td>\n",
       "      <td>D</td>\n",
       "      <td>R</td>\n",
       "      <td>D</td>\n",
       "      <td>D</td>\n",
       "      <td>D</td>\n",
       "      <td>R</td>\n",
       "      <td>R</td>\n",
       "      <td>R</td>\n",
       "      <td>R</td>\n",
       "      <td>R</td>\n",
       "      <td>R</td>\n",
       "    </tr>\n",
       "    <tr>\n",
       "      <th>Wisconsin</th>\n",
       "      <td>R</td>\n",
       "      <td>D</td>\n",
       "      <td>R</td>\n",
       "      <td>R</td>\n",
       "      <td>D</td>\n",
       "      <td>D</td>\n",
       "      <td>D</td>\n",
       "      <td>D</td>\n",
       "      <td>D</td>\n",
       "      <td>D</td>\n",
       "      <td>D</td>\n",
       "      <td>R</td>\n",
       "      <td>D</td>\n",
       "    </tr>\n",
       "    <tr>\n",
       "      <th>Wyoming</th>\n",
       "      <td>R</td>\n",
       "      <td>R</td>\n",
       "      <td>R</td>\n",
       "      <td>R</td>\n",
       "      <td>R</td>\n",
       "      <td>R</td>\n",
       "      <td>R</td>\n",
       "      <td>R</td>\n",
       "      <td>R</td>\n",
       "      <td>R</td>\n",
       "      <td>R</td>\n",
       "      <td>R</td>\n",
       "      <td>R</td>\n",
       "    </tr>\n",
       "  </tbody>\n",
       "</table>\n",
       "</div>"
      ],
      "text/plain": [
       "               1972 1976 1980 1984 1988 1992 1996 2000 2004 2008 2012 2016  \\\n",
       "State                                                                        \n",
       "Alabama           R    D    R    R    R    R    R    R    R    R    R    R   \n",
       "Alaska            R    R    R    R    R    R    R    R    R    R    R    R   \n",
       "Arizona           R    R    R    R    R    R    D    R    R    R    R    R   \n",
       "Arkansas          R    D    R    R    R    D    D    R    R    R    R    R   \n",
       "California        R    R    R    R    R    D    D    D    D    D    D    D   \n",
       "Colorado          R    R    R    R    R    D    R    R    R    D    D    D   \n",
       "Connecticut       R    R    R    R    R    D    D    D    D    D    D    D   \n",
       "Delaware          R    D    R    R    R    D    D    D    D    D    D    D   \n",
       "D.C.              D    D    D    D    D    D    D    D    D    D    D    D   \n",
       "Florida           R    D    R    R    R    R    D    R    R    D    D    R   \n",
       "Georgia           R    D    D    R    R    D    R    R    R    R    R    R   \n",
       "Hawaii            R    D    D    R    D    D    D    D    D    D    D    D   \n",
       "Idaho             R    R    R    R    R    R    R    R    R    R    R    R   \n",
       "Illinois          R    R    R    R    R    D    D    D    D    D    D    D   \n",
       "Indiana           R    R    R    R    R    R    R    R    R    D    R    R   \n",
       "Iowa              R    R    R    R    D    D    D    D    R    D    D    R   \n",
       "Kansas            R    R    R    R    R    R    R    R    R    R    R    R   \n",
       "Kentucky          R    D    R    R    R    D    D    R    R    R    R    R   \n",
       "Louisiana         R    D    R    R    R    D    D    R    R    R    R    R   \n",
       "Maine             R    R    R    R    R    D    D    D    D    D    D    D   \n",
       "Maryland          R    D    D    R    R    D    D    D    D    D    D    D   \n",
       "Massachusetts     D    D    R    R    D    D    D    D    D    D    D    D   \n",
       "Michigan          R    R    R    R    R    D    D    D    D    D    D    R   \n",
       "Minnesota         R    D    D    D    D    D    D    D    D    D    D    D   \n",
       "Mississippi       R    D    R    R    R    R    R    R    R    R    R    R   \n",
       "Missouri          R    D    R    R    R    D    D    R    R    R    R    R   \n",
       "Montana           R    R    R    R    R    D    R    R    R    R    R    R   \n",
       "Nebraska          R    R    R    R    R    R    R    R    R    R    R    R   \n",
       "Nevada            R    R    R    R    R    D    D    R    R    D    D    D   \n",
       "New Hampshire     R    R    R    R    R    D    D    R    D    D    D    D   \n",
       "New Jersey        R    R    R    R    R    D    D    D    D    D    D    D   \n",
       "New Mexico        R    R    R    R    R    D    D    D    R    D    D    D   \n",
       "New York          R    D    R    R    D    D    D    D    D    D    D    D   \n",
       "North Carolina    R    D    R    R    R    R    R    R    R    D    R    R   \n",
       "North Dakota      R    R    R    R    R    R    R    R    R    R    R    R   \n",
       "Ohio              R    D    R    R    R    D    D    R    R    D    D    R   \n",
       "Oklahoma          R    R    R    R    R    R    R    R    R    R    R    R   \n",
       "Oregon            R    R    R    R    D    D    D    D    D    D    D    D   \n",
       "Pennsylvania      R    D    R    R    R    D    D    D    D    D    D    R   \n",
       "Rhode Island      R    D    D    R    D    D    D    D    D    D    D    D   \n",
       "South Carolina    R    D    R    R    R    R    R    R    R    R    R    R   \n",
       "South Dakota      R    R    R    R    R    R    R    R    R    R    R    R   \n",
       "Tennessee         R    D    R    R    R    D    D    R    R    R    R    R   \n",
       "Texas             R    D    R    R    R    R    R    R    R    R    R    R   \n",
       "Utah              R    R    R    R    R    R    R    R    R    R    R    R   \n",
       "Vermont           R    R    R    R    R    D    D    D    D    D    D    D   \n",
       "Virginia          R    R    R    R    R    R    R    R    R    D    D    D   \n",
       "Washington        R    R    R    R    D    D    D    D    D    D    D    D   \n",
       "West Virginia     R    D    D    R    D    D    D    R    R    R    R    R   \n",
       "Wisconsin         R    D    R    R    D    D    D    D    D    D    D    R   \n",
       "Wyoming           R    R    R    R    R    R    R    R    R    R    R    R   \n",
       "\n",
       "               2020  \n",
       "State                \n",
       "Alabama           R  \n",
       "Alaska            R  \n",
       "Arizona           D  \n",
       "Arkansas          R  \n",
       "California        D  \n",
       "Colorado          D  \n",
       "Connecticut       D  \n",
       "Delaware          D  \n",
       "D.C.              D  \n",
       "Florida           R  \n",
       "Georgia           D  \n",
       "Hawaii            D  \n",
       "Idaho             R  \n",
       "Illinois          D  \n",
       "Indiana           R  \n",
       "Iowa              R  \n",
       "Kansas            R  \n",
       "Kentucky          R  \n",
       "Louisiana         R  \n",
       "Maine             D  \n",
       "Maryland          D  \n",
       "Massachusetts     D  \n",
       "Michigan          D  \n",
       "Minnesota         D  \n",
       "Mississippi       R  \n",
       "Missouri          R  \n",
       "Montana           R  \n",
       "Nebraska          R  \n",
       "Nevada            D  \n",
       "New Hampshire     D  \n",
       "New Jersey        D  \n",
       "New Mexico        D  \n",
       "New York          D  \n",
       "North Carolina    R  \n",
       "North Dakota      R  \n",
       "Ohio              R  \n",
       "Oklahoma          R  \n",
       "Oregon            D  \n",
       "Pennsylvania      D  \n",
       "Rhode Island      D  \n",
       "South Carolina    R  \n",
       "South Dakota      R  \n",
       "Tennessee         R  \n",
       "Texas             R  \n",
       "Utah              R  \n",
       "Vermont           D  \n",
       "Virginia          D  \n",
       "Washington        D  \n",
       "West Virginia     R  \n",
       "Wisconsin         D  \n",
       "Wyoming           R  "
      ]
     },
     "execution_count": 31,
     "metadata": {},
     "output_type": "execute_result"
    }
   ],
   "source": [
    "# just run this cell\n",
    "df_clean = ( \n",
    "        df.iloc[:, -15:]    \n",
    "        .drop(['Unnamed: 60'], axis = 1) \n",
    "        .rename(columns = {\"2000 ‡\": \"2000\", \"2016 ‡\": \"2016\", \"State.1\": \"State\"}) \n",
    "        .drop([51]) \n",
    "        .set_index(\"State\")\n",
    ")\n",
    "df_clean"
   ]
  },
  {
   "cell_type": "markdown",
   "id": "c2eba5b0",
   "metadata": {},
   "source": [
    "Side note: We produced the data cleaning function chain above by inspecting the CSV file. In your personal projects, you may be tempted to use Excel or Google Sheets (What You See Is What You Get, or WYSIWYG) to clean data. While sometimes more convenient, the downside of this is that you have no record of what you did—and if you have to redownload the data, you have to redo the manual data cleaning process."
   ]
  },
  {
   "cell_type": "markdown",
   "id": "66b68b4d",
   "metadata": {
    "deletable": false,
    "editable": false
   },
   "source": [
    "<!-- BEGIN QUESTION -->\n",
    "\n",
    "<br/>\n",
    "\n",
    "<hr style=\"border: 1px solid #fdb515;\" />\n",
    "\n",
    "### Question 6a\n",
    "\n",
    "What does each row in `df_clean` represent?\n",
    "\n",
    "\n",
    "<!--\n",
    "BEGIN QUESTION\n",
    "name: q6a\n",
    "manual: True\n",
    "points: 1\n",
    "-->"
   ]
  },
  {
   "cell_type": "markdown",
   "id": "08a712f0",
   "metadata": {},
   "source": [
    "The election result of a state for each election year."
   ]
  },
  {
   "cell_type": "markdown",
   "id": "db431877",
   "metadata": {
    "deletable": false,
    "editable": false
   },
   "source": [
    "<!-- END QUESTION -->\n",
    "\n",
    "<br/>\n",
    "\n",
    "<hr style=\"border: 1px solid #fdb515;\" />\n",
    "\n",
    "### Question 6b\n",
    "\n",
    "To perform PCA, we need to convert our data into numerical values. Create a `df_numerical` dataframe that replaces all of the \"D\" characters in `df_clean` with the number 0, and all of the \"R\" characters with the number 1. \n",
    "\n",
    "*Hint:* Use `df.replace` ([documentation](https://pandas.pydata.org/docs/reference/api/pandas.DataFrame.replace.html)).\n",
    "\n",
    "<!--\n",
    "BEGIN QUESTION\n",
    "name: q6b\n",
    "points: 1\n",
    "-->"
   ]
  },
  {
   "cell_type": "code",
   "execution_count": 32,
   "id": "fc8cb5e7",
   "metadata": {},
   "outputs": [
    {
     "data": {
      "text/html": [
       "<div>\n",
       "<style scoped>\n",
       "    .dataframe tbody tr th:only-of-type {\n",
       "        vertical-align: middle;\n",
       "    }\n",
       "\n",
       "    .dataframe tbody tr th {\n",
       "        vertical-align: top;\n",
       "    }\n",
       "\n",
       "    .dataframe thead th {\n",
       "        text-align: right;\n",
       "    }\n",
       "</style>\n",
       "<table border=\"1\" class=\"dataframe\">\n",
       "  <thead>\n",
       "    <tr style=\"text-align: right;\">\n",
       "      <th></th>\n",
       "      <th>1972</th>\n",
       "      <th>1976</th>\n",
       "      <th>1980</th>\n",
       "      <th>1984</th>\n",
       "      <th>1988</th>\n",
       "      <th>1992</th>\n",
       "      <th>1996</th>\n",
       "      <th>2000</th>\n",
       "      <th>2004</th>\n",
       "      <th>2008</th>\n",
       "      <th>2012</th>\n",
       "      <th>2016</th>\n",
       "      <th>2020</th>\n",
       "    </tr>\n",
       "    <tr>\n",
       "      <th>State</th>\n",
       "      <th></th>\n",
       "      <th></th>\n",
       "      <th></th>\n",
       "      <th></th>\n",
       "      <th></th>\n",
       "      <th></th>\n",
       "      <th></th>\n",
       "      <th></th>\n",
       "      <th></th>\n",
       "      <th></th>\n",
       "      <th></th>\n",
       "      <th></th>\n",
       "      <th></th>\n",
       "    </tr>\n",
       "  </thead>\n",
       "  <tbody>\n",
       "    <tr>\n",
       "      <th>Alabama</th>\n",
       "      <td>1</td>\n",
       "      <td>0</td>\n",
       "      <td>1</td>\n",
       "      <td>1</td>\n",
       "      <td>1</td>\n",
       "      <td>1</td>\n",
       "      <td>1</td>\n",
       "      <td>1</td>\n",
       "      <td>1</td>\n",
       "      <td>1</td>\n",
       "      <td>1</td>\n",
       "      <td>1</td>\n",
       "      <td>1</td>\n",
       "    </tr>\n",
       "    <tr>\n",
       "      <th>Alaska</th>\n",
       "      <td>1</td>\n",
       "      <td>1</td>\n",
       "      <td>1</td>\n",
       "      <td>1</td>\n",
       "      <td>1</td>\n",
       "      <td>1</td>\n",
       "      <td>1</td>\n",
       "      <td>1</td>\n",
       "      <td>1</td>\n",
       "      <td>1</td>\n",
       "      <td>1</td>\n",
       "      <td>1</td>\n",
       "      <td>1</td>\n",
       "    </tr>\n",
       "    <tr>\n",
       "      <th>Arizona</th>\n",
       "      <td>1</td>\n",
       "      <td>1</td>\n",
       "      <td>1</td>\n",
       "      <td>1</td>\n",
       "      <td>1</td>\n",
       "      <td>1</td>\n",
       "      <td>0</td>\n",
       "      <td>1</td>\n",
       "      <td>1</td>\n",
       "      <td>1</td>\n",
       "      <td>1</td>\n",
       "      <td>1</td>\n",
       "      <td>0</td>\n",
       "    </tr>\n",
       "    <tr>\n",
       "      <th>Arkansas</th>\n",
       "      <td>1</td>\n",
       "      <td>0</td>\n",
       "      <td>1</td>\n",
       "      <td>1</td>\n",
       "      <td>1</td>\n",
       "      <td>0</td>\n",
       "      <td>0</td>\n",
       "      <td>1</td>\n",
       "      <td>1</td>\n",
       "      <td>1</td>\n",
       "      <td>1</td>\n",
       "      <td>1</td>\n",
       "      <td>1</td>\n",
       "    </tr>\n",
       "    <tr>\n",
       "      <th>California</th>\n",
       "      <td>1</td>\n",
       "      <td>1</td>\n",
       "      <td>1</td>\n",
       "      <td>1</td>\n",
       "      <td>1</td>\n",
       "      <td>0</td>\n",
       "      <td>0</td>\n",
       "      <td>0</td>\n",
       "      <td>0</td>\n",
       "      <td>0</td>\n",
       "      <td>0</td>\n",
       "      <td>0</td>\n",
       "      <td>0</td>\n",
       "    </tr>\n",
       "    <tr>\n",
       "      <th>Colorado</th>\n",
       "      <td>1</td>\n",
       "      <td>1</td>\n",
       "      <td>1</td>\n",
       "      <td>1</td>\n",
       "      <td>1</td>\n",
       "      <td>0</td>\n",
       "      <td>1</td>\n",
       "      <td>1</td>\n",
       "      <td>1</td>\n",
       "      <td>0</td>\n",
       "      <td>0</td>\n",
       "      <td>0</td>\n",
       "      <td>0</td>\n",
       "    </tr>\n",
       "    <tr>\n",
       "      <th>Connecticut</th>\n",
       "      <td>1</td>\n",
       "      <td>1</td>\n",
       "      <td>1</td>\n",
       "      <td>1</td>\n",
       "      <td>1</td>\n",
       "      <td>0</td>\n",
       "      <td>0</td>\n",
       "      <td>0</td>\n",
       "      <td>0</td>\n",
       "      <td>0</td>\n",
       "      <td>0</td>\n",
       "      <td>0</td>\n",
       "      <td>0</td>\n",
       "    </tr>\n",
       "    <tr>\n",
       "      <th>Delaware</th>\n",
       "      <td>1</td>\n",
       "      <td>0</td>\n",
       "      <td>1</td>\n",
       "      <td>1</td>\n",
       "      <td>1</td>\n",
       "      <td>0</td>\n",
       "      <td>0</td>\n",
       "      <td>0</td>\n",
       "      <td>0</td>\n",
       "      <td>0</td>\n",
       "      <td>0</td>\n",
       "      <td>0</td>\n",
       "      <td>0</td>\n",
       "    </tr>\n",
       "    <tr>\n",
       "      <th>D.C.</th>\n",
       "      <td>0</td>\n",
       "      <td>0</td>\n",
       "      <td>0</td>\n",
       "      <td>0</td>\n",
       "      <td>0</td>\n",
       "      <td>0</td>\n",
       "      <td>0</td>\n",
       "      <td>0</td>\n",
       "      <td>0</td>\n",
       "      <td>0</td>\n",
       "      <td>0</td>\n",
       "      <td>0</td>\n",
       "      <td>0</td>\n",
       "    </tr>\n",
       "    <tr>\n",
       "      <th>Florida</th>\n",
       "      <td>1</td>\n",
       "      <td>0</td>\n",
       "      <td>1</td>\n",
       "      <td>1</td>\n",
       "      <td>1</td>\n",
       "      <td>1</td>\n",
       "      <td>0</td>\n",
       "      <td>1</td>\n",
       "      <td>1</td>\n",
       "      <td>0</td>\n",
       "      <td>0</td>\n",
       "      <td>1</td>\n",
       "      <td>1</td>\n",
       "    </tr>\n",
       "    <tr>\n",
       "      <th>Georgia</th>\n",
       "      <td>1</td>\n",
       "      <td>0</td>\n",
       "      <td>0</td>\n",
       "      <td>1</td>\n",
       "      <td>1</td>\n",
       "      <td>0</td>\n",
       "      <td>1</td>\n",
       "      <td>1</td>\n",
       "      <td>1</td>\n",
       "      <td>1</td>\n",
       "      <td>1</td>\n",
       "      <td>1</td>\n",
       "      <td>0</td>\n",
       "    </tr>\n",
       "    <tr>\n",
       "      <th>Hawaii</th>\n",
       "      <td>1</td>\n",
       "      <td>0</td>\n",
       "      <td>0</td>\n",
       "      <td>1</td>\n",
       "      <td>0</td>\n",
       "      <td>0</td>\n",
       "      <td>0</td>\n",
       "      <td>0</td>\n",
       "      <td>0</td>\n",
       "      <td>0</td>\n",
       "      <td>0</td>\n",
       "      <td>0</td>\n",
       "      <td>0</td>\n",
       "    </tr>\n",
       "    <tr>\n",
       "      <th>Idaho</th>\n",
       "      <td>1</td>\n",
       "      <td>1</td>\n",
       "      <td>1</td>\n",
       "      <td>1</td>\n",
       "      <td>1</td>\n",
       "      <td>1</td>\n",
       "      <td>1</td>\n",
       "      <td>1</td>\n",
       "      <td>1</td>\n",
       "      <td>1</td>\n",
       "      <td>1</td>\n",
       "      <td>1</td>\n",
       "      <td>1</td>\n",
       "    </tr>\n",
       "    <tr>\n",
       "      <th>Illinois</th>\n",
       "      <td>1</td>\n",
       "      <td>1</td>\n",
       "      <td>1</td>\n",
       "      <td>1</td>\n",
       "      <td>1</td>\n",
       "      <td>0</td>\n",
       "      <td>0</td>\n",
       "      <td>0</td>\n",
       "      <td>0</td>\n",
       "      <td>0</td>\n",
       "      <td>0</td>\n",
       "      <td>0</td>\n",
       "      <td>0</td>\n",
       "    </tr>\n",
       "    <tr>\n",
       "      <th>Indiana</th>\n",
       "      <td>1</td>\n",
       "      <td>1</td>\n",
       "      <td>1</td>\n",
       "      <td>1</td>\n",
       "      <td>1</td>\n",
       "      <td>1</td>\n",
       "      <td>1</td>\n",
       "      <td>1</td>\n",
       "      <td>1</td>\n",
       "      <td>0</td>\n",
       "      <td>1</td>\n",
       "      <td>1</td>\n",
       "      <td>1</td>\n",
       "    </tr>\n",
       "    <tr>\n",
       "      <th>Iowa</th>\n",
       "      <td>1</td>\n",
       "      <td>1</td>\n",
       "      <td>1</td>\n",
       "      <td>1</td>\n",
       "      <td>0</td>\n",
       "      <td>0</td>\n",
       "      <td>0</td>\n",
       "      <td>0</td>\n",
       "      <td>1</td>\n",
       "      <td>0</td>\n",
       "      <td>0</td>\n",
       "      <td>1</td>\n",
       "      <td>1</td>\n",
       "    </tr>\n",
       "    <tr>\n",
       "      <th>Kansas</th>\n",
       "      <td>1</td>\n",
       "      <td>1</td>\n",
       "      <td>1</td>\n",
       "      <td>1</td>\n",
       "      <td>1</td>\n",
       "      <td>1</td>\n",
       "      <td>1</td>\n",
       "      <td>1</td>\n",
       "      <td>1</td>\n",
       "      <td>1</td>\n",
       "      <td>1</td>\n",
       "      <td>1</td>\n",
       "      <td>1</td>\n",
       "    </tr>\n",
       "    <tr>\n",
       "      <th>Kentucky</th>\n",
       "      <td>1</td>\n",
       "      <td>0</td>\n",
       "      <td>1</td>\n",
       "      <td>1</td>\n",
       "      <td>1</td>\n",
       "      <td>0</td>\n",
       "      <td>0</td>\n",
       "      <td>1</td>\n",
       "      <td>1</td>\n",
       "      <td>1</td>\n",
       "      <td>1</td>\n",
       "      <td>1</td>\n",
       "      <td>1</td>\n",
       "    </tr>\n",
       "    <tr>\n",
       "      <th>Louisiana</th>\n",
       "      <td>1</td>\n",
       "      <td>0</td>\n",
       "      <td>1</td>\n",
       "      <td>1</td>\n",
       "      <td>1</td>\n",
       "      <td>0</td>\n",
       "      <td>0</td>\n",
       "      <td>1</td>\n",
       "      <td>1</td>\n",
       "      <td>1</td>\n",
       "      <td>1</td>\n",
       "      <td>1</td>\n",
       "      <td>1</td>\n",
       "    </tr>\n",
       "    <tr>\n",
       "      <th>Maine</th>\n",
       "      <td>1</td>\n",
       "      <td>1</td>\n",
       "      <td>1</td>\n",
       "      <td>1</td>\n",
       "      <td>1</td>\n",
       "      <td>0</td>\n",
       "      <td>0</td>\n",
       "      <td>0</td>\n",
       "      <td>0</td>\n",
       "      <td>0</td>\n",
       "      <td>0</td>\n",
       "      <td>0</td>\n",
       "      <td>0</td>\n",
       "    </tr>\n",
       "    <tr>\n",
       "      <th>Maryland</th>\n",
       "      <td>1</td>\n",
       "      <td>0</td>\n",
       "      <td>0</td>\n",
       "      <td>1</td>\n",
       "      <td>1</td>\n",
       "      <td>0</td>\n",
       "      <td>0</td>\n",
       "      <td>0</td>\n",
       "      <td>0</td>\n",
       "      <td>0</td>\n",
       "      <td>0</td>\n",
       "      <td>0</td>\n",
       "      <td>0</td>\n",
       "    </tr>\n",
       "    <tr>\n",
       "      <th>Massachusetts</th>\n",
       "      <td>0</td>\n",
       "      <td>0</td>\n",
       "      <td>1</td>\n",
       "      <td>1</td>\n",
       "      <td>0</td>\n",
       "      <td>0</td>\n",
       "      <td>0</td>\n",
       "      <td>0</td>\n",
       "      <td>0</td>\n",
       "      <td>0</td>\n",
       "      <td>0</td>\n",
       "      <td>0</td>\n",
       "      <td>0</td>\n",
       "    </tr>\n",
       "    <tr>\n",
       "      <th>Michigan</th>\n",
       "      <td>1</td>\n",
       "      <td>1</td>\n",
       "      <td>1</td>\n",
       "      <td>1</td>\n",
       "      <td>1</td>\n",
       "      <td>0</td>\n",
       "      <td>0</td>\n",
       "      <td>0</td>\n",
       "      <td>0</td>\n",
       "      <td>0</td>\n",
       "      <td>0</td>\n",
       "      <td>1</td>\n",
       "      <td>0</td>\n",
       "    </tr>\n",
       "    <tr>\n",
       "      <th>Minnesota</th>\n",
       "      <td>1</td>\n",
       "      <td>0</td>\n",
       "      <td>0</td>\n",
       "      <td>0</td>\n",
       "      <td>0</td>\n",
       "      <td>0</td>\n",
       "      <td>0</td>\n",
       "      <td>0</td>\n",
       "      <td>0</td>\n",
       "      <td>0</td>\n",
       "      <td>0</td>\n",
       "      <td>0</td>\n",
       "      <td>0</td>\n",
       "    </tr>\n",
       "    <tr>\n",
       "      <th>Mississippi</th>\n",
       "      <td>1</td>\n",
       "      <td>0</td>\n",
       "      <td>1</td>\n",
       "      <td>1</td>\n",
       "      <td>1</td>\n",
       "      <td>1</td>\n",
       "      <td>1</td>\n",
       "      <td>1</td>\n",
       "      <td>1</td>\n",
       "      <td>1</td>\n",
       "      <td>1</td>\n",
       "      <td>1</td>\n",
       "      <td>1</td>\n",
       "    </tr>\n",
       "    <tr>\n",
       "      <th>Missouri</th>\n",
       "      <td>1</td>\n",
       "      <td>0</td>\n",
       "      <td>1</td>\n",
       "      <td>1</td>\n",
       "      <td>1</td>\n",
       "      <td>0</td>\n",
       "      <td>0</td>\n",
       "      <td>1</td>\n",
       "      <td>1</td>\n",
       "      <td>1</td>\n",
       "      <td>1</td>\n",
       "      <td>1</td>\n",
       "      <td>1</td>\n",
       "    </tr>\n",
       "    <tr>\n",
       "      <th>Montana</th>\n",
       "      <td>1</td>\n",
       "      <td>1</td>\n",
       "      <td>1</td>\n",
       "      <td>1</td>\n",
       "      <td>1</td>\n",
       "      <td>0</td>\n",
       "      <td>1</td>\n",
       "      <td>1</td>\n",
       "      <td>1</td>\n",
       "      <td>1</td>\n",
       "      <td>1</td>\n",
       "      <td>1</td>\n",
       "      <td>1</td>\n",
       "    </tr>\n",
       "    <tr>\n",
       "      <th>Nebraska</th>\n",
       "      <td>1</td>\n",
       "      <td>1</td>\n",
       "      <td>1</td>\n",
       "      <td>1</td>\n",
       "      <td>1</td>\n",
       "      <td>1</td>\n",
       "      <td>1</td>\n",
       "      <td>1</td>\n",
       "      <td>1</td>\n",
       "      <td>1</td>\n",
       "      <td>1</td>\n",
       "      <td>1</td>\n",
       "      <td>1</td>\n",
       "    </tr>\n",
       "    <tr>\n",
       "      <th>Nevada</th>\n",
       "      <td>1</td>\n",
       "      <td>1</td>\n",
       "      <td>1</td>\n",
       "      <td>1</td>\n",
       "      <td>1</td>\n",
       "      <td>0</td>\n",
       "      <td>0</td>\n",
       "      <td>1</td>\n",
       "      <td>1</td>\n",
       "      <td>0</td>\n",
       "      <td>0</td>\n",
       "      <td>0</td>\n",
       "      <td>0</td>\n",
       "    </tr>\n",
       "    <tr>\n",
       "      <th>New Hampshire</th>\n",
       "      <td>1</td>\n",
       "      <td>1</td>\n",
       "      <td>1</td>\n",
       "      <td>1</td>\n",
       "      <td>1</td>\n",
       "      <td>0</td>\n",
       "      <td>0</td>\n",
       "      <td>1</td>\n",
       "      <td>0</td>\n",
       "      <td>0</td>\n",
       "      <td>0</td>\n",
       "      <td>0</td>\n",
       "      <td>0</td>\n",
       "    </tr>\n",
       "    <tr>\n",
       "      <th>New Jersey</th>\n",
       "      <td>1</td>\n",
       "      <td>1</td>\n",
       "      <td>1</td>\n",
       "      <td>1</td>\n",
       "      <td>1</td>\n",
       "      <td>0</td>\n",
       "      <td>0</td>\n",
       "      <td>0</td>\n",
       "      <td>0</td>\n",
       "      <td>0</td>\n",
       "      <td>0</td>\n",
       "      <td>0</td>\n",
       "      <td>0</td>\n",
       "    </tr>\n",
       "    <tr>\n",
       "      <th>New Mexico</th>\n",
       "      <td>1</td>\n",
       "      <td>1</td>\n",
       "      <td>1</td>\n",
       "      <td>1</td>\n",
       "      <td>1</td>\n",
       "      <td>0</td>\n",
       "      <td>0</td>\n",
       "      <td>0</td>\n",
       "      <td>1</td>\n",
       "      <td>0</td>\n",
       "      <td>0</td>\n",
       "      <td>0</td>\n",
       "      <td>0</td>\n",
       "    </tr>\n",
       "    <tr>\n",
       "      <th>New York</th>\n",
       "      <td>1</td>\n",
       "      <td>0</td>\n",
       "      <td>1</td>\n",
       "      <td>1</td>\n",
       "      <td>0</td>\n",
       "      <td>0</td>\n",
       "      <td>0</td>\n",
       "      <td>0</td>\n",
       "      <td>0</td>\n",
       "      <td>0</td>\n",
       "      <td>0</td>\n",
       "      <td>0</td>\n",
       "      <td>0</td>\n",
       "    </tr>\n",
       "    <tr>\n",
       "      <th>North Carolina</th>\n",
       "      <td>1</td>\n",
       "      <td>0</td>\n",
       "      <td>1</td>\n",
       "      <td>1</td>\n",
       "      <td>1</td>\n",
       "      <td>1</td>\n",
       "      <td>1</td>\n",
       "      <td>1</td>\n",
       "      <td>1</td>\n",
       "      <td>0</td>\n",
       "      <td>1</td>\n",
       "      <td>1</td>\n",
       "      <td>1</td>\n",
       "    </tr>\n",
       "    <tr>\n",
       "      <th>North Dakota</th>\n",
       "      <td>1</td>\n",
       "      <td>1</td>\n",
       "      <td>1</td>\n",
       "      <td>1</td>\n",
       "      <td>1</td>\n",
       "      <td>1</td>\n",
       "      <td>1</td>\n",
       "      <td>1</td>\n",
       "      <td>1</td>\n",
       "      <td>1</td>\n",
       "      <td>1</td>\n",
       "      <td>1</td>\n",
       "      <td>1</td>\n",
       "    </tr>\n",
       "    <tr>\n",
       "      <th>Ohio</th>\n",
       "      <td>1</td>\n",
       "      <td>0</td>\n",
       "      <td>1</td>\n",
       "      <td>1</td>\n",
       "      <td>1</td>\n",
       "      <td>0</td>\n",
       "      <td>0</td>\n",
       "      <td>1</td>\n",
       "      <td>1</td>\n",
       "      <td>0</td>\n",
       "      <td>0</td>\n",
       "      <td>1</td>\n",
       "      <td>1</td>\n",
       "    </tr>\n",
       "    <tr>\n",
       "      <th>Oklahoma</th>\n",
       "      <td>1</td>\n",
       "      <td>1</td>\n",
       "      <td>1</td>\n",
       "      <td>1</td>\n",
       "      <td>1</td>\n",
       "      <td>1</td>\n",
       "      <td>1</td>\n",
       "      <td>1</td>\n",
       "      <td>1</td>\n",
       "      <td>1</td>\n",
       "      <td>1</td>\n",
       "      <td>1</td>\n",
       "      <td>1</td>\n",
       "    </tr>\n",
       "    <tr>\n",
       "      <th>Oregon</th>\n",
       "      <td>1</td>\n",
       "      <td>1</td>\n",
       "      <td>1</td>\n",
       "      <td>1</td>\n",
       "      <td>0</td>\n",
       "      <td>0</td>\n",
       "      <td>0</td>\n",
       "      <td>0</td>\n",
       "      <td>0</td>\n",
       "      <td>0</td>\n",
       "      <td>0</td>\n",
       "      <td>0</td>\n",
       "      <td>0</td>\n",
       "    </tr>\n",
       "    <tr>\n",
       "      <th>Pennsylvania</th>\n",
       "      <td>1</td>\n",
       "      <td>0</td>\n",
       "      <td>1</td>\n",
       "      <td>1</td>\n",
       "      <td>1</td>\n",
       "      <td>0</td>\n",
       "      <td>0</td>\n",
       "      <td>0</td>\n",
       "      <td>0</td>\n",
       "      <td>0</td>\n",
       "      <td>0</td>\n",
       "      <td>1</td>\n",
       "      <td>0</td>\n",
       "    </tr>\n",
       "    <tr>\n",
       "      <th>Rhode Island</th>\n",
       "      <td>1</td>\n",
       "      <td>0</td>\n",
       "      <td>0</td>\n",
       "      <td>1</td>\n",
       "      <td>0</td>\n",
       "      <td>0</td>\n",
       "      <td>0</td>\n",
       "      <td>0</td>\n",
       "      <td>0</td>\n",
       "      <td>0</td>\n",
       "      <td>0</td>\n",
       "      <td>0</td>\n",
       "      <td>0</td>\n",
       "    </tr>\n",
       "    <tr>\n",
       "      <th>South Carolina</th>\n",
       "      <td>1</td>\n",
       "      <td>0</td>\n",
       "      <td>1</td>\n",
       "      <td>1</td>\n",
       "      <td>1</td>\n",
       "      <td>1</td>\n",
       "      <td>1</td>\n",
       "      <td>1</td>\n",
       "      <td>1</td>\n",
       "      <td>1</td>\n",
       "      <td>1</td>\n",
       "      <td>1</td>\n",
       "      <td>1</td>\n",
       "    </tr>\n",
       "    <tr>\n",
       "      <th>South Dakota</th>\n",
       "      <td>1</td>\n",
       "      <td>1</td>\n",
       "      <td>1</td>\n",
       "      <td>1</td>\n",
       "      <td>1</td>\n",
       "      <td>1</td>\n",
       "      <td>1</td>\n",
       "      <td>1</td>\n",
       "      <td>1</td>\n",
       "      <td>1</td>\n",
       "      <td>1</td>\n",
       "      <td>1</td>\n",
       "      <td>1</td>\n",
       "    </tr>\n",
       "    <tr>\n",
       "      <th>Tennessee</th>\n",
       "      <td>1</td>\n",
       "      <td>0</td>\n",
       "      <td>1</td>\n",
       "      <td>1</td>\n",
       "      <td>1</td>\n",
       "      <td>0</td>\n",
       "      <td>0</td>\n",
       "      <td>1</td>\n",
       "      <td>1</td>\n",
       "      <td>1</td>\n",
       "      <td>1</td>\n",
       "      <td>1</td>\n",
       "      <td>1</td>\n",
       "    </tr>\n",
       "    <tr>\n",
       "      <th>Texas</th>\n",
       "      <td>1</td>\n",
       "      <td>0</td>\n",
       "      <td>1</td>\n",
       "      <td>1</td>\n",
       "      <td>1</td>\n",
       "      <td>1</td>\n",
       "      <td>1</td>\n",
       "      <td>1</td>\n",
       "      <td>1</td>\n",
       "      <td>1</td>\n",
       "      <td>1</td>\n",
       "      <td>1</td>\n",
       "      <td>1</td>\n",
       "    </tr>\n",
       "    <tr>\n",
       "      <th>Utah</th>\n",
       "      <td>1</td>\n",
       "      <td>1</td>\n",
       "      <td>1</td>\n",
       "      <td>1</td>\n",
       "      <td>1</td>\n",
       "      <td>1</td>\n",
       "      <td>1</td>\n",
       "      <td>1</td>\n",
       "      <td>1</td>\n",
       "      <td>1</td>\n",
       "      <td>1</td>\n",
       "      <td>1</td>\n",
       "      <td>1</td>\n",
       "    </tr>\n",
       "    <tr>\n",
       "      <th>Vermont</th>\n",
       "      <td>1</td>\n",
       "      <td>1</td>\n",
       "      <td>1</td>\n",
       "      <td>1</td>\n",
       "      <td>1</td>\n",
       "      <td>0</td>\n",
       "      <td>0</td>\n",
       "      <td>0</td>\n",
       "      <td>0</td>\n",
       "      <td>0</td>\n",
       "      <td>0</td>\n",
       "      <td>0</td>\n",
       "      <td>0</td>\n",
       "    </tr>\n",
       "    <tr>\n",
       "      <th>Virginia</th>\n",
       "      <td>1</td>\n",
       "      <td>1</td>\n",
       "      <td>1</td>\n",
       "      <td>1</td>\n",
       "      <td>1</td>\n",
       "      <td>1</td>\n",
       "      <td>1</td>\n",
       "      <td>1</td>\n",
       "      <td>1</td>\n",
       "      <td>0</td>\n",
       "      <td>0</td>\n",
       "      <td>0</td>\n",
       "      <td>0</td>\n",
       "    </tr>\n",
       "    <tr>\n",
       "      <th>Washington</th>\n",
       "      <td>1</td>\n",
       "      <td>1</td>\n",
       "      <td>1</td>\n",
       "      <td>1</td>\n",
       "      <td>0</td>\n",
       "      <td>0</td>\n",
       "      <td>0</td>\n",
       "      <td>0</td>\n",
       "      <td>0</td>\n",
       "      <td>0</td>\n",
       "      <td>0</td>\n",
       "      <td>0</td>\n",
       "      <td>0</td>\n",
       "    </tr>\n",
       "    <tr>\n",
       "      <th>West Virginia</th>\n",
       "      <td>1</td>\n",
       "      <td>0</td>\n",
       "      <td>0</td>\n",
       "      <td>1</td>\n",
       "      <td>0</td>\n",
       "      <td>0</td>\n",
       "      <td>0</td>\n",
       "      <td>1</td>\n",
       "      <td>1</td>\n",
       "      <td>1</td>\n",
       "      <td>1</td>\n",
       "      <td>1</td>\n",
       "      <td>1</td>\n",
       "    </tr>\n",
       "    <tr>\n",
       "      <th>Wisconsin</th>\n",
       "      <td>1</td>\n",
       "      <td>0</td>\n",
       "      <td>1</td>\n",
       "      <td>1</td>\n",
       "      <td>0</td>\n",
       "      <td>0</td>\n",
       "      <td>0</td>\n",
       "      <td>0</td>\n",
       "      <td>0</td>\n",
       "      <td>0</td>\n",
       "      <td>0</td>\n",
       "      <td>1</td>\n",
       "      <td>0</td>\n",
       "    </tr>\n",
       "    <tr>\n",
       "      <th>Wyoming</th>\n",
       "      <td>1</td>\n",
       "      <td>1</td>\n",
       "      <td>1</td>\n",
       "      <td>1</td>\n",
       "      <td>1</td>\n",
       "      <td>1</td>\n",
       "      <td>1</td>\n",
       "      <td>1</td>\n",
       "      <td>1</td>\n",
       "      <td>1</td>\n",
       "      <td>1</td>\n",
       "      <td>1</td>\n",
       "      <td>1</td>\n",
       "    </tr>\n",
       "  </tbody>\n",
       "</table>\n",
       "</div>"
      ],
      "text/plain": [
       "                1972  1976  1980  1984  1988  1992  1996  2000  2004  2008  \\\n",
       "State                                                                        \n",
       "Alabama            1     0     1     1     1     1     1     1     1     1   \n",
       "Alaska             1     1     1     1     1     1     1     1     1     1   \n",
       "Arizona            1     1     1     1     1     1     0     1     1     1   \n",
       "Arkansas           1     0     1     1     1     0     0     1     1     1   \n",
       "California         1     1     1     1     1     0     0     0     0     0   \n",
       "Colorado           1     1     1     1     1     0     1     1     1     0   \n",
       "Connecticut        1     1     1     1     1     0     0     0     0     0   \n",
       "Delaware           1     0     1     1     1     0     0     0     0     0   \n",
       "D.C.               0     0     0     0     0     0     0     0     0     0   \n",
       "Florida            1     0     1     1     1     1     0     1     1     0   \n",
       "Georgia            1     0     0     1     1     0     1     1     1     1   \n",
       "Hawaii             1     0     0     1     0     0     0     0     0     0   \n",
       "Idaho              1     1     1     1     1     1     1     1     1     1   \n",
       "Illinois           1     1     1     1     1     0     0     0     0     0   \n",
       "Indiana            1     1     1     1     1     1     1     1     1     0   \n",
       "Iowa               1     1     1     1     0     0     0     0     1     0   \n",
       "Kansas             1     1     1     1     1     1     1     1     1     1   \n",
       "Kentucky           1     0     1     1     1     0     0     1     1     1   \n",
       "Louisiana          1     0     1     1     1     0     0     1     1     1   \n",
       "Maine              1     1     1     1     1     0     0     0     0     0   \n",
       "Maryland           1     0     0     1     1     0     0     0     0     0   \n",
       "Massachusetts      0     0     1     1     0     0     0     0     0     0   \n",
       "Michigan           1     1     1     1     1     0     0     0     0     0   \n",
       "Minnesota          1     0     0     0     0     0     0     0     0     0   \n",
       "Mississippi        1     0     1     1     1     1     1     1     1     1   \n",
       "Missouri           1     0     1     1     1     0     0     1     1     1   \n",
       "Montana            1     1     1     1     1     0     1     1     1     1   \n",
       "Nebraska           1     1     1     1     1     1     1     1     1     1   \n",
       "Nevada             1     1     1     1     1     0     0     1     1     0   \n",
       "New Hampshire      1     1     1     1     1     0     0     1     0     0   \n",
       "New Jersey         1     1     1     1     1     0     0     0     0     0   \n",
       "New Mexico         1     1     1     1     1     0     0     0     1     0   \n",
       "New York           1     0     1     1     0     0     0     0     0     0   \n",
       "North Carolina     1     0     1     1     1     1     1     1     1     0   \n",
       "North Dakota       1     1     1     1     1     1     1     1     1     1   \n",
       "Ohio               1     0     1     1     1     0     0     1     1     0   \n",
       "Oklahoma           1     1     1     1     1     1     1     1     1     1   \n",
       "Oregon             1     1     1     1     0     0     0     0     0     0   \n",
       "Pennsylvania       1     0     1     1     1     0     0     0     0     0   \n",
       "Rhode Island       1     0     0     1     0     0     0     0     0     0   \n",
       "South Carolina     1     0     1     1     1     1     1     1     1     1   \n",
       "South Dakota       1     1     1     1     1     1     1     1     1     1   \n",
       "Tennessee          1     0     1     1     1     0     0     1     1     1   \n",
       "Texas              1     0     1     1     1     1     1     1     1     1   \n",
       "Utah               1     1     1     1     1     1     1     1     1     1   \n",
       "Vermont            1     1     1     1     1     0     0     0     0     0   \n",
       "Virginia           1     1     1     1     1     1     1     1     1     0   \n",
       "Washington         1     1     1     1     0     0     0     0     0     0   \n",
       "West Virginia      1     0     0     1     0     0     0     1     1     1   \n",
       "Wisconsin          1     0     1     1     0     0     0     0     0     0   \n",
       "Wyoming            1     1     1     1     1     1     1     1     1     1   \n",
       "\n",
       "                2012  2016  2020  \n",
       "State                             \n",
       "Alabama            1     1     1  \n",
       "Alaska             1     1     1  \n",
       "Arizona            1     1     0  \n",
       "Arkansas           1     1     1  \n",
       "California         0     0     0  \n",
       "Colorado           0     0     0  \n",
       "Connecticut        0     0     0  \n",
       "Delaware           0     0     0  \n",
       "D.C.               0     0     0  \n",
       "Florida            0     1     1  \n",
       "Georgia            1     1     0  \n",
       "Hawaii             0     0     0  \n",
       "Idaho              1     1     1  \n",
       "Illinois           0     0     0  \n",
       "Indiana            1     1     1  \n",
       "Iowa               0     1     1  \n",
       "Kansas             1     1     1  \n",
       "Kentucky           1     1     1  \n",
       "Louisiana          1     1     1  \n",
       "Maine              0     0     0  \n",
       "Maryland           0     0     0  \n",
       "Massachusetts      0     0     0  \n",
       "Michigan           0     1     0  \n",
       "Minnesota          0     0     0  \n",
       "Mississippi        1     1     1  \n",
       "Missouri           1     1     1  \n",
       "Montana            1     1     1  \n",
       "Nebraska           1     1     1  \n",
       "Nevada             0     0     0  \n",
       "New Hampshire      0     0     0  \n",
       "New Jersey         0     0     0  \n",
       "New Mexico         0     0     0  \n",
       "New York           0     0     0  \n",
       "North Carolina     1     1     1  \n",
       "North Dakota       1     1     1  \n",
       "Ohio               0     1     1  \n",
       "Oklahoma           1     1     1  \n",
       "Oregon             0     0     0  \n",
       "Pennsylvania       0     1     0  \n",
       "Rhode Island       0     0     0  \n",
       "South Carolina     1     1     1  \n",
       "South Dakota       1     1     1  \n",
       "Tennessee          1     1     1  \n",
       "Texas              1     1     1  \n",
       "Utah               1     1     1  \n",
       "Vermont            0     0     0  \n",
       "Virginia           0     0     0  \n",
       "Washington         0     0     0  \n",
       "West Virginia      1     1     1  \n",
       "Wisconsin          0     1     0  \n",
       "Wyoming            1     1     1  "
      ]
     },
     "execution_count": 32,
     "metadata": {},
     "output_type": "execute_result"
    }
   ],
   "source": [
    "df_numerical = df_clean.replace({'D':0,'R':1})\n",
    "df_numerical"
   ]
  },
  {
   "cell_type": "code",
   "execution_count": 33,
   "id": "a1d3de88",
   "metadata": {
    "deletable": false,
    "editable": false
   },
   "outputs": [
    {
     "data": {
      "text/html": [
       "<p><strong><pre style='display: inline;'>q6b</pre></strong> passed! 🎉</p>"
      ],
      "text/plain": [
       "q6b results: All test cases passed!"
      ]
     },
     "execution_count": 33,
     "metadata": {},
     "output_type": "execute_result"
    }
   ],
   "source": [
    "grader.check(\"q6b\")"
   ]
  },
  {
   "cell_type": "markdown",
   "id": "f5a3b31b",
   "metadata": {
    "deletable": false,
    "editable": false
   },
   "source": [
    "<br/>\n",
    "\n",
    "<hr style=\"border: 1px solid #fdb515;\" />\n",
    "\n",
    "### Question 6c\n",
    "\n",
    "Now **standardize the data**: Center the data so that each column's mean is 0, and scale the data so that each column's variance is 1. Store your result in `df_standardized`.\n",
    "\n",
    "<!--\n",
    "BEGIN QUESTION\n",
    "name: q6c\n",
    "points: 1\n",
    "-->"
   ]
  },
  {
   "cell_type": "code",
   "execution_count": 34,
   "id": "b891b8ba",
   "metadata": {},
   "outputs": [
    {
     "data": {
      "text/html": [
       "<div>\n",
       "<style scoped>\n",
       "    .dataframe tbody tr th:only-of-type {\n",
       "        vertical-align: middle;\n",
       "    }\n",
       "\n",
       "    .dataframe tbody tr th {\n",
       "        vertical-align: top;\n",
       "    }\n",
       "\n",
       "    .dataframe thead th {\n",
       "        text-align: right;\n",
       "    }\n",
       "</style>\n",
       "<table border=\"1\" class=\"dataframe\">\n",
       "  <thead>\n",
       "    <tr style=\"text-align: right;\">\n",
       "      <th></th>\n",
       "      <th>1972</th>\n",
       "      <th>1976</th>\n",
       "      <th>1980</th>\n",
       "      <th>1984</th>\n",
       "      <th>1988</th>\n",
       "      <th>1992</th>\n",
       "      <th>1996</th>\n",
       "      <th>2000</th>\n",
       "      <th>2004</th>\n",
       "      <th>2008</th>\n",
       "      <th>2012</th>\n",
       "      <th>2016</th>\n",
       "      <th>2020</th>\n",
       "    </tr>\n",
       "    <tr>\n",
       "      <th>State</th>\n",
       "      <th></th>\n",
       "      <th></th>\n",
       "      <th></th>\n",
       "      <th></th>\n",
       "      <th></th>\n",
       "      <th></th>\n",
       "      <th></th>\n",
       "      <th></th>\n",
       "      <th></th>\n",
       "      <th></th>\n",
       "      <th></th>\n",
       "      <th></th>\n",
       "      <th></th>\n",
       "    </tr>\n",
       "  </thead>\n",
       "  <tbody>\n",
       "    <tr>\n",
       "      <th>Alabama</th>\n",
       "      <td>0.202031</td>\n",
       "      <td>-1.060660</td>\n",
       "      <td>0.398862</td>\n",
       "      <td>0.202031</td>\n",
       "      <td>0.524404</td>\n",
       "      <td>1.354006</td>\n",
       "      <td>1.297771</td>\n",
       "      <td>0.836660</td>\n",
       "      <td>0.803219</td>\n",
       "      <td>1.148121</td>\n",
       "      <td>1.060660</td>\n",
       "      <td>0.836660</td>\n",
       "      <td>1.019804</td>\n",
       "    </tr>\n",
       "    <tr>\n",
       "      <th>Alaska</th>\n",
       "      <td>0.202031</td>\n",
       "      <td>0.942809</td>\n",
       "      <td>0.398862</td>\n",
       "      <td>0.202031</td>\n",
       "      <td>0.524404</td>\n",
       "      <td>1.354006</td>\n",
       "      <td>1.297771</td>\n",
       "      <td>0.836660</td>\n",
       "      <td>0.803219</td>\n",
       "      <td>1.148121</td>\n",
       "      <td>1.060660</td>\n",
       "      <td>0.836660</td>\n",
       "      <td>1.019804</td>\n",
       "    </tr>\n",
       "    <tr>\n",
       "      <th>Arizona</th>\n",
       "      <td>0.202031</td>\n",
       "      <td>0.942809</td>\n",
       "      <td>0.398862</td>\n",
       "      <td>0.202031</td>\n",
       "      <td>0.524404</td>\n",
       "      <td>1.354006</td>\n",
       "      <td>-0.770552</td>\n",
       "      <td>0.836660</td>\n",
       "      <td>0.803219</td>\n",
       "      <td>1.148121</td>\n",
       "      <td>1.060660</td>\n",
       "      <td>0.836660</td>\n",
       "      <td>-0.980581</td>\n",
       "    </tr>\n",
       "    <tr>\n",
       "      <th>Arkansas</th>\n",
       "      <td>0.202031</td>\n",
       "      <td>-1.060660</td>\n",
       "      <td>0.398862</td>\n",
       "      <td>0.202031</td>\n",
       "      <td>0.524404</td>\n",
       "      <td>-0.738549</td>\n",
       "      <td>-0.770552</td>\n",
       "      <td>0.836660</td>\n",
       "      <td>0.803219</td>\n",
       "      <td>1.148121</td>\n",
       "      <td>1.060660</td>\n",
       "      <td>0.836660</td>\n",
       "      <td>1.019804</td>\n",
       "    </tr>\n",
       "    <tr>\n",
       "      <th>California</th>\n",
       "      <td>0.202031</td>\n",
       "      <td>0.942809</td>\n",
       "      <td>0.398862</td>\n",
       "      <td>0.202031</td>\n",
       "      <td>0.524404</td>\n",
       "      <td>-0.738549</td>\n",
       "      <td>-0.770552</td>\n",
       "      <td>-1.195229</td>\n",
       "      <td>-1.244990</td>\n",
       "      <td>-0.870988</td>\n",
       "      <td>-0.942809</td>\n",
       "      <td>-1.195229</td>\n",
       "      <td>-0.980581</td>\n",
       "    </tr>\n",
       "    <tr>\n",
       "      <th>Colorado</th>\n",
       "      <td>0.202031</td>\n",
       "      <td>0.942809</td>\n",
       "      <td>0.398862</td>\n",
       "      <td>0.202031</td>\n",
       "      <td>0.524404</td>\n",
       "      <td>-0.738549</td>\n",
       "      <td>1.297771</td>\n",
       "      <td>0.836660</td>\n",
       "      <td>0.803219</td>\n",
       "      <td>-0.870988</td>\n",
       "      <td>-0.942809</td>\n",
       "      <td>-1.195229</td>\n",
       "      <td>-0.980581</td>\n",
       "    </tr>\n",
       "    <tr>\n",
       "      <th>Connecticut</th>\n",
       "      <td>0.202031</td>\n",
       "      <td>0.942809</td>\n",
       "      <td>0.398862</td>\n",
       "      <td>0.202031</td>\n",
       "      <td>0.524404</td>\n",
       "      <td>-0.738549</td>\n",
       "      <td>-0.770552</td>\n",
       "      <td>-1.195229</td>\n",
       "      <td>-1.244990</td>\n",
       "      <td>-0.870988</td>\n",
       "      <td>-0.942809</td>\n",
       "      <td>-1.195229</td>\n",
       "      <td>-0.980581</td>\n",
       "    </tr>\n",
       "    <tr>\n",
       "      <th>Delaware</th>\n",
       "      <td>0.202031</td>\n",
       "      <td>-1.060660</td>\n",
       "      <td>0.398862</td>\n",
       "      <td>0.202031</td>\n",
       "      <td>0.524404</td>\n",
       "      <td>-0.738549</td>\n",
       "      <td>-0.770552</td>\n",
       "      <td>-1.195229</td>\n",
       "      <td>-1.244990</td>\n",
       "      <td>-0.870988</td>\n",
       "      <td>-0.942809</td>\n",
       "      <td>-1.195229</td>\n",
       "      <td>-0.980581</td>\n",
       "    </tr>\n",
       "    <tr>\n",
       "      <th>D.C.</th>\n",
       "      <td>-4.949747</td>\n",
       "      <td>-1.060660</td>\n",
       "      <td>-2.507133</td>\n",
       "      <td>-4.949747</td>\n",
       "      <td>-1.906925</td>\n",
       "      <td>-0.738549</td>\n",
       "      <td>-0.770552</td>\n",
       "      <td>-1.195229</td>\n",
       "      <td>-1.244990</td>\n",
       "      <td>-0.870988</td>\n",
       "      <td>-0.942809</td>\n",
       "      <td>-1.195229</td>\n",
       "      <td>-0.980581</td>\n",
       "    </tr>\n",
       "    <tr>\n",
       "      <th>Florida</th>\n",
       "      <td>0.202031</td>\n",
       "      <td>-1.060660</td>\n",
       "      <td>0.398862</td>\n",
       "      <td>0.202031</td>\n",
       "      <td>0.524404</td>\n",
       "      <td>1.354006</td>\n",
       "      <td>-0.770552</td>\n",
       "      <td>0.836660</td>\n",
       "      <td>0.803219</td>\n",
       "      <td>-0.870988</td>\n",
       "      <td>-0.942809</td>\n",
       "      <td>0.836660</td>\n",
       "      <td>1.019804</td>\n",
       "    </tr>\n",
       "    <tr>\n",
       "      <th>Georgia</th>\n",
       "      <td>0.202031</td>\n",
       "      <td>-1.060660</td>\n",
       "      <td>-2.507133</td>\n",
       "      <td>0.202031</td>\n",
       "      <td>0.524404</td>\n",
       "      <td>-0.738549</td>\n",
       "      <td>1.297771</td>\n",
       "      <td>0.836660</td>\n",
       "      <td>0.803219</td>\n",
       "      <td>1.148121</td>\n",
       "      <td>1.060660</td>\n",
       "      <td>0.836660</td>\n",
       "      <td>-0.980581</td>\n",
       "    </tr>\n",
       "    <tr>\n",
       "      <th>Hawaii</th>\n",
       "      <td>0.202031</td>\n",
       "      <td>-1.060660</td>\n",
       "      <td>-2.507133</td>\n",
       "      <td>0.202031</td>\n",
       "      <td>-1.906925</td>\n",
       "      <td>-0.738549</td>\n",
       "      <td>-0.770552</td>\n",
       "      <td>-1.195229</td>\n",
       "      <td>-1.244990</td>\n",
       "      <td>-0.870988</td>\n",
       "      <td>-0.942809</td>\n",
       "      <td>-1.195229</td>\n",
       "      <td>-0.980581</td>\n",
       "    </tr>\n",
       "    <tr>\n",
       "      <th>Idaho</th>\n",
       "      <td>0.202031</td>\n",
       "      <td>0.942809</td>\n",
       "      <td>0.398862</td>\n",
       "      <td>0.202031</td>\n",
       "      <td>0.524404</td>\n",
       "      <td>1.354006</td>\n",
       "      <td>1.297771</td>\n",
       "      <td>0.836660</td>\n",
       "      <td>0.803219</td>\n",
       "      <td>1.148121</td>\n",
       "      <td>1.060660</td>\n",
       "      <td>0.836660</td>\n",
       "      <td>1.019804</td>\n",
       "    </tr>\n",
       "    <tr>\n",
       "      <th>Illinois</th>\n",
       "      <td>0.202031</td>\n",
       "      <td>0.942809</td>\n",
       "      <td>0.398862</td>\n",
       "      <td>0.202031</td>\n",
       "      <td>0.524404</td>\n",
       "      <td>-0.738549</td>\n",
       "      <td>-0.770552</td>\n",
       "      <td>-1.195229</td>\n",
       "      <td>-1.244990</td>\n",
       "      <td>-0.870988</td>\n",
       "      <td>-0.942809</td>\n",
       "      <td>-1.195229</td>\n",
       "      <td>-0.980581</td>\n",
       "    </tr>\n",
       "    <tr>\n",
       "      <th>Indiana</th>\n",
       "      <td>0.202031</td>\n",
       "      <td>0.942809</td>\n",
       "      <td>0.398862</td>\n",
       "      <td>0.202031</td>\n",
       "      <td>0.524404</td>\n",
       "      <td>1.354006</td>\n",
       "      <td>1.297771</td>\n",
       "      <td>0.836660</td>\n",
       "      <td>0.803219</td>\n",
       "      <td>-0.870988</td>\n",
       "      <td>1.060660</td>\n",
       "      <td>0.836660</td>\n",
       "      <td>1.019804</td>\n",
       "    </tr>\n",
       "    <tr>\n",
       "      <th>Iowa</th>\n",
       "      <td>0.202031</td>\n",
       "      <td>0.942809</td>\n",
       "      <td>0.398862</td>\n",
       "      <td>0.202031</td>\n",
       "      <td>-1.906925</td>\n",
       "      <td>-0.738549</td>\n",
       "      <td>-0.770552</td>\n",
       "      <td>-1.195229</td>\n",
       "      <td>0.803219</td>\n",
       "      <td>-0.870988</td>\n",
       "      <td>-0.942809</td>\n",
       "      <td>0.836660</td>\n",
       "      <td>1.019804</td>\n",
       "    </tr>\n",
       "    <tr>\n",
       "      <th>Kansas</th>\n",
       "      <td>0.202031</td>\n",
       "      <td>0.942809</td>\n",
       "      <td>0.398862</td>\n",
       "      <td>0.202031</td>\n",
       "      <td>0.524404</td>\n",
       "      <td>1.354006</td>\n",
       "      <td>1.297771</td>\n",
       "      <td>0.836660</td>\n",
       "      <td>0.803219</td>\n",
       "      <td>1.148121</td>\n",
       "      <td>1.060660</td>\n",
       "      <td>0.836660</td>\n",
       "      <td>1.019804</td>\n",
       "    </tr>\n",
       "    <tr>\n",
       "      <th>Kentucky</th>\n",
       "      <td>0.202031</td>\n",
       "      <td>-1.060660</td>\n",
       "      <td>0.398862</td>\n",
       "      <td>0.202031</td>\n",
       "      <td>0.524404</td>\n",
       "      <td>-0.738549</td>\n",
       "      <td>-0.770552</td>\n",
       "      <td>0.836660</td>\n",
       "      <td>0.803219</td>\n",
       "      <td>1.148121</td>\n",
       "      <td>1.060660</td>\n",
       "      <td>0.836660</td>\n",
       "      <td>1.019804</td>\n",
       "    </tr>\n",
       "    <tr>\n",
       "      <th>Louisiana</th>\n",
       "      <td>0.202031</td>\n",
       "      <td>-1.060660</td>\n",
       "      <td>0.398862</td>\n",
       "      <td>0.202031</td>\n",
       "      <td>0.524404</td>\n",
       "      <td>-0.738549</td>\n",
       "      <td>-0.770552</td>\n",
       "      <td>0.836660</td>\n",
       "      <td>0.803219</td>\n",
       "      <td>1.148121</td>\n",
       "      <td>1.060660</td>\n",
       "      <td>0.836660</td>\n",
       "      <td>1.019804</td>\n",
       "    </tr>\n",
       "    <tr>\n",
       "      <th>Maine</th>\n",
       "      <td>0.202031</td>\n",
       "      <td>0.942809</td>\n",
       "      <td>0.398862</td>\n",
       "      <td>0.202031</td>\n",
       "      <td>0.524404</td>\n",
       "      <td>-0.738549</td>\n",
       "      <td>-0.770552</td>\n",
       "      <td>-1.195229</td>\n",
       "      <td>-1.244990</td>\n",
       "      <td>-0.870988</td>\n",
       "      <td>-0.942809</td>\n",
       "      <td>-1.195229</td>\n",
       "      <td>-0.980581</td>\n",
       "    </tr>\n",
       "    <tr>\n",
       "      <th>Maryland</th>\n",
       "      <td>0.202031</td>\n",
       "      <td>-1.060660</td>\n",
       "      <td>-2.507133</td>\n",
       "      <td>0.202031</td>\n",
       "      <td>0.524404</td>\n",
       "      <td>-0.738549</td>\n",
       "      <td>-0.770552</td>\n",
       "      <td>-1.195229</td>\n",
       "      <td>-1.244990</td>\n",
       "      <td>-0.870988</td>\n",
       "      <td>-0.942809</td>\n",
       "      <td>-1.195229</td>\n",
       "      <td>-0.980581</td>\n",
       "    </tr>\n",
       "    <tr>\n",
       "      <th>Massachusetts</th>\n",
       "      <td>-4.949747</td>\n",
       "      <td>-1.060660</td>\n",
       "      <td>0.398862</td>\n",
       "      <td>0.202031</td>\n",
       "      <td>-1.906925</td>\n",
       "      <td>-0.738549</td>\n",
       "      <td>-0.770552</td>\n",
       "      <td>-1.195229</td>\n",
       "      <td>-1.244990</td>\n",
       "      <td>-0.870988</td>\n",
       "      <td>-0.942809</td>\n",
       "      <td>-1.195229</td>\n",
       "      <td>-0.980581</td>\n",
       "    </tr>\n",
       "    <tr>\n",
       "      <th>Michigan</th>\n",
       "      <td>0.202031</td>\n",
       "      <td>0.942809</td>\n",
       "      <td>0.398862</td>\n",
       "      <td>0.202031</td>\n",
       "      <td>0.524404</td>\n",
       "      <td>-0.738549</td>\n",
       "      <td>-0.770552</td>\n",
       "      <td>-1.195229</td>\n",
       "      <td>-1.244990</td>\n",
       "      <td>-0.870988</td>\n",
       "      <td>-0.942809</td>\n",
       "      <td>0.836660</td>\n",
       "      <td>-0.980581</td>\n",
       "    </tr>\n",
       "    <tr>\n",
       "      <th>Minnesota</th>\n",
       "      <td>0.202031</td>\n",
       "      <td>-1.060660</td>\n",
       "      <td>-2.507133</td>\n",
       "      <td>-4.949747</td>\n",
       "      <td>-1.906925</td>\n",
       "      <td>-0.738549</td>\n",
       "      <td>-0.770552</td>\n",
       "      <td>-1.195229</td>\n",
       "      <td>-1.244990</td>\n",
       "      <td>-0.870988</td>\n",
       "      <td>-0.942809</td>\n",
       "      <td>-1.195229</td>\n",
       "      <td>-0.980581</td>\n",
       "    </tr>\n",
       "    <tr>\n",
       "      <th>Mississippi</th>\n",
       "      <td>0.202031</td>\n",
       "      <td>-1.060660</td>\n",
       "      <td>0.398862</td>\n",
       "      <td>0.202031</td>\n",
       "      <td>0.524404</td>\n",
       "      <td>1.354006</td>\n",
       "      <td>1.297771</td>\n",
       "      <td>0.836660</td>\n",
       "      <td>0.803219</td>\n",
       "      <td>1.148121</td>\n",
       "      <td>1.060660</td>\n",
       "      <td>0.836660</td>\n",
       "      <td>1.019804</td>\n",
       "    </tr>\n",
       "    <tr>\n",
       "      <th>Missouri</th>\n",
       "      <td>0.202031</td>\n",
       "      <td>-1.060660</td>\n",
       "      <td>0.398862</td>\n",
       "      <td>0.202031</td>\n",
       "      <td>0.524404</td>\n",
       "      <td>-0.738549</td>\n",
       "      <td>-0.770552</td>\n",
       "      <td>0.836660</td>\n",
       "      <td>0.803219</td>\n",
       "      <td>1.148121</td>\n",
       "      <td>1.060660</td>\n",
       "      <td>0.836660</td>\n",
       "      <td>1.019804</td>\n",
       "    </tr>\n",
       "    <tr>\n",
       "      <th>Montana</th>\n",
       "      <td>0.202031</td>\n",
       "      <td>0.942809</td>\n",
       "      <td>0.398862</td>\n",
       "      <td>0.202031</td>\n",
       "      <td>0.524404</td>\n",
       "      <td>-0.738549</td>\n",
       "      <td>1.297771</td>\n",
       "      <td>0.836660</td>\n",
       "      <td>0.803219</td>\n",
       "      <td>1.148121</td>\n",
       "      <td>1.060660</td>\n",
       "      <td>0.836660</td>\n",
       "      <td>1.019804</td>\n",
       "    </tr>\n",
       "    <tr>\n",
       "      <th>Nebraska</th>\n",
       "      <td>0.202031</td>\n",
       "      <td>0.942809</td>\n",
       "      <td>0.398862</td>\n",
       "      <td>0.202031</td>\n",
       "      <td>0.524404</td>\n",
       "      <td>1.354006</td>\n",
       "      <td>1.297771</td>\n",
       "      <td>0.836660</td>\n",
       "      <td>0.803219</td>\n",
       "      <td>1.148121</td>\n",
       "      <td>1.060660</td>\n",
       "      <td>0.836660</td>\n",
       "      <td>1.019804</td>\n",
       "    </tr>\n",
       "    <tr>\n",
       "      <th>Nevada</th>\n",
       "      <td>0.202031</td>\n",
       "      <td>0.942809</td>\n",
       "      <td>0.398862</td>\n",
       "      <td>0.202031</td>\n",
       "      <td>0.524404</td>\n",
       "      <td>-0.738549</td>\n",
       "      <td>-0.770552</td>\n",
       "      <td>0.836660</td>\n",
       "      <td>0.803219</td>\n",
       "      <td>-0.870988</td>\n",
       "      <td>-0.942809</td>\n",
       "      <td>-1.195229</td>\n",
       "      <td>-0.980581</td>\n",
       "    </tr>\n",
       "    <tr>\n",
       "      <th>New Hampshire</th>\n",
       "      <td>0.202031</td>\n",
       "      <td>0.942809</td>\n",
       "      <td>0.398862</td>\n",
       "      <td>0.202031</td>\n",
       "      <td>0.524404</td>\n",
       "      <td>-0.738549</td>\n",
       "      <td>-0.770552</td>\n",
       "      <td>0.836660</td>\n",
       "      <td>-1.244990</td>\n",
       "      <td>-0.870988</td>\n",
       "      <td>-0.942809</td>\n",
       "      <td>-1.195229</td>\n",
       "      <td>-0.980581</td>\n",
       "    </tr>\n",
       "    <tr>\n",
       "      <th>New Jersey</th>\n",
       "      <td>0.202031</td>\n",
       "      <td>0.942809</td>\n",
       "      <td>0.398862</td>\n",
       "      <td>0.202031</td>\n",
       "      <td>0.524404</td>\n",
       "      <td>-0.738549</td>\n",
       "      <td>-0.770552</td>\n",
       "      <td>-1.195229</td>\n",
       "      <td>-1.244990</td>\n",
       "      <td>-0.870988</td>\n",
       "      <td>-0.942809</td>\n",
       "      <td>-1.195229</td>\n",
       "      <td>-0.980581</td>\n",
       "    </tr>\n",
       "    <tr>\n",
       "      <th>New Mexico</th>\n",
       "      <td>0.202031</td>\n",
       "      <td>0.942809</td>\n",
       "      <td>0.398862</td>\n",
       "      <td>0.202031</td>\n",
       "      <td>0.524404</td>\n",
       "      <td>-0.738549</td>\n",
       "      <td>-0.770552</td>\n",
       "      <td>-1.195229</td>\n",
       "      <td>0.803219</td>\n",
       "      <td>-0.870988</td>\n",
       "      <td>-0.942809</td>\n",
       "      <td>-1.195229</td>\n",
       "      <td>-0.980581</td>\n",
       "    </tr>\n",
       "    <tr>\n",
       "      <th>New York</th>\n",
       "      <td>0.202031</td>\n",
       "      <td>-1.060660</td>\n",
       "      <td>0.398862</td>\n",
       "      <td>0.202031</td>\n",
       "      <td>-1.906925</td>\n",
       "      <td>-0.738549</td>\n",
       "      <td>-0.770552</td>\n",
       "      <td>-1.195229</td>\n",
       "      <td>-1.244990</td>\n",
       "      <td>-0.870988</td>\n",
       "      <td>-0.942809</td>\n",
       "      <td>-1.195229</td>\n",
       "      <td>-0.980581</td>\n",
       "    </tr>\n",
       "    <tr>\n",
       "      <th>North Carolina</th>\n",
       "      <td>0.202031</td>\n",
       "      <td>-1.060660</td>\n",
       "      <td>0.398862</td>\n",
       "      <td>0.202031</td>\n",
       "      <td>0.524404</td>\n",
       "      <td>1.354006</td>\n",
       "      <td>1.297771</td>\n",
       "      <td>0.836660</td>\n",
       "      <td>0.803219</td>\n",
       "      <td>-0.870988</td>\n",
       "      <td>1.060660</td>\n",
       "      <td>0.836660</td>\n",
       "      <td>1.019804</td>\n",
       "    </tr>\n",
       "    <tr>\n",
       "      <th>North Dakota</th>\n",
       "      <td>0.202031</td>\n",
       "      <td>0.942809</td>\n",
       "      <td>0.398862</td>\n",
       "      <td>0.202031</td>\n",
       "      <td>0.524404</td>\n",
       "      <td>1.354006</td>\n",
       "      <td>1.297771</td>\n",
       "      <td>0.836660</td>\n",
       "      <td>0.803219</td>\n",
       "      <td>1.148121</td>\n",
       "      <td>1.060660</td>\n",
       "      <td>0.836660</td>\n",
       "      <td>1.019804</td>\n",
       "    </tr>\n",
       "    <tr>\n",
       "      <th>Ohio</th>\n",
       "      <td>0.202031</td>\n",
       "      <td>-1.060660</td>\n",
       "      <td>0.398862</td>\n",
       "      <td>0.202031</td>\n",
       "      <td>0.524404</td>\n",
       "      <td>-0.738549</td>\n",
       "      <td>-0.770552</td>\n",
       "      <td>0.836660</td>\n",
       "      <td>0.803219</td>\n",
       "      <td>-0.870988</td>\n",
       "      <td>-0.942809</td>\n",
       "      <td>0.836660</td>\n",
       "      <td>1.019804</td>\n",
       "    </tr>\n",
       "    <tr>\n",
       "      <th>Oklahoma</th>\n",
       "      <td>0.202031</td>\n",
       "      <td>0.942809</td>\n",
       "      <td>0.398862</td>\n",
       "      <td>0.202031</td>\n",
       "      <td>0.524404</td>\n",
       "      <td>1.354006</td>\n",
       "      <td>1.297771</td>\n",
       "      <td>0.836660</td>\n",
       "      <td>0.803219</td>\n",
       "      <td>1.148121</td>\n",
       "      <td>1.060660</td>\n",
       "      <td>0.836660</td>\n",
       "      <td>1.019804</td>\n",
       "    </tr>\n",
       "    <tr>\n",
       "      <th>Oregon</th>\n",
       "      <td>0.202031</td>\n",
       "      <td>0.942809</td>\n",
       "      <td>0.398862</td>\n",
       "      <td>0.202031</td>\n",
       "      <td>-1.906925</td>\n",
       "      <td>-0.738549</td>\n",
       "      <td>-0.770552</td>\n",
       "      <td>-1.195229</td>\n",
       "      <td>-1.244990</td>\n",
       "      <td>-0.870988</td>\n",
       "      <td>-0.942809</td>\n",
       "      <td>-1.195229</td>\n",
       "      <td>-0.980581</td>\n",
       "    </tr>\n",
       "    <tr>\n",
       "      <th>Pennsylvania</th>\n",
       "      <td>0.202031</td>\n",
       "      <td>-1.060660</td>\n",
       "      <td>0.398862</td>\n",
       "      <td>0.202031</td>\n",
       "      <td>0.524404</td>\n",
       "      <td>-0.738549</td>\n",
       "      <td>-0.770552</td>\n",
       "      <td>-1.195229</td>\n",
       "      <td>-1.244990</td>\n",
       "      <td>-0.870988</td>\n",
       "      <td>-0.942809</td>\n",
       "      <td>0.836660</td>\n",
       "      <td>-0.980581</td>\n",
       "    </tr>\n",
       "    <tr>\n",
       "      <th>Rhode Island</th>\n",
       "      <td>0.202031</td>\n",
       "      <td>-1.060660</td>\n",
       "      <td>-2.507133</td>\n",
       "      <td>0.202031</td>\n",
       "      <td>-1.906925</td>\n",
       "      <td>-0.738549</td>\n",
       "      <td>-0.770552</td>\n",
       "      <td>-1.195229</td>\n",
       "      <td>-1.244990</td>\n",
       "      <td>-0.870988</td>\n",
       "      <td>-0.942809</td>\n",
       "      <td>-1.195229</td>\n",
       "      <td>-0.980581</td>\n",
       "    </tr>\n",
       "    <tr>\n",
       "      <th>South Carolina</th>\n",
       "      <td>0.202031</td>\n",
       "      <td>-1.060660</td>\n",
       "      <td>0.398862</td>\n",
       "      <td>0.202031</td>\n",
       "      <td>0.524404</td>\n",
       "      <td>1.354006</td>\n",
       "      <td>1.297771</td>\n",
       "      <td>0.836660</td>\n",
       "      <td>0.803219</td>\n",
       "      <td>1.148121</td>\n",
       "      <td>1.060660</td>\n",
       "      <td>0.836660</td>\n",
       "      <td>1.019804</td>\n",
       "    </tr>\n",
       "    <tr>\n",
       "      <th>South Dakota</th>\n",
       "      <td>0.202031</td>\n",
       "      <td>0.942809</td>\n",
       "      <td>0.398862</td>\n",
       "      <td>0.202031</td>\n",
       "      <td>0.524404</td>\n",
       "      <td>1.354006</td>\n",
       "      <td>1.297771</td>\n",
       "      <td>0.836660</td>\n",
       "      <td>0.803219</td>\n",
       "      <td>1.148121</td>\n",
       "      <td>1.060660</td>\n",
       "      <td>0.836660</td>\n",
       "      <td>1.019804</td>\n",
       "    </tr>\n",
       "    <tr>\n",
       "      <th>Tennessee</th>\n",
       "      <td>0.202031</td>\n",
       "      <td>-1.060660</td>\n",
       "      <td>0.398862</td>\n",
       "      <td>0.202031</td>\n",
       "      <td>0.524404</td>\n",
       "      <td>-0.738549</td>\n",
       "      <td>-0.770552</td>\n",
       "      <td>0.836660</td>\n",
       "      <td>0.803219</td>\n",
       "      <td>1.148121</td>\n",
       "      <td>1.060660</td>\n",
       "      <td>0.836660</td>\n",
       "      <td>1.019804</td>\n",
       "    </tr>\n",
       "    <tr>\n",
       "      <th>Texas</th>\n",
       "      <td>0.202031</td>\n",
       "      <td>-1.060660</td>\n",
       "      <td>0.398862</td>\n",
       "      <td>0.202031</td>\n",
       "      <td>0.524404</td>\n",
       "      <td>1.354006</td>\n",
       "      <td>1.297771</td>\n",
       "      <td>0.836660</td>\n",
       "      <td>0.803219</td>\n",
       "      <td>1.148121</td>\n",
       "      <td>1.060660</td>\n",
       "      <td>0.836660</td>\n",
       "      <td>1.019804</td>\n",
       "    </tr>\n",
       "    <tr>\n",
       "      <th>Utah</th>\n",
       "      <td>0.202031</td>\n",
       "      <td>0.942809</td>\n",
       "      <td>0.398862</td>\n",
       "      <td>0.202031</td>\n",
       "      <td>0.524404</td>\n",
       "      <td>1.354006</td>\n",
       "      <td>1.297771</td>\n",
       "      <td>0.836660</td>\n",
       "      <td>0.803219</td>\n",
       "      <td>1.148121</td>\n",
       "      <td>1.060660</td>\n",
       "      <td>0.836660</td>\n",
       "      <td>1.019804</td>\n",
       "    </tr>\n",
       "    <tr>\n",
       "      <th>Vermont</th>\n",
       "      <td>0.202031</td>\n",
       "      <td>0.942809</td>\n",
       "      <td>0.398862</td>\n",
       "      <td>0.202031</td>\n",
       "      <td>0.524404</td>\n",
       "      <td>-0.738549</td>\n",
       "      <td>-0.770552</td>\n",
       "      <td>-1.195229</td>\n",
       "      <td>-1.244990</td>\n",
       "      <td>-0.870988</td>\n",
       "      <td>-0.942809</td>\n",
       "      <td>-1.195229</td>\n",
       "      <td>-0.980581</td>\n",
       "    </tr>\n",
       "    <tr>\n",
       "      <th>Virginia</th>\n",
       "      <td>0.202031</td>\n",
       "      <td>0.942809</td>\n",
       "      <td>0.398862</td>\n",
       "      <td>0.202031</td>\n",
       "      <td>0.524404</td>\n",
       "      <td>1.354006</td>\n",
       "      <td>1.297771</td>\n",
       "      <td>0.836660</td>\n",
       "      <td>0.803219</td>\n",
       "      <td>-0.870988</td>\n",
       "      <td>-0.942809</td>\n",
       "      <td>-1.195229</td>\n",
       "      <td>-0.980581</td>\n",
       "    </tr>\n",
       "    <tr>\n",
       "      <th>Washington</th>\n",
       "      <td>0.202031</td>\n",
       "      <td>0.942809</td>\n",
       "      <td>0.398862</td>\n",
       "      <td>0.202031</td>\n",
       "      <td>-1.906925</td>\n",
       "      <td>-0.738549</td>\n",
       "      <td>-0.770552</td>\n",
       "      <td>-1.195229</td>\n",
       "      <td>-1.244990</td>\n",
       "      <td>-0.870988</td>\n",
       "      <td>-0.942809</td>\n",
       "      <td>-1.195229</td>\n",
       "      <td>-0.980581</td>\n",
       "    </tr>\n",
       "    <tr>\n",
       "      <th>West Virginia</th>\n",
       "      <td>0.202031</td>\n",
       "      <td>-1.060660</td>\n",
       "      <td>-2.507133</td>\n",
       "      <td>0.202031</td>\n",
       "      <td>-1.906925</td>\n",
       "      <td>-0.738549</td>\n",
       "      <td>-0.770552</td>\n",
       "      <td>0.836660</td>\n",
       "      <td>0.803219</td>\n",
       "      <td>1.148121</td>\n",
       "      <td>1.060660</td>\n",
       "      <td>0.836660</td>\n",
       "      <td>1.019804</td>\n",
       "    </tr>\n",
       "    <tr>\n",
       "      <th>Wisconsin</th>\n",
       "      <td>0.202031</td>\n",
       "      <td>-1.060660</td>\n",
       "      <td>0.398862</td>\n",
       "      <td>0.202031</td>\n",
       "      <td>-1.906925</td>\n",
       "      <td>-0.738549</td>\n",
       "      <td>-0.770552</td>\n",
       "      <td>-1.195229</td>\n",
       "      <td>-1.244990</td>\n",
       "      <td>-0.870988</td>\n",
       "      <td>-0.942809</td>\n",
       "      <td>0.836660</td>\n",
       "      <td>-0.980581</td>\n",
       "    </tr>\n",
       "    <tr>\n",
       "      <th>Wyoming</th>\n",
       "      <td>0.202031</td>\n",
       "      <td>0.942809</td>\n",
       "      <td>0.398862</td>\n",
       "      <td>0.202031</td>\n",
       "      <td>0.524404</td>\n",
       "      <td>1.354006</td>\n",
       "      <td>1.297771</td>\n",
       "      <td>0.836660</td>\n",
       "      <td>0.803219</td>\n",
       "      <td>1.148121</td>\n",
       "      <td>1.060660</td>\n",
       "      <td>0.836660</td>\n",
       "      <td>1.019804</td>\n",
       "    </tr>\n",
       "  </tbody>\n",
       "</table>\n",
       "</div>"
      ],
      "text/plain": [
       "                    1972      1976      1980      1984      1988      1992  \\\n",
       "State                                                                        \n",
       "Alabama         0.202031 -1.060660  0.398862  0.202031  0.524404  1.354006   \n",
       "Alaska          0.202031  0.942809  0.398862  0.202031  0.524404  1.354006   \n",
       "Arizona         0.202031  0.942809  0.398862  0.202031  0.524404  1.354006   \n",
       "Arkansas        0.202031 -1.060660  0.398862  0.202031  0.524404 -0.738549   \n",
       "California      0.202031  0.942809  0.398862  0.202031  0.524404 -0.738549   \n",
       "Colorado        0.202031  0.942809  0.398862  0.202031  0.524404 -0.738549   \n",
       "Connecticut     0.202031  0.942809  0.398862  0.202031  0.524404 -0.738549   \n",
       "Delaware        0.202031 -1.060660  0.398862  0.202031  0.524404 -0.738549   \n",
       "D.C.           -4.949747 -1.060660 -2.507133 -4.949747 -1.906925 -0.738549   \n",
       "Florida         0.202031 -1.060660  0.398862  0.202031  0.524404  1.354006   \n",
       "Georgia         0.202031 -1.060660 -2.507133  0.202031  0.524404 -0.738549   \n",
       "Hawaii          0.202031 -1.060660 -2.507133  0.202031 -1.906925 -0.738549   \n",
       "Idaho           0.202031  0.942809  0.398862  0.202031  0.524404  1.354006   \n",
       "Illinois        0.202031  0.942809  0.398862  0.202031  0.524404 -0.738549   \n",
       "Indiana         0.202031  0.942809  0.398862  0.202031  0.524404  1.354006   \n",
       "Iowa            0.202031  0.942809  0.398862  0.202031 -1.906925 -0.738549   \n",
       "Kansas          0.202031  0.942809  0.398862  0.202031  0.524404  1.354006   \n",
       "Kentucky        0.202031 -1.060660  0.398862  0.202031  0.524404 -0.738549   \n",
       "Louisiana       0.202031 -1.060660  0.398862  0.202031  0.524404 -0.738549   \n",
       "Maine           0.202031  0.942809  0.398862  0.202031  0.524404 -0.738549   \n",
       "Maryland        0.202031 -1.060660 -2.507133  0.202031  0.524404 -0.738549   \n",
       "Massachusetts  -4.949747 -1.060660  0.398862  0.202031 -1.906925 -0.738549   \n",
       "Michigan        0.202031  0.942809  0.398862  0.202031  0.524404 -0.738549   \n",
       "Minnesota       0.202031 -1.060660 -2.507133 -4.949747 -1.906925 -0.738549   \n",
       "Mississippi     0.202031 -1.060660  0.398862  0.202031  0.524404  1.354006   \n",
       "Missouri        0.202031 -1.060660  0.398862  0.202031  0.524404 -0.738549   \n",
       "Montana         0.202031  0.942809  0.398862  0.202031  0.524404 -0.738549   \n",
       "Nebraska        0.202031  0.942809  0.398862  0.202031  0.524404  1.354006   \n",
       "Nevada          0.202031  0.942809  0.398862  0.202031  0.524404 -0.738549   \n",
       "New Hampshire   0.202031  0.942809  0.398862  0.202031  0.524404 -0.738549   \n",
       "New Jersey      0.202031  0.942809  0.398862  0.202031  0.524404 -0.738549   \n",
       "New Mexico      0.202031  0.942809  0.398862  0.202031  0.524404 -0.738549   \n",
       "New York        0.202031 -1.060660  0.398862  0.202031 -1.906925 -0.738549   \n",
       "North Carolina  0.202031 -1.060660  0.398862  0.202031  0.524404  1.354006   \n",
       "North Dakota    0.202031  0.942809  0.398862  0.202031  0.524404  1.354006   \n",
       "Ohio            0.202031 -1.060660  0.398862  0.202031  0.524404 -0.738549   \n",
       "Oklahoma        0.202031  0.942809  0.398862  0.202031  0.524404  1.354006   \n",
       "Oregon          0.202031  0.942809  0.398862  0.202031 -1.906925 -0.738549   \n",
       "Pennsylvania    0.202031 -1.060660  0.398862  0.202031  0.524404 -0.738549   \n",
       "Rhode Island    0.202031 -1.060660 -2.507133  0.202031 -1.906925 -0.738549   \n",
       "South Carolina  0.202031 -1.060660  0.398862  0.202031  0.524404  1.354006   \n",
       "South Dakota    0.202031  0.942809  0.398862  0.202031  0.524404  1.354006   \n",
       "Tennessee       0.202031 -1.060660  0.398862  0.202031  0.524404 -0.738549   \n",
       "Texas           0.202031 -1.060660  0.398862  0.202031  0.524404  1.354006   \n",
       "Utah            0.202031  0.942809  0.398862  0.202031  0.524404  1.354006   \n",
       "Vermont         0.202031  0.942809  0.398862  0.202031  0.524404 -0.738549   \n",
       "Virginia        0.202031  0.942809  0.398862  0.202031  0.524404  1.354006   \n",
       "Washington      0.202031  0.942809  0.398862  0.202031 -1.906925 -0.738549   \n",
       "West Virginia   0.202031 -1.060660 -2.507133  0.202031 -1.906925 -0.738549   \n",
       "Wisconsin       0.202031 -1.060660  0.398862  0.202031 -1.906925 -0.738549   \n",
       "Wyoming         0.202031  0.942809  0.398862  0.202031  0.524404  1.354006   \n",
       "\n",
       "                    1996      2000      2004      2008      2012      2016  \\\n",
       "State                                                                        \n",
       "Alabama         1.297771  0.836660  0.803219  1.148121  1.060660  0.836660   \n",
       "Alaska          1.297771  0.836660  0.803219  1.148121  1.060660  0.836660   \n",
       "Arizona        -0.770552  0.836660  0.803219  1.148121  1.060660  0.836660   \n",
       "Arkansas       -0.770552  0.836660  0.803219  1.148121  1.060660  0.836660   \n",
       "California     -0.770552 -1.195229 -1.244990 -0.870988 -0.942809 -1.195229   \n",
       "Colorado        1.297771  0.836660  0.803219 -0.870988 -0.942809 -1.195229   \n",
       "Connecticut    -0.770552 -1.195229 -1.244990 -0.870988 -0.942809 -1.195229   \n",
       "Delaware       -0.770552 -1.195229 -1.244990 -0.870988 -0.942809 -1.195229   \n",
       "D.C.           -0.770552 -1.195229 -1.244990 -0.870988 -0.942809 -1.195229   \n",
       "Florida        -0.770552  0.836660  0.803219 -0.870988 -0.942809  0.836660   \n",
       "Georgia         1.297771  0.836660  0.803219  1.148121  1.060660  0.836660   \n",
       "Hawaii         -0.770552 -1.195229 -1.244990 -0.870988 -0.942809 -1.195229   \n",
       "Idaho           1.297771  0.836660  0.803219  1.148121  1.060660  0.836660   \n",
       "Illinois       -0.770552 -1.195229 -1.244990 -0.870988 -0.942809 -1.195229   \n",
       "Indiana         1.297771  0.836660  0.803219 -0.870988  1.060660  0.836660   \n",
       "Iowa           -0.770552 -1.195229  0.803219 -0.870988 -0.942809  0.836660   \n",
       "Kansas          1.297771  0.836660  0.803219  1.148121  1.060660  0.836660   \n",
       "Kentucky       -0.770552  0.836660  0.803219  1.148121  1.060660  0.836660   \n",
       "Louisiana      -0.770552  0.836660  0.803219  1.148121  1.060660  0.836660   \n",
       "Maine          -0.770552 -1.195229 -1.244990 -0.870988 -0.942809 -1.195229   \n",
       "Maryland       -0.770552 -1.195229 -1.244990 -0.870988 -0.942809 -1.195229   \n",
       "Massachusetts  -0.770552 -1.195229 -1.244990 -0.870988 -0.942809 -1.195229   \n",
       "Michigan       -0.770552 -1.195229 -1.244990 -0.870988 -0.942809  0.836660   \n",
       "Minnesota      -0.770552 -1.195229 -1.244990 -0.870988 -0.942809 -1.195229   \n",
       "Mississippi     1.297771  0.836660  0.803219  1.148121  1.060660  0.836660   \n",
       "Missouri       -0.770552  0.836660  0.803219  1.148121  1.060660  0.836660   \n",
       "Montana         1.297771  0.836660  0.803219  1.148121  1.060660  0.836660   \n",
       "Nebraska        1.297771  0.836660  0.803219  1.148121  1.060660  0.836660   \n",
       "Nevada         -0.770552  0.836660  0.803219 -0.870988 -0.942809 -1.195229   \n",
       "New Hampshire  -0.770552  0.836660 -1.244990 -0.870988 -0.942809 -1.195229   \n",
       "New Jersey     -0.770552 -1.195229 -1.244990 -0.870988 -0.942809 -1.195229   \n",
       "New Mexico     -0.770552 -1.195229  0.803219 -0.870988 -0.942809 -1.195229   \n",
       "New York       -0.770552 -1.195229 -1.244990 -0.870988 -0.942809 -1.195229   \n",
       "North Carolina  1.297771  0.836660  0.803219 -0.870988  1.060660  0.836660   \n",
       "North Dakota    1.297771  0.836660  0.803219  1.148121  1.060660  0.836660   \n",
       "Ohio           -0.770552  0.836660  0.803219 -0.870988 -0.942809  0.836660   \n",
       "Oklahoma        1.297771  0.836660  0.803219  1.148121  1.060660  0.836660   \n",
       "Oregon         -0.770552 -1.195229 -1.244990 -0.870988 -0.942809 -1.195229   \n",
       "Pennsylvania   -0.770552 -1.195229 -1.244990 -0.870988 -0.942809  0.836660   \n",
       "Rhode Island   -0.770552 -1.195229 -1.244990 -0.870988 -0.942809 -1.195229   \n",
       "South Carolina  1.297771  0.836660  0.803219  1.148121  1.060660  0.836660   \n",
       "South Dakota    1.297771  0.836660  0.803219  1.148121  1.060660  0.836660   \n",
       "Tennessee      -0.770552  0.836660  0.803219  1.148121  1.060660  0.836660   \n",
       "Texas           1.297771  0.836660  0.803219  1.148121  1.060660  0.836660   \n",
       "Utah            1.297771  0.836660  0.803219  1.148121  1.060660  0.836660   \n",
       "Vermont        -0.770552 -1.195229 -1.244990 -0.870988 -0.942809 -1.195229   \n",
       "Virginia        1.297771  0.836660  0.803219 -0.870988 -0.942809 -1.195229   \n",
       "Washington     -0.770552 -1.195229 -1.244990 -0.870988 -0.942809 -1.195229   \n",
       "West Virginia  -0.770552  0.836660  0.803219  1.148121  1.060660  0.836660   \n",
       "Wisconsin      -0.770552 -1.195229 -1.244990 -0.870988 -0.942809  0.836660   \n",
       "Wyoming         1.297771  0.836660  0.803219  1.148121  1.060660  0.836660   \n",
       "\n",
       "                    2020  \n",
       "State                     \n",
       "Alabama         1.019804  \n",
       "Alaska          1.019804  \n",
       "Arizona        -0.980581  \n",
       "Arkansas        1.019804  \n",
       "California     -0.980581  \n",
       "Colorado       -0.980581  \n",
       "Connecticut    -0.980581  \n",
       "Delaware       -0.980581  \n",
       "D.C.           -0.980581  \n",
       "Florida         1.019804  \n",
       "Georgia        -0.980581  \n",
       "Hawaii         -0.980581  \n",
       "Idaho           1.019804  \n",
       "Illinois       -0.980581  \n",
       "Indiana         1.019804  \n",
       "Iowa            1.019804  \n",
       "Kansas          1.019804  \n",
       "Kentucky        1.019804  \n",
       "Louisiana       1.019804  \n",
       "Maine          -0.980581  \n",
       "Maryland       -0.980581  \n",
       "Massachusetts  -0.980581  \n",
       "Michigan       -0.980581  \n",
       "Minnesota      -0.980581  \n",
       "Mississippi     1.019804  \n",
       "Missouri        1.019804  \n",
       "Montana         1.019804  \n",
       "Nebraska        1.019804  \n",
       "Nevada         -0.980581  \n",
       "New Hampshire  -0.980581  \n",
       "New Jersey     -0.980581  \n",
       "New Mexico     -0.980581  \n",
       "New York       -0.980581  \n",
       "North Carolina  1.019804  \n",
       "North Dakota    1.019804  \n",
       "Ohio            1.019804  \n",
       "Oklahoma        1.019804  \n",
       "Oregon         -0.980581  \n",
       "Pennsylvania   -0.980581  \n",
       "Rhode Island   -0.980581  \n",
       "South Carolina  1.019804  \n",
       "South Dakota    1.019804  \n",
       "Tennessee       1.019804  \n",
       "Texas           1.019804  \n",
       "Utah            1.019804  \n",
       "Vermont        -0.980581  \n",
       "Virginia       -0.980581  \n",
       "Washington     -0.980581  \n",
       "West Virginia   1.019804  \n",
       "Wisconsin      -0.980581  \n",
       "Wyoming         1.019804  "
      ]
     },
     "execution_count": 34,
     "metadata": {},
     "output_type": "execute_result"
    }
   ],
   "source": [
    "df_standardized = (df_numerical-np.mean(df_numerical,axis=0))/np.std(df_numerical,axis=0)\n",
    "df_standardized"
   ]
  },
  {
   "cell_type": "code",
   "execution_count": 35,
   "id": "676f5568",
   "metadata": {
    "deletable": false,
    "editable": false
   },
   "outputs": [
    {
     "data": {
      "text/html": [
       "<p><strong><pre style='display: inline;'>q6c</pre></strong> passed! ✨</p>"
      ],
      "text/plain": [
       "q6c results: All test cases passed!"
      ]
     },
     "execution_count": 35,
     "metadata": {},
     "output_type": "execute_result"
    }
   ],
   "source": [
    "grader.check(\"q6c\")"
   ]
  },
  {
   "cell_type": "markdown",
   "id": "ceaeea24",
   "metadata": {
    "deletable": false,
    "editable": false
   },
   "source": [
    "<br/>\n",
    "\n",
    "We now have our data in a nice and tidy centered and scaled format. Phew! We are now ready to do PCA.\n",
    "\n",
    "<br/>\n",
    "<hr style=\"border: 1px solid #fdb515;\" />\n",
    "\n",
    "### Question 6d: SVD\n",
    "\n",
    "In the following cell, compute the SVD of `df_standardized`:\n",
    "\n",
    "$$\\texttt{df}\\_\\texttt{standardized}=U\\Sigma V^{T}$$\n",
    "\n",
    "\n",
    "Store the $U$, $\\Sigma$, and $V^T$ matrices in `u`, `s`, and `vt` respectively. This is one line of simple code (exactly like what we saw in lecture and what you did in lab) using the [`np.linalg.svd`](https://docs.scipy.org/doc/numpy/reference/generated/numpy.linalg.svd.html) function with the `full_matrices` argument set to `False`.\n",
    "\n",
    "<!--\n",
    "BEGIN QUESTION\n",
    "name: q6d\n",
    "points: 1\n",
    "-->"
   ]
  },
  {
   "cell_type": "code",
   "execution_count": 36,
   "id": "ce81a9ba",
   "metadata": {},
   "outputs": [
    {
     "data": {
      "text/plain": [
       "(array([[-0.16256283,  0.07765483,  0.00122229, ..., -0.0134597 ,\n",
       "          0.08820748,  0.08217091],\n",
       "        [-0.16706061, -0.0162679 , -0.12628238, ..., -0.04426333,\n",
       "         -0.01355807,  0.07427217],\n",
       "        [-0.09532553, -0.04755254, -0.03905914, ...,  0.45011822,\n",
       "          0.13814776, -0.20684122],\n",
       "        ...,\n",
       "        [-0.03836168,  0.28942847,  0.23831932, ..., -0.08179345,\n",
       "         -0.12580385, -0.02809131],\n",
       "        [ 0.13046354,  0.02585922,  0.16202611, ...,  0.42873974,\n",
       "         -0.07025696,  0.0487704 ],\n",
       "        [-0.16706061, -0.0162679 , -0.12628238, ..., -0.04426333,\n",
       "         -0.01355807,  0.07427217]]),\n",
       " array([18.07691752, 10.25583887,  7.64572873, ...,  2.80257708,\n",
       "         2.26892781,  1.70403666]),\n",
       " array([[-0.136002  , -0.04058259, -0.15155429, ..., -0.35596474,\n",
       "         -0.32690835, -0.33987784],\n",
       "        [-0.3492229 , -0.48079419, -0.4675855 , ...,  0.18624495,\n",
       "          0.15138213,  0.15659938],\n",
       "        [ 0.41610347, -0.48658899, -0.02929042, ...,  0.03473676,\n",
       "          0.22737918,  0.113887  ],\n",
       "        ...,\n",
       "        [ 0.04435877, -0.04309004,  0.18776949, ..., -0.04299605,\n",
       "          0.49573543, -0.77479348],\n",
       "        [ 0.01144521, -0.11524943,  0.04285712, ..., -0.05855334,\n",
       "         -0.11179211, -0.16276473],\n",
       "        [-0.01003386, -0.00671822, -0.03591355, ..., -0.80093148,\n",
       "          0.07451528,  0.13458479]]))"
      ]
     },
     "execution_count": 36,
     "metadata": {},
     "output_type": "execute_result"
    }
   ],
   "source": [
    "u,s,vt = np.linalg.svd(df_standardized,full_matrices=False)\n",
    "u, s, vt"
   ]
  },
  {
   "cell_type": "code",
   "execution_count": 37,
   "id": "5ab186cf",
   "metadata": {
    "deletable": false,
    "editable": false
   },
   "outputs": [
    {
     "data": {
      "text/html": [
       "<p><strong><pre style='display: inline;'>q6d</pre></strong> passed! 🌈</p>"
      ],
      "text/plain": [
       "q6d results: All test cases passed!"
      ]
     },
     "execution_count": 37,
     "metadata": {},
     "output_type": "execute_result"
    }
   ],
   "source": [
    "grader.check(\"q6d\")"
   ]
  },
  {
   "cell_type": "markdown",
   "id": "e0e3bf58",
   "metadata": {
    "deletable": false,
    "editable": false
   },
   "source": [
    "<br/>\n",
    "\n",
    "<hr style=\"border: 1px solid #fdb515;\" />\n",
    "\n",
    "### Question 6e: Get Principal Components\n",
    "\n",
    "Using your results from the previous part, create a new `first_2_pcs` **dataframe** ([documentation](https://pandas.pydata.org/docs/reference/api/pandas.DataFrame.html)) that contains exactly the first two columns of the principal components matrix. The first column should be labeled `pc1` and the second column should be labeled `pc2`. Store your result in `first_2_pcs`.\n",
    "\n",
    "<!--\n",
    "BEGIN QUESTION\n",
    "name: q6e\n",
    "points: 2\n",
    "-->"
   ]
  },
  {
   "cell_type": "code",
   "execution_count": 51,
   "id": "cfe923d7",
   "metadata": {
    "scrolled": true
   },
   "outputs": [
    {
     "data": {
      "text/html": [
       "<div>\n",
       "<style scoped>\n",
       "    .dataframe tbody tr th:only-of-type {\n",
       "        vertical-align: middle;\n",
       "    }\n",
       "\n",
       "    .dataframe tbody tr th {\n",
       "        vertical-align: top;\n",
       "    }\n",
       "\n",
       "    .dataframe thead th {\n",
       "        text-align: right;\n",
       "    }\n",
       "</style>\n",
       "<table border=\"1\" class=\"dataframe\">\n",
       "  <thead>\n",
       "    <tr style=\"text-align: right;\">\n",
       "      <th></th>\n",
       "      <th>pc1</th>\n",
       "      <th>pc2</th>\n",
       "    </tr>\n",
       "  </thead>\n",
       "  <tbody>\n",
       "    <tr>\n",
       "      <th>0</th>\n",
       "      <td>-2.938635</td>\n",
       "      <td>0.796415</td>\n",
       "    </tr>\n",
       "    <tr>\n",
       "      <th>1</th>\n",
       "      <td>-3.019941</td>\n",
       "      <td>-0.166841</td>\n",
       "    </tr>\n",
       "    <tr>\n",
       "      <th>2</th>\n",
       "      <td>-1.723192</td>\n",
       "      <td>-0.487691</td>\n",
       "    </tr>\n",
       "    <tr>\n",
       "      <th>3</th>\n",
       "      <td>-1.698397</td>\n",
       "      <td>0.807836</td>\n",
       "    </tr>\n",
       "    <tr>\n",
       "      <th>4</th>\n",
       "      <td>2.376794</td>\n",
       "      <td>-1.807335</td>\n",
       "    </tr>\n",
       "  </tbody>\n",
       "</table>\n",
       "</div>"
      ],
      "text/plain": [
       "        pc1       pc2\n",
       "0 -2.938635  0.796415\n",
       "1 -3.019941 -0.166841\n",
       "2 -1.723192 -0.487691\n",
       "3 -1.698397  0.807836\n",
       "4  2.376794 -1.807335"
      ]
     },
     "execution_count": 51,
     "metadata": {},
     "output_type": "execute_result"
    }
   ],
   "source": [
    "first_2_pcs = pd.DataFrame(data=np.dot(df_standardized,vt.T)[:,:2],columns=['pc1','pc2'])\n",
    "first_2_pcs.head()"
   ]
  },
  {
   "cell_type": "code",
   "execution_count": 52,
   "id": "27ca9664",
   "metadata": {
    "deletable": false,
    "editable": false
   },
   "outputs": [
    {
     "data": {
      "text/html": [
       "<p><strong><pre style='display: inline;'>q6e</pre></strong> passed! 🙌</p>"
      ],
      "text/plain": [
       "q6e results: All test cases passed!"
      ]
     },
     "execution_count": 52,
     "metadata": {},
     "output_type": "execute_result"
    }
   ],
   "source": [
    "grader.check(\"q6e\")"
   ]
  },
  {
   "cell_type": "markdown",
   "id": "e71a1395",
   "metadata": {},
   "source": [
    "<br/><br/>\n",
    "\n",
    "<hr style=\"border: 5px solid #003262;\" />\n",
    "<hr style=\"border: 1px solid #fdb515;\" />\n",
    "\n",
    "## Question 7\n",
    "\n",
    "The cell below plots the 1st and 2nd principal components of our 50 states + Washington DC."
   ]
  },
  {
   "cell_type": "code",
   "execution_count": 53,
   "id": "7712c4dc",
   "metadata": {
    "scrolled": true
   },
   "outputs": [
    {
     "data": {
      "image/png": "[encoded data removed]",
      "text/plain": [
       "<Figure size 640x480 with 1 Axes>"
      ]
     },
     "metadata": {},
     "output_type": "display_data"
    }
   ],
   "source": [
    "# just run this cell\n",
    "sns.scatterplot(data = first_2_pcs, x = \"pc1\", y = \"pc2\");"
   ]
  },
  {
   "cell_type": "markdown",
   "id": "79e3235f",
   "metadata": {
    "deletable": false,
    "editable": false
   },
   "source": [
    "<!-- BEGIN QUESTION -->\n",
    "\n",
    "Unfortunately, we have two problems:\n",
    "\n",
    "1. There is a lot of overplotting, with only 28 distinct dots (out of 104 points). This means that at least some states voted exactly alike in these elections.\n",
    "2. We don't know which state is which because the points are unlabeled.\n",
    "\n",
    "<br/>\n",
    "\n",
    "<hr style=\"border: 1px solid #fdb515;\" />\n",
    "\n",
    "### Question 7a: Jitter\n",
    "\n",
    "Let's start by addressing problem 1. \n",
    "\n",
    "**In the cell below, create a new dataframe `first_2_pcs_jittered` with a small amount of random noise added to each principal component. In this same cell, create a scatterplot.**\n",
    "\n",
    "To reduce overplotting, we **jitter** the first two principal components:\n",
    "* Add a small amount of random, unbiased Gaussian noise to each value using `np.random.normal` ([documentation](https://numpy.org/doc/stable/reference/random/generated/numpy.random.normal.html)) with mean 0 and standard deviation less than 1.\n",
    "* Don't get caught up on the exact details of your noise generation; it's fine as long as your plot looks roughly the same as the original scatterplot, but without overplotting.\n",
    "* The amount of noise you add *should not significantly affect* the appearance of the plot; it should simply serve to separate overlapping observations.\n",
    "\n",
    "\n",
    "<!--\n",
    "BEGIN QUESTION\n",
    "name: q3e\n",
    "manual: true\n",
    "points: 2\n",
    "-->"
   ]
  },
  {
   "cell_type": "code",
   "execution_count": 54,
   "id": "d03f6051",
   "metadata": {
    "scrolled": true
   },
   "outputs": [
    {
     "data": {
      "image/png": "[encoded data removed]",
      "text/plain": [
       "<Figure size 640x480 with 1 Axes>"
      ]
     },
     "metadata": {},
     "output_type": "display_data"
    }
   ],
   "source": [
    "# first, jitter the data\n",
    "first_2_pcs_jittered = first_2_pcs+np.random.normal(loc=0,scale=0.5,size=first_2_pcs.shape)\n",
    "\n",
    "# then, create a scatter plot\n",
    "sns.scatterplot(data = first_2_pcs_jittered, x = \"pc1\", y = \"pc2\");"
   ]
  },
  {
   "cell_type": "markdown",
   "id": "79fce932",
   "metadata": {
    "deletable": false,
    "editable": false
   },
   "source": [
    "<!-- END QUESTION -->"
   ]
  },
  {
   "cell_type": "code",
   "execution_count": 55,
   "id": "ff406958",
   "metadata": {},
   "outputs": [
    {
     "data": {
      "text/html": [
       "<div>\n",
       "<style scoped>\n",
       "    .dataframe tbody tr th:only-of-type {\n",
       "        vertical-align: middle;\n",
       "    }\n",
       "\n",
       "    .dataframe tbody tr th {\n",
       "        vertical-align: top;\n",
       "    }\n",
       "\n",
       "    .dataframe thead th {\n",
       "        text-align: right;\n",
       "    }\n",
       "</style>\n",
       "<table border=\"1\" class=\"dataframe\">\n",
       "  <thead>\n",
       "    <tr style=\"text-align: right;\">\n",
       "      <th></th>\n",
       "      <th>pc1</th>\n",
       "      <th>pc2</th>\n",
       "    </tr>\n",
       "  </thead>\n",
       "  <tbody>\n",
       "    <tr>\n",
       "      <th>0</th>\n",
       "      <td>-3.112716</td>\n",
       "      <td>1.087323</td>\n",
       "    </tr>\n",
       "    <tr>\n",
       "      <th>1</th>\n",
       "      <td>-3.167728</td>\n",
       "      <td>-0.559977</td>\n",
       "    </tr>\n",
       "    <tr>\n",
       "      <th>2</th>\n",
       "      <td>-2.613673</td>\n",
       "      <td>-0.201446</td>\n",
       "    </tr>\n",
       "    <tr>\n",
       "      <th>3</th>\n",
       "      <td>-1.568978</td>\n",
       "      <td>1.562170</td>\n",
       "    </tr>\n",
       "    <tr>\n",
       "      <th>4</th>\n",
       "      <td>3.039760</td>\n",
       "      <td>-2.767571</td>\n",
       "    </tr>\n",
       "    <tr>\n",
       "      <th>5</th>\n",
       "      <td>0.980461</td>\n",
       "      <td>-1.205844</td>\n",
       "    </tr>\n",
       "    <tr>\n",
       "      <th>6</th>\n",
       "      <td>2.100376</td>\n",
       "      <td>-2.131614</td>\n",
       "    </tr>\n",
       "    <tr>\n",
       "      <th>7</th>\n",
       "      <td>1.410373</td>\n",
       "      <td>-0.395865</td>\n",
       "    </tr>\n",
       "    <tr>\n",
       "      <th>8</th>\n",
       "      <td>4.163222</td>\n",
       "      <td>5.742856</td>\n",
       "    </tr>\n",
       "    <tr>\n",
       "      <th>9</th>\n",
       "      <td>-1.031534</td>\n",
       "      <td>0.031301</td>\n",
       "    </tr>\n",
       "    <tr>\n",
       "      <th>10</th>\n",
       "      <td>-0.157516</td>\n",
       "      <td>2.188484</td>\n",
       "    </tr>\n",
       "    <tr>\n",
       "      <th>11</th>\n",
       "      <td>3.707431</td>\n",
       "      <td>2.402802</td>\n",
       "    </tr>\n",
       "    <tr>\n",
       "      <th>12</th>\n",
       "      <td>-2.943122</td>\n",
       "      <td>-0.788448</td>\n",
       "    </tr>\n",
       "    <tr>\n",
       "      <th>13</th>\n",
       "      <td>2.269793</td>\n",
       "      <td>-1.288188</td>\n",
       "    </tr>\n",
       "    <tr>\n",
       "      <th>14</th>\n",
       "      <td>-1.983093</td>\n",
       "      <td>-0.278441</td>\n",
       "    </tr>\n",
       "    <tr>\n",
       "      <th>15</th>\n",
       "      <td>-0.223060</td>\n",
       "      <td>-1.006307</td>\n",
       "    </tr>\n",
       "    <tr>\n",
       "      <th>16</th>\n",
       "      <td>-2.740204</td>\n",
       "      <td>-0.306575</td>\n",
       "    </tr>\n",
       "    <tr>\n",
       "      <th>17</th>\n",
       "      <td>-2.442760</td>\n",
       "      <td>0.556884</td>\n",
       "    </tr>\n",
       "    <tr>\n",
       "      <th>18</th>\n",
       "      <td>-2.026165</td>\n",
       "      <td>0.381484</td>\n",
       "    </tr>\n",
       "    <tr>\n",
       "      <th>19</th>\n",
       "      <td>1.955969</td>\n",
       "      <td>-1.705313</td>\n",
       "    </tr>\n",
       "    <tr>\n",
       "      <th>20</th>\n",
       "      <td>3.856535</td>\n",
       "      <td>0.239102</td>\n",
       "    </tr>\n",
       "    <tr>\n",
       "      <th>21</th>\n",
       "      <td>4.142650</td>\n",
       "      <td>2.333344</td>\n",
       "    </tr>\n",
       "    <tr>\n",
       "      <th>22</th>\n",
       "      <td>1.976839</td>\n",
       "      <td>-0.944077</td>\n",
       "    </tr>\n",
       "    <tr>\n",
       "      <th>23</th>\n",
       "      <td>3.969700</td>\n",
       "      <td>3.154366</td>\n",
       "    </tr>\n",
       "    <tr>\n",
       "      <th>24</th>\n",
       "      <td>-3.370474</td>\n",
       "      <td>0.840296</td>\n",
       "    </tr>\n",
       "    <tr>\n",
       "      <th>25</th>\n",
       "      <td>-0.826288</td>\n",
       "      <td>-0.181350</td>\n",
       "    </tr>\n",
       "    <tr>\n",
       "      <th>26</th>\n",
       "      <td>-2.994194</td>\n",
       "      <td>-0.235782</td>\n",
       "    </tr>\n",
       "    <tr>\n",
       "      <th>27</th>\n",
       "      <td>-3.338702</td>\n",
       "      <td>-0.224554</td>\n",
       "    </tr>\n",
       "    <tr>\n",
       "      <th>28</th>\n",
       "      <td>0.976221</td>\n",
       "      <td>-1.522053</td>\n",
       "    </tr>\n",
       "    <tr>\n",
       "      <th>29</th>\n",
       "      <td>1.314751</td>\n",
       "      <td>-1.193249</td>\n",
       "    </tr>\n",
       "    <tr>\n",
       "      <th>30</th>\n",
       "      <td>2.625237</td>\n",
       "      <td>-1.683371</td>\n",
       "    </tr>\n",
       "    <tr>\n",
       "      <th>31</th>\n",
       "      <td>1.415540</td>\n",
       "      <td>-1.698657</td>\n",
       "    </tr>\n",
       "    <tr>\n",
       "      <th>32</th>\n",
       "      <td>3.346517</td>\n",
       "      <td>0.565716</td>\n",
       "    </tr>\n",
       "    <tr>\n",
       "      <th>33</th>\n",
       "      <td>-2.146725</td>\n",
       "      <td>-0.137631</td>\n",
       "    </tr>\n",
       "    <tr>\n",
       "      <th>34</th>\n",
       "      <td>-2.217674</td>\n",
       "      <td>0.501626</td>\n",
       "    </tr>\n",
       "    <tr>\n",
       "      <th>35</th>\n",
       "      <td>-0.121901</td>\n",
       "      <td>0.313279</td>\n",
       "    </tr>\n",
       "    <tr>\n",
       "      <th>36</th>\n",
       "      <td>-3.207008</td>\n",
       "      <td>0.364694</td>\n",
       "    </tr>\n",
       "    <tr>\n",
       "      <th>37</th>\n",
       "      <td>3.296626</td>\n",
       "      <td>-1.378365</td>\n",
       "    </tr>\n",
       "    <tr>\n",
       "      <th>38</th>\n",
       "      <td>1.351574</td>\n",
       "      <td>-1.287239</td>\n",
       "    </tr>\n",
       "    <tr>\n",
       "      <th>39</th>\n",
       "      <td>3.211906</td>\n",
       "      <td>1.056299</td>\n",
       "    </tr>\n",
       "    <tr>\n",
       "      <th>40</th>\n",
       "      <td>-3.006105</td>\n",
       "      <td>0.925799</td>\n",
       "    </tr>\n",
       "    <tr>\n",
       "      <th>41</th>\n",
       "      <td>-2.573965</td>\n",
       "      <td>-1.179096</td>\n",
       "    </tr>\n",
       "    <tr>\n",
       "      <th>42</th>\n",
       "      <td>-1.344520</td>\n",
       "      <td>1.704992</td>\n",
       "    </tr>\n",
       "    <tr>\n",
       "      <th>43</th>\n",
       "      <td>-2.531767</td>\n",
       "      <td>0.741638</td>\n",
       "    </tr>\n",
       "    <tr>\n",
       "      <th>44</th>\n",
       "      <td>-3.271563</td>\n",
       "      <td>-0.533580</td>\n",
       "    </tr>\n",
       "    <tr>\n",
       "      <th>45</th>\n",
       "      <td>1.904333</td>\n",
       "      <td>-2.280910</td>\n",
       "    </tr>\n",
       "    <tr>\n",
       "      <th>46</th>\n",
       "      <td>-0.038648</td>\n",
       "      <td>-2.039428</td>\n",
       "    </tr>\n",
       "    <tr>\n",
       "      <th>47</th>\n",
       "      <td>3.142681</td>\n",
       "      <td>-0.668925</td>\n",
       "    </tr>\n",
       "    <tr>\n",
       "      <th>48</th>\n",
       "      <td>-1.220312</td>\n",
       "      <td>2.211157</td>\n",
       "    </tr>\n",
       "    <tr>\n",
       "      <th>49</th>\n",
       "      <td>1.553892</td>\n",
       "      <td>-0.532907</td>\n",
       "    </tr>\n",
       "    <tr>\n",
       "      <th>50</th>\n",
       "      <td>-2.905016</td>\n",
       "      <td>-0.550150</td>\n",
       "    </tr>\n",
       "  </tbody>\n",
       "</table>\n",
       "</div>"
      ],
      "text/plain": [
       "         pc1       pc2\n",
       "0  -3.112716  1.087323\n",
       "1  -3.167728 -0.559977\n",
       "2  -2.613673 -0.201446\n",
       "3  -1.568978  1.562170\n",
       "4   3.039760 -2.767571\n",
       "5   0.980461 -1.205844\n",
       "6   2.100376 -2.131614\n",
       "7   1.410373 -0.395865\n",
       "8   4.163222  5.742856\n",
       "9  -1.031534  0.031301\n",
       "10 -0.157516  2.188484\n",
       "11  3.707431  2.402802\n",
       "12 -2.943122 -0.788448\n",
       "13  2.269793 -1.288188\n",
       "14 -1.983093 -0.278441\n",
       "15 -0.223060 -1.006307\n",
       "16 -2.740204 -0.306575\n",
       "17 -2.442760  0.556884\n",
       "18 -2.026165  0.381484\n",
       "19  1.955969 -1.705313\n",
       "20  3.856535  0.239102\n",
       "21  4.142650  2.333344\n",
       "22  1.976839 -0.944077\n",
       "23  3.969700  3.154366\n",
       "24 -3.370474  0.840296\n",
       "25 -0.826288 -0.181350\n",
       "26 -2.994194 -0.235782\n",
       "27 -3.338702 -0.224554\n",
       "28  0.976221 -1.522053\n",
       "29  1.314751 -1.193249\n",
       "30  2.625237 -1.683371\n",
       "31  1.415540 -1.698657\n",
       "32  3.346517  0.565716\n",
       "33 -2.146725 -0.137631\n",
       "34 -2.217674  0.501626\n",
       "35 -0.121901  0.313279\n",
       "36 -3.207008  0.364694\n",
       "37  3.296626 -1.378365\n",
       "38  1.351574 -1.287239\n",
       "39  3.211906  1.056299\n",
       "40 -3.006105  0.925799\n",
       "41 -2.573965 -1.179096\n",
       "42 -1.344520  1.704992\n",
       "43 -2.531767  0.741638\n",
       "44 -3.271563 -0.533580\n",
       "45  1.904333 -2.280910\n",
       "46 -0.038648 -2.039428\n",
       "47  3.142681 -0.668925\n",
       "48 -1.220312  2.211157\n",
       "49  1.553892 -0.532907\n",
       "50 -2.905016 -0.550150"
      ]
     },
     "execution_count": 55,
     "metadata": {},
     "output_type": "execute_result"
    }
   ],
   "source": [
    "first_2_pcs_jittered"
   ]
  },
  {
   "cell_type": "markdown",
   "id": "b3745aeb",
   "metadata": {},
   "source": [
    "<br/>\n",
    "\n",
    "<hr style=\"border: 1px solid #fdb515;\" />\n",
    "\n",
    "### Question 7b\n",
    "\n",
    "To address Problem 2, we can turn to Plotly. The below cell uses these Plotly guides ([example 1](https://plot.ly/python/text-and-annotations/), [example 2](https://plotly.com/python/hover-text-and-formatting/#disabling-or-customizing-hover-of-columns-in-plotly-express)) to create a scatter plot of the jittered ."
   ]
  },
  {
   "cell_type": "code",
   "execution_count": 56,
   "id": "d13df73a",
   "metadata": {},
   "outputs": [
    {
     "data": {
      "application/vnd.plotly.v1+json": {
       "config": {
        "plotlyServerURL": "https://plot.ly"
       },
       "data": [
        {
         "customdata": [
          [
           "Alabama"
          ],
          [
           "Alaska"
          ],
          [
           "Arizona"
          ],
          [
           "Arkansas"
          ],
          [
           "California"
          ],
          [
           "Colorado"
          ],
          [
           "Connecticut"
          ],
          [
           "Delaware"
          ],
          [
           "D.C."
          ],
          [
           "Florida"
          ],
          [
           "Georgia"
          ],
          [
           "Hawaii"
          ],
          [
           "Idaho"
          ],
          [
           "Illinois"
          ],
          [
           "Indiana"
          ],
          [
           "Iowa"
          ],
          [
           "Kansas"
          ],
          [
           "Kentucky"
          ],
          [
           "Louisiana"
          ],
          [
           "Maine"
          ],
          [
           "Maryland"
          ],
          [
           "Massachusetts"
          ],
          [
           "Michigan"
          ],
          [
           "Minnesota"
          ],
          [
           "Mississippi"
          ],
          [
           "Missouri"
          ],
          [
           "Montana"
          ],
          [
           "Nebraska"
          ],
          [
           "Nevada"
          ],
          [
           "New Hampshire"
          ],
          [
           "New Jersey"
          ],
          [
           "New Mexico"
          ],
          [
           "New York"
          ],
          [
           "North Carolina"
          ],
          [
           "North Dakota"
          ],
          [
           "Ohio"
          ],
          [
           "Oklahoma"
          ],
          [
           "Oregon"
          ],
          [
           "Pennsylvania"
          ],
          [
           "Rhode Island"
          ],
          [
           "South Carolina"
          ],
          [
           "South Dakota"
          ],
          [
           "Tennessee"
          ],
          [
           "Texas"
          ],
          [
           "Utah"
          ],
          [
           "Vermont"
          ],
          [
           "Virginia"
          ],
          [
           "Washington"
          ],
          [
           "West Virginia"
          ],
          [
           "Wisconsin"
          ],
          [
           "Wyoming"
          ]
         ],
         "hovertemplate": "pc1=%{x}<br>pc2=%{y}<br>state=%{customdata[0]}<extra></extra>",
         "legendgroup": "",
         "marker": {
          "color": "#636efa",
          "symbol": "circle"
         },
         "mode": "markers",
         "name": "",
         "orientation": "v",
         "showlegend": false,
         "type": "scatter",
         "x": [
          -3.1127159503966073,
          -3.167727751255315,
          -2.6136726174576084,
          -1.5689782808945998,
          3.039760139278056,
          0.9804608815676531,
          2.100375891073765,
          1.4103733740540847,
          4.163221722402616,
          -1.0315335567703072,
          -0.15751605919010525,
          3.707431349392494,
          -2.9431222560664487,
          2.2697931125421915,
          -1.9830932986084,
          -0.223060494493443,
          -2.740204140762257,
          -2.442760054392163,
          -2.026164655597564,
          1.9559689958256177,
          3.8565353321000257,
          4.142649959179635,
          1.9768392158182806,
          3.9697002462317412,
          -3.370474450342713,
          -0.8262880393442532,
          -2.994194292375852,
          -3.3387017426823657,
          0.9762207716312598,
          1.3147514822269877,
          2.6252366651912244,
          1.4155402784245286,
          3.346516756394513,
          -2.1467248821693246,
          -2.217673554178553,
          -0.12190142693549794,
          -3.2070082460820495,
          3.2966256675434904,
          1.3515740138052408,
          3.2119059057988255,
          -3.0061051463442467,
          -2.5739646057245507,
          -1.3445199949917406,
          -2.5317674079554164,
          -3.271563123317976,
          1.9043328938678514,
          -0.038648034697095046,
          3.1426810725361434,
          -1.22031248922685,
          1.5538920347319378,
          -2.9050156771121958
         ],
         "xaxis": "x",
         "y": [
          1.0873228688163803,
          -0.5599774896788736,
          -0.20144636116487413,
          1.5621697626231221,
          -2.7675714274334764,
          -1.2058436575172147,
          -2.131613890333804,
          -0.3958652212001305,
          5.742856406470337,
          0.03130096103350293,
          2.188483968129917,
          2.4028020636937804,
          -0.7884477150531654,
          -1.2881881588703596,
          -0.2784406354028353,
          -1.0063067683566427,
          -0.3065745525630458,
          0.5568835539186994,
          0.38148381803876785,
          -1.7053129479598397,
          0.23910176499118707,
          2.333344174378049,
          -0.9440773380893114,
          3.1543663445029133,
          0.8402956851854932,
          -0.1813499837106184,
          -0.23578234627549208,
          -0.224553890350843,
          -1.522053068826525,
          -1.1932485908040127,
          -1.6833710481304553,
          -1.6986572773661945,
          0.5657162952127243,
          -0.13763129695276222,
          0.5016262118622331,
          0.3132792638533166,
          0.3646944720670079,
          -1.378365016296617,
          -1.2872390242640523,
          1.0562994909649361,
          0.9257989567137312,
          -1.1790959430231585,
          1.704992016593579,
          0.7416377013403717,
          -0.5335795030691788,
          -2.2809095783749807,
          -2.0394278613051267,
          -0.6689248758873578,
          2.2111568457876656,
          -0.5329069999691729,
          -0.5501498816624528
         ],
         "yaxis": "y"
        }
       ],
       "layout": {
        "legend": {
         "tracegroupgap": 0
        },
        "margin": {
         "t": 60
        },
        "template": {
         "data": {
          "bar": [
           {
            "error_x": {
             "color": "#2a3f5f"
            },
            "error_y": {
             "color": "#2a3f5f"
            },
            "marker": {
             "line": {
              "color": "#E5ECF6",
              "width": 0.5
             },
             "pattern": {
              "fillmode": "overlay",
              "size": 10,
              "solidity": 0.2
             }
            },
            "type": "bar"
           }
          ],
          "barpolar": [
           {
            "marker": {
             "line": {
              "color": "#E5ECF6",
              "width": 0.5
             },
             "pattern": {
              "fillmode": "overlay",
              "size": 10,
              "solidity": 0.2
             }
            },
            "type": "barpolar"
           }
          ],
          "carpet": [
           {
            "aaxis": {
             "endlinecolor": "#2a3f5f",
             "gridcolor": "white",
             "linecolor": "white",
             "minorgridcolor": "white",
             "startlinecolor": "#2a3f5f"
            },
            "baxis": {
             "endlinecolor": "#2a3f5f",
             "gridcolor": "white",
             "linecolor": "white",
             "minorgridcolor": "white",
             "startlinecolor": "#2a3f5f"
            },
            "type": "carpet"
           }
          ],
          "choropleth": [
           {
            "colorbar": {
             "outlinewidth": 0,
             "ticks": ""
            },
            "type": "choropleth"
           }
          ],
          "contour": [
           {
            "colorbar": {
             "outlinewidth": 0,
             "ticks": ""
            },
            "colorscale": [
             [
              0,
              "#0d0887"
             ],
             [
              0.1111111111111111,
              "#46039f"
             ],
             [
              0.2222222222222222,
              "#7201a8"
             ],
             [
              0.3333333333333333,
              "#9c179e"
             ],
             [
              0.4444444444444444,
              "#bd3786"
             ],
             [
              0.5555555555555556,
              "#d8576b"
             ],
             [
              0.6666666666666666,
              "#ed7953"
             ],
             [
              0.7777777777777778,
              "#fb9f3a"
             ],
             [
              0.8888888888888888,
              "#fdca26"
             ],
             [
              1,
              "#f0f921"
             ]
            ],
            "type": "contour"
           }
          ],
          "contourcarpet": [
           {
            "colorbar": {
             "outlinewidth": 0,
             "ticks": ""
            },
            "type": "contourcarpet"
           }
          ],
          "heatmap": [
           {
            "colorbar": {
             "outlinewidth": 0,
             "ticks": ""
            },
            "colorscale": [
             [
              0,
              "#0d0887"
             ],
             [
              0.1111111111111111,
              "#46039f"
             ],
             [
              0.2222222222222222,
              "#7201a8"
             ],
             [
              0.3333333333333333,
              "#9c179e"
             ],
             [
              0.4444444444444444,
              "#bd3786"
             ],
             [
              0.5555555555555556,
              "#d8576b"
             ],
             [
              0.6666666666666666,
              "#ed7953"
             ],
             [
              0.7777777777777778,
              "#fb9f3a"
             ],
             [
              0.8888888888888888,
              "#fdca26"
             ],
             [
              1,
              "#f0f921"
             ]
            ],
            "type": "heatmap"
           }
          ],
          "heatmapgl": [
           {
            "colorbar": {
             "outlinewidth": 0,
             "ticks": ""
            },
            "colorscale": [
             [
              0,
              "#0d0887"
             ],
             [
              0.1111111111111111,
              "#46039f"
             ],
             [
              0.2222222222222222,
              "#7201a8"
             ],
             [
              0.3333333333333333,
              "#9c179e"
             ],
             [
              0.4444444444444444,
              "#bd3786"
             ],
             [
              0.5555555555555556,
              "#d8576b"
             ],
             [
              0.6666666666666666,
              "#ed7953"
             ],
             [
              0.7777777777777778,
              "#fb9f3a"
             ],
             [
              0.8888888888888888,
              "#fdca26"
             ],
             [
              1,
              "#f0f921"
             ]
            ],
            "type": "heatmapgl"
           }
          ],
          "histogram": [
           {
            "marker": {
             "pattern": {
              "fillmode": "overlay",
              "size": 10,
              "solidity": 0.2
             }
            },
            "type": "histogram"
           }
          ],
          "histogram2d": [
           {
            "colorbar": {
             "outlinewidth": 0,
             "ticks": ""
            },
            "colorscale": [
             [
              0,
              "#0d0887"
             ],
             [
              0.1111111111111111,
              "#46039f"
             ],
             [
              0.2222222222222222,
              "#7201a8"
             ],
             [
              0.3333333333333333,
              "#9c179e"
             ],
             [
              0.4444444444444444,
              "#bd3786"
             ],
             [
              0.5555555555555556,
              "#d8576b"
             ],
             [
              0.6666666666666666,
              "#ed7953"
             ],
             [
              0.7777777777777778,
              "#fb9f3a"
             ],
             [
              0.8888888888888888,
              "#fdca26"
             ],
             [
              1,
              "#f0f921"
             ]
            ],
            "type": "histogram2d"
           }
          ],
          "histogram2dcontour": [
           {
            "colorbar": {
             "outlinewidth": 0,
             "ticks": ""
            },
            "colorscale": [
             [
              0,
              "#0d0887"
             ],
             [
              0.1111111111111111,
              "#46039f"
             ],
             [
              0.2222222222222222,
              "#7201a8"
             ],
             [
              0.3333333333333333,
              "#9c179e"
             ],
             [
              0.4444444444444444,
              "#bd3786"
             ],
             [
              0.5555555555555556,
              "#d8576b"
             ],
             [
              0.6666666666666666,
              "#ed7953"
             ],
             [
              0.7777777777777778,
              "#fb9f3a"
             ],
             [
              0.8888888888888888,
              "#fdca26"
             ],
             [
              1,
              "#f0f921"
             ]
            ],
            "type": "histogram2dcontour"
           }
          ],
          "mesh3d": [
           {
            "colorbar": {
             "outlinewidth": 0,
             "ticks": ""
            },
            "type": "mesh3d"
           }
          ],
          "parcoords": [
           {
            "line": {
             "colorbar": {
              "outlinewidth": 0,
              "ticks": ""
             }
            },
            "type": "parcoords"
           }
          ],
          "pie": [
           {
            "automargin": true,
            "type": "pie"
           }
          ],
          "scatter": [
           {
            "fillpattern": {
             "fillmode": "overlay",
             "size": 10,
             "solidity": 0.2
            },
            "type": "scatter"
           }
          ],
          "scatter3d": [
           {
            "line": {
             "colorbar": {
              "outlinewidth": 0,
              "ticks": ""
             }
            },
            "marker": {
             "colorbar": {
              "outlinewidth": 0,
              "ticks": ""
             }
            },
            "type": "scatter3d"
           }
          ],
          "scattercarpet": [
           {
            "marker": {
             "colorbar": {
              "outlinewidth": 0,
              "ticks": ""
             }
            },
            "type": "scattercarpet"
           }
          ],
          "scattergeo": [
           {
            "marker": {
             "colorbar": {
              "outlinewidth": 0,
              "ticks": ""
             }
            },
            "type": "scattergeo"
           }
          ],
          "scattergl": [
           {
            "marker": {
             "colorbar": {
              "outlinewidth": 0,
              "ticks": ""
             }
            },
            "type": "scattergl"
           }
          ],
          "scattermapbox": [
           {
            "marker": {
             "colorbar": {
              "outlinewidth": 0,
              "ticks": ""
             }
            },
            "type": "scattermapbox"
           }
          ],
          "scatterpolar": [
           {
            "marker": {
             "colorbar": {
              "outlinewidth": 0,
              "ticks": ""
             }
            },
            "type": "scatterpolar"
           }
          ],
          "scatterpolargl": [
           {
            "marker": {
             "colorbar": {
              "outlinewidth": 0,
              "ticks": ""
             }
            },
            "type": "scatterpolargl"
           }
          ],
          "scatterternary": [
           {
            "marker": {
             "colorbar": {
              "outlinewidth": 0,
              "ticks": ""
             }
            },
            "type": "scatterternary"
           }
          ],
          "surface": [
           {
            "colorbar": {
             "outlinewidth": 0,
             "ticks": ""
            },
            "colorscale": [
             [
              0,
              "#0d0887"
             ],
             [
              0.1111111111111111,
              "#46039f"
             ],
             [
              0.2222222222222222,
              "#7201a8"
             ],
             [
              0.3333333333333333,
              "#9c179e"
             ],
             [
              0.4444444444444444,
              "#bd3786"
             ],
             [
              0.5555555555555556,
              "#d8576b"
             ],
             [
              0.6666666666666666,
              "#ed7953"
             ],
             [
              0.7777777777777778,
              "#fb9f3a"
             ],
             [
              0.8888888888888888,
              "#fdca26"
             ],
             [
              1,
              "#f0f921"
             ]
            ],
            "type": "surface"
           }
          ],
          "table": [
           {
            "cells": {
             "fill": {
              "color": "#EBF0F8"
             },
             "line": {
              "color": "white"
             }
            },
            "header": {
             "fill": {
              "color": "#C8D4E3"
             },
             "line": {
              "color": "white"
             }
            },
            "type": "table"
           }
          ]
         },
         "layout": {
          "annotationdefaults": {
           "arrowcolor": "#2a3f5f",
           "arrowhead": 0,
           "arrowwidth": 1
          },
          "autotypenumbers": "strict",
          "coloraxis": {
           "colorbar": {
            "outlinewidth": 0,
            "ticks": ""
           }
          },
          "colorscale": {
           "diverging": [
            [
             0,
             "#8e0152"
            ],
            [
             0.1,
             "#c51b7d"
            ],
            [
             0.2,
             "#de77ae"
            ],
            [
             0.3,
             "#f1b6da"
            ],
            [
             0.4,
             "#fde0ef"
            ],
            [
             0.5,
             "#f7f7f7"
            ],
            [
             0.6,
             "#e6f5d0"
            ],
            [
             0.7,
             "#b8e186"
            ],
            [
             0.8,
             "#7fbc41"
            ],
            [
             0.9,
             "#4d9221"
            ],
            [
             1,
             "#276419"
            ]
           ],
           "sequential": [
            [
             0,
             "#0d0887"
            ],
            [
             0.1111111111111111,
             "#46039f"
            ],
            [
             0.2222222222222222,
             "#7201a8"
            ],
            [
             0.3333333333333333,
             "#9c179e"
            ],
            [
             0.4444444444444444,
             "#bd3786"
            ],
            [
             0.5555555555555556,
             "#d8576b"
            ],
            [
             0.6666666666666666,
             "#ed7953"
            ],
            [
             0.7777777777777778,
             "#fb9f3a"
            ],
            [
             0.8888888888888888,
             "#fdca26"
            ],
            [
             1,
             "#f0f921"
            ]
           ],
           "sequentialminus": [
            [
             0,
             "#0d0887"
            ],
            [
             0.1111111111111111,
             "#46039f"
            ],
            [
             0.2222222222222222,
             "#7201a8"
            ],
            [
             0.3333333333333333,
             "#9c179e"
            ],
            [
             0.4444444444444444,
             "#bd3786"
            ],
            [
             0.5555555555555556,
             "#d8576b"
            ],
            [
             0.6666666666666666,
             "#ed7953"
            ],
            [
             0.7777777777777778,
             "#fb9f3a"
            ],
            [
             0.8888888888888888,
             "#fdca26"
            ],
            [
             1,
             "#f0f921"
            ]
           ]
          },
          "colorway": [
           "#636efa",
           "#EF553B",
           "#00cc96",
           "#ab63fa",
           "#FFA15A",
           "#19d3f3",
           "#FF6692",
           "#B6E880",
           "#FF97FF",
           "#FECB52"
          ],
          "font": {
           "color": "#2a3f5f"
          },
          "geo": {
           "bgcolor": "white",
           "lakecolor": "white",
           "landcolor": "#E5ECF6",
           "showlakes": true,
           "showland": true,
           "subunitcolor": "white"
          },
          "hoverlabel": {
           "align": "left"
          },
          "hovermode": "closest",
          "mapbox": {
           "style": "light"
          },
          "paper_bgcolor": "white",
          "plot_bgcolor": "#E5ECF6",
          "polar": {
           "angularaxis": {
            "gridcolor": "white",
            "linecolor": "white",
            "ticks": ""
           },
           "bgcolor": "#E5ECF6",
           "radialaxis": {
            "gridcolor": "white",
            "linecolor": "white",
            "ticks": ""
           }
          },
          "scene": {
           "xaxis": {
            "backgroundcolor": "#E5ECF6",
            "gridcolor": "white",
            "gridwidth": 2,
            "linecolor": "white",
            "showbackground": true,
            "ticks": "",
            "zerolinecolor": "white"
           },
           "yaxis": {
            "backgroundcolor": "#E5ECF6",
            "gridcolor": "white",
            "gridwidth": 2,
            "linecolor": "white",
            "showbackground": true,
            "ticks": "",
            "zerolinecolor": "white"
           },
           "zaxis": {
            "backgroundcolor": "#E5ECF6",
            "gridcolor": "white",
            "gridwidth": 2,
            "linecolor": "white",
            "showbackground": true,
            "ticks": "",
            "zerolinecolor": "white"
           }
          },
          "shapedefaults": {
           "line": {
            "color": "#2a3f5f"
           }
          },
          "ternary": {
           "aaxis": {
            "gridcolor": "white",
            "linecolor": "white",
            "ticks": ""
           },
           "baxis": {
            "gridcolor": "white",
            "linecolor": "white",
            "ticks": ""
           },
           "bgcolor": "#E5ECF6",
           "caxis": {
            "gridcolor": "white",
            "linecolor": "white",
            "ticks": ""
           }
          },
          "title": {
           "x": 0.05
          },
          "xaxis": {
           "automargin": true,
           "gridcolor": "white",
           "linecolor": "white",
           "ticks": "",
           "title": {
            "standoff": 15
           },
           "zerolinecolor": "white",
           "zerolinewidth": 2
          },
          "yaxis": {
           "automargin": true,
           "gridcolor": "white",
           "linecolor": "white",
           "ticks": "",
           "title": {
            "standoff": 15
           },
           "zerolinecolor": "white",
           "zerolinewidth": 2
          }
         }
        },
        "xaxis": {
         "anchor": "y",
         "domain": [
          0,
          1
         ],
         "title": {
          "text": "pc1"
         }
        },
        "yaxis": {
         "anchor": "x",
         "domain": [
          0,
          1
         ],
         "title": {
          "text": "pc2"
         }
        }
       }
      }
     },
     "metadata": {},
     "output_type": "display_data"
    }
   ],
   "source": [
    "# just run this cell\n",
    "import plotly.express as px\n",
    "\n",
    "# get the state names from the standardized dataframe's index\n",
    "first_2_pcs_jittered['state'] = df_standardized.index\n",
    "\n",
    "# show state names on hover\n",
    "fig = px.scatter(first_2_pcs_jittered, x=\"pc1\", y=\"pc2\",\n",
    "                hover_data={\"state\": True}); \n",
    "\n",
    "fig.show(); "
   ]
  },
  {
   "cell_type": "markdown",
   "id": "dc7cd55e",
   "metadata": {
    "deletable": false,
    "editable": false
   },
   "source": [
    "<!-- BEGIN QUESTION -->\n",
    "\n",
    "Analyze the above plot. In the below cell, address the following two points:\n",
    "1. Give an example of a cluster of states that vote a similar way. Does the composition of this cluster surprise you? If you're not familiar with U.S. politics, it's fine to just say \"No, I'm not surprised because I don't know anything about U.S. politics.\"\n",
    "1. Include anything interesting that you observe. You will get credit for this as long as you write something reasonable that you can takeaway from the plot.\n",
    "\n",
    "<!--\n",
    "BEGIN QUESTION\n",
    "name: q7b\n",
    "manual: true\n",
    "points: 2\n",
    "-->"
   ]
  },
  {
   "cell_type": "markdown",
   "id": "5f12a9e8",
   "metadata": {},
   "source": [
    "_Type your answer here, replacing this text._"
   ]
  },
  {
   "cell_type": "markdown",
   "id": "746c2f22",
   "metadata": {},
   "source": [
    "<!-- END QUESTION -->\n",
    "\n",
    "\n",
    "\n",
    "<br/><br/>\n",
    "\n",
    "<hr style=\"border: 5px solid #003262;\" />\n",
    "<hr style=\"border: 1px solid #fdb515;\" />\n",
    "\n",
    "## Question 8\n",
    "\n",
    "We can also look at the contributions of each year's elections results on the values for our principal components.\n",
    "\n",
    "Below, we define the `plot_pc` function that plots and labels the rows of $V^T$. We then call this function to plot the 1st row of $V^T$, i.e., the row of $V^T$ that corresponds to `pc1`.\n",
    "\n",
    "**Note**: If you get an error when running this cell, make sure you are properly assigning the `vt` variable from Question 6."
   ]
  },
  {
   "cell_type": "code",
   "execution_count": 57,
   "id": "3c5ab572",
   "metadata": {},
   "outputs": [
    {
     "data": {
      "image/png": "[encoded data removed]",
      "text/plain": [
       "<Figure size 1200x400 with 1 Axes>"
      ]
     },
     "metadata": {},
     "output_type": "display_data"
    }
   ],
   "source": [
    "# just run this cell\n",
    "\n",
    "def plot_pc(col_names, row_mat_vt, k):\n",
    "    plt.bar(col_names, row_mat_vt[k, :], alpha=0.7)\n",
    "    plt.xticks(col_names, rotation=90);\n",
    "    \n",
    "plt.figure(figsize=(12, 4)) # adjusts size of plot\n",
    "plot_pc(list(df_standardized.columns), vt, 0);"
   ]
  },
  {
   "cell_type": "markdown",
   "id": "df8755a4",
   "metadata": {
    "deletable": false,
    "editable": false
   },
   "source": [
    "<!-- BEGIN QUESTION -->\n",
    "\n",
    "\n",
    "<br/>\n",
    "\n",
    "<hr style=\"border: 1px solid #fdb515;\" />\n",
    "\n",
    "### Question 8a\n",
    "\n",
    "In the cell below, plot the the 2nd row of $V^T$, i.e., the row of $V^T$ that correpsonds to `pc2`. \n",
    "\n",
    "<!--\n",
    "BEGIN QUESTION\n",
    "name: q8a\n",
    "manual: true\n",
    "points: 1\n",
    "-->"
   ]
  },
  {
   "cell_type": "code",
   "execution_count": 58,
   "id": "55906f70",
   "metadata": {},
   "outputs": [
    {
     "data": {
      "image/png": "[encoded data removed]",
      "text/plain": [
       "<Figure size 640x480 with 1 Axes>"
      ]
     },
     "metadata": {},
     "output_type": "display_data"
    }
   ],
   "source": [
    "plot_pc(list(df_standardized.columns),vt, 1);"
   ]
  },
  {
   "cell_type": "markdown",
   "id": "aff73a6b",
   "metadata": {
    "deletable": false,
    "editable": false
   },
   "source": [
    "<!-- END QUESTION -->\n",
    "\n",
    "<!-- BEGIN QUESTION -->\n",
    "\n",
    "\n",
    "<br/>\n",
    "\n",
    "<hr style=\"border: 1px solid #fdb515;\" />\n",
    "\n",
    "### Question 8b\n",
    "\n",
    "Using the two above plots of the rows of $V^T$ as well as the original table, give a description of what it means for a point to be in the top-right quadrant of the 2-D scatter plot from Question 7.\n",
    "\n",
    "In other words, what is generally true about a state with relatively large positive value for `pc1` (right side of 2-D scatter plot)? For a large positive value for `pc2` (top side of 2-D scatter plot)?\n",
    "\n",
    "Notes:\n",
    "* `pc2` is pretty hard to interpret, and the staff doesn't really have a consensus on what it means either. We'll be nice when grading. \n",
    "* Principal components beyond the first are often hard to interpret (but not always; see the lab).\n",
    "\n",
    "<!--\n",
    "BEGIN QUESTION\n",
    "name: q8b\n",
    "manual: true\n",
    "points: 2\n",
    "-->"
   ]
  },
  {
   "cell_type": "markdown",
   "id": "7bb07ba0",
   "metadata": {},
   "source": [
    "_Type your answer here, replacing this text._"
   ]
  },
  {
   "cell_type": "markdown",
   "id": "5c2bed32",
   "metadata": {
    "deletable": false,
    "editable": false
   },
   "source": [
    "<!-- END QUESTION -->"
   ]
  },
  {
   "cell_type": "code",
   "execution_count": 67,
   "id": "1ba8039c",
   "metadata": {},
   "outputs": [],
   "source": [
    "# feel free to use this cell for scratch work. If you need more scratch space, add cells *below* this one.\n",
    "\n",
    "# Make sure to put your actual answer in the cell above where it says \"Type your answer here, replacing this text\""
   ]
  },
  {
   "cell_type": "markdown",
   "id": "1809d37c",
   "metadata": {
    "deletable": false,
    "editable": false
   },
   "source": [
    "<!-- BEGIN QUESTION -->\n",
    "\n",
    "<br/>\n",
    "<br/>\n",
    "\n",
    "<hr style=\"border: 1px solid #fdb515;\" />\n",
    "\n",
    "### Question 8c\n",
    "\n",
    "To get a better sense of whether our 2D scatterplot captures the whole story, create a **scree plot** for this data. In other words, plot the fraction of the total variance (y-axis) captured by the ith principal component (x-axis).\n",
    "\n",
    "*Hint:* Be sure to label your axes appropriately! You may find `plt.xticks()` ([documentation](https://matplotlib.org/3.5.0/api/_as_gen/matplotlib.pyplot.xticks.html)) helpful for formatting. Also check out the lab for more on scree plots.\n",
    "\n",
    "<!--\n",
    "BEGIN QUESTION\n",
    "name: q8c\n",
    "manual: true\n",
    "points: 2\n",
    "-->"
   ]
  },
  {
   "cell_type": "code",
   "execution_count": 59,
   "id": "37b36585",
   "metadata": {},
   "outputs": [
    {
     "data": {
      "text/plain": [
       "(51, 13)"
      ]
     },
     "execution_count": 59,
     "metadata": {},
     "output_type": "execute_result"
    }
   ],
   "source": [
    "df_standardized.shape"
   ]
  },
  {
   "cell_type": "code",
   "execution_count": 60,
   "id": "f80ece7d",
   "metadata": {
    "scrolled": true
   },
   "outputs": [
    {
     "data": {
      "text/plain": [
       "([<matplotlib.axis.XTick at 0x13da92a7bb0>,\n",
       "  <matplotlib.axis.XTick at 0x13da92a7b80>,\n",
       "  <matplotlib.axis.XTick at 0x13da92a77f0>,\n",
       "  <matplotlib.axis.XTick at 0x13da92bfb20>,\n",
       "  <matplotlib.axis.XTick at 0x13da92ec610>,\n",
       "  <matplotlib.axis.XTick at 0x13da92ecb20>,\n",
       "  <matplotlib.axis.XTick at 0x13da92ed5d0>,\n",
       "  <matplotlib.axis.XTick at 0x13da92ee080>,\n",
       "  <matplotlib.axis.XTick at 0x13da92eeb30>,\n",
       "  <matplotlib.axis.XTick at 0x13da968b4f0>,\n",
       "  <matplotlib.axis.XTick at 0x13da92ece20>,\n",
       "  <matplotlib.axis.XTick at 0x13da92efb80>,\n",
       "  <matplotlib.axis.XTick at 0x13da9300670>],\n",
       " [Text(1, 0, '1'),\n",
       "  Text(2, 0, '2'),\n",
       "  Text(3, 0, '3'),\n",
       "  Text(4, 0, '4'),\n",
       "  Text(5, 0, '5'),\n",
       "  Text(6, 0, '6'),\n",
       "  Text(7, 0, '7'),\n",
       "  Text(8, 0, '8'),\n",
       "  Text(9, 0, '9'),\n",
       "  Text(10, 0, '10'),\n",
       "  Text(11, 0, '11'),\n",
       "  Text(12, 0, '12'),\n",
       "  Text(13, 0, '13')])"
      ]
     },
     "execution_count": 60,
     "metadata": {},
     "output_type": "execute_result"
    },
    {
     "data": {
      "image/png": "[encoded data removed]",
      "text/plain": [
       "<Figure size 640x480 with 1 Axes>"
      ]
     },
     "metadata": {},
     "output_type": "display_data"
    }
   ],
   "source": [
    "plt.plot(np.arange(1,1+df_standardized.shape[1]),s**2/np.sum(s**2))\n",
    "plt.xticks(np.arange(1,1+df_standardized.shape[1]))"
   ]
  },
  {
   "cell_type": "markdown",
   "id": "7c3f5a08",
   "metadata": {},
   "source": [
    "<!-- END QUESTION -->\n",
    "\n",
    "\n",
    "\n",
    "<br/>\n",
    "\n",
    "From your scree plot above, you should see that the first two principal components capture a large portion of the variance in our cleaned data. It is partially for this reason that the 2D scatter plot of principal components was easy to interpret."
   ]
  },
  {
   "cell_type": "markdown",
   "id": "57af3305",
   "metadata": {
    "jp-MarkdownHeadingCollapsed": true,
    "nbgrader": {
     "grade": false,
     "grade_id": "finish",
     "locked": true,
     "schema_version": 2,
     "solution": false
    },
    "tags": []
   },
   "source": [
    "## Congratulations!\n",
    "\n",
    "Congrats! You are finished with this homework assignment."
   ]
  },
  {
   "cell_type": "markdown",
   "id": "7bcc4a80",
   "metadata": {
    "deletable": false,
    "editable": false
   },
   "source": [
    "---\n",
    "\n",
    "To double-check your work, the cell below will rerun all of the autograder tests."
   ]
  },
  {
   "cell_type": "code",
   "execution_count": 61,
   "id": "6020e6cf",
   "metadata": {
    "deletable": false,
    "editable": false
   },
   "outputs": [
    {
     "data": {
      "text/plain": [
       "q1a results: All test cases passed!\n",
       "\n",
       "q1b results: All test cases passed!\n",
       "\n",
       "q2 results: All test cases passed!\n",
       "\n",
       "q3 results: All test cases passed!\n",
       "\n",
       "q4 results: All test cases passed!\n",
       "\n",
       "q5 results: All test cases passed!\n",
       "\n",
       "q6b results: All test cases passed!\n",
       "\n",
       "q6c results: All test cases passed!\n",
       "\n",
       "q6d results: All test cases passed!\n",
       "\n",
       "q6e results: All test cases passed!"
      ]
     },
     "execution_count": 61,
     "metadata": {},
     "output_type": "execute_result"
    }
   ],
   "source": [
    "grader.check_all()"
   ]
  },
  {
   "cell_type": "markdown",
   "id": "06256247",
   "metadata": {
    "deletable": false,
    "editable": false
   },
   "source": [
    "## Submission\n",
    "\n",
    "Make sure you have run all cells in your notebook in order before running the cell below, so that all images/graphs appear in the output. The cell below will generate a zip file for you to submit. **Please save before exporting!**"
   ]
  },
  {
   "cell_type": "code",
   "execution_count": null,
   "id": "832a5213",
   "metadata": {
    "deletable": false,
    "editable": false
   },
   "outputs": [],
   "source": [
    "# Save your notebook first, then run this cell to export your submission.\n",
    "grader.export()"
   ]
  },
  {
   "cell_type": "markdown",
   "id": "becd26a7",
   "metadata": {},
   "source": [
    " "
   ]
  }
 ],
 "metadata": {
  "kernelspec": {
   "display_name": "Python 3 (ipykernel)",
   "language": "python",
   "name": "python3"
  },
  "language_info": {
   "codemirror_mode": {
    "name": "ipython",
    "version": 3
   },
   "file_extension": ".py",
   "mimetype": "text/x-python",
   "name": "python",
   "nbconvert_exporter": "python",
   "pygments_lexer": "ipython3",
   "version": "3.10.9"
  }
 },
 "nbformat": 4,
 "nbformat_minor": 5
}
